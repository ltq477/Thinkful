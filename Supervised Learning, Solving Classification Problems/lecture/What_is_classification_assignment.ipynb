{
 "cells": [
  {
   "cell_type": "markdown",
   "metadata": {
    "colab_type": "text",
    "id": "nVniDlM8p1bo"
   },
   "source": [
    "## What is classification Assignment\n",
    "\n",
    "\n",
    "### 1. Which of the following is a classification problem?\n",
    "Developing a good intuition for which problems are classification problems is important. Of the scenarios listed below select the ones that you think are classification problems and justify your choice.\n",
    "\n",
    " 1. Using labeled historic pricing data to predict if the price of gold will increase or decrease tomorrow\n",
    " 2. Using labeled pricing data to predict the price of gold tomorrow.\n",
    " 3. Using unlabeled data to cluster job candidates into roles\n",
    " 4. Using labeled data to predict the number of sales of a new song\n",
    " 5. Training a drone to recognize a certain type of terrain from labeled data\n"
   ]
  },
  {
   "cell_type": "code",
   "execution_count": 0,
   "metadata": {
    "colab": {},
    "colab_type": "code",
    "id": "tnw9lz_epyTF"
   },
   "outputs": [],
   "source": [
    "import pandas as pd\n",
    "\n",
    "data = pd.read_csv('http://archive.ics.uci.edu/ml/machine-learning-databases/00468/online_shoppers_intention.csv')\n"
   ]
  },
  {
   "cell_type": "markdown",
   "metadata": {
    "colab_type": "text",
    "id": "bPqf7P04uXyc"
   },
   "source": [
    "### 2. Exploratory Data Analysis\n",
    "Before building classification models you need to perform exploratory data analysis to understand the data that you have. Above some data have been loaded into a Pandas DataFrame named **data**. This data is from an online shopping site. It is a record of visitors to the website, various actions and measurements of their behavior on the site and whether the visit ended in them purchasing something.\n",
    "\n",
    "Use the pandas `head()`, `info()`, and `describe()` methods to explore the data.\n",
    "\n",
    "1. What types are the attributes?\n",
    "2. Is there any missing data?\n",
    "3. Are any attributes continuous?\n",
    "4. Which attribute is most likely the target variable?\n",
    "5. How many predictor variables (or features) are there?\n",
    "6. Which attributes will have to be pre processed before being used as a feature?"
   ]
  }
 ],
 "metadata": {
  "colab": {
   "name": "What is classification assignment.ipynb",
   "provenance": [],
   "version": "0.3.2"
  },
  "kernelspec": {
   "display_name": "Python 3",
   "language": "python",
   "name": "python3"
  },
  "language_info": {
   "codemirror_mode": {
    "name": "ipython",
    "version": 3
   },
   "file_extension": ".py",
   "mimetype": "text/x-python",
   "name": "python",
   "nbconvert_exporter": "python",
   "pygments_lexer": "ipython3",
   "version": "3.7.6"
  }
 },
 "nbformat": 4,
 "nbformat_minor": 1
}
