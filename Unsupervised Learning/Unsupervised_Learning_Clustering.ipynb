{
  "nbformat": 4,
  "nbformat_minor": 0,
  "metadata": {
    "kernelspec": {
      "display_name": "Python 3",
      "language": "python",
      "name": "python3"
    },
    "language_info": {
      "codemirror_mode": {
        "name": "ipython",
        "version": 3
      },
      "file_extension": ".py",
      "mimetype": "text/x-python",
      "name": "python",
      "nbconvert_exporter": "python",
      "pygments_lexer": "ipython3",
      "version": "3.7.7"
    },
    "colab": {
      "name": "Unsupervised Learning - Clustering.ipynb",
      "provenance": []
    }
  },
  "cells": [
    {
      "cell_type": "code",
      "metadata": {
        "id": "0pNGymHU2515",
        "colab_type": "code",
        "colab": {},
        "outputId": "60896070-f547-4a06-8c0f-a33327b6ea7d"
      },
      "source": [
        "import numpy as np\n",
        "import pandas as pd\n",
        "import matplotlib.pyplot as plt\n",
        "import seaborn as sns\n",
        "from sqlalchemy import create_engine\n",
        "\n",
        "from sklearn.cluster import KMeans\n",
        "from sklearn.preprocessing import StandardScaler\n",
        "from sklearn.decomposition import PCA\n",
        "\n",
        "%matplotlib inline\n",
        "\n",
        "import warnings\n",
        "warnings.filterwarnings('ignore')\n",
        "\n",
        "postgres_user = 'dsbc_student'\n",
        "postgres_pw = '7*.8G9QH21'\n",
        "postgres_host = '142.93.121.174'\n",
        "postgres_port = '5432'\n",
        "postgres_db = 'heartdisease'\n",
        "\n",
        "#engine = create_engine('postgresql://{}:{}@{}:{}/{}'.format(\n",
        "#    postgres_user, postgres_pw, postgres_host, postgres_port, postgres_db))\n",
        "\n",
        "#heart_df = pd.read_sql_query('select * from heartdisease',con=engine)\n",
        "\n",
        "heart_df = pd.read_csv('heart.csv')\n",
        "#engine.dispose()\n",
        "\n",
        "heart_df.info()\n",
        "heart_df.head()"
      ],
      "execution_count": null,
      "outputs": [
        {
          "output_type": "stream",
          "text": [
            "<class 'pandas.core.frame.DataFrame'>\n",
            "RangeIndex: 303 entries, 0 to 302\n",
            "Data columns (total 14 columns):\n",
            " #   Column    Non-Null Count  Dtype  \n",
            "---  ------    --------------  -----  \n",
            " 0   age       303 non-null    int64  \n",
            " 1   sex       303 non-null    int64  \n",
            " 2   cp        303 non-null    int64  \n",
            " 3   trestbps  303 non-null    int64  \n",
            " 4   chol      303 non-null    int64  \n",
            " 5   fbs       303 non-null    int64  \n",
            " 6   restecg   303 non-null    int64  \n",
            " 7   thalach   303 non-null    int64  \n",
            " 8   exang     303 non-null    int64  \n",
            " 9   oldpeak   303 non-null    float64\n",
            " 10  slope     303 non-null    int64  \n",
            " 11  ca        303 non-null    int64  \n",
            " 12  thal      303 non-null    int64  \n",
            " 13  target    303 non-null    int64  \n",
            "dtypes: float64(1), int64(13)\n",
            "memory usage: 33.3 KB\n"
          ],
          "name": "stdout"
        },
        {
          "output_type": "execute_result",
          "data": {
            "text/html": [
              "<div>\n",
              "<style scoped>\n",
              "    .dataframe tbody tr th:only-of-type {\n",
              "        vertical-align: middle;\n",
              "    }\n",
              "\n",
              "    .dataframe tbody tr th {\n",
              "        vertical-align: top;\n",
              "    }\n",
              "\n",
              "    .dataframe thead th {\n",
              "        text-align: right;\n",
              "    }\n",
              "</style>\n",
              "<table border=\"1\" class=\"dataframe\">\n",
              "  <thead>\n",
              "    <tr style=\"text-align: right;\">\n",
              "      <th></th>\n",
              "      <th>age</th>\n",
              "      <th>sex</th>\n",
              "      <th>cp</th>\n",
              "      <th>trestbps</th>\n",
              "      <th>chol</th>\n",
              "      <th>fbs</th>\n",
              "      <th>restecg</th>\n",
              "      <th>thalach</th>\n",
              "      <th>exang</th>\n",
              "      <th>oldpeak</th>\n",
              "      <th>slope</th>\n",
              "      <th>ca</th>\n",
              "      <th>thal</th>\n",
              "      <th>target</th>\n",
              "    </tr>\n",
              "  </thead>\n",
              "  <tbody>\n",
              "    <tr>\n",
              "      <th>0</th>\n",
              "      <td>63</td>\n",
              "      <td>1</td>\n",
              "      <td>3</td>\n",
              "      <td>145</td>\n",
              "      <td>233</td>\n",
              "      <td>1</td>\n",
              "      <td>0</td>\n",
              "      <td>150</td>\n",
              "      <td>0</td>\n",
              "      <td>2.3</td>\n",
              "      <td>0</td>\n",
              "      <td>0</td>\n",
              "      <td>1</td>\n",
              "      <td>1</td>\n",
              "    </tr>\n",
              "    <tr>\n",
              "      <th>1</th>\n",
              "      <td>37</td>\n",
              "      <td>1</td>\n",
              "      <td>2</td>\n",
              "      <td>130</td>\n",
              "      <td>250</td>\n",
              "      <td>0</td>\n",
              "      <td>1</td>\n",
              "      <td>187</td>\n",
              "      <td>0</td>\n",
              "      <td>3.5</td>\n",
              "      <td>0</td>\n",
              "      <td>0</td>\n",
              "      <td>2</td>\n",
              "      <td>1</td>\n",
              "    </tr>\n",
              "    <tr>\n",
              "      <th>2</th>\n",
              "      <td>41</td>\n",
              "      <td>0</td>\n",
              "      <td>1</td>\n",
              "      <td>130</td>\n",
              "      <td>204</td>\n",
              "      <td>0</td>\n",
              "      <td>0</td>\n",
              "      <td>172</td>\n",
              "      <td>0</td>\n",
              "      <td>1.4</td>\n",
              "      <td>2</td>\n",
              "      <td>0</td>\n",
              "      <td>2</td>\n",
              "      <td>1</td>\n",
              "    </tr>\n",
              "    <tr>\n",
              "      <th>3</th>\n",
              "      <td>56</td>\n",
              "      <td>1</td>\n",
              "      <td>1</td>\n",
              "      <td>120</td>\n",
              "      <td>236</td>\n",
              "      <td>0</td>\n",
              "      <td>1</td>\n",
              "      <td>178</td>\n",
              "      <td>0</td>\n",
              "      <td>0.8</td>\n",
              "      <td>2</td>\n",
              "      <td>0</td>\n",
              "      <td>2</td>\n",
              "      <td>1</td>\n",
              "    </tr>\n",
              "    <tr>\n",
              "      <th>4</th>\n",
              "      <td>57</td>\n",
              "      <td>0</td>\n",
              "      <td>0</td>\n",
              "      <td>120</td>\n",
              "      <td>354</td>\n",
              "      <td>0</td>\n",
              "      <td>1</td>\n",
              "      <td>163</td>\n",
              "      <td>1</td>\n",
              "      <td>0.6</td>\n",
              "      <td>2</td>\n",
              "      <td>0</td>\n",
              "      <td>2</td>\n",
              "      <td>1</td>\n",
              "    </tr>\n",
              "  </tbody>\n",
              "</table>\n",
              "</div>"
            ],
            "text/plain": [
              "   age  sex  cp  trestbps  chol  fbs  restecg  thalach  exang  oldpeak  slope  \\\n",
              "0   63    1   3       145   233    1        0      150      0      2.3      0   \n",
              "1   37    1   2       130   250    0        1      187      0      3.5      0   \n",
              "2   41    0   1       130   204    0        0      172      0      1.4      2   \n",
              "3   56    1   1       120   236    0        1      178      0      0.8      2   \n",
              "4   57    0   0       120   354    0        1      163      1      0.6      2   \n",
              "\n",
              "   ca  thal  target  \n",
              "0   0     1       1  \n",
              "1   0     2       1  \n",
              "2   0     2       1  \n",
              "3   0     2       1  \n",
              "4   0     2       1  "
            ]
          },
          "metadata": {
            "tags": []
          },
          "execution_count": 1
        }
      ]
    },
    {
      "cell_type": "code",
      "metadata": {
        "id": "edKvJrfD252D",
        "colab_type": "code",
        "colab": {}
      },
      "source": [
        "X = heart_df.iloc[:, :13]\n",
        "y = heart_df.iloc[:, 13]\n",
        "\n",
        "X = X.replace(to_replace='?', value=0)\n",
        "\n",
        "y = np.where(y > 0, 0, 1)"
      ],
      "execution_count": null,
      "outputs": []
    },
    {
      "cell_type": "code",
      "metadata": {
        "id": "vAtnvfD7252J",
        "colab_type": "code",
        "colab": {}
      },
      "source": [
        "#Scale / Standardize the data\n",
        "scaler = StandardScaler()\n",
        "X = scaler.fit_transform(X)"
      ],
      "execution_count": null,
      "outputs": []
    },
    {
      "cell_type": "code",
      "metadata": {
        "id": "rBEUj-Nj252O",
        "colab_type": "code",
        "colab": {}
      },
      "source": [
        "X_pca = PCA(n_components=2).fit_transform(X)"
      ],
      "execution_count": null,
      "outputs": []
    },
    {
      "cell_type": "code",
      "metadata": {
        "id": "ckF6nohK252U",
        "colab_type": "code",
        "colab": {}
      },
      "source": [
        "k_means = KMeans(n_clusters =2, random_state=42)\n",
        "%timeit \n",
        "y_pred = k_means.fit_predict(X)\n"
      ],
      "execution_count": null,
      "outputs": []
    },
    {
      "cell_type": "code",
      "metadata": {
        "id": "mJjE5nB8252Z",
        "colab_type": "code",
        "colab": {},
        "outputId": "52a26cda-b1b2-40b6-c5a8-a6ba40146bfa"
      },
      "source": [
        "plt.scatter(X_pca[:,0],X_pca[:,1], c=y_pred)\n",
        "plt.show()"
      ],
      "execution_count": null,
      "outputs": [
        {
          "output_type": "display_data",
          "data": {
            "image/png": "[encoded data removed]",
            "text/plain": [
              "<Figure size 432x288 with 1 Axes>"
            ]
          },
          "metadata": {
            "tags": [],
            "needs_background": "light"
          }
        }
      ]
    },
    {
      "cell_type": "code",
      "metadata": {
        "id": "Eas4c3ZJ252f",
        "colab_type": "code",
        "colab": {},
        "outputId": "f4221fff-cc4f-448a-9531-3f25ae977eca"
      },
      "source": [
        "X_pca[:,1]"
      ],
      "execution_count": null,
      "outputs": [
        {
          "output_type": "execute_result",
          "data": {
            "text/plain": [
              "array([ 2.32127028e+00, -9.57350982e-01,  4.28847737e-02, -4.95337323e-01,\n",
              "        3.01156175e-01, -3.82882350e-01,  1.46021954e+00, -1.15199470e+00,\n",
              "        1.17802505e+00,  6.00440468e-02, -4.31111662e-01,  6.66082010e-01,\n",
              "       -3.62122452e-01, -3.66100880e-01,  3.31505033e+00,  3.38842792e-02,\n",
              "        1.44304375e+00,  1.56563220e+00, -5.93288357e-01,  2.04509682e+00,\n",
              "       -7.39533549e-01, -1.05478211e+00, -9.44816640e-01,  9.21609753e-01,\n",
              "       -1.31154957e+00,  2.60255695e+00,  1.29433620e+00, -1.28905546e+00,\n",
              "        4.11799172e+00,  6.83863299e-01, -9.04060838e-01, -1.23607299e+00,\n",
              "       -4.11500959e-01,  3.70030395e-01, -4.34762882e-01, -9.36466989e-02,\n",
              "        2.27149641e+00,  4.38220805e-01,  2.01456281e+00,  3.21168571e+00,\n",
              "        1.74775482e+00, -1.64062709e-01, -2.29447547e+00,  5.82251192e-01,\n",
              "        6.01398620e-01, -4.09448669e-02,  2.12736619e-01,  3.70308829e-01,\n",
              "        1.42913226e+00,  7.25685018e-01,  1.10788521e+00,  3.97205643e-01,\n",
              "       -7.42857672e-03, -9.81680314e-01,  1.84323020e+00, -5.46593725e-01,\n",
              "       -7.06723512e-01, -7.52005344e-01, -8.91051335e-01,  1.22947541e+00,\n",
              "        2.50933383e+00, -7.38223238e-01,  2.47639537e-01, -8.95169695e-01,\n",
              "        1.51234405e+00, -8.48789968e-01, -1.80679343e+00,  4.01042008e-01,\n",
              "       -1.13675227e+00,  1.91834447e-01, -2.15242599e-01, -1.98769071e+00,\n",
              "       -1.14139417e+00, -4.08137174e-01, -1.84934457e-01,  1.00307778e+00,\n",
              "        8.79489279e-01, -5.38710651e-01,  2.56463178e-01, -1.08443288e+00,\n",
              "       -9.40849473e-01,  1.48892731e-01,  9.78535417e-01,  1.60771202e+00,\n",
              "       -6.84698902e-01,  3.19974398e+00,  2.32348803e-01, -1.16808381e+00,\n",
              "       -7.24242833e-02, -1.55839503e-01,  7.71701262e-01, -1.53038550e+00,\n",
              "        3.47178140e-01,  1.70969179e+00, -1.09040659e+00, -1.09883802e+00,\n",
              "        2.16304236e+00, -5.17554030e-01,  5.76595678e-03,  1.58856809e+00,\n",
              "        8.16829513e-01,  1.57653769e+00,  1.06586014e+00, -3.44255927e-01,\n",
              "       -5.47149621e-01,  1.06261808e+00,  2.84941902e+00, -2.94463278e-01,\n",
              "        3.62769746e-02,  2.80553463e-02,  1.90838903e+00,  4.80380395e-01,\n",
              "        1.55192727e+00, -2.14273598e+00, -1.48979053e-01, -3.84985508e-01,\n",
              "       -5.29495703e-01, -3.11568230e-01, -7.16422029e-01, -1.91342721e-01,\n",
              "        9.69770490e-01,  5.17978486e-01, -1.66117333e-01,  8.53020352e-01,\n",
              "       -1.02813770e+00, -8.49784825e-01, -1.70025940e+00,  2.29544296e+00,\n",
              "        8.87683868e-01,  1.14033501e+00,  1.34730906e+00,  5.03005648e-01,\n",
              "       -7.25253420e-01, -1.47362290e+00,  2.73037781e-01,  1.82338061e-01,\n",
              "        1.02525927e+00,  9.96422582e-01, -1.75577351e+00, -1.13242627e+00,\n",
              "        1.15509250e+00, -1.10576638e+00, -2.71697450e-01,  1.63349949e-01,\n",
              "        1.00283690e+00,  1.43371763e+00, -2.73621086e-03,  1.82350637e+00,\n",
              "       -8.09381006e-01, -1.03745572e+00,  1.15403871e+00, -4.08170719e-01,\n",
              "        1.57236212e+00,  2.38152957e+00,  5.03633148e-02, -1.36373081e-01,\n",
              "       -2.00484134e-01, -1.67346422e+00, -5.29213408e-01, -2.73396006e-01,\n",
              "       -6.19006677e-01,  1.26002507e+00, -1.67406427e+00, -6.04442562e-01,\n",
              "       -6.04442562e-01,  8.49963994e-01, -9.51270294e-01,  1.28327713e+00,\n",
              "       -1.19898712e-01, -5.65430839e-01,  1.16507761e+00, -1.68196011e+00,\n",
              "        1.68105218e-01,  2.50122842e-01, -1.15735347e+00, -3.05618567e+00,\n",
              "       -6.22649680e-01,  1.31739406e+00, -2.60320608e+00,  2.79448715e-01,\n",
              "       -7.54597839e-01,  1.16804208e+00,  1.59073877e+00, -3.74670222e-01,\n",
              "       -4.90202634e-01, -6.77304925e-01, -1.17464142e+00, -1.31513780e+00,\n",
              "       -3.53048268e-01, -2.09653759e+00, -5.68084873e-01, -1.12872025e+00,\n",
              "       -1.77475747e+00, -2.30563001e-01,  2.78204770e-01,  3.63324103e-01,\n",
              "       -2.49629513e-01,  6.06859830e-01, -1.39438828e+00,  3.28011328e-01,\n",
              "       -1.30075367e+00, -9.95774976e-01, -4.00770853e-01,  2.31391554e+00,\n",
              "        6.46738596e-01, -1.44794737e+00, -1.47427040e+00,  1.15863210e+00,\n",
              "       -1.17577198e+00, -1.38013666e+00,  1.74943974e-02, -1.52222713e+00,\n",
              "       -2.26958995e+00,  7.12705025e-01,  6.50097304e-02,  5.89018929e-01,\n",
              "        7.05765553e-01,  9.41076514e-01, -3.64042767e-02, -2.01888579e-01,\n",
              "        2.36151943e+00, -1.95314675e+00,  2.54563652e+00,  2.55026802e+00,\n",
              "       -2.24559036e+00, -1.27610247e+00, -8.60889850e-02, -3.15972941e+00,\n",
              "        1.80975707e+00, -3.82242820e-01, -9.13453066e-01,  1.75059368e+00,\n",
              "       -2.16699666e-02, -9.02727928e-01,  1.01099038e+00, -1.00595328e+00,\n",
              "        1.70739682e-01,  4.50275681e-01,  8.78937102e-01, -1.75780455e+00,\n",
              "        4.58581276e-01,  8.82797166e-01,  6.75245670e-01, -8.70841338e-01,\n",
              "       -9.55359879e-01, -7.88012595e-01,  1.08946575e+00,  8.28025663e-01,\n",
              "        1.82658564e+00,  1.13012802e+00, -1.10586565e+00, -3.61745363e-01,\n",
              "        1.95187504e+00, -5.67301300e-01,  1.75405581e+00, -5.51876851e-01,\n",
              "       -9.57498551e-01, -1.43444058e+00,  3.55678315e-01, -1.84943873e+00,\n",
              "        1.92708014e+00, -1.13851558e+00, -1.63942506e+00, -2.57026849e-01,\n",
              "       -1.66402855e+00, -8.78329825e-01,  7.40691621e-01, -6.62998751e-01,\n",
              "       -8.24956072e-01, -2.27227446e-01, -1.16363059e+00,  5.54206652e-01,\n",
              "       -7.36114933e-01, -1.48838837e+00, -1.50254445e+00, -1.19396153e+00,\n",
              "       -7.87864065e-01, -6.06163516e-01,  2.83672363e+00, -1.03591185e+00,\n",
              "       -9.90866377e-01, -1.62417337e-01,  9.72556211e-01, -1.07337582e+00,\n",
              "       -8.25868484e-01, -1.22909370e+00,  4.70956394e-01,  8.73505515e-01,\n",
              "       -1.38606749e+00, -1.54885040e+00, -3.49594568e-01, -5.31447414e-01,\n",
              "        2.27901051e+00,  8.36052633e-01, -2.38918560e+00, -8.59185999e-01,\n",
              "       -5.79482296e-01,  1.46786667e+00, -5.19529495e-01, -1.04575189e+00,\n",
              "        4.78261911e-01, -2.33681621e+00,  1.06851556e+00])"
            ]
          },
          "metadata": {
            "tags": []
          },
          "execution_count": 8
        }
      ]
    },
    {
      "cell_type": "code",
      "metadata": {
        "id": "d_OY8Zmr252l",
        "colab_type": "code",
        "colab": {},
        "outputId": "62f5a832-8eed-46f7-bb37-61ec11b7542b"
      },
      "source": [
        "print(y_pred)"
      ],
      "execution_count": null,
      "outputs": [
        {
          "output_type": "stream",
          "text": [
            "[0 0 0 0 0 0 0 0 0 0 0 0 0 0 0 0 0 1 0 0 0 0 0 1 0 0 0 0 0 0 0 0 0 0 0 0 0\n",
            " 0 0 0 0 0 1 0 0 0 0 0 0 0 0 0 1 0 0 0 0 0 0 0 0 0 0 0 0 0 0 0 0 0 0 0 0 0\n",
            " 0 0 0 0 0 0 0 0 0 0 0 0 0 0 0 0 0 0 0 0 0 1 0 0 0 0 0 1 0 0 0 0 0 0 0 0 0\n",
            " 0 0 0 0 0 0 0 0 0 1 0 0 0 0 0 0 0 0 1 0 0 0 0 0 0 0 0 1 1 0 0 0 0 0 0 0 0\n",
            " 0 0 0 1 0 0 0 0 0 0 1 0 0 0 0 0 0 1 1 1 1 1 0 0 0 0 1 1 1 0 1 1 1 1 0 0 1\n",
            " 0 1 1 0 0 1 1 1 1 0 1 0 1 1 0 0 1 1 1 1 0 1 1 1 1 0 1 0 1 1 1 1 1 1 1 1 1\n",
            " 0 1 1 1 1 1 0 1 0 1 1 1 1 0 0 1 1 0 1 1 1 1 1 0 1 1 0 1 1 1 1 1 0 1 1 1 1\n",
            " 0 1 0 1 1 1 1 1 0 1 1 0 0 1 0 1 0 1 0 0 1 1 0 0 0 1 1 0 0 1 1 0 1 1 0 1 1\n",
            " 1 1 1 0 1 1 0]\n"
          ],
          "name": "stdout"
        }
      ]
    },
    {
      "cell_type": "code",
      "metadata": {
        "id": "AaK4D3sS252q",
        "colab_type": "code",
        "colab": {}
      },
      "source": [
        "heart_df['clusters'] = y_pred"
      ],
      "execution_count": null,
      "outputs": []
    },
    {
      "cell_type": "code",
      "metadata": {
        "id": "X1N9yp6f252v",
        "colab_type": "code",
        "colab": {},
        "outputId": "de48d6f1-883f-466a-c130-aac125d0afe4"
      },
      "source": [
        "heart_df.head()"
      ],
      "execution_count": null,
      "outputs": [
        {
          "output_type": "execute_result",
          "data": {
            "text/html": [
              "<div>\n",
              "<style scoped>\n",
              "    .dataframe tbody tr th:only-of-type {\n",
              "        vertical-align: middle;\n",
              "    }\n",
              "\n",
              "    .dataframe tbody tr th {\n",
              "        vertical-align: top;\n",
              "    }\n",
              "\n",
              "    .dataframe thead th {\n",
              "        text-align: right;\n",
              "    }\n",
              "</style>\n",
              "<table border=\"1\" class=\"dataframe\">\n",
              "  <thead>\n",
              "    <tr style=\"text-align: right;\">\n",
              "      <th></th>\n",
              "      <th>age</th>\n",
              "      <th>sex</th>\n",
              "      <th>cp</th>\n",
              "      <th>trestbps</th>\n",
              "      <th>chol</th>\n",
              "      <th>fbs</th>\n",
              "      <th>restecg</th>\n",
              "      <th>thalach</th>\n",
              "      <th>exang</th>\n",
              "      <th>oldpeak</th>\n",
              "      <th>slope</th>\n",
              "      <th>ca</th>\n",
              "      <th>thal</th>\n",
              "      <th>target</th>\n",
              "      <th>clusters</th>\n",
              "    </tr>\n",
              "  </thead>\n",
              "  <tbody>\n",
              "    <tr>\n",
              "      <th>0</th>\n",
              "      <td>63</td>\n",
              "      <td>1</td>\n",
              "      <td>3</td>\n",
              "      <td>145</td>\n",
              "      <td>233</td>\n",
              "      <td>1</td>\n",
              "      <td>0</td>\n",
              "      <td>150</td>\n",
              "      <td>0</td>\n",
              "      <td>2.3</td>\n",
              "      <td>0</td>\n",
              "      <td>0</td>\n",
              "      <td>1</td>\n",
              "      <td>1</td>\n",
              "      <td>0</td>\n",
              "    </tr>\n",
              "    <tr>\n",
              "      <th>1</th>\n",
              "      <td>37</td>\n",
              "      <td>1</td>\n",
              "      <td>2</td>\n",
              "      <td>130</td>\n",
              "      <td>250</td>\n",
              "      <td>0</td>\n",
              "      <td>1</td>\n",
              "      <td>187</td>\n",
              "      <td>0</td>\n",
              "      <td>3.5</td>\n",
              "      <td>0</td>\n",
              "      <td>0</td>\n",
              "      <td>2</td>\n",
              "      <td>1</td>\n",
              "      <td>0</td>\n",
              "    </tr>\n",
              "    <tr>\n",
              "      <th>2</th>\n",
              "      <td>41</td>\n",
              "      <td>0</td>\n",
              "      <td>1</td>\n",
              "      <td>130</td>\n",
              "      <td>204</td>\n",
              "      <td>0</td>\n",
              "      <td>0</td>\n",
              "      <td>172</td>\n",
              "      <td>0</td>\n",
              "      <td>1.4</td>\n",
              "      <td>2</td>\n",
              "      <td>0</td>\n",
              "      <td>2</td>\n",
              "      <td>1</td>\n",
              "      <td>0</td>\n",
              "    </tr>\n",
              "    <tr>\n",
              "      <th>3</th>\n",
              "      <td>56</td>\n",
              "      <td>1</td>\n",
              "      <td>1</td>\n",
              "      <td>120</td>\n",
              "      <td>236</td>\n",
              "      <td>0</td>\n",
              "      <td>1</td>\n",
              "      <td>178</td>\n",
              "      <td>0</td>\n",
              "      <td>0.8</td>\n",
              "      <td>2</td>\n",
              "      <td>0</td>\n",
              "      <td>2</td>\n",
              "      <td>1</td>\n",
              "      <td>0</td>\n",
              "    </tr>\n",
              "    <tr>\n",
              "      <th>4</th>\n",
              "      <td>57</td>\n",
              "      <td>0</td>\n",
              "      <td>0</td>\n",
              "      <td>120</td>\n",
              "      <td>354</td>\n",
              "      <td>0</td>\n",
              "      <td>1</td>\n",
              "      <td>163</td>\n",
              "      <td>1</td>\n",
              "      <td>0.6</td>\n",
              "      <td>2</td>\n",
              "      <td>0</td>\n",
              "      <td>2</td>\n",
              "      <td>1</td>\n",
              "      <td>0</td>\n",
              "    </tr>\n",
              "  </tbody>\n",
              "</table>\n",
              "</div>"
            ],
            "text/plain": [
              "   age  sex  cp  trestbps  chol  fbs  restecg  thalach  exang  oldpeak  slope  \\\n",
              "0   63    1   3       145   233    1        0      150      0      2.3      0   \n",
              "1   37    1   2       130   250    0        1      187      0      3.5      0   \n",
              "2   41    0   1       130   204    0        0      172      0      1.4      2   \n",
              "3   56    1   1       120   236    0        1      178      0      0.8      2   \n",
              "4   57    0   0       120   354    0        1      163      1      0.6      2   \n",
              "\n",
              "   ca  thal  target  clusters  \n",
              "0   0     1       1         0  \n",
              "1   0     2       1         0  \n",
              "2   0     2       1         0  \n",
              "3   0     2       1         0  \n",
              "4   0     2       1         0  "
            ]
          },
          "metadata": {
            "tags": []
          },
          "execution_count": 11
        }
      ]
    },
    {
      "cell_type": "code",
      "metadata": {
        "id": "PaOD_qF8252z",
        "colab_type": "code",
        "colab": {},
        "outputId": "4e0f020e-804f-4675-e885-c2d2f4f175c9"
      },
      "source": [
        "sns.countplot(x=heart_df.clusters, hue=heart_df.sex)"
      ],
      "execution_count": null,
      "outputs": [
        {
          "output_type": "execute_result",
          "data": {
            "text/plain": [
              "<matplotlib.axes._subplots.AxesSubplot at 0x2a503414b88>"
            ]
          },
          "metadata": {
            "tags": []
          },
          "execution_count": 12
        },
        {
          "output_type": "display_data",
          "data": {
            "image/png": "[encoded data removed]",
            "text/plain": [
              "<Figure size 432x288 with 1 Axes>"
            ]
          },
          "metadata": {
            "tags": [],
            "needs_background": "light"
          }
        }
      ]
    },
    {
      "cell_type": "code",
      "metadata": {
        "id": "vNDhQ5Dk2524",
        "colab_type": "code",
        "colab": {},
        "outputId": "d169a180-e7c9-4272-8472-1259a6882502"
      },
      "source": [
        "sns.boxplot(x=heart_df.clusters, y=heart_df.age)"
      ],
      "execution_count": null,
      "outputs": [
        {
          "output_type": "execute_result",
          "data": {
            "text/plain": [
              "<matplotlib.axes._subplots.AxesSubplot at 0x2a503480248>"
            ]
          },
          "metadata": {
            "tags": []
          },
          "execution_count": 13
        },
        {
          "output_type": "display_data",
          "data": {
            "image/png": "[encoded data removed]",
            "text/plain": [
              "<Figure size 432x288 with 1 Axes>"
            ]
          },
          "metadata": {
            "tags": [],
            "needs_background": "light"
          }
        }
      ]
    },
    {
      "cell_type": "code",
      "metadata": {
        "id": "W1VMGPcp2529",
        "colab_type": "code",
        "colab": {}
      },
      "source": [
        ""
      ],
      "execution_count": null,
      "outputs": []
    }
  ]
}