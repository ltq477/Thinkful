{
 "cells": [
  {
   "cell_type": "markdown",
   "metadata": {},
   "source": [
    "# What is Natural Language Processing\n",
    "\n",
    "Before moving on further, we need to define what NLP refers to. **In a nutshell, NLP is the discipline that contains approaches, algorithms, and techniques that aim to understand human language**. It's a broad area of research and contains multiple subfields with their own concepts, applications, and techniques. According to Wikipedia:\n",
    "\n",
    "> \"Natural language processing (NLP) is a subfield of computer science, information engineering, and artificial intelligence concerned with the interactions between computers and human (natural) languages, in particular how to program computers to process and analyze large amounts of natural language data. Challenges in natural language processing frequently involve speech recognition, natural language understanding, and natural language generation.\" - [Wikipedia](https://en.wikipedia.org/wiki/Natural_language_processing)\n",
    "\n",
    "As the Wikipedia definition states it, we analyze the human language by using techniques from NLP. Although NLP dates back to 1950s, the techniques we'll cover in this module is relatively new. In many of the NLP tasks, the current state of the art includes statistical and machine learning methods. So, our focus in this module is to introduce you to the basic statistical and machine learning techniques that are fundamental in NLP applications. In particular, we'll apply machine learning techniques to demonstrate **how to classify text**, **how to develop a chatbot** and **how to generate sentences** that seem to be written by humans for the purpose of making you familiar with the basics of current NLP methods and pace the way for you to jump-start in the vast field of NLP. \n",
    "\n",
    "That being said, let's outline some fundamental tasks that are of high importance and popularity in NLP:\n",
    "\n",
    "1. **Text classification** is one of the most important tasks that has wide applicability in the industry. It refers to categorizing text data into predefined classes. You are already familiar with these kinds of classification tasks.\n",
    "\n",
    "2. **Part of speech tagging** is one of the classical tasks in linguistic and it refers to determining the tags of the individual words in a sentence.\n",
    "\n",
    "3. **Named entity recognition** aims to find the named entities like persons, locations, organizations, etc. in a sentence.\n",
    "\n",
    "4. **Language modeling** refers to numerically representing a human language by preserving the meanings of the words. This task is usually handled by unsupervised learning methods and it's one of the most important topics in the current NLP research. \n",
    "\n",
    "5. **Machine translation** is another popular field of NLP that aims to translate one language into another one without any human intervention.\n",
    "\n",
    "6. **Language generation** gained popularity in the recent years where the goal is to make algorithms generate human language texts that are indistinguishable from the ones that are written by humans.\n",
    "\n",
    "The list above is not exhaustive and it only covers a small number of fields that we think are important for you to know their presences. Covering all of these topics in depth requires the space of a couple of books. Hence, our goal in this module is to introduce you the basic toolkits and the methods that make you confident in advancing your skills and knowledge in NLP."
   ]
  },
  {
   "cell_type": "markdown",
   "metadata": {},
   "source": [
    "# Applications of NLP\n",
    "\n",
    "As we said before, data scientists with NLP skills are in high demand in the industry. That's because there are many real-world applications that involve NLP. Here, we mention about a few fascinating applications that are brought to life with the help of the advances in the NLP techniques in recent years. This should give you an idea of what NLP can accomplish in its current state and motivate you to learn it more!\n",
    "\n",
    "## Language translation\n",
    "\n",
    "Probably the most well-known NLP application is the translation service of Google. Having been around for several years, many people use it to translate a sentence from one language to another. You can check out and play with the Google translate page [here](https://translate.google.com/) if you haven't already.\n",
    "\n",
    "As we mentioned before, the application area of translating a text from one language to another is known as **machine translation**. Although machine translation services have been with us for a while, the underlying algorithms that bring them to life are changing rapidly and the qualities of these services are increasing constantly. Nowadays, the main driving force behind the machine translation systems are deep learning models."
   ]
  },
  {
   "cell_type": "markdown",
   "metadata": {},
   "source": [
    "## Digital assistants\n",
    "\n",
    "Amazon Alexa, Apple Siri, Google Assistant, and Microsoft Cortana all share the same underlying technology in common, that is *speech and text understanding*. All these digital assistants understand the language we speak and take actions based on it. Understanding the words we speak occurs in two stages: First, these assistants need to convert our voices into the words. This task is known as **speech recognition** and it's another field of data science that we won't cover in this course. After these assistants turn our speeches into the text, the next stage is to apply NLP techniques to understand what we mean and rest their actions upon our intends.\n",
    "\n",
    "To get an idea of where the capabilities of digital assistants reached, the gif below shows a conversation between Google Assistant and a real hair saloon where Google Assistant makes a hair-cut appointment on behalf of someone:\n",
    "\n",
    "<img src=\"assets/google_assistant.gif\" alt=\"Google Assistant\" height=\"600\" width=\"600\">\n",
    "\n",
    "You can also watch [the same video](https://www.youtube.com/watch?v=D5VN56jQMWM) of Sundar Pichai - the CEO of Google, with voice in the Google I/O 2018 event."
   ]
  },
  {
   "cell_type": "markdown",
   "metadata": {},
   "source": [
    "## Spam filtering\n",
    "\n",
    "Many of the e-mail services dedicate a special folder in their inboxes for the e-mails that are categorized as spam. The underlying mechanism that works behind the scenes is a text classification model which takes the content of the e-mail as input and returns a probability regarding this e-mail being spam. This area of NLP is called **text classification** and we'll walk you through some applications of text categorization in the remainder of this module."
   ]
  },
  {
   "cell_type": "markdown",
   "metadata": {},
   "source": [
    "## Language generation\n",
    "\n",
    "In 2018, a company named OpenAI announced that they trained a deep learning model using a huge set of text data for the sake of language generation. Their announcement was sensational because they claimed that their model is so good that some people may use it to generate fake content that looks like a human-generated one and hence they decided not to publish their trained model. \n",
    "\n",
    "The controversy about the announcement aside, their accomplishment is a good example of what NLP can achieve in generating human-like content. Below is an example of how a model generates text in English after given a few sentences to determine the context:\n",
    "\n",
    "<p style=\"margin-left: 40px; margin-right: 80px\">**Human written text**:</p>\n",
    "\n",
    "<p style=\"margin-left: 40px; margin-right: 80px\">In a shocking finding, scientist discovered a herd of unicorns living in a remote, previously unexplored valley, in the Andes Mountains. Even more surprising to the researchers was the fact that the unicorns spoke perfect English.</p>\n",
    "\n",
    "<p style=\"margin-left: 40px; margin-right: 80px\">**Model output**:</p>\n",
    "\n",
    "<p style=\"margin-left: 40px; margin-right: 80px\">The scientist named the population, after their distinctive horn, Ovid’s Unicorn. These four-horned, silver-white unicorns were previously unknown to science. Now, after almost two centuries, the mystery of what sparked this odd phenomenon is finally solved.</p>\n",
    "\n",
    "<p style=\"margin-left: 40px; margin-right: 80px\">Dr. Jorge Pérez, an evolutionary biologist from the University of La Paz, and several companions, were exploring the Andes Mountains when they found a small valley, with no other animals or humans. Pérez noticed that the valley had what appeared to be a natural fountain, surrounded by two peaks of rock and silver snow.</p>\n",
    "\n",
    "<p style=\"margin-left: 40px; margin-right: 80px\">Pérez and the others then ventured further into the valley. “By the time we reached the top of one peak, the water looked blue, with some crystals on top,” said Pérez.</p>\n",
    "\n",
    "<p style=\"margin-left: 40px; margin-right: 80px\">Pérez and his friends were astonished to see the unicorn herd. These creatures could be seen from the air without having to move too much to see them – they were so close they could touch their horns.</p>\n",
    "\n",
    "<p style=\"margin-left: 40px; margin-right: 80px\">While examining these bizarre creatures the scientists discovered that the creatures also spoke some fairly regular English. Pérez stated, “We can see, for example, that they have a common ‘language,’ something like a dialect or dialectic.”</p>\n",
    "\n",
    "<p style=\"margin-left: 40px; margin-right: 80px\">Dr. Pérez believes that the unicorns may have originated in Argentina, where the animals were believed to be descendants of a lost race of people who lived there before the arrival of humans in those parts of South America.</p>\n",
    "\n",
    "<p style=\"margin-left: 40px; margin-right: 80px\">While their origins are still unclear, some believe that perhaps the creatures were created when a human and a unicorn met each other in a time before human civilization. According to Pérez, “In South America, such incidents seem to be quite common.”</p>\n",
    "\n",
    "<p style=\"margin-left: 40px; margin-right: 80px\">However, Pérez also pointed out that it is likely that the only way of knowing for sure if unicorns are indeed the descendants of a lost alien race is through DNA. “But they seem to be able to communicate in English quite well, which I believe is a sign of evolution, or at least a change in social organization,” said the scientist.</p>\n",
    "\n",
    "If you're interested to read more, you can find their blog post [here](https://openai.com/blog/better-language-models/). Later in this module, we'll show an example of generating sentences."
   ]
  }
 ],
 "metadata": {
  "kernelspec": {
   "display_name": "Python 3",
   "language": "python",
   "name": "python3"
  },
  "language_info": {
   "codemirror_mode": {
    "name": "ipython",
    "version": 3
   },
   "file_extension": ".py",
   "mimetype": "text/x-python",
   "name": "python",
   "nbconvert_exporter": "python",
   "pygments_lexer": "ipython3",
   "version": "3.7.7"
  },
  "latex_envs": {
   "LaTeX_envs_menu_present": true,
   "autoclose": false,
   "autocomplete": true,
   "bibliofile": "biblio.bib",
   "cite_by": "apalike",
   "current_citInitial": 1,
   "eqLabelWithNumbers": true,
   "eqNumInitial": 1,
   "hotkeys": {
    "equation": "Ctrl-E",
    "itemize": "Ctrl-I"
   },
   "labels_anchors": false,
   "latex_user_defs": false,
   "report_style_numbering": false,
   "user_envs_cfg": false
  },
  "varInspector": {
   "cols": {
    "lenName": 16,
    "lenType": 16,
    "lenVar": 40
   },
   "kernels_config": {
    "python": {
     "delete_cmd_postfix": "",
     "delete_cmd_prefix": "del ",
     "library": "var_list.py",
     "varRefreshCmd": "print(var_dic_list())"
    },
    "r": {
     "delete_cmd_postfix": ") ",
     "delete_cmd_prefix": "rm(",
     "library": "var_list.r",
     "varRefreshCmd": "cat(var_dic_list()) "
    }
   },
   "types_to_exclude": [
    "module",
    "function",
    "builtin_function_or_method",
    "instance",
    "_Feature"
   ],
   "window_display": false
  }
 },
 "nbformat": 4,
 "nbformat_minor": 2
}
