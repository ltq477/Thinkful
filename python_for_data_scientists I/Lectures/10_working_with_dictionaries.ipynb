{
 "cells": [
  {
   "cell_type": "markdown",
   "metadata": {},
   "source": [
    "## Dictionaries vs. lists\n",
    "\n",
    "While lists make sense for collecting inherently sequenced data and are designed to simplify accessing items by index number, dictionaries make sense for data you reference by _name_, or \"key\", rather than by _position_, or \"index\"."
   ]
  },
  {
   "cell_type": "code",
   "execution_count": 1,
   "metadata": {},
   "outputs": [],
   "source": [
    "greetings = {\n",
    "    \"english\": \"hello\",\n",
    "    \"japanese\": \"こんにちは\",\n",
    "    \"german\": \"hallo\",\n",
    "    \"hindi\": \"नमस्ते\",\n",
    "    \"leet\": \"h3ll0\",\n",
    "}\n",
    "\n",
    "word_counts = {\n",
    "    \"the\": 4,\n",
    "    \"and\": 2,\n",
    "    \"word\": 3,\n",
    "    \"beginning\": 1,\n",
    "    \"god\": 2,\n",
    "    \"in\": 1,\n",
    "    \"with\": 1,\n",
    "    \"was\": 3,\n",
    "}"
   ]
  },
  {
   "cell_type": "markdown",
   "metadata": {},
   "source": [
    "Python dictionaries are known in other languages as \"associative arrays\" or \"hash tables\" (or \"objects\" in JavaScript :P), so if you've programmed in another language you likely know a lot about dictionaries.\n",
    "\n",
    "Dictionaries may initially be less intuitive to you than lists, and you might wonder why you'd want to use a dictionary when you *could* hack a list (or maybe a multidimensional list) into doing the job instead. There are two big reasons dictionaries might be the right tool for the job:\n",
    "\n",
    " 1. Looking up or setting values by key rather than by index has incredibly different performance implications, and\n",
    " 2. Writing code that refers to data by name rather than by index number can be much clearer and easier to understand.\n",
    "\n",
    "The first point, about performance, will almost certainly come up during your technical interview process, and, if you're writing programs with large inputs, the performance differences between lists and dictionaries can mean the difference between code that executes in less than a second versus code that will keep running for days or years.\n",
    "\n",
    "\n",
    "## Creating, accessing, and modifying\n",
    "\n",
    "The easiest way to create a dictionary is to type out items as **key**: **value** pairs in curly braces `{` `}`:"
   ]
  },
  {
   "cell_type": "code",
   "execution_count": 2,
   "metadata": {},
   "outputs": [],
   "source": [
    "greetings = {\n",
    "    \"english\": \"hello\",\n",
    "    \"japanese\": \"こんにちは\",\n",
    "    \"german\": \"hallo\",\n",
    "    \"hindi\": \"नमस्ते\",\n",
    "    \"leet\": \"h3ll0\",\n",
    "}"
   ]
  },
  {
   "cell_type": "markdown",
   "metadata": {},
   "source": [
    "Each key is followed by a colon `:` and then the corresponding value. In the example above, `\"japanese\"` is the key and `\"こんにちは\"` is the value.\n",
    "\n",
    "A key: value pair together are called an **item**. Each item is separated from the next with a comma. You'll find that you're generally using strings for your keys, though you may use any immutable object as a key.\n",
    "\n",
    "Dictionary values are accessed using bracket notation, just like with lists and strings, except that instead of using an index number you use a key:"
   ]
  },
  {
   "cell_type": "code",
   "execution_count": 3,
   "metadata": {},
   "outputs": [
    {
     "name": "stdout",
     "output_type": "stream",
     "text": [
      "こんにちは\n"
     ]
    }
   ],
   "source": [
    "print(greetings[\"japanese\"])"
   ]
  },
  {
   "cell_type": "markdown",
   "metadata": {},
   "source": [
    "Updating the value associated with a key looks very much like assigning a value to a variable:"
   ]
  },
  {
   "cell_type": "code",
   "execution_count": 2,
   "metadata": {},
   "outputs": [
    {
     "name": "stdout",
     "output_type": "stream",
     "text": [
      "{'apples': 5, 'oranges': 2}\n",
      "{'apples': 20, 'oranges': 3}\n"
     ]
    }
   ],
   "source": [
    "stock = {\"apples\": 5, \"oranges\": 2}\n",
    "print(stock)\n",
    "stock[\"apples\"] = 20\n",
    "stock[\"oranges\"] += 1\n",
    "print(stock)"
   ]
  },
  {
   "cell_type": "markdown",
   "metadata": {},
   "source": [
    "In fact, creating a _new_ key: value pair looks the same as well. You specify the key using bracket notation and assign a value with the `=` operator."
   ]
  },
  {
   "cell_type": "code",
   "execution_count": 1,
   "metadata": {},
   "outputs": [
    {
     "ename": "NameError",
     "evalue": "name 'stock' is not defined",
     "output_type": "error",
     "traceback": [
      "\u001b[1;31m---------------------------------------------------------------------------\u001b[0m",
      "\u001b[1;31mNameError\u001b[0m                                 Traceback (most recent call last)",
      "\u001b[1;32m<ipython-input-1-bb4f00d68fb5>\u001b[0m in \u001b[0;36m<module>\u001b[1;34m\u001b[0m\n\u001b[1;32m----> 1\u001b[1;33m \u001b[0mstock\u001b[0m\u001b[1;33m[\u001b[0m\u001b[1;34m\"pears\"\u001b[0m\u001b[1;33m]\u001b[0m \u001b[1;33m=\u001b[0m \u001b[1;36m10\u001b[0m\u001b[1;33m\u001b[0m\u001b[1;33m\u001b[0m\u001b[0m\n\u001b[0m\u001b[0;32m      2\u001b[0m \u001b[0mprint\u001b[0m\u001b[1;33m(\u001b[0m\u001b[0mstock\u001b[0m\u001b[1;33m[\u001b[0m\u001b[1;34m\"pears\"\u001b[0m\u001b[1;33m]\u001b[0m\u001b[1;33m)\u001b[0m\u001b[1;33m\u001b[0m\u001b[1;33m\u001b[0m\u001b[0m\n",
      "\u001b[1;31mNameError\u001b[0m: name 'stock' is not defined"
     ]
    }
   ],
   "source": [
    "stock[\"pears\"] = 10\n",
    "print(stock[\"pears\"])"
   ]
  },
  {
   "cell_type": "markdown",
   "metadata": {},
   "source": [
    "You can delete items from a dictionary with the `del` keyword, removing the key: value pair entirely."
   ]
  },
  {
   "cell_type": "code",
   "execution_count": 3,
   "metadata": {},
   "outputs": [
    {
     "ename": "KeyError",
     "evalue": "'pears'",
     "output_type": "error",
     "traceback": [
      "\u001b[1;31m---------------------------------------------------------------------------\u001b[0m",
      "\u001b[1;31mKeyError\u001b[0m                                  Traceback (most recent call last)",
      "\u001b[1;32m<ipython-input-3-c0bbc7c96c30>\u001b[0m in \u001b[0;36m<module>\u001b[1;34m\u001b[0m\n\u001b[0;32m      1\u001b[0m \u001b[1;31m# this will raise an error\u001b[0m\u001b[1;33m\u001b[0m\u001b[1;33m\u001b[0m\u001b[1;33m\u001b[0m\u001b[0m\n\u001b[1;32m----> 2\u001b[1;33m \u001b[1;32mdel\u001b[0m \u001b[0mstock\u001b[0m\u001b[1;33m[\u001b[0m\u001b[1;34m\"pears\"\u001b[0m\u001b[1;33m]\u001b[0m\u001b[1;33m\u001b[0m\u001b[1;33m\u001b[0m\u001b[0m\n\u001b[0m\u001b[0;32m      3\u001b[0m \u001b[0mstock\u001b[0m\u001b[1;33m[\u001b[0m\u001b[1;34m\"pears\"\u001b[0m\u001b[1;33m]\u001b[0m\u001b[1;33m\u001b[0m\u001b[1;33m\u001b[0m\u001b[0m\n",
      "\u001b[1;31mKeyError\u001b[0m: 'pears'"
     ]
    }
   ],
   "source": [
    "# this will raise an error\n",
    "del stock[\"pears\"]\n",
    "stock[\"pears\"]"
   ]
  },
  {
   "cell_type": "markdown",
   "metadata": {},
   "source": [
    "## Checking for membership in a dictionary\n",
    "\n",
    "You can use the key to get the value of a dictionary item with bracket notation, but what if you just want to know whether a key is in a dictionary at all? For that you can use the `in` and `not in` operators."
   ]
  },
  {
   "cell_type": "code",
   "execution_count": 9,
   "metadata": {},
   "outputs": [
    {
     "name": "stdout",
     "output_type": "stream",
     "text": [
      "True\n",
      "False\n",
      "True\n"
     ]
    }
   ],
   "source": [
    "greetings = {\n",
    "  \"english\": \"hello\",\n",
    "  \"japanese\": \"こんにちは\",\n",
    "  \"german\": \"hallo\",\n",
    "  \"hindi\": \"नमस्ते\",\n",
    "  \"leet\": \"h3ll0\",\n",
    "}\n",
    "print(\"english\" in greetings)\n",
    "print(\"spanish\" in greetings)\n",
    "print(\"pirate\" not in greetings)"
   ]
  },
  {
   "cell_type": "markdown",
   "metadata": {},
   "source": [
    "As you saw above when we tried to check `stock[\"pears\"]` after deleting it, trying to look up the value for a key that isn't in the dictionary will raise a `KeyError`. These boolean operations are useful for working with dictionaries without raising `KeyError`s.\n",
    "\n",
    "Now that you know how to create and modify dictionaries, take a few minutes to play around with the code below."
   ]
  },
  {
   "cell_type": "code",
   "execution_count": 11,
   "metadata": {},
   "outputs": [
    {
     "name": "stdout",
     "output_type": "stream",
     "text": [
      "False\n"
     ]
    }
   ],
   "source": [
    "# As you read through the code below think about how the\n",
    "# value of dictionary items might be changing, then check\n",
    "# your understanding by printing the values out.\n",
    "\n",
    "# Populate an initial dictionary.\n",
    "stock = {\n",
    "  \"apples\": 5,\n",
    "  \"oranges\": 2,\n",
    "  \"pears\": 10,\n",
    "}\n",
    "\n",
    "# Sell some apples.\n",
    "stock[\"apples\"] -= 2\n",
    "\n",
    "# Use statements like print(stock[\"apples\"]) to check\n",
    "# the value of dictionary items along the way.\n",
    "\n",
    "# Recieve a new shipment topping up your oranges.\n",
    "stock[\"oranges\"] = 20\n",
    "\n",
    "# Begin carrying kale.\n",
    "stock[\"kale\"] = 20\n",
    "\n",
    "# Stop carrying pears.\n",
    "del stock[\"pears\"]\n",
    "\n",
    "# Check to see whether you carry pizzas\n",
    "print(\"pizza\" in stock)\n",
    "\n",
    "# Spend a few minutes modifying the `stock` dictionary\n",
    "# and printing out the results below."
   ]
  },
  {
   "cell_type": "markdown",
   "metadata": {},
   "source": [
    "## Methods and looping\n",
    "\n",
    "There are three important dictionary methods you should know that map onto the three main concepts of dictionaries: **keys**, **values**, and **items**.\n",
    "\n",
    "The `.keys()` dictionary method will return all the keys in a dictionary.\n",
    "\n",
    "The `.values()` method will return all the values in a dictionary.\n",
    "\n",
    "The `.items()` method will return all the key: value pairs (or \"items\") in a dictionary.\n",
    "\n",
    "Let's look at examples of all of these."
   ]
  },
  {
   "cell_type": "code",
   "execution_count": 14,
   "metadata": {},
   "outputs": [
    {
     "name": "stdout",
     "output_type": "stream",
     "text": [
      "dict_keys(['english', 'japanese', 'german', 'hindi', 'leet'])\n",
      "dict_values(['hello', 'こんにちは', 'hallo', 'नमस्ते', 'h3ll0'])\n",
      "dict_items([('english', 'hello'), ('japanese', 'こんにちは'), ('german', 'hallo'), ('hindi', 'नमस्ते'), ('leet', 'h3ll0')])\n"
     ]
    }
   ],
   "source": [
    "# Create an intial dictionary.\n",
    "greetings = {\n",
    "    \"english\": \"hello\",\n",
    "    \"japanese\": \"こんにちは\",\n",
    "    \"german\": \"hallo\",\n",
    "    \"hindi\": \"नमस्ते\",\n",
    "    \"leet\": \"h3ll0\",\n",
    "}\n",
    "\n",
    "# Use the `.keys()` method to create a list of each key.\n",
    "languages = greetings.keys()\n",
    "print(languages)\n",
    "\n",
    "# Use the `.values()` method to create a list of each value.\n",
    "translations = greetings.values()\n",
    "print(translations)\n",
    "\n",
    "# Use the `.items()` method to create a list of each key: value pair.\n",
    "pairs = greetings.items()\n",
    "print(pairs)"
   ]
  },
  {
   "cell_type": "markdown",
   "metadata": {},
   "source": [
    "Each of these methods returns a dictionary view object that looks and acts a lot like a list but is actually a different kind of object. There are just two points we'll cover about view objects right now. First, you can easily convert them into real lists with the built-in `list` function if you need a list."
   ]
  },
  {
   "cell_type": "code",
   "execution_count": 18,
   "metadata": {},
   "outputs": [
    {
     "name": "stdout",
     "output_type": "stream",
     "text": [
      "['apples', 'oranges']\n"
     ]
    }
   ],
   "source": [
    "stock = {\"apples\": 5, \"oranges\": 2}\n",
    "print(list(stock.keys()))"
   ]
  },
  {
   "cell_type": "markdown",
   "metadata": {},
   "source": [
    "And second, view objects provide a *dynamic* view of the underlying dictionary, so if you update the dictionary then the view object will show you the updated data"
   ]
  },
  {
   "cell_type": "code",
   "execution_count": 19,
   "metadata": {},
   "outputs": [
    {
     "name": "stdout",
     "output_type": "stream",
     "text": [
      "dict_keys(['apples', 'oranges', 'pears'])\n"
     ]
    }
   ],
   "source": [
    "stock = {\"apples\": 5, \"oranges\": 2}\n",
    "items_for_sale = stock.keys()\n",
    "stock[\"pears\"] = 10\n",
    "print(items_for_sale)"
   ]
  },
  {
   "cell_type": "markdown",
   "metadata": {},
   "source": [
    "It's important to say again that dictionaries and their view objects are *unordered*. None of the items come before or after any of the other items. Printing out a dictionary or view objects will display the items in an essentially arbitrary order, and even in a different order when you print it different times. The same is true of the values generated by `.keys()`, `.values()`, and `.items()` above: the elements can come out in an arbitrary order. You won't know and shouldn't rely on them being in a particular order. If you _need_ to look at collection of keys, values, or items use the built-in `sorted()` function on your relevant view object to create an ordered list:\n"
   ]
  },
  {
   "cell_type": "code",
   "execution_count": 16,
   "metadata": {},
   "outputs": [
    {
     "name": "stdout",
     "output_type": "stream",
     "text": [
      "['apples', 'bananas', 'oranges']\n"
     ]
    }
   ],
   "source": [
    "stock = {\"apples\": 5, \"oranges\": 2, \"bananas\": 4}\n",
    "print(list(sorted(stock.keys())))"
   ]
  },
  {
   "cell_type": "markdown",
   "metadata": {},
   "source": [
    "If you want to convert a _list_ into a _dictionary_, you can easily loop through each item in the list and add them to an empty dictionary (similary to how we added pears to an existing dictionary above)."
   ]
  },
  {
   "cell_type": "code",
   "execution_count": 2,
   "metadata": {},
   "outputs": [
    {
     "name": "stdout",
     "output_type": "stream",
     "text": [
      "{'apples': 5, 'bananas': 2, 'oranges': 6}\n"
     ]
    }
   ],
   "source": [
    "stock_list = [('apples',5),('bananas',2),('oranges',6)]\n",
    "\n",
    "stock = {} # or stock = dict()\n",
    "for item,num in stock_list:\n",
    "    stock[item]=num\n",
    "print(stock)"
   ]
  }
 ],
 "metadata": {
  "kernelspec": {
   "display_name": "Python 3",
   "language": "python",
   "name": "python3"
  },
  "language_info": {
   "codemirror_mode": {
    "name": "ipython",
    "version": 3
   },
   "file_extension": ".py",
   "mimetype": "text/x-python",
   "name": "python",
   "nbconvert_exporter": "python",
   "pygments_lexer": "ipython3",
   "version": "3.7.6"
  }
 },
 "nbformat": 4,
 "nbformat_minor": 2
}
