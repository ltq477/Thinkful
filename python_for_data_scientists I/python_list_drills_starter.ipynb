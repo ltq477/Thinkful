{
 "cells": [
  {
   "cell_type": "markdown",
   "metadata": {
    "colab_type": "text",
    "id": "zK8OajuUPzp_"
   },
   "source": [
    "## 1: `longest_word_length`\n",
    "\n",
    "Create a function called `longest_word` that takes one argument, a list of words, and returns the length of the longest word in the list.\n",
    "\n",
    "For example, `longest_word(['simple', 'is', 'better', 'than', 'complex'])` should return 7 because the longest word there is complex, at 7 characters.\n",
    "\n",
    "Your function should *not* modify the input list."
   ]
  },
  {
   "cell_type": "code",
   "execution_count": 1,
   "metadata": {
    "colab": {
     "base_uri": "https://localhost:8080/",
     "height": 34
    },
    "colab_type": "code",
    "executionInfo": {
     "elapsed": 1561,
     "status": "ok",
     "timestamp": 1591071483070,
     "user": {
      "displayName": "Lawrence Quesada",
      "photoUrl": "https://lh3.googleusercontent.com/a-/AOh14GgDfi5ZMUHec5oABIqu-Gh8jDLncpZUMsEadkSem7Y=s64",
      "userId": "14131790862529985455"
     },
     "user_tz": 420
    },
    "id": "Zan1FZy7PzqD",
    "outputId": "7881e229-1c8b-4b16-c866-5d4bbab6d7cb"
   },
   "outputs": [
    {
     "name": "stdout",
     "output_type": "stream",
     "text": [
      "7\n"
     ]
    }
   ],
   "source": [
    "def longest_word(string):\n",
    "    \n",
    "    lenght = []  \n",
    "    for word in string:\n",
    "        lenght.append(len(word))\n",
    "    \n",
    "    print(max(lenght))\n",
    " \n",
    "longest_word(['simple', 'is', 'better', 'than', 'complex'])"
   ]
  },
  {
   "cell_type": "markdown",
   "metadata": {
    "colab_type": "text",
    "id": "NzZF2zp_PzqO"
   },
   "source": [
    "\n",
    "## 2: `calculate_grade`\n",
    "\n",
    "You're a statistics professor and the deadline for submitting your students' grades is tonight at midnight. Each student's grade is determined by their mean score across all of the tests they took this semester.\n",
    "\n",
    "You've decided to automate grade calculation by writing a function `calculate_grade` that takes a list of test scores as an argument and returns a one character string representing the student's grade calculated as follows:\n",
    "\n",
    "```\n",
    "90% <= mean score <= 100%: \"A\",\n",
    "80% <= mean score < 90%: \"B\",\n",
    "70% <= mean score < 80%: \"C\",\n",
    "60% <= mean score < 70%: \"D\",\n",
    "mean score < 60%: \"F\"\n",
    "```\n",
    "\n",
    "\n",
    "For example, `calculate_grade([92, 94, 99])` would return \"A\" since the mean score is 95, and `calculate_grade([50, 60, 70, 80, 90])` would return \"C\" since the mean score is 70.\n",
    "\n",
    "Your function should handle an input list of any length greater than zero."
   ]
  },
  {
   "cell_type": "code",
   "execution_count": 25,
   "metadata": {
    "colab": {
     "base_uri": "https://localhost:8080/",
     "height": 34
    },
    "colab_type": "code",
    "executionInfo": {
     "elapsed": 1419,
     "status": "ok",
     "timestamp": 1591071488564,
     "user": {
      "displayName": "Lawrence Quesada",
      "photoUrl": "https://lh3.googleusercontent.com/a-/AOh14GgDfi5ZMUHec5oABIqu-Gh8jDLncpZUMsEadkSem7Y=s64",
      "userId": "14131790862529985455"
     },
     "user_tz": 420
    },
    "id": "gIvfV8iHPzqQ",
    "outputId": "d319de0b-51c2-43c3-b63c-08643bd7d6b2"
   },
   "outputs": [
    {
     "name": "stdout",
     "output_type": "stream",
     "text": [
      "A\n"
     ]
    }
   ],
   "source": [
    "def calculate_grade(grade_list):\n",
    "    grade = sum(grade_list) / len(grade_list)\n",
    "    \n",
    "    if grade > 90:\n",
    "        print('A')\n",
    "    elif grade < 90 and grade >= 80:\n",
    "        print('B')\n",
    "    elif grade < 80 and grade >= 70:\n",
    "        print('C')\n",
    "    elif grade < 70 and grade >= 60:\n",
    "        print('D')\n",
    "    elif grade < 60:\n",
    "        print('F')   \n",
    "        \n",
    "final_grade = calculate_grade([92, 94, 99])\n"
   ]
  },
  {
   "cell_type": "markdown",
   "metadata": {
    "colab_type": "text",
    "id": "UubPZ7L1PzqX"
   },
   "source": [
    "## 3: `process_data`\n",
    "\n",
    "You have a two-dimensional list in the following format:\n",
    "\n",
    "```python\n",
    "data = [[2, 5], [3, 4], [8, 7]]\n",
    "```\n",
    "\n",
    "Each sub-list contains two items, and each item in the sub-lists is an integer.\n",
    "\n",
    "Write a function `process_data` that processes each sub-list like so:\n",
    "\n",
    "```\n",
    "[2, 5] --> 2 - 5 --> -3\n",
    "[3, 4] --> 3 - 4 --> -1\n",
    "[8, 7] --> 8 - 7 --> 1\n",
    "```\n",
    "\n",
    "and then returns the product of all the processed sub-lists: -3 * -1 * 1 --> 3.\n",
    "d\n",
    "For input, you can trust that neither the main list nor the sublists will be empty."
   ]
  },
  {
   "cell_type": "code",
   "execution_count": 3,
   "metadata": {
    "colab": {
     "base_uri": "https://localhost:8080/",
     "height": 51
    },
    "colab_type": "code",
    "executionInfo": {
     "elapsed": 1042,
     "status": "ok",
     "timestamp": 1591071494837,
     "user": {
      "displayName": "Lawrence Quesada",
      "photoUrl": "https://lh3.googleusercontent.com/a-/AOh14GgDfi5ZMUHec5oABIqu-Gh8jDLncpZUMsEadkSem7Y=s64",
      "userId": "14131790862529985455"
     },
     "user_tz": 420
    },
    "id": "ArJAlBSSPzqY",
    "outputId": "9d0feb3d-f826-4bbb-afcc-407f0031e577"
   },
   "outputs": [
    {
     "name": "stdout",
     "output_type": "stream",
     "text": [
      "[-3, -1, 1]\n"
     ]
    },
    {
     "data": {
      "text/plain": [
       "3"
      ]
     },
     "execution_count": 3,
     "metadata": {
      "tags": []
     },
     "output_type": "execute_result"
    }
   ],
   "source": [
    "def process_data(data):\n",
    "\n",
    "    plist = []\n",
    "    \n",
    "    for i in data:\n",
    "        plist.append(i[0] - i[1])\n",
    "    print(plist)\n",
    "    return plist[0] * plist[1] * plist[2]\n",
    "  \n",
    "process_data([[2, 5], [3, 4], [8, 7]])"
   ]
  },
  {
   "cell_type": "code",
   "execution_count": 31,
   "metadata": {
    "colab": {},
    "colab_type": "code",
    "id": "lQu9brFOPzqf"
   },
   "outputs": [
    {
     "data": {
      "text/plain": [
       "3"
      ]
     },
     "execution_count": 31,
     "metadata": {},
     "output_type": "execute_result"
    }
   ],
   "source": [
    "def process_data2(data):\n",
    "    \n",
    "    prod = 1 \n",
    "    \n",
    "    for a, b in data:\n",
    "        diff = a - b\n",
    "        prod *= diff\n",
    "        \n",
    "        #prod = diff * prod\n",
    "    \n",
    "    return prod\n",
    "           \n",
    "process_data2([[2, 5], [3, 4],[8,7]])    "
   ]
  },
  {
   "cell_type": "code",
   "execution_count": null,
   "metadata": {},
   "outputs": [],
   "source": []
  }
 ],
 "metadata": {
  "colab": {
   "name": "python_list_drills_starter.ipynb",
   "provenance": []
  },
  "kernelspec": {
   "display_name": "Python 3",
   "language": "python",
   "name": "python3"
  },
  "language_info": {
   "codemirror_mode": {
    "name": "ipython",
    "version": 3
   },
   "file_extension": ".py",
   "mimetype": "text/x-python",
   "name": "python",
   "nbconvert_exporter": "python",
   "pygments_lexer": "ipython3",
   "version": "3.7.7"
  }
 },
 "nbformat": 4,
 "nbformat_minor": 1
}
