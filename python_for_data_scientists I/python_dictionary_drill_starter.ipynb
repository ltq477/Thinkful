{
 "cells": [
  {
   "cell_type": "markdown",
   "metadata": {
    "colab_type": "text",
    "id": "aO0FuEmJS2NU"
   },
   "source": [
    "## 1: `fillable`\n",
    "\n",
    "You're running an online business and a big part of your day is fulfilling orders. As your volume picks up that's been taking more of your time, and unfortunately lately you've been running into situations where you take an order but can't fulfill it.\n",
    "\n",
    "You've decided to write a function `fillable` that takes three arguments: a dictionary stock representing all the merchandise you have in stock, a string merch representing the thing your customer wants to buy, and an integer `n` representing the number of units of merch they would like to buy. Your function should return `True` if you have the merchandise in stock to complete the sale, otherwise it should return `False`.\n",
    "\n",
    "Valid data will always be passed in and n will always be >= 1."
   ]
  },
  {
   "cell_type": "code",
   "execution_count": 6,
   "metadata": {
    "colab": {
     "base_uri": "https://localhost:8080/",
     "height": 34
    },
    "colab_type": "code",
    "executionInfo": {
     "elapsed": 633,
     "status": "ok",
     "timestamp": 1591408569445,
     "user": {
      "displayName": "Lawrence Quesada",
      "photoUrl": "https://lh3.googleusercontent.com/a-/AOh14GgDfi5ZMUHec5oABIqu-Gh8jDLncpZUMsEadkSem7Y=s64",
      "userId": "14131790862529985455"
     },
     "user_tz": 420
    },
    "id": "-xJLSRY0S2N8",
    "outputId": "251f5b24-6ebb-419e-e38f-b4c0f40b2e4b"
   },
   "outputs": [
    {
     "data": {
      "text/plain": [
       "True"
      ]
     },
     "execution_count": 6,
     "metadata": {
      "tags": []
     },
     "output_type": "execute_result"
    }
   ],
   "source": [
    "def fillable(stock, merch, n):\n",
    "\n",
    "    if stock.get(merch, 0) >= n:\n",
    "        return True\n",
    "    else:\n",
    "        return False\n",
    "    \n",
    "fillable({'TV':50, 'USB':100, 'Radio': 20, 'HD':200}, 'TV', 5)"
   ]
  },
  {
   "cell_type": "code",
   "execution_count": 5,
   "metadata": {
    "colab": {},
    "colab_type": "code",
    "id": "LVlGwNqaWrcT"
   },
   "outputs": [
    {
     "data": {
      "text/plain": [
       "False"
      ]
     },
     "execution_count": 5,
     "metadata": {},
     "output_type": "execute_result"
    }
   ],
   "source": [
    "def fillable2(stock, merch, n):\n",
    "    \n",
    "    return stock.get(merch, 0) >= n\n",
    "\n",
    "fillable2({'TV':50, 'USB':100, 'Radio': 20, 'HD':200}, 'something', 2)\n"
   ]
  },
  {
   "cell_type": "markdown",
   "metadata": {
    "colab_type": "text",
    "id": "t3wyM7VjS2OC"
   },
   "source": [
    "## 2: user_contacts\n",
    "\n",
    "You're putting together contact information for all the users of your website to ship them a small gift. You queried your database and got back a list of users, where each user is another list with up to two items: a string representing the user's name and their shipping zip code. Example data might look like:\n",
    "\n",
    "```python\n",
    "[[\"Grae Drake\", 98110], [\"Bethany Kok\"], [\"Alex Nussbacher\", 94101], [\"Darrell Silver\", 11201]]\n",
    "```\n",
    "\n",
    "Notice that one of the users above has a name but doesn't have a zip code.\n",
    "\n",
    "Write a function `user_contacts` that takes a two-dimensional list like the one above and returns a dictionary with an item for each user where the key is the user's name and the value is the user's zip code. If your data doesn't include a zip code then the value should be `None`.\n",
    "\n",
    "For example, using the input above, user_contacts would return this dictionary:\n",
    "\n",
    "```python\n",
    "{\n",
    "    \"Grae Drake\": 98110,\n",
    "    \"Bethany Kok\": None,\n",
    "    \"Alex Nussbacher\": 94101,\n",
    "    \"Darrell Silver\": 11201,    \n",
    "}\n",
    "```\n",
    "\n",
    "You don't have to worry about leading zeros in zip codes."
   ]
  },
  {
   "cell_type": "code",
   "execution_count": 8,
   "metadata": {
    "colab": {},
    "colab_type": "code",
    "id": "2zq4sPlmS2OI",
    "outputId": "4e783261-2d1b-4ccf-aefe-630fe7d3549f",
    "scrolled": true
   },
   "outputs": [
    {
     "name": "stdout",
     "output_type": "stream",
     "text": [
      "{'Grae Drake': 98110, 'Bethany Kok': None, 'Alex Nussbacher': 94101, 'Darrell Silver': 11201}\n"
     ]
    }
   ],
   "source": [
    "def user_contacts(contacts):\n",
    "    \n",
    "    my_dict = {}\n",
    "    \n",
    "    for item in contacts:\n",
    "        if len(item) == 2:\n",
    "            my_dict[item[0]] = item[1]\n",
    "        elif len(item) < 2:\n",
    "            my_dict[item[0]] = None\n",
    "    print(my_dict)\n",
    "        \n",
    "user_contacts([[\"Grae Drake\", 98110], [\"Bethany Kok\"], [\"Alex Nussbacher\", 94101], [\"Darrell Silver\", 11201]])"
   ]
  },
  {
   "cell_type": "code",
   "execution_count": 0,
   "metadata": {
    "colab": {},
    "colab_type": "code",
    "id": "XRFrALuaS2OR"
   },
   "outputs": [],
   "source": []
  }
 ],
 "metadata": {
  "colab": {
   "collapsed_sections": [],
   "name": "python_dictionary_drill_starter.ipynb",
   "provenance": []
  },
  "kernelspec": {
   "display_name": "Python 3",
   "language": "python",
   "name": "python3"
  },
  "language_info": {
   "codemirror_mode": {
    "name": "ipython",
    "version": 3
   },
   "file_extension": ".py",
   "mimetype": "text/x-python",
   "name": "python",
   "nbconvert_exporter": "python",
   "pygments_lexer": "ipython3",
   "version": "3.7.7"
  }
 },
 "nbformat": 4,
 "nbformat_minor": 1
}
