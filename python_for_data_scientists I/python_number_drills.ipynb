{
 "cells": [
  {
   "cell_type": "markdown",
   "metadata": {
    "colab_type": "text",
    "id": "mKnd9Pfv_NWP"
   },
   "source": [
    "## 1: Rømer temperature\n",
    "\n",
    "You're writing an excruciatingly detailed alternate history novel set in a world where [Daniel Gabriel Fahrenheit](https://en.wikipedia.org/wiki/Daniel_Gabriel_Fahrenheit) was never born.\n",
    "\n",
    "Since Fahrenheit never lived the world kept on using the [Rømer scale](https://en.wikipedia.org/wiki/R%C3%B8mer_scale), invented by fellow Dane [Ole Rømer](https://en.wikipedia.org/wiki/Ole_R%C3%B8mer) to this very day, skipping over the Fahrenheit and Celsius scales entirely.\n",
    "\n",
    "Your magnum opus contains several thousand references to temperature, but those temperatures are all currently in degrees Celsius. You don't want to convert everything by hand, so you've decided to write a function, `celsius_to_romer` that takes a temperature in degrees Celsius and returns the equivalent temperature in degrees Rømer.\n",
    "\n",
    "For example: `celsius_to_romer(24)` should return 20.1."
   ]
  },
  {
   "cell_type": "code",
   "execution_count": 1,
   "metadata": {
    "colab": {
     "base_uri": "https://localhost:8080/",
     "height": 34
    },
    "colab_type": "code",
    "executionInfo": {
     "elapsed": 1634,
     "status": "ok",
     "timestamp": 1590899332382,
     "user": {
      "displayName": "Lawrence Quesada",
      "photoUrl": "https://lh3.googleusercontent.com/a-/AOh14GgDfi5ZMUHec5oABIqu-Gh8jDLncpZUMsEadkSem7Y=s64",
      "userId": "14131790862529985455"
     },
     "user_tz": 420
    },
    "id": "Esulxhug_NWR",
    "outputId": "86274baf-a79a-488d-c5e1-ff3fa47ef289"
   },
   "outputs": [
    {
     "data": {
      "text/plain": [
       "20.1"
      ]
     },
     "execution_count": 1,
     "metadata": {
      "tags": []
     },
     "output_type": "execute_result"
    }
   ],
   "source": [
    "def celsius_to_romer(temperature):\n",
    "    return temperature * (21/40) + 7.5\n",
    "    \n",
    "celsius_to_romer(24)"
   ]
  },
  {
   "cell_type": "markdown",
   "metadata": {
    "colab_type": "text",
    "id": "9E561Q-B_NWY"
   },
   "source": [
    "## 2: Pixelart planning\n",
    "\n",
    "You're laying out a rad pixel art mural to paint on your living room wall in homage to [Paul Robertson](http://68.media.tumblr.com/0f55f7f3789a354cfcda7c2a64f501d1/tumblr_o7eq3biK9s1qhccbco1_500.png), your favorite pixel artist.\n",
    "\n",
    "You want your work to be perfect down to the millimeter. You haven't decided on the dimensions of your piece, how large you want your pixels to be, or which wall you want to use. You just know that you want to fit an exact number of pixels.\n",
    "\n",
    "To help decide those things you've decided to write a function, `is_divisible` that will tell you whether a wall of a certain length can exactly fit an integer number of pixels of a certain length.\n",
    "\n",
    "Your function should take two arguments: the size of the wall in millimeters and the size of a pixel in millimeters. It should return `Tru`e if you can fit an exact number of pixels on the wall, otherwise it should return `False`. For example `is_divisible(4050, 27)` should return `True`, but `is_divisible(4066, 27)` should return `False`.\n",
    "\n",
    "Note: you don't need to use an `if` statement here. Remember that in Python an expression using the `==` comparison operator will evaluate to either `True` or `False`:\n",
    "\n",
    "```\n",
    ">>> def equals_three(num):\n",
    ">>>     return num == 3\n",
    ">>> equals_three(5)\n",
    "False\n",
    ">>> equals_three(3)\n",
    "True\n",
    "```"
   ]
  },
  {
   "cell_type": "code",
   "execution_count": 3,
   "metadata": {
    "colab": {
     "base_uri": "https://localhost:8080/",
     "height": 34
    },
    "colab_type": "code",
    "executionInfo": {
     "elapsed": 1434,
     "status": "ok",
     "timestamp": 1590899360529,
     "user": {
      "displayName": "Lawrence Quesada",
      "photoUrl": "https://lh3.googleusercontent.com/a-/AOh14GgDfi5ZMUHec5oABIqu-Gh8jDLncpZUMsEadkSem7Y=s64",
      "userId": "14131790862529985455"
     },
     "user_tz": 420
    },
    "id": "G7ay-J85_NWZ",
    "outputId": "a773c654-c51d-4c23-e993-528b3162a411"
   },
   "outputs": [
    {
     "data": {
      "text/plain": [
       "False"
      ]
     },
     "execution_count": 3,
     "metadata": {
      "tags": []
     },
     "output_type": "execute_result"
    }
   ],
   "source": [
    "def is_divisible(wall, pixel):\n",
    "    return wall % pixel == 0\n",
    "        \n",
    "is_divisible(4066, 27)"
   ]
  },
  {
   "cell_type": "markdown",
   "metadata": {
    "colab_type": "text",
    "id": "LR5DbROb_NWf"
   },
   "source": [
    "## 3: Blue and red marbles\n",
    "\n",
    "You and a friend have decided to play a game to drill your statistical intuitions. The game works like this:\n",
    "\n",
    "You have a bunch of red and blue marbles. To start the game you grab a handful of marbles of each color and put them into the bag, keeping track of how many of each color go in. You take turns reaching into the bag, guessing a color, and then pulling one marble out. You get a point if you guessed correctly. The trick is you only have three seconds to make your guess, so you have to think quickly.\n",
    "\n",
    "You've decided to write a function, `guess_blue` to help automatically calculate whether you should guess blue or red. The function should take four arguments:\n",
    "\n",
    "- the number of blue marbles you put in the bag to start\n",
    "- the number of red marbles you put in the bag to start\n",
    "- the number of blue marbles pulled out so far, and\n",
    "- the number of red marbles pulled out so far.\n",
    "\n",
    "`guess_blue` should return the probability of drawing a blue marble, expressed as a float. For example, guess_blue(5, 5, 2, 3) should return 0.6."
   ]
  },
  {
   "cell_type": "code",
   "execution_count": 4,
   "metadata": {
    "colab": {
     "base_uri": "https://localhost:8080/",
     "height": 34
    },
    "colab_type": "code",
    "executionInfo": {
     "elapsed": 1565,
     "status": "ok",
     "timestamp": 1590899366112,
     "user": {
      "displayName": "Lawrence Quesada",
      "photoUrl": "https://lh3.googleusercontent.com/a-/AOh14GgDfi5ZMUHec5oABIqu-Gh8jDLncpZUMsEadkSem7Y=s64",
      "userId": "14131790862529985455"
     },
     "user_tz": 420
    },
    "id": "kIwkHNeS_NWg",
    "outputId": "2dbc13e6-3a09-4440-febd-46e95dc4a333"
   },
   "outputs": [
    {
     "data": {
      "text/plain": [
       "0.6"
      ]
     },
     "execution_count": 4,
     "metadata": {
      "tags": []
     },
     "output_type": "execute_result"
    }
   ],
   "source": [
    "def guess_blue(blue_in, red_in, blue_out, red_out): \n",
    "    \n",
    "    #Bag of marbles\n",
    "    marble = []\n",
    "    \n",
    "    #put in marbles\n",
    "    marble.append(blue_in)\n",
    "    marble.append(red_in)\n",
    "    marble_in = sum(marble)\n",
    "  \n",
    "    #remove marbles\n",
    "    marble_out = marble_in - (blue_out + red_out)\n",
    "    remaining_blue = blue_in - blue_out \n",
    "    remaining_red = red_in - red_out\n",
    "    \n",
    "    #probablity formula\n",
    "    prob = remaining_blue / (marble_in - marble_out)\n",
    "         \n",
    "    return prob\n",
    "    \n",
    "guess_blue(5,5,2,3)"
   ]
  },
  {
   "cell_type": "markdown",
   "metadata": {
    "colab_type": "text",
    "id": "3tGMWAeF_NWo"
   },
   "source": [
    "## 4: Congo pizza\n",
    "\n",
    "Your company, [Congo Pizza](http://interesting-africa-facts.com/Africa-Landforms/Congo-Rainforest-Facts.html), is the second-largest online frozen pizza retailer. You own a number of international warehouses that you use to store your frozen pizzas, and you need to figure out how many crates of pizzas you can store at each location.\n",
    "\n",
    "Congo recently standardized its storage containers: all pizzas fit inside a cubic crate, 16-inchs on a side. The crates are super tough so you can stack them as high as you want.\n",
    "\n",
    "Write a function `box_capacity` that figures out how many crates you can store in a given warehouse. The function should take three arguments: the length, width, and height of your warehouse (in feet) and should return an integer representing the number of boxes you can store in that space.\n",
    "\n",
    "For example: a warehouse 32 feet long, 64 feet wide, and 16 feet high can hold 13,824 boxes because you can fit 24 boxes across, 48 boxes deep, and 12 boxes high, so `box_capacity(32, 64, 16)` should return 13824."
   ]
  },
  {
   "cell_type": "code",
   "execution_count": 3,
   "metadata": {
    "colab": {
     "base_uri": "https://localhost:8080/",
     "height": 34
    },
    "colab_type": "code",
    "executionInfo": {
     "elapsed": 956,
     "status": "ok",
     "timestamp": 1590899447275,
     "user": {
      "displayName": "Lawrence Quesada",
      "photoUrl": "https://lh3.googleusercontent.com/a-/AOh14GgDfi5ZMUHec5oABIqu-Gh8jDLncpZUMsEadkSem7Y=s64",
      "userId": "14131790862529985455"
     },
     "user_tz": 420
    },
    "id": "duEuwHod_NWp",
    "outputId": "d32e564a-8c15-4aa2-a307-e5bf47660a61"
   },
   "outputs": [
    {
     "data": {
      "text/plain": [
       "13824.0"
      ]
     },
     "execution_count": 3,
     "metadata": {},
     "output_type": "execute_result"
    }
   ],
   "source": [
    "def box_capacity(lenght, width, height):\n",
    "    box_vol = 16 / 12\n",
    "    container_vol = (lenght/box_vol) * (width/box_vol) * (height/box_vol)\n",
    "        \n",
    "    return container_vol\n",
    "\n",
    "box_capacity(32,64,16)"
   ]
  },
  {
   "cell_type": "code",
   "execution_count": 0,
   "metadata": {
    "colab": {},
    "colab_type": "code",
    "id": "WVZnP4JC_NWu"
   },
   "outputs": [],
   "source": []
  }
 ],
 "metadata": {
  "colab": {
   "name": "python_number_drills.ipynb",
   "provenance": []
  },
  "kernelspec": {
   "display_name": "Python 3",
   "language": "python",
   "name": "python3"
  },
  "language_info": {
   "codemirror_mode": {
    "name": "ipython",
    "version": 3
   },
   "file_extension": ".py",
   "mimetype": "text/x-python",
   "name": "python",
   "nbconvert_exporter": "python",
   "pygments_lexer": "ipython3",
   "version": "3.7.7"
  }
 },
 "nbformat": 4,
 "nbformat_minor": 1
}
