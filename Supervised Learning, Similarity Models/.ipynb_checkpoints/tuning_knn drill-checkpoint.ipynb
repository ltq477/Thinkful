{
 "cells": [
  {
   "cell_type": "markdown",
   "metadata": {},
   "source": [
    "## DRILL:\n",
    "\n",
    "Let's say we work at a credit card company and we're trying to figure out if people are going to pay their bills on time. We have everyone's purchases, split into four main categories: groceries, dining out, utilities, and entertainment. What are some ways you might use KNN to create this model? What aspects of KNN would be useful? Write up your thoughts in submit a link below."
   ]
  },
  {
   "cell_type": "markdown",
   "metadata": {},
   "source": [
    "- One of the ways is by looking at the intial dataset by EDA. Through exporation we can look at some items which we can reduce the number of variables we use.\n",
    "- We can reduce the variables or columns by perhaps combining 'groceries' and 'dining out' in a new column called 'meals'\n",
    "- We can also ask credit card customers for their income. With their income, we can estimate how much they spend on their expenses and the likelyhood that they may pay or not pay on time.\n",
    "- We can also get additional infomation such as other utility bills or any transfer balances to different credit cards which can also give us an estimate.\n",
    "- KNN can be useful as it figures out the nearest neighbor and estimates. We can also use a target such as entertainment.\n",
    "- A Z-score will provice accuracy"
   ]
  },
  {
   "cell_type": "code",
   "execution_count": null,
   "metadata": {},
   "outputs": [],
   "source": []
  }
 ],
 "metadata": {
  "kernelspec": {
   "display_name": "Python 3",
   "language": "python",
   "name": "python3"
  },
  "language_info": {
   "codemirror_mode": {
    "name": "ipython",
    "version": 3
   },
   "file_extension": ".py",
   "mimetype": "text/x-python",
   "name": "python",
   "nbconvert_exporter": "python",
   "pygments_lexer": "ipython3",
   "version": "3.7.7"
  }
 },
 "nbformat": 4,
 "nbformat_minor": 4
}
