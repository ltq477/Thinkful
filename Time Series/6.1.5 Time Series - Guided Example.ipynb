{
 "cells": [
  {
   "cell_type": "code",
   "execution_count": null,
   "metadata": {
    "cell_id": "beeab9e3-58c5-4232-9d6a-5b336be9086d",
    "collapsed": true
   },
   "outputs": [],
   "source": [
    "import numpy as np\n",
    "import pandas as pd\n",
    "import scipy\n",
    "from datetime import datetime\n",
    "import datetime as dt\n",
    "import matplotlib.pyplot as plt\n",
    "%matplotlib inline"
   ]
  },
  {
   "cell_type": "markdown",
   "metadata": {
    "cell_id": "bed6ef20-2cd7-4475-a5a0-cef77f04e4e7"
   },
   "source": [
    "# Guided Example - Stock Price Modeling\n",
    "\n",
    "Time series modeling is particularly popular in finance. It's used to model the price movement of almost any asset or commodity. Here we'll use the techniques we covered to model a currency exchange rate, specifically the value of the SP500 stock market index.\n",
    "\n",
    "The data here comes from the St. Louis Federal Reserve's database, affectionately called FRED and available [here](https://fred.stlouisfed.org). We'll use the S&P 500 data for now, using nine years of data starting Jan 1, 2008."
   ]
  },
  {
   "cell_type": "code",
   "execution_count": null,
   "metadata": {
    "cell_id": "9122c732-854d-4977-b45f-760745a6571c",
    "collapsed": true
   },
   "outputs": [],
   "source": [
    "sp_data = pd.read_csv('https://tf-assets-prod.s3.amazonaws.com/tf-curric/data-science/SP500_raw.csv')\n",
    "\n",
    "# Convert exchange rate to a number, with coersion to throw NA's if conversion not possible\n",
    "sp_data['price'] = pd.to_numeric(sp_data.SP500, errors='coerce')\n",
    "\n",
    "# Remove NA's\n",
    "sp_data.dropna(inplace=True)"
   ]
  },
  {
   "cell_type": "code",
   "execution_count": null,
   "metadata": {
    "cell_id": "b5deb889-a7e4-47a2-9b11-f8fac62a50ef",
    "scrolled": false
   },
   "outputs": [
    {
     "data": {
      "application/vnd.deepnote.dataframe+json": {
       "numColumns": 3,
       "numElements": 5,
       "variableDetails": {
        "columns": [
         {
          "name": "DATE",
          "stats": {
           "count": 5,
           "freq": 1,
           "nan_count": 0,
           "top": "2008-01-03",
           "unique": 5
          }
         },
         {
          "name": "SP500",
          "stats": {
           "count": 5,
           "freq": 2,
           "nan_count": 0,
           "top": "1447.16",
           "unique": 4
          }
         },
         {
          "name": "price",
          "stats": {
           "25%": 1411.63,
           "50%": 1416.18,
           "75%": 1447.16,
           "count": 5,
           "max": 1447.16,
           "mean": 1422.4640000000004,
           "min": 1390.19,
           "nan_count": 0,
           "std": 24.587904140044152
          }
         }
        ],
        "dataframe": {
         "0": {
          "DATE": "2008-01-02",
          "SP500": "1447.16",
          "price": 1447.16
         },
         "1": {
          "DATE": "2008-01-03",
          "SP500": "1447.16",
          "price": 1447.16
         },
         "2": {
          "DATE": "2008-01-04",
          "SP500": "1411.63",
          "price": 1411.63
         },
         "3": {
          "DATE": "2008-01-07",
          "SP500": "1416.18",
          "price": 1416.18
         },
         "4": {
          "DATE": "2008-01-08",
          "SP500": "1390.19",
          "price": 1390.19
         }
        },
        "frequencyInfo": [
         {
          "frequencyData": [
           {
            "frequency": 0.2,
            "name": "2008-01-02"
           },
           {
            "frequency": 0.2,
            "name": "2008-01-03"
           },
           {
            "frequency": 0.6,
            "name": "3 others"
           }
          ],
          "type": "freq"
         },
         {
          "frequencyData": [
           {
            "frequency": 0.4,
            "name": "1447.16"
           },
           {
            "frequency": 0.2,
            "name": "1411.63"
           },
           {
            "frequency": 0.4,
            "name": "2 others"
           }
          ],
          "type": "freq"
         },
         {
          "frequencyData": [
           {
            "x": 1390.19,
            "y": 1
           },
           {
            "x": 1395.8870000000002,
            "y": 0
           },
           {
            "x": 1401.584,
            "y": 0
           },
           {
            "x": 1407.281,
            "y": 1
           },
           {
            "x": 1412.978,
            "y": 1
           },
           {
            "x": 1418.6750000000002,
            "y": 0
           },
           {
            "x": 1424.372,
            "y": 0
           },
           {
            "x": 1430.069,
            "y": 0
           },
           {
            "x": 1435.766,
            "y": 0
           },
           {
            "x": 1441.4630000000002,
            "y": 2
           }
          ],
          "type": "hist"
         }
        ]
       }
      },
      "text/html": [
       "<div>\n",
       "<style scoped>\n",
       "    .dataframe tbody tr th:only-of-type {\n",
       "        vertical-align: middle;\n",
       "    }\n",
       "\n",
       "    .dataframe tbody tr th {\n",
       "        vertical-align: top;\n",
       "    }\n",
       "\n",
       "    .dataframe thead th {\n",
       "        text-align: right;\n",
       "    }\n",
       "</style>\n",
       "<table border=\"1\" class=\"dataframe\">\n",
       "  <thead>\n",
       "    <tr style=\"text-align: right;\">\n",
       "      <th></th>\n",
       "      <th>DATE</th>\n",
       "      <th>SP500</th>\n",
       "      <th>price</th>\n",
       "    </tr>\n",
       "  </thead>\n",
       "  <tbody>\n",
       "    <tr>\n",
       "      <th>0</th>\n",
       "      <td>2008-01-02</td>\n",
       "      <td>1447.16</td>\n",
       "      <td>1447.16</td>\n",
       "    </tr>\n",
       "    <tr>\n",
       "      <th>1</th>\n",
       "      <td>2008-01-03</td>\n",
       "      <td>1447.16</td>\n",
       "      <td>1447.16</td>\n",
       "    </tr>\n",
       "    <tr>\n",
       "      <th>2</th>\n",
       "      <td>2008-01-04</td>\n",
       "      <td>1411.63</td>\n",
       "      <td>1411.63</td>\n",
       "    </tr>\n",
       "    <tr>\n",
       "      <th>3</th>\n",
       "      <td>2008-01-07</td>\n",
       "      <td>1416.18</td>\n",
       "      <td>1416.18</td>\n",
       "    </tr>\n",
       "    <tr>\n",
       "      <th>4</th>\n",
       "      <td>2008-01-08</td>\n",
       "      <td>1390.19</td>\n",
       "      <td>1390.19</td>\n",
       "    </tr>\n",
       "  </tbody>\n",
       "</table>\n",
       "</div>"
      ],
      "text/plain": [
       "         DATE    SP500    price\n",
       "0  2008-01-02  1447.16  1447.16\n",
       "1  2008-01-03  1447.16  1447.16\n",
       "2  2008-01-04  1411.63  1411.63\n",
       "3  2008-01-07  1416.18  1416.18\n",
       "4  2008-01-08  1390.19  1390.19"
      ]
     },
     "execution_count": 3,
     "metadata": {},
     "output_type": "execute_result"
    }
   ],
   "source": [
    "sp_data.head()"
   ]
  },
  {
   "cell_type": "code",
   "execution_count": null,
   "metadata": {
    "cell_id": "69ffbdf5-e4fa-4355-b5fd-f70515ea7e39"
   },
   "outputs": [
    {
     "data": {
      "image/png": "[encoded data removed]",
      "text/plain": [
       "<Figure size 432x288 with 1 Axes>"
      ]
     },
     "metadata": {
      "needs_background": "light"
     },
     "output_type": "display_data"
    }
   ],
   "source": [
    "sp_data.plot()\n",
    "plt.title('S&P500 Time Series')\n",
    "plt.show()"
   ]
  },
  {
   "cell_type": "markdown",
   "metadata": {
    "cell_id": "0cfdc076-7822-47d7-99ff-ff80ec817a88",
    "collapsed": true
   },
   "source": [
    "So, now we have a time series of exchange rate data. Our x-axis doesn't make much sense, though. How could we fix that?\n",
    "\n",
    "Let's use pandas to create a date based index."
   ]
  },
  {
   "cell_type": "code",
   "execution_count": null,
   "metadata": {
    "cell_id": "cbb915cb-1f0a-4e74-99fc-a31d7e87ca9b"
   },
   "outputs": [
    {
     "data": {
      "image/png": "[encoded data removed]",
      "text/plain": [
       "<Figure size 432x288 with 1 Axes>"
      ]
     },
     "metadata": {
      "needs_background": "light"
     },
     "output_type": "display_data"
    }
   ],
   "source": [
    "sp_data.index = pd.to_datetime(sp_data.DATE)\n",
    "sp_data.plot()\n",
    "plt.title('S&P 500 Time Series')\n",
    "plt.show()"
   ]
  },
  {
   "cell_type": "markdown",
   "metadata": {
    "cell_id": "2f025ddb-1141-4406-876f-8323e697f460"
   },
   "source": [
    "That's better. Now we have a sense of the amount of time actually covered by our time series. As we discussed previously, however, we need a stationary data set. This looks as though it might have a trend to it, so let's try plotting the difference."
   ]
  },
  {
   "cell_type": "code",
   "execution_count": null,
   "metadata": {
    "cell_id": "76e2acd0-ea5f-4d39-b372-adaed2850413",
    "scrolled": false
   },
   "outputs": [
    {
     "data": {
      "image/png": "[encoded data removed]",
      "text/plain": [
       "<Figure size 432x288 with 1 Axes>"
      ]
     },
     "metadata": {
      "needs_background": "light"
     },
     "output_type": "display_data"
    }
   ],
   "source": [
    "sp_data['diff_1'] = sp_data.price - sp_data.price.shift()\n",
    "sp_data.plot(y='diff_1')\n",
    "plt.title('S&P 500 Time Series')\n",
    "plt.show()"
   ]
  },
  {
   "cell_type": "markdown",
   "metadata": {
    "cell_id": "825ab7ef-84ca-45e5-9968-3fa0c902789c"
   },
   "source": [
    "We'll also want to investigate the PACF. Let's look at the PACF for both the initial and differenced time series."
   ]
  },
  {
   "cell_type": "code",
   "execution_count": null,
   "metadata": {
    "cell_id": "81c9362a-a105-42a3-a552-b49792ab804d",
    "scrolled": true
   },
   "outputs": [
    {
     "data": {
      "text/plain": [
       "Text(0.5, 1.0, 'S&P PACF')"
      ]
     },
     "execution_count": 7,
     "metadata": {},
     "output_type": "execute_result"
    },
    {
     "data": {
      "image/png": "[encoded data removed]",
      "text/plain": [
       "<Figure size 432x288 with 1 Axes>"
      ]
     },
     "metadata": {
      "needs_background": "light"
     },
     "output_type": "display_data"
    }
   ],
   "source": [
    "from statsmodels.tsa.stattools import pacf\n",
    "x_acf = pd.DataFrame(pacf(sp_data.price))\n",
    "x_acf.plot(kind='bar')\n",
    "plt.title(\"S&P PACF\")"
   ]
  },
  {
   "cell_type": "code",
   "execution_count": null,
   "metadata": {
    "cell_id": "20bb31c2-c00a-4b8f-95ba-eb6c83c0b290"
   },
   "outputs": [
    {
     "data": {
      "text/plain": [
       "<matplotlib.legend.Legend at 0x7f017e600748>"
      ]
     },
     "execution_count": 8,
     "metadata": {},
     "output_type": "execute_result"
    },
    {
     "data": {
      "image/png": "[encoded data removed]",
      "text/plain": [
       "<Figure size 432x288 with 1 Axes>"
      ]
     },
     "metadata": {
      "needs_background": "light"
     },
     "output_type": "display_data"
    }
   ],
   "source": [
    "x_acf = pd.DataFrame(pacf(sp_data.diff_1[1:]))\n",
    "x_acf.plot(kind='bar')\n",
    "plt.title(\"S&P 500 Diff PACF\")\n",
    "plt.legend(['difference'])"
   ]
  },
  {
   "cell_type": "markdown",
   "metadata": {
    "cell_id": "2ac541ff-d1ef-43bb-b2bd-54f1f5721bca"
   },
   "source": [
    "## Building models.\n",
    "\n",
    "So our initial time series has 1 strong autocorrelation but the differences seem to show no real autocorrelation. Let's build some ARIMA models to experiment and see how we do!\n",
    "\n",
    "We're going to build a series of models to evaluate, each with slightly different parameters for the ARIMA. Note that the parameteres are passed in (p, d, q) order, corresponding to the AR, I, and MA portions respectively.\n",
    "\n",
    "Recall how we interpret those attributes. The AR is the past values, I is the level of differencing, and MA is adjusting to past errors."
   ]
  },
  {
   "cell_type": "code",
   "execution_count": null,
   "metadata": {
    "cell_id": "dd8baeb7-7dbf-444e-b1e2-eab4bcff5a10"
   },
   "outputs": [
    {
     "name": "stdout",
     "output_type": "stream",
     "text": [
      "                             ARIMA Model Results                              \n",
      "==============================================================================\n",
      "Dep. Variable:                D.price   No. Observations:                 2266\n",
      "Model:                 ARIMA(0, 1, 0)   Log Likelihood               -9602.159\n",
      "Method:                           css   S.D. of innovations             16.753\n",
      "Date:                Mon, 13 Apr 2020   AIC                          19208.317\n",
      "Time:                        15:37:20   BIC                          19219.769\n",
      "Sample:                             1   HQIC                         19212.496\n",
      "                                                                              \n",
      "==============================================================================\n",
      "                 coef    std err          z      P>|z|      [0.025      0.975]\n",
      "------------------------------------------------------------------------------\n",
      "const          0.3494      0.352      0.993      0.321      -0.340       1.039\n",
      "==============================================================================\n",
      "Residuals Description\n",
      "count    2.266000e+03\n",
      "mean     1.505121e-16\n",
      "std      1.675631e+01\n",
      "min     -1.069694e+02\n",
      "25%     -7.314369e+00\n",
      "50%      5.206311e-01\n",
      "75%      8.590631e+00\n",
      "max      1.037806e+02\n",
      "dtype: float64\n",
      "/opt/venv/lib/python3.7/site-packages/statsmodels/tsa/base/tsa_model.py:218: ValueWarning: A date index has been provided, but it has no associated frequency information and so will be ignored when e.g. forecasting.\n",
      "  ' ignored when e.g. forecasting.', ValueWarning)\n",
      "/opt/venv/lib/python3.7/site-packages/statsmodels/tsa/base/tsa_model.py:218: ValueWarning: A date index has been provided, but it has no associated frequency information and so will be ignored when e.g. forecasting.\n",
      "  ' ignored when e.g. forecasting.', ValueWarning)\n"
     ],
     "truncated": false
    }
   ],
   "source": [
    "from statsmodels.tsa.arima_model import ARIMA\n",
    "model = ARIMA(sp_data.price, order=(0,1,0))\n",
    "model_fit = model.fit()\n",
    "print(model_fit.summary())\n",
    "print('Residuals Description')\n",
    "print(model_fit.resid.describe())"
   ]
  },
  {
   "cell_type": "code",
   "execution_count": null,
   "metadata": {
    "cell_id": "6378c2a3-2b15-4c1f-8d1a-d3a0c36c7bac",
    "scrolled": true
   },
   "outputs": [
    {
     "name": "stderr",
     "output_type": "stream",
     "text": [
      "/opt/venv/lib/python3.7/site-packages/statsmodels/tsa/base/tsa_model.py:218: ValueWarning: A date index has been provided, but it has no associated frequency information and so will be ignored when e.g. forecasting.\n",
      "  ' ignored when e.g. forecasting.', ValueWarning)\n",
      "                              ARMA Model Results                              \n",
      "==============================================================================\n",
      "Dep. Variable:                  price   No. Observations:                 2267\n",
      "Model:                     ARMA(1, 0)   Log Likelihood               -9609.725\n",
      "Method:                       css-mle   S.D. of innovations             16.753\n",
      "Date:                Mon, 13 Apr 2020   AIC                          19225.451\n",
      "Time:                        15:37:23   BIC                          19242.629\n",
      "Sample:                             0   HQIC                         19231.718\n",
      "                                                                              \n",
      "===============================================================================\n",
      "                  coef    std err          z      P>|z|      [0.025      0.975]\n",
      "-------------------------------------------------------------------------------\n",
      "const        1686.5102    331.108      5.094      0.000    1037.550    2335.470\n",
      "ar.L1.price     0.9993      0.001   1575.460      0.000       0.998       1.001\n",
      "                                    Roots                                    \n",
      "=============================================================================\n",
      "                  Real          Imaginary           Modulus         Frequency\n",
      "-----------------------------------------------------------------------------\n",
      "AR.1            1.0007           +0.0000j            1.0007            0.0000\n",
      "-----------------------------------------------------------------------------\n",
      "Residuals Description\n",
      "count    2267.000000\n",
      "mean        0.123387\n",
      "std        17.493392\n",
      "min      -239.350202\n",
      "25%        -7.089776\n",
      "50%         0.744516\n",
      "75%         8.817798\n",
      "max       103.560047\n",
      "dtype: float64\n"
     ],
     "truncated": false
    }
   ],
   "source": [
    "from statsmodels.tsa.arima_model import ARIMA\n",
    "model = ARIMA(sp_data.price, order=(1,0,0))\n",
    "model_fit = model.fit()\n",
    "print(model_fit.summary())\n",
    "print('Residuals Description')\n",
    "print(model_fit.resid.describe())"
   ]
  },
  {
   "cell_type": "code",
   "execution_count": null,
   "metadata": {
    "cell_id": "a9926115-7e4e-4ca5-b694-631ae1ccb5db"
   },
   "outputs": [
    {
     "name": "stderr",
     "output_type": "stream",
     "text": [
      "/opt/venv/lib/python3.7/site-packages/statsmodels/tsa/base/tsa_model.py:218: ValueWarning: A date index has been provided, but it has no associated frequency information and so will be ignored when e.g. forecasting.\n",
      "  ' ignored when e.g. forecasting.', ValueWarning)\n",
      "                              ARMA Model Results                              \n",
      "==============================================================================\n",
      "Dep. Variable:                  price   No. Observations:                 2267\n",
      "Model:                     ARMA(1, 1)   Log Likelihood               -9603.247\n",
      "Method:                       css-mle   S.D. of innovations             16.705\n",
      "Date:                Mon, 13 Apr 2020   AIC                          19214.494\n",
      "Time:                        15:37:26   BIC                          19237.399\n",
      "Sample:                             0   HQIC                         19222.851\n",
      "                                                                              \n",
      "===============================================================================\n",
      "                  coef    std err          z      P>|z|      [0.025      0.975]\n",
      "-------------------------------------------------------------------------------\n",
      "const        1707.4357    344.649      4.954      0.000    1031.935    2382.936\n",
      "ar.L1.price     0.9994      0.001   1780.215      0.000       0.998       1.000\n",
      "ma.L1.price    -0.0787      0.022     -3.614      0.000      -0.121      -0.036\n",
      "                                    Roots                                    \n",
      "=============================================================================\n",
      "                  Real          Imaginary           Modulus         Frequency\n",
      "-----------------------------------------------------------------------------\n",
      "AR.1            1.0006           +0.0000j            1.0006            0.0000\n",
      "MA.1           12.7139           +0.0000j           12.7139            0.0000\n",
      "-----------------------------------------------------------------------------\n",
      "Residuals Description\n",
      "count    2267.000000\n",
      "mean        0.140356\n",
      "std        17.578967\n",
      "min      -260.275689\n",
      "25%        -7.062054\n",
      "50%         1.026887\n",
      "75%         8.741181\n",
      "max       102.280341\n",
      "dtype: float64\n"
     ],
     "truncated": false
    }
   ],
   "source": [
    "from statsmodels.tsa.arima_model import ARIMA\n",
    "model = ARIMA(sp_data.price, order=(1,0,1))\n",
    "model_fit = model.fit(disp=0)\n",
    "print(model_fit.summary())\n",
    "print('Residuals Description')\n",
    "print(model_fit.resid.describe())"
   ]
  },
  {
   "cell_type": "code",
   "execution_count": null,
   "metadata": {
    "cell_id": "2e2a4a67-e1d9-467a-9070-fb2bf305ef5d"
   },
   "outputs": [
    {
     "name": "stderr",
     "output_type": "stream",
     "text": [
      "/opt/venv/lib/python3.7/site-packages/statsmodels/tsa/base/tsa_model.py:218: ValueWarning: A date index has been provided, but it has no associated frequency information and so will be ignored when e.g. forecasting.\n",
      "  ' ignored when e.g. forecasting.', ValueWarning)\n",
      "/opt/venv/lib/python3.7/site-packages/statsmodels/tsa/base/tsa_model.py:218: ValueWarning: A date index has been provided, but it has no associated frequency information and so will be ignored when e.g. forecasting.\n",
      "  ' ignored when e.g. forecasting.', ValueWarning)\n",
      "                             ARIMA Model Results                              \n",
      "==============================================================================\n",
      "Dep. Variable:                D.price   No. Observations:                 2266\n",
      "Model:                 ARIMA(1, 1, 1)   Log Likelihood               -9592.974\n",
      "Method:                       css-mle   S.D. of innovations             16.685\n",
      "Date:                Mon, 13 Apr 2020   AIC                          19193.947\n",
      "Time:                        15:37:27   BIC                          19216.850\n",
      "Sample:                             1   HQIC                         19202.304\n",
      "                                                                              \n",
      "=================================================================================\n",
      "                    coef    std err          z      P>|z|      [0.025      0.975]\n",
      "---------------------------------------------------------------------------------\n",
      "const             0.3530      0.289      1.222      0.222      -0.213       0.919\n",
      "ar.L1.D.price     0.5832      0.155      3.765      0.000       0.280       0.887\n",
      "ma.L1.D.price    -0.6565      0.144     -4.559      0.000      -0.939      -0.374\n",
      "                                    Roots                                    \n",
      "=============================================================================\n",
      "                  Real          Imaginary           Modulus         Frequency\n",
      "-----------------------------------------------------------------------------\n",
      "AR.1            1.7147           +0.0000j            1.7147            0.0000\n",
      "MA.1            1.5232           +0.0000j            1.5232            0.0000\n",
      "-----------------------------------------------------------------------------\n",
      "Residuals Description\n",
      "count    2266.000000\n",
      "mean       -0.002494\n",
      "std        16.688544\n",
      "min      -106.294400\n",
      "25%        -7.452403\n",
      "50%         1.039098\n",
      "75%         8.708523\n",
      "max        96.668746\n",
      "dtype: float64\n"
     ],
     "truncated": false
    }
   ],
   "source": [
    "from statsmodels.tsa.arima_model import ARIMA\n",
    "model_111 = ARIMA(sp_data.price, order=(1,1,1))\n",
    "model_111_fit = model_111.fit()\n",
    "print(model_111_fit.summary())\n",
    "print('Residuals Description')\n",
    "print(model_111_fit.resid.describe())"
   ]
  },
  {
   "cell_type": "code",
   "execution_count": null,
   "metadata": {
    "cell_id": "43e4f73b-63aa-4240-a1e5-6c1dcdfabd1f"
   },
   "outputs": [
    {
     "name": "stderr",
     "output_type": "stream",
     "text": [
      "/opt/venv/lib/python3.7/site-packages/statsmodels/tsa/base/tsa_model.py:218: ValueWarning: A date index has been provided, but it has no associated frequency information and so will be ignored when e.g. forecasting.\n",
      "  ' ignored when e.g. forecasting.', ValueWarning)\n",
      "/opt/venv/lib/python3.7/site-packages/statsmodels/tsa/base/tsa_model.py:218: ValueWarning: A date index has been provided, but it has no associated frequency information and so will be ignored when e.g. forecasting.\n",
      "  ' ignored when e.g. forecasting.', ValueWarning)\n",
      "                             ARIMA Model Results                              \n",
      "==============================================================================\n",
      "Dep. Variable:                D.price   No. Observations:                 2266\n",
      "Model:                 ARIMA(5, 1, 5)   Log Likelihood               -9589.032\n",
      "Method:                       css-mle   S.D. of innovations             16.632\n",
      "Date:                Mon, 13 Apr 2020   AIC                          19202.064\n",
      "Time:                        15:38:25   BIC                          19270.774\n",
      "Sample:                             1   HQIC                         19227.134\n",
      "                                                                              \n",
      "=================================================================================\n",
      "                    coef    std err          z      P>|z|      [0.025      0.975]\n",
      "---------------------------------------------------------------------------------\n",
      "const             0.3524      0.288      1.223      0.221      -0.212       0.917\n",
      "ar.L1.D.price    -0.7998      0.148     -5.390      0.000      -1.091      -0.509\n",
      "ar.L2.D.price    -0.4273      0.209     -2.047      0.041      -0.836      -0.018\n",
      "ar.L3.D.price    -0.6298      0.190     -3.317      0.001      -1.002      -0.258\n",
      "ar.L4.D.price    -0.1464      0.208     -0.703      0.482      -0.555       0.262\n",
      "ar.L5.D.price     0.6000      0.148      4.066      0.000       0.311       0.889\n",
      "ma.L1.D.price     0.7286      0.138      5.282      0.000       0.458       0.999\n",
      "ma.L2.D.price     0.3262      0.193      1.687      0.092      -0.053       0.705\n",
      "ma.L3.D.price     0.5455      0.175      3.114      0.002       0.202       0.889\n",
      "ma.L4.D.price     0.0546      0.193      0.283      0.777      -0.324       0.433\n",
      "ma.L5.D.price    -0.6740      0.138     -4.892      0.000      -0.944      -0.404\n",
      "                                    Roots                                    \n",
      "=============================================================================\n",
      "                  Real          Imaginary           Modulus         Frequency\n",
      "-----------------------------------------------------------------------------\n",
      "AR.1           -0.9049           -0.4307j            1.0022           -0.4293\n",
      "AR.2           -0.9049           +0.4307j            1.0022            0.4293\n",
      "AR.3            0.1995           -0.9813j            1.0014           -0.2181\n",
      "AR.4            0.1995           +0.9813j            1.0014            0.2181\n",
      "AR.5            1.6548           -0.0000j            1.6548           -0.0000\n",
      "MA.1           -0.9030           -0.4297j            1.0000           -0.4293\n",
      "MA.2           -0.9030           +0.4297j            1.0000            0.4293\n",
      "MA.3            0.2017           -0.9795j            1.0000           -0.2177\n",
      "MA.4            0.2017           +0.9795j            1.0000            0.2177\n",
      "MA.5            1.4836           -0.0000j            1.4836           -0.0000\n",
      "-----------------------------------------------------------------------------\n",
      "Residuals Description\n",
      "count    2266.000000\n",
      "mean       -0.002681\n",
      "std        16.663535\n",
      "min      -104.585113\n",
      "25%        -7.521599\n",
      "50%         0.874716\n",
      "75%         8.814340\n",
      "max        94.141649\n",
      "dtype: float64\n"
     ],
     "truncated": false
    }
   ],
   "source": [
    "from statsmodels.tsa.arima_model import ARIMA\n",
    "model = ARIMA(sp_data.price, order=(5,1,5))\n",
    "model_fit = model.fit()\n",
    "print(model_fit.summary())\n",
    "print('Residuals Description')\n",
    "print(model_fit.resid.describe())"
   ]
  },
  {
   "cell_type": "markdown",
   "metadata": {
    "cell_id": "1ff87141-63d0-4ee1-a7bc-7720c4a11702"
   },
   "source": [
    "Now, we haven't covered all of the output given by statsmodels summary function (if you want to dive deeper, we'd recommend you start diving [here](http://machinelearningmastery.com/arima-for-time-series-forecasting-with-python/)). What we're most interested in here are the p values of the coefficients, the log likelihood, and the residuals statistics.\n",
    "\n",
    "Now, the p-values are a way of approximating the likelihood that the coefficient has a significant effect on our outcome, though again it is formally a probability of more extreme results. It allows us to craft the 95% confidence interval for that coefficient. If zero is within that interval, than that coefficient is often considered to be potentially unnecessary.\n",
    "\n",
    "The log-likelihood is a log of the likelihood that the given model would generate the data we see. The closer to zero, the higher the probablity we are to have predicted our outcome with our given model.\n",
    "\n",
    "What you can tell from these models, however, is that the outcomes are not great. There is not a huge difference in performance across the models and they all seem generally pretty weak.\n",
    "\n",
    "## Residuals\n",
    "\n",
    "Now, the last thing we want to introduce here are residuals. Residuals are basically what is left over when we build our model, or the difference between our prediction and the observed quantity. In time series residuals are typically pretty important. You want your residuals to be random and normally distributed. That's the assumption made about errors in linear modeling.\n",
    "\n",
    "So how can we validate this?\n",
    "\n",
    "Let's look at our ARIMA(1,1,1) residuals and see."
   ]
  },
  {
   "cell_type": "code",
   "execution_count": null,
   "metadata": {
    "cell_id": "6ede673d-001e-44d9-9d10-79829d1d5461",
    "scrolled": true
   },
   "outputs": [
    {
     "data": {
      "text/plain": [
       "Text(0.5, 1.0, 'Histogram of Residuals')"
      ]
     },
     "execution_count": 14,
     "metadata": {},
     "output_type": "execute_result"
    },
    {
     "data": {
      "image/png": "[encoded data removed]",
      "text/plain": [
       "<Figure size 432x288 with 1 Axes>"
      ]
     },
     "metadata": {
      "needs_background": "light"
     },
     "output_type": "display_data"
    },
    {
     "data": {
      "image/png": "[encoded data removed]",
      "text/plain": [
       "<Figure size 432x288 with 1 Axes>"
      ]
     },
     "metadata": {
      "needs_background": "light"
     },
     "output_type": "display_data"
    }
   ],
   "source": [
    "residuals = pd.DataFrame(model_111_fit.resid)\n",
    "\n",
    "residuals.plot(legend=False)\n",
    "plt.title('Time Series of Residuals')\n",
    "\n",
    "residuals.hist(bins=20)\n",
    "plt.title('Histogram of Residuals')"
   ]
  },
  {
   "cell_type": "markdown",
   "metadata": {
    "cell_id": "18e08454-3902-4038-90a2-de9236318b90",
    "tags": []
   },
   "source": [
    "The MA part indicates that the regression error is actually a linear combination of error terms whose values occurred contemporaneously and at various times in the past."
   ]
  },
  {
   "cell_type": "markdown",
   "metadata": {
    "cell_id": "0e0323c2-5647-4cac-850b-c3d9ed56fc80"
   },
   "source": [
    "\n",
    "When we look at these residuals plots, we can make two reasonable assumptions. Firstly, there isn't a clear trend in the residuals. There are definitely places of higher volatility, and our model could be expanded to include not time series elements that could account for that variation (by that we mean typical regression coefficients as we did in the linear modeling sections before, though this would require a dataset that includes such features). However, there isn't a clear trend to the data indicating an obviously missed seasonality.\n",
    "\n",
    "Secondly, our residuals seem approximately standard normal. There is a very long tail on the lower end, but that is a very small number of observations that are likely outliers or caused by some external influence.\n",
    "\n",
    "## Interpreting the ARIMA (1,0,1)\n",
    "\n",
    "Before we move on to the Challenge for this section, let's return to model interpretation. We've spent this time building models, but we haven't really talked about what our output means. Our ARIMA(1,0,1) is makes a good example for a quick interpretation.\n",
    "\n",
    "Firstly, the constant is approximately 1700. Then each day is approximately equal to the previous day's value. This is explained through the AR1 coefficient being 0.9994. The moving average term is approximately -0.0787, meaning that by incorporating the moving average term in the model, the error present in the model will be reduced by about 8% per day. The moving average part indicates that the regression error is actually a linear combination of error terms whose values occurred both in the current time lag and at various times in the past.\n",
    "\n",
    "Can you interpret the output of one of the other models? What about ARIMA(1,1,1)? Which do you prefer? Then try some of your own coefficients below."
   ]
  },
  {
   "cell_type": "code",
   "execution_count": null,
   "metadata": {
    "cell_id": "5a46c294-c519-42c6-a6ab-67ee3035627b",
    "collapsed": true
   },
   "outputs": [],
   "source": [
    "# Your code here.\n",
    "\n",
    "model = ARIMA(sp_data.price, order=(5,1,5))\n",
    "model_fit = model.fit()\n",
    "print(model_fit.summary())\n",
    "print('Residuals Description')\n",
    "print(model_fit.resid.describe())"
   ]
  },
  {
   "cell_type": "code",
   "execution_count": null,
   "metadata": {},
   "outputs": [],
   "source": []
  },
  {
   "cell_type": "markdown",
   "metadata": {
    "cell_id": "72b629d2-fff0-449c-9c26-265d75e6e9de"
   },
   "source": [
    "## Comparing Models with AIC\n",
    "\n",
    "Now we've generated a series of models, which one works best?\n",
    "\n",
    "Well, one of the easiest ways to compare time series models is with something called _Akaike Information Criteria_, or AIC. AIC is a measure of the degree of information contained in the model, if you recall some of our discussions of information theory in the Decision Tree section.\n",
    "\n",
    "Now, conveniently `statsmodels` calculates AIC for us (You can look more at that calculation starting [here](https://www.otexts.org/fpp/8/6). We want to minimize the value of the AIC. The model with the lowest AIC is likely the best model to choose. How much better is calculated using the ratios of AIC's.\n",
    "\n",
    "When comparing to our minimal AIC, other models are compared in the context of information loss. We calculated the probability that another model minimizes information loss. That calculation is:\n",
    "\n",
    "$$ exp((AIC_{min} - AIC_{x})/2) $$\n",
    "\n",
    "This gives our probability of having lost less information with the other model.\n",
    "\n",
    "For our examples, ARIMA(1,1,1) has an AIC of 19193. Our worst model has an AIC of 19225 (It's our ARIMA(1,0,0) or AR(1) model). But how do they compare?\n",
    "\n",
    "It turns out, when doing the above calculation, we get a probability of 1.125e-7 that we lost less information in our AR(1) model. That is a big difference and suggests that ARIMA(1,1,1) is a much better model.\n",
    "\n",
    "Compare the other models to ARIMA(1,1,1) below."
   ]
  },
  {
   "cell_type": "code",
   "execution_count": null,
   "metadata": {
    "cell_id": "5331ff55-614d-4c91-8827-ec65c08c8da0",
    "collapsed": true
   },
   "outputs": [],
   "source": [
    "# Use some Python to do the calculations here"
   ]
  }
 ],
 "metadata": {
  "deepnote_execution_queue": [],
  "deepnote_notebook_id": "cb67734c-833c-406c-91e5-b564077869b1",
  "hide_input": false,
  "kernelspec": {
   "display_name": "Python 3",
   "language": "python",
   "name": "python3"
  },
  "language_info": {
   "codemirror_mode": {
    "name": "ipython",
    "version": 3
   },
   "file_extension": ".py",
   "mimetype": "text/x-python",
   "name": "python",
   "nbconvert_exporter": "python",
   "pygments_lexer": "ipython3",
   "version": "3.7.7"
  }
 },
 "nbformat": 4,
 "nbformat_minor": 2
}
