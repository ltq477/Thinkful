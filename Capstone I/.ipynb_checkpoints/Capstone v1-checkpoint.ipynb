{
 "cells": [
  {
   "cell_type": "markdown",
   "metadata": {},
   "source": [
    "# Determining information derived from the population of 'Japan'\n",
    "### By Lawrence T Quesada"
   ]
  },
  {
   "cell_type": "markdown",
   "metadata": {},
   "source": [
    "## The Data: The Japanese Population  Dataset"
   ]
  },
  {
   "cell_type": "markdown",
   "metadata": {},
   "source": [
    "This is a Kaggle Dataset contributed by Joshua Deresnski on June 1, 2018. The dataset contains the population information for the different prefecture area of Japan with records dating back to 1870, around the time when recordkeeping begun.\n",
    "\n",
    "For historical information, The modernization of Japan begun during the Meiji era from Jan 25, 1868 until Jul 30, 1912. It was during this era that record keeping begun.\n",
    "\n",
    "With the declining in population of this asian economic giant, the dataset gives insight not just on the general population of the country. The Dataset is also broken down into the different prefectural regions. The data should give insight on whether the population begun its decline pre-world war II, post World War II and even duing the mordernization era of Japan, also known as the Meiji Era."
   ]
  },
  {
   "cell_type": "markdown",
   "metadata": {},
   "source": [
    "The Dataset can be found at this url: https://www.kaggle.com/jd1325/japan-population-data"
   ]
  },
  {
   "cell_type": "markdown",
   "metadata": {},
   "source": [
    "## Research Design"
   ]
  },
  {
   "cell_type": "markdown",
   "metadata": {},
   "source": [
    "This research will help identify population metrics throughout the country in order to make policy decisions that could benefit their citizens and residences."
   ]
  },
  {
   "cell_type": "markdown",
   "metadata": {},
   "source": [
    "#### The Hypothesis \n",
    "\n",
    "H0 - The Population has been in consistent increase since 1945.\n",
    "\n",
    "H1 - There is a significan difference in the population since 1945.\n"
   ]
  },
  {
   "cell_type": "markdown",
   "metadata": {},
   "source": [
    "#### In order to test the Hypothesis, we will be following these steps.\n",
    "\n",
    "- Initially we will perform an EDA (explaratory data analysis) to see what the current data tells us.\n",
    "- Plots will be made using matplotlib, seaborn to give us a visual representation of the current dataset.\n",
    "- We then need to separate the dates into post 1945 and pre 1945. 1945 as the end of world war II.\n",
    "- We will also group the prefectural regions and dates to separate them. This will give us an idea wheather the population has been on a nationwide scale or how different it is from one region to another.\n",
    "- We will get the T-Test in order to find out if there is a significant differences in population using .05 as the baseline value.\n",
    "- A map using pandas geoplot will be presented as a form of visual representation to see if the significant decrease in population is happening in certain regions or that of the entire country."
   ]
  },
  {
   "cell_type": "markdown",
   "metadata": {},
   "source": [
    "## Audience"
   ]
  },
  {
   "cell_type": "markdown",
   "metadata": {},
   "source": [
    "This research shall benefit Economists, Policy Makers, sociologists and students alike."
   ]
  },
  {
   "cell_type": "markdown",
   "metadata": {},
   "source": [
    "With reports of the general decline in Japan's population, the study gives more detailed information when making decisions. Not all policy decisions created can be created for all prefectural regions where some metropolitan areas such as Tokyo and Osaka may not have significant decrease in population. \n",
    "\n",
    "Economic reccomendations can also be provided depending on the prefectures' population. Will more development be needed with an increase on population in certain areas to serve a growing demand? or do we need to move development in an area with decreasing population in order to revitalize and support their local economies.\n",
    "\n",
    "The population count can also give rise to the study on whether its' cultural norms, and if the change in this could have affected their decrease or increase in population. Target areas can be specific to their line of research."
   ]
  },
  {
   "cell_type": "markdown",
   "metadata": {},
   "source": [
    "# Exploratory Data Analysis (EDA)"
   ]
  },
  {
   "cell_type": "markdown",
   "metadata": {},
   "source": [
    "### Importing the Libraries, viewing properties and head of dataset."
   ]
  },
  {
   "cell_type": "markdown",
   "metadata": {},
   "source": [
    "First, we will import the neccessary Python libraries needed in order to analyze the data, including libraries that will help up create charts telling us the story of the Data."
   ]
  },
  {
   "cell_type": "code",
   "execution_count": 1,
   "metadata": {},
   "outputs": [],
   "source": [
    "%matplotlib inline\n",
    "import numpy as np\n",
    "import pandas as pd\n",
    "import seaborn as sns\n",
    "import matplotlib.pyplot as plt\n",
    "from scipy import stats\n",
    "import statsmodels.stats.api as sms\n",
    "from statsmodels import stats as st\n",
    "import math"
   ]
  },
  {
   "cell_type": "markdown",
   "metadata": {},
   "source": [
    "We then begin reading the dataset as a pandas DataFrame and assigning it to a variable 'japan_pop'."
   ]
  },
  {
   "cell_type": "code",
   "execution_count": 2,
   "metadata": {},
   "outputs": [],
   "source": [
    "japan_pop = pd.read_csv('Japan_population_data.csv')"
   ]
  },
  {
   "cell_type": "markdown",
   "metadata": {},
   "source": [
    "Our first analysis will be retrieving basic information on the Dataset and viewing the head of the DataFrame to give us what the data would look like."
   ]
  },
  {
   "cell_type": "code",
   "execution_count": 3,
   "metadata": {
    "scrolled": false
   },
   "outputs": [
    {
     "name": "stdout",
     "output_type": "stream",
     "text": [
      "<class 'pandas.core.frame.DataFrame'>\n",
      "RangeIndex: 2632 entries, 0 to 2631\n",
      "Data columns (total 7 columns):\n",
      " #   Column          Non-Null Count  Dtype  \n",
      "---  ------          --------------  -----  \n",
      " 0   prefecture      2632 non-null   object \n",
      " 1   year            2632 non-null   float64\n",
      " 2   population      2540 non-null   float64\n",
      " 3   capital         2632 non-null   object \n",
      " 4   region          2632 non-null   object \n",
      " 5   estimated_area  2632 non-null   float64\n",
      " 6   island          2632 non-null   object \n",
      "dtypes: float64(3), object(4)\n",
      "memory usage: 144.1+ KB\n"
     ]
    },
    {
     "data": {
      "text/html": [
       "<div>\n",
       "<style scoped>\n",
       "    .dataframe tbody tr th:only-of-type {\n",
       "        vertical-align: middle;\n",
       "    }\n",
       "\n",
       "    .dataframe tbody tr th {\n",
       "        vertical-align: top;\n",
       "    }\n",
       "\n",
       "    .dataframe thead th {\n",
       "        text-align: right;\n",
       "    }\n",
       "</style>\n",
       "<table border=\"1\" class=\"dataframe\">\n",
       "  <thead>\n",
       "    <tr style=\"text-align: right;\">\n",
       "      <th></th>\n",
       "      <th>prefecture</th>\n",
       "      <th>year</th>\n",
       "      <th>population</th>\n",
       "      <th>capital</th>\n",
       "      <th>region</th>\n",
       "      <th>estimated_area</th>\n",
       "      <th>island</th>\n",
       "    </tr>\n",
       "  </thead>\n",
       "  <tbody>\n",
       "    <tr>\n",
       "      <th>0</th>\n",
       "      <td>Aichi-ken</td>\n",
       "      <td>1872.1667</td>\n",
       "      <td>1210368.0</td>\n",
       "      <td>Nagoya-shi</td>\n",
       "      <td>Chubu</td>\n",
       "      <td>5165.12</td>\n",
       "      <td>Honshu</td>\n",
       "    </tr>\n",
       "    <tr>\n",
       "      <th>1</th>\n",
       "      <td>Aichi-ken</td>\n",
       "      <td>1873.0000</td>\n",
       "      <td>1217444.0</td>\n",
       "      <td>Nagoya-shi</td>\n",
       "      <td>Chubu</td>\n",
       "      <td>5165.12</td>\n",
       "      <td>Honshu</td>\n",
       "    </tr>\n",
       "    <tr>\n",
       "      <th>2</th>\n",
       "      <td>Aichi-ken</td>\n",
       "      <td>1874.0000</td>\n",
       "      <td>1217521.0</td>\n",
       "      <td>Nagoya-shi</td>\n",
       "      <td>Chubu</td>\n",
       "      <td>5165.12</td>\n",
       "      <td>Honshu</td>\n",
       "    </tr>\n",
       "    <tr>\n",
       "      <th>3</th>\n",
       "      <td>Aichi-ken</td>\n",
       "      <td>1875.0000</td>\n",
       "      <td>1234003.0</td>\n",
       "      <td>Nagoya-shi</td>\n",
       "      <td>Chubu</td>\n",
       "      <td>5165.12</td>\n",
       "      <td>Honshu</td>\n",
       "    </tr>\n",
       "    <tr>\n",
       "      <th>4</th>\n",
       "      <td>Aichi-ken</td>\n",
       "      <td>1876.0000</td>\n",
       "      <td>1244711.0</td>\n",
       "      <td>Nagoya-shi</td>\n",
       "      <td>Chubu</td>\n",
       "      <td>5165.12</td>\n",
       "      <td>Honshu</td>\n",
       "    </tr>\n",
       "  </tbody>\n",
       "</table>\n",
       "</div>"
      ],
      "text/plain": [
       "  prefecture       year  population     capital region  estimated_area  island\n",
       "0  Aichi-ken  1872.1667   1210368.0  Nagoya-shi  Chubu         5165.12  Honshu\n",
       "1  Aichi-ken  1873.0000   1217444.0  Nagoya-shi  Chubu         5165.12  Honshu\n",
       "2  Aichi-ken  1874.0000   1217521.0  Nagoya-shi  Chubu         5165.12  Honshu\n",
       "3  Aichi-ken  1875.0000   1234003.0  Nagoya-shi  Chubu         5165.12  Honshu\n",
       "4  Aichi-ken  1876.0000   1244711.0  Nagoya-shi  Chubu         5165.12  Honshu"
      ]
     },
     "execution_count": 3,
     "metadata": {},
     "output_type": "execute_result"
    }
   ],
   "source": [
    "japan_pop.info()\n",
    "japan_pop.head()"
   ]
  },
  {
   "cell_type": "markdown",
   "metadata": {},
   "source": [
    "### Missing Values\n",
    "\n",
    "As we count for any missing values, we see that the populations has a raround 92 missing values. This may have led in different factores such as data collection accuracy and events that occured during some time periods."
   ]
  },
  {
   "cell_type": "code",
   "execution_count": 4,
   "metadata": {
    "scrolled": true
   },
   "outputs": [
    {
     "data": {
      "text/plain": [
       "prefecture         0\n",
       "year               0\n",
       "population        92\n",
       "capital            0\n",
       "region             0\n",
       "estimated_area     0\n",
       "island             0\n",
       "dtype: int64"
      ]
     },
     "execution_count": 4,
     "metadata": {},
     "output_type": "execute_result"
    }
   ],
   "source": [
    "#Getting the total count / sum of any missing values\n",
    "japan_pop.isna().sum()"
   ]
  },
  {
   "cell_type": "code",
   "execution_count": 5,
   "metadata": {},
   "outputs": [],
   "source": [
    "#Dropping the mising values\n",
    "japan_pop.dropna(inplace=True)"
   ]
  },
  {
   "cell_type": "code",
   "execution_count": 6,
   "metadata": {},
   "outputs": [
    {
     "data": {
      "text/plain": [
       "prefecture        0\n",
       "year              0\n",
       "population        0\n",
       "capital           0\n",
       "region            0\n",
       "estimated_area    0\n",
       "island            0\n",
       "dtype: int64"
      ]
     },
     "execution_count": 6,
     "metadata": {},
     "output_type": "execute_result"
    }
   ],
   "source": [
    "#veryfying that the missing values has been dropped\n",
    "japan_pop.isna().sum()"
   ]
  },
  {
   "cell_type": "markdown",
   "metadata": {},
   "source": [
    "### Changing the data type of  the 'year' column\n",
    "\n",
    "The column 'year' is formatted incorrectly as there are 4 digits pass the decimal point. We will format the dates properly by changing the datatype from a float into an integer. This will eliminate the unnecessary digits after the years' decimal place."
   ]
  },
  {
   "cell_type": "code",
   "execution_count": 7,
   "metadata": {},
   "outputs": [
    {
     "name": "stdout",
     "output_type": "stream",
     "text": [
      "<class 'pandas.core.frame.DataFrame'>\n",
      "Int64Index: 2540 entries, 0 to 2631\n",
      "Data columns (total 7 columns):\n",
      " #   Column          Non-Null Count  Dtype  \n",
      "---  ------          --------------  -----  \n",
      " 0   prefecture      2540 non-null   object \n",
      " 1   year            2540 non-null   int32  \n",
      " 2   population      2540 non-null   float64\n",
      " 3   capital         2540 non-null   object \n",
      " 4   region          2540 non-null   object \n",
      " 5   estimated_area  2540 non-null   float64\n",
      " 6   island          2540 non-null   object \n",
      "dtypes: float64(2), int32(1), object(4)\n",
      "memory usage: 148.8+ KB\n"
     ]
    },
    {
     "data": {
      "text/html": [
       "<div>\n",
       "<style scoped>\n",
       "    .dataframe tbody tr th:only-of-type {\n",
       "        vertical-align: middle;\n",
       "    }\n",
       "\n",
       "    .dataframe tbody tr th {\n",
       "        vertical-align: top;\n",
       "    }\n",
       "\n",
       "    .dataframe thead th {\n",
       "        text-align: right;\n",
       "    }\n",
       "</style>\n",
       "<table border=\"1\" class=\"dataframe\">\n",
       "  <thead>\n",
       "    <tr style=\"text-align: right;\">\n",
       "      <th></th>\n",
       "      <th>prefecture</th>\n",
       "      <th>year</th>\n",
       "      <th>population</th>\n",
       "      <th>capital</th>\n",
       "      <th>region</th>\n",
       "      <th>estimated_area</th>\n",
       "      <th>island</th>\n",
       "    </tr>\n",
       "  </thead>\n",
       "  <tbody>\n",
       "    <tr>\n",
       "      <th>0</th>\n",
       "      <td>Aichi-ken</td>\n",
       "      <td>1872</td>\n",
       "      <td>1210368.0</td>\n",
       "      <td>Nagoya-shi</td>\n",
       "      <td>Chubu</td>\n",
       "      <td>5165.12</td>\n",
       "      <td>Honshu</td>\n",
       "    </tr>\n",
       "    <tr>\n",
       "      <th>1</th>\n",
       "      <td>Aichi-ken</td>\n",
       "      <td>1873</td>\n",
       "      <td>1217444.0</td>\n",
       "      <td>Nagoya-shi</td>\n",
       "      <td>Chubu</td>\n",
       "      <td>5165.12</td>\n",
       "      <td>Honshu</td>\n",
       "    </tr>\n",
       "    <tr>\n",
       "      <th>2</th>\n",
       "      <td>Aichi-ken</td>\n",
       "      <td>1874</td>\n",
       "      <td>1217521.0</td>\n",
       "      <td>Nagoya-shi</td>\n",
       "      <td>Chubu</td>\n",
       "      <td>5165.12</td>\n",
       "      <td>Honshu</td>\n",
       "    </tr>\n",
       "    <tr>\n",
       "      <th>3</th>\n",
       "      <td>Aichi-ken</td>\n",
       "      <td>1875</td>\n",
       "      <td>1234003.0</td>\n",
       "      <td>Nagoya-shi</td>\n",
       "      <td>Chubu</td>\n",
       "      <td>5165.12</td>\n",
       "      <td>Honshu</td>\n",
       "    </tr>\n",
       "    <tr>\n",
       "      <th>4</th>\n",
       "      <td>Aichi-ken</td>\n",
       "      <td>1876</td>\n",
       "      <td>1244711.0</td>\n",
       "      <td>Nagoya-shi</td>\n",
       "      <td>Chubu</td>\n",
       "      <td>5165.12</td>\n",
       "      <td>Honshu</td>\n",
       "    </tr>\n",
       "  </tbody>\n",
       "</table>\n",
       "</div>"
      ],
      "text/plain": [
       "  prefecture  year  population     capital region  estimated_area  island\n",
       "0  Aichi-ken  1872   1210368.0  Nagoya-shi  Chubu         5165.12  Honshu\n",
       "1  Aichi-ken  1873   1217444.0  Nagoya-shi  Chubu         5165.12  Honshu\n",
       "2  Aichi-ken  1874   1217521.0  Nagoya-shi  Chubu         5165.12  Honshu\n",
       "3  Aichi-ken  1875   1234003.0  Nagoya-shi  Chubu         5165.12  Honshu\n",
       "4  Aichi-ken  1876   1244711.0  Nagoya-shi  Chubu         5165.12  Honshu"
      ]
     },
     "execution_count": 7,
     "metadata": {},
     "output_type": "execute_result"
    }
   ],
   "source": [
    "japan_pop['year'] = japan_pop['year'].astype(int)\n",
    "japan_pop.info()\n",
    "japan_pop.head()"
   ]
  },
  {
   "cell_type": "markdown",
   "metadata": {},
   "source": [
    "### Indentifying the number of Prefectural provinces.\n",
    "\n",
    "Looking at how many 'Prefectures' in order to conduct the analysis on each of them"
   ]
  },
  {
   "cell_type": "code",
   "execution_count": 8,
   "metadata": {},
   "outputs": [
    {
     "data": {
      "text/plain": [
       "count              2540\n",
       "unique               47\n",
       "top       Fukushima-ken\n",
       "freq                 56\n",
       "Name: prefecture, dtype: object"
      ]
     },
     "execution_count": 8,
     "metadata": {},
     "output_type": "execute_result"
    }
   ],
   "source": [
    "#Getting a Description of how many prefectural regions are there in Japan.\n",
    "japan_pop['prefecture'].describe()"
   ]
  },
  {
   "cell_type": "code",
   "execution_count": 9,
   "metadata": {
    "scrolled": true
   },
   "outputs": [
    {
     "data": {
      "text/plain": [
       "array(['Aichi-ken', 'Akita-ken', 'Aomori-ken', 'Chiba-ken', 'Ehime-ken',\n",
       "       'Fukui-ken', 'Fukuoka-ken', 'Fukushima-ken', 'Gifu-ken',\n",
       "       'Gunma-ken', 'Hiroshima-ken', 'Hokkaido', 'Hyogo-ken',\n",
       "       'Ibaraki-ken', 'Ishikawa-ken', 'Iwate-ken', 'Kagawa-ken',\n",
       "       'Kagoshima-ken', 'Kanagawa-ken', 'Kochi-ken', 'Kumamoto-ken',\n",
       "       'Kyoto-fu', 'Mie-ken', 'Miyagi-ken', 'Miyazaki-ken', 'Nagano-ken',\n",
       "       'Nagasaki-ken', 'Nara-ken', 'Niigata-ken', 'Oita-ken',\n",
       "       'Okayama-ken', 'Okinawa-ken', 'Osaka-fu', 'Saga-ken',\n",
       "       'Saitama-ken', 'Shiga-ken', 'Shimane-ken', 'Shizuoka-ken',\n",
       "       'Tochigi-ken', 'Tokushima-ken', 'Tokyo-to', 'Tottori-ken',\n",
       "       'Toyama-ken', 'Wakayama-ken', 'Yamagata-ken', 'Yamaguchi-ken',\n",
       "       'Yamanashi-ken'], dtype=object)"
      ]
     },
     "execution_count": 9,
     "metadata": {},
     "output_type": "execute_result"
    }
   ],
   "source": [
    "#Getting the names of each prefecture in Japan.\n",
    "japan_pop['prefecture'].unique()"
   ]
  },
  {
   "cell_type": "markdown",
   "metadata": {},
   "source": [
    "### Limiting to using 'regions' instead of prefecures.\n",
    "\n",
    "There are a lot or prefectures which may not fit the scale in plots that will be created. More specifically, there are '47' Prefectures in Japan. Additionally, each 'prefecture' may have different socio-economic factors and ways of gathering data. Getting into the more details analysis of 'prefectures will require more substantial time and research."
   ]
  },
  {
   "cell_type": "markdown",
   "metadata": {},
   "source": [
    "In order to change the scale, we will be using the regions of 'Japan' which is only composed of 8 regions. This will give us a larger picture of their population."
   ]
  },
  {
   "cell_type": "code",
   "execution_count": 10,
   "metadata": {},
   "outputs": [
    {
     "name": "stdout",
     "output_type": "stream",
     "text": [
      "['Chubu' 'Tohoku' 'Kanto' 'Shikoku' 'Kyushu' 'Chugoku' 'Hokkaido' 'Kansai']\n",
      "count      2540\n",
      "unique        8\n",
      "top       Chubu\n",
      "freq        482\n",
      "Name: region, dtype: object\n"
     ]
    }
   ],
   "source": [
    "#Couting the unique regions\n",
    "print(japan_pop['region'].unique())\n",
    "print(japan_pop['region'].describe())"
   ]
  },
  {
   "cell_type": "markdown",
   "metadata": {},
   "source": [
    "### Creating the Plots"
   ]
  },
  {
   "cell_type": "code",
   "execution_count": 11,
   "metadata": {},
   "outputs": [],
   "source": [
    "#Setting the scale of the plot for easier and larger viewing.\n",
    "sns.set(rc={'figure.figsize':[16, 10]})"
   ]
  },
  {
   "cell_type": "code",
   "execution_count": 12,
   "metadata": {},
   "outputs": [
    {
     "data": {
      "image/png": "[encoded data removed]",
      "text/plain": [
       "<Figure size 1152x720 with 1 Axes>"
      ]
     },
     "metadata": {},
     "output_type": "display_data"
    }
   ],
   "source": [
    "#Creating a barplot with the data.\n",
    "ax = sns.barplot(data= japan_pop, x='year', y='population', ci=None)\n",
    "plt.title('The Population of Japan, 1872 - 2015', fontsize=20)\n",
    "plt.xlabel('Years', fontsize=14)\n",
    "plt.xticks(rotation=45)\n",
    "plt.ylabel('Population', fontsize=14)\n",
    "plt.show()"
   ]
  },
  {
   "cell_type": "markdown",
   "metadata": {},
   "source": [
    "### Insights from the first 'barplot'.\n",
    "\n",
    "#### The Following Insights can be derived from the plot above\n",
    "\n",
    "* The Population has been increasing steadily with no significant change since record keeping begun.\n",
    "* Before 1898, There were minor changes in the populations which are barely noticable.\n",
    "* After 1898, a steady increase in population has begun without any significant changes.\n",
    "* before and after 1945 also showed a consistent and healthy increase in population. \n",
    "* There are no suddent spikes in the population.\n",
    "* Beginning 1947, we see a slight jump in population, however, the overal population does not show any critical change.\n",
    "\n",
    "We need to take a closer look if this has been the same trend in the different regions of 'Japan'.\n"
   ]
  },
  {
   "cell_type": "markdown",
   "metadata": {},
   "source": [
    "#### Alternative plot with a different viewpoint\n",
    "\n",
    "Next, we will create another plot with a different perspective in which we will look closely at the population data in each region instead of the whole country."
   ]
  },
  {
   "cell_type": "code",
   "execution_count": 13,
   "metadata": {
    "scrolled": false
   },
   "outputs": [
    {
     "data": {
      "image/png": "[encoded data removed]",
      "text/plain": [
       "<Figure size 1152x720 with 1 Axes>"
      ]
     },
     "metadata": {},
     "output_type": "display_data"
    }
   ],
   "source": [
    "sns.lineplot(x=\"year\", y=\"population\",\n",
    "             hue=\"region\",\n",
    "             data=japan_pop, ci=None)\n",
    "plt.title('The Population of Japan classified by Region', fontsize=24)\n",
    "plt.axvline(1945,0,max(japan_pop.population), linestyle='--')\n",
    "plt.xlabel('Years', fontsize=14)\n",
    "plt.ylabel('Population', fontsize=14)\n",
    "plt.legend(bbox_to_anchor=(1.05, 1), loc=2, borderaxespad=0., fontsize=12)\n",
    "plt.show()"
   ]
  },
  {
   "cell_type": "markdown",
   "metadata": {},
   "source": [
    "### Insights form the lineplot\n",
    "\n",
    "The following insights can be derived from the line plot. The lineplot above looked more closely at the different regions in Japan. The following are insghits that can be derived\n",
    "\n",
    "__A line was created in 1945 to observe the differences before and after.__\n",
    "\n",
    "#### Pre and Post 1945\n",
    "* When data collection begun, we see an evenly distributed population accross Japan.\n",
    "* 1945 was selected as a good indicator when the second world war ended.\n",
    "* There is a significant and __noticable dip and the population around 1945.__ This can also be attributed to the death tolls after dropping the atomic bomb in Hiroshima (150,000) and Nagasaki (75,000). (ref. http://www.aasc.ucla.edu/cab/200708230009.html)\n",
    "* The years following 1945 also showed an increase in population, which can also be attributed to the baby boomer generation. With the war ended, people can safely start families\n",
    "\n",
    "#### Top 3 regional insights\n",
    "* The 'Kanto' region shows a very __sharp increase__ which is not seen in any other regions. This can be attributed to the countrys' largest metropolitan city 'Tokyo'. Individuals may have been moving in large masses to Tokyo seeking better economic conditions.\n",
    "* The 'Hokkaido' region is located in the most Northern part of Japan which is known for its Dairy, Agriculture and Seafood. The conditions here makes it suitable for these activities. People may have seen better opportunities here after 1945 but begun to slide again when other opportunities found its way elsewhere.\n",
    "* The 'Kansai' region in Western Japan is the location of its second largest metropolitan city, 'Osaka'.\n",
    "\n",
    "#### Other Regional Insights\n",
    "* Though an increase in population can be seen, its growth is __significanly smaller__ and is not consistent with any economic growth. The growth has only been attributed to 'Kanto' while almost __disregading other areas.__\n",
    "* The __'Shikoku'__ region which once saw an increase in population around the 1880s not has the lowest population and is still __declining.__\n",
    "* The 'Tohoku' region also sees a decline inpopulation, especially in recent years."
   ]
  },
  {
   "cell_type": "markdown",
   "metadata": {},
   "source": [
    "### Alternative Plots\n",
    "\n",
    "An alternative plot will be created to validate our observations with the first plot. We will use a categorical plot and separate the periods before and after 1945."
   ]
  },
  {
   "cell_type": "markdown",
   "metadata": {},
   "source": [
    "### Creating Boxplots to view the distribution of data"
   ]
  },
  {
   "cell_type": "code",
   "execution_count": 14,
   "metadata": {
    "scrolled": true
   },
   "outputs": [
    {
     "data": {
      "image/png": "[encoded data removed]",
      "text/plain": [
       "<Figure size 1152x720 with 1 Axes>"
      ]
     },
     "metadata": {},
     "output_type": "display_data"
    }
   ],
   "source": [
    "#Plotting the population before 1945\n",
    "sns.boxplot(x='region', y='population', data=japan_pop.query('year < 1945'))\n",
    "plt.title('Population by region BEFORE 1945', fontsize=14)\n",
    "plt.xlabel('Region', fontsize=14)\n",
    "plt.ylabel('Population', fontsize=14)\n",
    "plt.show()"
   ]
  },
  {
   "cell_type": "code",
   "execution_count": 15,
   "metadata": {
    "scrolled": true
   },
   "outputs": [
    {
     "data": {
      "image/png": "[encoded data removed]",
      "text/plain": [
       "<Figure size 1152x720 with 1 Axes>"
      ]
     },
     "metadata": {},
     "output_type": "display_data"
    }
   ],
   "source": [
    "#Plotting the population after 1945\n",
    "sns.boxplot(x='region', y='population', data=japan_pop.query('year > 1945'))\n",
    "plt.title('Population by region AFTER 1945', fontsize=14)\n",
    "plt.xlabel('Region', fontsize=14)\n",
    "plt.ylabel('Population', fontsize=14)\n",
    "plt.show()"
   ]
  },
  {
   "cell_type": "markdown",
   "metadata": {},
   "source": [
    "### Observations Derived from the Box Plot\n",
    "\n",
    "The box plots also gives the same story of the data as with the previous lineplot. The following obeservations can be derived with the data.\n",
    "* The __'Kanto' region has a significant increase__ in spread, similar to the lineplot with a jump in population. Again, this signifies the growth in population in the largest city, Tokyo.\n",
    "* By viewing the different regions and comparing them, the __region of 'Kansai' and 'Shikoku' also sees a significant drop in population.__\n",
    "* The __scale__ of the Y-axis is also different. This signifies a change in the population."
   ]
  },
  {
   "cell_type": "code",
   "execution_count": 16,
   "metadata": {},
   "outputs": [
    {
     "data": {
      "image/png": "[encoded data removed]",
      "text/plain": [
       "<Figure size 1152x720 with 1 Axes>"
      ]
     },
     "metadata": {},
     "output_type": "display_data"
    }
   ],
   "source": [
    "#Histogram \n",
    "sns.distplot(japan_pop.year, kde=False, color='blue')\n",
    "plt.title('Histogram of the Japanese Population Datase', fontsize=14)\n",
    "plt.xlabel('YEAR', fontsize=14)\n",
    "plt.show()"
   ]
  },
  {
   "cell_type": "markdown",
   "metadata": {},
   "source": [
    "### Observations Derived from the Distribution Plot\n",
    "\n",
    "The following are the observations derived from the distribution plot above\n",
    "* There was __extensive Data collection before the 20th century.__ This may have been because of extra census taken, new and unfamliar collection methods. Additionally, this can be also attributed to the eagerness to modernize the country with census collection as being part of that.\n",
    "* Just before the years before the war, they have begun to familiarize themselves with Data collection methods which they plan to use to this day. The collection method may have occured every 5 years.\n",
    "* There was a huge __spike in the 1950's__ which can be attributed to the events following the war. More data could have been needed or the occupying forces may have required more infromation.\n",
    "* The 1960's has brought more consistency in data collection except around 1970. The __drop in data in 1970__ may be due to other factors which may need additional research.\n",
    "* the method of data collection from __1980 until 2015 has remained consistent__ and is now the standard model of data collection accepted by the Japanese government.\n",
    "* The Y-Axis denotes the counts."
   ]
  },
  {
   "cell_type": "markdown",
   "metadata": {},
   "source": [
    "### Experimental Design"
   ]
  },
  {
   "cell_type": "code",
   "execution_count": 17,
   "metadata": {},
   "outputs": [
    {
     "data": {
      "text/html": [
       "<div>\n",
       "<style scoped>\n",
       "    .dataframe tbody tr th:only-of-type {\n",
       "        vertical-align: middle;\n",
       "    }\n",
       "\n",
       "    .dataframe tbody tr th {\n",
       "        vertical-align: top;\n",
       "    }\n",
       "\n",
       "    .dataframe thead th {\n",
       "        text-align: right;\n",
       "    }\n",
       "</style>\n",
       "<table border=\"1\" class=\"dataframe\">\n",
       "  <thead>\n",
       "    <tr style=\"text-align: right;\">\n",
       "      <th></th>\n",
       "      <th>year</th>\n",
       "      <th>population</th>\n",
       "      <th>estimated_area</th>\n",
       "    </tr>\n",
       "  </thead>\n",
       "  <tbody>\n",
       "    <tr>\n",
       "      <th>count</th>\n",
       "      <td>796.000000</td>\n",
       "      <td>7.960000e+02</td>\n",
       "      <td>796.000000</td>\n",
       "    </tr>\n",
       "    <tr>\n",
       "      <th>mean</th>\n",
       "      <td>1976.345477</td>\n",
       "      <td>2.277505e+06</td>\n",
       "      <td>8063.320113</td>\n",
       "    </tr>\n",
       "    <tr>\n",
       "      <th>std</th>\n",
       "      <td>22.741865</td>\n",
       "      <td>2.062950e+06</td>\n",
       "      <td>11598.419569</td>\n",
       "    </tr>\n",
       "    <tr>\n",
       "      <th>min</th>\n",
       "      <td>1946.000000</td>\n",
       "      <td>5.574290e+05</td>\n",
       "      <td>1876.550000</td>\n",
       "    </tr>\n",
       "    <tr>\n",
       "      <th>25%</th>\n",
       "      <td>1955.000000</td>\n",
       "      <td>1.080301e+06</td>\n",
       "      <td>4146.740000</td>\n",
       "    </tr>\n",
       "    <tr>\n",
       "      <th>50%</th>\n",
       "      <td>1975.000000</td>\n",
       "      <td>1.568538e+06</td>\n",
       "      <td>6095.720000</td>\n",
       "    </tr>\n",
       "    <tr>\n",
       "      <th>75%</th>\n",
       "      <td>1995.000000</td>\n",
       "      <td>2.349375e+06</td>\n",
       "      <td>8396.160000</td>\n",
       "    </tr>\n",
       "    <tr>\n",
       "      <th>max</th>\n",
       "      <td>2015.000000</td>\n",
       "      <td>1.351373e+07</td>\n",
       "      <td>83457.000000</td>\n",
       "    </tr>\n",
       "  </tbody>\n",
       "</table>\n",
       "</div>"
      ],
      "text/plain": [
       "              year    population  estimated_area\n",
       "count   796.000000  7.960000e+02      796.000000\n",
       "mean   1976.345477  2.277505e+06     8063.320113\n",
       "std      22.741865  2.062950e+06    11598.419569\n",
       "min    1946.000000  5.574290e+05     1876.550000\n",
       "25%    1955.000000  1.080301e+06     4146.740000\n",
       "50%    1975.000000  1.568538e+06     6095.720000\n",
       "75%    1995.000000  2.349375e+06     8396.160000\n",
       "max    2015.000000  1.351373e+07    83457.000000"
      ]
     },
     "metadata": {},
     "output_type": "display_data"
    },
    {
     "data": {
      "text/html": [
       "<div>\n",
       "<style scoped>\n",
       "    .dataframe tbody tr th:only-of-type {\n",
       "        vertical-align: middle;\n",
       "    }\n",
       "\n",
       "    .dataframe tbody tr th {\n",
       "        vertical-align: top;\n",
       "    }\n",
       "\n",
       "    .dataframe thead th {\n",
       "        text-align: right;\n",
       "    }\n",
       "</style>\n",
       "<table border=\"1\" class=\"dataframe\">\n",
       "  <thead>\n",
       "    <tr style=\"text-align: right;\">\n",
       "      <th></th>\n",
       "      <th>prefecture</th>\n",
       "      <th>year</th>\n",
       "      <th>population</th>\n",
       "      <th>capital</th>\n",
       "      <th>region</th>\n",
       "      <th>estimated_area</th>\n",
       "      <th>island</th>\n",
       "    </tr>\n",
       "  </thead>\n",
       "  <tbody>\n",
       "    <tr>\n",
       "      <th>39</th>\n",
       "      <td>Aichi-ken</td>\n",
       "      <td>1946</td>\n",
       "      <td>2919085.0</td>\n",
       "      <td>Nagoya-shi</td>\n",
       "      <td>Chubu</td>\n",
       "      <td>5165.12</td>\n",
       "      <td>Honshu</td>\n",
       "    </tr>\n",
       "    <tr>\n",
       "      <th>40</th>\n",
       "      <td>Aichi-ken</td>\n",
       "      <td>1947</td>\n",
       "      <td>3122902.0</td>\n",
       "      <td>Nagoya-shi</td>\n",
       "      <td>Chubu</td>\n",
       "      <td>5165.12</td>\n",
       "      <td>Honshu</td>\n",
       "    </tr>\n",
       "    <tr>\n",
       "      <th>41</th>\n",
       "      <td>Aichi-ken</td>\n",
       "      <td>1948</td>\n",
       "      <td>3226116.0</td>\n",
       "      <td>Nagoya-shi</td>\n",
       "      <td>Chubu</td>\n",
       "      <td>5165.12</td>\n",
       "      <td>Honshu</td>\n",
       "    </tr>\n",
       "    <tr>\n",
       "      <th>42</th>\n",
       "      <td>Aichi-ken</td>\n",
       "      <td>1950</td>\n",
       "      <td>3390585.0</td>\n",
       "      <td>Nagoya-shi</td>\n",
       "      <td>Chubu</td>\n",
       "      <td>5165.12</td>\n",
       "      <td>Honshu</td>\n",
       "    </tr>\n",
       "    <tr>\n",
       "      <th>43</th>\n",
       "      <td>Aichi-ken</td>\n",
       "      <td>1955</td>\n",
       "      <td>3769209.0</td>\n",
       "      <td>Nagoya-shi</td>\n",
       "      <td>Chubu</td>\n",
       "      <td>5165.12</td>\n",
       "      <td>Honshu</td>\n",
       "    </tr>\n",
       "    <tr>\n",
       "      <th>...</th>\n",
       "      <td>...</td>\n",
       "      <td>...</td>\n",
       "      <td>...</td>\n",
       "      <td>...</td>\n",
       "      <td>...</td>\n",
       "      <td>...</td>\n",
       "      <td>...</td>\n",
       "    </tr>\n",
       "    <tr>\n",
       "      <th>2627</th>\n",
       "      <td>Yamanashi-ken</td>\n",
       "      <td>1995</td>\n",
       "      <td>881996.0</td>\n",
       "      <td>Kofu-shi</td>\n",
       "      <td>Chubu</td>\n",
       "      <td>4465.37</td>\n",
       "      <td>Honshu</td>\n",
       "    </tr>\n",
       "    <tr>\n",
       "      <th>2628</th>\n",
       "      <td>Yamanashi-ken</td>\n",
       "      <td>2000</td>\n",
       "      <td>888172.0</td>\n",
       "      <td>Kofu-shi</td>\n",
       "      <td>Chubu</td>\n",
       "      <td>4465.37</td>\n",
       "      <td>Honshu</td>\n",
       "    </tr>\n",
       "    <tr>\n",
       "      <th>2629</th>\n",
       "      <td>Yamanashi-ken</td>\n",
       "      <td>2005</td>\n",
       "      <td>884515.0</td>\n",
       "      <td>Kofu-shi</td>\n",
       "      <td>Chubu</td>\n",
       "      <td>4465.37</td>\n",
       "      <td>Honshu</td>\n",
       "    </tr>\n",
       "    <tr>\n",
       "      <th>2630</th>\n",
       "      <td>Yamanashi-ken</td>\n",
       "      <td>2010</td>\n",
       "      <td>863075.0</td>\n",
       "      <td>Kofu-shi</td>\n",
       "      <td>Chubu</td>\n",
       "      <td>4465.37</td>\n",
       "      <td>Honshu</td>\n",
       "    </tr>\n",
       "    <tr>\n",
       "      <th>2631</th>\n",
       "      <td>Yamanashi-ken</td>\n",
       "      <td>2015</td>\n",
       "      <td>835165.0</td>\n",
       "      <td>Kofu-shi</td>\n",
       "      <td>Chubu</td>\n",
       "      <td>4465.37</td>\n",
       "      <td>Honshu</td>\n",
       "    </tr>\n",
       "  </tbody>\n",
       "</table>\n",
       "<p>796 rows × 7 columns</p>\n",
       "</div>"
      ],
      "text/plain": [
       "         prefecture  year  population     capital region  estimated_area  \\\n",
       "39        Aichi-ken  1946   2919085.0  Nagoya-shi  Chubu         5165.12   \n",
       "40        Aichi-ken  1947   3122902.0  Nagoya-shi  Chubu         5165.12   \n",
       "41        Aichi-ken  1948   3226116.0  Nagoya-shi  Chubu         5165.12   \n",
       "42        Aichi-ken  1950   3390585.0  Nagoya-shi  Chubu         5165.12   \n",
       "43        Aichi-ken  1955   3769209.0  Nagoya-shi  Chubu         5165.12   \n",
       "...             ...   ...         ...         ...    ...             ...   \n",
       "2627  Yamanashi-ken  1995    881996.0    Kofu-shi  Chubu         4465.37   \n",
       "2628  Yamanashi-ken  2000    888172.0    Kofu-shi  Chubu         4465.37   \n",
       "2629  Yamanashi-ken  2005    884515.0    Kofu-shi  Chubu         4465.37   \n",
       "2630  Yamanashi-ken  2010    863075.0    Kofu-shi  Chubu         4465.37   \n",
       "2631  Yamanashi-ken  2015    835165.0    Kofu-shi  Chubu         4465.37   \n",
       "\n",
       "      island  \n",
       "39    Honshu  \n",
       "40    Honshu  \n",
       "41    Honshu  \n",
       "42    Honshu  \n",
       "43    Honshu  \n",
       "...      ...  \n",
       "2627  Honshu  \n",
       "2628  Honshu  \n",
       "2629  Honshu  \n",
       "2630  Honshu  \n",
       "2631  Honshu  \n",
       "\n",
       "[796 rows x 7 columns]"
      ]
     },
     "metadata": {},
     "output_type": "display_data"
    },
    {
     "data": {
      "text/html": [
       "<div>\n",
       "<style scoped>\n",
       "    .dataframe tbody tr th:only-of-type {\n",
       "        vertical-align: middle;\n",
       "    }\n",
       "\n",
       "    .dataframe tbody tr th {\n",
       "        vertical-align: top;\n",
       "    }\n",
       "\n",
       "    .dataframe thead th {\n",
       "        text-align: right;\n",
       "    }\n",
       "</style>\n",
       "<table border=\"1\" class=\"dataframe\">\n",
       "  <thead>\n",
       "    <tr style=\"text-align: right;\">\n",
       "      <th></th>\n",
       "      <th>year</th>\n",
       "      <th>population</th>\n",
       "      <th>estimated_area</th>\n",
       "    </tr>\n",
       "  </thead>\n",
       "  <tbody>\n",
       "    <tr>\n",
       "      <th>count</th>\n",
       "      <td>1698.000000</td>\n",
       "      <td>1.698000e+03</td>\n",
       "      <td>1698.000000</td>\n",
       "    </tr>\n",
       "    <tr>\n",
       "      <th>mean</th>\n",
       "      <td>1896.060071</td>\n",
       "      <td>9.825347e+05</td>\n",
       "      <td>8239.656514</td>\n",
       "    </tr>\n",
       "    <tr>\n",
       "      <th>std</th>\n",
       "      <td>19.470327</td>\n",
       "      <td>5.659468e+05</td>\n",
       "      <td>11833.990813</td>\n",
       "    </tr>\n",
       "    <tr>\n",
       "      <th>min</th>\n",
       "      <td>1872.000000</td>\n",
       "      <td>1.227050e+05</td>\n",
       "      <td>1876.550000</td>\n",
       "    </tr>\n",
       "    <tr>\n",
       "      <th>25%</th>\n",
       "      <td>1882.000000</td>\n",
       "      <td>6.560305e+05</td>\n",
       "      <td>4185.670000</td>\n",
       "    </tr>\n",
       "    <tr>\n",
       "      <th>50%</th>\n",
       "      <td>1890.000000</td>\n",
       "      <td>8.578600e+05</td>\n",
       "      <td>6114.090000</td>\n",
       "    </tr>\n",
       "    <tr>\n",
       "      <th>75%</th>\n",
       "      <td>1903.000000</td>\n",
       "      <td>1.185359e+06</td>\n",
       "      <td>8396.160000</td>\n",
       "    </tr>\n",
       "    <tr>\n",
       "      <th>max</th>\n",
       "      <td>1944.000000</td>\n",
       "      <td>7.354971e+06</td>\n",
       "      <td>83457.000000</td>\n",
       "    </tr>\n",
       "  </tbody>\n",
       "</table>\n",
       "</div>"
      ],
      "text/plain": [
       "              year    population  estimated_area\n",
       "count  1698.000000  1.698000e+03     1698.000000\n",
       "mean   1896.060071  9.825347e+05     8239.656514\n",
       "std      19.470327  5.659468e+05    11833.990813\n",
       "min    1872.000000  1.227050e+05     1876.550000\n",
       "25%    1882.000000  6.560305e+05     4185.670000\n",
       "50%    1890.000000  8.578600e+05     6114.090000\n",
       "75%    1903.000000  1.185359e+06     8396.160000\n",
       "max    1944.000000  7.354971e+06    83457.000000"
      ]
     },
     "metadata": {},
     "output_type": "display_data"
    },
    {
     "data": {
      "text/html": [
       "<div>\n",
       "<style scoped>\n",
       "    .dataframe tbody tr th:only-of-type {\n",
       "        vertical-align: middle;\n",
       "    }\n",
       "\n",
       "    .dataframe tbody tr th {\n",
       "        vertical-align: top;\n",
       "    }\n",
       "\n",
       "    .dataframe thead th {\n",
       "        text-align: right;\n",
       "    }\n",
       "</style>\n",
       "<table border=\"1\" class=\"dataframe\">\n",
       "  <thead>\n",
       "    <tr style=\"text-align: right;\">\n",
       "      <th></th>\n",
       "      <th>prefecture</th>\n",
       "      <th>year</th>\n",
       "      <th>population</th>\n",
       "      <th>capital</th>\n",
       "      <th>region</th>\n",
       "      <th>estimated_area</th>\n",
       "      <th>island</th>\n",
       "    </tr>\n",
       "  </thead>\n",
       "  <tbody>\n",
       "    <tr>\n",
       "      <th>0</th>\n",
       "      <td>Aichi-ken</td>\n",
       "      <td>1872</td>\n",
       "      <td>1210368.0</td>\n",
       "      <td>Nagoya-shi</td>\n",
       "      <td>Chubu</td>\n",
       "      <td>5165.12</td>\n",
       "      <td>Honshu</td>\n",
       "    </tr>\n",
       "    <tr>\n",
       "      <th>1</th>\n",
       "      <td>Aichi-ken</td>\n",
       "      <td>1873</td>\n",
       "      <td>1217444.0</td>\n",
       "      <td>Nagoya-shi</td>\n",
       "      <td>Chubu</td>\n",
       "      <td>5165.12</td>\n",
       "      <td>Honshu</td>\n",
       "    </tr>\n",
       "    <tr>\n",
       "      <th>2</th>\n",
       "      <td>Aichi-ken</td>\n",
       "      <td>1874</td>\n",
       "      <td>1217521.0</td>\n",
       "      <td>Nagoya-shi</td>\n",
       "      <td>Chubu</td>\n",
       "      <td>5165.12</td>\n",
       "      <td>Honshu</td>\n",
       "    </tr>\n",
       "    <tr>\n",
       "      <th>3</th>\n",
       "      <td>Aichi-ken</td>\n",
       "      <td>1875</td>\n",
       "      <td>1234003.0</td>\n",
       "      <td>Nagoya-shi</td>\n",
       "      <td>Chubu</td>\n",
       "      <td>5165.12</td>\n",
       "      <td>Honshu</td>\n",
       "    </tr>\n",
       "    <tr>\n",
       "      <th>4</th>\n",
       "      <td>Aichi-ken</td>\n",
       "      <td>1876</td>\n",
       "      <td>1244711.0</td>\n",
       "      <td>Nagoya-shi</td>\n",
       "      <td>Chubu</td>\n",
       "      <td>5165.12</td>\n",
       "      <td>Honshu</td>\n",
       "    </tr>\n",
       "    <tr>\n",
       "      <th>...</th>\n",
       "      <td>...</td>\n",
       "      <td>...</td>\n",
       "      <td>...</td>\n",
       "      <td>...</td>\n",
       "      <td>...</td>\n",
       "      <td>...</td>\n",
       "      <td>...</td>\n",
       "    </tr>\n",
       "    <tr>\n",
       "      <th>2609</th>\n",
       "      <td>Yamanashi-ken</td>\n",
       "      <td>1925</td>\n",
       "      <td>600675.0</td>\n",
       "      <td>Kofu-shi</td>\n",
       "      <td>Chubu</td>\n",
       "      <td>4465.37</td>\n",
       "      <td>Honshu</td>\n",
       "    </tr>\n",
       "    <tr>\n",
       "      <th>2610</th>\n",
       "      <td>Yamanashi-ken</td>\n",
       "      <td>1930</td>\n",
       "      <td>631042.0</td>\n",
       "      <td>Kofu-shi</td>\n",
       "      <td>Chubu</td>\n",
       "      <td>4465.37</td>\n",
       "      <td>Honshu</td>\n",
       "    </tr>\n",
       "    <tr>\n",
       "      <th>2611</th>\n",
       "      <td>Yamanashi-ken</td>\n",
       "      <td>1935</td>\n",
       "      <td>646727.0</td>\n",
       "      <td>Kofu-shi</td>\n",
       "      <td>Chubu</td>\n",
       "      <td>4465.37</td>\n",
       "      <td>Honshu</td>\n",
       "    </tr>\n",
       "    <tr>\n",
       "      <th>2612</th>\n",
       "      <td>Yamanashi-ken</td>\n",
       "      <td>1940</td>\n",
       "      <td>663026.0</td>\n",
       "      <td>Kofu-shi</td>\n",
       "      <td>Chubu</td>\n",
       "      <td>4465.37</td>\n",
       "      <td>Honshu</td>\n",
       "    </tr>\n",
       "    <tr>\n",
       "      <th>2613</th>\n",
       "      <td>Yamanashi-ken</td>\n",
       "      <td>1944</td>\n",
       "      <td>634897.0</td>\n",
       "      <td>Kofu-shi</td>\n",
       "      <td>Chubu</td>\n",
       "      <td>4465.37</td>\n",
       "      <td>Honshu</td>\n",
       "    </tr>\n",
       "  </tbody>\n",
       "</table>\n",
       "<p>1698 rows × 7 columns</p>\n",
       "</div>"
      ],
      "text/plain": [
       "         prefecture  year  population     capital region  estimated_area  \\\n",
       "0         Aichi-ken  1872   1210368.0  Nagoya-shi  Chubu         5165.12   \n",
       "1         Aichi-ken  1873   1217444.0  Nagoya-shi  Chubu         5165.12   \n",
       "2         Aichi-ken  1874   1217521.0  Nagoya-shi  Chubu         5165.12   \n",
       "3         Aichi-ken  1875   1234003.0  Nagoya-shi  Chubu         5165.12   \n",
       "4         Aichi-ken  1876   1244711.0  Nagoya-shi  Chubu         5165.12   \n",
       "...             ...   ...         ...         ...    ...             ...   \n",
       "2609  Yamanashi-ken  1925    600675.0    Kofu-shi  Chubu         4465.37   \n",
       "2610  Yamanashi-ken  1930    631042.0    Kofu-shi  Chubu         4465.37   \n",
       "2611  Yamanashi-ken  1935    646727.0    Kofu-shi  Chubu         4465.37   \n",
       "2612  Yamanashi-ken  1940    663026.0    Kofu-shi  Chubu         4465.37   \n",
       "2613  Yamanashi-ken  1944    634897.0    Kofu-shi  Chubu         4465.37   \n",
       "\n",
       "      island  \n",
       "0     Honshu  \n",
       "1     Honshu  \n",
       "2     Honshu  \n",
       "3     Honshu  \n",
       "4     Honshu  \n",
       "...      ...  \n",
       "2609  Honshu  \n",
       "2610  Honshu  \n",
       "2611  Honshu  \n",
       "2612  Honshu  \n",
       "2613  Honshu  \n",
       "\n",
       "[1698 rows x 7 columns]"
      ]
     },
     "metadata": {},
     "output_type": "display_data"
    }
   ],
   "source": [
    "#Separate the Dataset into 2, separating post and pre 1945 as point of comparison\n",
    "japan_b1945 = japan_pop[japan_pop['year'] < 1945]\n",
    "japan_a1945 = japan_pop[japan_pop['year'] > 1945]\n",
    "\n",
    "#displaying information and the head of the datasets after separation.\n",
    "display(japan_a1945.describe(), japan_a1945, japan_b1945.describe(), japan_b1945)"
   ]
  },
  {
   "cell_type": "markdown",
   "metadata": {},
   "source": [
    "#### Kruskal-wallis Test\n",
    "\n",
    "The Kurskal-Wallis test will be performed as there are 2 datasets available for comparisson. With the Kurskal-wallis Test, no additional step for normality will be needed."
   ]
  },
  {
   "cell_type": "code",
   "execution_count": 18,
   "metadata": {},
   "outputs": [
    {
     "data": {
      "text/plain": [
       "KruskalResult(statistic=1625.7800820475063, pvalue=0.0)"
      ]
     },
     "execution_count": 18,
     "metadata": {},
     "output_type": "execute_result"
    }
   ],
   "source": [
    "#running the kruskal-wallis test on the years, before and after 1945\n",
    "stats.kruskal(japan_b1945.year, japan_a1945.year)"
   ]
  },
  {
   "cell_type": "markdown",
   "metadata": {},
   "source": [
    "With our initial test and Pvalue of zero, we can __reject__ the null hypothesis."
   ]
  },
  {
   "cell_type": "markdown",
   "metadata": {},
   "source": [
    "#### Kruskal-wallis test per region\n",
    "\n",
    "Now let's see if the population was growing in each individual region."
   ]
  },
  {
   "cell_type": "code",
   "execution_count": 19,
   "metadata": {},
   "outputs": [],
   "source": [
    "def get_95_ci(array_1, array_2):\n",
    "    sample_1_n = array_1.shape[0]\n",
    "    sample_2_n = array_2.shape[0]\n",
    "    sample_1_mean = array_1.mean()\n",
    "    sample_2_mean = array_2.mean()\n",
    "    sample_1_var = array_1.var()\n",
    "    sample_2_var = array_2.var()\n",
    "    mean_difference = sample_2_mean - sample_1_mean\n",
    "    std_err_difference = math.sqrt((sample_1_var/sample_1_n)+(sample_2_var/sample_2_n))\n",
    "    margin_of_error = 1.96 * std_err_difference\n",
    "    ci_lower = mean_difference - margin_of_error\n",
    "    ci_upper = mean_difference + margin_of_error\n",
    "    return(ci_lower, ci_upper)"
   ]
  },
  {
   "cell_type": "code",
   "execution_count": 20,
   "metadata": {},
   "outputs": [
    {
     "name": "stdout",
     "output_type": "stream",
     "text": [
      "Region: Chubu  Result:KruskalResult(statistic=72.7083664267393, pvalue=1.5029559975167038e-17)\n",
      "The confidence Level of Chubu is: (738480.5498816496, 1235087.15767554)\n",
      "**********\n",
      "\n",
      "Region: Tohoku  Result:KruskalResult(statistic=187.2917247356886, pvalue=1.2402545840174565e-42)\n",
      "The confidence Level of Tohoku is: (688315.9434299503, 843482.1231335175)\n",
      "**********\n",
      "\n",
      "Region: Kanto  Result:KruskalResult(statistic=208.07875714318675, pvalue=3.606081287927546e-47)\n",
      "The confidence Level of Kanto is: (2558711.8569263597, 3756211.411498252)\n",
      "**********\n",
      "\n",
      "Region: Shikoku  Result:KruskalResult(statistic=41.2104125114613, pvalue=1.3669242403449808e-10)\n",
      "The confidence Level of Shikoku is: (129555.90833082607, 290873.61181739066)\n",
      "**********\n",
      "\n",
      "Region: Kyushu  Result:KruskalResult(statistic=125.2650158888517, pvalue=4.4531998179258323e-29)\n",
      "The confidence Level of Kyushu is: (654696.1398467197, 1027499.9108786854)\n",
      "**********\n",
      "\n",
      "Region: Chugoku  Result:KruskalResult(statistic=27.525686998046467, pvalue=1.550218801166533e-07)\n",
      "The confidence Level of Chugoku is: (357756.5066848049, 677559.7381482635)\n",
      "**********\n",
      "\n",
      "Region: Hokkaido  Result:KruskalResult(statistic=34.60714285714286, pvalue=4.0342325305238766e-09)\n",
      "The confidence Level of Hokkaido is: (3697348.6855874388, 4623261.540418753)\n",
      "**********\n",
      "\n",
      "Region: Kansai  Result:KruskalResult(statistic=91.31502942824204, pvalue=1.2252646539368568e-21)\n",
      "The confidence Level of Kansai is: (1142076.627908508, 1980005.7911391112)\n",
      "**********\n",
      "\n"
     ]
    }
   ],
   "source": [
    "regions = japan_pop.region.unique()\n",
    "\n",
    "for region in regions:\n",
    "    b1945 = japan_b1945[japan_b1945['region'] == region]\n",
    "    a1945 = japan_a1945[japan_a1945['region'] == region]\n",
    "    print(f'Region: {region}  Result:{stats.kruskal(b1945.population, a1945.population)}')\n",
    "    \n",
    "    #addding confidence interval of the population 95% BEFORE 1945\n",
    "    cil, ciu = get_95_ci(b1945.population, a1945.population)\n",
    "      \n",
    "    print(f'The confidence Level of {region} is: {cil, ciu}')\n",
    "    print(f'*' * 10)\n",
    "    print('')"
   ]
  },
  {
   "cell_type": "markdown",
   "metadata": {},
   "source": [
    "#### The following are the findings after running a Kruskal-Wallis Test, getting the confidence interval in each region and plotting it.\n",
    "* The pvalue is close to 0 or less than 5%. With a pvalue of less than 5% we are confident in the difference of the population before and after 1945.\n",
    "* We are 95% cofident that the sample mean falls between the upper and lower intervals."
   ]
  },
  {
   "cell_type": "markdown",
   "metadata": {},
   "source": [
    "### Conclusion"
   ]
  },
  {
   "cell_type": "markdown",
   "metadata": {},
   "source": [
    "A the beginning of this experiment, we first looked at the data as a whole which presented a healthy increase in population. This was not the case when looking into in by region and more in detail. \n",
    "\n",
    "Because there are 47 prefectures, we decided to look into the 8 regions more and compared their population to before and after 1945.\n",
    "\n",
    "1945 was used as basis to compare as 1945 was the end of the second world war..\n",
    "\n",
    "With a P-value which is less than 5%, we are confident in the difference in post-war and pre-war Japan. It is therefore safe to __reject__ the null Hypothesis.\n",
    "\n",
    "All confidence is positive which is also agood indication in choosing to reject the NULL.\n",
    "\n",
    "Even if data looked flat, they still had positive confidence interval."
   ]
  },
  {
   "cell_type": "markdown",
   "metadata": {},
   "source": [
    "### Considerations and Plans for Additional Research"
   ]
  },
  {
   "cell_type": "markdown",
   "metadata": {},
   "source": [
    "* Given time, we can look into insights further by looking at 20 years before and after 1945. This can give a more specific timeframe in which other factors can also be investigated.\n",
    "* Additionally looking into a 10 year before and after 2005 can also give us a current interpretation on the status currently. This can also provide any indication on what kind of policies and decisions can be made.\n",
    "* We can also look more in depth by analysis of each of the 47 regional administrative prefectures of Japan. This requires more analysis.\n",
    "* We can do a time series analyis to show how the population has changed over the years.\n",
    "* Instead of looking at just the overall population, we plan to look at birthrates, population growth, mortality and how has the population grown.\n",
    "* The measurements are dependent of one another. More analysis and data is needed to find independent measurments."
   ]
  }
 ],
 "metadata": {
  "kernelspec": {
   "display_name": "Python 3",
   "language": "python",
   "name": "python3"
  },
  "language_info": {
   "codemirror_mode": {
    "name": "ipython",
    "version": 3
   },
   "file_extension": ".py",
   "mimetype": "text/x-python",
   "name": "python",
   "nbconvert_exporter": "python",
   "pygments_lexer": "ipython3",
   "version": "3.7.7"
  }
 },
 "nbformat": 4,
 "nbformat_minor": 4
}
