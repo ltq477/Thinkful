{
 "cells": [
  {
   "cell_type": "markdown",
   "metadata": {},
   "source": [
    "# Assignment\n",
    "\n",
    "To complete the following drills, you'll need to use your Python skills to create some datasets, then use your new statistical knowledge to summarize them. Choose 6 distributions from the list of random distributions available in NumPy, called \"Distributions\".\n",
    "\n"
   ]
  },
  {
   "cell_type": "markdown",
   "metadata": {},
   "source": [
    "For each distribution:\n",
    "\n",
    "Generate a random variable with 100 datapoints using the code distributionvar = np.random.distributionname([arguments], 100), replacing distributionvar with an appropriate variable name and distributionname with the name of the distribution you’ve chosen, and filling in the empty space in the parentheses with your chosen values for the appropriate parameters. If you feel uncertain about how to do this, go back to the “Other Distributions” assignment for examples of code to use as a starting point.\n",
    "\n"
   ]
  },
  {
   "cell_type": "code",
   "execution_count": 1,
   "metadata": {},
   "outputs": [],
   "source": [
    "import numpy as np\n",
    "import pandas as pd\n",
    "import matplotlib.pyplot as plt"
   ]
  },
  {
   "cell_type": "code",
   "execution_count": 8,
   "metadata": {},
   "outputs": [
    {
     "data": {
      "text/plain": [
       "array([ 0.47870448, -0.47081257,  0.3993048 ,  1.40723246, -0.36302491,\n",
       "        1.07091918, -0.0871479 ,  1.88694768,  0.15669764,  0.55416431,\n",
       "        1.13730725,  0.82622411, -0.83889537,  0.23182134, -0.43558117,\n",
       "       -1.10453939,  0.19406388, -0.36376499,  2.53901566, -0.4888679 ,\n",
       "       -0.94065025,  0.59646828, -0.81138853,  1.17532421, -0.16543482,\n",
       "       -1.01180586, -1.13996323, -1.56889021, -0.85455961, -0.92329452,\n",
       "       -1.90197484, -1.14991163,  0.86208701, -0.08017766, -0.07893287,\n",
       "       -0.40642844,  0.47044639, -0.13380321, -1.48200288, -0.08448454,\n",
       "        0.37897367,  0.74124337, -1.70418713, -0.0668731 , -0.29801025,\n",
       "       -0.75033442, -0.03664268,  0.80532461,  0.71137638,  1.25701398,\n",
       "       -0.87912918,  0.50802983, -0.18772784,  1.99239391,  1.01920302,\n",
       "       -3.40328598, -0.76342297, -1.13996156,  0.71159484, -0.93433731,\n",
       "       -1.77190482,  0.07506303, -0.47547661,  0.88470891,  0.26498289,\n",
       "        0.62214299,  0.53178584, -0.85332446,  0.68476147, -0.27912688,\n",
       "       -0.24147038,  1.61163262,  0.20495042, -0.54717692,  0.60520888,\n",
       "       -0.4667914 , -1.36948754, -0.27331563,  1.0271568 , -0.78095981,\n",
       "        0.47835878,  1.77897852, -0.31593313, -0.42501084, -1.60654474,\n",
       "        0.25668365,  0.02019659, -1.29789103, -0.41813501, -0.92589901,\n",
       "       -0.23141129, -0.6642029 , -2.18125281,  1.93611623, -1.60622141,\n",
       "       -0.53055836, -1.13227259, -0.4526147 ,  0.32508652, -1.15911187])"
      ]
     },
     "execution_count": 8,
     "metadata": {},
     "output_type": "execute_result"
    }
   ],
   "source": [
    "dist_normal = np.random.normal(loc=0, scale=1, size=100)\n",
    "dist_normal"
   ]
  },
  {
   "cell_type": "markdown",
   "metadata": {},
   "source": [
    "Graph the variable using a histogram.\n",
    "\n"
   ]
  },
  {
   "cell_type": "code",
   "execution_count": 9,
   "metadata": {},
   "outputs": [
    {
     "data": {
      "text/plain": [
       "(array([ 1.,  0.,  4., 12., 22., 23., 21., 10.,  5.,  2.]),\n",
       " array([-3.40328598, -2.80905582, -2.21482565, -1.62059549, -1.02636533,\n",
       "        -0.43213516,  0.162095  ,  0.75632517,  1.35055533,  1.9447855 ,\n",
       "         2.53901566]),\n",
       " <a list of 10 Patch objects>)"
      ]
     },
     "execution_count": 9,
     "metadata": {},
     "output_type": "execute_result"
    },
    {
     "data": {
      "image/png": "[encoded data removed]",
      "text/plain": [
       "<Figure size 432x288 with 1 Axes>"
      ]
     },
     "metadata": {
      "needs_background": "light"
     },
     "output_type": "display_data"
    }
   ],
   "source": [
    "plt.hist(dist_normal)"
   ]
  },
  {
   "cell_type": "markdown",
   "metadata": {},
   "source": [
    "Compute the mean and standard deviation and plot them as vertical lines on the histogram.\n",
    "\n"
   ]
  },
  {
   "cell_type": "code",
   "execution_count": 10,
   "metadata": {},
   "outputs": [
    {
     "data": {
      "text/plain": [
       "0.9999874614109027"
      ]
     },
     "execution_count": 10,
     "metadata": {},
     "output_type": "execute_result"
    }
   ],
   "source": [
    "#mean\n",
    "dist_normal.mean()\n",
    "\n",
    "#standard deviation\n",
    "dist_normal.std()"
   ]
  },
  {
   "cell_type": "code",
   "execution_count": 6,
   "metadata": {},
   "outputs": [
    {
     "data": {
      "text/plain": [
       "<matplotlib.lines.Line2D at 0x2e98a814588>"
      ]
     },
     "execution_count": 6,
     "metadata": {},
     "output_type": "execute_result"
    },
    {
     "data": {
      "image/png": "[encoded data removed]",
      "text/plain": [
       "<Figure size 432x288 with 1 Axes>"
      ]
     },
     "metadata": {
      "needs_background": "light"
     },
     "output_type": "display_data"
    }
   ],
   "source": [
    "plt.hist(dist_normal)\n",
    "plt.axvline(dist_normal.mean(), color='r', linestyle='solid')\n",
    "plt.axvline(dist_normal.mean() + dist_normal.std(), color='r', linestyle='dashed')\n",
    "plt.axvline(dist_normal.mean() - dist_normal.std(), color='r', linestyle='dashed')"
   ]
  },
  {
   "cell_type": "markdown",
   "metadata": {},
   "source": [
    "Evaluate whether the descriptive statistics provided useful information about the variable. Can you identify any common characteristics of the distributions that could be usefully described using the mean and/or standard deviation?\n",
    "\n"
   ]
  },
  {
   "cell_type": "markdown",
   "metadata": {},
   "source": [
    "# Additionally:\n",
    "\n",
    "Generate two normally-distributed variables, one with a mean of 5 and standard deviation of 0.5, and the other with a mean of 10 and a standard deviation of 1.\n",
    "\n"
   ]
  },
  {
   "cell_type": "code",
   "execution_count": 12,
   "metadata": {},
   "outputs": [],
   "source": [
    "var_1 = np.random.normal(5, 0.5, 100)\n",
    "var_2 = np.random.normal(10, 1, 100)"
   ]
  },
  {
   "cell_type": "markdown",
   "metadata": {},
   "source": [
    "Add them together to create a third variable."
   ]
  },
  {
   "cell_type": "code",
   "execution_count": 13,
   "metadata": {},
   "outputs": [
    {
     "data": {
      "text/plain": [
       "array([15.0585477 , 14.14590254, 17.43550744, 15.35834064, 14.38173086,\n",
       "       15.25501558, 12.93422348, 14.19576285, 14.67231192, 15.42987716,\n",
       "       16.00155475, 16.79852028, 14.29423417, 13.61804105, 14.66665847,\n",
       "       16.10747674, 17.36377741, 17.14783935, 13.8408327 , 14.75308568,\n",
       "       16.40193959, 12.7798698 , 13.19995636, 14.98499608, 11.93461211,\n",
       "       14.34481965, 15.44333563, 14.83873622, 14.88798893, 15.63502356,\n",
       "       13.90973925, 14.94681762, 14.11276385, 14.40391201, 14.3327189 ,\n",
       "       16.37566356, 16.05077434, 14.74519808, 16.17607441, 15.05533907,\n",
       "       15.13894147, 14.78126269, 16.55910545, 15.46827372, 14.15465723,\n",
       "       14.55577381, 14.20805872, 17.76260898, 15.23903567, 14.25920719,\n",
       "       15.4505606 , 14.84061706, 14.33301912, 12.86294261, 13.89735104,\n",
       "       16.25441192, 16.91161139, 15.09001944, 15.45761784, 14.63075502,\n",
       "       16.18343314, 16.26275952, 12.9120207 , 15.21760552, 17.08697963,\n",
       "       15.49255343, 14.56395715, 13.0099437 , 15.10440842, 15.40274614,\n",
       "       14.01535402, 14.97461038, 16.37500246, 16.24608449, 14.69922821,\n",
       "       15.05196257, 17.80720551, 12.98410003, 14.86668176, 13.01162464,\n",
       "       13.73014795, 14.29681802, 15.15449409, 15.2546162 , 14.37694894,\n",
       "       11.83672366, 14.99623491, 12.92901481, 15.13562861, 18.26808148,\n",
       "       14.87760905, 13.22882288, 14.50151443, 15.96159349, 14.67911121,\n",
       "       16.03470997, 14.85700786, 16.68094634, 16.50954961, 15.60719947])"
      ]
     },
     "execution_count": 13,
     "metadata": {},
     "output_type": "execute_result"
    }
   ],
   "source": [
    "var_3 = var_1 + var_2\n",
    "var_3"
   ]
  },
  {
   "cell_type": "markdown",
   "metadata": {},
   "source": [
    "\n",
    "Graph the third variable using a histogram.\n"
   ]
  },
  {
   "cell_type": "code",
   "execution_count": 14,
   "metadata": {},
   "outputs": [
    {
     "data": {
      "text/plain": [
       "(array([ 2.,  8.,  4., 18., 22., 21., 10.,  8.,  4.,  3.]),\n",
       " array([11.83672366, 12.47985944, 13.12299522, 13.766131  , 14.40926678,\n",
       "        15.05240257, 15.69553835, 16.33867413, 16.98180991, 17.62494569,\n",
       "        18.26808148]),\n",
       " <a list of 10 Patch objects>)"
      ]
     },
     "execution_count": 14,
     "metadata": {},
     "output_type": "execute_result"
    },
    {
     "data": {
      "image/png": "[encoded data removed]",
      "text/plain": [
       "<Figure size 432x288 with 1 Axes>"
      ]
     },
     "metadata": {
      "needs_background": "light"
     },
     "output_type": "display_data"
    }
   ],
   "source": [
    "plt.hist(var_3)"
   ]
  },
  {
   "cell_type": "markdown",
   "metadata": {},
   "source": [
    "\n",
    "Compute the mean and standard deviation and plot them as vertical lines on the histogram."
   ]
  },
  {
   "cell_type": "code",
   "execution_count": 22,
   "metadata": {},
   "outputs": [
    {
     "data": {
      "text/plain": [
       "<matplotlib.lines.Line2D at 0x2e98f865248>"
      ]
     },
     "execution_count": 22,
     "metadata": {},
     "output_type": "execute_result"
    },
    {
     "data": {
      "image/png": "[encoded data removed]",
      "text/plain": [
       "<Figure size 432x288 with 1 Axes>"
      ]
     },
     "metadata": {
      "needs_background": "light"
     },
     "output_type": "display_data"
    }
   ],
   "source": [
    "plt.hist(var_3)\n",
    "plt.axvline(var_3.mean(), color='r')\n",
    "plt.axvline(var_3.mean() + var_3.std(), color='r', linestyle='dashed')\n",
    "plt.axvline(var_3.mean() - var_3.std(), color='r', linestyle='dashed')"
   ]
  },
  {
   "cell_type": "markdown",
   "metadata": {},
   "source": [
    "\n",
    "\n",
    "Evaluate the descriptive statistics against the data."
   ]
  },
  {
   "cell_type": "code",
   "execution_count": null,
   "metadata": {},
   "outputs": [],
   "source": []
  }
 ],
 "metadata": {
  "kernelspec": {
   "display_name": "Python 3",
   "language": "python",
   "name": "python3"
  },
  "language_info": {
   "codemirror_mode": {
    "name": "ipython",
    "version": 3
   },
   "file_extension": ".py",
   "mimetype": "text/x-python",
   "name": "python",
   "nbconvert_exporter": "python",
   "pygments_lexer": "ipython3",
   "version": "3.7.7"
  }
 },
 "nbformat": 4,
 "nbformat_minor": 4
}
