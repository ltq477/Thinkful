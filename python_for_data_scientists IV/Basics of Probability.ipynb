{
 "cells": [
  {
   "cell_type": "markdown",
   "metadata": {},
   "source": [
    "## Drill set 1\n",
    "\n",
    "1.\tCalculate the probability of flipping a balanced coin four times and getting each pattern: HTTH, HHHH and TTHH."
   ]
  },
  {
   "cell_type": "markdown",
   "metadata": {},
   "source": [
    "- Each flip is idependent from each other,\n",
    "\n",
    "1/2 * 1/2 * 1/2 * 1/2\n",
    "\n",
    "1/2 * 1/2 = 1/4\n",
    "\n",
    "1/4 * 1/2 = 1/8\n",
    "\n",
    "1/8 * 1/2 = 1/16\n",
    "\n",
    "1 / 16 = .0625"
   ]
  },
  {
   "cell_type": "markdown",
   "metadata": {},
   "source": [
    "2.\tIf a list of people has 24 women and 21 men, then the probability of choosing a man from the list is 21/45. What is the probability of not choosing a man?"
   ]
  },
  {
   "cell_type": "markdown",
   "metadata": {},
   "source": [
    "24/45 is the probability of choosing a woman or not choosing a man.\n",
    "\n",
    "21/45 is the probability of choosing a man or not choosing a woman."
   ]
  },
  {
   "cell_type": "markdown",
   "metadata": {},
   "source": [
    "3.\tThe probability that Bernice will travel by plane sometime in the next year is 10%. The probability of a plane crash at any time is .005%. What is the probability that Bernice will be in a plane crash sometime in the next year?"
   ]
  },
  {
   "cell_type": "markdown",
   "metadata": {},
   "source": [
    ".010 * .005 = .00005\n",
    "\n",
    ".005 of 10%"
   ]
  },
  {
   "cell_type": "markdown",
   "metadata": {},
   "source": [
    "4.\tA data scientist wants to study the behavior of users on the company website. Each time a user clicks on a link on the website, there is a 5% chance that the user will be asked to complete a short survey about their behavior on the website. The data scientist uses the survey data to conclude that, on average, users spend 15 minutes surfing the company website before moving on to other things. What is wrong with this conclusion?"
   ]
  },
  {
   "cell_type": "markdown",
   "metadata": {},
   "source": [
    "People who surf longer are likely to click more links, increaseing the odds of getting a survery"
   ]
  },
  {
   "cell_type": "markdown",
   "metadata": {},
   "source": [
    "# Drill set 2\n",
    "\n",
    "A diagnostic test has a 98% probability of giving a positive result when applied to a person suffering from Thripshaw's Disease, and 10% probability of giving a (false) positive when applied to a non-sufferer. It is estimated that 0.5 % of the population are sufferers. Suppose that the test is now administered to a person whose disease status is unknown. Calculate the probability that the test will:\n"
   ]
  },
  {
   "cell_type": "markdown",
   "metadata": {},
   "source": [
    "1.\tBe positive\n",
    "\n",
    "positive = P(positive|confirmed positive) + P(False)\n",
    "\n",
    "positve = (.98 * .005) + (.1 *.995) = .1044\n",
    "\n",
    "Prob of pos | thrip_pos = .98\n",
    "prob of pos | non_thrip_pos = .10\n",
    "prob of thip = .005\n",
    "prob of not thrip = .995\n",
    "\n"
   ]
  },
  {
   "cell_type": "markdown",
   "metadata": {},
   "source": [
    "2.\tCorrectly diagnose a sufferer of Thripshaw's\n",
    "\n",
    "P(A) = \"98% probability of giving a positive\"\n"
   ]
  },
  {
   "cell_type": "markdown",
   "metadata": {},
   "source": [
    "3.\tCorrectly identify a non-sufferer of Thripshaw's"
   ]
  },
  {
   "cell_type": "markdown",
   "metadata": {},
   "source": [
    "4.\tMisclassify the person"
   ]
  },
  {
   "cell_type": "markdown",
   "metadata": {},
   "source": [
    "From the Solutions:\n",
    "\n",
    "Be positive= .98*.005 + .1*.995 = .1044\n",
    "\n",
    "Correctly diagnose a sufferer of Thripshaw’s= .98\n",
    "\n",
    "Correctly identify a non-sufferer of Thripshaw’s = .9\n",
    "\n",
    "Misclassify the person= 1-(.98*.005 + .9*.995)=.0996"
   ]
  },
  {
   "cell_type": "code",
   "execution_count": null,
   "metadata": {},
   "outputs": [],
   "source": []
  }
 ],
 "metadata": {
  "kernelspec": {
   "display_name": "Python 3",
   "language": "python",
   "name": "python3"
  },
  "language_info": {
   "codemirror_mode": {
    "name": "ipython",
    "version": 3
   },
   "file_extension": ".py",
   "mimetype": "text/x-python",
   "name": "python",
   "nbconvert_exporter": "python",
   "pygments_lexer": "ipython3",
   "version": "3.7.7"
  }
 },
 "nbformat": 4,
 "nbformat_minor": 4
}
