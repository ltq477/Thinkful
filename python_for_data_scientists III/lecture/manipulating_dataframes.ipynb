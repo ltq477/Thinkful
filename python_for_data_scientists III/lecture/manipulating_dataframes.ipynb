{
 "cells": [
  {
   "cell_type": "markdown",
   "metadata": {
    "colab_type": "text",
    "id": "sAH56fdLaZOA"
   },
   "source": [
    "# Manipulating DataFrames\n",
    "\n",
    "Regardless of the original data source, once you have data loaded into a DataFrame, you gain the ability to manipulate your data. For instance, you can\n",
    "\n",
    "  - Reshape a DataFrame\n",
    "    - sort\n",
    "    - drop columns\n",
    "    - `melt()` and `pivot()`\n",
    "  - Select rows using\n",
    "    - Logical criteria\n",
    "    - `head()` and `tail()`\n",
    "    - `iloc()`\n",
    "  - Select columns\n",
    "  - Handle missing data with `dropna()` and `fillna()`\n",
    "  - Make new columns\n",
    "  - Combine datasets with `merge()`\n",
    "  - Group data\n",
    "    \n",
    "To explore this, we'll read in a data frame consisting of the salaries and personal statistics of major league baseball players. "
   ]
  },
  {
   "cell_type": "code",
   "execution_count": 1,
   "metadata": {
    "colab": {},
    "colab_type": "code",
    "id": "rF5uIljv222m"
   },
   "outputs": [],
   "source": [
    "import pandas as pd\n",
    "\n",
    "players_df = pd.read_csv(\"https://tf-assets-prod.s3.amazonaws.com/tf-curric/data-science/players.csv\")"
   ]
  },
  {
   "cell_type": "markdown",
   "metadata": {
    "colab_type": "text",
    "id": "1dBDNIIx1tra"
   },
   "source": [
    "First, we should examine our DataFrame using some of the techniques we looked at in the previous checkpoint."
   ]
  },
  {
   "cell_type": "code",
   "execution_count": 2,
   "metadata": {
    "colab": {
     "base_uri": "https://localhost:8080/",
     "height": 34
    },
    "colab_type": "code",
    "id": "RzbtnltO4LbF",
    "outputId": "1aa56c69-18ff-4e34-ab53-a2fd6dd25ca9"
   },
   "outputs": [
    {
     "data": {
      "text/plain": [
       "(26428, 14)"
      ]
     },
     "execution_count": 2,
     "metadata": {},
     "output_type": "execute_result"
    }
   ],
   "source": [
    "players_df.shape"
   ]
  },
  {
   "cell_type": "code",
   "execution_count": 3,
   "metadata": {
    "colab": {
     "base_uri": "https://localhost:8080/",
     "height": 297
    },
    "colab_type": "code",
    "id": "_ThwFzDm2Eu9",
    "outputId": "d46028d4-0764-4279-9103-89c59e5a926e"
   },
   "outputs": [
    {
     "data": {
      "text/html": [
       "<div>\n",
       "<style scoped>\n",
       "    .dataframe tbody tr th:only-of-type {\n",
       "        vertical-align: middle;\n",
       "    }\n",
       "\n",
       "    .dataframe tbody tr th {\n",
       "        vertical-align: top;\n",
       "    }\n",
       "\n",
       "    .dataframe thead th {\n",
       "        text-align: right;\n",
       "    }\n",
       "</style>\n",
       "<table border=\"1\" class=\"dataframe\">\n",
       "  <thead>\n",
       "    <tr style=\"text-align: right;\">\n",
       "      <th></th>\n",
       "      <th>birthyear</th>\n",
       "      <th>deathyear</th>\n",
       "      <th>weight</th>\n",
       "      <th>height</th>\n",
       "      <th>yearid</th>\n",
       "      <th>salary</th>\n",
       "    </tr>\n",
       "  </thead>\n",
       "  <tbody>\n",
       "    <tr>\n",
       "      <th>count</th>\n",
       "      <td>26428.000000</td>\n",
       "      <td>492.000000</td>\n",
       "      <td>26428.000000</td>\n",
       "      <td>26428.000000</td>\n",
       "      <td>26428.000000</td>\n",
       "      <td>2.642800e+04</td>\n",
       "    </tr>\n",
       "    <tr>\n",
       "      <th>mean</th>\n",
       "      <td>1971.389133</td>\n",
       "      <td>2008.833333</td>\n",
       "      <td>199.022136</td>\n",
       "      <td>73.509006</td>\n",
       "      <td>2000.878727</td>\n",
       "      <td>2.085634e+06</td>\n",
       "    </tr>\n",
       "    <tr>\n",
       "      <th>std</th>\n",
       "      <td>9.679736</td>\n",
       "      <td>7.188803</td>\n",
       "      <td>22.631696</td>\n",
       "      <td>2.284665</td>\n",
       "      <td>8.909314</td>\n",
       "      <td>3.455348e+06</td>\n",
       "    </tr>\n",
       "    <tr>\n",
       "      <th>min</th>\n",
       "      <td>1925.000000</td>\n",
       "      <td>1989.000000</td>\n",
       "      <td>140.000000</td>\n",
       "      <td>66.000000</td>\n",
       "      <td>1985.000000</td>\n",
       "      <td>0.000000e+00</td>\n",
       "    </tr>\n",
       "    <tr>\n",
       "      <th>25%</th>\n",
       "      <td>1964.000000</td>\n",
       "      <td>2006.000000</td>\n",
       "      <td>185.000000</td>\n",
       "      <td>72.000000</td>\n",
       "      <td>1994.000000</td>\n",
       "      <td>2.947020e+05</td>\n",
       "    </tr>\n",
       "    <tr>\n",
       "      <th>50%</th>\n",
       "      <td>1971.000000</td>\n",
       "      <td>2011.000000</td>\n",
       "      <td>195.000000</td>\n",
       "      <td>74.000000</td>\n",
       "      <td>2001.000000</td>\n",
       "      <td>5.500000e+05</td>\n",
       "    </tr>\n",
       "    <tr>\n",
       "      <th>75%</th>\n",
       "      <td>1979.000000</td>\n",
       "      <td>2015.000000</td>\n",
       "      <td>215.000000</td>\n",
       "      <td>75.000000</td>\n",
       "      <td>2009.000000</td>\n",
       "      <td>2.350000e+06</td>\n",
       "    </tr>\n",
       "    <tr>\n",
       "      <th>max</th>\n",
       "      <td>1995.000000</td>\n",
       "      <td>2018.000000</td>\n",
       "      <td>315.000000</td>\n",
       "      <td>83.000000</td>\n",
       "      <td>2016.000000</td>\n",
       "      <td>3.300000e+07</td>\n",
       "    </tr>\n",
       "  </tbody>\n",
       "</table>\n",
       "</div>"
      ],
      "text/plain": [
       "          birthyear    deathyear        weight        height        yearid  \\\n",
       "count  26428.000000   492.000000  26428.000000  26428.000000  26428.000000   \n",
       "mean    1971.389133  2008.833333    199.022136     73.509006   2000.878727   \n",
       "std        9.679736     7.188803     22.631696      2.284665      8.909314   \n",
       "min     1925.000000  1989.000000    140.000000     66.000000   1985.000000   \n",
       "25%     1964.000000  2006.000000    185.000000     72.000000   1994.000000   \n",
       "50%     1971.000000  2011.000000    195.000000     74.000000   2001.000000   \n",
       "75%     1979.000000  2015.000000    215.000000     75.000000   2009.000000   \n",
       "max     1995.000000  2018.000000    315.000000     83.000000   2016.000000   \n",
       "\n",
       "             salary  \n",
       "count  2.642800e+04  \n",
       "mean   2.085634e+06  \n",
       "std    3.455348e+06  \n",
       "min    0.000000e+00  \n",
       "25%    2.947020e+05  \n",
       "50%    5.500000e+05  \n",
       "75%    2.350000e+06  \n",
       "max    3.300000e+07  "
      ]
     },
     "execution_count": 3,
     "metadata": {},
     "output_type": "execute_result"
    }
   ],
   "source": [
    "players_df.describe()"
   ]
  },
  {
   "cell_type": "code",
   "execution_count": 4,
   "metadata": {
    "colab": {
     "base_uri": "https://localhost:8080/",
     "height": 85
    },
    "colab_type": "code",
    "id": "AMKbhetF2YeA",
    "outputId": "4178aa5a-4de9-4a2c-cba5-587f20a3d343"
   },
   "outputs": [
    {
     "data": {
      "text/plain": [
       "Index(['playerid', 'birthyear', 'birthcountry', 'deathyear', 'namefirst',\n",
       "       'namelast', 'weight', 'height', 'bats', 'throws', 'yearid', 'teamid',\n",
       "       'lgid', 'salary'],\n",
       "      dtype='object')"
      ]
     },
     "execution_count": 4,
     "metadata": {},
     "output_type": "execute_result"
    }
   ],
   "source": [
    "players_df.columns"
   ]
  },
  {
   "cell_type": "code",
   "execution_count": 5,
   "metadata": {
    "colab": {
     "base_uri": "https://localhost:8080/",
     "height": 340
    },
    "colab_type": "code",
    "id": "1kchEK4S1642",
    "outputId": "653f31b9-1fcc-4377-cf49-e3005b6a7c30"
   },
   "outputs": [
    {
     "name": "stdout",
     "output_type": "stream",
     "text": [
      "<class 'pandas.core.frame.DataFrame'>\n",
      "RangeIndex: 26428 entries, 0 to 26427\n",
      "Data columns (total 14 columns):\n",
      " #   Column        Non-Null Count  Dtype  \n",
      "---  ------        --------------  -----  \n",
      " 0   playerid      26428 non-null  object \n",
      " 1   birthyear     26428 non-null  int64  \n",
      " 2   birthcountry  26428 non-null  object \n",
      " 3   deathyear     492 non-null    float64\n",
      " 4   namefirst     26428 non-null  object \n",
      " 5   namelast      26428 non-null  object \n",
      " 6   weight        26428 non-null  int64  \n",
      " 7   height        26428 non-null  int64  \n",
      " 8   bats          26428 non-null  object \n",
      " 9   throws        26428 non-null  object \n",
      " 10  yearid        26428 non-null  int64  \n",
      " 11  teamid        26428 non-null  object \n",
      " 12  lgid          26428 non-null  object \n",
      " 13  salary        26428 non-null  int64  \n",
      "dtypes: float64(1), int64(5), object(8)\n",
      "memory usage: 2.8+ MB\n"
     ]
    }
   ],
   "source": [
    "players_df.info()"
   ]
  },
  {
   "cell_type": "code",
   "execution_count": 6,
   "metadata": {
    "colab": {
     "base_uri": "https://localhost:8080/",
     "height": 1000
    },
    "colab_type": "code",
    "id": "_DuFxJ5W_09c",
    "outputId": "e4514ac0-8d2e-4a0a-85bd-192f41ee57bc"
   },
   "outputs": [
    {
     "data": {
      "text/html": [
       "<div>\n",
       "<style scoped>\n",
       "    .dataframe tbody tr th:only-of-type {\n",
       "        vertical-align: middle;\n",
       "    }\n",
       "\n",
       "    .dataframe tbody tr th {\n",
       "        vertical-align: top;\n",
       "    }\n",
       "\n",
       "    .dataframe thead th {\n",
       "        text-align: right;\n",
       "    }\n",
       "</style>\n",
       "<table border=\"1\" class=\"dataframe\">\n",
       "  <thead>\n",
       "    <tr style=\"text-align: right;\">\n",
       "      <th></th>\n",
       "      <th>playerid</th>\n",
       "      <th>birthyear</th>\n",
       "      <th>birthcountry</th>\n",
       "      <th>deathyear</th>\n",
       "      <th>namefirst</th>\n",
       "      <th>namelast</th>\n",
       "      <th>weight</th>\n",
       "      <th>height</th>\n",
       "      <th>bats</th>\n",
       "      <th>throws</th>\n",
       "      <th>yearid</th>\n",
       "      <th>teamid</th>\n",
       "      <th>lgid</th>\n",
       "      <th>salary</th>\n",
       "    </tr>\n",
       "  </thead>\n",
       "  <tbody>\n",
       "    <tr>\n",
       "      <th>0</th>\n",
       "      <td>barkele01</td>\n",
       "      <td>1955</td>\n",
       "      <td>USA</td>\n",
       "      <td>NaN</td>\n",
       "      <td>Len</td>\n",
       "      <td>Barker</td>\n",
       "      <td>225</td>\n",
       "      <td>77</td>\n",
       "      <td>R</td>\n",
       "      <td>R</td>\n",
       "      <td>1985</td>\n",
       "      <td>ATL</td>\n",
       "      <td>NL</td>\n",
       "      <td>870000</td>\n",
       "    </tr>\n",
       "    <tr>\n",
       "      <th>1</th>\n",
       "      <td>bedrost01</td>\n",
       "      <td>1957</td>\n",
       "      <td>USA</td>\n",
       "      <td>NaN</td>\n",
       "      <td>Steve</td>\n",
       "      <td>Bedrosian</td>\n",
       "      <td>200</td>\n",
       "      <td>75</td>\n",
       "      <td>R</td>\n",
       "      <td>R</td>\n",
       "      <td>1985</td>\n",
       "      <td>ATL</td>\n",
       "      <td>NL</td>\n",
       "      <td>550000</td>\n",
       "    </tr>\n",
       "    <tr>\n",
       "      <th>2</th>\n",
       "      <td>benedbr01</td>\n",
       "      <td>1955</td>\n",
       "      <td>USA</td>\n",
       "      <td>NaN</td>\n",
       "      <td>Bruce</td>\n",
       "      <td>Benedict</td>\n",
       "      <td>175</td>\n",
       "      <td>73</td>\n",
       "      <td>R</td>\n",
       "      <td>R</td>\n",
       "      <td>1985</td>\n",
       "      <td>ATL</td>\n",
       "      <td>NL</td>\n",
       "      <td>545000</td>\n",
       "    </tr>\n",
       "    <tr>\n",
       "      <th>3</th>\n",
       "      <td>campri01</td>\n",
       "      <td>1953</td>\n",
       "      <td>USA</td>\n",
       "      <td>2013.0</td>\n",
       "      <td>Rick</td>\n",
       "      <td>Camp</td>\n",
       "      <td>195</td>\n",
       "      <td>73</td>\n",
       "      <td>R</td>\n",
       "      <td>R</td>\n",
       "      <td>1985</td>\n",
       "      <td>ATL</td>\n",
       "      <td>NL</td>\n",
       "      <td>633333</td>\n",
       "    </tr>\n",
       "    <tr>\n",
       "      <th>4</th>\n",
       "      <td>ceronri01</td>\n",
       "      <td>1954</td>\n",
       "      <td>USA</td>\n",
       "      <td>NaN</td>\n",
       "      <td>Rick</td>\n",
       "      <td>Cerone</td>\n",
       "      <td>192</td>\n",
       "      <td>71</td>\n",
       "      <td>R</td>\n",
       "      <td>R</td>\n",
       "      <td>1985</td>\n",
       "      <td>ATL</td>\n",
       "      <td>NL</td>\n",
       "      <td>625000</td>\n",
       "    </tr>\n",
       "    <tr>\n",
       "      <th>...</th>\n",
       "      <td>...</td>\n",
       "      <td>...</td>\n",
       "      <td>...</td>\n",
       "      <td>...</td>\n",
       "      <td>...</td>\n",
       "      <td>...</td>\n",
       "      <td>...</td>\n",
       "      <td>...</td>\n",
       "      <td>...</td>\n",
       "      <td>...</td>\n",
       "      <td>...</td>\n",
       "      <td>...</td>\n",
       "      <td>...</td>\n",
       "      <td>...</td>\n",
       "    </tr>\n",
       "    <tr>\n",
       "      <th>26423</th>\n",
       "      <td>strasst01</td>\n",
       "      <td>1988</td>\n",
       "      <td>USA</td>\n",
       "      <td>NaN</td>\n",
       "      <td>Stephen</td>\n",
       "      <td>Strasburg</td>\n",
       "      <td>235</td>\n",
       "      <td>76</td>\n",
       "      <td>R</td>\n",
       "      <td>R</td>\n",
       "      <td>2016</td>\n",
       "      <td>WAS</td>\n",
       "      <td>NL</td>\n",
       "      <td>10400000</td>\n",
       "    </tr>\n",
       "    <tr>\n",
       "      <th>26424</th>\n",
       "      <td>taylomi02</td>\n",
       "      <td>1991</td>\n",
       "      <td>USA</td>\n",
       "      <td>NaN</td>\n",
       "      <td>Michael</td>\n",
       "      <td>Taylor</td>\n",
       "      <td>210</td>\n",
       "      <td>75</td>\n",
       "      <td>R</td>\n",
       "      <td>R</td>\n",
       "      <td>2016</td>\n",
       "      <td>WAS</td>\n",
       "      <td>NL</td>\n",
       "      <td>524000</td>\n",
       "    </tr>\n",
       "    <tr>\n",
       "      <th>26425</th>\n",
       "      <td>treinbl01</td>\n",
       "      <td>1988</td>\n",
       "      <td>USA</td>\n",
       "      <td>NaN</td>\n",
       "      <td>Blake</td>\n",
       "      <td>Treinen</td>\n",
       "      <td>225</td>\n",
       "      <td>77</td>\n",
       "      <td>R</td>\n",
       "      <td>R</td>\n",
       "      <td>2016</td>\n",
       "      <td>WAS</td>\n",
       "      <td>NL</td>\n",
       "      <td>524900</td>\n",
       "    </tr>\n",
       "    <tr>\n",
       "      <th>26426</th>\n",
       "      <td>werthja01</td>\n",
       "      <td>1979</td>\n",
       "      <td>USA</td>\n",
       "      <td>NaN</td>\n",
       "      <td>Jayson</td>\n",
       "      <td>Werth</td>\n",
       "      <td>235</td>\n",
       "      <td>77</td>\n",
       "      <td>R</td>\n",
       "      <td>R</td>\n",
       "      <td>2016</td>\n",
       "      <td>WAS</td>\n",
       "      <td>NL</td>\n",
       "      <td>21733615</td>\n",
       "    </tr>\n",
       "    <tr>\n",
       "      <th>26427</th>\n",
       "      <td>zimmery01</td>\n",
       "      <td>1984</td>\n",
       "      <td>USA</td>\n",
       "      <td>NaN</td>\n",
       "      <td>Ryan</td>\n",
       "      <td>Zimmerman</td>\n",
       "      <td>225</td>\n",
       "      <td>75</td>\n",
       "      <td>R</td>\n",
       "      <td>R</td>\n",
       "      <td>2016</td>\n",
       "      <td>WAS</td>\n",
       "      <td>NL</td>\n",
       "      <td>14000000</td>\n",
       "    </tr>\n",
       "  </tbody>\n",
       "</table>\n",
       "<p>26428 rows × 14 columns</p>\n",
       "</div>"
      ],
      "text/plain": [
       "        playerid  birthyear birthcountry  deathyear namefirst   namelast  \\\n",
       "0      barkele01       1955          USA        NaN       Len     Barker   \n",
       "1      bedrost01       1957          USA        NaN     Steve  Bedrosian   \n",
       "2      benedbr01       1955          USA        NaN     Bruce   Benedict   \n",
       "3       campri01       1953          USA     2013.0      Rick       Camp   \n",
       "4      ceronri01       1954          USA        NaN      Rick     Cerone   \n",
       "...          ...        ...          ...        ...       ...        ...   \n",
       "26423  strasst01       1988          USA        NaN   Stephen  Strasburg   \n",
       "26424  taylomi02       1991          USA        NaN   Michael     Taylor   \n",
       "26425  treinbl01       1988          USA        NaN     Blake    Treinen   \n",
       "26426  werthja01       1979          USA        NaN    Jayson      Werth   \n",
       "26427  zimmery01       1984          USA        NaN      Ryan  Zimmerman   \n",
       "\n",
       "       weight  height bats throws  yearid teamid lgid    salary  \n",
       "0         225      77    R      R    1985    ATL   NL    870000  \n",
       "1         200      75    R      R    1985    ATL   NL    550000  \n",
       "2         175      73    R      R    1985    ATL   NL    545000  \n",
       "3         195      73    R      R    1985    ATL   NL    633333  \n",
       "4         192      71    R      R    1985    ATL   NL    625000  \n",
       "...       ...     ...  ...    ...     ...    ...  ...       ...  \n",
       "26423     235      76    R      R    2016    WAS   NL  10400000  \n",
       "26424     210      75    R      R    2016    WAS   NL    524000  \n",
       "26425     225      77    R      R    2016    WAS   NL    524900  \n",
       "26426     235      77    R      R    2016    WAS   NL  21733615  \n",
       "26427     225      75    R      R    2016    WAS   NL  14000000  \n",
       "\n",
       "[26428 rows x 14 columns]"
      ]
     },
     "execution_count": 6,
     "metadata": {},
     "output_type": "execute_result"
    }
   ],
   "source": [
    "players_df"
   ]
  },
  {
   "cell_type": "markdown",
   "metadata": {
    "colab_type": "text",
    "id": "fFZGCR3ikD5B"
   },
   "source": [
    "### Missing values\n",
    "\n",
    "By a `null` value, `pandas` means a value that is missing. Null values are represented in `pandas` as `NaN`. A null value does *not* necessarily mean that the number is zero. It could be missing due to recording error, its not being applicable, a sampling bias, etc. In later modules we will take a closer look at how to diagnose missing values.  \n",
    "\n",
    "The `.isnull()` method returns a Boolean result indicating whether each value in a DataFrame is missing. `True` equates to a missing value. "
   ]
  },
  {
   "cell_type": "code",
   "execution_count": 7,
   "metadata": {
    "colab": {
     "base_uri": "https://localhost:8080/",
     "height": 1000
    },
    "colab_type": "code",
    "id": "etCRse6OnRv9",
    "outputId": "9933ba99-6e04-453f-cf7c-ac0b7b868f1e"
   },
   "outputs": [
    {
     "data": {
      "text/html": [
       "<div>\n",
       "<style scoped>\n",
       "    .dataframe tbody tr th:only-of-type {\n",
       "        vertical-align: middle;\n",
       "    }\n",
       "\n",
       "    .dataframe tbody tr th {\n",
       "        vertical-align: top;\n",
       "    }\n",
       "\n",
       "    .dataframe thead th {\n",
       "        text-align: right;\n",
       "    }\n",
       "</style>\n",
       "<table border=\"1\" class=\"dataframe\">\n",
       "  <thead>\n",
       "    <tr style=\"text-align: right;\">\n",
       "      <th></th>\n",
       "      <th>playerid</th>\n",
       "      <th>birthyear</th>\n",
       "      <th>birthcountry</th>\n",
       "      <th>deathyear</th>\n",
       "      <th>namefirst</th>\n",
       "      <th>namelast</th>\n",
       "      <th>weight</th>\n",
       "      <th>height</th>\n",
       "      <th>bats</th>\n",
       "      <th>throws</th>\n",
       "      <th>yearid</th>\n",
       "      <th>teamid</th>\n",
       "      <th>lgid</th>\n",
       "      <th>salary</th>\n",
       "    </tr>\n",
       "  </thead>\n",
       "  <tbody>\n",
       "    <tr>\n",
       "      <th>0</th>\n",
       "      <td>False</td>\n",
       "      <td>False</td>\n",
       "      <td>False</td>\n",
       "      <td>True</td>\n",
       "      <td>False</td>\n",
       "      <td>False</td>\n",
       "      <td>False</td>\n",
       "      <td>False</td>\n",
       "      <td>False</td>\n",
       "      <td>False</td>\n",
       "      <td>False</td>\n",
       "      <td>False</td>\n",
       "      <td>False</td>\n",
       "      <td>False</td>\n",
       "    </tr>\n",
       "    <tr>\n",
       "      <th>1</th>\n",
       "      <td>False</td>\n",
       "      <td>False</td>\n",
       "      <td>False</td>\n",
       "      <td>True</td>\n",
       "      <td>False</td>\n",
       "      <td>False</td>\n",
       "      <td>False</td>\n",
       "      <td>False</td>\n",
       "      <td>False</td>\n",
       "      <td>False</td>\n",
       "      <td>False</td>\n",
       "      <td>False</td>\n",
       "      <td>False</td>\n",
       "      <td>False</td>\n",
       "    </tr>\n",
       "    <tr>\n",
       "      <th>2</th>\n",
       "      <td>False</td>\n",
       "      <td>False</td>\n",
       "      <td>False</td>\n",
       "      <td>True</td>\n",
       "      <td>False</td>\n",
       "      <td>False</td>\n",
       "      <td>False</td>\n",
       "      <td>False</td>\n",
       "      <td>False</td>\n",
       "      <td>False</td>\n",
       "      <td>False</td>\n",
       "      <td>False</td>\n",
       "      <td>False</td>\n",
       "      <td>False</td>\n",
       "    </tr>\n",
       "    <tr>\n",
       "      <th>3</th>\n",
       "      <td>False</td>\n",
       "      <td>False</td>\n",
       "      <td>False</td>\n",
       "      <td>False</td>\n",
       "      <td>False</td>\n",
       "      <td>False</td>\n",
       "      <td>False</td>\n",
       "      <td>False</td>\n",
       "      <td>False</td>\n",
       "      <td>False</td>\n",
       "      <td>False</td>\n",
       "      <td>False</td>\n",
       "      <td>False</td>\n",
       "      <td>False</td>\n",
       "    </tr>\n",
       "    <tr>\n",
       "      <th>4</th>\n",
       "      <td>False</td>\n",
       "      <td>False</td>\n",
       "      <td>False</td>\n",
       "      <td>True</td>\n",
       "      <td>False</td>\n",
       "      <td>False</td>\n",
       "      <td>False</td>\n",
       "      <td>False</td>\n",
       "      <td>False</td>\n",
       "      <td>False</td>\n",
       "      <td>False</td>\n",
       "      <td>False</td>\n",
       "      <td>False</td>\n",
       "      <td>False</td>\n",
       "    </tr>\n",
       "    <tr>\n",
       "      <th>...</th>\n",
       "      <td>...</td>\n",
       "      <td>...</td>\n",
       "      <td>...</td>\n",
       "      <td>...</td>\n",
       "      <td>...</td>\n",
       "      <td>...</td>\n",
       "      <td>...</td>\n",
       "      <td>...</td>\n",
       "      <td>...</td>\n",
       "      <td>...</td>\n",
       "      <td>...</td>\n",
       "      <td>...</td>\n",
       "      <td>...</td>\n",
       "      <td>...</td>\n",
       "    </tr>\n",
       "    <tr>\n",
       "      <th>26423</th>\n",
       "      <td>False</td>\n",
       "      <td>False</td>\n",
       "      <td>False</td>\n",
       "      <td>True</td>\n",
       "      <td>False</td>\n",
       "      <td>False</td>\n",
       "      <td>False</td>\n",
       "      <td>False</td>\n",
       "      <td>False</td>\n",
       "      <td>False</td>\n",
       "      <td>False</td>\n",
       "      <td>False</td>\n",
       "      <td>False</td>\n",
       "      <td>False</td>\n",
       "    </tr>\n",
       "    <tr>\n",
       "      <th>26424</th>\n",
       "      <td>False</td>\n",
       "      <td>False</td>\n",
       "      <td>False</td>\n",
       "      <td>True</td>\n",
       "      <td>False</td>\n",
       "      <td>False</td>\n",
       "      <td>False</td>\n",
       "      <td>False</td>\n",
       "      <td>False</td>\n",
       "      <td>False</td>\n",
       "      <td>False</td>\n",
       "      <td>False</td>\n",
       "      <td>False</td>\n",
       "      <td>False</td>\n",
       "    </tr>\n",
       "    <tr>\n",
       "      <th>26425</th>\n",
       "      <td>False</td>\n",
       "      <td>False</td>\n",
       "      <td>False</td>\n",
       "      <td>True</td>\n",
       "      <td>False</td>\n",
       "      <td>False</td>\n",
       "      <td>False</td>\n",
       "      <td>False</td>\n",
       "      <td>False</td>\n",
       "      <td>False</td>\n",
       "      <td>False</td>\n",
       "      <td>False</td>\n",
       "      <td>False</td>\n",
       "      <td>False</td>\n",
       "    </tr>\n",
       "    <tr>\n",
       "      <th>26426</th>\n",
       "      <td>False</td>\n",
       "      <td>False</td>\n",
       "      <td>False</td>\n",
       "      <td>True</td>\n",
       "      <td>False</td>\n",
       "      <td>False</td>\n",
       "      <td>False</td>\n",
       "      <td>False</td>\n",
       "      <td>False</td>\n",
       "      <td>False</td>\n",
       "      <td>False</td>\n",
       "      <td>False</td>\n",
       "      <td>False</td>\n",
       "      <td>False</td>\n",
       "    </tr>\n",
       "    <tr>\n",
       "      <th>26427</th>\n",
       "      <td>False</td>\n",
       "      <td>False</td>\n",
       "      <td>False</td>\n",
       "      <td>True</td>\n",
       "      <td>False</td>\n",
       "      <td>False</td>\n",
       "      <td>False</td>\n",
       "      <td>False</td>\n",
       "      <td>False</td>\n",
       "      <td>False</td>\n",
       "      <td>False</td>\n",
       "      <td>False</td>\n",
       "      <td>False</td>\n",
       "      <td>False</td>\n",
       "    </tr>\n",
       "  </tbody>\n",
       "</table>\n",
       "<p>26428 rows × 14 columns</p>\n",
       "</div>"
      ],
      "text/plain": [
       "       playerid  birthyear  birthcountry  deathyear  namefirst  namelast  \\\n",
       "0         False      False         False       True      False     False   \n",
       "1         False      False         False       True      False     False   \n",
       "2         False      False         False       True      False     False   \n",
       "3         False      False         False      False      False     False   \n",
       "4         False      False         False       True      False     False   \n",
       "...         ...        ...           ...        ...        ...       ...   \n",
       "26423     False      False         False       True      False     False   \n",
       "26424     False      False         False       True      False     False   \n",
       "26425     False      False         False       True      False     False   \n",
       "26426     False      False         False       True      False     False   \n",
       "26427     False      False         False       True      False     False   \n",
       "\n",
       "       weight  height   bats  throws  yearid  teamid   lgid  salary  \n",
       "0       False   False  False   False   False   False  False   False  \n",
       "1       False   False  False   False   False   False  False   False  \n",
       "2       False   False  False   False   False   False  False   False  \n",
       "3       False   False  False   False   False   False  False   False  \n",
       "4       False   False  False   False   False   False  False   False  \n",
       "...       ...     ...    ...     ...     ...     ...    ...     ...  \n",
       "26423   False   False  False   False   False   False  False   False  \n",
       "26424   False   False  False   False   False   False  False   False  \n",
       "26425   False   False  False   False   False   False  False   False  \n",
       "26426   False   False  False   False   False   False  False   False  \n",
       "26427   False   False  False   False   False   False  False   False  \n",
       "\n",
       "[26428 rows x 14 columns]"
      ]
     },
     "execution_count": 7,
     "metadata": {},
     "output_type": "execute_result"
    }
   ],
   "source": [
    "players_df.isnull()"
   ]
  },
  {
   "cell_type": "markdown",
   "metadata": {
    "colab_type": "text",
    "id": "ff9kdTZZniwh"
   },
   "source": [
    "Immediately we can see that there are quite a few missing values in the `deathyear` field. It makes sense that there are missing values here -- if a player is still living, then their death year is indeed unknown. Making this connection shows the importance of understanding how data is collected -- the data itself may not provide the answers.\n",
    "\n",
    "Should we want to exclude all records with a missing value, we can call the `dropna()` method. By default, this will drop any row which includes a missing value, in any field. There are many other ways to drop missing values in `pandas` -- to learn more, check the [official docs](https://pandas.pydata.org/pandas-docs/stable/reference/api/pandas.DataFrame.dropna.html)."
   ]
  },
  {
   "cell_type": "code",
   "execution_count": 8,
   "metadata": {
    "colab": {
     "base_uri": "https://localhost:8080/",
     "height": 340
    },
    "colab_type": "code",
    "id": "aVz1CPKQntY4",
    "outputId": "22dce74b-f7d8-429c-e1e2-0467b666103a"
   },
   "outputs": [
    {
     "name": "stdout",
     "output_type": "stream",
     "text": [
      "<class 'pandas.core.frame.DataFrame'>\n",
      "Int64Index: 492 entries, 3 to 25988\n",
      "Data columns (total 14 columns):\n",
      " #   Column        Non-Null Count  Dtype  \n",
      "---  ------        --------------  -----  \n",
      " 0   playerid      492 non-null    object \n",
      " 1   birthyear     492 non-null    int64  \n",
      " 2   birthcountry  492 non-null    object \n",
      " 3   deathyear     492 non-null    float64\n",
      " 4   namefirst     492 non-null    object \n",
      " 5   namelast      492 non-null    object \n",
      " 6   weight        492 non-null    int64  \n",
      " 7   height        492 non-null    int64  \n",
      " 8   bats          492 non-null    object \n",
      " 9   throws        492 non-null    object \n",
      " 10  yearid        492 non-null    int64  \n",
      " 11  teamid        492 non-null    object \n",
      " 12  lgid          492 non-null    object \n",
      " 13  salary        492 non-null    int64  \n",
      "dtypes: float64(1), int64(5), object(8)\n",
      "memory usage: 57.7+ KB\n"
     ]
    }
   ],
   "source": [
    "players_df_filtered = players_df.dropna()\n",
    "players_df_filtered.info()"
   ]
  },
  {
   "cell_type": "markdown",
   "metadata": {
    "colab_type": "text",
    "id": "T7ZiPKBWn4us"
   },
   "source": [
    "Our DataFrame now contains only 492 rows -- all rows where the player's death year is unknown has been dropped. \n",
    "\n",
    "Let's say that instead of dropping these rows, we want to fill in the missing values with something other than `NaN`. We can do so with the `fillna()` method. \n",
    "\n",
    "This can be useful in making a DataFrame more legible, or in assigning a special value or character to nulls. \n"
   ]
  },
  {
   "cell_type": "code",
   "execution_count": 9,
   "metadata": {
    "colab": {
     "base_uri": "https://localhost:8080/",
     "height": 1000
    },
    "colab_type": "code",
    "id": "W1KWwxCqoJSp",
    "outputId": "cc78ab52-d7a4-4ada-dd3c-d50444c3fe6b"
   },
   "outputs": [
    {
     "data": {
      "text/html": [
       "<div>\n",
       "<style scoped>\n",
       "    .dataframe tbody tr th:only-of-type {\n",
       "        vertical-align: middle;\n",
       "    }\n",
       "\n",
       "    .dataframe tbody tr th {\n",
       "        vertical-align: top;\n",
       "    }\n",
       "\n",
       "    .dataframe thead th {\n",
       "        text-align: right;\n",
       "    }\n",
       "</style>\n",
       "<table border=\"1\" class=\"dataframe\">\n",
       "  <thead>\n",
       "    <tr style=\"text-align: right;\">\n",
       "      <th></th>\n",
       "      <th>playerid</th>\n",
       "      <th>birthyear</th>\n",
       "      <th>birthcountry</th>\n",
       "      <th>deathyear</th>\n",
       "      <th>namefirst</th>\n",
       "      <th>namelast</th>\n",
       "      <th>weight</th>\n",
       "      <th>height</th>\n",
       "      <th>bats</th>\n",
       "      <th>throws</th>\n",
       "      <th>yearid</th>\n",
       "      <th>teamid</th>\n",
       "      <th>lgid</th>\n",
       "      <th>salary</th>\n",
       "    </tr>\n",
       "  </thead>\n",
       "  <tbody>\n",
       "    <tr>\n",
       "      <th>0</th>\n",
       "      <td>barkele01</td>\n",
       "      <td>1955</td>\n",
       "      <td>USA</td>\n",
       "      <td>To be determined</td>\n",
       "      <td>Len</td>\n",
       "      <td>Barker</td>\n",
       "      <td>225</td>\n",
       "      <td>77</td>\n",
       "      <td>R</td>\n",
       "      <td>R</td>\n",
       "      <td>1985</td>\n",
       "      <td>ATL</td>\n",
       "      <td>NL</td>\n",
       "      <td>870000</td>\n",
       "    </tr>\n",
       "    <tr>\n",
       "      <th>1</th>\n",
       "      <td>bedrost01</td>\n",
       "      <td>1957</td>\n",
       "      <td>USA</td>\n",
       "      <td>To be determined</td>\n",
       "      <td>Steve</td>\n",
       "      <td>Bedrosian</td>\n",
       "      <td>200</td>\n",
       "      <td>75</td>\n",
       "      <td>R</td>\n",
       "      <td>R</td>\n",
       "      <td>1985</td>\n",
       "      <td>ATL</td>\n",
       "      <td>NL</td>\n",
       "      <td>550000</td>\n",
       "    </tr>\n",
       "    <tr>\n",
       "      <th>2</th>\n",
       "      <td>benedbr01</td>\n",
       "      <td>1955</td>\n",
       "      <td>USA</td>\n",
       "      <td>To be determined</td>\n",
       "      <td>Bruce</td>\n",
       "      <td>Benedict</td>\n",
       "      <td>175</td>\n",
       "      <td>73</td>\n",
       "      <td>R</td>\n",
       "      <td>R</td>\n",
       "      <td>1985</td>\n",
       "      <td>ATL</td>\n",
       "      <td>NL</td>\n",
       "      <td>545000</td>\n",
       "    </tr>\n",
       "    <tr>\n",
       "      <th>3</th>\n",
       "      <td>campri01</td>\n",
       "      <td>1953</td>\n",
       "      <td>USA</td>\n",
       "      <td>2013</td>\n",
       "      <td>Rick</td>\n",
       "      <td>Camp</td>\n",
       "      <td>195</td>\n",
       "      <td>73</td>\n",
       "      <td>R</td>\n",
       "      <td>R</td>\n",
       "      <td>1985</td>\n",
       "      <td>ATL</td>\n",
       "      <td>NL</td>\n",
       "      <td>633333</td>\n",
       "    </tr>\n",
       "    <tr>\n",
       "      <th>4</th>\n",
       "      <td>ceronri01</td>\n",
       "      <td>1954</td>\n",
       "      <td>USA</td>\n",
       "      <td>To be determined</td>\n",
       "      <td>Rick</td>\n",
       "      <td>Cerone</td>\n",
       "      <td>192</td>\n",
       "      <td>71</td>\n",
       "      <td>R</td>\n",
       "      <td>R</td>\n",
       "      <td>1985</td>\n",
       "      <td>ATL</td>\n",
       "      <td>NL</td>\n",
       "      <td>625000</td>\n",
       "    </tr>\n",
       "    <tr>\n",
       "      <th>...</th>\n",
       "      <td>...</td>\n",
       "      <td>...</td>\n",
       "      <td>...</td>\n",
       "      <td>...</td>\n",
       "      <td>...</td>\n",
       "      <td>...</td>\n",
       "      <td>...</td>\n",
       "      <td>...</td>\n",
       "      <td>...</td>\n",
       "      <td>...</td>\n",
       "      <td>...</td>\n",
       "      <td>...</td>\n",
       "      <td>...</td>\n",
       "      <td>...</td>\n",
       "    </tr>\n",
       "    <tr>\n",
       "      <th>26423</th>\n",
       "      <td>strasst01</td>\n",
       "      <td>1988</td>\n",
       "      <td>USA</td>\n",
       "      <td>To be determined</td>\n",
       "      <td>Stephen</td>\n",
       "      <td>Strasburg</td>\n",
       "      <td>235</td>\n",
       "      <td>76</td>\n",
       "      <td>R</td>\n",
       "      <td>R</td>\n",
       "      <td>2016</td>\n",
       "      <td>WAS</td>\n",
       "      <td>NL</td>\n",
       "      <td>10400000</td>\n",
       "    </tr>\n",
       "    <tr>\n",
       "      <th>26424</th>\n",
       "      <td>taylomi02</td>\n",
       "      <td>1991</td>\n",
       "      <td>USA</td>\n",
       "      <td>To be determined</td>\n",
       "      <td>Michael</td>\n",
       "      <td>Taylor</td>\n",
       "      <td>210</td>\n",
       "      <td>75</td>\n",
       "      <td>R</td>\n",
       "      <td>R</td>\n",
       "      <td>2016</td>\n",
       "      <td>WAS</td>\n",
       "      <td>NL</td>\n",
       "      <td>524000</td>\n",
       "    </tr>\n",
       "    <tr>\n",
       "      <th>26425</th>\n",
       "      <td>treinbl01</td>\n",
       "      <td>1988</td>\n",
       "      <td>USA</td>\n",
       "      <td>To be determined</td>\n",
       "      <td>Blake</td>\n",
       "      <td>Treinen</td>\n",
       "      <td>225</td>\n",
       "      <td>77</td>\n",
       "      <td>R</td>\n",
       "      <td>R</td>\n",
       "      <td>2016</td>\n",
       "      <td>WAS</td>\n",
       "      <td>NL</td>\n",
       "      <td>524900</td>\n",
       "    </tr>\n",
       "    <tr>\n",
       "      <th>26426</th>\n",
       "      <td>werthja01</td>\n",
       "      <td>1979</td>\n",
       "      <td>USA</td>\n",
       "      <td>To be determined</td>\n",
       "      <td>Jayson</td>\n",
       "      <td>Werth</td>\n",
       "      <td>235</td>\n",
       "      <td>77</td>\n",
       "      <td>R</td>\n",
       "      <td>R</td>\n",
       "      <td>2016</td>\n",
       "      <td>WAS</td>\n",
       "      <td>NL</td>\n",
       "      <td>21733615</td>\n",
       "    </tr>\n",
       "    <tr>\n",
       "      <th>26427</th>\n",
       "      <td>zimmery01</td>\n",
       "      <td>1984</td>\n",
       "      <td>USA</td>\n",
       "      <td>To be determined</td>\n",
       "      <td>Ryan</td>\n",
       "      <td>Zimmerman</td>\n",
       "      <td>225</td>\n",
       "      <td>75</td>\n",
       "      <td>R</td>\n",
       "      <td>R</td>\n",
       "      <td>2016</td>\n",
       "      <td>WAS</td>\n",
       "      <td>NL</td>\n",
       "      <td>14000000</td>\n",
       "    </tr>\n",
       "  </tbody>\n",
       "</table>\n",
       "<p>26428 rows × 14 columns</p>\n",
       "</div>"
      ],
      "text/plain": [
       "        playerid  birthyear birthcountry         deathyear namefirst  \\\n",
       "0      barkele01       1955          USA  To be determined       Len   \n",
       "1      bedrost01       1957          USA  To be determined     Steve   \n",
       "2      benedbr01       1955          USA  To be determined     Bruce   \n",
       "3       campri01       1953          USA              2013      Rick   \n",
       "4      ceronri01       1954          USA  To be determined      Rick   \n",
       "...          ...        ...          ...               ...       ...   \n",
       "26423  strasst01       1988          USA  To be determined   Stephen   \n",
       "26424  taylomi02       1991          USA  To be determined   Michael   \n",
       "26425  treinbl01       1988          USA  To be determined     Blake   \n",
       "26426  werthja01       1979          USA  To be determined    Jayson   \n",
       "26427  zimmery01       1984          USA  To be determined      Ryan   \n",
       "\n",
       "        namelast  weight  height bats throws  yearid teamid lgid    salary  \n",
       "0         Barker     225      77    R      R    1985    ATL   NL    870000  \n",
       "1      Bedrosian     200      75    R      R    1985    ATL   NL    550000  \n",
       "2       Benedict     175      73    R      R    1985    ATL   NL    545000  \n",
       "3           Camp     195      73    R      R    1985    ATL   NL    633333  \n",
       "4         Cerone     192      71    R      R    1985    ATL   NL    625000  \n",
       "...          ...     ...     ...  ...    ...     ...    ...  ...       ...  \n",
       "26423  Strasburg     235      76    R      R    2016    WAS   NL  10400000  \n",
       "26424     Taylor     210      75    R      R    2016    WAS   NL    524000  \n",
       "26425    Treinen     225      77    R      R    2016    WAS   NL    524900  \n",
       "26426      Werth     235      77    R      R    2016    WAS   NL  21733615  \n",
       "26427  Zimmerman     225      75    R      R    2016    WAS   NL  14000000  \n",
       "\n",
       "[26428 rows x 14 columns]"
      ]
     },
     "execution_count": 9,
     "metadata": {},
     "output_type": "execute_result"
    }
   ],
   "source": [
    "players_df.fillna('To be determined')"
   ]
  },
  {
   "cell_type": "markdown",
   "metadata": {
    "colab_type": "text",
    "id": "0NW9ndb366UK"
   },
   "source": [
    "## Add new columns\n",
    "\n",
    "Sometimes, you'll need to add new columns by deriving values from calculations involving other columns. For example, if we had data on the weight and height of all players on a team, we could compute a new column for body mass index by using the formula:\n",
    "\n",
    "$$ bmi = \\frac{weight * 703}{height^2} $$\n",
    "\n",
    "To create a column of values calculated from the values in other columns use the `assign()` method of the DataFrame."
   ]
  },
  {
   "cell_type": "code",
   "execution_count": 10,
   "metadata": {
    "colab": {
     "base_uri": "https://localhost:8080/",
     "height": 224
    },
    "colab_type": "code",
    "id": "D4zg4V1K6-Xz",
    "outputId": "4ed91a5d-4af4-4dc6-d7be-9ef3dc69d530"
   },
   "outputs": [
    {
     "data": {
      "text/html": [
       "<div>\n",
       "<style scoped>\n",
       "    .dataframe tbody tr th:only-of-type {\n",
       "        vertical-align: middle;\n",
       "    }\n",
       "\n",
       "    .dataframe tbody tr th {\n",
       "        vertical-align: top;\n",
       "    }\n",
       "\n",
       "    .dataframe thead th {\n",
       "        text-align: right;\n",
       "    }\n",
       "</style>\n",
       "<table border=\"1\" class=\"dataframe\">\n",
       "  <thead>\n",
       "    <tr style=\"text-align: right;\">\n",
       "      <th></th>\n",
       "      <th>playerid</th>\n",
       "      <th>birthyear</th>\n",
       "      <th>birthcountry</th>\n",
       "      <th>deathyear</th>\n",
       "      <th>namefirst</th>\n",
       "      <th>namelast</th>\n",
       "      <th>weight</th>\n",
       "      <th>height</th>\n",
       "      <th>bats</th>\n",
       "      <th>throws</th>\n",
       "      <th>yearid</th>\n",
       "      <th>teamid</th>\n",
       "      <th>lgid</th>\n",
       "      <th>salary</th>\n",
       "      <th>bmi</th>\n",
       "    </tr>\n",
       "  </thead>\n",
       "  <tbody>\n",
       "    <tr>\n",
       "      <th>0</th>\n",
       "      <td>barkele01</td>\n",
       "      <td>1955</td>\n",
       "      <td>USA</td>\n",
       "      <td>NaN</td>\n",
       "      <td>Len</td>\n",
       "      <td>Barker</td>\n",
       "      <td>225</td>\n",
       "      <td>77</td>\n",
       "      <td>R</td>\n",
       "      <td>R</td>\n",
       "      <td>1985</td>\n",
       "      <td>ATL</td>\n",
       "      <td>NL</td>\n",
       "      <td>870000</td>\n",
       "      <td>26.678192</td>\n",
       "    </tr>\n",
       "    <tr>\n",
       "      <th>1</th>\n",
       "      <td>bedrost01</td>\n",
       "      <td>1957</td>\n",
       "      <td>USA</td>\n",
       "      <td>NaN</td>\n",
       "      <td>Steve</td>\n",
       "      <td>Bedrosian</td>\n",
       "      <td>200</td>\n",
       "      <td>75</td>\n",
       "      <td>R</td>\n",
       "      <td>R</td>\n",
       "      <td>1985</td>\n",
       "      <td>ATL</td>\n",
       "      <td>NL</td>\n",
       "      <td>550000</td>\n",
       "      <td>24.995556</td>\n",
       "    </tr>\n",
       "    <tr>\n",
       "      <th>2</th>\n",
       "      <td>benedbr01</td>\n",
       "      <td>1955</td>\n",
       "      <td>USA</td>\n",
       "      <td>NaN</td>\n",
       "      <td>Bruce</td>\n",
       "      <td>Benedict</td>\n",
       "      <td>175</td>\n",
       "      <td>73</td>\n",
       "      <td>R</td>\n",
       "      <td>R</td>\n",
       "      <td>1985</td>\n",
       "      <td>ATL</td>\n",
       "      <td>NL</td>\n",
       "      <td>545000</td>\n",
       "      <td>23.085945</td>\n",
       "    </tr>\n",
       "    <tr>\n",
       "      <th>3</th>\n",
       "      <td>campri01</td>\n",
       "      <td>1953</td>\n",
       "      <td>USA</td>\n",
       "      <td>2013.0</td>\n",
       "      <td>Rick</td>\n",
       "      <td>Camp</td>\n",
       "      <td>195</td>\n",
       "      <td>73</td>\n",
       "      <td>R</td>\n",
       "      <td>R</td>\n",
       "      <td>1985</td>\n",
       "      <td>ATL</td>\n",
       "      <td>NL</td>\n",
       "      <td>633333</td>\n",
       "      <td>25.724339</td>\n",
       "    </tr>\n",
       "    <tr>\n",
       "      <th>4</th>\n",
       "      <td>ceronri01</td>\n",
       "      <td>1954</td>\n",
       "      <td>USA</td>\n",
       "      <td>NaN</td>\n",
       "      <td>Rick</td>\n",
       "      <td>Cerone</td>\n",
       "      <td>192</td>\n",
       "      <td>71</td>\n",
       "      <td>R</td>\n",
       "      <td>R</td>\n",
       "      <td>1985</td>\n",
       "      <td>ATL</td>\n",
       "      <td>NL</td>\n",
       "      <td>625000</td>\n",
       "      <td>26.775640</td>\n",
       "    </tr>\n",
       "  </tbody>\n",
       "</table>\n",
       "</div>"
      ],
      "text/plain": [
       "    playerid  birthyear birthcountry  deathyear namefirst   namelast  weight  \\\n",
       "0  barkele01       1955          USA        NaN       Len     Barker     225   \n",
       "1  bedrost01       1957          USA        NaN     Steve  Bedrosian     200   \n",
       "2  benedbr01       1955          USA        NaN     Bruce   Benedict     175   \n",
       "3   campri01       1953          USA     2013.0      Rick       Camp     195   \n",
       "4  ceronri01       1954          USA        NaN      Rick     Cerone     192   \n",
       "\n",
       "   height bats throws  yearid teamid lgid  salary        bmi  \n",
       "0      77    R      R    1985    ATL   NL  870000  26.678192  \n",
       "1      75    R      R    1985    ATL   NL  550000  24.995556  \n",
       "2      73    R      R    1985    ATL   NL  545000  23.085945  \n",
       "3      73    R      R    1985    ATL   NL  633333  25.724339  \n",
       "4      71    R      R    1985    ATL   NL  625000  26.775640  "
      ]
     },
     "execution_count": 10,
     "metadata": {},
     "output_type": "execute_result"
    }
   ],
   "source": [
    "players_df = players_df.assign(bmi = (703 * players_df.weight) / (players_df.height**2))\n",
    "players_df.head()"
   ]
  },
  {
   "cell_type": "markdown",
   "metadata": {
    "colab_type": "text",
    "id": "DBczzr-S7CGJ"
   },
   "source": [
    "Or to simply add a new column with some default:"
   ]
  },
  {
   "cell_type": "code",
   "execution_count": 11,
   "metadata": {
    "colab": {
     "base_uri": "https://localhost:8080/",
     "height": 224
    },
    "colab_type": "code",
    "id": "SogOfGhBJvlE",
    "outputId": "c10af77e-12c6-4a47-fa68-2066a211e094"
   },
   "outputs": [
    {
     "data": {
      "text/html": [
       "<div>\n",
       "<style scoped>\n",
       "    .dataframe tbody tr th:only-of-type {\n",
       "        vertical-align: middle;\n",
       "    }\n",
       "\n",
       "    .dataframe tbody tr th {\n",
       "        vertical-align: top;\n",
       "    }\n",
       "\n",
       "    .dataframe thead th {\n",
       "        text-align: right;\n",
       "    }\n",
       "</style>\n",
       "<table border=\"1\" class=\"dataframe\">\n",
       "  <thead>\n",
       "    <tr style=\"text-align: right;\">\n",
       "      <th></th>\n",
       "      <th>playerid</th>\n",
       "      <th>birthyear</th>\n",
       "      <th>birthcountry</th>\n",
       "      <th>deathyear</th>\n",
       "      <th>namefirst</th>\n",
       "      <th>namelast</th>\n",
       "      <th>weight</th>\n",
       "      <th>height</th>\n",
       "      <th>bats</th>\n",
       "      <th>throws</th>\n",
       "      <th>yearid</th>\n",
       "      <th>teamid</th>\n",
       "      <th>lgid</th>\n",
       "      <th>salary</th>\n",
       "      <th>bmi</th>\n",
       "      <th>X</th>\n",
       "    </tr>\n",
       "  </thead>\n",
       "  <tbody>\n",
       "    <tr>\n",
       "      <th>0</th>\n",
       "      <td>barkele01</td>\n",
       "      <td>1955</td>\n",
       "      <td>USA</td>\n",
       "      <td>NaN</td>\n",
       "      <td>Len</td>\n",
       "      <td>Barker</td>\n",
       "      <td>225</td>\n",
       "      <td>77</td>\n",
       "      <td>R</td>\n",
       "      <td>R</td>\n",
       "      <td>1985</td>\n",
       "      <td>ATL</td>\n",
       "      <td>NL</td>\n",
       "      <td>870000</td>\n",
       "      <td>26.678192</td>\n",
       "      <td>0</td>\n",
       "    </tr>\n",
       "    <tr>\n",
       "      <th>1</th>\n",
       "      <td>bedrost01</td>\n",
       "      <td>1957</td>\n",
       "      <td>USA</td>\n",
       "      <td>NaN</td>\n",
       "      <td>Steve</td>\n",
       "      <td>Bedrosian</td>\n",
       "      <td>200</td>\n",
       "      <td>75</td>\n",
       "      <td>R</td>\n",
       "      <td>R</td>\n",
       "      <td>1985</td>\n",
       "      <td>ATL</td>\n",
       "      <td>NL</td>\n",
       "      <td>550000</td>\n",
       "      <td>24.995556</td>\n",
       "      <td>0</td>\n",
       "    </tr>\n",
       "    <tr>\n",
       "      <th>2</th>\n",
       "      <td>benedbr01</td>\n",
       "      <td>1955</td>\n",
       "      <td>USA</td>\n",
       "      <td>NaN</td>\n",
       "      <td>Bruce</td>\n",
       "      <td>Benedict</td>\n",
       "      <td>175</td>\n",
       "      <td>73</td>\n",
       "      <td>R</td>\n",
       "      <td>R</td>\n",
       "      <td>1985</td>\n",
       "      <td>ATL</td>\n",
       "      <td>NL</td>\n",
       "      <td>545000</td>\n",
       "      <td>23.085945</td>\n",
       "      <td>0</td>\n",
       "    </tr>\n",
       "    <tr>\n",
       "      <th>3</th>\n",
       "      <td>campri01</td>\n",
       "      <td>1953</td>\n",
       "      <td>USA</td>\n",
       "      <td>2013.0</td>\n",
       "      <td>Rick</td>\n",
       "      <td>Camp</td>\n",
       "      <td>195</td>\n",
       "      <td>73</td>\n",
       "      <td>R</td>\n",
       "      <td>R</td>\n",
       "      <td>1985</td>\n",
       "      <td>ATL</td>\n",
       "      <td>NL</td>\n",
       "      <td>633333</td>\n",
       "      <td>25.724339</td>\n",
       "      <td>0</td>\n",
       "    </tr>\n",
       "    <tr>\n",
       "      <th>4</th>\n",
       "      <td>ceronri01</td>\n",
       "      <td>1954</td>\n",
       "      <td>USA</td>\n",
       "      <td>NaN</td>\n",
       "      <td>Rick</td>\n",
       "      <td>Cerone</td>\n",
       "      <td>192</td>\n",
       "      <td>71</td>\n",
       "      <td>R</td>\n",
       "      <td>R</td>\n",
       "      <td>1985</td>\n",
       "      <td>ATL</td>\n",
       "      <td>NL</td>\n",
       "      <td>625000</td>\n",
       "      <td>26.775640</td>\n",
       "      <td>0</td>\n",
       "    </tr>\n",
       "  </tbody>\n",
       "</table>\n",
       "</div>"
      ],
      "text/plain": [
       "    playerid  birthyear birthcountry  deathyear namefirst   namelast  weight  \\\n",
       "0  barkele01       1955          USA        NaN       Len     Barker     225   \n",
       "1  bedrost01       1957          USA        NaN     Steve  Bedrosian     200   \n",
       "2  benedbr01       1955          USA        NaN     Bruce   Benedict     175   \n",
       "3   campri01       1953          USA     2013.0      Rick       Camp     195   \n",
       "4  ceronri01       1954          USA        NaN      Rick     Cerone     192   \n",
       "\n",
       "   height bats throws  yearid teamid lgid  salary        bmi  X  \n",
       "0      77    R      R    1985    ATL   NL  870000  26.678192  0  \n",
       "1      75    R      R    1985    ATL   NL  550000  24.995556  0  \n",
       "2      73    R      R    1985    ATL   NL  545000  23.085945  0  \n",
       "3      73    R      R    1985    ATL   NL  633333  25.724339  0  \n",
       "4      71    R      R    1985    ATL   NL  625000  26.775640  0  "
      ]
     },
     "execution_count": 11,
     "metadata": {},
     "output_type": "execute_result"
    }
   ],
   "source": [
    "players_df['X'] = 0\n",
    "players_df.head()"
   ]
  },
  {
   "cell_type": "markdown",
   "metadata": {
    "colab_type": "text",
    "id": "EbShbWT5KNVp"
   },
   "source": [
    "Both of those options are row-wise operators.\n",
    "\n",
    "## Deleting Columns\n",
    "\n",
    "To remove a column, use the `drop()` method. This method can be used to drop both rows and columns so the axes have to be specified. Let's remove the new column we just created. The `drop()` method by default does not actually modify the DataFrame, rather it creates a new DataFrame with the changes leaving the existing one untouched. This can be useful in many cases, but you need to be aware of the behavior. \n",
    "\n",
    "As an alternative, you can set the `inplace` parameter to `True` to make the operation work on the existing DataFrame. In the following code snippet, we first drop a column and assign the new modified DataFrame to a new variable named `players_df_changed`. The original DataFrame named `players_df` still exists. Next, the original DataFrame is modified by dropping the same column while passing the `inplace` parameter set to `True`."
   ]
  },
  {
   "cell_type": "code",
   "execution_count": 21,
   "metadata": {
    "colab": {
     "base_uri": "https://localhost:8080/",
     "height": 272
    },
    "colab_type": "code",
    "id": "_qgG3aFd7GF1",
    "outputId": "8a9e7a3c-deaa-4e16-92bf-1bd3301ea520"
   },
   "outputs": [
    {
     "ename": "KeyError",
     "evalue": "\"['X'] not found in axis\"",
     "output_type": "error",
     "traceback": [
      "\u001b[1;31m---------------------------------------------------------------------------\u001b[0m",
      "\u001b[1;31mKeyError\u001b[0m                                  Traceback (most recent call last)",
      "\u001b[1;32m<ipython-input-21-a805e022890c>\u001b[0m in \u001b[0;36m<module>\u001b[1;34m\u001b[0m\n\u001b[0;32m      1\u001b[0m \u001b[1;31m# delete the X column and store the new DataFrame in a new variable\u001b[0m\u001b[1;33m\u001b[0m\u001b[1;33m\u001b[0m\u001b[1;33m\u001b[0m\u001b[0m\n\u001b[1;32m----> 2\u001b[1;33m \u001b[0mplayers_df_changed\u001b[0m \u001b[1;33m=\u001b[0m \u001b[0mplayers_df\u001b[0m\u001b[1;33m.\u001b[0m\u001b[0mdrop\u001b[0m\u001b[1;33m(\u001b[0m\u001b[1;33m[\u001b[0m\u001b[1;34m'X'\u001b[0m\u001b[1;33m]\u001b[0m\u001b[1;33m,\u001b[0m \u001b[0maxis\u001b[0m\u001b[1;33m=\u001b[0m\u001b[1;36m1\u001b[0m\u001b[1;33m)\u001b[0m\u001b[1;33m\u001b[0m\u001b[1;33m\u001b[0m\u001b[0m\n\u001b[0m\u001b[0;32m      3\u001b[0m \u001b[1;33m\u001b[0m\u001b[0m\n\u001b[0;32m      4\u001b[0m \u001b[0mprint\u001b[0m\u001b[1;33m(\u001b[0m\u001b[1;34m'The columns of the new DataFrame'\u001b[0m\u001b[1;33m)\u001b[0m\u001b[1;33m\u001b[0m\u001b[1;33m\u001b[0m\u001b[0m\n\u001b[0;32m      5\u001b[0m \u001b[0mprint\u001b[0m\u001b[1;33m(\u001b[0m\u001b[0mplayers_df_changed\u001b[0m\u001b[1;33m.\u001b[0m\u001b[0mcolumns\u001b[0m\u001b[1;33m)\u001b[0m\u001b[1;33m\u001b[0m\u001b[1;33m\u001b[0m\u001b[0m\n",
      "\u001b[1;32mC:\\ProgramData\\Anaconda3\\lib\\site-packages\\pandas\\core\\frame.py\u001b[0m in \u001b[0;36mdrop\u001b[1;34m(self, labels, axis, index, columns, level, inplace, errors)\u001b[0m\n\u001b[0;32m   3995\u001b[0m             \u001b[0mlevel\u001b[0m\u001b[1;33m=\u001b[0m\u001b[0mlevel\u001b[0m\u001b[1;33m,\u001b[0m\u001b[1;33m\u001b[0m\u001b[1;33m\u001b[0m\u001b[0m\n\u001b[0;32m   3996\u001b[0m             \u001b[0minplace\u001b[0m\u001b[1;33m=\u001b[0m\u001b[0minplace\u001b[0m\u001b[1;33m,\u001b[0m\u001b[1;33m\u001b[0m\u001b[1;33m\u001b[0m\u001b[0m\n\u001b[1;32m-> 3997\u001b[1;33m             \u001b[0merrors\u001b[0m\u001b[1;33m=\u001b[0m\u001b[0merrors\u001b[0m\u001b[1;33m,\u001b[0m\u001b[1;33m\u001b[0m\u001b[1;33m\u001b[0m\u001b[0m\n\u001b[0m\u001b[0;32m   3998\u001b[0m         )\n\u001b[0;32m   3999\u001b[0m \u001b[1;33m\u001b[0m\u001b[0m\n",
      "\u001b[1;32mC:\\ProgramData\\Anaconda3\\lib\\site-packages\\pandas\\core\\generic.py\u001b[0m in \u001b[0;36mdrop\u001b[1;34m(self, labels, axis, index, columns, level, inplace, errors)\u001b[0m\n\u001b[0;32m   3934\u001b[0m         \u001b[1;32mfor\u001b[0m \u001b[0maxis\u001b[0m\u001b[1;33m,\u001b[0m \u001b[0mlabels\u001b[0m \u001b[1;32min\u001b[0m \u001b[0maxes\u001b[0m\u001b[1;33m.\u001b[0m\u001b[0mitems\u001b[0m\u001b[1;33m(\u001b[0m\u001b[1;33m)\u001b[0m\u001b[1;33m:\u001b[0m\u001b[1;33m\u001b[0m\u001b[1;33m\u001b[0m\u001b[0m\n\u001b[0;32m   3935\u001b[0m             \u001b[1;32mif\u001b[0m \u001b[0mlabels\u001b[0m \u001b[1;32mis\u001b[0m \u001b[1;32mnot\u001b[0m \u001b[1;32mNone\u001b[0m\u001b[1;33m:\u001b[0m\u001b[1;33m\u001b[0m\u001b[1;33m\u001b[0m\u001b[0m\n\u001b[1;32m-> 3936\u001b[1;33m                 \u001b[0mobj\u001b[0m \u001b[1;33m=\u001b[0m \u001b[0mobj\u001b[0m\u001b[1;33m.\u001b[0m\u001b[0m_drop_axis\u001b[0m\u001b[1;33m(\u001b[0m\u001b[0mlabels\u001b[0m\u001b[1;33m,\u001b[0m \u001b[0maxis\u001b[0m\u001b[1;33m,\u001b[0m \u001b[0mlevel\u001b[0m\u001b[1;33m=\u001b[0m\u001b[0mlevel\u001b[0m\u001b[1;33m,\u001b[0m \u001b[0merrors\u001b[0m\u001b[1;33m=\u001b[0m\u001b[0merrors\u001b[0m\u001b[1;33m)\u001b[0m\u001b[1;33m\u001b[0m\u001b[1;33m\u001b[0m\u001b[0m\n\u001b[0m\u001b[0;32m   3937\u001b[0m \u001b[1;33m\u001b[0m\u001b[0m\n\u001b[0;32m   3938\u001b[0m         \u001b[1;32mif\u001b[0m \u001b[0minplace\u001b[0m\u001b[1;33m:\u001b[0m\u001b[1;33m\u001b[0m\u001b[1;33m\u001b[0m\u001b[0m\n",
      "\u001b[1;32mC:\\ProgramData\\Anaconda3\\lib\\site-packages\\pandas\\core\\generic.py\u001b[0m in \u001b[0;36m_drop_axis\u001b[1;34m(self, labels, axis, level, errors)\u001b[0m\n\u001b[0;32m   3968\u001b[0m                 \u001b[0mnew_axis\u001b[0m \u001b[1;33m=\u001b[0m \u001b[0maxis\u001b[0m\u001b[1;33m.\u001b[0m\u001b[0mdrop\u001b[0m\u001b[1;33m(\u001b[0m\u001b[0mlabels\u001b[0m\u001b[1;33m,\u001b[0m \u001b[0mlevel\u001b[0m\u001b[1;33m=\u001b[0m\u001b[0mlevel\u001b[0m\u001b[1;33m,\u001b[0m \u001b[0merrors\u001b[0m\u001b[1;33m=\u001b[0m\u001b[0merrors\u001b[0m\u001b[1;33m)\u001b[0m\u001b[1;33m\u001b[0m\u001b[1;33m\u001b[0m\u001b[0m\n\u001b[0;32m   3969\u001b[0m             \u001b[1;32melse\u001b[0m\u001b[1;33m:\u001b[0m\u001b[1;33m\u001b[0m\u001b[1;33m\u001b[0m\u001b[0m\n\u001b[1;32m-> 3970\u001b[1;33m                 \u001b[0mnew_axis\u001b[0m \u001b[1;33m=\u001b[0m \u001b[0maxis\u001b[0m\u001b[1;33m.\u001b[0m\u001b[0mdrop\u001b[0m\u001b[1;33m(\u001b[0m\u001b[0mlabels\u001b[0m\u001b[1;33m,\u001b[0m \u001b[0merrors\u001b[0m\u001b[1;33m=\u001b[0m\u001b[0merrors\u001b[0m\u001b[1;33m)\u001b[0m\u001b[1;33m\u001b[0m\u001b[1;33m\u001b[0m\u001b[0m\n\u001b[0m\u001b[0;32m   3971\u001b[0m             \u001b[0mresult\u001b[0m \u001b[1;33m=\u001b[0m \u001b[0mself\u001b[0m\u001b[1;33m.\u001b[0m\u001b[0mreindex\u001b[0m\u001b[1;33m(\u001b[0m\u001b[1;33m**\u001b[0m\u001b[1;33m{\u001b[0m\u001b[0maxis_name\u001b[0m\u001b[1;33m:\u001b[0m \u001b[0mnew_axis\u001b[0m\u001b[1;33m}\u001b[0m\u001b[1;33m)\u001b[0m\u001b[1;33m\u001b[0m\u001b[1;33m\u001b[0m\u001b[0m\n\u001b[0;32m   3972\u001b[0m \u001b[1;33m\u001b[0m\u001b[0m\n",
      "\u001b[1;32mC:\\ProgramData\\Anaconda3\\lib\\site-packages\\pandas\\core\\indexes\\base.py\u001b[0m in \u001b[0;36mdrop\u001b[1;34m(self, labels, errors)\u001b[0m\n\u001b[0;32m   5015\u001b[0m         \u001b[1;32mif\u001b[0m \u001b[0mmask\u001b[0m\u001b[1;33m.\u001b[0m\u001b[0many\u001b[0m\u001b[1;33m(\u001b[0m\u001b[1;33m)\u001b[0m\u001b[1;33m:\u001b[0m\u001b[1;33m\u001b[0m\u001b[1;33m\u001b[0m\u001b[0m\n\u001b[0;32m   5016\u001b[0m             \u001b[1;32mif\u001b[0m \u001b[0merrors\u001b[0m \u001b[1;33m!=\u001b[0m \u001b[1;34m\"ignore\"\u001b[0m\u001b[1;33m:\u001b[0m\u001b[1;33m\u001b[0m\u001b[1;33m\u001b[0m\u001b[0m\n\u001b[1;32m-> 5017\u001b[1;33m                 \u001b[1;32mraise\u001b[0m \u001b[0mKeyError\u001b[0m\u001b[1;33m(\u001b[0m\u001b[1;34mf\"{labels[mask]} not found in axis\"\u001b[0m\u001b[1;33m)\u001b[0m\u001b[1;33m\u001b[0m\u001b[1;33m\u001b[0m\u001b[0m\n\u001b[0m\u001b[0;32m   5018\u001b[0m             \u001b[0mindexer\u001b[0m \u001b[1;33m=\u001b[0m \u001b[0mindexer\u001b[0m\u001b[1;33m[\u001b[0m\u001b[1;33m~\u001b[0m\u001b[0mmask\u001b[0m\u001b[1;33m]\u001b[0m\u001b[1;33m\u001b[0m\u001b[1;33m\u001b[0m\u001b[0m\n\u001b[0;32m   5019\u001b[0m         \u001b[1;32mreturn\u001b[0m \u001b[0mself\u001b[0m\u001b[1;33m.\u001b[0m\u001b[0mdelete\u001b[0m\u001b[1;33m(\u001b[0m\u001b[0mindexer\u001b[0m\u001b[1;33m)\u001b[0m\u001b[1;33m\u001b[0m\u001b[1;33m\u001b[0m\u001b[0m\n",
      "\u001b[1;31mKeyError\u001b[0m: \"['X'] not found in axis\""
     ]
    }
   ],
   "source": [
    "# delete the X column and store the new DataFrame in a new variable\n",
    "players_df_changed = players_df.drop(['X'], axis=1)\n",
    "\n",
    "print('The columns of the new DataFrame')\n",
    "print(players_df_changed.columns)\n",
    "\n",
    "print('The columns of the original DataFrame')\n",
    "print(players_df.columns)\n",
    "\n",
    "# Alternatively, modify the DataFrame inplace\n",
    "players_df.drop(['X'], axis=1, inplace=True)\n",
    "print('The columns of the DataFrame after deleting inplace')\n",
    "print(players_df.columns)\n"
   ]
  },
  {
   "cell_type": "code",
   "execution_count": 24,
   "metadata": {},
   "outputs": [
    {
     "data": {
      "text/plain": [
       "(26428, 15)"
      ]
     },
     "execution_count": 24,
     "metadata": {},
     "output_type": "execute_result"
    }
   ],
   "source": [
    "players_df.shape"
   ]
  },
  {
   "cell_type": "markdown",
   "metadata": {
    "colab_type": "text",
    "id": "emY2_-qfEpVV"
   },
   "source": [
    "## Selecting Rows\n",
    "\n",
    "One thing you'll need to do constantly when exploring data in Pandas is selecting a subset of rows based on some criterion. Suppose, for instance, that you need to see the data for just a single year? Or maybe you need to select some rows by numbers?\n",
    "\n",
    "### Selecting by Number\n",
    "\n",
    "We have already seen that you can get the first `n` rows or the last `n` rows of a DataFrame using `head(n)` and `tail(n)` respectively. But what if you wanted to select rows 20 to 25? To select rows based on position use **iloc**.  \n",
    "\n"
   ]
  },
  {
   "cell_type": "code",
   "execution_count": 13,
   "metadata": {
    "colab": {
     "base_uri": "https://localhost:8080/",
     "height": 289
    },
    "colab_type": "code",
    "id": "yRvWI2D3vNto",
    "outputId": "10c24e18-3098-4bd3-ff00-7bc81e23be3d"
   },
   "outputs": [
    {
     "data": {
      "text/plain": [
       "playerid        barkele01\n",
       "birthyear            1955\n",
       "birthcountry          USA\n",
       "deathyear             NaN\n",
       "namefirst             Len\n",
       "namelast           Barker\n",
       "weight                225\n",
       "height                 77\n",
       "bats                    R\n",
       "throws                  R\n",
       "yearid               1985\n",
       "teamid                ATL\n",
       "lgid                   NL\n",
       "salary             870000\n",
       "bmi               26.6782\n",
       "Name: 0, dtype: object"
      ]
     },
     "execution_count": 13,
     "metadata": {},
     "output_type": "execute_result"
    }
   ],
   "source": [
    "# select the first row\n",
    "players_df.iloc[0]"
   ]
  },
  {
   "cell_type": "markdown",
   "metadata": {
    "colab_type": "text",
    "id": "OylvKtwoqyVO"
   },
   "source": [
    "`iloc` may take inputs in a number of different ways:\n",
    "\n",
    " - an integer\n",
    " - a list of of integers\n",
    " - a slice object\n",
    " - a boolean array\n",
    " \n",
    "When a single row is selected the result is a Series, that is, a single column of values indexed with the column names. When a list of integers is provided, the result is instead a DataFrame."
   ]
  },
  {
   "cell_type": "code",
   "execution_count": 14,
   "metadata": {
    "colab": {
     "base_uri": "https://localhost:8080/",
     "height": 100
    },
    "colab_type": "code",
    "id": "xT0KixEFwBca",
    "outputId": "b9633ed0-702b-4a44-fb0e-ff1fe23b607b"
   },
   "outputs": [
    {
     "data": {
      "text/html": [
       "<div>\n",
       "<style scoped>\n",
       "    .dataframe tbody tr th:only-of-type {\n",
       "        vertical-align: middle;\n",
       "    }\n",
       "\n",
       "    .dataframe tbody tr th {\n",
       "        vertical-align: top;\n",
       "    }\n",
       "\n",
       "    .dataframe thead th {\n",
       "        text-align: right;\n",
       "    }\n",
       "</style>\n",
       "<table border=\"1\" class=\"dataframe\">\n",
       "  <thead>\n",
       "    <tr style=\"text-align: right;\">\n",
       "      <th></th>\n",
       "      <th>playerid</th>\n",
       "      <th>birthyear</th>\n",
       "      <th>birthcountry</th>\n",
       "      <th>deathyear</th>\n",
       "      <th>namefirst</th>\n",
       "      <th>namelast</th>\n",
       "      <th>weight</th>\n",
       "      <th>height</th>\n",
       "      <th>bats</th>\n",
       "      <th>throws</th>\n",
       "      <th>yearid</th>\n",
       "      <th>teamid</th>\n",
       "      <th>lgid</th>\n",
       "      <th>salary</th>\n",
       "      <th>bmi</th>\n",
       "    </tr>\n",
       "  </thead>\n",
       "  <tbody>\n",
       "    <tr>\n",
       "      <th>0</th>\n",
       "      <td>barkele01</td>\n",
       "      <td>1955</td>\n",
       "      <td>USA</td>\n",
       "      <td>NaN</td>\n",
       "      <td>Len</td>\n",
       "      <td>Barker</td>\n",
       "      <td>225</td>\n",
       "      <td>77</td>\n",
       "      <td>R</td>\n",
       "      <td>R</td>\n",
       "      <td>1985</td>\n",
       "      <td>ATL</td>\n",
       "      <td>NL</td>\n",
       "      <td>870000</td>\n",
       "      <td>26.678192</td>\n",
       "    </tr>\n",
       "  </tbody>\n",
       "</table>\n",
       "</div>"
      ],
      "text/plain": [
       "    playerid  birthyear birthcountry  deathyear namefirst namelast  weight  \\\n",
       "0  barkele01       1955          USA        NaN       Len   Barker     225   \n",
       "\n",
       "   height bats throws  yearid teamid lgid  salary        bmi  \n",
       "0      77    R      R    1985    ATL   NL  870000  26.678192  "
      ]
     },
     "execution_count": 14,
     "metadata": {},
     "output_type": "execute_result"
    }
   ],
   "source": [
    "# select the first row, this time with a list of integers\n",
    "players_df.iloc[[0]]"
   ]
  },
  {
   "cell_type": "markdown",
   "metadata": {
    "colab_type": "text",
    "id": "zPWMvx19wR6N"
   },
   "source": [
    "To select more than one row, just list the row numbers."
   ]
  },
  {
   "cell_type": "code",
   "execution_count": 15,
   "metadata": {
    "colab": {
     "base_uri": "https://localhost:8080/",
     "height": 224
    },
    "colab_type": "code",
    "id": "Tg2AKrtKwWpo",
    "outputId": "612774e7-c81d-496e-d4e2-f1db12e3f4b0"
   },
   "outputs": [
    {
     "data": {
      "text/html": [
       "<div>\n",
       "<style scoped>\n",
       "    .dataframe tbody tr th:only-of-type {\n",
       "        vertical-align: middle;\n",
       "    }\n",
       "\n",
       "    .dataframe tbody tr th {\n",
       "        vertical-align: top;\n",
       "    }\n",
       "\n",
       "    .dataframe thead th {\n",
       "        text-align: right;\n",
       "    }\n",
       "</style>\n",
       "<table border=\"1\" class=\"dataframe\">\n",
       "  <thead>\n",
       "    <tr style=\"text-align: right;\">\n",
       "      <th></th>\n",
       "      <th>playerid</th>\n",
       "      <th>birthyear</th>\n",
       "      <th>birthcountry</th>\n",
       "      <th>deathyear</th>\n",
       "      <th>namefirst</th>\n",
       "      <th>namelast</th>\n",
       "      <th>weight</th>\n",
       "      <th>height</th>\n",
       "      <th>bats</th>\n",
       "      <th>throws</th>\n",
       "      <th>yearid</th>\n",
       "      <th>teamid</th>\n",
       "      <th>lgid</th>\n",
       "      <th>salary</th>\n",
       "      <th>bmi</th>\n",
       "    </tr>\n",
       "  </thead>\n",
       "  <tbody>\n",
       "    <tr>\n",
       "      <th>0</th>\n",
       "      <td>barkele01</td>\n",
       "      <td>1955</td>\n",
       "      <td>USA</td>\n",
       "      <td>NaN</td>\n",
       "      <td>Len</td>\n",
       "      <td>Barker</td>\n",
       "      <td>225</td>\n",
       "      <td>77</td>\n",
       "      <td>R</td>\n",
       "      <td>R</td>\n",
       "      <td>1985</td>\n",
       "      <td>ATL</td>\n",
       "      <td>NL</td>\n",
       "      <td>870000</td>\n",
       "      <td>26.678192</td>\n",
       "    </tr>\n",
       "    <tr>\n",
       "      <th>1</th>\n",
       "      <td>bedrost01</td>\n",
       "      <td>1957</td>\n",
       "      <td>USA</td>\n",
       "      <td>NaN</td>\n",
       "      <td>Steve</td>\n",
       "      <td>Bedrosian</td>\n",
       "      <td>200</td>\n",
       "      <td>75</td>\n",
       "      <td>R</td>\n",
       "      <td>R</td>\n",
       "      <td>1985</td>\n",
       "      <td>ATL</td>\n",
       "      <td>NL</td>\n",
       "      <td>550000</td>\n",
       "      <td>24.995556</td>\n",
       "    </tr>\n",
       "    <tr>\n",
       "      <th>5</th>\n",
       "      <td>chambch01</td>\n",
       "      <td>1948</td>\n",
       "      <td>USA</td>\n",
       "      <td>NaN</td>\n",
       "      <td>Chris</td>\n",
       "      <td>Chambliss</td>\n",
       "      <td>195</td>\n",
       "      <td>73</td>\n",
       "      <td>L</td>\n",
       "      <td>R</td>\n",
       "      <td>1985</td>\n",
       "      <td>ATL</td>\n",
       "      <td>NL</td>\n",
       "      <td>800000</td>\n",
       "      <td>25.724339</td>\n",
       "    </tr>\n",
       "    <tr>\n",
       "      <th>8</th>\n",
       "      <td>garbege01</td>\n",
       "      <td>1947</td>\n",
       "      <td>USA</td>\n",
       "      <td>NaN</td>\n",
       "      <td>Gene</td>\n",
       "      <td>Garber</td>\n",
       "      <td>175</td>\n",
       "      <td>70</td>\n",
       "      <td>R</td>\n",
       "      <td>R</td>\n",
       "      <td>1985</td>\n",
       "      <td>ATL</td>\n",
       "      <td>NL</td>\n",
       "      <td>772000</td>\n",
       "      <td>25.107143</td>\n",
       "    </tr>\n",
       "    <tr>\n",
       "      <th>10</th>\n",
       "      <td>hornebo01</td>\n",
       "      <td>1957</td>\n",
       "      <td>USA</td>\n",
       "      <td>NaN</td>\n",
       "      <td>Bob</td>\n",
       "      <td>Horner</td>\n",
       "      <td>195</td>\n",
       "      <td>73</td>\n",
       "      <td>R</td>\n",
       "      <td>R</td>\n",
       "      <td>1985</td>\n",
       "      <td>ATL</td>\n",
       "      <td>NL</td>\n",
       "      <td>1500000</td>\n",
       "      <td>25.724339</td>\n",
       "    </tr>\n",
       "  </tbody>\n",
       "</table>\n",
       "</div>"
      ],
      "text/plain": [
       "     playerid  birthyear birthcountry  deathyear namefirst   namelast  weight  \\\n",
       "0   barkele01       1955          USA        NaN       Len     Barker     225   \n",
       "1   bedrost01       1957          USA        NaN     Steve  Bedrosian     200   \n",
       "5   chambch01       1948          USA        NaN     Chris  Chambliss     195   \n",
       "8   garbege01       1947          USA        NaN      Gene     Garber     175   \n",
       "10  hornebo01       1957          USA        NaN       Bob     Horner     195   \n",
       "\n",
       "    height bats throws  yearid teamid lgid   salary        bmi  \n",
       "0       77    R      R    1985    ATL   NL   870000  26.678192  \n",
       "1       75    R      R    1985    ATL   NL   550000  24.995556  \n",
       "5       73    L      R    1985    ATL   NL   800000  25.724339  \n",
       "8       70    R      R    1985    ATL   NL   772000  25.107143  \n",
       "10      73    R      R    1985    ATL   NL  1500000  25.724339  "
      ]
     },
     "execution_count": 15,
     "metadata": {},
     "output_type": "execute_result"
    }
   ],
   "source": [
    "players_df.iloc[[0, 1, 5, 8, 10]]"
   ]
  },
  {
   "cell_type": "code",
   "execution_count": 20,
   "metadata": {},
   "outputs": [
    {
     "data": {
      "text/plain": [
       "birthyear\n",
       "1925    72.000000\n",
       "1939    73.000000\n",
       "1941    71.000000\n",
       "1942    74.000000\n",
       "1943    75.000000\n",
       "1944    73.642857\n",
       "1945    71.461538\n",
       "1946    74.222222\n",
       "1947    73.617021\n",
       "1948    72.914894\n",
       "1949    73.506173\n",
       "1950    72.421687\n",
       "1951    73.834951\n",
       "1952    73.017699\n",
       "1953    73.431250\n",
       "1954    73.162055\n",
       "1955    73.498069\n",
       "1956    73.435530\n",
       "1957    73.247002\n",
       "1958    73.466960\n",
       "1959    73.193916\n",
       "1960    73.273390\n",
       "1961    73.329044\n",
       "1962    73.582228\n",
       "1963    73.450000\n",
       "1964    72.956055\n",
       "1965    73.274664\n",
       "1966    73.630836\n",
       "1967    73.395062\n",
       "1968    73.541000\n",
       "1969    73.268470\n",
       "1970    73.758701\n",
       "1971    72.994748\n",
       "1972    73.595213\n",
       "1973    73.481308\n",
       "1974    73.625954\n",
       "1975    73.495595\n",
       "1976    73.537367\n",
       "1977    73.540479\n",
       "1978    73.655080\n",
       "1979    73.637959\n",
       "1980    73.706065\n",
       "1981    74.282675\n",
       "1982    73.660085\n",
       "1983    73.642529\n",
       "1984    73.865714\n",
       "1985    73.700361\n",
       "1986    74.021429\n",
       "1987    73.607884\n",
       "1988    73.963190\n",
       "1989    73.672474\n",
       "1990    73.365741\n",
       "1991    73.535211\n",
       "1992    73.796610\n",
       "1993    73.526316\n",
       "1994    73.750000\n",
       "1995    74.000000\n",
       "Name: height, dtype: float64"
      ]
     },
     "execution_count": 20,
     "metadata": {},
     "output_type": "execute_result"
    }
   ],
   "source": [
    "players_df.groupby(by='birthyear').mean()['height']"
   ]
  },
  {
   "cell_type": "markdown",
   "metadata": {
    "colab_type": "text",
    "id": "L0d3HyWSw7jS"
   },
   "source": [
    "To select multiple rows with sequential index use a *slice* object. In Python, a *slice* object takes the form\n",
    "\n",
    "```\n",
    "[start:end]\n",
    "```\n",
    "\n",
    "where `start` and `end` are integers. It is basically a list of numbers from `start` to `end-1`. For example, `[2:5]` is the same as `[2, 3, 4]`.\n",
    "\n"
   ]
  },
  {
   "cell_type": "code",
   "execution_count": null,
   "metadata": {
    "colab": {
     "base_uri": "https://localhost:8080/",
     "height": 255
    },
    "colab_type": "code",
    "id": "xXwurzMrxiqH",
    "outputId": "c7615e43-4e9b-4c53-9f5f-cd0a5388b2a6"
   },
   "outputs": [],
   "source": [
    "# Select rows 5 to 10\n",
    "players_df.iloc[5:11]"
   ]
  },
  {
   "cell_type": "markdown",
   "metadata": {
    "colab_type": "text",
    "id": "Imf2S0JZz4jm"
   },
   "source": [
    "Alternatively, `iloc` may take a list of booleans that is the same length as the index and only return the rows that are `True`. For instance, if the list `[False, True, True, False]` is used to select from a DataFrame with 4 rows, then it will skip the first row, take the second and third rows, and skip the last row.\n",
    "\n",
    "Our DataFrame has over 26 thousand rows so typing a list of 26 thousand boolean values is just not practical. However, we could generate a list based on some value in the DataFrame. For instance, suppose we want to get a list of all players that weight over 200 lbs. We could generate a list of booleans like this:"
   ]
  },
  {
   "cell_type": "code",
   "execution_count": null,
   "metadata": {
    "colab": {
     "base_uri": "https://localhost:8080/",
     "height": 204
    },
    "colab_type": "code",
    "id": "TCmPP_YI1xy1",
    "outputId": "26698f73-0ee7-4287-acfc-4732ed05bf06"
   },
   "outputs": [],
   "source": [
    "# create a Series of booleans\n",
    "over_200 = players_df['weight'] > 200\n",
    "over_200.head(10)"
   ]
  },
  {
   "cell_type": "markdown",
   "metadata": {
    "colab_type": "text",
    "id": "lxB1pWUj2Cxy"
   },
   "source": [
    "The `over_200` Series now contains a boolean value for each row in the DataFrame. We can see how many `True`s and how many `False`s with the `value_counts()` method."
   ]
  },
  {
   "cell_type": "code",
   "execution_count": null,
   "metadata": {
    "colab": {
     "base_uri": "https://localhost:8080/",
     "height": 68
    },
    "colab_type": "code",
    "id": "fBSmSk2S2TEV",
    "outputId": "9f4fe62b-5c86-495d-e6fe-e040320925de"
   },
   "outputs": [],
   "source": [
    "over_200.value_counts()"
   ]
  },
  {
   "cell_type": "markdown",
   "metadata": {
    "colab_type": "text",
    "id": "QcBC3XvL20rr"
   },
   "source": [
    "To select only the players corresponding to a `True`, we can pass the array of booleans to `iloc`."
   ]
  },
  {
   "cell_type": "code",
   "execution_count": null,
   "metadata": {
    "colab": {
     "base_uri": "https://localhost:8080/",
     "height": 1000
    },
    "colab_type": "code",
    "id": "QKjfzPjtqcHZ",
    "outputId": "4b34a4a6-c531-401c-c4cf-610838b5f724"
   },
   "outputs": [],
   "source": [
    "players_df.iloc[over_200.values]"
   ]
  },
  {
   "cell_type": "markdown",
   "metadata": {
    "colab_type": "text",
    "id": "qpIzg9Qy3K06"
   },
   "source": [
    "The result is a DataFrame with 10,599 rows. Here is another example with multiple conditions. Select all players over 200 lbs who bat left-handed bats and and throw right-handed."
   ]
  },
  {
   "cell_type": "code",
   "execution_count": null,
   "metadata": {
    "colab": {
     "base_uri": "https://localhost:8080/",
     "height": 1000
    },
    "colab_type": "code",
    "id": "WURmzSCn3oHv",
    "outputId": "5b22fd14-0900-4d2e-dea1-2bcc770baaa7"
   },
   "outputs": [],
   "source": [
    "over_200_L_R = (players_df['weight'] > 200) & (players_df['bats'] == 'L') & (players_df['throws'] == 'R')\n",
    "players_df.iloc[over_200_L_R.values]"
   ]
  },
  {
   "cell_type": "markdown",
   "metadata": {
    "colab_type": "text",
    "id": "yS7jhqmw4cB4"
   },
   "source": [
    "### Selecting on both axes\n",
    "\n",
    "Sometimes you want to select only some columns of the DataFrame. `iloc` allows that with a second value representing the second axis. Like the rows, the columns are numbered from 0. So to select the first and last name, the weight, height, bats and throws columns for the first 10 rows of the DataFrame, we would need to specify a slice of `[4:10]` for the columns.\n",
    "\n"
   ]
  },
  {
   "cell_type": "code",
   "execution_count": null,
   "metadata": {
    "colab": {
     "base_uri": "https://localhost:8080/",
     "height": 359
    },
    "colab_type": "code",
    "id": "GMMYxMwCh7_3",
    "outputId": "867a1b23-09f6-45c6-dab2-c8a35a4e4042"
   },
   "outputs": [],
   "source": [
    "# rows 0 through 9 and columns 5 through 10\n",
    "players_df.iloc[0:10, 4:10]"
   ]
  },
  {
   "cell_type": "markdown",
   "metadata": {
    "colab_type": "text",
    "id": "shq4s3UeqyT6"
   },
   "source": [
    "To make the rest of this discussion a little easier to illustrate, let's select a subset of our data. Let's select all players that played in the team CLE in 2015. And let's limit ourselves to the following columns: playerid, name, weight, height, bats, throws, birthyear, and salary."
   ]
  },
  {
   "cell_type": "code",
   "execution_count": null,
   "metadata": {
    "colab": {
     "base_uri": "https://localhost:8080/",
     "height": 948
    },
    "colab_type": "code",
    "id": "cu-wn-Uxprk9",
    "outputId": "c01701f7-72e8-4a9f-e314-dfd4a5eb2749"
   },
   "outputs": [],
   "source": [
    "#create a Series of booleans for the row selection\n",
    "cle_options = (players_df['teamid'] == 'CLE') & (players_df['yearid'] == 2015)\n",
    "cle_2015 = players_df.iloc[cle_options.values, [0, 1, 4, 5, 6, 7, 8, 9, 13]]\n",
    "cle_2015"
   ]
  },
  {
   "cell_type": "markdown",
   "metadata": {
    "colab_type": "text",
    "id": "i2Ixk85InZf5"
   },
   "source": [
    "## Sorting\n",
    "\n",
    "To sort a DataFrame, we use `sort_values()`. It's possible to sort by the values in one or more columns and to sort either in ascending order or descending order. The `sort_values()` method takes several of parameters:\n",
    "\n",
    " - `by`: either the name of a single column or a list of names of columns\n",
    " - `axis`: either 0 to sort rows or 1 to sort columns, default 0.\n",
    " - `ascending`: `True`, or `False` for descending, defaults to `True`\n",
    " - `inplace`: `True` to sort inplace and modify the DataFrame, `False` to create a new DataFrame, defaults to False\n",
    " - `na_position`: where to put Nans, either 'first' or 'last', defaults to 'last'"
   ]
  },
  {
   "cell_type": "code",
   "execution_count": null,
   "metadata": {
    "colab": {
     "base_uri": "https://localhost:8080/",
     "height": 948
    },
    "colab_type": "code",
    "id": "AhCZMhrKoGXd",
    "outputId": "1083d293-f44c-4bcf-cf62-d095be4c7d03"
   },
   "outputs": [],
   "source": [
    "# sort the players by weight from lowest value to highest value (ascending)\n",
    "# accept all other defaults\n",
    "weight_asc = cle_2015.sort_values(by='weight')\n",
    "weight_asc"
   ]
  },
  {
   "cell_type": "markdown",
   "metadata": {
    "colab_type": "text",
    "id": "EIrS6wWTrwXl"
   },
   "source": [
    "Suppose you want to sort by weight then by height. Look at the sorted DataFrame above. Notice that sometimes players with the same weight may have their heights in the wrong order. To fix this, we can simply provide a list of columns to sort by."
   ]
  },
  {
   "cell_type": "code",
   "execution_count": null,
   "metadata": {
    "colab": {
     "base_uri": "https://localhost:8080/",
     "height": 948
    },
    "colab_type": "code",
    "id": "YzmElco6sI7r",
    "outputId": "3c6c9ff5-65f6-4343-e880-845b1205133a"
   },
   "outputs": [],
   "source": [
    "weight_height_asc = cle_2015.sort_values(by=['weight', 'height'])\n",
    "weight_height_asc"
   ]
  },
  {
   "cell_type": "markdown",
   "metadata": {
    "colab_type": "text",
    "id": "36oeielGuFwC"
   },
   "source": [
    "Suppose that we wanted to study the salaries of all players across all teams that played in the five year period from 2011 to 2015? First, we can restrict the DataFrame to only those rows involving those years."
   ]
  },
  {
   "cell_type": "code",
   "execution_count": null,
   "metadata": {
    "colab": {
     "base_uri": "https://localhost:8080/",
     "height": 204
    },
    "colab_type": "code",
    "id": "P1oylQS9uYj_",
    "outputId": "e1066b76-0488-49ef-82ac-7589a05123f9"
   },
   "outputs": [],
   "source": [
    "years = (players_df['yearid'] >= 2011) & (players_df['yearid'] <= 2015)\n",
    "five_years = players_df.iloc[years.values, [4, 5, 10, 13]]\n",
    "five_years.head()"
   ]
  },
  {
   "cell_type": "markdown",
   "metadata": {
    "colab_type": "text",
    "id": "Eii-ys61vcen"
   },
   "source": [
    "Next, let's create a single column with each player's full name. This way we can use that column in the next step."
   ]
  },
  {
   "cell_type": "code",
   "execution_count": null,
   "metadata": {
    "colab": {
     "base_uri": "https://localhost:8080/",
     "height": 204
    },
    "colab_type": "code",
    "id": "z4oA5ib4vp-9",
    "outputId": "96f8732a-b256-444c-b956-66f7a4839f60"
   },
   "outputs": [],
   "source": [
    "five_years = five_years.assign(fullname = five_years.namefirst + ' ' + five_years.namelast)\n",
    "five_years.head()"
   ]
  },
  {
   "cell_type": "markdown",
   "metadata": {
    "colab_type": "text",
    "id": "alznTR_UxAzQ"
   },
   "source": [
    "At this point, the DataFrame contains the data we want, but it's not in a format that is easy to make sense of. There is a row for each year that a player played on a team. So each player appears multiple times in the DataFrame. For instance, we can look for 'Henry Blanco':"
   ]
  },
  {
   "cell_type": "code",
   "execution_count": null,
   "metadata": {
    "colab": {
     "base_uri": "https://localhost:8080/",
     "height": 142
    },
    "colab_type": "code",
    "id": "uJyN_mnaxbwT",
    "outputId": "7ec0390e-b646-42fc-c6b1-af5ac5e04c03"
   },
   "outputs": [],
   "source": [
    "five_years.iloc[(five_years['fullname'] == 'Henry Blanco').values]"
   ]
  },
  {
   "cell_type": "markdown",
   "metadata": {
    "colab_type": "text",
    "id": "v9_4d3bTxsO7"
   },
   "source": [
    "Henry Blanco played in 2011, 2012 and 2013. We can see his salary over those years too. But we want to be able to see this data for all players. It may be posible to sort by the player name, but comparing salaries for a single year is then diffcult. What would help is a pivot table, very similar to the pivot tables that you create in a spreadsheet. A pivot table reshapes the DataFrame from a long format to a wide format. We could create a table with the players' names in a single column and each year as a column. Each year column would then contain the salary for that player for that year."
   ]
  },
  {
   "cell_type": "markdown",
   "metadata": {
    "colab_type": "text",
    "id": "XVmRaoaokTZG"
   },
   "source": [
    "## Grouping \n",
    "\n",
    "`groupby()` allows us to group records by one or more categorical variable. Typically we will want to chain some data manipulation method after `groupby()` to summarize the data. \n",
    "\n",
    "For example, let's say we wanted to calculate the average for our statistcs grouped by each year. We will first group the DataFrame by `yearid`, then calculate the averages with `mean()`:"
   ]
  },
  {
   "cell_type": "code",
   "execution_count": null,
   "metadata": {
    "colab": {
     "base_uri": "https://localhost:8080/",
     "height": 1000
    },
    "colab_type": "code",
    "id": "5UmF3ktmpJwT",
    "outputId": "2899fa50-f6b5-4edb-d1d0-b9f4cab484c0"
   },
   "outputs": [],
   "source": [
    "players_df.groupby(['yearid']).mean()"
   ]
  },
  {
   "cell_type": "markdown",
   "metadata": {
    "colab_type": "text",
    "id": "1tXnWjJFYl3T"
   },
   "source": [
    "For another example, we could calculate descriptive statistics for all records grouped by batting and throwing arms. Let's index the results just to retrieve statistics for `salary`."
   ]
  },
  {
   "cell_type": "code",
   "execution_count": null,
   "metadata": {
    "colab": {
     "base_uri": "https://localhost:8080/",
     "height": 266
    },
    "colab_type": "code",
    "id": "O2-bP6CiX1mW",
    "outputId": "18d286bc-e068-4432-b040-52ebf7d5481a"
   },
   "outputs": [],
   "source": [
    "players_df.groupby(['bats','throws'])['salary'].describe()"
   ]
  },
  {
   "cell_type": "markdown",
   "metadata": {
    "colab_type": "text",
    "id": "giZ-kjUrCWHo"
   },
   "source": [
    "## Reshaping the DataFrame\n",
    "\n",
    "### `pivot()`\n",
    "\n",
    "The data that we have consists of a list of players and their salaries for the years that they played. To create a pivot table, we need to specify the index, that is, which column will be used to identify each row of the DataFrame. Then, we specify which column values are going to become the column names of the table. Finally, we specify which column will provide the values that go in the table cells.\n",
    "\n",
    "One important consideration: the index column and column names must be unique in the DataFrame. If a player name and year is duplicated — maybe the player played for two different teams in the same year — we will get an error when trying to create the pivot table. There are many different ways we can deal with duplicates in the data and careful thought should be given to this problem. Here, we will simply drop all duplicates as a quick and simple solution."
   ]
  },
  {
   "cell_type": "code",
   "execution_count": null,
   "metadata": {
    "colab": {
     "base_uri": "https://localhost:8080/",
     "height": 1000
    },
    "colab_type": "code",
    "id": "roUrPEx8CqVL",
    "outputId": "9a321163-f5dc-4c98-83d8-5668fffddb13"
   },
   "outputs": [],
   "source": [
    "# first get rid of duplicates that may cause problems\n",
    "five_years = five_years.drop_duplicates(['fullname', 'yearid'])\n",
    "\n",
    "# then create the pivot table\n",
    "five_years_pivot = five_years.pivot(index='fullname', columns='yearid', values='salary')\n",
    "\n",
    "print(five_years_pivot)"
   ]
  },
  {
   "cell_type": "markdown",
   "metadata": {
    "colab_type": "text",
    "id": "Z7fiY5zdADYK"
   },
   "source": [
    "You may notice that the DataFrame now has `yearid` placed on top of `fullname`. This arrangement is known as hierarchical or multi-level index. For more on advanced indexing, check the [`pandas` docs](https://pandas.pydata.org/pandas-docs/stable/user_guide/advanced.html).\n",
    "\n",
    "To pivot the data so that it appears in a more familiar tabular format, chain the `reset_index()` method after you `pivot()` the DataFrame:"
   ]
  },
  {
   "cell_type": "code",
   "execution_count": null,
   "metadata": {
    "colab": {
     "base_uri": "https://localhost:8080/",
     "height": 1000
    },
    "colab_type": "code",
    "id": "fWt4rIgjBhuA",
    "outputId": "e3c769d8-fde8-4f84-cb98-ec5376900b60"
   },
   "outputs": [],
   "source": [
    "# then create the pivot table\n",
    "five_years_pivot = five_years.pivot(index='fullname', columns='yearid', values='salary').reset_index()\n",
    "\n",
    "print(five_years_pivot)"
   ]
  },
  {
   "cell_type": "markdown",
   "metadata": {
    "colab_type": "text",
    "id": "DjOtwbMMjwTG"
   },
   "source": [
    "### `melt()`\n",
    "\n",
    "With the `melt()` function we can re-shape a dataframe. \n",
    "\n",
    "This function takes many arguments following this form:\n",
    "\n",
    "`pandas.melt(frame, id_vars=None, value_vars=None, var_name=None, value_name='value', col_level=None)`\n",
    "\n",
    "\n",
    "Here's what each argument does, according to [`pandas`](https://www.geeksforgeeks.org/python-pandas-melt/) documentation (We'll focus on the first five.):\n",
    "\n",
    "\n",
    "| Argument     | What it does                                                                               |\n",
    "| ------------ | ------------------------------------------------------------------------------------------ |\n",
    "| `frame`    | DataFrame.                                                    |\n",
    "| `id_vars`    | Column(s) to use as identifier columns.                                                    |\n",
    "| `value_vars` | Column(s) to unpivot. If not specified, uses all columns that are not set as `id_vars`.    |\n",
    "| `var_name`   | Name to use for the `variable` column. If none it uses `frame.columns.name` or `variable`. |\n",
    "| `value_name` | Name to use for the `value` column.                                                        |\n",
    "| `col_level`  | If columns are a MultiIndex then use this level to melt.                                   |\n",
    "\n",
    "Using `melt()`, how can we \"un-pivot\" the above `five_years_pivot`? Rather than having five columns for `2011`-`2015` indicating salary information, we just want one column called `year` and another called `salary`. \n",
    "\n",
    "That means that `fullname` is our `id_vars`, and the rest are our `value_vars`. We'll set `var_name` to `year` and `value_name` to `salary`, as previously specified. \n",
    "\n"
   ]
  },
  {
   "cell_type": "code",
   "execution_count": null,
   "metadata": {
    "colab": {
     "base_uri": "https://localhost:8080/",
     "height": 1000
    },
    "colab_type": "code",
    "id": "ReFwrk_Uj9Fh",
    "outputId": "f63e05ce-51bf-4299-8ac7-75d2181ed096"
   },
   "outputs": [],
   "source": [
    "pd.melt(frame=five_years_pivot, id_vars=['fullname'],var_name='year',value_name='salary')"
   ]
  },
  {
   "cell_type": "markdown",
   "metadata": {
    "colab_type": "text",
    "id": "ko309mwDkbtk"
   },
   "source": [
    "## Merging DataFrames\n",
    "\n",
    "`merge()`\n",
    "\n",
    "Joining two or more tables is one of the most common data preparation tasks, and there are many ways to do it. You will be introduced to the world of joins later in the course with SQL, and this will give you a solid grasp of how joins are conducted in `pandas`, because `pandas` joins are modeled off of those in SQL. \n",
    "\n",
    "For now, fortunately we can rely on the intuition of `pandas` to give us what we want when joining two tables.\n",
    "\n",
    "The above DataFrame consisting of player information and salaries is actually the result of joining two individual DataFrames. We can reproduce this DataFrame using `merge()`. For now, call the `merge()` function and pass in the two DataFrames, assigning the results to a new DataFrame.\n",
    "\n",
    "`pandas` will make the best guess on how to merge these DataFrames: if any two columns are named the same between them, that will serve as the basis for the join. In this case, the `playerID` field is shared between the two tables, thus `pandas` will join based on that connection.  \n",
    "\n",
    "\n",
    "\n"
   ]
  },
  {
   "cell_type": "code",
   "execution_count": null,
   "metadata": {
    "colab": {
     "base_uri": "https://localhost:8080/",
     "height": 85
    },
    "colab_type": "code",
    "id": "rZDk-FmWZsJr",
    "outputId": "d002a107-afa0-4141-b363-7a95285b633d"
   },
   "outputs": [],
   "source": [
    "salaries = pd.read_csv(\"https://tf-assets-prod.s3.amazonaws.com/tf-curric/data-science/salaries.csv\")\n",
    "people = pd.read_csv(\"https://tf-assets-prod.s3.amazonaws.com/tf-curric/data-science/people.csv\")\n",
    "\n",
    "print(salaries.columns)\n",
    "print(people.columns)"
   ]
  },
  {
   "cell_type": "code",
   "execution_count": null,
   "metadata": {
    "colab": {
     "base_uri": "https://localhost:8080/",
     "height": 102
    },
    "colab_type": "code",
    "id": "nHUoRsw94wkQ",
    "outputId": "cb07ae57-37c7-48c6-e3ac-f18f33537e9d"
   },
   "outputs": [],
   "source": [
    "merged = pd.merge(salaries, people)\n",
    "\n",
    "print(merged.columns)\n",
    "print(merged.shape)"
   ]
  },
  {
   "cell_type": "markdown",
   "metadata": {
    "colab_type": "text",
    "id": "uwuc_gRlD43R"
   },
   "source": [
    "Indeed this is the same information as contained in the original DataFrame, `players_df`."
   ]
  },
  {
   "cell_type": "code",
   "execution_count": null,
   "metadata": {
    "colab": {
     "base_uri": "https://localhost:8080/",
     "height": 102
    },
    "colab_type": "code",
    "id": "NALhipXoECGY",
    "outputId": "5be2426c-d3af-4d00-8dbe-560b641d1f7f"
   },
   "outputs": [],
   "source": [
    "players_df = pd.read_csv(\"https://tf-assets-prod.s3.amazonaws.com/tf-curric/data-science/players.csv\")\n",
    "\n",
    "print(players_df.columns)\n",
    "print(players_df.shape)"
   ]
  },
  {
   "cell_type": "markdown",
   "metadata": {
    "colab_type": "text",
    "id": "UXv9UON1DAet"
   },
   "source": [
    "Should you need to perform another type of join, such as one when columns are not named the same, you can check the [`pandas`](https://pandas.pydata.org/pandas-docs/stable/user_guide/merging.html) documentation. However, as mentioned, the upcoming lessons on SQL will provide the logic behind how joins are conducted.  "
   ]
  },
  {
   "cell_type": "markdown",
   "metadata": {
    "colab_type": "text",
    "id": "NuIYAoQ-gLm-"
   },
   "source": [
    "## Case Study 1\n",
    "\n",
    "Your manager would like to study the distribution of right-handed batters to right-handed throwers. That is, how many right-handed batters are also right-handed throwers? They're also interested in other combinations. You look at the original data and realize that you will have to perform some sort of count over all the rows where the the value for bats is 'right-handed' and the value for throws is 'right-handed' and similar for other combinations.\n",
    "\n",
    "The data contains duplicate rows for each player, as a row actually represents a single year per player. We do not need all of that information so we could first drop the duplicate players."
   ]
  },
  {
   "cell_type": "code",
   "execution_count": null,
   "metadata": {
    "colab": {
     "base_uri": "https://localhost:8080/",
     "height": 34
    },
    "colab_type": "code",
    "id": "ankfq8O4hwGM",
    "outputId": "8b69f218-dece-4dfc-d94e-ed67662efeee"
   },
   "outputs": [],
   "source": [
    "players_no_duplicates = players_df.drop_duplicates(['playerid'])\n",
    "players_no_duplicates.shape"
   ]
  },
  {
   "cell_type": "markdown",
   "metadata": {
    "colab_type": "text",
    "id": "SUnIV2cjkQYz"
   },
   "source": [
    "That leaves 5,149 players. Your manager wants a table of data that shows the counts of each combination of bats and throws. This is an ideal scenario for a `crosstab`. To create a crosstab, simply provide the two  columns of data that you wish to cross tabulate and Pandas does the rest for you."
   ]
  },
  {
   "cell_type": "code",
   "execution_count": null,
   "metadata": {
    "colab": {
     "base_uri": "https://localhost:8080/",
     "height": 173
    },
    "colab_type": "code",
    "id": "LanNjmmnjPQo",
    "outputId": "1195d395-721a-4bcf-9073-5270a69cd896"
   },
   "outputs": [],
   "source": [
    "pd.crosstab(players_no_duplicates['bats'], players_no_duplicates['throws'])"
   ]
  },
  {
   "cell_type": "markdown",
   "metadata": {
    "colab_type": "text",
    "id": "RU_xUYEEnW6J"
   },
   "source": [
    "## Case Study 2\n",
    "\n",
    "Your company got some data about the fuel use of a number of vehicles in a relational database named **fueleconomy** on the same server as the previous database.  You would like to answer some questions about this data such as:\n",
    "\n",
    "1. How many vehicles use each type of fuel by year?\n",
    "2. What are the top-performing 6-cylinder vehicles in 2003 as measured by highway mileage?\n",
    "\n",
    "\n",
    "First, we connect to the database and get the data into a DataFrame.\n"
   ]
  },
  {
   "cell_type": "code",
   "execution_count": null,
   "metadata": {
    "colab": {},
    "colab_type": "code",
    "id": "Py1DqdJNqdZg"
   },
   "outputs": [],
   "source": [
    "vehicles_df = pd.read_csv(\"https://tf-assets-prod.s3.amazonaws.com/tf-curric/data-science/vehicles.csv\")"
   ]
  },
  {
   "cell_type": "markdown",
   "metadata": {
    "colab_type": "text",
    "id": "9t6r2g_Hq399"
   },
   "source": [
    "Next, let's look at some features of the data that we got, for instance, how many rows, what data types and so on."
   ]
  },
  {
   "cell_type": "code",
   "execution_count": null,
   "metadata": {
    "colab": {
     "base_uri": "https://localhost:8080/",
     "height": 306
    },
    "colab_type": "code",
    "id": "u66xtLN_rEvu",
    "outputId": "b3371e77-1581-4156-977a-00c2ae186930"
   },
   "outputs": [],
   "source": [
    "vehicles_df.info()"
   ]
  },
  {
   "cell_type": "markdown",
   "metadata": {
    "colab_type": "text",
    "id": "gmWqkqWjrQHF"
   },
   "source": [
    "Next, we can check how many years of data is contained in the DataFrame. That is, how many unique years are there?"
   ]
  },
  {
   "cell_type": "code",
   "execution_count": null,
   "metadata": {
    "colab": {
     "base_uri": "https://localhost:8080/",
     "height": 578
    },
    "colab_type": "code",
    "id": "iU1J861XraXU",
    "outputId": "985ff299-d552-49bf-b72c-827dc5ba572c"
   },
   "outputs": [],
   "source": [
    "vehicles_df['year'].value_counts()"
   ]
  },
  {
   "cell_type": "markdown",
   "metadata": {
    "colab_type": "text",
    "id": "IbG1Cx7Srmb4"
   },
   "source": [
    "Looks like we have data from 1985 to 2015. How many different types of fuel are there?"
   ]
  },
  {
   "cell_type": "code",
   "execution_count": null,
   "metadata": {
    "colab": {
     "base_uri": "https://localhost:8080/",
     "height": 255
    },
    "colab_type": "code",
    "id": "jcvAcpRxrymr",
    "outputId": "e4ac01c2-a6e2-43bd-ccaf-999e364e769f"
   },
   "outputs": [],
   "source": [
    "vehicles_df['fuel'].value_counts()"
   ]
  },
  {
   "cell_type": "markdown",
   "metadata": {
    "colab_type": "text",
    "id": "zaT1Jj9osCY6"
   },
   "source": [
    "Then let us do a crosstab between these two columns and see what we learn."
   ]
  },
  {
   "cell_type": "code",
   "execution_count": null,
   "metadata": {
    "colab": {
     "base_uri": "https://localhost:8080/",
     "height": 1000
    },
    "colab_type": "code",
    "id": "h_dEKdkosJle",
    "outputId": "17c2f04d-b200-4017-a9bc-4ac66dae7ebe",
    "scrolled": true
   },
   "outputs": [],
   "source": [
    "pd.crosstab(vehicles_df['year'], vehicles_df['fuel'])"
   ]
  },
  {
   "cell_type": "markdown",
   "metadata": {
    "colab_type": "text",
    "id": "l1hmk4H7teUD"
   },
   "source": [
    "That gives us a useful look at the way different fuels are used over the years. Later, we will learn how to make charts out of this type of data. \n",
    "\n",
    "The second question will require a few steps. First we can select only the 6 cylinder vehicles from 2003."
   ]
  },
  {
   "cell_type": "code",
   "execution_count": null,
   "metadata": {
    "colab": {
     "base_uri": "https://localhost:8080/",
     "height": 204
    },
    "colab_type": "code",
    "id": "0AJVNZ4-uzPN",
    "outputId": "6308d1b8-4cc9-4d3b-de24-1a011e7e7914"
   },
   "outputs": [],
   "source": [
    "bools = (vehicles_df['cyl'] == 6) & (vehicles_df['year'] == 2003)\n",
    "six_cyl_df = vehicles_df.iloc[bools.values]\n",
    "six_cyl_df.head()"
   ]
  },
  {
   "cell_type": "markdown",
   "metadata": {
    "colab_type": "text",
    "id": "DEIpFttvvYan"
   },
   "source": [
    "Next, we can either sort the entire DataFrame by highway mileage in descending order or use the built in `nlargest()` method to select the n rows with the largest values in the highway column. We can look at both solutions just to compare approaches."
   ]
  },
  {
   "cell_type": "code",
   "execution_count": null,
   "metadata": {
    "colab": {
     "base_uri": "https://localhost:8080/",
     "height": 359
    },
    "colab_type": "code",
    "id": "1AT0QVFSwJMD",
    "outputId": "06a9c129-e614-4968-d24a-fd97958ec455"
   },
   "outputs": [],
   "source": [
    "# sort the DataFrame by hwy in descending order\n",
    "sorted_six_cyl_df = six_cyl_df.sort_values(by='hwy', ascending=False)\n",
    "\n",
    "#select the first 10 rows\n",
    "sorted_six_cyl_df.head(10)"
   ]
  },
  {
   "cell_type": "markdown",
   "metadata": {
    "colab_type": "text",
    "id": "8rTwZtJow-RZ"
   },
   "source": [
    "So that did the trick. We have the top ten vehicles by highway mileage in 2003. Notice that there are several vehicles with the same mileage values. Let's see how  `nlargest` may work to do the same job.\n",
    "\n",
    "`nlargest` is really just a shortcut. We need to provide:\n",
    "\n",
    " - `n`: the number of rows to return\n",
    " - `columns`: the columns to sort by\n",
    " - `keep`: one of 'first', 'last' or 'all' - this affects how we deal with duplicate values in the sort column. Defaults to 'first'."
   ]
  },
  {
   "cell_type": "code",
   "execution_count": null,
   "metadata": {
    "colab": {
     "base_uri": "https://localhost:8080/",
     "height": 359
    },
    "colab_type": "code",
    "id": "YK_JKS0SxxSY",
    "outputId": "2a343e27-52f3-443c-b05e-d8723b9e9c69"
   },
   "outputs": [],
   "source": [
    "# select the 10 rows with largest values in the hwy column\n",
    "six_cyl_df.nlargest(10, columns='hwy')"
   ]
  },
  {
   "cell_type": "markdown",
   "metadata": {
    "colab_type": "text",
    "id": "iwd63Z9pyVDJ"
   },
   "source": [
    "The exact rows that are returned may not exactly match because of the way `nlargest` deals with duplicates. By default, it returns the first rows in the set of duplicates. Experiment with this feature by trying 'last' and 'all' as values to the `keep` parameter."
   ]
  }
 ],
 "metadata": {
  "colab": {
   "collapsed_sections": [],
   "name": "Copy of manipulating_dataframes_09152019.ipynb",
   "provenance": []
  },
  "kernelspec": {
   "display_name": "Python 3",
   "language": "python",
   "name": "python3"
  },
  "language_info": {
   "codemirror_mode": {
    "name": "ipython",
    "version": 3
   },
   "file_extension": ".py",
   "mimetype": "text/x-python",
   "name": "python",
   "nbconvert_exporter": "python",
   "pygments_lexer": "ipython3",
   "version": "3.7.7"
  }
 },
 "nbformat": 4,
 "nbformat_minor": 1
}
