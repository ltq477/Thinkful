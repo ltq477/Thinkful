{
 "cells": [
  {
   "cell_type": "code",
   "execution_count": 1,
   "metadata": {},
   "outputs": [
    {
     "name": "stderr",
     "output_type": "stream",
     "text": [
      "C:\\ProgramData\\Anaconda3\\lib\\site-packages\\tensorflow\\python\\framework\\dtypes.py:516: FutureWarning: Passing (type, 1) or '1type' as a synonym of type is deprecated; in a future version of numpy, it will be understood as (type, (1,)) / '(1,)type'.\n",
      "  _np_qint8 = np.dtype([(\"qint8\", np.int8, 1)])\n",
      "C:\\ProgramData\\Anaconda3\\lib\\site-packages\\tensorflow\\python\\framework\\dtypes.py:517: FutureWarning: Passing (type, 1) or '1type' as a synonym of type is deprecated; in a future version of numpy, it will be understood as (type, (1,)) / '(1,)type'.\n",
      "  _np_quint8 = np.dtype([(\"quint8\", np.uint8, 1)])\n",
      "C:\\ProgramData\\Anaconda3\\lib\\site-packages\\tensorflow\\python\\framework\\dtypes.py:518: FutureWarning: Passing (type, 1) or '1type' as a synonym of type is deprecated; in a future version of numpy, it will be understood as (type, (1,)) / '(1,)type'.\n",
      "  _np_qint16 = np.dtype([(\"qint16\", np.int16, 1)])\n",
      "C:\\ProgramData\\Anaconda3\\lib\\site-packages\\tensorflow\\python\\framework\\dtypes.py:519: FutureWarning: Passing (type, 1) or '1type' as a synonym of type is deprecated; in a future version of numpy, it will be understood as (type, (1,)) / '(1,)type'.\n",
      "  _np_quint16 = np.dtype([(\"quint16\", np.uint16, 1)])\n",
      "C:\\ProgramData\\Anaconda3\\lib\\site-packages\\tensorflow\\python\\framework\\dtypes.py:520: FutureWarning: Passing (type, 1) or '1type' as a synonym of type is deprecated; in a future version of numpy, it will be understood as (type, (1,)) / '(1,)type'.\n",
      "  _np_qint32 = np.dtype([(\"qint32\", np.int32, 1)])\n",
      "C:\\ProgramData\\Anaconda3\\lib\\site-packages\\tensorflow\\python\\framework\\dtypes.py:525: FutureWarning: Passing (type, 1) or '1type' as a synonym of type is deprecated; in a future version of numpy, it will be understood as (type, (1,)) / '(1,)type'.\n",
      "  np_resource = np.dtype([(\"resource\", np.ubyte, 1)])\n",
      "C:\\ProgramData\\Anaconda3\\lib\\site-packages\\tensorboard\\compat\\tensorflow_stub\\dtypes.py:541: FutureWarning: Passing (type, 1) or '1type' as a synonym of type is deprecated; in a future version of numpy, it will be understood as (type, (1,)) / '(1,)type'.\n",
      "  _np_qint8 = np.dtype([(\"qint8\", np.int8, 1)])\n",
      "C:\\ProgramData\\Anaconda3\\lib\\site-packages\\tensorboard\\compat\\tensorflow_stub\\dtypes.py:542: FutureWarning: Passing (type, 1) or '1type' as a synonym of type is deprecated; in a future version of numpy, it will be understood as (type, (1,)) / '(1,)type'.\n",
      "  _np_quint8 = np.dtype([(\"quint8\", np.uint8, 1)])\n",
      "C:\\ProgramData\\Anaconda3\\lib\\site-packages\\tensorboard\\compat\\tensorflow_stub\\dtypes.py:543: FutureWarning: Passing (type, 1) or '1type' as a synonym of type is deprecated; in a future version of numpy, it will be understood as (type, (1,)) / '(1,)type'.\n",
      "  _np_qint16 = np.dtype([(\"qint16\", np.int16, 1)])\n",
      "C:\\ProgramData\\Anaconda3\\lib\\site-packages\\tensorboard\\compat\\tensorflow_stub\\dtypes.py:544: FutureWarning: Passing (type, 1) or '1type' as a synonym of type is deprecated; in a future version of numpy, it will be understood as (type, (1,)) / '(1,)type'.\n",
      "  _np_quint16 = np.dtype([(\"quint16\", np.uint16, 1)])\n",
      "C:\\ProgramData\\Anaconda3\\lib\\site-packages\\tensorboard\\compat\\tensorflow_stub\\dtypes.py:545: FutureWarning: Passing (type, 1) or '1type' as a synonym of type is deprecated; in a future version of numpy, it will be understood as (type, (1,)) / '(1,)type'.\n",
      "  _np_qint32 = np.dtype([(\"qint32\", np.int32, 1)])\n",
      "C:\\ProgramData\\Anaconda3\\lib\\site-packages\\tensorboard\\compat\\tensorflow_stub\\dtypes.py:550: FutureWarning: Passing (type, 1) or '1type' as a synonym of type is deprecated; in a future version of numpy, it will be understood as (type, (1,)) / '(1,)type'.\n",
      "  np_resource = np.dtype([(\"resource\", np.ubyte, 1)])\n"
     ]
    }
   ],
   "source": [
    "from tensorflow.keras.models import Sequential\n",
    "from tensorflow.keras.layers import Dense\n",
    "from tensorflow.keras.datasets import mnist\n",
    "from tensorflow.keras.utils import to_categorical\n",
    "import tensorflow as tf\n",
    "\n",
    "%matplotlib inline\n",
    "import warnings\n",
    "warnings.filterwarnings('ignore')"
   ]
  },
  {
   "cell_type": "code",
   "execution_count": 2,
   "metadata": {},
   "outputs": [],
   "source": [
    "(X_train, y_train), (X_test, y_test) = mnist.load_data()\n",
    "\n",
    "input_dim = 784\n",
    "output_dim = nb_classes = 10\n",
    "batch_size= 128\n",
    "nb_epoch =20\n",
    "\n",
    "X_train = X_train.reshape(60000, input_dim)\n",
    "X_test = X_test.reshape(10000, input_dim)\n",
    "X_train = X_train.astype('float32')\n",
    "X_test = X_test.astype('float32')\n",
    "X_train /= 255\n",
    "X_test /= 255"
   ]
  },
  {
   "cell_type": "code",
   "execution_count": 3,
   "metadata": {},
   "outputs": [],
   "source": [
    "Y_train = to_categorical(y_train, nb_classes)\n",
    "Y_test = to_categorical(y_test, nb_classes)"
   ]
  },
  {
   "cell_type": "markdown",
   "metadata": {},
   "source": [
    "#### Model Creation with 3 hidden layers - tanh\n",
    "\n",
    "Implement a three-layer ANN model with 128, 64, and 10 neurons in the layers. Use the tanh activation function for each layer."
   ]
  },
  {
   "cell_type": "code",
   "execution_count": 4,
   "metadata": {},
   "outputs": [
    {
     "name": "stdout",
     "output_type": "stream",
     "text": [
      "WARNING:tensorflow:From C:\\ProgramData\\Anaconda3\\lib\\site-packages\\tensorflow\\python\\ops\\init_ops.py:1251: calling VarianceScaling.__init__ (from tensorflow.python.ops.init_ops) with dtype is deprecated and will be removed in a future version.\n",
      "Instructions for updating:\n",
      "Call initializer instance with the dtype argument instead of passing it to the constructor\n"
     ]
    }
   ],
   "source": [
    "model = Sequential()\n",
    "\n",
    "model.add(Dense(128, input_shape=(784,), activation='tanh'))\n",
    "model.add(Dense(64, activation='tanh'))\n",
    "model.add(Dense(10, activation='softmax'))"
   ]
  },
  {
   "cell_type": "code",
   "execution_count": 5,
   "metadata": {},
   "outputs": [
    {
     "name": "stdout",
     "output_type": "stream",
     "text": [
      "Model: \"sequential\"\n",
      "_________________________________________________________________\n",
      "Layer (type)                 Output Shape              Param #   \n",
      "=================================================================\n",
      "dense (Dense)                (None, 128)               100480    \n",
      "_________________________________________________________________\n",
      "dense_1 (Dense)              (None, 64)                8256      \n",
      "_________________________________________________________________\n",
      "dense_2 (Dense)              (None, 10)                650       \n",
      "=================================================================\n",
      "Total params: 109,386\n",
      "Trainable params: 109,386\n",
      "Non-trainable params: 0\n",
      "_________________________________________________________________\n"
     ]
    }
   ],
   "source": [
    "model.summary()"
   ]
  },
  {
   "cell_type": "code",
   "execution_count": 6,
   "metadata": {},
   "outputs": [],
   "source": [
    "model.compile(optimizer='sgd', loss='categorical_crossentropy', metrics=['accuracy'])"
   ]
  },
  {
   "cell_type": "code",
   "execution_count": 7,
   "metadata": {},
   "outputs": [
    {
     "name": "stdout",
     "output_type": "stream",
     "text": [
      "Epoch 1/20\n",
      "60000/60000 [==============================] - 1s 21us/sample - loss: 1.0337 - acc: 0.7447\n",
      "Epoch 2/20\n",
      "60000/60000 [==============================] - 1s 18us/sample - loss: 0.5324 - acc: 0.8675\n",
      "Epoch 3/20\n",
      "60000/60000 [==============================] - 1s 18us/sample - loss: 0.4280 - acc: 0.8869\n",
      "Epoch 4/20\n",
      "60000/60000 [==============================] - 1s 20us/sample - loss: 0.3783 - acc: 0.8972\n",
      "Epoch 5/20\n",
      "60000/60000 [==============================] - 1s 17us/sample - loss: 0.3478 - acc: 0.9042\n",
      "Epoch 6/20\n",
      "60000/60000 [==============================] - 1s 19us/sample - loss: 0.3262 - acc: 0.9093\n",
      "Epoch 7/20\n",
      "60000/60000 [==============================] - 1s 17us/sample - loss: 0.3098 - acc: 0.9133\n",
      "Epoch 8/20\n",
      "60000/60000 [==============================] - 1s 17us/sample - loss: 0.2965 - acc: 0.9165\n",
      "Epoch 9/20\n",
      "60000/60000 [==============================] - 1s 17us/sample - loss: 0.2850 - acc: 0.9201\n",
      "Epoch 10/20\n",
      "60000/60000 [==============================] - 1s 19us/sample - loss: 0.2752 - acc: 0.9224\n",
      "Epoch 11/20\n",
      "60000/60000 [==============================] - 1s 18us/sample - loss: 0.2665 - acc: 0.9249\n",
      "Epoch 12/20\n",
      "60000/60000 [==============================] - 1s 18us/sample - loss: 0.2583 - acc: 0.9270\n",
      "Epoch 13/20\n",
      "60000/60000 [==============================] - 1s 18us/sample - loss: 0.2509 - acc: 0.9292\n",
      "Epoch 14/20\n",
      "60000/60000 [==============================] - 1s 19us/sample - loss: 0.2441 - acc: 0.9309\n",
      "Epoch 15/20\n",
      "60000/60000 [==============================] - 1s 18us/sample - loss: 0.2378 - acc: 0.9330\n",
      "Epoch 16/20\n",
      "60000/60000 [==============================] - 1s 19us/sample - loss: 0.2316 - acc: 0.9350\n",
      "Epoch 17/20\n",
      "60000/60000 [==============================] - 1s 19us/sample - loss: 0.2259 - acc: 0.9363\n",
      "Epoch 18/20\n",
      "60000/60000 [==============================] - 1s 18us/sample - loss: 0.2205 - acc: 0.9379\n",
      "Epoch 19/20\n",
      "60000/60000 [==============================] - 1s 18us/sample - loss: 0.2153 - acc: 0.9393\n",
      "Epoch 20/20\n",
      "60000/60000 [==============================] - 1s 19us/sample - loss: 0.2103 - acc: 0.9405\n"
     ]
    },
    {
     "data": {
      "text/plain": [
       "<tensorflow.python.keras.callbacks.History at 0x1f98d779388>"
      ]
     },
     "execution_count": 7,
     "metadata": {},
     "output_type": "execute_result"
    }
   ],
   "source": [
    "model.fit(X_train, Y_train, batch_size=batch_size, epochs=20, verbose=1)"
   ]
  },
  {
   "cell_type": "code",
   "execution_count": 8,
   "metadata": {},
   "outputs": [
    {
     "name": "stdout",
     "output_type": "stream",
     "text": [
      "Test Score:0.20428670691251755\n",
      "Test Accuracy:0.9417999982833862\n"
     ]
    }
   ],
   "source": [
    "score = model.evaluate(X_test, Y_test, verbose=0)\n",
    "print('Test Score:{}'.format(score[0]))\n",
    "print('Test Accuracy:{}'.format(score[1]))"
   ]
  },
  {
   "cell_type": "markdown",
   "metadata": {},
   "source": [
    "#### Model Creation with 3 hidden layers - Sigmoid\n",
    "\n",
    "Implement a three-layer ANN model with 128, 64, and 10 neurons in the layers. Use the sigmoid activation function for each layer."
   ]
  },
  {
   "cell_type": "code",
   "execution_count": 9,
   "metadata": {},
   "outputs": [],
   "source": [
    "model = Sequential()\n",
    "\n",
    "model.add(Dense(128, input_shape=(784,), activation='sigmoid'))\n",
    "model.add(Dense(64, activation='sigmoid'))\n",
    "model.add(Dense(10, activation='softmax'))"
   ]
  },
  {
   "cell_type": "code",
   "execution_count": 10,
   "metadata": {},
   "outputs": [
    {
     "name": "stdout",
     "output_type": "stream",
     "text": [
      "Model: \"sequential_1\"\n",
      "_________________________________________________________________\n",
      "Layer (type)                 Output Shape              Param #   \n",
      "=================================================================\n",
      "dense_3 (Dense)              (None, 128)               100480    \n",
      "_________________________________________________________________\n",
      "dense_4 (Dense)              (None, 64)                8256      \n",
      "_________________________________________________________________\n",
      "dense_5 (Dense)              (None, 10)                650       \n",
      "=================================================================\n",
      "Total params: 109,386\n",
      "Trainable params: 109,386\n",
      "Non-trainable params: 0\n",
      "_________________________________________________________________\n"
     ]
    }
   ],
   "source": [
    "model.summary()"
   ]
  },
  {
   "cell_type": "code",
   "execution_count": 11,
   "metadata": {},
   "outputs": [],
   "source": [
    "model.compile(optimizer='sgd', loss='categorical_crossentropy', metrics=['accuracy'])"
   ]
  },
  {
   "cell_type": "code",
   "execution_count": 12,
   "metadata": {},
   "outputs": [
    {
     "name": "stdout",
     "output_type": "stream",
     "text": [
      "Epoch 1/20\n",
      "60000/60000 [==============================] - 1s 19us/sample - loss: 2.2860 - acc: 0.1847\n",
      "Epoch 2/20\n",
      "60000/60000 [==============================] - 1s 19us/sample - loss: 2.2229 - acc: 0.3530\n",
      "Epoch 3/20\n",
      "60000/60000 [==============================] - 1s 20us/sample - loss: 2.1503 - acc: 0.4455\n",
      "Epoch 4/20\n",
      "60000/60000 [==============================] - 1s 18us/sample - loss: 2.0475 - acc: 0.5136\n",
      "Epoch 5/20\n",
      "60000/60000 [==============================] - 1s 19us/sample - loss: 1.9039 - acc: 0.5617\n",
      "Epoch 6/20\n",
      "60000/60000 [==============================] - 1s 18us/sample - loss: 1.7234 - acc: 0.6011\n",
      "Epoch 7/20\n",
      "60000/60000 [==============================] - 1s 20us/sample - loss: 1.5302 - acc: 0.6514\n",
      "Epoch 8/20\n",
      "60000/60000 [==============================] - 1s 19us/sample - loss: 1.3504 - acc: 0.6930\n",
      "Epoch 9/20\n",
      "60000/60000 [==============================] - 1s 18us/sample - loss: 1.1981 - acc: 0.7284\n",
      "Epoch 10/20\n",
      "60000/60000 [==============================] - 1s 21us/sample - loss: 1.0740 - acc: 0.7523\n",
      "Epoch 11/20\n",
      "60000/60000 [==============================] - 1s 18us/sample - loss: 0.9739 - acc: 0.7741\n",
      "Epoch 12/20\n",
      "60000/60000 [==============================] - 1s 20us/sample - loss: 0.8925 - acc: 0.7926\n",
      "Epoch 13/20\n",
      "60000/60000 [==============================] - 1s 19us/sample - loss: 0.8258 - acc: 0.8044\n",
      "Epoch 14/20\n",
      "60000/60000 [==============================] - 1s 19us/sample - loss: 0.7706 - acc: 0.8144\n",
      "Epoch 15/20\n",
      "60000/60000 [==============================] - 2s 26us/sample - loss: 0.7243 - acc: 0.8228\n",
      "Epoch 16/20\n",
      "60000/60000 [==============================] - 2s 26us/sample - loss: 0.6850 - acc: 0.8307\n",
      "Epoch 17/20\n",
      "60000/60000 [==============================] - 1s 21us/sample - loss: 0.6515 - acc: 0.8367\n",
      "Epoch 18/20\n",
      "60000/60000 [==============================] - 1s 20us/sample - loss: 0.6227 - acc: 0.8423\n",
      "Epoch 19/20\n",
      "60000/60000 [==============================] - 1s 21us/sample - loss: 0.5976 - acc: 0.8469\n",
      "Epoch 20/20\n",
      "60000/60000 [==============================] - 1s 20us/sample - loss: 0.5755 - acc: 0.8510\n"
     ]
    },
    {
     "data": {
      "text/plain": [
       "<tensorflow.python.keras.callbacks.History at 0x1f99c51c748>"
      ]
     },
     "execution_count": 12,
     "metadata": {},
     "output_type": "execute_result"
    }
   ],
   "source": [
    "model.fit(X_train, Y_train, batch_size=batch_size, epochs=20, verbose=1)"
   ]
  },
  {
   "cell_type": "code",
   "execution_count": 13,
   "metadata": {
    "scrolled": true
   },
   "outputs": [
    {
     "name": "stdout",
     "output_type": "stream",
     "text": [
      "Test Score:0.5523046186447144\n",
      "Test Accuracy:0.8553000092506409\n"
     ]
    }
   ],
   "source": [
    "score = model.evaluate(X_test, Y_test, verbose=0)\n",
    "print('Test Score:{}'.format(score[0]))\n",
    "print('Test Accuracy:{}'.format(score[1]))"
   ]
  },
  {
   "cell_type": "markdown",
   "metadata": {},
   "source": [
    "#### Model Creation with 3 hidden layers - ReLU\n",
    "\n",
    "Implement a three-layer ANN model with 128, 64, and 10 neurons in the layers. Use the ReLU activation function for each layer."
   ]
  },
  {
   "cell_type": "code",
   "execution_count": 14,
   "metadata": {},
   "outputs": [],
   "source": [
    "model = Sequential()\n",
    "\n",
    "model.add(Dense(128, input_shape=(784,), activation='relu'))\n",
    "model.add(Dense(64, activation='relu'))\n",
    "model.add(Dense(10, activation='softmax'))"
   ]
  },
  {
   "cell_type": "code",
   "execution_count": 15,
   "metadata": {},
   "outputs": [
    {
     "name": "stdout",
     "output_type": "stream",
     "text": [
      "Model: \"sequential_2\"\n",
      "_________________________________________________________________\n",
      "Layer (type)                 Output Shape              Param #   \n",
      "=================================================================\n",
      "dense_6 (Dense)              (None, 128)               100480    \n",
      "_________________________________________________________________\n",
      "dense_7 (Dense)              (None, 64)                8256      \n",
      "_________________________________________________________________\n",
      "dense_8 (Dense)              (None, 10)                650       \n",
      "=================================================================\n",
      "Total params: 109,386\n",
      "Trainable params: 109,386\n",
      "Non-trainable params: 0\n",
      "_________________________________________________________________\n"
     ]
    }
   ],
   "source": [
    "model.summary()"
   ]
  },
  {
   "cell_type": "code",
   "execution_count": 16,
   "metadata": {},
   "outputs": [],
   "source": [
    "model.compile(optimizer='sgd', loss='categorical_crossentropy', metrics=['accuracy'])"
   ]
  },
  {
   "cell_type": "code",
   "execution_count": 17,
   "metadata": {},
   "outputs": [
    {
     "name": "stdout",
     "output_type": "stream",
     "text": [
      "Epoch 1/20\n",
      "60000/60000 [==============================] - 1s 20us/sample - loss: 1.2597 - acc: 0.6783\n",
      "Epoch 2/20\n",
      "60000/60000 [==============================] - 1s 20us/sample - loss: 0.4945 - acc: 0.8711\n",
      "Epoch 3/20\n",
      "60000/60000 [==============================] - 1s 20us/sample - loss: 0.3827 - acc: 0.8950\n",
      "Epoch 4/20\n",
      "60000/60000 [==============================] - 1s 20us/sample - loss: 0.3355 - acc: 0.9061\n",
      "Epoch 5/20\n",
      "60000/60000 [==============================] - 1s 19us/sample - loss: 0.3066 - acc: 0.9135\n",
      "Epoch 6/20\n",
      "60000/60000 [==============================] - 1s 18us/sample - loss: 0.2855 - acc: 0.9194\n",
      "Epoch 7/20\n",
      "60000/60000 [==============================] - 1s 18us/sample - loss: 0.2688 - acc: 0.9236\n",
      "Epoch 8/20\n",
      "60000/60000 [==============================] - 1s 18us/sample - loss: 0.2544 - acc: 0.9274\n",
      "Epoch 9/20\n",
      "60000/60000 [==============================] - 1s 17us/sample - loss: 0.2420 - acc: 0.9313\n",
      "Epoch 10/20\n",
      "60000/60000 [==============================] - 1s 19us/sample - loss: 0.2309 - acc: 0.9347\n",
      "Epoch 11/20\n",
      "60000/60000 [==============================] - 1s 17us/sample - loss: 0.2211 - acc: 0.9376\n",
      "Epoch 12/20\n",
      "60000/60000 [==============================] - 1s 18us/sample - loss: 0.2118 - acc: 0.9405\n",
      "Epoch 13/20\n",
      "60000/60000 [==============================] - 1s 18us/sample - loss: 0.2039 - acc: 0.9431\n",
      "Epoch 14/20\n",
      "60000/60000 [==============================] - 1s 18us/sample - loss: 0.1963 - acc: 0.9451\n",
      "Epoch 15/20\n",
      "60000/60000 [==============================] - 1s 18us/sample - loss: 0.1895 - acc: 0.9468\n",
      "Epoch 16/20\n",
      "60000/60000 [==============================] - 1s 18us/sample - loss: 0.1831 - acc: 0.9488\n",
      "Epoch 17/20\n",
      "60000/60000 [==============================] - 1s 18us/sample - loss: 0.1772 - acc: 0.9502\n",
      "Epoch 18/20\n",
      "60000/60000 [==============================] - 1s 18us/sample - loss: 0.1716 - acc: 0.9518\n",
      "Epoch 19/20\n",
      "60000/60000 [==============================] - 1s 18us/sample - loss: 0.1667 - acc: 0.9530\n",
      "Epoch 20/20\n",
      "60000/60000 [==============================] - 1s 19us/sample - loss: 0.1617 - acc: 0.9546\n"
     ]
    },
    {
     "data": {
      "text/plain": [
       "<tensorflow.python.keras.callbacks.History at 0x1f99d7819c8>"
      ]
     },
     "execution_count": 17,
     "metadata": {},
     "output_type": "execute_result"
    }
   ],
   "source": [
    "model.fit(X_train, Y_train, batch_size=batch_size, epochs=20, verbose=1)"
   ]
  },
  {
   "cell_type": "code",
   "execution_count": 18,
   "metadata": {
    "scrolled": true
   },
   "outputs": [
    {
     "name": "stdout",
     "output_type": "stream",
     "text": [
      "Test Score:0.16047228739336133\n",
      "Test Accuracy:0.9513000249862671\n"
     ]
    }
   ],
   "source": [
    "score = model.evaluate(X_test, Y_test, verbose=0)\n",
    "print('Test Score:{}'.format(score[0]))\n",
    "print('Test Accuracy:{}'.format(score[1]))"
   ]
  },
  {
   "cell_type": "markdown",
   "metadata": {},
   "source": [
    "#### Compare the results of each model. Which activation function performed best?\n",
    "\n",
    "The ReLU activation performed the best with a high accuracy score of .95 and a lower test score of .16"
   ]
  },
  {
   "cell_type": "code",
   "execution_count": null,
   "metadata": {},
   "outputs": [],
   "source": []
  },
  {
   "cell_type": "markdown",
   "metadata": {},
   "source": [
    "#### Model Creation with 3 hidden layers - tanh - 'hinge' loss function\n",
    "\n",
    "Implement a three-layer ANN model with 128, 64, and 10 neurons in the layers. Use the tanh activation function for each layer."
   ]
  },
  {
   "cell_type": "code",
   "execution_count": 19,
   "metadata": {},
   "outputs": [],
   "source": [
    "model = Sequential()\n",
    "\n",
    "model.add(Dense(128, input_shape=(784,), activation='tanh'))\n",
    "model.add(Dense(64, activation='tanh'))\n",
    "model.add(Dense(10, activation='softmax'))"
   ]
  },
  {
   "cell_type": "code",
   "execution_count": 20,
   "metadata": {},
   "outputs": [
    {
     "name": "stdout",
     "output_type": "stream",
     "text": [
      "Model: \"sequential_3\"\n",
      "_________________________________________________________________\n",
      "Layer (type)                 Output Shape              Param #   \n",
      "=================================================================\n",
      "dense_9 (Dense)              (None, 128)               100480    \n",
      "_________________________________________________________________\n",
      "dense_10 (Dense)             (None, 64)                8256      \n",
      "_________________________________________________________________\n",
      "dense_11 (Dense)             (None, 10)                650       \n",
      "=================================================================\n",
      "Total params: 109,386\n",
      "Trainable params: 109,386\n",
      "Non-trainable params: 0\n",
      "_________________________________________________________________\n"
     ]
    }
   ],
   "source": [
    "model.summary()"
   ]
  },
  {
   "cell_type": "code",
   "execution_count": 21,
   "metadata": {},
   "outputs": [],
   "source": [
    "model.compile(optimizer='sgd', loss=tf.keras.losses.hinge, metrics=['accuracy'])"
   ]
  },
  {
   "cell_type": "code",
   "execution_count": 22,
   "metadata": {},
   "outputs": [
    {
     "name": "stdout",
     "output_type": "stream",
     "text": [
      "WARNING:tensorflow:From C:\\ProgramData\\Anaconda3\\lib\\site-packages\\tensorflow\\python\\ops\\math_grad.py:1250: add_dispatch_support.<locals>.wrapper (from tensorflow.python.ops.array_ops) is deprecated and will be removed in a future version.\n",
      "Instructions for updating:\n",
      "Use tf.where in 2.0, which has the same broadcast rule as np.where\n",
      "Epoch 1/20\n",
      "60000/60000 [==============================] - 1s 20us/sample - loss: 1.0758 - acc: 0.2210\n",
      "Epoch 2/20\n",
      "60000/60000 [==============================] - 1s 19us/sample - loss: 1.0697 - acc: 0.3514\n",
      "Epoch 3/20\n",
      "60000/60000 [==============================] - 1s 19us/sample - loss: 1.0601 - acc: 0.4108\n",
      "Epoch 4/20\n",
      "60000/60000 [==============================] - 1s 19us/sample - loss: 1.0486 - acc: 0.4717\n",
      "Epoch 5/20\n",
      "60000/60000 [==============================] - 1s 19us/sample - loss: 1.0367 - acc: 0.5127\n",
      "Epoch 6/20\n",
      "60000/60000 [==============================] - 1s 19us/sample - loss: 1.0261 - acc: 0.5458\n",
      "Epoch 7/20\n",
      "60000/60000 [==============================] - 1s 19us/sample - loss: 1.0171 - acc: 0.5823\n",
      "Epoch 8/20\n",
      "60000/60000 [==============================] - 1s 19us/sample - loss: 1.0091 - acc: 0.6177\n",
      "Epoch 9/20\n",
      "60000/60000 [==============================] - 1s 19us/sample - loss: 1.0019 - acc: 0.6401\n",
      "Epoch 10/20\n",
      "60000/60000 [==============================] - 1s 20us/sample - loss: 0.9960 - acc: 0.6537\n",
      "Epoch 11/20\n",
      "60000/60000 [==============================] - 1s 19us/sample - loss: 0.9912 - acc: 0.6664\n",
      "Epoch 12/20\n",
      "60000/60000 [==============================] - 1s 19us/sample - loss: 0.9871 - acc: 0.6820\n",
      "Epoch 13/20\n",
      "60000/60000 [==============================] - 1s 20us/sample - loss: 0.9835 - acc: 0.6993\n",
      "Epoch 14/20\n",
      "60000/60000 [==============================] - 1s 19us/sample - loss: 0.9800 - acc: 0.7188\n",
      "Epoch 15/20\n",
      "60000/60000 [==============================] - 1s 19us/sample - loss: 0.9765 - acc: 0.7400\n",
      "Epoch 16/20\n",
      "60000/60000 [==============================] - 1s 19us/sample - loss: 0.9732 - acc: 0.7579\n",
      "Epoch 17/20\n",
      "60000/60000 [==============================] - 1s 19us/sample - loss: 0.9702 - acc: 0.7709\n",
      "Epoch 18/20\n",
      "60000/60000 [==============================] - 1s 20us/sample - loss: 0.9675 - acc: 0.7817\n",
      "Epoch 19/20\n",
      "60000/60000 [==============================] - 1s 19us/sample - loss: 0.9651 - acc: 0.7900\n",
      "Epoch 20/20\n",
      "60000/60000 [==============================] - 1s 19us/sample - loss: 0.9629 - acc: 0.7978\n"
     ]
    },
    {
     "data": {
      "text/plain": [
       "<tensorflow.python.keras.callbacks.History at 0x1f99da1fc48>"
      ]
     },
     "execution_count": 22,
     "metadata": {},
     "output_type": "execute_result"
    }
   ],
   "source": [
    "model.fit(X_train, Y_train, batch_size=batch_size, epochs=20, verbose=1)"
   ]
  },
  {
   "cell_type": "code",
   "execution_count": 23,
   "metadata": {},
   "outputs": [
    {
     "name": "stdout",
     "output_type": "stream",
     "text": [
      "Test Score:0.9601568873405456\n",
      "Test Accuracy:0.8140000104904175\n"
     ]
    }
   ],
   "source": [
    "score = model.evaluate(X_test, Y_test, verbose=0)\n",
    "print('Test Score:{}'.format(score[0]))\n",
    "print('Test Accuracy:{}'.format(score[1]))"
   ]
  },
  {
   "cell_type": "markdown",
   "metadata": {},
   "source": [
    "#### Model Creation with 3 hidden layers - Sigmoid - 'hinge' loss function\n",
    "\n",
    "Implement a three-layer ANN model with 128, 64, and 10 neurons in the layers. Use the sigmoid activation function for each layer."
   ]
  },
  {
   "cell_type": "code",
   "execution_count": 24,
   "metadata": {},
   "outputs": [],
   "source": [
    "model = Sequential()\n",
    "\n",
    "model.add(Dense(128, input_shape=(784,), activation='sigmoid'))\n",
    "model.add(Dense(64, activation='sigmoid'))\n",
    "model.add(Dense(10, activation='softmax'))"
   ]
  },
  {
   "cell_type": "code",
   "execution_count": 25,
   "metadata": {},
   "outputs": [
    {
     "name": "stdout",
     "output_type": "stream",
     "text": [
      "Model: \"sequential_4\"\n",
      "_________________________________________________________________\n",
      "Layer (type)                 Output Shape              Param #   \n",
      "=================================================================\n",
      "dense_12 (Dense)             (None, 128)               100480    \n",
      "_________________________________________________________________\n",
      "dense_13 (Dense)             (None, 64)                8256      \n",
      "_________________________________________________________________\n",
      "dense_14 (Dense)             (None, 10)                650       \n",
      "=================================================================\n",
      "Total params: 109,386\n",
      "Trainable params: 109,386\n",
      "Non-trainable params: 0\n",
      "_________________________________________________________________\n"
     ]
    }
   ],
   "source": [
    "model.summary()"
   ]
  },
  {
   "cell_type": "code",
   "execution_count": 26,
   "metadata": {},
   "outputs": [],
   "source": [
    "model.compile(optimizer='sgd', loss=tf.keras.losses.hinge, metrics=['accuracy'])"
   ]
  },
  {
   "cell_type": "code",
   "execution_count": 27,
   "metadata": {},
   "outputs": [
    {
     "name": "stdout",
     "output_type": "stream",
     "text": [
      "Epoch 1/20\n",
      "60000/60000 [==============================] - 1s 21us/sample - loss: 1.0802 - acc: 0.0992\n",
      "Epoch 2/20\n",
      "60000/60000 [==============================] - 1s 20us/sample - loss: 1.0802 - acc: 0.0992\n",
      "Epoch 3/20\n",
      "60000/60000 [==============================] - 1s 20us/sample - loss: 1.0802 - acc: 0.0992\n",
      "Epoch 4/20\n",
      "60000/60000 [==============================] - 1s 24us/sample - loss: 1.0801 - acc: 0.0992\n",
      "Epoch 5/20\n",
      "60000/60000 [==============================] - 1s 21us/sample - loss: 1.0801 - acc: 0.0992\n",
      "Epoch 6/20\n",
      "60000/60000 [==============================] - 1s 23us/sample - loss: 1.0801 - acc: 0.0992\n",
      "Epoch 7/20\n",
      "60000/60000 [==============================] - 1s 19us/sample - loss: 1.0800 - acc: 0.0992\n",
      "Epoch 8/20\n",
      "60000/60000 [==============================] - 1s 20us/sample - loss: 1.0800 - acc: 0.0992\n",
      "Epoch 9/20\n",
      "60000/60000 [==============================] - 1s 23us/sample - loss: 1.0800 - acc: 0.0992\n",
      "Epoch 10/20\n",
      "60000/60000 [==============================] - 1s 22us/sample - loss: 1.0799 - acc: 0.0992\n",
      "Epoch 11/20\n",
      "60000/60000 [==============================] - 1s 19us/sample - loss: 1.0799 - acc: 0.0992\n",
      "Epoch 12/20\n",
      "60000/60000 [==============================] - 1s 21us/sample - loss: 1.0799 - acc: 0.0992\n",
      "Epoch 13/20\n",
      "60000/60000 [==============================] - 1s 20us/sample - loss: 1.0799 - acc: 0.0992\n",
      "Epoch 14/20\n",
      "60000/60000 [==============================] - 1s 20us/sample - loss: 1.0798 - acc: 0.0992\n",
      "Epoch 15/20\n",
      "60000/60000 [==============================] - 1s 21us/sample - loss: 1.0798 - acc: 0.0992\n",
      "Epoch 16/20\n",
      "60000/60000 [==============================] - 1s 19us/sample - loss: 1.0798 - acc: 0.0992\n",
      "Epoch 17/20\n",
      "60000/60000 [==============================] - 1s 19us/sample - loss: 1.0797 - acc: 0.0992\n",
      "Epoch 18/20\n",
      "60000/60000 [==============================] - 1s 19us/sample - loss: 1.0797 - acc: 0.0992\n",
      "Epoch 19/20\n",
      "60000/60000 [==============================] - 1s 19us/sample - loss: 1.0797 - acc: 0.0992\n",
      "Epoch 20/20\n",
      "60000/60000 [==============================] - 1s 20us/sample - loss: 1.0796 - acc: 0.0992\n"
     ]
    },
    {
     "data": {
      "text/plain": [
       "<tensorflow.python.keras.callbacks.History at 0x1f99dd90908>"
      ]
     },
     "execution_count": 27,
     "metadata": {},
     "output_type": "execute_result"
    }
   ],
   "source": [
    "model.fit(X_train, Y_train, batch_size=batch_size, epochs=20, verbose=1)"
   ]
  },
  {
   "cell_type": "code",
   "execution_count": 28,
   "metadata": {
    "scrolled": true
   },
   "outputs": [
    {
     "name": "stdout",
     "output_type": "stream",
     "text": [
      "Test Score:1.0795175422668457\n",
      "Test Accuracy:0.10090000182390213\n"
     ]
    }
   ],
   "source": [
    "score = model.evaluate(X_test, Y_test, verbose=0)\n",
    "print('Test Score:{}'.format(score[0]))\n",
    "print('Test Accuracy:{}'.format(score[1]))"
   ]
  },
  {
   "cell_type": "markdown",
   "metadata": {},
   "source": [
    "#### Model Creation with 3 hidden layers - ReLU - - 'hinge' loss function\n",
    "\n",
    "Implement a three-layer ANN model with 128, 64, and 10 neurons in the layers. Use the ReLU activation function for each layer."
   ]
  },
  {
   "cell_type": "code",
   "execution_count": 29,
   "metadata": {},
   "outputs": [],
   "source": [
    "model = Sequential()\n",
    "\n",
    "model.add(Dense(128, input_shape=(784,), activation='relu'))\n",
    "model.add(Dense(64, activation='relu'))\n",
    "model.add(Dense(10, activation='softmax'))"
   ]
  },
  {
   "cell_type": "code",
   "execution_count": 30,
   "metadata": {},
   "outputs": [
    {
     "name": "stdout",
     "output_type": "stream",
     "text": [
      "Model: \"sequential_5\"\n",
      "_________________________________________________________________\n",
      "Layer (type)                 Output Shape              Param #   \n",
      "=================================================================\n",
      "dense_15 (Dense)             (None, 128)               100480    \n",
      "_________________________________________________________________\n",
      "dense_16 (Dense)             (None, 64)                8256      \n",
      "_________________________________________________________________\n",
      "dense_17 (Dense)             (None, 10)                650       \n",
      "=================================================================\n",
      "Total params: 109,386\n",
      "Trainable params: 109,386\n",
      "Non-trainable params: 0\n",
      "_________________________________________________________________\n"
     ]
    }
   ],
   "source": [
    "model.summary()"
   ]
  },
  {
   "cell_type": "code",
   "execution_count": 31,
   "metadata": {},
   "outputs": [],
   "source": [
    "model.compile(optimizer='sgd', loss=tf.keras.losses.hinge, metrics=['accuracy'])"
   ]
  },
  {
   "cell_type": "code",
   "execution_count": 32,
   "metadata": {},
   "outputs": [
    {
     "name": "stdout",
     "output_type": "stream",
     "text": [
      "Epoch 1/20\n",
      "60000/60000 [==============================] - 1s 20us/sample - loss: 1.0803 - acc: 0.0692\n",
      "Epoch 2/20\n",
      "60000/60000 [==============================] - 1s 19us/sample - loss: 1.0793 - acc: 0.0981\n",
      "Epoch 3/20\n",
      "60000/60000 [==============================] - 1s 19us/sample - loss: 1.0782 - acc: 0.1246\n",
      "Epoch 4/20\n",
      "60000/60000 [==============================] - 1s 20us/sample - loss: 1.0769 - acc: 0.1414\n",
      "Epoch 5/20\n",
      "60000/60000 [==============================] - 1s 20us/sample - loss: 1.0750 - acc: 0.1476\n",
      "Epoch 6/20\n",
      "60000/60000 [==============================] - 1s 20us/sample - loss: 1.0723 - acc: 0.1522\n",
      "Epoch 7/20\n",
      "60000/60000 [==============================] - 1s 19us/sample - loss: 1.0690 - acc: 0.1752\n",
      "Epoch 8/20\n",
      "60000/60000 [==============================] - 1s 19us/sample - loss: 1.0658 - acc: 0.2400\n",
      "Epoch 9/20\n",
      "60000/60000 [==============================] - 1s 19us/sample - loss: 1.0624 - acc: 0.3135\n",
      "Epoch 10/20\n",
      "60000/60000 [==============================] - 1s 21us/sample - loss: 1.0585 - acc: 0.3763\n",
      "Epoch 11/20\n",
      "60000/60000 [==============================] - 1s 21us/sample - loss: 1.0536 - acc: 0.4198\n",
      "Epoch 12/20\n",
      "60000/60000 [==============================] - 1s 21us/sample - loss: 1.0473 - acc: 0.4469\n",
      "Epoch 13/20\n",
      "60000/60000 [==============================] - 1s 21us/sample - loss: 1.0396 - acc: 0.4650\n",
      "Epoch 14/20\n",
      "60000/60000 [==============================] - 1s 24us/sample - loss: 1.0312 - acc: 0.4866\n",
      "Epoch 15/20\n",
      "60000/60000 [==============================] - 1s 20us/sample - loss: 1.0232 - acc: 0.5316\n",
      "Epoch 16/20\n",
      "60000/60000 [==============================] - 1s 20us/sample - loss: 1.0148 - acc: 0.5870\n",
      "Epoch 17/20\n",
      "60000/60000 [==============================] - 1s 21us/sample - loss: 1.0062 - acc: 0.6188\n",
      "Epoch 18/20\n",
      "60000/60000 [==============================] - 1s 19us/sample - loss: 0.9987 - acc: 0.6326\n",
      "Epoch 19/20\n",
      "60000/60000 [==============================] - 1s 20us/sample - loss: 0.9926 - acc: 0.6406\n",
      "Epoch 20/20\n",
      "60000/60000 [==============================] - 1s 19us/sample - loss: 0.9875 - acc: 0.6595\n"
     ]
    },
    {
     "data": {
      "text/plain": [
       "<tensorflow.python.keras.callbacks.History at 0x1f99efe2e48>"
      ]
     },
     "execution_count": 32,
     "metadata": {},
     "output_type": "execute_result"
    }
   ],
   "source": [
    "model.fit(X_train, Y_train, batch_size=batch_size, epochs=20, verbose=1)"
   ]
  },
  {
   "cell_type": "code",
   "execution_count": 33,
   "metadata": {
    "scrolled": true
   },
   "outputs": [
    {
     "name": "stdout",
     "output_type": "stream",
     "text": [
      "Test Score:0.9845554529190064\n",
      "Test Accuracy:0.6766999959945679\n"
     ]
    }
   ],
   "source": [
    "score = model.evaluate(X_test, Y_test, verbose=0)\n",
    "print('Test Score:{}'.format(score[0]))\n",
    "print('Test Accuracy:{}'.format(score[1]))"
   ]
  },
  {
   "cell_type": "markdown",
   "metadata": {},
   "source": [
    "#### Compare the result of each model with each other. Which activation function did perform better?\n",
    "\n",
    "Using the hinge loss function, the ReLU activation performed at its best with a accuracy score of .68 and a test score of .98\n",
    "\n",
    "The hinge loss function however gave lower scores compared to thge previous 3 models."
   ]
  },
  {
   "cell_type": "code",
   "execution_count": null,
   "metadata": {},
   "outputs": [],
   "source": []
  }
 ],
 "metadata": {
  "kernelspec": {
   "display_name": "Python 3",
   "language": "python",
   "name": "python3"
  },
  "language_info": {
   "codemirror_mode": {
    "name": "ipython",
    "version": 3
   },
   "file_extension": ".py",
   "mimetype": "text/x-python",
   "name": "python",
   "nbconvert_exporter": "python",
   "pygments_lexer": "ipython3",
   "version": "3.7.7"
  }
 },
 "nbformat": 4,
 "nbformat_minor": 4
}
