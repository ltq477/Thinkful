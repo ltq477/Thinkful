{
 "cells": [
  {
   "cell_type": "markdown",
   "metadata": {},
   "source": [
    "\n",
    "\n",
    "In this task, build another ANN. This ANN should have five hidden layers and one output layer. All of the layers should be dense. The neuron numbers for the hidden layers should be 1024, 512, 256, 128, and 64. Train this model for 20 epochs, and test it using the same data from the previous task. Then compare your results. Is there any difference? If so, why?"
   ]
  },
  {
   "cell_type": "code",
   "execution_count": 1,
   "metadata": {},
   "outputs": [],
   "source": [
    "from tensorflow.keras.models import Sequential\n",
    "from tensorflow.keras.layers import Dense\n",
    "from tensorflow.keras.datasets import mnist\n",
    "from tensorflow.keras.utils import to_categorical\n",
    "\n",
    "%matplotlib inline\n",
    "import warnings\n",
    "warnings.filterwarnings('ignore')"
   ]
  },
  {
   "cell_type": "code",
   "execution_count": 2,
   "metadata": {},
   "outputs": [],
   "source": [
    "(X_train, y_train), (X_test, y_test) = mnist.load_data()\n",
    "\n",
    "input_dim = 784\n",
    "output_dim = nb_classes = 10\n",
    "batch_size= 128\n",
    "nb_epoch =20\n",
    "\n",
    "X_train = X_train.reshape(60000, input_dim)\n",
    "X_test = X_test.reshape(10000, input_dim)\n",
    "X_train = X_train.astype('float32')\n",
    "X_test = X_test.astype('float32')\n",
    "X_train /= 255\n",
    "X_test /= 255"
   ]
  },
  {
   "cell_type": "code",
   "execution_count": 3,
   "metadata": {},
   "outputs": [],
   "source": [
    "Y_train = to_categorical(y_train, nb_classes)\n",
    "Y_test = to_categorical(y_test, nb_classes)"
   ]
  },
  {
   "cell_type": "raw",
   "metadata": {},
   "source": [
    "X_train[0].shape"
   ]
  },
  {
   "cell_type": "code",
   "execution_count": 4,
   "metadata": {},
   "outputs": [
    {
     "data": {
      "image/png": "[encoded data removed]",
      "text/plain": [
       "<matplotlib.figure.Figure at 0x23dc34d7e10>"
      ]
     },
     "metadata": {
      "needs_background": "light"
     },
     "output_type": "display_data"
    }
   ],
   "source": [
    "import matplotlib.pyplot as plt\n",
    "\n",
    "plt.figure(figsize=(20,5))\n",
    "\n",
    "plt.subplot(141)\n",
    "plt.imshow(X_train[123].reshape(28,28), cmap=\"gray\")\n",
    "plt.title(\"Label of the image: {}\".format(y_train[123]))\n",
    "\n",
    "plt.subplot(142)\n",
    "plt.imshow(X_train[124].reshape(28,28), cmap=\"gray\")\n",
    "plt.title(\"Label of the image: {}\".format(y_train[124]))\n",
    "\n",
    "plt.subplot(143)\n",
    "plt.imshow(X_train[125].reshape(28,28), cmap=\"gray\")\n",
    "plt.title(\"Label of the image: {}\".format(y_train[125]))\n",
    "\n",
    "plt.subplot(144)\n",
    "plt.imshow(X_train[126].reshape(28,28), cmap=\"gray\")\n",
    "plt.title(\"Label of the image: {}\".format(y_train[126]))\n",
    "\n",
    "plt.show()"
   ]
  },
  {
   "cell_type": "markdown",
   "metadata": {},
   "source": [
    "Model Creation with 2 hidden layers"
   ]
  },
  {
   "cell_type": "code",
   "execution_count": 5,
   "metadata": {},
   "outputs": [],
   "source": [
    "model = Sequential()\n",
    "\n",
    "model.add(Dense(32, input_shape=(784,), activation='relu'))\n",
    "model.add(Dense(16, activation='relu'))\n",
    "model.add(Dense(10, activation='softmax'))"
   ]
  },
  {
   "cell_type": "code",
   "execution_count": 6,
   "metadata": {},
   "outputs": [
    {
     "name": "stdout",
     "output_type": "stream",
     "text": [
      "Model: \"sequential\"\n",
      "_________________________________________________________________\n",
      "Layer (type)                 Output Shape              Param #   \n",
      "=================================================================\n",
      "dense (Dense)                (None, 32)                25120     \n",
      "_________________________________________________________________\n",
      "dense_1 (Dense)              (None, 16)                528       \n",
      "_________________________________________________________________\n",
      "dense_2 (Dense)              (None, 10)                170       \n",
      "=================================================================\n",
      "Total params: 25,818\n",
      "Trainable params: 25,818\n",
      "Non-trainable params: 0\n",
      "_________________________________________________________________\n"
     ]
    }
   ],
   "source": [
    "model.summary()"
   ]
  },
  {
   "cell_type": "code",
   "execution_count": 7,
   "metadata": {},
   "outputs": [],
   "source": [
    "model.compile(optimizer='sgd', loss='categorical_crossentropy', metrics=['accuracy'])"
   ]
  },
  {
   "cell_type": "code",
   "execution_count": 8,
   "metadata": {},
   "outputs": [
    {
     "name": "stdout",
     "output_type": "stream",
     "text": [
      "Train on 60000 samples\n",
      "Epoch 1/20\n",
      "60000/60000 [==============================] - 3s 44us/sample - loss: 1.8448 - accuracy: 0.3929\n",
      "Epoch 2/20\n",
      "60000/60000 [==============================] - 1s 25us/sample - loss: 0.8604 - accuracy: 0.7846\n",
      "Epoch 3/20\n",
      "60000/60000 [==============================] - 2s 25us/sample - loss: 0.5277 - accuracy: 0.8532\n",
      "Epoch 4/20\n",
      "60000/60000 [==============================] - 1s 25us/sample - loss: 0.4328 - accuracy: 0.8780\n",
      "Epoch 5/20\n",
      "60000/60000 [==============================] - 1s 24us/sample - loss: 0.3865 - accuracy: 0.8899\n",
      "Epoch 6/20\n",
      "60000/60000 [==============================] - 1s 24us/sample - loss: 0.3584 - accuracy: 0.8971\n",
      "Epoch 7/20\n",
      "60000/60000 [==============================] - 1s 24us/sample - loss: 0.3385 - accuracy: 0.9026\n",
      "Epoch 8/20\n",
      "60000/60000 [==============================] - 1s 24us/sample - loss: 0.3233 - accuracy: 0.9070\n",
      "Epoch 9/20\n",
      "60000/60000 [==============================] - 1s 24us/sample - loss: 0.3108 - accuracy: 0.9103\n",
      "Epoch 10/20\n",
      "60000/60000 [==============================] - 1s 20us/sample - loss: 0.3003 - accuracy: 0.9133\n",
      "Epoch 11/20\n",
      "60000/60000 [==============================] - 1s 14us/sample - loss: 0.2904 - accuracy: 0.9163\n",
      "Epoch 12/20\n",
      "60000/60000 [==============================] - 1s 14us/sample - loss: 0.2818 - accuracy: 0.9187\n",
      "Epoch 13/20\n",
      "60000/60000 [==============================] - 1s 14us/sample - loss: 0.2738 - accuracy: 0.9216\n",
      "Epoch 14/20\n",
      "60000/60000 [==============================] - 1s 14us/sample - loss: 0.2663 - accuracy: 0.9241\n",
      "Epoch 15/20\n",
      "60000/60000 [==============================] - 1s 14us/sample - loss: 0.2594 - accuracy: 0.9255\n",
      "Epoch 16/20\n",
      "60000/60000 [==============================] - 1s 14us/sample - loss: 0.2530 - accuracy: 0.9275\n",
      "Epoch 17/20\n",
      "60000/60000 [==============================] - 1s 14us/sample - loss: 0.2465 - accuracy: 0.9294\n",
      "Epoch 18/20\n",
      "60000/60000 [==============================] - 1s 14us/sample - loss: 0.2403 - accuracy: 0.9309\n",
      "Epoch 19/20\n",
      "60000/60000 [==============================] - 1s 14us/sample - loss: 0.2346 - accuracy: 0.9327\n",
      "Epoch 20/20\n",
      "60000/60000 [==============================] - 1s 14us/sample - loss: 0.2288 - accuracy: 0.9343\n"
     ]
    },
    {
     "data": {
      "text/plain": [
       "<tensorflow.python.keras.callbacks.History at 0x23dd1e0cf60>"
      ]
     },
     "execution_count": 8,
     "metadata": {},
     "output_type": "execute_result"
    }
   ],
   "source": [
    "model.fit(X_train, Y_train, batch_size=batch_size, epochs=20, verbose=1)"
   ]
  },
  {
   "cell_type": "code",
   "execution_count": 9,
   "metadata": {},
   "outputs": [
    {
     "name": "stdout",
     "output_type": "stream",
     "text": [
      "Test Score:0.2248558120906353\n",
      "Test Accuracy:0.9372000098228455\n"
     ]
    }
   ],
   "source": [
    "score = model.evaluate(X_test, Y_test, verbose=0)\n",
    "print('Test Score:{}'.format(score[0]))\n",
    "print('Test Accuracy:{}'.format(score[1]))"
   ]
  },
  {
   "cell_type": "markdown",
   "metadata": {},
   "source": [
    "In this task, you'll build an ANN and train and test it using the MNIST data. This ANN should consist of two hidden layers and one output layer. All of the hidden layers should be dense. The first layer and the second layer should have neuron sizes of 32 and 16, respectively. Train this model for 20 epochs, and compare your training and test set performance with the example in the checkpoint. Is there any difference? If so, why?\n",
    "\n",
    "Yes, there is a difference from the sample.--\n",
    "The newer model created above a bit lower than the sample. It has a score of .22 and an accuracy of .94. Where as the sample had an accuracy of .97\n",
    "\n",
    "This is due to the fact that a smaller size of neurons were used."
   ]
  },
  {
   "cell_type": "markdown",
   "metadata": {},
   "source": [
    "Model with 5 hidden layers"
   ]
  },
  {
   "cell_type": "code",
   "execution_count": 10,
   "metadata": {},
   "outputs": [],
   "source": [
    "model = Sequential()\n",
    "\n",
    "model.add(Dense(1024, input_shape=(784,), activation='relu'))\n",
    "model.add(Dense(512, activation='relu'))\n",
    "model.add(Dense(256, activation='relu'))\n",
    "model.add(Dense(125, activation='relu'))\n",
    "model.add(Dense(64, activation='relu'))\n",
    "model.add(Dense(10, activation='softmax'))"
   ]
  },
  {
   "cell_type": "code",
   "execution_count": 11,
   "metadata": {},
   "outputs": [],
   "source": [
    "model.compile(optimizer='sgd', loss='categorical_crossentropy', metrics=['accuracy'])"
   ]
  },
  {
   "cell_type": "code",
   "execution_count": 12,
   "metadata": {},
   "outputs": [
    {
     "name": "stdout",
     "output_type": "stream",
     "text": [
      "Train on 60000 samples\n",
      "Epoch 1/20\n",
      "60000/60000 [==============================] - 8s 136us/sample - loss: 1.1404 - accuracy: 0.7109 - loss: 1.1559 - accuracy: \n",
      "Epoch 2/20\n",
      "60000/60000 [==============================] - 8s 128us/sample - loss: 0.3545 - accuracy: 0.9014\n",
      "Epoch 3/20\n",
      "60000/60000 [==============================] - 8s 128us/sample - loss: 0.2689 - accuracy: 0.9234\n",
      "Epoch 4/20\n",
      "60000/60000 [==============================] - 8s 128us/sample - loss: 0.2261 - accuracy: 0.9360\n",
      "Epoch 5/20\n",
      "60000/60000 [==============================] - 8s 129us/sample - loss: 0.1953 - accuracy: 0.9453\n",
      "Epoch 6/20\n",
      "60000/60000 [==============================] - 8s 127us/sample - loss: 0.1725 - accuracy: 0.9513\n",
      "Epoch 7/20\n",
      "60000/60000 [==============================] - 8s 128us/sample - loss: 0.1537 - accuracy: 0.9560\n",
      "Epoch 8/20\n",
      "60000/60000 [==============================] - 8s 128us/sample - loss: 0.1379 - accuracy: 0.9611 - loss:\n",
      "Epoch 9/20\n",
      "60000/60000 [==============================] - 8s 128us/sample - loss: 0.1253 - accuracy: 0.9649\n",
      "Epoch 10/20\n",
      "60000/60000 [==============================] - 8s 127us/sample - loss: 0.1134 - accuracy: 0.9680\n",
      "Epoch 11/20\n",
      "60000/60000 [==============================] - 8s 128us/sample - loss: 0.1046 - accuracy: 0.9700\n",
      "Epoch 12/20\n",
      "60000/60000 [==============================] - 8s 128us/sample - loss: 0.0964 - accuracy: 0.9724\n",
      "Epoch 13/20\n",
      "60000/60000 [==============================] - 8s 129us/sample - loss: 0.0884 - accuracy: 0.9750\n",
      "Epoch 14/20\n",
      "60000/60000 [==============================] - 8s 130us/sample - loss: 0.0815 - accuracy: 0.9769\n",
      "Epoch 15/20\n",
      "60000/60000 [==============================] - 8s 128us/sample - loss: 0.0746 - accuracy: 0.9791\n",
      "Epoch 16/20\n",
      "60000/60000 [==============================] - 8s 127us/sample - loss: 0.0698 - accuracy: 0.9805\n",
      "Epoch 17/20\n",
      "60000/60000 [==============================] - 8s 128us/sample - loss: 0.0643 - accuracy: 0.9820\n",
      "Epoch 18/20\n",
      "60000/60000 [==============================] - 8s 128us/sample - loss: 0.0599 - accuracy: 0.9831\n",
      "Epoch 19/20\n",
      "60000/60000 [==============================] - 8s 129us/sample - loss: 0.0555 - accuracy: 0.9844\n",
      "Epoch 20/20\n",
      "60000/60000 [==============================] - 8s 128us/sample - loss: 0.0513 - accuracy: 0.9858\n"
     ]
    },
    {
     "data": {
      "text/plain": [
       "<tensorflow.python.keras.callbacks.History at 0x23dc35aaa58>"
      ]
     },
     "execution_count": 12,
     "metadata": {},
     "output_type": "execute_result"
    }
   ],
   "source": [
    "model.fit(X_train, Y_train, batch_size=batch_size, epochs=20, verbose=1)"
   ]
  },
  {
   "cell_type": "code",
   "execution_count": 13,
   "metadata": {},
   "outputs": [
    {
     "name": "stdout",
     "output_type": "stream",
     "text": [
      "Test Score:0.08525895340256393\n",
      "Test Accuracy:0.9736999869346619\n"
     ]
    }
   ],
   "source": [
    "score = model.evaluate(X_test, Y_test, verbose=0)\n",
    "print('Test Score:{}'.format(score[0]))\n",
    "print('Test Accuracy:{}'.format(score[1]))"
   ]
  },
  {
   "cell_type": "markdown",
   "metadata": {},
   "source": [
    "This model showed a slight difference between the training and test set. The training set at 98% and the test set at 97%. This may due to the several layers which adds complexities to the model. The 1% gap can be a sign of over complexities."
   ]
  },
  {
   "cell_type": "code",
   "execution_count": null,
   "metadata": {},
   "outputs": [],
   "source": []
  }
 ],
 "metadata": {
  "kernelspec": {
   "display_name": "Python 3",
   "language": "python",
   "name": "python3"
  },
  "language_info": {
   "codemirror_mode": {
    "name": "ipython",
    "version": 3
   },
   "file_extension": ".py",
   "mimetype": "text/x-python",
   "name": "python",
   "nbconvert_exporter": "python",
   "pygments_lexer": "ipython3",
   "version": "3.5.4"
  }
 },
 "nbformat": 4,
 "nbformat_minor": 4
}
