{
 "cells": [
  {
   "cell_type": "code",
   "execution_count": 1,
   "metadata": {},
   "outputs": [
    {
     "name": "stderr",
     "output_type": "stream",
     "text": [
      "C:\\ProgramData\\Anaconda3\\lib\\site-packages\\tensorflow\\python\\framework\\dtypes.py:516: FutureWarning: Passing (type, 1) or '1type' as a synonym of type is deprecated; in a future version of numpy, it will be understood as (type, (1,)) / '(1,)type'.\n",
      "  _np_qint8 = np.dtype([(\"qint8\", np.int8, 1)])\n",
      "C:\\ProgramData\\Anaconda3\\lib\\site-packages\\tensorflow\\python\\framework\\dtypes.py:517: FutureWarning: Passing (type, 1) or '1type' as a synonym of type is deprecated; in a future version of numpy, it will be understood as (type, (1,)) / '(1,)type'.\n",
      "  _np_quint8 = np.dtype([(\"quint8\", np.uint8, 1)])\n",
      "C:\\ProgramData\\Anaconda3\\lib\\site-packages\\tensorflow\\python\\framework\\dtypes.py:518: FutureWarning: Passing (type, 1) or '1type' as a synonym of type is deprecated; in a future version of numpy, it will be understood as (type, (1,)) / '(1,)type'.\n",
      "  _np_qint16 = np.dtype([(\"qint16\", np.int16, 1)])\n",
      "C:\\ProgramData\\Anaconda3\\lib\\site-packages\\tensorflow\\python\\framework\\dtypes.py:519: FutureWarning: Passing (type, 1) or '1type' as a synonym of type is deprecated; in a future version of numpy, it will be understood as (type, (1,)) / '(1,)type'.\n",
      "  _np_quint16 = np.dtype([(\"quint16\", np.uint16, 1)])\n",
      "C:\\ProgramData\\Anaconda3\\lib\\site-packages\\tensorflow\\python\\framework\\dtypes.py:520: FutureWarning: Passing (type, 1) or '1type' as a synonym of type is deprecated; in a future version of numpy, it will be understood as (type, (1,)) / '(1,)type'.\n",
      "  _np_qint32 = np.dtype([(\"qint32\", np.int32, 1)])\n",
      "C:\\ProgramData\\Anaconda3\\lib\\site-packages\\tensorflow\\python\\framework\\dtypes.py:525: FutureWarning: Passing (type, 1) or '1type' as a synonym of type is deprecated; in a future version of numpy, it will be understood as (type, (1,)) / '(1,)type'.\n",
      "  np_resource = np.dtype([(\"resource\", np.ubyte, 1)])\n",
      "C:\\ProgramData\\Anaconda3\\lib\\site-packages\\tensorboard\\compat\\tensorflow_stub\\dtypes.py:541: FutureWarning: Passing (type, 1) or '1type' as a synonym of type is deprecated; in a future version of numpy, it will be understood as (type, (1,)) / '(1,)type'.\n",
      "  _np_qint8 = np.dtype([(\"qint8\", np.int8, 1)])\n",
      "C:\\ProgramData\\Anaconda3\\lib\\site-packages\\tensorboard\\compat\\tensorflow_stub\\dtypes.py:542: FutureWarning: Passing (type, 1) or '1type' as a synonym of type is deprecated; in a future version of numpy, it will be understood as (type, (1,)) / '(1,)type'.\n",
      "  _np_quint8 = np.dtype([(\"quint8\", np.uint8, 1)])\n",
      "C:\\ProgramData\\Anaconda3\\lib\\site-packages\\tensorboard\\compat\\tensorflow_stub\\dtypes.py:543: FutureWarning: Passing (type, 1) or '1type' as a synonym of type is deprecated; in a future version of numpy, it will be understood as (type, (1,)) / '(1,)type'.\n",
      "  _np_qint16 = np.dtype([(\"qint16\", np.int16, 1)])\n",
      "C:\\ProgramData\\Anaconda3\\lib\\site-packages\\tensorboard\\compat\\tensorflow_stub\\dtypes.py:544: FutureWarning: Passing (type, 1) or '1type' as a synonym of type is deprecated; in a future version of numpy, it will be understood as (type, (1,)) / '(1,)type'.\n",
      "  _np_quint16 = np.dtype([(\"quint16\", np.uint16, 1)])\n",
      "C:\\ProgramData\\Anaconda3\\lib\\site-packages\\tensorboard\\compat\\tensorflow_stub\\dtypes.py:545: FutureWarning: Passing (type, 1) or '1type' as a synonym of type is deprecated; in a future version of numpy, it will be understood as (type, (1,)) / '(1,)type'.\n",
      "  _np_qint32 = np.dtype([(\"qint32\", np.int32, 1)])\n",
      "C:\\ProgramData\\Anaconda3\\lib\\site-packages\\tensorboard\\compat\\tensorflow_stub\\dtypes.py:550: FutureWarning: Passing (type, 1) or '1type' as a synonym of type is deprecated; in a future version of numpy, it will be understood as (type, (1,)) / '(1,)type'.\n",
      "  np_resource = np.dtype([(\"resource\", np.ubyte, 1)])\n"
     ]
    }
   ],
   "source": [
    "from tensorflow.keras.models import Sequential\n",
    "from tensorflow.keras.layers import Dense\n",
    "from tensorflow.keras.datasets import mnist\n",
    "from tensorflow.keras.utils import to_categorical\n",
    "\n",
    "import tensorflow as tf\n",
    "\n",
    "%matplotlib inline\n",
    "import warnings\n",
    "warnings.filterwarnings('ignore')"
   ]
  },
  {
   "cell_type": "code",
   "execution_count": 2,
   "metadata": {},
   "outputs": [],
   "source": [
    "(X_train, y_train), (X_test, y_test) = mnist.load_data()\n",
    "\n",
    "input_dim = 784\n",
    "output_dim = nb_classes = 10\n",
    "\n",
    "X_train = X_train.reshape(60000, input_dim)\n",
    "X_test = X_test.reshape(10000, input_dim)\n",
    "X_train = X_train.astype('float32')\n",
    "X_test = X_test.astype('float32')\n",
    "X_train /= 255\n",
    "X_test /= 255"
   ]
  },
  {
   "cell_type": "code",
   "execution_count": 3,
   "metadata": {},
   "outputs": [],
   "source": [
    "Y_train = to_categorical(y_train, nb_classes)\n",
    "Y_test = to_categorical(y_test, nb_classes)"
   ]
  },
  {
   "cell_type": "markdown",
   "metadata": {},
   "source": [
    "## Part I\n",
    "\n",
    "### I. Implement a three-layer ANN model with 128, 64, and 10 neurons in the layers. Use 8 as the mini-batch size."
   ]
  },
  {
   "cell_type": "code",
   "execution_count": 4,
   "metadata": {},
   "outputs": [
    {
     "name": "stdout",
     "output_type": "stream",
     "text": [
      "WARNING:tensorflow:From C:\\ProgramData\\Anaconda3\\lib\\site-packages\\tensorflow\\python\\ops\\init_ops.py:1251: calling VarianceScaling.__init__ (from tensorflow.python.ops.init_ops) with dtype is deprecated and will be removed in a future version.\n",
      "Instructions for updating:\n",
      "Call initializer instance with the dtype argument instead of passing it to the constructor\n"
     ]
    }
   ],
   "source": [
    "model = Sequential()\n",
    "\n",
    "model.add(Dense(128, input_shape=(784,), activation='relu'))\n",
    "model.add(Dense(64, activation='relu'))\n",
    "model.add(Dense(10, activation='softmax'))"
   ]
  },
  {
   "cell_type": "code",
   "execution_count": 5,
   "metadata": {},
   "outputs": [
    {
     "name": "stdout",
     "output_type": "stream",
     "text": [
      "Model: \"sequential\"\n",
      "_________________________________________________________________\n",
      "Layer (type)                 Output Shape              Param #   \n",
      "=================================================================\n",
      "dense (Dense)                (None, 128)               100480    \n",
      "_________________________________________________________________\n",
      "dense_1 (Dense)              (None, 64)                8256      \n",
      "_________________________________________________________________\n",
      "dense_2 (Dense)              (None, 10)                650       \n",
      "=================================================================\n",
      "Total params: 109,386\n",
      "Trainable params: 109,386\n",
      "Non-trainable params: 0\n",
      "_________________________________________________________________\n"
     ]
    }
   ],
   "source": [
    "model.summary()"
   ]
  },
  {
   "cell_type": "code",
   "execution_count": 6,
   "metadata": {},
   "outputs": [],
   "source": [
    "model.compile(optimizer='sgd', loss='categorical_crossentropy', metrics=['accuracy'])"
   ]
  },
  {
   "cell_type": "code",
   "execution_count": 7,
   "metadata": {},
   "outputs": [
    {
     "name": "stdout",
     "output_type": "stream",
     "text": [
      "Train on 60000 samples, validate on 10000 samples\n",
      "Epoch 1/20\n",
      "60000/60000 [==============================] - 16s 275us/sample - loss: 0.3680 - acc: 0.8957 - val_loss: 0.1994 - val_acc: 0.9423\n",
      "Epoch 2/20\n",
      "60000/60000 [==============================] - 10s 168us/sample - loss: 0.1756 - acc: 0.9483 - val_loss: 0.1395 - val_acc: 0.9578\n",
      "Epoch 3/20\n",
      "60000/60000 [==============================] - 9s 147us/sample - loss: 0.1269 - acc: 0.9628 - val_loss: 0.1132 - val_acc: 0.9662\n",
      "Epoch 4/20\n",
      "60000/60000 [==============================] - 9s 145us/sample - loss: 0.1004 - acc: 0.9704 - val_loss: 0.0960 - val_acc: 0.9711\n",
      "Epoch 5/20\n",
      "60000/60000 [==============================] - 9s 146us/sample - loss: 0.0820 - acc: 0.9761 - val_loss: 0.0900 - val_acc: 0.9730\n",
      "Epoch 6/20\n",
      "60000/60000 [==============================] - 9s 145us/sample - loss: 0.0691 - acc: 0.9795 - val_loss: 0.0858 - val_acc: 0.9723\n",
      "Epoch 7/20\n",
      "60000/60000 [==============================] - 9s 145us/sample - loss: 0.0585 - acc: 0.9827 - val_loss: 0.0769 - val_acc: 0.9756\n",
      "Epoch 8/20\n",
      "60000/60000 [==============================] - 9s 146us/sample - loss: 0.0503 - acc: 0.9851 - val_loss: 0.0733 - val_acc: 0.9776\n",
      "Epoch 9/20\n",
      "60000/60000 [==============================] - 9s 144us/sample - loss: 0.0436 - acc: 0.9873 - val_loss: 0.0766 - val_acc: 0.9759\n",
      "Epoch 10/20\n",
      "60000/60000 [==============================] - 9s 145us/sample - loss: 0.0381 - acc: 0.9889 - val_loss: 0.0735 - val_acc: 0.9773\n",
      "Epoch 11/20\n",
      "60000/60000 [==============================] - 9s 153us/sample - loss: 0.0333 - acc: 0.9903 - val_loss: 0.0759 - val_acc: 0.9768\n",
      "Epoch 12/20\n",
      "60000/60000 [==============================] - 13s 218us/sample - loss: 0.0287 - acc: 0.9918 - val_loss: 0.0702 - val_acc: 0.9772\n",
      "Epoch 13/20\n",
      "60000/60000 [==============================] - 9s 158us/sample - loss: 0.0252 - acc: 0.9927 - val_loss: 0.0708 - val_acc: 0.9778\n",
      "Epoch 14/20\n",
      "60000/60000 [==============================] - 13s 222us/sample - loss: 0.0214 - acc: 0.9946 - val_loss: 0.0695 - val_acc: 0.9791\n",
      "Epoch 15/20\n",
      "60000/60000 [==============================] - 9s 145us/sample - loss: 0.0194 - acc: 0.9948 - val_loss: 0.0744 - val_acc: 0.9782\n",
      "Epoch 16/20\n",
      "60000/60000 [==============================] - 9s 145us/sample - loss: 0.0162 - acc: 0.9965 - val_loss: 0.0749 - val_acc: 0.9772\n",
      "Epoch 17/20\n",
      "60000/60000 [==============================] - 9s 145us/sample - loss: 0.0141 - acc: 0.9970 - val_loss: 0.0699 - val_acc: 0.9793\n",
      "Epoch 18/20\n",
      "60000/60000 [==============================] - 9s 145us/sample - loss: 0.0119 - acc: 0.9977 - val_loss: 0.0683 - val_acc: 0.9790\n",
      "Epoch 19/20\n",
      "60000/60000 [==============================] - 9s 145us/sample - loss: 0.0100 - acc: 0.9983 - val_loss: 0.0731 - val_acc: 0.9788\n",
      "Epoch 20/20\n",
      "60000/60000 [==============================] - 9s 147us/sample - loss: 0.0088 - acc: 0.9987 - val_loss: 0.0716 - val_acc: 0.9788\n"
     ]
    },
    {
     "data": {
      "text/plain": [
       "<tensorflow.python.keras.callbacks.History at 0x1d2ad3a19c8>"
      ]
     },
     "execution_count": 7,
     "metadata": {},
     "output_type": "execute_result"
    }
   ],
   "source": [
    "model.fit(X_train, Y_train, batch_size=8, epochs=20, verbose=1, validation_data=[X_test, Y_test])"
   ]
  },
  {
   "cell_type": "code",
   "execution_count": 8,
   "metadata": {},
   "outputs": [
    {
     "name": "stdout",
     "output_type": "stream",
     "text": [
      "Test Score:0.07162760021513823\n",
      "Test Accuracy:0.9787999987602234\n"
     ]
    }
   ],
   "source": [
    "score = model.evaluate(X_test, Y_test, verbose=0)\n",
    "print('Test Score:{}'.format(score[0]))\n",
    "print('Test Accuracy:{}'.format(score[1])) "
   ]
  },
  {
   "cell_type": "markdown",
   "metadata": {},
   "source": [
    "### II. Implement a three-layer ANN model with 128, 64, and 10 neurons in the layers. Use 128 as the mini-batch size."
   ]
  },
  {
   "cell_type": "code",
   "execution_count": 9,
   "metadata": {},
   "outputs": [],
   "source": [
    "model = Sequential()\n",
    "\n",
    "model.add(Dense(128, input_shape=(784,), activation='relu'))\n",
    "model.add(Dense(64, activation='relu'))\n",
    "model.add(Dense(10, activation='softmax'))"
   ]
  },
  {
   "cell_type": "code",
   "execution_count": 10,
   "metadata": {},
   "outputs": [],
   "source": [
    "model.compile(optimizer='sgd', loss='categorical_crossentropy', metrics=['accuracy'])"
   ]
  },
  {
   "cell_type": "code",
   "execution_count": 11,
   "metadata": {},
   "outputs": [
    {
     "name": "stdout",
     "output_type": "stream",
     "text": [
      "Train on 60000 samples, validate on 10000 samples\n",
      "Epoch 1/20\n",
      "60000/60000 [==============================] - 1s 22us/sample - loss: 1.2011 - acc: 0.6988 - val_loss: 0.5815 - val_acc: 0.8564\n",
      "Epoch 2/20\n",
      "60000/60000 [==============================] - 1s 17us/sample - loss: 0.4856 - acc: 0.8727 - val_loss: 0.3980 - val_acc: 0.8910\n",
      "Epoch 3/20\n",
      "60000/60000 [==============================] - 1s 17us/sample - loss: 0.3803 - acc: 0.8946 - val_loss: 0.3374 - val_acc: 0.9035\n",
      "Epoch 4/20\n",
      "60000/60000 [==============================] - 1s 18us/sample - loss: 0.3350 - acc: 0.9056 - val_loss: 0.3074 - val_acc: 0.9119\n",
      "Epoch 5/20\n",
      "60000/60000 [==============================] - 1s 17us/sample - loss: 0.3067 - acc: 0.9129 - val_loss: 0.2847 - val_acc: 0.9206\n",
      "Epoch 6/20\n",
      "60000/60000 [==============================] - 1s 17us/sample - loss: 0.2857 - acc: 0.9185 - val_loss: 0.2671 - val_acc: 0.9251\n",
      "Epoch 7/20\n",
      "60000/60000 [==============================] - 1s 17us/sample - loss: 0.2688 - acc: 0.9238 - val_loss: 0.2520 - val_acc: 0.9279\n",
      "Epoch 8/20\n",
      "60000/60000 [==============================] - 1s 17us/sample - loss: 0.2547 - acc: 0.9282 - val_loss: 0.2426 - val_acc: 0.9329\n",
      "Epoch 9/20\n",
      "60000/60000 [==============================] - 1s 17us/sample - loss: 0.2424 - acc: 0.9312 - val_loss: 0.2318 - val_acc: 0.9350\n",
      "Epoch 10/20\n",
      "60000/60000 [==============================] - 1s 17us/sample - loss: 0.2318 - acc: 0.9344 - val_loss: 0.2203 - val_acc: 0.9373\n",
      "Epoch 11/20\n",
      "60000/60000 [==============================] - 1s 18us/sample - loss: 0.2221 - acc: 0.9374 - val_loss: 0.2128 - val_acc: 0.9401\n",
      "Epoch 12/20\n",
      "60000/60000 [==============================] - 1s 17us/sample - loss: 0.2136 - acc: 0.9397 - val_loss: 0.2062 - val_acc: 0.9401\n",
      "Epoch 13/20\n",
      "60000/60000 [==============================] - 1s 17us/sample - loss: 0.2057 - acc: 0.9416 - val_loss: 0.1992 - val_acc: 0.9430\n",
      "Epoch 14/20\n",
      "60000/60000 [==============================] - 1s 17us/sample - loss: 0.1986 - acc: 0.9438 - val_loss: 0.1934 - val_acc: 0.9446\n",
      "Epoch 15/20\n",
      "60000/60000 [==============================] - 1s 17us/sample - loss: 0.1922 - acc: 0.9453 - val_loss: 0.1877 - val_acc: 0.9466\n",
      "Epoch 16/20\n",
      "60000/60000 [==============================] - 1s 17us/sample - loss: 0.1862 - acc: 0.9470 - val_loss: 0.1843 - val_acc: 0.9479\n",
      "Epoch 17/20\n",
      "60000/60000 [==============================] - 1s 18us/sample - loss: 0.1804 - acc: 0.9490 - val_loss: 0.1765 - val_acc: 0.9489\n",
      "Epoch 18/20\n",
      "60000/60000 [==============================] - 1s 17us/sample - loss: 0.1752 - acc: 0.9508 - val_loss: 0.1729 - val_acc: 0.9493\n",
      "Epoch 19/20\n",
      "60000/60000 [==============================] - 1s 17us/sample - loss: 0.1702 - acc: 0.9521 - val_loss: 0.1696 - val_acc: 0.9508\n",
      "Epoch 20/20\n",
      "60000/60000 [==============================] - 1s 17us/sample - loss: 0.1656 - acc: 0.9528 - val_loss: 0.1662 - val_acc: 0.9505\n"
     ]
    },
    {
     "data": {
      "text/plain": [
       "<tensorflow.python.keras.callbacks.History at 0x1d2bbcdc108>"
      ]
     },
     "execution_count": 11,
     "metadata": {},
     "output_type": "execute_result"
    }
   ],
   "source": [
    "model.fit(X_train, Y_train, batch_size=128, epochs=20, verbose=1, validation_data=[X_test, Y_test])"
   ]
  },
  {
   "cell_type": "code",
   "execution_count": 12,
   "metadata": {},
   "outputs": [
    {
     "name": "stdout",
     "output_type": "stream",
     "text": [
      "Test Score:0.16621438756808637\n",
      "Test Accuracy:0.9505000114440918\n"
     ]
    }
   ],
   "source": [
    "score = model.evaluate(X_test, Y_test, verbose=0)\n",
    "print('Test Score:{}'.format(score[0]))\n",
    "print('Test Accuracy:{}'.format(score[1]))"
   ]
  },
  {
   "cell_type": "markdown",
   "metadata": {},
   "source": [
    "### III. Implement a three-layer ANN model with 128, 64, and 10 neurons in the layers. Use the full sample as the batch size."
   ]
  },
  {
   "cell_type": "code",
   "execution_count": 13,
   "metadata": {},
   "outputs": [],
   "source": [
    "model = Sequential()\n",
    "\n",
    "model.add(Dense(128, input_shape=(784,), activation='relu'))\n",
    "model.add(Dense(64, activation='relu'))\n",
    "model.add(Dense(10, activation='softmax'))"
   ]
  },
  {
   "cell_type": "code",
   "execution_count": 14,
   "metadata": {},
   "outputs": [],
   "source": [
    "model.compile(optimizer='sgd', loss='categorical_crossentropy', metrics=['accuracy'])"
   ]
  },
  {
   "cell_type": "code",
   "execution_count": 15,
   "metadata": {},
   "outputs": [
    {
     "name": "stdout",
     "output_type": "stream",
     "text": [
      "Train on 60000 samples, validate on 10000 samples\n",
      "Epoch 1/20\n",
      "60000/60000 [==============================] - 1s 10us/sample - loss: 2.3470 - acc: 0.0978 - val_loss: 2.3423 - val_acc: 0.1010\n",
      "Epoch 2/20\n",
      "60000/60000 [==============================] - 0s 7us/sample - loss: 2.3410 - acc: 0.0989 - val_loss: 2.3363 - val_acc: 0.1015\n",
      "Epoch 3/20\n",
      "60000/60000 [==============================] - 0s 7us/sample - loss: 2.3352 - acc: 0.0999 - val_loss: 2.3305 - val_acc: 0.1019\n",
      "Epoch 4/20\n",
      "60000/60000 [==============================] - 0s 8us/sample - loss: 2.3295 - acc: 0.1010 - val_loss: 2.3248 - val_acc: 0.1032\n",
      "Epoch 5/20\n",
      "60000/60000 [==============================] - 0s 7us/sample - loss: 2.3239 - acc: 0.1022 - val_loss: 2.3192 - val_acc: 0.1048\n",
      "Epoch 6/20\n",
      "60000/60000 [==============================] - 0s 8us/sample - loss: 2.3185 - acc: 0.1039 - val_loss: 2.3138 - val_acc: 0.1061\n",
      "Epoch 7/20\n",
      "60000/60000 [==============================] - 0s 7us/sample - loss: 2.3132 - acc: 0.1052 - val_loss: 2.3085 - val_acc: 0.1078\n",
      "Epoch 8/20\n",
      "60000/60000 [==============================] - 0s 7us/sample - loss: 2.3080 - acc: 0.1068 - val_loss: 2.3032 - val_acc: 0.1094\n",
      "Epoch 9/20\n",
      "60000/60000 [==============================] - 0s 7us/sample - loss: 2.3029 - acc: 0.1084 - val_loss: 2.2981 - val_acc: 0.1115\n",
      "Epoch 10/20\n",
      "60000/60000 [==============================] - 0s 7us/sample - loss: 2.2978 - acc: 0.1104 - val_loss: 2.2931 - val_acc: 0.1132\n",
      "Epoch 11/20\n",
      "60000/60000 [==============================] - 0s 8us/sample - loss: 2.2929 - acc: 0.1122 - val_loss: 2.2881 - val_acc: 0.1155\n",
      "Epoch 12/20\n",
      "60000/60000 [==============================] - 0s 7us/sample - loss: 2.2881 - acc: 0.1138 - val_loss: 2.2832 - val_acc: 0.1174\n",
      "Epoch 13/20\n",
      "60000/60000 [==============================] - 1s 8us/sample - loss: 2.2833 - acc: 0.1158 - val_loss: 2.2784 - val_acc: 0.1199\n",
      "Epoch 14/20\n",
      "60000/60000 [==============================] - 0s 7us/sample - loss: 2.2786 - acc: 0.1178 - val_loss: 2.2736 - val_acc: 0.1218\n",
      "Epoch 15/20\n",
      "60000/60000 [==============================] - 0s 7us/sample - loss: 2.2740 - acc: 0.1198 - val_loss: 2.2690 - val_acc: 0.1244\n",
      "Epoch 16/20\n",
      "60000/60000 [==============================] - 0s 7us/sample - loss: 2.2694 - acc: 0.1225 - val_loss: 2.2643 - val_acc: 0.1270\n",
      "Epoch 17/20\n",
      "60000/60000 [==============================] - 0s 8us/sample - loss: 2.2649 - acc: 0.1251 - val_loss: 2.2598 - val_acc: 0.1314\n",
      "Epoch 18/20\n",
      "60000/60000 [==============================] - 0s 7us/sample - loss: 2.2605 - acc: 0.1277 - val_loss: 2.2552 - val_acc: 0.1336\n",
      "Epoch 19/20\n",
      "60000/60000 [==============================] - 0s 7us/sample - loss: 2.2561 - acc: 0.1304 - val_loss: 2.2508 - val_acc: 0.1364\n",
      "Epoch 20/20\n",
      "60000/60000 [==============================] - 0s 7us/sample - loss: 2.2517 - acc: 0.1337 - val_loss: 2.2463 - val_acc: 0.1397\n"
     ]
    },
    {
     "data": {
      "text/plain": [
       "<tensorflow.python.keras.callbacks.History at 0x1d2bd009e08>"
      ]
     },
     "execution_count": 15,
     "metadata": {},
     "output_type": "execute_result"
    }
   ],
   "source": [
    "model.fit(X_train, Y_train, batch_size=X_train.shape[0], epochs=20, verbose=1, validation_data=[X_test, Y_test])"
   ]
  },
  {
   "cell_type": "code",
   "execution_count": 16,
   "metadata": {
    "scrolled": true
   },
   "outputs": [
    {
     "name": "stdout",
     "output_type": "stream",
     "text": [
      "Test Score:2.2463470638275145\n",
      "Test Accuracy:0.1396999955177307\n"
     ]
    }
   ],
   "source": [
    "score = model.evaluate(X_test, Y_test, verbose=0)\n",
    "print('Test Score:{}'.format(score[0]))\n",
    "print('Test Accuracy:{}'.format(score[1]))"
   ]
  },
  {
   "cell_type": "markdown",
   "metadata": {},
   "source": [
    "#### Part I Summary.\n",
    "\n",
    "Amongst the 3 models above, the first model with a batch size of 8 performed its best with a low score of 0.072 and an Accuracy of .98"
   ]
  },
  {
   "cell_type": "markdown",
   "metadata": {},
   "source": [
    "## Part II\n",
    "\n",
    "### I. Implement a three-layer ANN model with 128, 64, and 10 neurons in the layers. Use 0.01 as the learning rate."
   ]
  },
  {
   "cell_type": "code",
   "execution_count": 17,
   "metadata": {},
   "outputs": [],
   "source": [
    "model = Sequential()\n",
    "\n",
    "model.add(Dense(128, input_shape=(784,), activation='relu'))\n",
    "model.add(Dense(64, activation='relu'))\n",
    "model.add(Dense(10, activation='softmax'))"
   ]
  },
  {
   "cell_type": "code",
   "execution_count": 18,
   "metadata": {},
   "outputs": [
    {
     "name": "stdout",
     "output_type": "stream",
     "text": [
      "Model: \"sequential_3\"\n",
      "_________________________________________________________________\n",
      "Layer (type)                 Output Shape              Param #   \n",
      "=================================================================\n",
      "dense_9 (Dense)              (None, 128)               100480    \n",
      "_________________________________________________________________\n",
      "dense_10 (Dense)             (None, 64)                8256      \n",
      "_________________________________________________________________\n",
      "dense_11 (Dense)             (None, 10)                650       \n",
      "=================================================================\n",
      "Total params: 109,386\n",
      "Trainable params: 109,386\n",
      "Non-trainable params: 0\n",
      "_________________________________________________________________\n"
     ]
    }
   ],
   "source": [
    "model.summary()"
   ]
  },
  {
   "cell_type": "code",
   "execution_count": 19,
   "metadata": {},
   "outputs": [],
   "source": [
    "model.compile(optimizer=tf.keras.optimizers.SGD(lr=.01), loss='categorical_crossentropy', metrics=['accuracy'])"
   ]
  },
  {
   "cell_type": "code",
   "execution_count": 20,
   "metadata": {},
   "outputs": [
    {
     "name": "stdout",
     "output_type": "stream",
     "text": [
      "Train on 60000 samples, validate on 10000 samples\n",
      "Epoch 1/20\n",
      "60000/60000 [==============================] - 1s 20us/sample - loss: 1.3317 - acc: 0.6433 - val_loss: 0.6425 - val_acc: 0.8530\n",
      "Epoch 2/20\n",
      "60000/60000 [==============================] - 1s 19us/sample - loss: 0.5307 - acc: 0.8627 - val_loss: 0.4169 - val_acc: 0.8892\n",
      "Epoch 3/20\n",
      "60000/60000 [==============================] - 1s 18us/sample - loss: 0.4025 - acc: 0.8896 - val_loss: 0.3500 - val_acc: 0.9037\n",
      "Epoch 4/20\n",
      "60000/60000 [==============================] - 1s 17us/sample - loss: 0.3509 - acc: 0.9017 - val_loss: 0.3125 - val_acc: 0.9112\n",
      "Epoch 5/20\n",
      "60000/60000 [==============================] - 1s 17us/sample - loss: 0.3204 - acc: 0.9104 - val_loss: 0.2906 - val_acc: 0.9176\n",
      "Epoch 6/20\n",
      "60000/60000 [==============================] - 1s 17us/sample - loss: 0.2991 - acc: 0.9151 - val_loss: 0.2749 - val_acc: 0.9208\n",
      "Epoch 7/20\n",
      "60000/60000 [==============================] - 1s 17us/sample - loss: 0.2821 - acc: 0.9197 - val_loss: 0.2629 - val_acc: 0.9248\n",
      "Epoch 8/20\n",
      "60000/60000 [==============================] - 1s 18us/sample - loss: 0.2683 - acc: 0.9236 - val_loss: 0.2518 - val_acc: 0.9275\n",
      "Epoch 9/20\n",
      "60000/60000 [==============================] - 1s 19us/sample - loss: 0.2561 - acc: 0.9267 - val_loss: 0.2400 - val_acc: 0.9303\n",
      "Epoch 10/20\n",
      "60000/60000 [==============================] - 1s 20us/sample - loss: 0.2452 - acc: 0.9301 - val_loss: 0.2327 - val_acc: 0.9316\n",
      "Epoch 11/20\n",
      "60000/60000 [==============================] - 1s 18us/sample - loss: 0.2357 - acc: 0.9330 - val_loss: 0.2235 - val_acc: 0.9354\n",
      "Epoch 12/20\n",
      "60000/60000 [==============================] - 1s 19us/sample - loss: 0.2266 - acc: 0.9350 - val_loss: 0.2164 - val_acc: 0.9376\n",
      "Epoch 13/20\n",
      "60000/60000 [==============================] - 1s 18us/sample - loss: 0.2184 - acc: 0.9375 - val_loss: 0.2097 - val_acc: 0.9389\n",
      "Epoch 14/20\n",
      "60000/60000 [==============================] - 1s 19us/sample - loss: 0.2107 - acc: 0.9400 - val_loss: 0.2036 - val_acc: 0.9406\n",
      "Epoch 15/20\n",
      "60000/60000 [==============================] - 1s 18us/sample - loss: 0.2037 - acc: 0.9418 - val_loss: 0.1974 - val_acc: 0.9431\n",
      "Epoch 16/20\n",
      "60000/60000 [==============================] - 1s 19us/sample - loss: 0.1967 - acc: 0.9439 - val_loss: 0.1918 - val_acc: 0.9449\n",
      "Epoch 17/20\n",
      "60000/60000 [==============================] - 1s 18us/sample - loss: 0.1904 - acc: 0.9457 - val_loss: 0.1854 - val_acc: 0.9465\n",
      "Epoch 18/20\n",
      "60000/60000 [==============================] - 1s 18us/sample - loss: 0.1842 - acc: 0.9475 - val_loss: 0.1821 - val_acc: 0.9467\n",
      "Epoch 19/20\n",
      "60000/60000 [==============================] - 1s 18us/sample - loss: 0.1786 - acc: 0.9485 - val_loss: 0.1777 - val_acc: 0.9483\n",
      "Epoch 20/20\n",
      "60000/60000 [==============================] - 1s 18us/sample - loss: 0.1733 - acc: 0.9504 - val_loss: 0.1726 - val_acc: 0.9500\n"
     ]
    },
    {
     "data": {
      "text/plain": [
       "<tensorflow.python.keras.callbacks.History at 0x1d2bd2ac8c8>"
      ]
     },
     "execution_count": 20,
     "metadata": {},
     "output_type": "execute_result"
    }
   ],
   "source": [
    "model.fit(X_train, Y_train, batch_size=128, epochs=20, verbose=1, validation_data=[X_test, Y_test])"
   ]
  },
  {
   "cell_type": "code",
   "execution_count": 21,
   "metadata": {},
   "outputs": [
    {
     "name": "stdout",
     "output_type": "stream",
     "text": [
      "Test Score:0.172567222391814\n",
      "Test Accuracy:0.949999988079071\n"
     ]
    }
   ],
   "source": [
    "score = model.evaluate(X_test, Y_test, verbose=0)\n",
    "print('Test Score:{}'.format(score[0]))\n",
    "print('Test Accuracy:{}'.format(score[1])) "
   ]
  },
  {
   "cell_type": "markdown",
   "metadata": {},
   "source": [
    "### II. Implement a three-layer ANN model with 128, 64, and 10 neurons in the layers. Use 100 as the learning rate."
   ]
  },
  {
   "cell_type": "code",
   "execution_count": 22,
   "metadata": {},
   "outputs": [],
   "source": [
    "model = Sequential()\n",
    "\n",
    "model.add(Dense(128, input_shape=(784,), activation='relu'))\n",
    "model.add(Dense(64, activation='relu'))\n",
    "model.add(Dense(10, activation='softmax'))"
   ]
  },
  {
   "cell_type": "code",
   "execution_count": 23,
   "metadata": {},
   "outputs": [
    {
     "name": "stdout",
     "output_type": "stream",
     "text": [
      "Model: \"sequential_4\"\n",
      "_________________________________________________________________\n",
      "Layer (type)                 Output Shape              Param #   \n",
      "=================================================================\n",
      "dense_12 (Dense)             (None, 128)               100480    \n",
      "_________________________________________________________________\n",
      "dense_13 (Dense)             (None, 64)                8256      \n",
      "_________________________________________________________________\n",
      "dense_14 (Dense)             (None, 10)                650       \n",
      "=================================================================\n",
      "Total params: 109,386\n",
      "Trainable params: 109,386\n",
      "Non-trainable params: 0\n",
      "_________________________________________________________________\n"
     ]
    }
   ],
   "source": [
    "model.summary()"
   ]
  },
  {
   "cell_type": "code",
   "execution_count": 24,
   "metadata": {},
   "outputs": [],
   "source": [
    "model.compile(optimizer=tf.keras.optimizers.SGD(lr=100), loss='categorical_crossentropy', metrics=['accuracy'])"
   ]
  },
  {
   "cell_type": "code",
   "execution_count": 25,
   "metadata": {},
   "outputs": [
    {
     "name": "stdout",
     "output_type": "stream",
     "text": [
      "Train on 60000 samples, validate on 10000 samples\n",
      "Epoch 1/20\n",
      "60000/60000 [==============================] - 1s 23us/sample - loss: nan - acc: 0.0985 - val_loss: nan - val_acc: 0.0980\n",
      "Epoch 2/20\n",
      "60000/60000 [==============================] - 1s 21us/sample - loss: nan - acc: 0.0987 - val_loss: nan - val_acc: 0.0980\n",
      "Epoch 3/20\n",
      "60000/60000 [==============================] - 1s 18us/sample - loss: nan - acc: 0.0987 - val_loss: nan - val_acc: 0.0980\n",
      "Epoch 4/20\n",
      "60000/60000 [==============================] - 1s 19us/sample - loss: nan - acc: 0.0987 - val_loss: nan - val_acc: 0.0980\n",
      "Epoch 5/20\n",
      "60000/60000 [==============================] - 1s 18us/sample - loss: nan - acc: 0.0987 - val_loss: nan - val_acc: 0.0980\n",
      "Epoch 6/20\n",
      "60000/60000 [==============================] - 1s 19us/sample - loss: nan - acc: 0.0987 - val_loss: nan - val_acc: 0.0980\n",
      "Epoch 7/20\n",
      "60000/60000 [==============================] - 1s 18us/sample - loss: nan - acc: 0.0987 - val_loss: nan - val_acc: 0.0980\n",
      "Epoch 8/20\n",
      "60000/60000 [==============================] - 1s 18us/sample - loss: nan - acc: 0.0987 - val_loss: nan - val_acc: 0.0980\n",
      "Epoch 9/20\n",
      "60000/60000 [==============================] - 1s 18us/sample - loss: nan - acc: 0.0987 - val_loss: nan - val_acc: 0.0980\n",
      "Epoch 10/20\n",
      "60000/60000 [==============================] - 1s 19us/sample - loss: nan - acc: 0.0987 - val_loss: nan - val_acc: 0.0980\n",
      "Epoch 11/20\n",
      "60000/60000 [==============================] - 1s 18us/sample - loss: nan - acc: 0.0987 - val_loss: nan - val_acc: 0.0980\n",
      "Epoch 12/20\n",
      "60000/60000 [==============================] - 1s 18us/sample - loss: nan - acc: 0.0987 - val_loss: nan - val_acc: 0.0980\n",
      "Epoch 13/20\n",
      "60000/60000 [==============================] - 1s 18us/sample - loss: nan - acc: 0.0987 - val_loss: nan - val_acc: 0.0980\n",
      "Epoch 14/20\n",
      "60000/60000 [==============================] - 1s 18us/sample - loss: nan - acc: 0.0987 - val_loss: nan - val_acc: 0.0980\n",
      "Epoch 15/20\n",
      "60000/60000 [==============================] - 1s 18us/sample - loss: nan - acc: 0.0987 - val_loss: nan - val_acc: 0.0980\n",
      "Epoch 16/20\n",
      "60000/60000 [==============================] - 1s 18us/sample - loss: nan - acc: 0.0987 - val_loss: nan - val_acc: 0.0980\n",
      "Epoch 17/20\n",
      "60000/60000 [==============================] - 1s 18us/sample - loss: nan - acc: 0.0987 - val_loss: nan - val_acc: 0.0980\n",
      "Epoch 18/20\n",
      "60000/60000 [==============================] - 1s 18us/sample - loss: nan - acc: 0.0987 - val_loss: nan - val_acc: 0.0980\n",
      "Epoch 19/20\n",
      "60000/60000 [==============================] - 1s 18us/sample - loss: nan - acc: 0.0987 - val_loss: nan - val_acc: 0.0980\n",
      "Epoch 20/20\n",
      "60000/60000 [==============================] - 1s 18us/sample - loss: nan - acc: 0.0987 - val_loss: nan - val_acc: 0.0980\n"
     ]
    },
    {
     "data": {
      "text/plain": [
       "<tensorflow.python.keras.callbacks.History at 0x1d2be4f3c48>"
      ]
     },
     "execution_count": 25,
     "metadata": {},
     "output_type": "execute_result"
    }
   ],
   "source": [
    "model.fit(X_train, Y_train, batch_size=128, epochs=20, verbose=1, validation_data=[X_test, Y_test])"
   ]
  },
  {
   "cell_type": "code",
   "execution_count": 26,
   "metadata": {},
   "outputs": [
    {
     "name": "stdout",
     "output_type": "stream",
     "text": [
      "Test Score:nan\n",
      "Test Accuracy:0.09799999743700027\n"
     ]
    }
   ],
   "source": [
    "score = model.evaluate(X_test, Y_test, verbose=0)\n",
    "print('Test Score:{}'.format(score[0]))\n",
    "print('Test Accuracy:{}'.format(score[1])) "
   ]
  },
  {
   "cell_type": "markdown",
   "metadata": {},
   "source": [
    "### III. Implement a three-layer ANN model with 128, 64, and 10 neurons in the layers. Use 0.0000001 as the learning rate."
   ]
  },
  {
   "cell_type": "code",
   "execution_count": 27,
   "metadata": {},
   "outputs": [],
   "source": [
    "model = Sequential()\n",
    "\n",
    "model.add(Dense(128, input_shape=(784,), activation='relu'))\n",
    "model.add(Dense(64, activation='relu'))\n",
    "model.add(Dense(10, activation='softmax'))"
   ]
  },
  {
   "cell_type": "code",
   "execution_count": 28,
   "metadata": {},
   "outputs": [
    {
     "name": "stdout",
     "output_type": "stream",
     "text": [
      "Model: \"sequential_5\"\n",
      "_________________________________________________________________\n",
      "Layer (type)                 Output Shape              Param #   \n",
      "=================================================================\n",
      "dense_15 (Dense)             (None, 128)               100480    \n",
      "_________________________________________________________________\n",
      "dense_16 (Dense)             (None, 64)                8256      \n",
      "_________________________________________________________________\n",
      "dense_17 (Dense)             (None, 10)                650       \n",
      "=================================================================\n",
      "Total params: 109,386\n",
      "Trainable params: 109,386\n",
      "Non-trainable params: 0\n",
      "_________________________________________________________________\n"
     ]
    }
   ],
   "source": [
    "model.summary()"
   ]
  },
  {
   "cell_type": "code",
   "execution_count": 29,
   "metadata": {},
   "outputs": [],
   "source": [
    "model.compile(optimizer=tf.keras.optimizers.SGD(lr=0.0000001), loss='categorical_crossentropy', metrics=['accuracy'])"
   ]
  },
  {
   "cell_type": "code",
   "execution_count": 30,
   "metadata": {},
   "outputs": [
    {
     "name": "stdout",
     "output_type": "stream",
     "text": [
      "Train on 60000 samples, validate on 10000 samples\n",
      "Epoch 1/20\n",
      "60000/60000 [==============================] - 1s 24us/sample - loss: 2.3688 - acc: 0.0741 - val_loss: 2.3689 - val_acc: 0.0736\n",
      "Epoch 2/20\n",
      "60000/60000 [==============================] - 1s 19us/sample - loss: 2.3688 - acc: 0.0741 - val_loss: 2.3689 - val_acc: 0.0737\n",
      "Epoch 3/20\n",
      "60000/60000 [==============================] - 1s 19us/sample - loss: 2.3688 - acc: 0.0741 - val_loss: 2.3689 - val_acc: 0.0738\n",
      "Epoch 4/20\n",
      "60000/60000 [==============================] - 1s 18us/sample - loss: 2.3688 - acc: 0.0741 - val_loss: 2.3689 - val_acc: 0.0738\n",
      "Epoch 5/20\n",
      "60000/60000 [==============================] - 1s 18us/sample - loss: 2.3688 - acc: 0.0741 - val_loss: 2.3689 - val_acc: 0.0738\n",
      "Epoch 6/20\n",
      "60000/60000 [==============================] - 1s 19us/sample - loss: 2.3688 - acc: 0.0741 - val_loss: 2.3689 - val_acc: 0.0738\n",
      "Epoch 7/20\n",
      "60000/60000 [==============================] - 1s 19us/sample - loss: 2.3688 - acc: 0.0742 - val_loss: 2.3689 - val_acc: 0.0738\n",
      "Epoch 8/20\n",
      "60000/60000 [==============================] - 1s 19us/sample - loss: 2.3687 - acc: 0.0741 - val_loss: 2.3688 - val_acc: 0.0739\n",
      "Epoch 9/20\n",
      "60000/60000 [==============================] - 1s 19us/sample - loss: 2.3687 - acc: 0.0741 - val_loss: 2.3688 - val_acc: 0.0739\n",
      "Epoch 10/20\n",
      "60000/60000 [==============================] - 1s 20us/sample - loss: 2.3687 - acc: 0.0741 - val_loss: 2.3688 - val_acc: 0.0739\n",
      "Epoch 11/20\n",
      "60000/60000 [==============================] - 1s 18us/sample - loss: 2.3687 - acc: 0.0741 - val_loss: 2.3688 - val_acc: 0.0739\n",
      "Epoch 12/20\n",
      "60000/60000 [==============================] - 1s 19us/sample - loss: 2.3687 - acc: 0.0742 - val_loss: 2.3688 - val_acc: 0.0739\n",
      "Epoch 13/20\n",
      "60000/60000 [==============================] - 1s 19us/sample - loss: 2.3687 - acc: 0.0742 - val_loss: 2.3688 - val_acc: 0.0739\n",
      "Epoch 14/20\n",
      "60000/60000 [==============================] - 1s 18us/sample - loss: 2.3687 - acc: 0.0742 - val_loss: 2.3688 - val_acc: 0.0739\n",
      "Epoch 15/20\n",
      "60000/60000 [==============================] - 1s 18us/sample - loss: 2.3687 - acc: 0.0742 - val_loss: 2.3687 - val_acc: 0.0739\n",
      "Epoch 16/20\n",
      "60000/60000 [==============================] - 1s 18us/sample - loss: 2.3686 - acc: 0.0742 - val_loss: 2.3687 - val_acc: 0.0739\n",
      "Epoch 17/20\n",
      "60000/60000 [==============================] - 1s 18us/sample - loss: 2.3686 - acc: 0.0741 - val_loss: 2.3687 - val_acc: 0.0739\n",
      "Epoch 18/20\n",
      "60000/60000 [==============================] - 1s 18us/sample - loss: 2.3686 - acc: 0.0741 - val_loss: 2.3687 - val_acc: 0.0739\n",
      "Epoch 19/20\n",
      "60000/60000 [==============================] - 1s 18us/sample - loss: 2.3686 - acc: 0.0741 - val_loss: 2.3687 - val_acc: 0.0739\n",
      "Epoch 20/20\n",
      "60000/60000 [==============================] - 1s 18us/sample - loss: 2.3686 - acc: 0.0741 - val_loss: 2.3687 - val_acc: 0.0739\n"
     ]
    },
    {
     "data": {
      "text/plain": [
       "<tensorflow.python.keras.callbacks.History at 0x1d2be7c0648>"
      ]
     },
     "execution_count": 30,
     "metadata": {},
     "output_type": "execute_result"
    }
   ],
   "source": [
    "model.fit(X_train, Y_train, batch_size=128, epochs=20, verbose=1, validation_data=[X_test, Y_test])"
   ]
  },
  {
   "cell_type": "code",
   "execution_count": 31,
   "metadata": {},
   "outputs": [
    {
     "name": "stdout",
     "output_type": "stream",
     "text": [
      "Test Score:2.3686777114868165\n",
      "Test Accuracy:0.0738999992609024\n"
     ]
    }
   ],
   "source": [
    "score = model.evaluate(X_test, Y_test, verbose=0)\n",
    "print('Test Score:{}'.format(score[0]))\n",
    "print('Test Accuracy:{}'.format(score[1])) "
   ]
  },
  {
   "cell_type": "markdown",
   "metadata": {},
   "source": [
    "#### Part II Summary.\n",
    "\n",
    "Amongst the 3 models above, the first model with a batch size of 128  and a learning rate of .01 performed its best with a low score of 0.17 and an Accuracy of .95. The learning rate of .01 is the optimal learning rate among the 3 given. We cannot have a too large or too low learning rate when trying to reach the parameter with minimal lost. This model did not underestimate or overestimate."
   ]
  },
  {
   "cell_type": "code",
   "execution_count": null,
   "metadata": {},
   "outputs": [],
   "source": []
  }
 ],
 "metadata": {
  "kernelspec": {
   "display_name": "Python 3",
   "language": "python",
   "name": "python3"
  },
  "language_info": {
   "codemirror_mode": {
    "name": "ipython",
    "version": 3
   },
   "file_extension": ".py",
   "mimetype": "text/x-python",
   "name": "python",
   "nbconvert_exporter": "python",
   "pygments_lexer": "ipython3",
   "version": "3.7.7"
  }
 },
 "nbformat": 4,
 "nbformat_minor": 4
}
