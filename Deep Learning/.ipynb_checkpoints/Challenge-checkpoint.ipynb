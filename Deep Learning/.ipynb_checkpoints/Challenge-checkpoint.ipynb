{
 "cells": [
  {
   "cell_type": "code",
   "execution_count": 19,
   "metadata": {},
   "outputs": [],
   "source": [
    "from tensorflow.keras.models import Sequential\n",
    "from tensorflow.keras.layers import Dense\n",
    "from tensorflow.keras.datasets import mnist\n",
    "from tensorflow.keras.utils import to_categorical\n",
    "\n",
    "from sklearn.datasets import fetch_openml\n",
    "\n",
    "import tensorflow as tf\n",
    "\n",
    "%matplotlib inline\n",
    "import warnings\n",
    "warnings.filterwarnings('ignore')"
   ]
  },
  {
   "cell_type": "code",
   "execution_count": null,
   "metadata": {},
   "outputs": [],
   "source": [
    "fashion_df = fetch_openml('mnist_784', version=1, cache=True)"
   ]
  },
  {
   "cell_type": "code",
   "execution_count": null,
   "metadata": {},
   "outputs": [],
   "source": [
    "fashion_df"
   ]
  },
  {
   "cell_type": "code",
   "execution_count": null,
   "metadata": {},
   "outputs": [],
   "source": [
    "(X_train, y_train), (X_test, y_test) = tf.keras.datasets.fashion_mnist\n",
    "\n",
    "input_dim = 784\n",
    "output_dim = nb_classes = 10\n",
    "batch_size= 128\n",
    "nb_epoch =20\n",
    "\n",
    "indices = np.random.choice(70000,10000)\n",
    "X = fashion_df.data[indices] / 255.0\n",
    "y = fashion_df.target[indices]\n",
    "\n",
    "print(X.shape, y.shape)"
   ]
  },
  {
   "cell_type": "code",
   "execution_count": 4,
   "metadata": {},
   "outputs": [],
   "source": [
    "Y_train = to_categorical(y_train, nb_classes)\n",
    "Y_test = to_categorical(y_test, nb_classes)"
   ]
  },
  {
   "cell_type": "raw",
   "metadata": {},
   "source": [
    "X_train[0].shape"
   ]
  },
  {
   "cell_type": "code",
   "execution_count": 5,
   "metadata": {},
   "outputs": [
    {
     "data": {
      "image/png": "[encoded data removed]",
      "text/plain": [
       "<Figure size 1440x360 with 4 Axes>"
      ]
     },
     "metadata": {
      "needs_background": "light"
     },
     "output_type": "display_data"
    }
   ],
   "source": [
    "import matplotlib.pyplot as plt\n",
    "\n",
    "plt.figure(figsize=(20,5))\n",
    "\n",
    "plt.subplot(141)\n",
    "plt.imshow(X_train[123].reshape(28,28), cmap=\"gray\")\n",
    "plt.title(\"Label of the image: {}\".format(y_train[123]))\n",
    "\n",
    "plt.subplot(142)\n",
    "plt.imshow(X_train[124].reshape(28,28), cmap=\"gray\")\n",
    "plt.title(\"Label of the image: {}\".format(y_train[124]))\n",
    "\n",
    "plt.subplot(143)\n",
    "plt.imshow(X_train[125].reshape(28,28), cmap=\"gray\")\n",
    "plt.title(\"Label of the image: {}\".format(y_train[125]))\n",
    "\n",
    "plt.subplot(144)\n",
    "plt.imshow(X_train[126].reshape(28,28), cmap=\"gray\")\n",
    "plt.title(\"Label of the image: {}\".format(y_train[126]))\n",
    "\n",
    "plt.show()"
   ]
  },
  {
   "cell_type": "markdown",
   "metadata": {},
   "source": [
    "Model Creation with 2 hidden layers"
   ]
  },
  {
   "cell_type": "code",
   "execution_count": 13,
   "metadata": {},
   "outputs": [],
   "source": [
    "model = Sequential()\n",
    "\n",
    "model.add(Dense(32, input_shape=(784,), activation='relu'))\n",
    "model.add(tf.keras.layers.Dropout(.3))\n",
    "model.add(Dense(16, activation='relu'))\n",
    "model.add(tf.keras.layers.Dropout(.3))\n",
    "model.add(Dense(10, activation='softmax'))"
   ]
  },
  {
   "cell_type": "code",
   "execution_count": null,
   "metadata": {},
   "outputs": [],
   "source": []
  },
  {
   "cell_type": "code",
   "execution_count": 14,
   "metadata": {},
   "outputs": [
    {
     "name": "stdout",
     "output_type": "stream",
     "text": [
      "Model: \"sequential_2\"\n",
      "_________________________________________________________________\n",
      "Layer (type)                 Output Shape              Param #   \n",
      "=================================================================\n",
      "dense_6 (Dense)              (None, 32)                25120     \n",
      "_________________________________________________________________\n",
      "dropout_3 (Dropout)          (None, 32)                0         \n",
      "_________________________________________________________________\n",
      "dense_7 (Dense)              (None, 16)                528       \n",
      "_________________________________________________________________\n",
      "dropout_4 (Dropout)          (None, 16)                0         \n",
      "_________________________________________________________________\n",
      "dense_8 (Dense)              (None, 10)                170       \n",
      "=================================================================\n",
      "Total params: 25,818\n",
      "Trainable params: 25,818\n",
      "Non-trainable params: 0\n",
      "_________________________________________________________________\n"
     ]
    }
   ],
   "source": [
    "model.summary()"
   ]
  },
  {
   "cell_type": "code",
   "execution_count": 15,
   "metadata": {},
   "outputs": [],
   "source": [
    "model.compile(optimizer='sgd', loss='categorical_crossentropy', metrics=['accuracy'])"
   ]
  },
  {
   "cell_type": "code",
   "execution_count": 16,
   "metadata": {},
   "outputs": [
    {
     "name": "stdout",
     "output_type": "stream",
     "text": [
      "Train on 60000 samples, validate on 10000 samples\n",
      "Epoch 1/20\n",
      "60000/60000 [==============================] - 2s 26us/sample - loss: 2.0033 - acc: 0.2862 - val_loss: 1.5447 - val_acc: 0.5776\n",
      "Epoch 2/20\n",
      "60000/60000 [==============================] - 1s 25us/sample - loss: 1.5491 - acc: 0.4826 - val_loss: 1.0834 - val_acc: 0.7637\n",
      "Epoch 3/20\n",
      "60000/60000 [==============================] - 1s 23us/sample - loss: 1.2767 - acc: 0.5849 - val_loss: 0.7950 - val_acc: 0.8451\n",
      "Epoch 4/20\n",
      "60000/60000 [==============================] - 1s 23us/sample - loss: 1.0889 - acc: 0.6483 - val_loss: 0.6154 - val_acc: 0.8756\n",
      "Epoch 5/20\n",
      "60000/60000 [==============================] - 1s 23us/sample - loss: 0.9648 - acc: 0.6930 - val_loss: 0.5127 - val_acc: 0.8862\n",
      "Epoch 6/20\n",
      "60000/60000 [==============================] - 1s 22us/sample - loss: 0.8879 - acc: 0.7190 - val_loss: 0.4597 - val_acc: 0.8910\n",
      "Epoch 7/20\n",
      "60000/60000 [==============================] - 1s 22us/sample - loss: 0.8329 - acc: 0.7376 - val_loss: 0.4205 - val_acc: 0.8947\n",
      "Epoch 8/20\n",
      "60000/60000 [==============================] - 1s 23us/sample - loss: 0.7846 - acc: 0.7552 - val_loss: 0.3912 - val_acc: 0.8993\n",
      "Epoch 9/20\n",
      "60000/60000 [==============================] - 1s 24us/sample - loss: 0.7478 - acc: 0.7663 - val_loss: 0.3685 - val_acc: 0.9029\n",
      "Epoch 10/20\n",
      "60000/60000 [==============================] - 1s 23us/sample - loss: 0.7218 - acc: 0.7754 - val_loss: 0.3525 - val_acc: 0.9048\n",
      "Epoch 11/20\n",
      "60000/60000 [==============================] - 1s 23us/sample - loss: 0.7014 - acc: 0.7828 - val_loss: 0.3433 - val_acc: 0.9074\n",
      "Epoch 12/20\n",
      "60000/60000 [==============================] - 1s 24us/sample - loss: 0.6806 - acc: 0.7911 - val_loss: 0.3344 - val_acc: 0.9108\n",
      "Epoch 13/20\n",
      "60000/60000 [==============================] - 1s 24us/sample - loss: 0.6609 - acc: 0.7976 - val_loss: 0.3213 - val_acc: 0.9133\n",
      "Epoch 14/20\n",
      "60000/60000 [==============================] - 1s 22us/sample - loss: 0.6447 - acc: 0.8040 - val_loss: 0.3149 - val_acc: 0.9150\n",
      "Epoch 15/20\n",
      "60000/60000 [==============================] - 1s 22us/sample - loss: 0.6388 - acc: 0.8043 - val_loss: 0.3064 - val_acc: 0.9172\n",
      "Epoch 16/20\n",
      "60000/60000 [==============================] - 1s 22us/sample - loss: 0.6185 - acc: 0.8111 - val_loss: 0.2977 - val_acc: 0.9196\n",
      "Epoch 17/20\n",
      "60000/60000 [==============================] - 1s 22us/sample - loss: 0.6073 - acc: 0.8155 - val_loss: 0.2933 - val_acc: 0.9203\n",
      "Epoch 18/20\n",
      "60000/60000 [==============================] - 1s 23us/sample - loss: 0.6017 - acc: 0.8150 - val_loss: 0.2878 - val_acc: 0.9209\n",
      "Epoch 19/20\n",
      "60000/60000 [==============================] - 1s 22us/sample - loss: 0.5867 - acc: 0.8212 - val_loss: 0.2833 - val_acc: 0.9218\n",
      "Epoch 20/20\n",
      "60000/60000 [==============================] - 1s 23us/sample - loss: 0.5870 - acc: 0.8232 - val_loss: 0.2790 - val_acc: 0.9231\n"
     ]
    },
    {
     "data": {
      "text/plain": [
       "<tensorflow.python.keras.callbacks.History at 0x16b241e17c8>"
      ]
     },
     "execution_count": 16,
     "metadata": {},
     "output_type": "execute_result"
    }
   ],
   "source": [
    "model.fit(X_train, Y_train, batch_size=batch_size, epochs=20, verbose=1, validation_data=[X_test, Y_test])"
   ]
  },
  {
   "cell_type": "code",
   "execution_count": 17,
   "metadata": {},
   "outputs": [
    {
     "name": "stdout",
     "output_type": "stream",
     "text": [
      "Test Score:0.2790280567765236\n",
      "Test Accuracy:0.9230999946594238\n"
     ]
    }
   ],
   "source": [
    "score = model.evaluate(X_test, Y_test, verbose=0)\n",
    "print('Test Score:{}'.format(score[0])) #should be low\n",
    "print('Test Accuracy:{}'.format(score[1])) #Should be high"
   ]
  },
  {
   "cell_type": "markdown",
   "metadata": {},
   "source": [
    "In this task, you'll build an ANN and train and test it using the MNIST data. This ANN should consist of two hidden layers and one output layer. All of the hidden layers should be dense. The first layer and the second layer should have neuron sizes of 32 and 16, respectively. Train this model for 20 epochs, and compare your training and test set performance with the example in the checkpoint. Is there any difference? If so, why?\n",
    "\n",
    "Yes, there is a difference from the sample.--\n",
    "The newer model created above a bit lower than the sample. It has a score of .22 and an accuracy of .94. Where as the sample had an accuracy of .97\n",
    "\n",
    "This is due to the fact that a smaller size of neurons were used."
   ]
  },
  {
   "cell_type": "markdown",
   "metadata": {},
   "source": [
    "Model with 5 hidden layers"
   ]
  },
  {
   "cell_type": "code",
   "execution_count": 18,
   "metadata": {},
   "outputs": [],
   "source": [
    "model = Sequential()\n",
    "\n",
    "model.add(Dense(1024, input_shape=(784,), activation='relu'))\n",
    "model.add(Dense(512, activation='relu'))\n",
    "model.add(Dense(256, activation='relu'))\n",
    "model.add(Dense(125, activation='relu'))\n",
    "model.add(Dense(64, activation='relu'))\n",
    "model.add(Dense(10, activation='softmax'))"
   ]
  },
  {
   "cell_type": "code",
   "execution_count": 19,
   "metadata": {},
   "outputs": [],
   "source": [
    "model.compile(optimizer='sgd', loss='categorical_crossentropy', metrics=['accuracy'])"
   ]
  },
  {
   "cell_type": "code",
   "execution_count": 20,
   "metadata": {},
   "outputs": [
    {
     "name": "stdout",
     "output_type": "stream",
     "text": [
      "Train on 60000 samples, validate on 10000 samples\n",
      "Epoch 1/20\n",
      "60000/60000 [==============================] - 11s 182us/sample - loss: 1.3052 - acc: 0.6573 - val_loss: 0.4628 - val_acc: 0.8690\n",
      "Epoch 2/20\n",
      "60000/60000 [==============================] - 11s 181us/sample - loss: 0.3758 - acc: 0.8957 - val_loss: 0.3079 - val_acc: 0.9119\n",
      "Epoch 3/20\n",
      "60000/60000 [==============================] - 11s 181us/sample - loss: 0.2836 - acc: 0.9193 - val_loss: 0.2479 - val_acc: 0.9270\n",
      "Epoch 4/20\n",
      "60000/60000 [==============================] - 10s 173us/sample - loss: 0.2374 - acc: 0.9320 - val_loss: 0.2132 - val_acc: 0.9373 - loss: 0.2420\n",
      "Epoch 5/20\n",
      "60000/60000 [==============================] - 11s 179us/sample - loss: 0.2066 - acc: 0.9409 - val_loss: 0.1939 - val_acc: 0.9427\n",
      "Epoch 6/20\n",
      "60000/60000 [==============================] - 11s 188us/sample - loss: 0.1823 - acc: 0.9466 - val_loss: 0.1742 - val_acc: 0.9478\n",
      "Epoch 7/20\n",
      "60000/60000 [==============================] - 11s 180us/sample - loss: 0.1633 - acc: 0.9527 - val_loss: 0.1599 - val_acc: 0.9528\n",
      "Epoch 8/20\n",
      "60000/60000 [==============================] - 11s 180us/sample - loss: 0.1463 - acc: 0.9575 - val_loss: 0.1410 - val_acc: 0.9575\n",
      "Epoch 9/20\n",
      "60000/60000 [==============================] - 11s 176us/sample - loss: 0.1339 - acc: 0.9613 - val_loss: 0.1312 - val_acc: 0.9604\n",
      "Epoch 10/20\n",
      "60000/60000 [==============================] - 11s 176us/sample - loss: 0.1218 - acc: 0.9648 - val_loss: 0.1236 - val_acc: 0.9620\n",
      "Epoch 11/20\n",
      "60000/60000 [==============================] - 11s 179us/sample - loss: 0.1123 - acc: 0.9675 - val_loss: 0.1227 - val_acc: 0.9609\n",
      "Epoch 12/20\n",
      "60000/60000 [==============================] - 11s 176us/sample - loss: 0.1031 - acc: 0.9704 - val_loss: 0.1065 - val_acc: 0.9674\n",
      "Epoch 13/20\n",
      "60000/60000 [==============================] - 11s 178us/sample - loss: 0.0945 - acc: 0.9729 - val_loss: 0.1095 - val_acc: 0.9663\n",
      "Epoch 14/20\n",
      "60000/60000 [==============================] - 11s 177us/sample - loss: 0.0884 - acc: 0.9747 - val_loss: 0.1071 - val_acc: 0.9663\n",
      "Epoch 15/20\n",
      "60000/60000 [==============================] - 11s 179us/sample - loss: 0.0820 - acc: 0.9765 - val_loss: 0.0941 - val_acc: 0.9697\n",
      "Epoch 16/20\n",
      "60000/60000 [==============================] - 11s 181us/sample - loss: 0.0755 - acc: 0.9785 - val_loss: 0.0896 - val_acc: 0.9713\n",
      "Epoch 17/20\n",
      "60000/60000 [==============================] - 11s 177us/sample - loss: 0.0703 - acc: 0.9804 - val_loss: 0.0996 - val_acc: 0.9696\n",
      "Epoch 18/20\n",
      "60000/60000 [==============================] - 11s 179us/sample - loss: 0.0659 - acc: 0.9814 - val_loss: 0.0861 - val_acc: 0.9730\n",
      "Epoch 19/20\n",
      "60000/60000 [==============================] - 11s 178us/sample - loss: 0.0612 - acc: 0.9829 - val_loss: 0.0969 - val_acc: 0.9703\n",
      "Epoch 20/20\n",
      "60000/60000 [==============================] - 11s 178us/sample - loss: 0.0565 - acc: 0.9844 - val_loss: 0.0806 - val_acc: 0.9723\n"
     ]
    },
    {
     "data": {
      "text/plain": [
       "<tensorflow.python.keras.callbacks.History at 0x16b144219c8>"
      ]
     },
     "execution_count": 20,
     "metadata": {},
     "output_type": "execute_result"
    }
   ],
   "source": [
    "model.fit(X_train, Y_train, batch_size=batch_size, epochs=20, verbose=1, validation_data=[X_test, Y_test])"
   ]
  },
  {
   "cell_type": "code",
   "execution_count": 13,
   "metadata": {},
   "outputs": [
    {
     "name": "stdout",
     "output_type": "stream",
     "text": [
      "Test Score:0.08525895340256393\n",
      "Test Accuracy:0.9736999869346619\n"
     ]
    }
   ],
   "source": [
    "score = model.evaluate(X_test, Y_test, verbose=0)\n",
    "print('Test Score:{}'.format(score[0]))\n",
    "print('Test Accuracy:{}'.format(score[1]))"
   ]
  },
  {
   "cell_type": "markdown",
   "metadata": {},
   "source": [
    "This model showed a slight difference between the training and test set. The training set at 98% and the test set at 97%. This may due to the several layers which adds complexities to the model. The 1% gap can be a sign of over complexities."
   ]
  },
  {
   "cell_type": "code",
   "execution_count": null,
   "metadata": {},
   "outputs": [],
   "source": []
  }
 ],
 "metadata": {
  "kernelspec": {
   "display_name": "Python 3",
   "language": "python",
   "name": "python3"
  },
  "language_info": {
   "codemirror_mode": {
    "name": "ipython",
    "version": 3
   },
   "file_extension": ".py",
   "mimetype": "text/x-python",
   "name": "python",
   "nbconvert_exporter": "python",
   "pygments_lexer": "ipython3",
   "version": "3.7.7"
  }
 },
 "nbformat": 4,
 "nbformat_minor": 4
}
