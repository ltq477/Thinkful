{
 "cells": [
  {
   "cell_type": "markdown",
   "metadata": {},
   "source": [
    "Pick three or four of the countries in the sample and compare how often people took part in social activities, relative to others their age, in 2014. Are there differences, and if so, which countries stand out?"
   ]
  },
  {
   "cell_type": "code",
   "execution_count": 14,
   "metadata": {},
   "outputs": [],
   "source": [
    "import pandas as pd\n",
    "import numpy as np\n",
    "import matplotlib.pyplot as plt\n",
    "from scipy import stats"
   ]
  },
  {
   "cell_type": "code",
   "execution_count": 15,
   "metadata": {},
   "outputs": [],
   "source": [
    "ess = pd.read_csv('https://tf-assets-prod.s3.amazonaws.com/tf-curric/data-science/ess_combined_2012_2014.csv')"
   ]
  },
  {
   "cell_type": "code",
   "execution_count": 16,
   "metadata": {},
   "outputs": [
    {
     "name": "stdout",
     "output_type": "stream",
     "text": [
      "<class 'pandas.core.frame.DataFrame'>\n",
      "RangeIndex: 8147 entries, 0 to 8146\n",
      "Data columns (total 13 columns):\n",
      " #   Column   Non-Null Count  Dtype \n",
      "---  ------   --------------  ----- \n",
      " 0   cntry    8147 non-null   object\n",
      " 1   idno     8147 non-null   int64 \n",
      " 2   year     8147 non-null   int64 \n",
      " 3   tvtot    8147 non-null   int64 \n",
      " 4   ppltrst  8147 non-null   int64 \n",
      " 5   pplfair  8147 non-null   int64 \n",
      " 6   pplhlp   8147 non-null   int64 \n",
      " 7   happy    8147 non-null   int64 \n",
      " 8   sclmeet  8147 non-null   int64 \n",
      " 9   sclact   8147 non-null   int64 \n",
      " 10  gndr     8147 non-null   int64 \n",
      " 11  agea     8147 non-null   int64 \n",
      " 12  partner  8147 non-null   int64 \n",
      "dtypes: int64(12), object(1)\n",
      "memory usage: 827.6+ KB\n"
     ]
    },
    {
     "data": {
      "text/html": [
       "<div>\n",
       "<style scoped>\n",
       "    .dataframe tbody tr th:only-of-type {\n",
       "        vertical-align: middle;\n",
       "    }\n",
       "\n",
       "    .dataframe tbody tr th {\n",
       "        vertical-align: top;\n",
       "    }\n",
       "\n",
       "    .dataframe thead th {\n",
       "        text-align: right;\n",
       "    }\n",
       "</style>\n",
       "<table border=\"1\" class=\"dataframe\">\n",
       "  <thead>\n",
       "    <tr style=\"text-align: right;\">\n",
       "      <th></th>\n",
       "      <th>cntry</th>\n",
       "      <th>idno</th>\n",
       "      <th>year</th>\n",
       "      <th>tvtot</th>\n",
       "      <th>ppltrst</th>\n",
       "      <th>pplfair</th>\n",
       "      <th>pplhlp</th>\n",
       "      <th>happy</th>\n",
       "      <th>sclmeet</th>\n",
       "      <th>sclact</th>\n",
       "      <th>gndr</th>\n",
       "      <th>agea</th>\n",
       "      <th>partner</th>\n",
       "    </tr>\n",
       "  </thead>\n",
       "  <tbody>\n",
       "    <tr>\n",
       "      <th>0</th>\n",
       "      <td>CH</td>\n",
       "      <td>5</td>\n",
       "      <td>6</td>\n",
       "      <td>3</td>\n",
       "      <td>3</td>\n",
       "      <td>10</td>\n",
       "      <td>5</td>\n",
       "      <td>8</td>\n",
       "      <td>5</td>\n",
       "      <td>4</td>\n",
       "      <td>2</td>\n",
       "      <td>60</td>\n",
       "      <td>1</td>\n",
       "    </tr>\n",
       "    <tr>\n",
       "      <th>1</th>\n",
       "      <td>CH</td>\n",
       "      <td>25</td>\n",
       "      <td>6</td>\n",
       "      <td>6</td>\n",
       "      <td>5</td>\n",
       "      <td>7</td>\n",
       "      <td>5</td>\n",
       "      <td>9</td>\n",
       "      <td>3</td>\n",
       "      <td>2</td>\n",
       "      <td>2</td>\n",
       "      <td>59</td>\n",
       "      <td>1</td>\n",
       "    </tr>\n",
       "    <tr>\n",
       "      <th>2</th>\n",
       "      <td>CH</td>\n",
       "      <td>26</td>\n",
       "      <td>6</td>\n",
       "      <td>1</td>\n",
       "      <td>8</td>\n",
       "      <td>8</td>\n",
       "      <td>8</td>\n",
       "      <td>7</td>\n",
       "      <td>6</td>\n",
       "      <td>3</td>\n",
       "      <td>1</td>\n",
       "      <td>24</td>\n",
       "      <td>2</td>\n",
       "    </tr>\n",
       "    <tr>\n",
       "      <th>3</th>\n",
       "      <td>CH</td>\n",
       "      <td>28</td>\n",
       "      <td>6</td>\n",
       "      <td>4</td>\n",
       "      <td>6</td>\n",
       "      <td>6</td>\n",
       "      <td>7</td>\n",
       "      <td>10</td>\n",
       "      <td>6</td>\n",
       "      <td>2</td>\n",
       "      <td>2</td>\n",
       "      <td>64</td>\n",
       "      <td>1</td>\n",
       "    </tr>\n",
       "    <tr>\n",
       "      <th>4</th>\n",
       "      <td>CH</td>\n",
       "      <td>29</td>\n",
       "      <td>6</td>\n",
       "      <td>5</td>\n",
       "      <td>6</td>\n",
       "      <td>7</td>\n",
       "      <td>5</td>\n",
       "      <td>8</td>\n",
       "      <td>7</td>\n",
       "      <td>2</td>\n",
       "      <td>2</td>\n",
       "      <td>55</td>\n",
       "      <td>1</td>\n",
       "    </tr>\n",
       "  </tbody>\n",
       "</table>\n",
       "</div>"
      ],
      "text/plain": [
       "  cntry  idno  year  tvtot  ppltrst  pplfair  pplhlp  happy  sclmeet  sclact  \\\n",
       "0    CH     5     6      3        3       10       5      8        5       4   \n",
       "1    CH    25     6      6        5        7       5      9        3       2   \n",
       "2    CH    26     6      1        8        8       8      7        6       3   \n",
       "3    CH    28     6      4        6        6       7     10        6       2   \n",
       "4    CH    29     6      5        6        7       5      8        7       2   \n",
       "\n",
       "   gndr  agea  partner  \n",
       "0     2    60        1  \n",
       "1     2    59        1  \n",
       "2     1    24        2  \n",
       "3     2    64        1  \n",
       "4     2    55        1  "
      ]
     },
     "execution_count": 16,
     "metadata": {},
     "output_type": "execute_result"
    }
   ],
   "source": [
    "ess.info()\n",
    "ess.head()"
   ]
  },
  {
   "cell_type": "code",
   "execution_count": 18,
   "metadata": {
    "scrolled": true
   },
   "outputs": [
    {
     "data": {
      "text/html": [
       "<div>\n",
       "<style scoped>\n",
       "    .dataframe tbody tr th:only-of-type {\n",
       "        vertical-align: middle;\n",
       "    }\n",
       "\n",
       "    .dataframe tbody tr th {\n",
       "        vertical-align: top;\n",
       "    }\n",
       "\n",
       "    .dataframe thead tr th {\n",
       "        text-align: left;\n",
       "    }\n",
       "\n",
       "    .dataframe thead tr:last-of-type th {\n",
       "        text-align: right;\n",
       "    }\n",
       "</style>\n",
       "<table border=\"1\" class=\"dataframe\">\n",
       "  <thead>\n",
       "    <tr>\n",
       "      <th></th>\n",
       "      <th>idno</th>\n",
       "      <th>year</th>\n",
       "      <th>tvtot</th>\n",
       "      <th>ppltrst</th>\n",
       "      <th>pplfair</th>\n",
       "      <th>pplhlp</th>\n",
       "      <th>happy</th>\n",
       "      <th>sclmeet</th>\n",
       "      <th>sclact</th>\n",
       "      <th>gndr</th>\n",
       "      <th>agea</th>\n",
       "      <th>partner</th>\n",
       "    </tr>\n",
       "    <tr>\n",
       "      <th></th>\n",
       "      <th>count</th>\n",
       "      <th>count</th>\n",
       "      <th>count</th>\n",
       "      <th>count</th>\n",
       "      <th>count</th>\n",
       "      <th>count</th>\n",
       "      <th>count</th>\n",
       "      <th>count</th>\n",
       "      <th>count</th>\n",
       "      <th>count</th>\n",
       "      <th>count</th>\n",
       "      <th>count</th>\n",
       "    </tr>\n",
       "    <tr>\n",
       "      <th>cntry</th>\n",
       "      <th></th>\n",
       "      <th></th>\n",
       "      <th></th>\n",
       "      <th></th>\n",
       "      <th></th>\n",
       "      <th></th>\n",
       "      <th></th>\n",
       "      <th></th>\n",
       "      <th></th>\n",
       "      <th></th>\n",
       "      <th></th>\n",
       "      <th></th>\n",
       "    </tr>\n",
       "  </thead>\n",
       "  <tbody>\n",
       "    <tr>\n",
       "      <th>CH</th>\n",
       "      <td>1475</td>\n",
       "      <td>1475</td>\n",
       "      <td>1475</td>\n",
       "      <td>1475</td>\n",
       "      <td>1475</td>\n",
       "      <td>1475</td>\n",
       "      <td>1475</td>\n",
       "      <td>1475</td>\n",
       "      <td>1475</td>\n",
       "      <td>1475</td>\n",
       "      <td>1475</td>\n",
       "      <td>1475</td>\n",
       "    </tr>\n",
       "    <tr>\n",
       "      <th>CZ</th>\n",
       "      <td>1207</td>\n",
       "      <td>1207</td>\n",
       "      <td>1207</td>\n",
       "      <td>1207</td>\n",
       "      <td>1207</td>\n",
       "      <td>1207</td>\n",
       "      <td>1207</td>\n",
       "      <td>1207</td>\n",
       "      <td>1207</td>\n",
       "      <td>1207</td>\n",
       "      <td>1207</td>\n",
       "      <td>1207</td>\n",
       "    </tr>\n",
       "    <tr>\n",
       "      <th>DE</th>\n",
       "      <td>27</td>\n",
       "      <td>27</td>\n",
       "      <td>27</td>\n",
       "      <td>27</td>\n",
       "      <td>27</td>\n",
       "      <td>27</td>\n",
       "      <td>27</td>\n",
       "      <td>27</td>\n",
       "      <td>27</td>\n",
       "      <td>27</td>\n",
       "      <td>27</td>\n",
       "      <td>27</td>\n",
       "    </tr>\n",
       "    <tr>\n",
       "      <th>ES</th>\n",
       "      <td>2292</td>\n",
       "      <td>2292</td>\n",
       "      <td>2292</td>\n",
       "      <td>2292</td>\n",
       "      <td>2292</td>\n",
       "      <td>2292</td>\n",
       "      <td>2292</td>\n",
       "      <td>2292</td>\n",
       "      <td>2292</td>\n",
       "      <td>2292</td>\n",
       "      <td>2292</td>\n",
       "      <td>2292</td>\n",
       "    </tr>\n",
       "    <tr>\n",
       "      <th>NO</th>\n",
       "      <td>1420</td>\n",
       "      <td>1420</td>\n",
       "      <td>1420</td>\n",
       "      <td>1420</td>\n",
       "      <td>1420</td>\n",
       "      <td>1420</td>\n",
       "      <td>1420</td>\n",
       "      <td>1420</td>\n",
       "      <td>1420</td>\n",
       "      <td>1420</td>\n",
       "      <td>1420</td>\n",
       "      <td>1420</td>\n",
       "    </tr>\n",
       "    <tr>\n",
       "      <th>SE</th>\n",
       "      <td>1726</td>\n",
       "      <td>1726</td>\n",
       "      <td>1726</td>\n",
       "      <td>1726</td>\n",
       "      <td>1726</td>\n",
       "      <td>1726</td>\n",
       "      <td>1726</td>\n",
       "      <td>1726</td>\n",
       "      <td>1726</td>\n",
       "      <td>1726</td>\n",
       "      <td>1726</td>\n",
       "      <td>1726</td>\n",
       "    </tr>\n",
       "  </tbody>\n",
       "</table>\n",
       "</div>"
      ],
      "text/plain": [
       "       idno  year tvtot ppltrst pplfair pplhlp happy sclmeet sclact  gndr  \\\n",
       "      count count count   count   count  count count   count  count count   \n",
       "cntry                                                                       \n",
       "CH     1475  1475  1475    1475    1475   1475  1475    1475   1475  1475   \n",
       "CZ     1207  1207  1207    1207    1207   1207  1207    1207   1207  1207   \n",
       "DE       27    27    27      27      27     27    27      27     27    27   \n",
       "ES     2292  2292  2292    2292    2292   2292  2292    2292   2292  2292   \n",
       "NO     1420  1420  1420    1420    1420   1420  1420    1420   1420  1420   \n",
       "SE     1726  1726  1726    1726    1726   1726  1726    1726   1726  1726   \n",
       "\n",
       "       agea partner  \n",
       "      count   count  \n",
       "cntry                \n",
       "CH     1475    1475  \n",
       "CZ     1207    1207  \n",
       "DE       27      27  \n",
       "ES     2292    2292  \n",
       "NO     1420    1420  \n",
       "SE     1726    1726  "
      ]
     },
     "execution_count": 18,
     "metadata": {},
     "output_type": "execute_result"
    }
   ],
   "source": [
    "ess.groupby(['cntry']).agg(['count'])"
   ]
  },
  {
   "cell_type": "markdown",
   "metadata": {},
   "source": [
    "There are 6 countries included in the survey with the following number of respondents.\n",
    "\n",
    "CH- Switzerland, 1475 respondents.\n",
    "CZ- Czeh Repuplic, 1207 respondents.\n",
    "DE - Germany, 27 respondents.\n",
    "ES - Spain, 2292 respondents.\n",
    "NO - Norway, 1420 respondents.\n",
    "SE - Sweden, 1726 respondents."
   ]
  },
  {
   "cell_type": "markdown",
   "metadata": {},
   "source": [
    "# Did people become less trusting from 2012 to 2014?\n",
    "\n",
    "Plotting trust in all countries as a general information in identifying if people in these countries became more less trusting."
   ]
  },
  {
   "cell_type": "code",
   "execution_count": 58,
   "metadata": {},
   "outputs": [],
   "source": [
    "#Separating 2012 and 2014\n",
    "ess_2012 = ess[ess.year == 6]\n",
    "ess_2014 = ess[ess.year == 7]"
   ]
  },
  {
   "cell_type": "code",
   "execution_count": 75,
   "metadata": {
    "scrolled": true
   },
   "outputs": [
    {
     "data": {
      "text/plain": [
       "Text(0.5, 1.0, 'People became less trusting in 2012 and 2014')"
      ]
     },
     "execution_count": 75,
     "metadata": {},
     "output_type": "execute_result"
    },
    {
     "data": {
      "image/png": "[encoded data removed]",
      "text/plain": [
       "<Figure size 432x288 with 1 Axes>"
      ]
     },
     "metadata": {
      "needs_background": "light"
     },
     "output_type": "display_data"
    }
   ],
   "source": [
    "plt.hist(ess_2012['ppltrst'], alpha = .5)\n",
    "plt.hist(ess_2014['ppltrst'], alpha =.5)\n",
    "plt.legend(['2012', '2014'])\n",
    "plt.title('People became less trusting in 2012 and 2014')"
   ]
  },
  {
   "cell_type": "code",
   "execution_count": 77,
   "metadata": {},
   "outputs": [
    {
     "name": "stdout",
     "output_type": "stream",
     "text": [
      "DescribeResult(nobs=4071, minmax=(0, 10), mean=5.578481945467944, variance=4.893040545067073, skewness=-0.5431086926347095, kurtosis=-0.1210956960964813)\n",
      "DescribeResult(nobs=4076, minmax=(0, 10), mean=5.5713935230618254, variance=4.927171652708959, skewness=-0.4601859476512641, kurtosis=-0.25006786100787215)\n"
     ]
    }
   ],
   "source": [
    "print(stats.describe(ess_2012['ppltrst']))\n",
    "print(stats.describe(ess_2014['ppltrst']))"
   ]
  },
  {
   "cell_type": "code",
   "execution_count": 70,
   "metadata": {},
   "outputs": [
    {
     "name": "stdout",
     "output_type": "stream",
     "text": [
      "(0.9520939588546753, 1.4426241793085802e-34)\n",
      "(0.9580563902854919, 9.222525335052542e-33)\n"
     ]
    }
   ],
   "source": [
    "print(stats.shapiro(ess_2012['ppltrst']))\n",
    "print(stats.shapiro(ess_2014['ppltrst']))"
   ]
  },
  {
   "cell_type": "markdown",
   "metadata": {},
   "source": [
    "# Did people become happier from 2012 to 2014?\n",
    "\n",
    "Plotting trust in all countries as a general information in identifying if people in these countries became happier."
   ]
  },
  {
   "cell_type": "code",
   "execution_count": 80,
   "metadata": {},
   "outputs": [
    {
     "data": {
      "text/plain": [
       "Text(0.5, 1.0, 'People became less trusting in 2012 and 2014')"
      ]
     },
     "execution_count": 80,
     "metadata": {},
     "output_type": "execute_result"
    },
    {
     "data": {
      "image/png": "[encoded data removed]",
      "text/plain": [
       "<Figure size 432x288 with 1 Axes>"
      ]
     },
     "metadata": {
      "needs_background": "light"
     },
     "output_type": "display_data"
    }
   ],
   "source": [
    "plt.hist(ess_2012['happy'], alpha = .5)\n",
    "plt.hist(ess_2014['happy'], alpha = .5)\n",
    "\n",
    "plt.legend(['2012', '2014'])\n",
    "plt.title('People became less trusting in 2012 and 2014')"
   ]
  },
  {
   "cell_type": "code",
   "execution_count": 82,
   "metadata": {},
   "outputs": [
    {
     "name": "stdout",
     "output_type": "stream",
     "text": [
      "DescribeResult(nobs=4071, minmax=(0, 10), mean=7.731515598133137, variance=3.0819524689826823, skewness=-1.1505518232802756, kurtosis=1.9055890346061979)\n",
      "DescribeResult(nobs=4076, minmax=(0, 10), mean=7.6854759568204125, variance=2.840436853164115, skewness=-1.0296465664009635, kurtosis=1.5218046596567287)\n"
     ]
    }
   ],
   "source": [
    "print(stats.describe(ess_2012['happy']))\n",
    "print(stats.describe(ess_2014['happy']))"
   ]
  },
  {
   "cell_type": "code",
   "execution_count": 89,
   "metadata": {},
   "outputs": [
    {
     "name": "stdout",
     "output_type": "stream",
     "text": [
      "(0.8943395018577576, 0.0)\n",
      "(0.9060227870941162, 1.2611686178923354e-44)\n"
     ]
    }
   ],
   "source": [
    "print(stats.shapiro(ess_2012['happy']))\n",
    "print(stats.shapiro(ess_2014['happy']))"
   ]
  },
  {
   "cell_type": "code",
   "execution_count": 88,
   "metadata": {},
   "outputs": [
    {
     "name": "stdout",
     "output_type": "stream",
     "text": [
      "KruskalResult(statistic=3.725441202182227, pvalue=0.05358946830655459)\n"
     ]
    }
   ],
   "source": [
    "print(stats.kruskal(ess_2012['happy'], ess_2014['happy']))"
   ]
  },
  {
   "cell_type": "markdown",
   "metadata": {},
   "source": [
    "# Pick three or four of the countries in the sample and compare how often people met socially in 2014. \n"
   ]
  },
  {
   "cell_type": "code",
   "execution_count": 115,
   "metadata": {},
   "outputs": [],
   "source": [
    "ess_2014_ES = ess_2014[ess_2014.cntry == 'ES']\n",
    "ess_2014_NO = ess_2014[ess_2014.cntry == 'NO']\n",
    "ess_2014_CZ = ess_2014[ess_2014.cntry == 'CZ']\n",
    "ess_2014_DE = ess_2014[ess_2014.cntry == 'DE']"
   ]
  },
  {
   "cell_type": "code",
   "execution_count": 106,
   "metadata": {},
   "outputs": [
    {
     "data": {
      "text/plain": [
       "<matplotlib.legend.Legend at 0x18b7a1015c8>"
      ]
     },
     "execution_count": 106,
     "metadata": {},
     "output_type": "execute_result"
    },
    {
     "data": {
      "image/png": "[encoded data removed]",
      "text/plain": [
       "<Figure size 432x288 with 1 Axes>"
      ]
     },
     "metadata": {
      "needs_background": "light"
     },
     "output_type": "display_data"
    }
   ],
   "source": [
    "plt.hist(ess_2014_ES['sclmeet'], alpha =.5)\n",
    "plt.hist(ess_2014_NO['sclmeet'], alpha =.5)\n",
    "plt.hist(ess_2014_CZ['sclmeet'], alpha =.5)\n",
    "plt.hist(ess_2014_DE['sclmeet'], alpha =.5)\n",
    "plt.legend(['Spain','Norway','Czech Republic', 'Germany'])"
   ]
  },
  {
   "cell_type": "code",
   "execution_count": 110,
   "metadata": {},
   "outputs": [
    {
     "name": "stdout",
     "output_type": "stream",
     "text": [
      "DescribeResult(nobs=4076, minmax=(1, 7), mean=5.174926398429833, variance=2.011356436299271, skewness=-0.6316981913308871, kurtosis=-0.2465243115131006)\n",
      "(0.9055705070495605, 1.1210387714598537e-44)\n"
     ]
    }
   ],
   "source": [
    "print(stats.describe(ess_2014['sclmeet']))\n",
    "print(stats.shapiro(ess_2014['sclmeet']))"
   ]
  },
  {
   "cell_type": "markdown",
   "metadata": {},
   "source": [
    "# Are there differences, and if so, which countries stand out?\n",
    "\n",
    "In 2014, there are significant differences in the countries that meet. Spain is the most social country as they meet more often. Germany would be the less sociable as they do not meet as much as spain"
   ]
  },
  {
   "cell_type": "code",
   "execution_count": 111,
   "metadata": {},
   "outputs": [
    {
     "data": {
      "text/plain": [
       "KruskalResult(statistic=143.47404089941557, pvalue=6.734890796116638e-31)"
      ]
     },
     "execution_count": 111,
     "metadata": {},
     "output_type": "execute_result"
    }
   ],
   "source": [
    "stats.kruskal(ess_2014_ES['sclmeet'], ess_2014_NO['sclmeet'],\n",
    "             ess_2014_CZ['sclmeet'], ess_2014_DE['sclmeet'])"
   ]
  },
  {
   "cell_type": "markdown",
   "metadata": {},
   "source": [
    "# Ruff Figural Fluency Test"
   ]
  },
  {
   "cell_type": "code",
   "execution_count": 119,
   "metadata": {},
   "outputs": [
    {
     "name": "stdout",
     "output_type": "stream",
     "text": [
      "<class 'pandas.core.frame.DataFrame'>\n",
      "RangeIndex: 7545 entries, 0 to 7544\n",
      "Data columns (total 8 columns):\n",
      " #   Column         Non-Null Count  Dtype  \n",
      "---  ------         --------------  -----  \n",
      " 0   Casenr         7545 non-null   int64  \n",
      " 1   Age            7545 non-null   int64  \n",
      " 2   Gender         7545 non-null   object \n",
      " 3   Education      7545 non-null   object \n",
      " 4   Measurement    7545 non-null   object \n",
      " 5   Unique         7545 non-null   float64\n",
      " 6   Perseverative  7545 non-null   float64\n",
      " 7   Interval       7545 non-null   object \n",
      "dtypes: float64(2), int64(2), object(4)\n",
      "memory usage: 471.7+ KB\n"
     ]
    },
    {
     "data": {
      "text/html": [
       "<div>\n",
       "<style scoped>\n",
       "    .dataframe tbody tr th:only-of-type {\n",
       "        vertical-align: middle;\n",
       "    }\n",
       "\n",
       "    .dataframe tbody tr th {\n",
       "        vertical-align: top;\n",
       "    }\n",
       "\n",
       "    .dataframe thead th {\n",
       "        text-align: right;\n",
       "    }\n",
       "</style>\n",
       "<table border=\"1\" class=\"dataframe\">\n",
       "  <thead>\n",
       "    <tr style=\"text-align: right;\">\n",
       "      <th></th>\n",
       "      <th>Casenr</th>\n",
       "      <th>Age</th>\n",
       "      <th>Gender</th>\n",
       "      <th>Education</th>\n",
       "      <th>Measurement</th>\n",
       "      <th>Unique</th>\n",
       "      <th>Perseverative</th>\n",
       "      <th>Interval</th>\n",
       "    </tr>\n",
       "  </thead>\n",
       "  <tbody>\n",
       "    <tr>\n",
       "      <th>0</th>\n",
       "      <td>1</td>\n",
       "      <td>74</td>\n",
       "      <td>Male</td>\n",
       "      <td>Lower secondary school (ISCED 2)</td>\n",
       "      <td>Measurement 1 (2003-2006)</td>\n",
       "      <td>32.0</td>\n",
       "      <td>1.0</td>\n",
       "      <td>Not applicable</td>\n",
       "    </tr>\n",
       "    <tr>\n",
       "      <th>1</th>\n",
       "      <td>1</td>\n",
       "      <td>74</td>\n",
       "      <td>Male</td>\n",
       "      <td>Lower secondary school (ISCED 2)</td>\n",
       "      <td>Measurement 2 (2006-2008)</td>\n",
       "      <td>35.0</td>\n",
       "      <td>0.0</td>\n",
       "      <td>2.842122556</td>\n",
       "    </tr>\n",
       "    <tr>\n",
       "      <th>2</th>\n",
       "      <td>1</td>\n",
       "      <td>74</td>\n",
       "      <td>Male</td>\n",
       "      <td>Lower secondary school (ISCED 2)</td>\n",
       "      <td>Measurement 3 (2008-2012)</td>\n",
       "      <td>50.5</td>\n",
       "      <td>14.5</td>\n",
       "      <td>2.201232033</td>\n",
       "    </tr>\n",
       "    <tr>\n",
       "      <th>3</th>\n",
       "      <td>2</td>\n",
       "      <td>48</td>\n",
       "      <td>Male</td>\n",
       "      <td>Higher secondary school (ISCED 3-4)</td>\n",
       "      <td>Measurement 1 (2003-2006)</td>\n",
       "      <td>26.0</td>\n",
       "      <td>3.0</td>\n",
       "      <td>Not applicable</td>\n",
       "    </tr>\n",
       "    <tr>\n",
       "      <th>4</th>\n",
       "      <td>2</td>\n",
       "      <td>48</td>\n",
       "      <td>Male</td>\n",
       "      <td>Higher secondary school (ISCED 3-4)</td>\n",
       "      <td>Measurement 2 (2006-2008)</td>\n",
       "      <td>47.0</td>\n",
       "      <td>3.0</td>\n",
       "      <td>2.762718362</td>\n",
       "    </tr>\n",
       "  </tbody>\n",
       "</table>\n",
       "</div>"
      ],
      "text/plain": [
       "   Casenr  Age Gender                            Education  \\\n",
       "0       1   74   Male     Lower secondary school (ISCED 2)   \n",
       "1       1   74   Male     Lower secondary school (ISCED 2)   \n",
       "2       1   74   Male     Lower secondary school (ISCED 2)   \n",
       "3       2   48   Male  Higher secondary school (ISCED 3-4)   \n",
       "4       2   48   Male  Higher secondary school (ISCED 3-4)   \n",
       "\n",
       "                 Measurement  Unique  Perseverative        Interval  \n",
       "0  Measurement 1 (2003-2006)    32.0            1.0  Not applicable  \n",
       "1  Measurement 2 (2006-2008)    35.0            0.0     2.842122556  \n",
       "2  Measurement 3 (2008-2012)    50.5           14.5     2.201232033  \n",
       "3  Measurement 1 (2003-2006)    26.0            3.0  Not applicable  \n",
       "4  Measurement 2 (2006-2008)    47.0            3.0     2.762718362  "
      ]
     },
     "execution_count": 119,
     "metadata": {},
     "output_type": "execute_result"
    }
   ],
   "source": [
    "%matplotlib inline\n",
    "import pandas as pd\n",
    "import numpy as np\n",
    "import matplotlib.pyplot as plt\n",
    "from scipy import stats\n",
    "\n",
    "rfft = pd.read_csv(\"https://tf-assets-prod.s3.amazonaws.com/tf-curric/data-science/rfft.csv\")\n",
    "rfft.info()\n",
    "rfft.head()"
   ]
  },
  {
   "cell_type": "code",
   "execution_count": 130,
   "metadata": {},
   "outputs": [
    {
     "data": {
      "text/html": [
       "<div>\n",
       "<style scoped>\n",
       "    .dataframe tbody tr th:only-of-type {\n",
       "        vertical-align: middle;\n",
       "    }\n",
       "\n",
       "    .dataframe tbody tr th {\n",
       "        vertical-align: top;\n",
       "    }\n",
       "\n",
       "    .dataframe thead th {\n",
       "        text-align: right;\n",
       "    }\n",
       "</style>\n",
       "<table border=\"1\" class=\"dataframe\">\n",
       "  <thead>\n",
       "    <tr style=\"text-align: right;\">\n",
       "      <th>Measurement</th>\n",
       "      <th>Measurement 1 (2003-2006)</th>\n",
       "      <th>Measurement 2 (2006-2008)</th>\n",
       "      <th>Measurement 3 (2008-2012)</th>\n",
       "    </tr>\n",
       "    <tr>\n",
       "      <th>Casenr</th>\n",
       "      <th></th>\n",
       "      <th></th>\n",
       "      <th></th>\n",
       "    </tr>\n",
       "  </thead>\n",
       "  <tbody>\n",
       "    <tr>\n",
       "      <th>1</th>\n",
       "      <td>32.0</td>\n",
       "      <td>35.0</td>\n",
       "      <td>50.5</td>\n",
       "    </tr>\n",
       "    <tr>\n",
       "      <th>2</th>\n",
       "      <td>26.0</td>\n",
       "      <td>47.0</td>\n",
       "      <td>71.0</td>\n",
       "    </tr>\n",
       "    <tr>\n",
       "      <th>3</th>\n",
       "      <td>91.0</td>\n",
       "      <td>83.5</td>\n",
       "      <td>77.0</td>\n",
       "    </tr>\n",
       "    <tr>\n",
       "      <th>4</th>\n",
       "      <td>59.0</td>\n",
       "      <td>54.0</td>\n",
       "      <td>64.0</td>\n",
       "    </tr>\n",
       "    <tr>\n",
       "      <th>5</th>\n",
       "      <td>60.0</td>\n",
       "      <td>68.0</td>\n",
       "      <td>21.0</td>\n",
       "    </tr>\n",
       "    <tr>\n",
       "      <th>...</th>\n",
       "      <td>...</td>\n",
       "      <td>...</td>\n",
       "      <td>...</td>\n",
       "    </tr>\n",
       "    <tr>\n",
       "      <th>2511</th>\n",
       "      <td>84.0</td>\n",
       "      <td>95.0</td>\n",
       "      <td>90.5</td>\n",
       "    </tr>\n",
       "    <tr>\n",
       "      <th>2512</th>\n",
       "      <td>91.0</td>\n",
       "      <td>50.0</td>\n",
       "      <td>92.0</td>\n",
       "    </tr>\n",
       "    <tr>\n",
       "      <th>2513</th>\n",
       "      <td>73.0</td>\n",
       "      <td>62.0</td>\n",
       "      <td>54.0</td>\n",
       "    </tr>\n",
       "    <tr>\n",
       "      <th>2514</th>\n",
       "      <td>83.0</td>\n",
       "      <td>83.0</td>\n",
       "      <td>117.0</td>\n",
       "    </tr>\n",
       "    <tr>\n",
       "      <th>2515</th>\n",
       "      <td>78.0</td>\n",
       "      <td>80.0</td>\n",
       "      <td>95.0</td>\n",
       "    </tr>\n",
       "  </tbody>\n",
       "</table>\n",
       "<p>2515 rows × 3 columns</p>\n",
       "</div>"
      ],
      "text/plain": [
       "Measurement  Measurement 1 (2003-2006)  Measurement 2 (2006-2008)  \\\n",
       "Casenr                                                              \n",
       "1                                 32.0                       35.0   \n",
       "2                                 26.0                       47.0   \n",
       "3                                 91.0                       83.5   \n",
       "4                                 59.0                       54.0   \n",
       "5                                 60.0                       68.0   \n",
       "...                                ...                        ...   \n",
       "2511                              84.0                       95.0   \n",
       "2512                              91.0                       50.0   \n",
       "2513                              73.0                       62.0   \n",
       "2514                              83.0                       83.0   \n",
       "2515                              78.0                       80.0   \n",
       "\n",
       "Measurement  Measurement 3 (2008-2012)  \n",
       "Casenr                                  \n",
       "1                                 50.5  \n",
       "2                                 71.0  \n",
       "3                                 77.0  \n",
       "4                                 64.0  \n",
       "5                                 21.0  \n",
       "...                                ...  \n",
       "2511                              90.5  \n",
       "2512                              92.0  \n",
       "2513                              54.0  \n",
       "2514                             117.0  \n",
       "2515                              95.0  \n",
       "\n",
       "[2515 rows x 3 columns]"
      ]
     },
     "execution_count": 130,
     "metadata": {},
     "output_type": "execute_result"
    }
   ],
   "source": [
    "rfft_measure_unique = rfft.pivot(index='Casenr', columns='Measurement', values='Unique')\n",
    "rfft_measure_unique"
   ]
  },
  {
   "cell_type": "code",
   "execution_count": 134,
   "metadata": {},
   "outputs": [
    {
     "data": {
      "text/plain": [
       "(array([  6.,  18.,  44., 208., 524., 865., 557., 226.,  59.,   8.]),\n",
       " array([-75.5, -61.1, -46.7, -32.3, -17.9,  -3.5,  10.9,  25.3,  39.7,\n",
       "         54.1,  68.5]),\n",
       " <a list of 10 Patch objects>)"
      ]
     },
     "execution_count": 134,
     "metadata": {},
     "output_type": "execute_result"
    },
    {
     "data": {
      "image/png": "[encoded data removed]",
      "text/plain": [
       "<Figure size 432x288 with 1 Axes>"
      ]
     },
     "metadata": {
      "needs_background": "light"
     },
     "output_type": "display_data"
    }
   ],
   "source": [
    "plt.hist(rfft_measure_unique['Measurement 3 (2008-2012)'] - rfft_measure_unique['Measurement 2 (2006-2008)'])\n"
   ]
  },
  {
   "cell_type": "code",
   "execution_count": 135,
   "metadata": {},
   "outputs": [
    {
     "name": "stdout",
     "output_type": "stream",
     "text": [
      "DescribeResult(nobs=2515, minmax=(-75.5, 68.5), mean=4.015506958250497, variance=342.2368318331855, skewness=-0.15837265462838976, kurtosis=0.7823714353134701)\n"
     ]
    }
   ],
   "source": [
    "print(stats.describe(rfft_unique['Measurement 3 (2008-2012)'] - rfft_unique['Measurement 2 (2006-2008)']))"
   ]
  },
  {
   "cell_type": "code",
   "execution_count": 136,
   "metadata": {},
   "outputs": [
    {
     "data": {
      "text/html": [
       "<div>\n",
       "<style scoped>\n",
       "    .dataframe tbody tr th:only-of-type {\n",
       "        vertical-align: middle;\n",
       "    }\n",
       "\n",
       "    .dataframe tbody tr th {\n",
       "        vertical-align: top;\n",
       "    }\n",
       "\n",
       "    .dataframe thead th {\n",
       "        text-align: right;\n",
       "    }\n",
       "</style>\n",
       "<table border=\"1\" class=\"dataframe\">\n",
       "  <thead>\n",
       "    <tr style=\"text-align: right;\">\n",
       "      <th>Measurement</th>\n",
       "      <th>Measurement 1 (2003-2006)</th>\n",
       "      <th>Measurement 2 (2006-2008)</th>\n",
       "      <th>Measurement 3 (2008-2012)</th>\n",
       "    </tr>\n",
       "    <tr>\n",
       "      <th>Casenr</th>\n",
       "      <th></th>\n",
       "      <th></th>\n",
       "      <th></th>\n",
       "    </tr>\n",
       "  </thead>\n",
       "  <tbody>\n",
       "    <tr>\n",
       "      <th>1</th>\n",
       "      <td>1.0</td>\n",
       "      <td>0.0</td>\n",
       "      <td>14.5</td>\n",
       "    </tr>\n",
       "    <tr>\n",
       "      <th>2</th>\n",
       "      <td>3.0</td>\n",
       "      <td>3.0</td>\n",
       "      <td>0.5</td>\n",
       "    </tr>\n",
       "    <tr>\n",
       "      <th>3</th>\n",
       "      <td>11.0</td>\n",
       "      <td>21.0</td>\n",
       "      <td>17.0</td>\n",
       "    </tr>\n",
       "    <tr>\n",
       "      <th>4</th>\n",
       "      <td>49.0</td>\n",
       "      <td>39.0</td>\n",
       "      <td>11.0</td>\n",
       "    </tr>\n",
       "    <tr>\n",
       "      <th>5</th>\n",
       "      <td>14.0</td>\n",
       "      <td>16.0</td>\n",
       "      <td>0.0</td>\n",
       "    </tr>\n",
       "  </tbody>\n",
       "</table>\n",
       "</div>"
      ],
      "text/plain": [
       "Measurement  Measurement 1 (2003-2006)  Measurement 2 (2006-2008)  \\\n",
       "Casenr                                                              \n",
       "1                                  1.0                        0.0   \n",
       "2                                  3.0                        3.0   \n",
       "3                                 11.0                       21.0   \n",
       "4                                 49.0                       39.0   \n",
       "5                                 14.0                       16.0   \n",
       "\n",
       "Measurement  Measurement 3 (2008-2012)  \n",
       "Casenr                                  \n",
       "1                                 14.5  \n",
       "2                                  0.5  \n",
       "3                                 17.0  \n",
       "4                                 11.0  \n",
       "5                                  0.0  "
      ]
     },
     "execution_count": 136,
     "metadata": {},
     "output_type": "execute_result"
    }
   ],
   "source": [
    "\n",
    "rfft_per = rfft.pivot(index='Casenr', columns='Measurement', values='Perseverative')\n",
    "rfft_per.head()"
   ]
  },
  {
   "cell_type": "code",
   "execution_count": 126,
   "metadata": {},
   "outputs": [
    {
     "data": {
      "text/plain": [
       "(array([1.821e+03, 4.560e+02, 1.210e+02, 5.200e+01, 2.800e+01, 1.600e+01,\n",
       "        1.300e+01, 3.000e+00, 4.000e+00, 1.000e+00]),\n",
       " array([  0.  ,  13.35,  26.7 ,  40.05,  53.4 ,  66.75,  80.1 ,  93.45,\n",
       "        106.8 , 120.15, 133.5 ]),\n",
       " <a list of 10 Patch objects>)"
      ]
     },
     "execution_count": 126,
     "metadata": {},
     "output_type": "execute_result"
    },
    {
     "data": {
      "image/png": "[encoded data removed]",
      "text/plain": [
       "<Figure size 432x288 with 1 Axes>"
      ]
     },
     "metadata": {
      "needs_background": "light"
     },
     "output_type": "display_data"
    }
   ],
   "source": [
    "plt.hist(rfft_per['Measurement 3 (2008-2012)'], alpha = .5)\n",
    "plt.hist(rfft_per['Measurement 2 (2006-2008)'], alpha = .5)"
   ]
  },
  {
   "cell_type": "code",
   "execution_count": 127,
   "metadata": {},
   "outputs": [
    {
     "data": {
      "text/plain": [
       "WilcoxonResult(statistic=1358373.0, pvalue=0.0006927535563546565)"
      ]
     },
     "execution_count": 127,
     "metadata": {},
     "output_type": "execute_result"
    }
   ],
   "source": [
    "stats.wilcoxon(rfft_per['Measurement 3 (2008-2012)'], rfft_per['Measurement 2 (2006-2008)'])"
   ]
  },
  {
   "cell_type": "code",
   "execution_count": null,
   "metadata": {},
   "outputs": [],
   "source": []
  }
 ],
 "metadata": {
  "kernelspec": {
   "display_name": "Python 3",
   "language": "python",
   "name": "python3"
  },
  "language_info": {
   "codemirror_mode": {
    "name": "ipython",
    "version": 3
   },
   "file_extension": ".py",
   "mimetype": "text/x-python",
   "name": "python",
   "nbconvert_exporter": "python",
   "pygments_lexer": "ipython3",
   "version": "3.7.7"
  }
 },
 "nbformat": 4,
 "nbformat_minor": 4
}
