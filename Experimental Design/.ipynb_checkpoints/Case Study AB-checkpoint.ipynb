{
 "cells": [
  {
   "cell_type": "code",
   "execution_count": 19,
   "metadata": {},
   "outputs": [],
   "source": [
    "import numpy as np\n",
    "import pandas as pd\n",
    "\n",
    "from matplotlib import pyplot as plt\n",
    "from scipy import stats"
   ]
  },
  {
   "cell_type": "code",
   "execution_count": 2,
   "metadata": {},
   "outputs": [],
   "source": [
    "data = pd.read_csv('https://tf-assets-prod.s3.amazonaws.com/tf-curric/data-science/ab_edited.csv')"
   ]
  },
  {
   "cell_type": "code",
   "execution_count": 3,
   "metadata": {},
   "outputs": [
    {
     "name": "stdout",
     "output_type": "stream",
     "text": [
      "<class 'pandas.core.frame.DataFrame'>\n",
      "RangeIndex: 290585 entries, 0 to 290584\n",
      "Data columns (total 5 columns):\n",
      " #   Column        Non-Null Count   Dtype \n",
      "---  ------        --------------   ----- \n",
      " 0   user_id       290585 non-null  int64 \n",
      " 1   timestamp     290585 non-null  object\n",
      " 2   group         290585 non-null  object\n",
      " 3   landing_page  290585 non-null  object\n",
      " 4   converted     290585 non-null  int64 \n",
      "dtypes: int64(2), object(3)\n",
      "memory usage: 11.1+ MB\n",
      "None\n"
     ]
    },
    {
     "data": {
      "text/html": [
       "<div>\n",
       "<style scoped>\n",
       "    .dataframe tbody tr th:only-of-type {\n",
       "        vertical-align: middle;\n",
       "    }\n",
       "\n",
       "    .dataframe tbody tr th {\n",
       "        vertical-align: top;\n",
       "    }\n",
       "\n",
       "    .dataframe thead th {\n",
       "        text-align: right;\n",
       "    }\n",
       "</style>\n",
       "<table border=\"1\" class=\"dataframe\">\n",
       "  <thead>\n",
       "    <tr style=\"text-align: right;\">\n",
       "      <th></th>\n",
       "      <th>user_id</th>\n",
       "      <th>timestamp</th>\n",
       "      <th>group</th>\n",
       "      <th>landing_page</th>\n",
       "      <th>converted</th>\n",
       "    </tr>\n",
       "  </thead>\n",
       "  <tbody>\n",
       "    <tr>\n",
       "      <th>0</th>\n",
       "      <td>851104</td>\n",
       "      <td>2017-01-21 22:11:48.556739</td>\n",
       "      <td>control</td>\n",
       "      <td>old_page</td>\n",
       "      <td>0</td>\n",
       "    </tr>\n",
       "    <tr>\n",
       "      <th>1</th>\n",
       "      <td>804228</td>\n",
       "      <td>2017-01-12 08:01:45.159739</td>\n",
       "      <td>control</td>\n",
       "      <td>old_page</td>\n",
       "      <td>0</td>\n",
       "    </tr>\n",
       "    <tr>\n",
       "      <th>2</th>\n",
       "      <td>661590</td>\n",
       "      <td>2017-01-11 16:55:06.154213</td>\n",
       "      <td>treatment</td>\n",
       "      <td>new_page</td>\n",
       "      <td>0</td>\n",
       "    </tr>\n",
       "    <tr>\n",
       "      <th>3</th>\n",
       "      <td>853541</td>\n",
       "      <td>2017-01-08 18:28:03.143765</td>\n",
       "      <td>treatment</td>\n",
       "      <td>new_page</td>\n",
       "      <td>0</td>\n",
       "    </tr>\n",
       "    <tr>\n",
       "      <th>4</th>\n",
       "      <td>864975</td>\n",
       "      <td>2017-01-21 01:52:26.210827</td>\n",
       "      <td>control</td>\n",
       "      <td>old_page</td>\n",
       "      <td>1</td>\n",
       "    </tr>\n",
       "  </tbody>\n",
       "</table>\n",
       "</div>"
      ],
      "text/plain": [
       "   user_id                   timestamp      group landing_page  converted\n",
       "0   851104  2017-01-21 22:11:48.556739    control     old_page          0\n",
       "1   804228  2017-01-12 08:01:45.159739    control     old_page          0\n",
       "2   661590  2017-01-11 16:55:06.154213  treatment     new_page          0\n",
       "3   853541  2017-01-08 18:28:03.143765  treatment     new_page          0\n",
       "4   864975  2017-01-21 01:52:26.210827    control     old_page          1"
      ]
     },
     "execution_count": 3,
     "metadata": {},
     "output_type": "execute_result"
    }
   ],
   "source": [
    "print(data.info())\n",
    "data.head()"
   ]
  },
  {
   "cell_type": "markdown",
   "metadata": {},
   "source": []
  },
  {
   "cell_type": "code",
   "execution_count": 4,
   "metadata": {},
   "outputs": [],
   "source": [
    "data['timestamp'] = pd.DatetimeIndex(data['timestamp']).date"
   ]
  },
  {
   "cell_type": "code",
   "execution_count": 5,
   "metadata": {
    "scrolled": true
   },
   "outputs": [
    {
     "data": {
      "text/html": [
       "<div>\n",
       "<style scoped>\n",
       "    .dataframe tbody tr th:only-of-type {\n",
       "        vertical-align: middle;\n",
       "    }\n",
       "\n",
       "    .dataframe tbody tr th {\n",
       "        vertical-align: top;\n",
       "    }\n",
       "\n",
       "    .dataframe thead th {\n",
       "        text-align: right;\n",
       "    }\n",
       "</style>\n",
       "<table border=\"1\" class=\"dataframe\">\n",
       "  <thead>\n",
       "    <tr style=\"text-align: right;\">\n",
       "      <th></th>\n",
       "      <th>user_id</th>\n",
       "      <th>timestamp</th>\n",
       "      <th>group</th>\n",
       "      <th>landing_page</th>\n",
       "      <th>converted</th>\n",
       "    </tr>\n",
       "  </thead>\n",
       "  <tbody>\n",
       "    <tr>\n",
       "      <th>0</th>\n",
       "      <td>851104</td>\n",
       "      <td>2017-01-21</td>\n",
       "      <td>control</td>\n",
       "      <td>old_page</td>\n",
       "      <td>0</td>\n",
       "    </tr>\n",
       "    <tr>\n",
       "      <th>1</th>\n",
       "      <td>804228</td>\n",
       "      <td>2017-01-12</td>\n",
       "      <td>control</td>\n",
       "      <td>old_page</td>\n",
       "      <td>0</td>\n",
       "    </tr>\n",
       "    <tr>\n",
       "      <th>2</th>\n",
       "      <td>661590</td>\n",
       "      <td>2017-01-11</td>\n",
       "      <td>treatment</td>\n",
       "      <td>new_page</td>\n",
       "      <td>0</td>\n",
       "    </tr>\n",
       "    <tr>\n",
       "      <th>3</th>\n",
       "      <td>853541</td>\n",
       "      <td>2017-01-08</td>\n",
       "      <td>treatment</td>\n",
       "      <td>new_page</td>\n",
       "      <td>0</td>\n",
       "    </tr>\n",
       "    <tr>\n",
       "      <th>4</th>\n",
       "      <td>864975</td>\n",
       "      <td>2017-01-21</td>\n",
       "      <td>control</td>\n",
       "      <td>old_page</td>\n",
       "      <td>1</td>\n",
       "    </tr>\n",
       "    <tr>\n",
       "      <th>...</th>\n",
       "      <td>...</td>\n",
       "      <td>...</td>\n",
       "      <td>...</td>\n",
       "      <td>...</td>\n",
       "      <td>...</td>\n",
       "    </tr>\n",
       "    <tr>\n",
       "      <th>290580</th>\n",
       "      <td>751197</td>\n",
       "      <td>2017-01-03</td>\n",
       "      <td>control</td>\n",
       "      <td>old_page</td>\n",
       "      <td>0</td>\n",
       "    </tr>\n",
       "    <tr>\n",
       "      <th>290581</th>\n",
       "      <td>945152</td>\n",
       "      <td>2017-01-12</td>\n",
       "      <td>control</td>\n",
       "      <td>old_page</td>\n",
       "      <td>0</td>\n",
       "    </tr>\n",
       "    <tr>\n",
       "      <th>290582</th>\n",
       "      <td>734608</td>\n",
       "      <td>2017-01-22</td>\n",
       "      <td>control</td>\n",
       "      <td>old_page</td>\n",
       "      <td>0</td>\n",
       "    </tr>\n",
       "    <tr>\n",
       "      <th>290583</th>\n",
       "      <td>697314</td>\n",
       "      <td>2017-01-15</td>\n",
       "      <td>control</td>\n",
       "      <td>old_page</td>\n",
       "      <td>0</td>\n",
       "    </tr>\n",
       "    <tr>\n",
       "      <th>290584</th>\n",
       "      <td>715931</td>\n",
       "      <td>2017-01-16</td>\n",
       "      <td>treatment</td>\n",
       "      <td>new_page</td>\n",
       "      <td>0</td>\n",
       "    </tr>\n",
       "  </tbody>\n",
       "</table>\n",
       "<p>290585 rows × 5 columns</p>\n",
       "</div>"
      ],
      "text/plain": [
       "        user_id   timestamp      group landing_page  converted\n",
       "0        851104  2017-01-21    control     old_page          0\n",
       "1        804228  2017-01-12    control     old_page          0\n",
       "2        661590  2017-01-11  treatment     new_page          0\n",
       "3        853541  2017-01-08  treatment     new_page          0\n",
       "4        864975  2017-01-21    control     old_page          1\n",
       "...         ...         ...        ...          ...        ...\n",
       "290580   751197  2017-01-03    control     old_page          0\n",
       "290581   945152  2017-01-12    control     old_page          0\n",
       "290582   734608  2017-01-22    control     old_page          0\n",
       "290583   697314  2017-01-15    control     old_page          0\n",
       "290584   715931  2017-01-16  treatment     new_page          0\n",
       "\n",
       "[290585 rows x 5 columns]"
      ]
     },
     "execution_count": 5,
     "metadata": {},
     "output_type": "execute_result"
    }
   ],
   "source": [
    "data"
   ]
  },
  {
   "cell_type": "markdown",
   "metadata": {},
   "source": [
    "Check for adequate sample sizes"
   ]
  },
  {
   "cell_type": "code",
   "execution_count": 6,
   "metadata": {},
   "outputs": [
    {
     "name": "stdout",
     "output_type": "stream",
     "text": [
      "Control Sample Size: 145274\n",
      "Test Sample Size: 145311\n",
      "The mean: 0.11959667567149027\n"
     ]
    }
   ],
   "source": [
    "print('Control Sample Size:',len(data[data.group == 'control']))\n",
    "print('Test Sample Size:',len(data[data.group == 'treatment']))\n",
    "print('The mean:', data.converted.mean())"
   ]
  },
  {
   "cell_type": "markdown",
   "metadata": {},
   "source": [
    "What is the sign-up rage of test and control"
   ]
  },
  {
   "cell_type": "code",
   "execution_count": 7,
   "metadata": {},
   "outputs": [
    {
     "name": "stdout",
     "output_type": "stream",
     "text": [
      "Control signup rate: 0.1203863045004612\n",
      "Test signup rate: 0.11880724790277405\n"
     ]
    }
   ],
   "source": [
    "print('Control signup rate:', data[data.group =='control'].converted.mean())\n",
    "print('Test signup rate:', data[data.group == 'treatment'].converted.mean())"
   ]
  },
  {
   "cell_type": "markdown",
   "metadata": {},
   "source": [
    "Formally test for a significant difference in conversions between treatment and control groups"
   ]
  },
  {
   "cell_type": "code",
   "execution_count": 9,
   "metadata": {},
   "outputs": [
    {
     "data": {
      "text/plain": [
       "Ttest_indResult(statistic=1.3116069027036805, pvalue=0.18965383906859376)"
      ]
     },
     "execution_count": 9,
     "metadata": {},
     "output_type": "execute_result"
    }
   ],
   "source": [
    "stats.ttest_ind(data[data.group == 'control'].converted, \n",
    "                data[data.group == 'treatment'].converted)"
   ]
  },
  {
   "cell_type": "code",
   "execution_count": 27,
   "metadata": {},
   "outputs": [
    {
     "data": {
      "image/png": "[encoded data removed]",
      "text/plain": [
       "<Figure size 432x288 with 1 Axes>"
      ]
     },
     "metadata": {
      "needs_background": "light"
     },
     "output_type": "display_data"
    },
    {
     "name": "stdout",
     "output_type": "stream",
     "text": [
      "Changes over time:\n",
      "Ttest_indResult(statistic=1.3116069027036805, pvalue=0.18965383906859376)\n",
      "Ttest_indResult(statistic=1.3116069027036805, pvalue=0.18965383906859376)\n",
      "Ttest_indResult(statistic=1.3116069027036805, pvalue=0.18965383906859376)\n",
      "Ttest_indResult(statistic=1.3116069027036805, pvalue=0.18965383906859376)\n",
      "Ttest_indResult(statistic=1.3116069027036805, pvalue=0.18965383906859376)\n",
      "Ttest_indResult(statistic=1.3116069027036805, pvalue=0.18965383906859376)\n",
      "Ttest_indResult(statistic=1.3116069027036805, pvalue=0.18965383906859376)\n",
      "Ttest_indResult(statistic=1.3116069027036805, pvalue=0.18965383906859376)\n",
      "Ttest_indResult(statistic=1.3116069027036805, pvalue=0.18965383906859376)\n",
      "Ttest_indResult(statistic=1.3116069027036805, pvalue=0.18965383906859376)\n",
      "Ttest_indResult(statistic=1.3116069027036805, pvalue=0.18965383906859376)\n",
      "Ttest_indResult(statistic=1.3116069027036805, pvalue=0.18965383906859376)\n",
      "Ttest_indResult(statistic=1.3116069027036805, pvalue=0.18965383906859376)\n",
      "Ttest_indResult(statistic=1.3116069027036805, pvalue=0.18965383906859376)\n",
      "Ttest_indResult(statistic=1.3116069027036805, pvalue=0.18965383906859376)\n",
      "Ttest_indResult(statistic=1.3116069027036805, pvalue=0.18965383906859376)\n",
      "Ttest_indResult(statistic=1.3116069027036805, pvalue=0.18965383906859376)\n",
      "Ttest_indResult(statistic=1.3116069027036805, pvalue=0.18965383906859376)\n",
      "Ttest_indResult(statistic=1.3116069027036805, pvalue=0.18965383906859376)\n",
      "Ttest_indResult(statistic=1.3116069027036805, pvalue=0.18965383906859376)\n",
      "Ttest_indResult(statistic=1.3116069027036805, pvalue=0.18965383906859376)\n",
      "Ttest_indResult(statistic=1.3116069027036805, pvalue=0.18965383906859376)\n",
      "Ttest_indResult(statistic=1.3116069027036805, pvalue=0.18965383906859376)\n"
     ]
    }
   ],
   "source": [
    "fig = data[data.group == 'control'][\n",
    "    ['timestamp', 'converted']].groupby('timestamp').mean().plot()\n",
    "data[data.group =='treatment'][\n",
    "    ['timestamp','converted']].groupby('timestamp').mean().plot(ax=fig)\n",
    "\n",
    "plt.legend(['control','treatment'])\n",
    "plt.show()\n",
    "\n",
    "print('Changes over time:')\n",
    "\n",
    "for day in data.timestamp.unique():\n",
    "    date = data[data.timestamp == day]\n",
    "    print(stats.ttest_ind(data[data.group == 'control'].converted, \n",
    "                data[data.group == 'treatment'].converted))"
   ]
  },
  {
   "cell_type": "code",
   "execution_count": null,
   "metadata": {},
   "outputs": [],
   "source": []
  }
 ],
 "metadata": {
  "kernelspec": {
   "display_name": "Python 3",
   "language": "python",
   "name": "python3"
  },
  "language_info": {
   "codemirror_mode": {
    "name": "ipython",
    "version": 3
   },
   "file_extension": ".py",
   "mimetype": "text/x-python",
   "name": "python",
   "nbconvert_exporter": "python",
   "pygments_lexer": "ipython3",
   "version": "3.7.7"
  }
 },
 "nbformat": 4,
 "nbformat_minor": 4
}
