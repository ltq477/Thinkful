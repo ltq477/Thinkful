{
 "cells": [
  {
   "cell_type": "code",
   "execution_count": 10,
   "metadata": {},
   "outputs": [],
   "source": [
    "import numpy as np\n",
    "import pandas as pd\n",
    "import math\n",
    "from scipy import stats\n",
    "import matplotlib.pyplot as plt"
   ]
  },
  {
   "cell_type": "code",
   "execution_count": 11,
   "metadata": {},
   "outputs": [],
   "source": [
    "homes = pd.read_csv('https://tf-assets-prod.s3.amazonaws.com/tf-curric/data-science/homeprices.applied.econ.csv')"
   ]
  },
  {
   "cell_type": "markdown",
   "metadata": {},
   "source": [
    "Understading the 'home prices' Dataset by getting the information and the first 5 observations"
   ]
  },
  {
   "cell_type": "code",
   "execution_count": 22,
   "metadata": {},
   "outputs": [
    {
     "name": "stdout",
     "output_type": "stream",
     "text": [
      "<class 'pandas.core.frame.DataFrame'>\n",
      "RangeIndex: 546 entries, 0 to 545\n",
      "Data columns (total 12 columns):\n",
      " #   Column    Non-Null Count  Dtype  \n",
      "---  ------    --------------  -----  \n",
      " 0   price     546 non-null    float64\n",
      " 1   lotsize   546 non-null    int64  \n",
      " 2   bedrooms  546 non-null    int64  \n",
      " 3   bathrms   546 non-null    int64  \n",
      " 4   stories   546 non-null    int64  \n",
      " 5   driveway  546 non-null    object \n",
      " 6   recroom   546 non-null    object \n",
      " 7   fullbase  546 non-null    object \n",
      " 8   gashw     546 non-null    object \n",
      " 9   airco     546 non-null    object \n",
      " 10  garagepl  546 non-null    int64  \n",
      " 11  prefarea  546 non-null    object \n",
      "dtypes: float64(1), int64(5), object(6)\n",
      "memory usage: 51.3+ KB\n"
     ]
    },
    {
     "data": {
      "text/html": [
       "<div>\n",
       "<style scoped>\n",
       "    .dataframe tbody tr th:only-of-type {\n",
       "        vertical-align: middle;\n",
       "    }\n",
       "\n",
       "    .dataframe tbody tr th {\n",
       "        vertical-align: top;\n",
       "    }\n",
       "\n",
       "    .dataframe thead th {\n",
       "        text-align: right;\n",
       "    }\n",
       "</style>\n",
       "<table border=\"1\" class=\"dataframe\">\n",
       "  <thead>\n",
       "    <tr style=\"text-align: right;\">\n",
       "      <th></th>\n",
       "      <th>price</th>\n",
       "      <th>lotsize</th>\n",
       "      <th>bedrooms</th>\n",
       "      <th>bathrms</th>\n",
       "      <th>stories</th>\n",
       "      <th>driveway</th>\n",
       "      <th>recroom</th>\n",
       "      <th>fullbase</th>\n",
       "      <th>gashw</th>\n",
       "      <th>airco</th>\n",
       "      <th>garagepl</th>\n",
       "      <th>prefarea</th>\n",
       "    </tr>\n",
       "  </thead>\n",
       "  <tbody>\n",
       "    <tr>\n",
       "      <th>0</th>\n",
       "      <td>42000.0</td>\n",
       "      <td>5850</td>\n",
       "      <td>3</td>\n",
       "      <td>1</td>\n",
       "      <td>2</td>\n",
       "      <td>yes</td>\n",
       "      <td>no</td>\n",
       "      <td>yes</td>\n",
       "      <td>no</td>\n",
       "      <td>no</td>\n",
       "      <td>1</td>\n",
       "      <td>no</td>\n",
       "    </tr>\n",
       "    <tr>\n",
       "      <th>1</th>\n",
       "      <td>66000.0</td>\n",
       "      <td>3880</td>\n",
       "      <td>3</td>\n",
       "      <td>2</td>\n",
       "      <td>2</td>\n",
       "      <td>yes</td>\n",
       "      <td>no</td>\n",
       "      <td>yes</td>\n",
       "      <td>no</td>\n",
       "      <td>no</td>\n",
       "      <td>2</td>\n",
       "      <td>no</td>\n",
       "    </tr>\n",
       "    <tr>\n",
       "      <th>2</th>\n",
       "      <td>83800.0</td>\n",
       "      <td>4800</td>\n",
       "      <td>3</td>\n",
       "      <td>1</td>\n",
       "      <td>1</td>\n",
       "      <td>yes</td>\n",
       "      <td>yes</td>\n",
       "      <td>yes</td>\n",
       "      <td>no</td>\n",
       "      <td>no</td>\n",
       "      <td>0</td>\n",
       "      <td>no</td>\n",
       "    </tr>\n",
       "    <tr>\n",
       "      <th>3</th>\n",
       "      <td>45000.0</td>\n",
       "      <td>3986</td>\n",
       "      <td>2</td>\n",
       "      <td>2</td>\n",
       "      <td>1</td>\n",
       "      <td>no</td>\n",
       "      <td>yes</td>\n",
       "      <td>yes</td>\n",
       "      <td>no</td>\n",
       "      <td>no</td>\n",
       "      <td>1</td>\n",
       "      <td>no</td>\n",
       "    </tr>\n",
       "    <tr>\n",
       "      <th>4</th>\n",
       "      <td>65900.0</td>\n",
       "      <td>4510</td>\n",
       "      <td>4</td>\n",
       "      <td>2</td>\n",
       "      <td>2</td>\n",
       "      <td>yes</td>\n",
       "      <td>no</td>\n",
       "      <td>yes</td>\n",
       "      <td>no</td>\n",
       "      <td>no</td>\n",
       "      <td>0</td>\n",
       "      <td>no</td>\n",
       "    </tr>\n",
       "  </tbody>\n",
       "</table>\n",
       "</div>"
      ],
      "text/plain": [
       "     price  lotsize  bedrooms  bathrms  stories driveway recroom fullbase  \\\n",
       "0  42000.0     5850         3        1        2      yes      no      yes   \n",
       "1  66000.0     3880         3        2        2      yes      no      yes   \n",
       "2  83800.0     4800         3        1        1      yes     yes      yes   \n",
       "3  45000.0     3986         2        2        1       no     yes      yes   \n",
       "4  65900.0     4510         4        2        2      yes      no      yes   \n",
       "\n",
       "  gashw airco  garagepl prefarea  \n",
       "0    no    no         1       no  \n",
       "1    no    no         2       no  \n",
       "2    no    no         0       no  \n",
       "3    no    no         1       no  \n",
       "4    no    no         0       no  "
      ]
     },
     "execution_count": 22,
     "metadata": {},
     "output_type": "execute_result"
    }
   ],
   "source": [
    "homes.info()\n",
    "\n",
    "homes.head()"
   ]
  },
  {
   "cell_type": "markdown",
   "metadata": {},
   "source": [
    "# Do homes with air conditioning have a higher sales price than homes without air conditioning?"
   ]
  },
  {
   "cell_type": "markdown",
   "metadata": {},
   "source": [
    "Getting the number of rows on homes with air-condition and without air-condition"
   ]
  },
  {
   "cell_type": "code",
   "execution_count": 5,
   "metadata": {},
   "outputs": [
    {
     "name": "stdout",
     "output_type": "stream",
     "text": [
      "373\n",
      "173\n"
     ]
    }
   ],
   "source": [
    "print(sum(homes.airco == 'no'))\n",
    "print(sum(homes.airco == 'yes'))"
   ]
  },
  {
   "cell_type": "markdown",
   "metadata": {},
   "source": [
    "Separating homes with air-condition and without air-condition into 2 separate variables. Individually get the information on each dataframes"
   ]
  },
  {
   "cell_type": "code",
   "execution_count": 6,
   "metadata": {},
   "outputs": [
    {
     "name": "stdout",
     "output_type": "stream",
     "text": [
      "<class 'pandas.core.frame.DataFrame'>\n",
      "Int64Index: 173 entries, 373 to 545\n",
      "Data columns (total 12 columns):\n",
      " #   Column    Non-Null Count  Dtype  \n",
      "---  ------    --------------  -----  \n",
      " 0   price     173 non-null    float64\n",
      " 1   lotsize   173 non-null    int64  \n",
      " 2   bedrooms  173 non-null    int64  \n",
      " 3   bathrms   173 non-null    int64  \n",
      " 4   stories   173 non-null    int64  \n",
      " 5   driveway  173 non-null    object \n",
      " 6   recroom   173 non-null    object \n",
      " 7   fullbase  173 non-null    object \n",
      " 8   gashw     173 non-null    object \n",
      " 9   airco     173 non-null    object \n",
      " 10  garagepl  173 non-null    int64  \n",
      " 11  prefarea  173 non-null    object \n",
      "dtypes: float64(1), int64(5), object(6)\n",
      "memory usage: 17.6+ KB\n",
      "<class 'pandas.core.frame.DataFrame'>\n",
      "Int64Index: 373 entries, 0 to 372\n",
      "Data columns (total 12 columns):\n",
      " #   Column    Non-Null Count  Dtype  \n",
      "---  ------    --------------  -----  \n",
      " 0   price     373 non-null    float64\n",
      " 1   lotsize   373 non-null    int64  \n",
      " 2   bedrooms  373 non-null    int64  \n",
      " 3   bathrms   373 non-null    int64  \n",
      " 4   stories   373 non-null    int64  \n",
      " 5   driveway  373 non-null    object \n",
      " 6   recroom   373 non-null    object \n",
      " 7   fullbase  373 non-null    object \n",
      " 8   gashw     373 non-null    object \n",
      " 9   airco     373 non-null    object \n",
      " 10  garagepl  373 non-null    int64  \n",
      " 11  prefarea  373 non-null    object \n",
      "dtypes: float64(1), int64(5), object(6)\n",
      "memory usage: 37.9+ KB\n"
     ]
    }
   ],
   "source": [
    "home_aircon_yes = homes[(homes['airco'] == 'yes')]\n",
    "home_aircon_yes.info()\n",
    "\n",
    "home_aircon_no = homes[(homes['airco'] == 'no')]\n",
    "home_aircon_no.info()"
   ]
  },
  {
   "cell_type": "markdown",
   "metadata": {},
   "source": [
    "Plotting the histogram of those with and without air-conditioning vs the price. Does having an air-condition increase the price of the house.?"
   ]
  },
  {
   "cell_type": "code",
   "execution_count": 23,
   "metadata": {
    "scrolled": true
   },
   "outputs": [
    {
     "data": {
      "text/plain": [
       "(array([ 48., 131.,  99.,  50.,  29.,   6.,   4.,   4.,   1.,   1.]),\n",
       " array([ 25000.,  40000.,  55000.,  70000.,  85000., 100000., 115000.,\n",
       "        130000., 145000., 160000., 175000.]),\n",
       " <a list of 10 Patch objects>)"
      ]
     },
     "execution_count": 23,
     "metadata": {},
     "output_type": "execute_result"
    },
    {
     "data": {
      "image/png": "[encoded data removed]",
      "text/plain": [
       "<Figure size 432x288 with 1 Axes>"
      ]
     },
     "metadata": {
      "needs_background": "light"
     },
     "output_type": "display_data"
    }
   ],
   "source": [
    "plt.hist(home_aircon_yes['price'], alpha=.5, )\n",
    "plt.hist(home_aircon_no['price'], alpha=.5, color='yellow')"
   ]
  },
  {
   "cell_type": "markdown",
   "metadata": {},
   "source": [
    "The curve does not fit into a Normal Distribution curve. Prices of homes with no air-ariconditioning and skewed more left, which indicates that a lot more of these homes maintains a price within that range."
   ]
  },
  {
   "cell_type": "code",
   "execution_count": 61,
   "metadata": {
    "scrolled": true
   },
   "outputs": [
    {
     "name": "stdout",
     "output_type": "stream",
     "text": [
      "DescribeResult(nobs=173, minmax=(31900.0, 190000.0), mean=85880.58959537573, variance=810167352.2317516, skewness=0.8558523643779228, kurtosis=0.9609338749117713)\n",
      "DescribeResult(nobs=373, minmax=(25000.0, 175000.0), mean=59884.85254691689, variance=455341800.98626363, skewness=1.4196100209360347, kurtosis=3.448225770991252)\n"
     ]
    }
   ],
   "source": [
    "print(stats.describe(home_aircon_yes['price']))\n",
    "print(stats.describe(home_aircon_no['price']))"
   ]
  },
  {
   "cell_type": "code",
   "execution_count": 63,
   "metadata": {},
   "outputs": [
    {
     "data": {
      "text/plain": [
       "Ttest_indResult(statistic=11.862852780650169, pvalue=4.972721571759431e-29)"
      ]
     },
     "execution_count": 63,
     "metadata": {},
     "output_type": "execute_result"
    }
   ],
   "source": [
    "stats.ttest_ind(home_aircon_yes['price'], home_aircon_no['price'])"
   ]
  },
  {
   "cell_type": "markdown",
   "metadata": {},
   "source": [
    "# Do homes with a full basement have a higher sales price than homes without a full basement?"
   ]
  },
  {
   "cell_type": "code",
   "execution_count": 34,
   "metadata": {},
   "outputs": [
    {
     "name": "stdout",
     "output_type": "stream",
     "text": [
      "<class 'pandas.core.frame.DataFrame'>\n",
      "Int64Index: 191 entries, 0 to 438\n",
      "Data columns (total 12 columns):\n",
      " #   Column    Non-Null Count  Dtype  \n",
      "---  ------    --------------  -----  \n",
      " 0   price     191 non-null    float64\n",
      " 1   lotsize   191 non-null    int64  \n",
      " 2   bedrooms  191 non-null    int64  \n",
      " 3   bathrms   191 non-null    int64  \n",
      " 4   stories   191 non-null    int64  \n",
      " 5   driveway  191 non-null    object \n",
      " 6   recroom   191 non-null    object \n",
      " 7   fullbase  191 non-null    object \n",
      " 8   gashw     191 non-null    object \n",
      " 9   airco     191 non-null    object \n",
      " 10  garagepl  191 non-null    int64  \n",
      " 11  prefarea  191 non-null    object \n",
      "dtypes: float64(1), int64(5), object(6)\n",
      "memory usage: 19.4+ KB\n",
      "<class 'pandas.core.frame.DataFrame'>\n",
      "Int64Index: 355 entries, 125 to 545\n",
      "Data columns (total 12 columns):\n",
      " #   Column    Non-Null Count  Dtype  \n",
      "---  ------    --------------  -----  \n",
      " 0   price     355 non-null    float64\n",
      " 1   lotsize   355 non-null    int64  \n",
      " 2   bedrooms  355 non-null    int64  \n",
      " 3   bathrms   355 non-null    int64  \n",
      " 4   stories   355 non-null    int64  \n",
      " 5   driveway  355 non-null    object \n",
      " 6   recroom   355 non-null    object \n",
      " 7   fullbase  355 non-null    object \n",
      " 8   gashw     355 non-null    object \n",
      " 9   airco     355 non-null    object \n",
      " 10  garagepl  355 non-null    int64  \n",
      " 11  prefarea  355 non-null    object \n",
      "dtypes: float64(1), int64(5), object(6)\n",
      "memory usage: 36.1+ KB\n"
     ]
    }
   ],
   "source": [
    "home_basement_yes = homes[(homes['fullbase'] == 'yes')]\n",
    "home_basement_yes.info()\n",
    "\n",
    "home_basement_no = homes[(homes['fullbase'] == 'no')]\n",
    "home_basement_no.info()"
   ]
  },
  {
   "cell_type": "markdown",
   "metadata": {},
   "source": [
    "Though not perfect, the plot below looks like a more normal distribution."
   ]
  },
  {
   "cell_type": "code",
   "execution_count": 35,
   "metadata": {},
   "outputs": [
    {
     "data": {
      "text/plain": [
       "(array([ 55., 119.,  80.,  44.,  30.,  16.,   7.,   2.,   0.,   2.]),\n",
       " array([ 25000.,  41500.,  58000.,  74500.,  91000., 107500., 124000.,\n",
       "        140500., 157000., 173500., 190000.]),\n",
       " <a list of 10 Patch objects>)"
      ]
     },
     "execution_count": 35,
     "metadata": {},
     "output_type": "execute_result"
    },
    {
     "data": {
      "image/png": "[encoded data removed]",
      "text/plain": [
       "<Figure size 432x288 with 1 Axes>"
      ]
     },
     "metadata": {
      "needs_background": "light"
     },
     "output_type": "display_data"
    }
   ],
   "source": [
    "plt.hist(home_basement_yes['price'])\n",
    "plt.hist(home_basement_no['price'], alpha=.5, color='yellow')"
   ]
  },
  {
   "cell_type": "code",
   "execution_count": 36,
   "metadata": {},
   "outputs": [
    {
     "name": "stdout",
     "output_type": "stream",
     "text": [
      "DescribeResult(nobs=191, minmax=(26000.0, 175000.0), mean=74894.50261780104, variance=687483535.4092036, skewness=1.299439350765169, kurtosis=2.200944427832982)\n",
      "DescribeResult(nobs=355, minmax=(25000.0, 190000.0), mean=64477.58309859155, variance=690693014.1816344, skewness=1.2539001276811907, kurtosis=1.9898502593432044)\n"
     ]
    }
   ],
   "source": [
    "print(stats.describe(home_basement_yes['price']))\n",
    "print(stats.describe(home_basement_no['price']))"
   ]
  },
  {
   "cell_type": "code",
   "execution_count": 40,
   "metadata": {
    "scrolled": true
   },
   "outputs": [
    {
     "data": {
      "text/plain": [
       "Ttest_indResult(statistic=4.420628512286621, pvalue=1.1885626562866786e-05)"
      ]
     },
     "execution_count": 40,
     "metadata": {},
     "output_type": "execute_result"
    }
   ],
   "source": [
    "stats.ttest_ind(home_basement_yes['price'],home_basement_no['price'])"
   ]
  },
  {
   "cell_type": "code",
   "execution_count": 41,
   "metadata": {},
   "outputs": [
    {
     "data": {
      "text/plain": [
       "'The difference in means at the 95% confidence interval (two-tail) is between -15032.294775656886 and -5801.544262762097.'"
      ]
     },
     "execution_count": 41,
     "metadata": {},
     "output_type": "execute_result"
    }
   ],
   "source": [
    "def get_95_ci(array_1, array_2):\n",
    "    sample_1_n = array_1.shape[0]\n",
    "    sample_2_n = array_2.shape[0]\n",
    "    sample_1_mean = array_1.mean()\n",
    "    sample_2_mean = array_2.mean()\n",
    "    sample_1_var = array_1.var()\n",
    "    sample_2_var = array_2.var()\n",
    "    mean_difference = sample_2_mean - sample_1_mean\n",
    "    std_err_difference = math.sqrt((sample_1_var/sample_1_n)+(sample_2_var/sample_2_n))\n",
    "    margin_of_error = 1.96 * std_err_difference\n",
    "    ci_lower = mean_difference - margin_of_error\n",
    "    ci_upper = mean_difference + margin_of_error\n",
    "    return(\"The difference in means at the 95% confidence interval (two-tail) is between \"+str(ci_lower)+\" and \"+str(ci_upper)+\".\")\n",
    "\n",
    "get_95_ci(home_basement_yes['price'], home_basement_no['price'])"
   ]
  },
  {
   "cell_type": "markdown",
   "metadata": {},
   "source": [
    "We can compare the means of those with and without a basement"
   ]
  },
  {
   "cell_type": "code",
   "execution_count": 43,
   "metadata": {},
   "outputs": [
    {
     "data": {
      "text/plain": [
       "[[Text(0, 0, 'With Basement'), Text(0, 0, 'Without Basement')]]"
      ]
     },
     "execution_count": 43,
     "metadata": {},
     "output_type": "execute_result"
    },
    {
     "data": {
      "image/png": "[encoded data removed]",
      "text/plain": [
       "<Figure size 432x288 with 1 Axes>"
      ]
     },
     "metadata": {
      "needs_background": "light"
     },
     "output_type": "display_data"
    }
   ],
   "source": [
    "import seaborn as sns\n",
    "\n",
    "pplot = sns.pointplot(data=[home_basement_yes['price'], \n",
    "                        home_basement_no['price']], join=False)\n",
    "\n",
    "pplot.set(xticklabels = ['With Basement', 'Without Basement'])"
   ]
  },
  {
   "cell_type": "code",
   "execution_count": null,
   "metadata": {},
   "outputs": [],
   "source": []
  }
 ],
 "metadata": {
  "kernelspec": {
   "display_name": "Python 3",
   "language": "python",
   "name": "python3"
  },
  "language_info": {
   "codemirror_mode": {
    "name": "ipython",
    "version": 3
   },
   "file_extension": ".py",
   "mimetype": "text/x-python",
   "name": "python",
   "nbconvert_exporter": "python",
   "pygments_lexer": "ipython3",
   "version": "3.7.7"
  }
 },
 "nbformat": 4,
 "nbformat_minor": 4
}
