{
 "cells": [
  {
   "cell_type": "code",
   "execution_count": 22,
   "metadata": {},
   "outputs": [],
   "source": [
    "%matplotlib inline\n",
    "import pandas as pd\n",
    "import numpy as np\n",
    "import matplotlib.pyplot as plt\n",
    "from scipy import stats"
   ]
  },
  {
   "cell_type": "markdown",
   "metadata": {
    "colab_type": "text",
    "id": "jPZQpN94Y8cZ"
   },
   "source": [
    "## Parametric versus non-parametric tests\n",
    "\n",
    "\n",
    "\n",
    "A parametric test is a test that uses some known set of parameter estimates (mean and standard deviation, for example) to represent the information in the data. When a variable has a mathematically-understood distribution (Gaussian/Normal, Binomial, Poisson, etc), it can be accurately summarized using a few parameters, so a parametric test makes sense. For example, a t-test is considered a parametric test as it assumes normality in samples and populations. \n",
    "\n",
    "For variables that don't conform to a distribution type, their information can't be summarized in just a few parameters, and representing them with these types of parameters will be misleading (like taking the mean of a very skewed distribution). For these, non-parametric tests are used. These tests rely on other estimates that represent certain pieces of information within a variable (like the median, which describes the middlemost datapoint when a variable is sorted by size), but not the whole variable. \n",
    "\n",
    "Because the estimates they use contain less information than parametric estimates, non-parametric tests are less able to detect very small effects than parametric tests, but they are also less vulnerable to bias from extreme observations in the data.\n",
    "\n"
   ]
  },
  {
   "cell_type": "markdown",
   "metadata": {
    "colab_type": "text",
    "id": "_IU3j1KHbafJ"
   },
   "source": [
    "## Formally testing for normality with Shapiro-Wilk\n",
    "\n",
    "Before getting into these more exotic tests, let's start with something we're good at; checking whether two samples are each normally distributed.\n",
    "\n",
    "Let's practice on the famous [Iris flower](https://en.wikipedia.org/wiki/Iris_flower_data_set) dataset. \n"
   ]
  },
  {
   "cell_type": "code",
   "execution_count": 23,
   "metadata": {
    "colab": {
     "base_uri": "https://localhost:8080/",
     "height": 363
    },
    "colab_type": "code",
    "id": "awdGJb85wooM",
    "outputId": "850bf8ff-6246-4dda-958d-d3b780d73004"
   },
   "outputs": [
    {
     "name": "stdout",
     "output_type": "stream",
     "text": [
      "<class 'pandas.core.frame.DataFrame'>\n",
      "RangeIndex: 150 entries, 0 to 149\n",
      "Data columns (total 5 columns):\n",
      " #   Column        Non-Null Count  Dtype  \n",
      "---  ------        --------------  -----  \n",
      " 0   sepal_length  150 non-null    float64\n",
      " 1   sepal_width   150 non-null    float64\n",
      " 2   petal_length  150 non-null    float64\n",
      " 3   petal_width   150 non-null    float64\n",
      " 4   species       150 non-null    object \n",
      "dtypes: float64(4), object(1)\n",
      "memory usage: 6.0+ KB\n"
     ]
    },
    {
     "data": {
      "text/html": [
       "<div>\n",
       "<style scoped>\n",
       "    .dataframe tbody tr th:only-of-type {\n",
       "        vertical-align: middle;\n",
       "    }\n",
       "\n",
       "    .dataframe tbody tr th {\n",
       "        vertical-align: top;\n",
       "    }\n",
       "\n",
       "    .dataframe thead th {\n",
       "        text-align: right;\n",
       "    }\n",
       "</style>\n",
       "<table border=\"1\" class=\"dataframe\">\n",
       "  <thead>\n",
       "    <tr style=\"text-align: right;\">\n",
       "      <th></th>\n",
       "      <th>sepal_length</th>\n",
       "      <th>sepal_width</th>\n",
       "      <th>petal_length</th>\n",
       "      <th>petal_width</th>\n",
       "      <th>species</th>\n",
       "    </tr>\n",
       "  </thead>\n",
       "  <tbody>\n",
       "    <tr>\n",
       "      <th>0</th>\n",
       "      <td>5.1</td>\n",
       "      <td>3.5</td>\n",
       "      <td>1.4</td>\n",
       "      <td>0.2</td>\n",
       "      <td>Iris-setosa</td>\n",
       "    </tr>\n",
       "    <tr>\n",
       "      <th>1</th>\n",
       "      <td>4.9</td>\n",
       "      <td>3.0</td>\n",
       "      <td>1.4</td>\n",
       "      <td>0.2</td>\n",
       "      <td>Iris-setosa</td>\n",
       "    </tr>\n",
       "    <tr>\n",
       "      <th>2</th>\n",
       "      <td>4.7</td>\n",
       "      <td>3.2</td>\n",
       "      <td>1.3</td>\n",
       "      <td>0.2</td>\n",
       "      <td>Iris-setosa</td>\n",
       "    </tr>\n",
       "    <tr>\n",
       "      <th>3</th>\n",
       "      <td>4.6</td>\n",
       "      <td>3.1</td>\n",
       "      <td>1.5</td>\n",
       "      <td>0.2</td>\n",
       "      <td>Iris-setosa</td>\n",
       "    </tr>\n",
       "    <tr>\n",
       "      <th>4</th>\n",
       "      <td>5.0</td>\n",
       "      <td>3.6</td>\n",
       "      <td>1.4</td>\n",
       "      <td>0.2</td>\n",
       "      <td>Iris-setosa</td>\n",
       "    </tr>\n",
       "  </tbody>\n",
       "</table>\n",
       "</div>"
      ],
      "text/plain": [
       "   sepal_length  sepal_width  petal_length  petal_width      species\n",
       "0           5.1          3.5           1.4          0.2  Iris-setosa\n",
       "1           4.9          3.0           1.4          0.2  Iris-setosa\n",
       "2           4.7          3.2           1.3          0.2  Iris-setosa\n",
       "3           4.6          3.1           1.5          0.2  Iris-setosa\n",
       "4           5.0          3.6           1.4          0.2  Iris-setosa"
      ]
     },
     "execution_count": 23,
     "metadata": {},
     "output_type": "execute_result"
    }
   ],
   "source": [
    "iris = pd.read_csv(\"https://tf-assets-prod.s3.amazonaws.com/tf-curric/data-science/iris.data\",\n",
    "                  names = [\"sepal_length\",\"sepal_width\",\"petal_length\",\"petal_width\",\"species\"])\n",
    "\n",
    "iris.info()\n",
    "iris.head()"
   ]
  },
  {
   "cell_type": "markdown",
   "metadata": {
    "colab_type": "text",
    "id": "RyaqlJg4fIlJ"
   },
   "source": [
    "For this analysis we will be comparing statistics of the three species of Iris flower, labeled `Iris-setosa`, `Iris-versicolor` and  `Iris-virginica`. \n",
    "\n",
    "We can get a record count for each group by chaining the `groupby()` and `agg()` methods:"
   ]
  },
  {
   "cell_type": "code",
   "execution_count": 24,
   "metadata": {
    "colab": {
     "base_uri": "https://localhost:8080/",
     "height": 195
    },
    "colab_type": "code",
    "id": "211q8hsPfXWP",
    "outputId": "56e38409-85d3-4fd1-9983-4476b33a1db8"
   },
   "outputs": [
    {
     "data": {
      "text/html": [
       "<div>\n",
       "<style scoped>\n",
       "    .dataframe tbody tr th:only-of-type {\n",
       "        vertical-align: middle;\n",
       "    }\n",
       "\n",
       "    .dataframe tbody tr th {\n",
       "        vertical-align: top;\n",
       "    }\n",
       "\n",
       "    .dataframe thead tr th {\n",
       "        text-align: left;\n",
       "    }\n",
       "\n",
       "    .dataframe thead tr:last-of-type th {\n",
       "        text-align: right;\n",
       "    }\n",
       "</style>\n",
       "<table border=\"1\" class=\"dataframe\">\n",
       "  <thead>\n",
       "    <tr>\n",
       "      <th></th>\n",
       "      <th>sepal_length</th>\n",
       "      <th>sepal_width</th>\n",
       "      <th>petal_length</th>\n",
       "      <th>petal_width</th>\n",
       "    </tr>\n",
       "    <tr>\n",
       "      <th></th>\n",
       "      <th>count</th>\n",
       "      <th>count</th>\n",
       "      <th>count</th>\n",
       "      <th>count</th>\n",
       "    </tr>\n",
       "    <tr>\n",
       "      <th>species</th>\n",
       "      <th></th>\n",
       "      <th></th>\n",
       "      <th></th>\n",
       "      <th></th>\n",
       "    </tr>\n",
       "  </thead>\n",
       "  <tbody>\n",
       "    <tr>\n",
       "      <th>Iris-setosa</th>\n",
       "      <td>50</td>\n",
       "      <td>50</td>\n",
       "      <td>50</td>\n",
       "      <td>50</td>\n",
       "    </tr>\n",
       "    <tr>\n",
       "      <th>Iris-versicolor</th>\n",
       "      <td>50</td>\n",
       "      <td>50</td>\n",
       "      <td>50</td>\n",
       "      <td>50</td>\n",
       "    </tr>\n",
       "    <tr>\n",
       "      <th>Iris-virginica</th>\n",
       "      <td>50</td>\n",
       "      <td>50</td>\n",
       "      <td>50</td>\n",
       "      <td>50</td>\n",
       "    </tr>\n",
       "  </tbody>\n",
       "</table>\n",
       "</div>"
      ],
      "text/plain": [
       "                sepal_length sepal_width petal_length petal_width\n",
       "                       count       count        count       count\n",
       "species                                                          \n",
       "Iris-setosa               50          50           50          50\n",
       "Iris-versicolor           50          50           50          50\n",
       "Iris-virginica            50          50           50          50"
      ]
     },
     "execution_count": 24,
     "metadata": {},
     "output_type": "execute_result"
    }
   ],
   "source": [
    "iris.groupby(['species']).agg(['count'])"
   ]
  },
  {
   "cell_type": "markdown",
   "metadata": {
    "colab_type": "text",
    "id": "PLrS3Dj_R-qj"
   },
   "source": [
    "At only fifty observations per group, this is a pretty small sample -- about as small as we'd want to go with conducting inferential statistics.\n",
    "\n",
    "\n",
    "## Testing for normality\n",
    "\n",
    "Earlier we tested a distributions' normality by both plotting it and evaluating its skewness and kurtosis. Let's add one more technique; the Shapiro-Wilk test. This is a statistical test used to infer whether a variable's distribution is significantly different than normal. \n",
    "\n",
    "This is the formula for the Shapiro-Wilk test statistic, *W*.\n",
    "\n",
    "\\begin{align} \n",
    "W=\\frac { (\\sum_{i=1}^n a_ix_{(i)} )^2}{ \\sum_{i=1}^n (x_i-\\bar{x})^2}\n",
    "\\end{align}\n",
    "\n",
    "$x_{(i)}$ is the *i*th smallest number in the sample.  \n",
    "$a_i$ is a constant determined by the sample size and acts as a scaling value.  \n",
    "$\\bar{x}$ is the sample mean.  \n",
    "$x_i$ is the *i*th observation in the sample.\n",
    "\n",
    "The equation computes the ratio between the value that would be expected for a normally-distributed sample of that size containing that much information (the numerator of the fraction above) and the actual sum of the differences between each of the values in the variable and the sample mean (the denominator).  Values close to 1 indicate that the distribution is similar to a normal distribution.  The smaller the W statistic becomes, the more divergence there is between the distribution of the data and the normal distribution.  The Shapiro-Wilk test also provides a p-value: one under <.05 indicates non-normality at the 95% confidence level.\n",
    "\n",
    "The Shapiro-Wilk test (and all other tests of non-normality) come with an important caveat; they are very sensitive to sample size. For small samples, the test will detect even very small and unimportant deviations from non-normality. Statistical tests of normality should always be accompanied by visualizations, such as histograms or QQ plots.\n",
    "\n",
    "Let's practice by evaluating the distributions of `sepal_width` in `Iris-versicolor` and `Iris-virginica`. We can plot the histograms as normal:"
   ]
  },
  {
   "cell_type": "code",
   "execution_count": 27,
   "metadata": {
    "colab": {
     "base_uri": "https://localhost:8080/",
     "height": 322
    },
    "colab_type": "code",
    "id": "ANOELhvbSszM",
    "outputId": "6aa2e90d-897d-41ed-da89-5a948ed07ea0"
   },
   "outputs": [
    {
     "data": {
      "image/png": "[encoded data removed]",
      "text/plain": [
       "<Figure size 432x288 with 1 Axes>"
      ]
     },
     "metadata": {
      "needs_background": "light"
     },
     "output_type": "display_data"
    },
    {
     "name": "stdout",
     "output_type": "stream",
     "text": [
      "DescribeResult(nobs=50, minmax=(2.0, 3.4), mean=2.7700000000000005, variance=0.09846938775510206, skewness=-0.3518674965401782, kurtosis=-0.44827189991677496)\n",
      "DescribeResult(nobs=50, minmax=(2.2, 3.8), mean=2.974, variance=0.10400408163265305, skewness=0.35487781319939127, kurtosis=0.5197659354955646)\n"
     ]
    }
   ],
   "source": [
    "versicolor = iris[iris['species'] == 'Iris-versicolor']\n",
    "\n",
    "virginica = iris[iris['species'] == 'Iris-virginica']\n",
    "\n",
    "\n",
    "plt.hist(versicolor['sepal_width'], alpha = .5)\n",
    "plt.hist(virginica['sepal_width'], alpha = .5)\n",
    "plt.show()\n",
    "\n",
    "print(stats.describe(versicolor['sepal_width']))\n",
    "print(stats.describe(virginica['sepal_width']))\n"
   ]
  },
  {
   "cell_type": "markdown",
   "metadata": {
    "colab_type": "text",
    "id": "SEhceGpPej9f"
   },
   "source": [
    "The distributions don't look perfectly bell-shaped, but remember that we are dealing with very small sample sizes, so the histogram is going to be sparse. Skewness and kurtosis seem to check out for normality. \n",
    "\n",
    "Let's conduct one more normality check: Shapiro-Wilk. We can use [`shapiro()`](https://docs.scipy.org/doc/scipy/reference/generated/scipy.stats.shapiro.html) from `scipy.stats`."
   ]
  },
  {
   "cell_type": "code",
   "execution_count": 5,
   "metadata": {
    "colab": {
     "base_uri": "https://localhost:8080/",
     "height": 50
    },
    "colab_type": "code",
    "id": "46yrAwSOdlCY",
    "outputId": "020e4edf-d98e-4219-d699-c9f970387e51"
   },
   "outputs": [
    {
     "name": "stdout",
     "output_type": "stream",
     "text": [
      "(0.9741330742835999, 0.33798879384994507)\n",
      "(0.9673910140991211, 0.1809043288230896)\n"
     ]
    }
   ],
   "source": [
    "print(stats.shapiro(versicolor['sepal_width']))\n",
    "print(stats.shapiro(virginica['sepal_width']))"
   ]
  },
  {
   "cell_type": "markdown",
   "metadata": {
    "colab_type": "text",
    "id": "YSsCvQBhg03Z"
   },
   "source": [
    "Each p-value is greater than .05 and W is close to 1. Great! It appears each are normally distributed."
   ]
  },
  {
   "cell_type": "markdown",
   "metadata": {
    "colab_type": "text",
    "id": "ZQSO4gqbg4h8"
   },
   "source": [
    "## Comparing multiple normally distributed groups\n",
    "\n",
    "We could continue this analysis by conducting a t-test, but you're already a pro at that. Instead, let's bring in the third Iris species and compare them all at once. \n",
    "\n",
    "A handy way to list the unique values in a DataFrame column is the `unique()` method:"
   ]
  },
  {
   "cell_type": "code",
   "execution_count": 6,
   "metadata": {
    "colab": {
     "base_uri": "https://localhost:8080/",
     "height": 34
    },
    "colab_type": "code",
    "id": "-22yGOl2eqXC",
    "outputId": "36e64142-eda7-4a78-f0ea-8206ae32596f"
   },
   "outputs": [
    {
     "data": {
      "text/plain": [
       "array(['Iris-setosa', 'Iris-versicolor', 'Iris-virginica'], dtype=object)"
      ]
     },
     "execution_count": 6,
     "metadata": {},
     "output_type": "execute_result"
    }
   ],
   "source": [
    "iris['species'].unique()"
   ]
  },
  {
   "cell_type": "markdown",
   "metadata": {
    "colab_type": "text",
    "id": "2ShxIjmLZiFC"
   },
   "source": [
    "`Iris-setosa` is our third category, so let's create a `setosa` DataFrame for ease of analysis, print the descriptive and inferential statistics for normality, and add it to our plot:"
   ]
  },
  {
   "cell_type": "code",
   "execution_count": 7,
   "metadata": {
    "colab": {
     "base_uri": "https://localhost:8080/",
     "height": 302
    },
    "colab_type": "code",
    "id": "2GdxaQ4lYyMN",
    "outputId": "93c1f4ce-8c60-4e08-e2ad-8ed1a8358c3e"
   },
   "outputs": [
    {
     "name": "stdout",
     "output_type": "stream",
     "text": [
      "DescribeResult(nobs=50, minmax=(2.3, 4.4), mean=3.418, variance=0.1451795918367347, skewness=0.1038140820747848, kurtosis=0.6851340609499261)\n",
      "(0.968691885471344, 0.20465604960918427)\n"
     ]
    },
    {
     "data": {
      "image/png": "[encoded data removed]",
      "text/plain": [
       "<Figure size 432x288 with 1 Axes>"
      ]
     },
     "metadata": {
      "needs_background": "light"
     },
     "output_type": "display_data"
    }
   ],
   "source": [
    "setosa = iris[iris['species'] == 'Iris-setosa']\n",
    "\n",
    "print(stats.describe(setosa['sepal_width']))\n",
    "print(stats.shapiro(setosa['sepal_width']))\n",
    "\n",
    "\n",
    "plt.hist(versicolor['sepal_width'], alpha = .5)\n",
    "plt.hist(virginica['sepal_width'], alpha = .5)\n",
    "plt.hist(setosa['sepal_width'], alpha = .5)\n",
    "plt.show()\n",
    "\n"
   ]
  },
  {
   "cell_type": "markdown",
   "metadata": {
    "colab_type": "text",
    "id": "fOIE--Wsgfax"
   },
   "source": [
    "Great! Each species is normally distributed. However, our overlapping histograms are getting hard to read. We can create a series of histograms for each category by adding the `by` argument to `hist()`."
   ]
  },
  {
   "cell_type": "code",
   "execution_count": 8,
   "metadata": {
    "colab": {
     "base_uri": "https://localhost:8080/",
     "height": 370
    },
    "colab_type": "code",
    "id": "5pJC3nl5t2AH",
    "outputId": "8a4b5d00-2094-405b-96f5-0e1845145064"
   },
   "outputs": [
    {
     "data": {
      "text/plain": [
       "array([[<matplotlib.axes._subplots.AxesSubplot object at 0x00000198C2646388>,\n",
       "        <matplotlib.axes._subplots.AxesSubplot object at 0x00000198C2770908>],\n",
       "       [<matplotlib.axes._subplots.AxesSubplot object at 0x00000198C27AA2C8>,\n",
       "        <matplotlib.axes._subplots.AxesSubplot object at 0x00000198C27E4248>]],\n",
       "      dtype=object)"
      ]
     },
     "execution_count": 8,
     "metadata": {},
     "output_type": "execute_result"
    },
    {
     "data": {
      "image/png": "[encoded data removed]",
      "text/plain": [
       "<Figure size 432x288 with 4 Axes>"
      ]
     },
     "metadata": {
      "needs_background": "light"
     },
     "output_type": "display_data"
    }
   ],
   "source": [
    "iris['sepal_width'].hist(by = iris['species'])"
   ]
  },
  {
   "cell_type": "markdown",
   "metadata": {
    "colab_type": "text",
    "id": "SEOi716viUsp"
   },
   "source": [
    "Another option for comparing the frequencies of multiple groups simultaneously is with a boxplot: "
   ]
  },
  {
   "cell_type": "code",
   "execution_count": 9,
   "metadata": {
    "colab": {
     "base_uri": "https://localhost:8080/",
     "height": 437
    },
    "colab_type": "code",
    "id": "o6-3X5cLtli0",
    "outputId": "036a692e-1411-455c-8692-c89676aee453"
   },
   "outputs": [
    {
     "data": {
      "text/plain": [
       "<matplotlib.axes._subplots.AxesSubplot at 0x198c2747688>"
      ]
     },
     "execution_count": 9,
     "metadata": {},
     "output_type": "execute_result"
    },
    {
     "data": {
      "image/png": "[encoded data removed]",
      "text/plain": [
       "<Figure size 720x432 with 1 Axes>"
      ]
     },
     "metadata": {
      "needs_background": "light"
     },
     "output_type": "display_data"
    }
   ],
   "source": [
    "# Sepal width is normally distributed\n",
    "\n",
    "\n",
    "#Create a boxplot\n",
    "iris.boxplot('sepal_width', by='species', figsize=(10, 6))"
   ]
  },
  {
   "cell_type": "markdown",
   "metadata": {
    "colab_type": "text",
    "id": "UHM7cfGlY5Ik"
   },
   "source": [
    "## Comparing multiple groups"
   ]
  },
  {
   "cell_type": "markdown",
   "metadata": {
    "colab_type": "text",
    "id": "QUfzqnAGZrwb"
   },
   "source": [
    "While none of the three distributions look very pretty on a histogram, they are sufficiently close to the normal distribution (given the small sample size) that the mean and standard deviation would give us useful information.  \n",
    "\n",
    "We are now comparing three unrelated independent samples of data. The appropriate parametric choice is a one-way Analysis of Variance (ANOVA).  \n",
    "\n",
    "## One-Way ANOVA\n",
    "\n",
    "The one-way ANOVA's test statistic, called F, will identify whether any of the groups differs from the others.  \n",
    "\n",
    "The F-test alone *cannot* say which group (or groups) are the different ones.\n",
    "\n",
    "\\begin{equation}\n",
    "F=\\frac{{n\\sum(\\bar{Y}_j-\\bar{Y})^2}/{(a-1)}}{{\\sum\\sum(Y_{ij}-\\bar{Y}_j)^2}/{(N-a)}}\n",
    "\\end{equation}\n",
    "\n",
    "*n* is the number of datapoints in each group.  \n",
    "$\\bar{Y}_j$ is the mean for the *j*th group.  \n",
    "$\\bar{Y}$ is the overall mean.  \n",
    "$Y_{ij}$ is the *i*th value of *j*th group.  \n",
    "*a* is the number of groups.  \n",
    "*N* is the total number of datapoints.  \n",
    "\n",
    "The logic of the one-way ANOVA is to compare the variance between group means $\\bar{Y}_j$ and the overall mean $\\bar{Y}$ with the variance between observations within each group $Y_{ij}$ and the mean of that group $\\bar{Y}_j$.  This ratio is known as the F score. \n",
    "\n",
    "The F score is used to calculate the probability of getting a difference that large in the sample if there were no meaningful difference between the groups in the population. \n",
    "\n",
    "This is called a \"one-way\" ANOVA because we are analyzing the difference in *one* variable. If we were analyzing differences in more than one variable, we would use another test.\n",
    "\n",
    "We can conduct a one-way ANOVA using [`f_oneway`](https://docs.scipy.org/doc/scipy/reference/generated/scipy.stats.f_oneway.html) from `scipy.stats`."
   ]
  },
  {
   "cell_type": "code",
   "execution_count": 10,
   "metadata": {
    "colab": {
     "base_uri": "https://localhost:8080/",
     "height": 34
    },
    "colab_type": "code",
    "id": "1eDCIlLQcOiP",
    "outputId": "dc31e7ef-0dd5-4fa0-d1fc-795625b5d44b"
   },
   "outputs": [
    {
     "data": {
      "text/plain": [
       "F_onewayResult(statistic=47.36446140299382, pvalue=1.3279165184572242e-16)"
      ]
     },
     "execution_count": 10,
     "metadata": {},
     "output_type": "execute_result"
    }
   ],
   "source": [
    "stats.f_oneway(setosa['sepal_width'], versicolor['sepal_width'], virginica['sepal_width'])"
   ]
  },
  {
   "cell_type": "markdown",
   "metadata": {
    "colab_type": "text",
    "id": "zx7Jv8bsZ_x9"
   },
   "source": [
    "Like `ttest_ind()`, `f_oneway()` returns a test statistic, or F-value, and a p-value. We can compare the p-value against our desired alpha (usually .05) to determine statistical significance.  It appears that the three species are likely to differ in the population (p < .0001). \n",
    "\n",
    "But which group is the odd one out? \n",
    "\n",
    "Returning to the charts above, visual inspection suggests that the setosa species has a wider sepal width than versicolor or virginica. To formally test this, we can perform a set of pairwise t-tests comparing each group.\n",
    "\n"
   ]
  },
  {
   "cell_type": "code",
   "execution_count": 11,
   "metadata": {
    "colab": {
     "base_uri": "https://localhost:8080/",
     "height": 67
    },
    "colab_type": "code",
    "id": "Ai13SP1IaQ5u",
    "outputId": "abb2d77d-84ee-44aa-a755-0391e7d41b58"
   },
   "outputs": [
    {
     "name": "stdout",
     "output_type": "stream",
     "text": [
      "Ttest_indResult(statistic=9.282772555558111, pvalue=4.362239016010214e-15)\n",
      "Ttest_indResult(statistic=6.289384996672061, pvalue=8.916634067006443e-09)\n",
      "Ttest_indResult(statistic=-3.2057607502218186, pvalue=0.0018191004238894803)\n"
     ]
    }
   ],
   "source": [
    "print(stats.ttest_ind(setosa['sepal_width'], versicolor['sepal_width']))\n",
    "print(stats.ttest_ind(setosa['sepal_width'], virginica['sepal_width']))\n",
    "print(stats.ttest_ind(versicolor['sepal_width'], virginica['sepal_width']))"
   ]
  },
  {
   "cell_type": "markdown",
   "metadata": {
    "colab_type": "text",
    "id": "NqAYT3QHatun"
   },
   "source": [
    "## Multiple Testing Correction: Tukey's Honest Significant Differences (HSD) Test\n",
    "\n",
    "\n",
    "Instead of running many pairs of t-tests to find out which species is the odd one out, we could run a Tukey's HSD test.  Unlike a t-test, Tukey's HSD test does pairwise tests that use a variability estimate based on variability from all the groups combined (the denominator from the F-test above) rather than variability from only the two groups being tested.  \n",
    "\n",
    "\\begin{equation}\n",
    "Q=\\frac{M_i-M_j}{\\sqrt{MSE/n}}\n",
    "\\end{equation}\n",
    "\n",
    "Where $MSE ={\\sum\\sum(Y_{ij}-\\bar{Y}_j)^2}/{(N-a)}$ from the denominator of the F-test above (Mean Squared Error). $MSE$ is known as the *mean square error*.\n",
    "\n",
    "In addition, when calculating the probability of getting this ratio, the test statistic, *Q* will be evaluated in light of a modified probability distribution that takes into account the number of means being tested across all pairwise tests.\n",
    "\n",
    "Running Tukey's HSD using Python's `statsmodels` package will get us a table with the differences between each pair of means, the upper and lower bounds of that difference estimate, and whether we should reject the null hypothesis that each pair of groups is not different.  "
   ]
  },
  {
   "cell_type": "code",
   "execution_count": 12,
   "metadata": {
    "colab": {},
    "colab_type": "code",
    "id": "GzAZEYhdbBhc"
   },
   "outputs": [],
   "source": [
    "from statsmodels.stats.multicomp import pairwise_tukeyhsd\n",
    "\n",
    "tukey = pairwise_tukeyhsd(endog = iris['sepal_width'],      # Data\n",
    "                          groups = iris['species'],   # Groups\n",
    "                          alpha=0.05)         # Significance level\n"
   ]
  },
  {
   "cell_type": "code",
   "execution_count": 13,
   "metadata": {
    "colab": {
     "base_uri": "https://localhost:8080/",
     "height": 115
    },
    "colab_type": "code",
    "id": "LZUF3nWFDUg8",
    "outputId": "6e1df84c-9c3d-4ccd-8694-45f2640996b9"
   },
   "outputs": [
    {
     "data": {
      "text/html": [
       "<table class=\"simpletable\">\n",
       "<caption>Multiple Comparison of Means - Tukey HSD, FWER=0.05</caption>\n",
       "<tr>\n",
       "      <th>group1</th>          <th>group2</th>      <th>meandiff</th>  <th>p-adj</th>  <th>lower</th>   <th>upper</th>  <th>reject</th>\n",
       "</tr>\n",
       "<tr>\n",
       "    <td>Iris-setosa</td>   <td>Iris-versicolor</td>  <td>-0.648</td>   <td>0.001</td> <td>-0.8092</td> <td>-0.4868</td>  <td>True</td> \n",
       "</tr>\n",
       "<tr>\n",
       "    <td>Iris-setosa</td>   <td>Iris-virginica</td>   <td>-0.444</td>   <td>0.001</td> <td>-0.6052</td> <td>-0.2828</td>  <td>True</td> \n",
       "</tr>\n",
       "<tr>\n",
       "  <td>Iris-versicolor</td> <td>Iris-virginica</td>    <td>0.204</td>  <td>0.0089</td> <td>0.0428</td>  <td>0.3652</td>   <td>True</td> \n",
       "</tr>\n",
       "</table>"
      ],
      "text/plain": [
       "<class 'statsmodels.iolib.table.SimpleTable'>"
      ]
     },
     "execution_count": 13,
     "metadata": {},
     "output_type": "execute_result"
    }
   ],
   "source": [
    "tukey.summary()"
   ]
  },
  {
   "cell_type": "markdown",
   "metadata": {
    "colab_type": "text",
    "id": "wd9Aj-bqbz5_"
   },
   "source": [
    "## Multiple groups and Type I error\n",
    "\n",
    "You may be wondering why we went through all this trouble when we could have just done a bunch of t-tests comparing the groups. The reason for doing an ANOVA first, and following-up with post-hoc tests if the F-test suggests differences, is to prevent false positive results, or Type I errors.\n",
    "\n",
    "As you've read several times by now, data scientists often use a probability threshold of 5% (p = .05) to determine whether groups we are comparing in our sample are meaningfully different in the population (though the use of this threshold, or even the existence of a threshold at all, is widely debated). One way of interpreting that threshold is that if there were no real difference between the groups in the population, we would see differences like those in our sample less than 5% of the time. To put it another way, this threshold means we have a 1 in 20 chance of a false positive, of claiming there is a real difference when in fact, there is not.\n",
    "\n",
    "This 1 in 20 chance, however, only holds when we have done exactly one statistical test on the data. If we perform two statistical tests on the same data, the chances of getting a false positive on at least one of them are now 1 in 10: (1/20 + 1/20). If we were to perform 200 tests on the same data, it is likely that up to 10 of our tests are false positives.\n",
    "\n",
    "As data scientists, we want to be confident that our conclusions accurately reflect the population. There are various multiple test correction methods that can be used to keep chances of a false positive below the 5% threshold. One is Tukey's HSD test, which uses information about the overall sample variance and the number of groups being compared to \"raise the bar\" on how large a group difference must be before it passes the 5% probability threshold.\n",
    "\n",
    "There are many methods, some specific to certain types of analysis and others representing more general approaches suitable for many different statistical goals. [This article in Nature Biotechnology](https://www.nature.com/articles/nbt1209-1135) has a good review of decision-points involved in selecting a correctional approach."
   ]
  },
  {
   "cell_type": "markdown",
   "metadata": {
    "colab_type": "text",
    "id": "KPjy22BdZ7yC"
   },
   "source": [
    "## Paired t-tests for dependent groups \n",
    "\n",
    "So far, we have assumed that the groups we are comparing are made up of different people. Sometimes, however, we want to compare people to themselves, to see if changing an element (the color of a website, the text of an email, etc) changes peoples' reactions. This type of data leads to *dependent groups*, because if we know a person's response to condition A, we already have some information about how they might respond to condition B. As a result, different statistical methods are needed if we want to compare condition A to condition B.\n",
    "\n",
    "A paired t-test is used to compare two dependent (or \"paired\") groups. The difference score is calculated by subtracting each pair of scores and then calculating the mean difference, rather than calculating the difference of the means. \n",
    "\n",
    "In a paired t-test, if a person is missing data at either of the two time points, *their condition is discarded*. \n",
    "\n",
    "To demonstrate, let's read in a dataset recording blood pressures for 120 patients taken before and after an intervention. \n",
    "\n"
   ]
  },
  {
   "cell_type": "code",
   "execution_count": 14,
   "metadata": {
    "colab": {
     "base_uri": "https://localhost:8080/",
     "height": 185
    },
    "colab_type": "code",
    "id": "IrspiF3fZB2l",
    "outputId": "eac39408-9e94-40db-e664-da0cffa69c5a"
   },
   "outputs": [
    {
     "name": "stdout",
     "output_type": "stream",
     "text": [
      "<class 'pandas.core.frame.DataFrame'>\n",
      "RangeIndex: 120 entries, 0 to 119\n",
      "Data columns (total 5 columns):\n",
      " #   Column     Non-Null Count  Dtype \n",
      "---  ------     --------------  ----- \n",
      " 0   patient    120 non-null    int64 \n",
      " 1   sex        120 non-null    object\n",
      " 2   agegrp     120 non-null    object\n",
      " 3   bp_before  120 non-null    int64 \n",
      " 4   bp_after   120 non-null    int64 \n",
      "dtypes: int64(3), object(2)\n",
      "memory usage: 4.8+ KB\n"
     ]
    }
   ],
   "source": [
    "bp = pd.read_csv(\"https://raw.githubusercontent.com/Opensourcefordatascience/Data-sets/master/blood_pressure.csv\")\n",
    "bp.info()\n"
   ]
  },
  {
   "cell_type": "markdown",
   "metadata": {
    "colab_type": "text",
    "id": "vLepo-FzbBd1"
   },
   "source": [
    "Our null hypothesis for the paired t-test is that the mean difference between time points is equal to zero. \n",
    "\n",
    "The paired t-test assumes normality -- this time, on the *differences* between the two timepoints, not the raw values themselves. "
   ]
  },
  {
   "cell_type": "code",
   "execution_count": 15,
   "metadata": {
    "colab": {
     "base_uri": "https://localhost:8080/",
     "height": 306
    },
    "colab_type": "code",
    "id": "5Bk-Na8da2LU",
    "outputId": "350d5f4b-d22d-483e-c897-1df59bb0b3a9"
   },
   "outputs": [
    {
     "name": "stdout",
     "output_type": "stream",
     "text": [
      "DescribeResult(nobs=120, minmax=(-41, 45), mean=5.091666666666667, variance=279.34446778711487, skewness=-0.06267900990911217, kurtosis=-0.12080508546952107)\n"
     ]
    },
    {
     "data": {
      "image/png": "[encoded data removed]",
      "text/plain": [
       "<Figure size 432x288 with 1 Axes>"
      ]
     },
     "metadata": {
      "needs_background": "light"
     },
     "output_type": "display_data"
    }
   ],
   "source": [
    "bp['bp_difference'] = bp['bp_before'] - bp['bp_after']\n",
    "\n",
    "plt.hist(bp['bp_difference'])\n",
    "\n",
    "print(stats.describe(bp['bp_difference']))"
   ]
  },
  {
   "cell_type": "markdown",
   "metadata": {
    "colab_type": "text",
    "id": "Pob9cdtHZnUy"
   },
   "source": [
    "Normality is assumed, so to test this difference we will use [`ttest_rel`](https://docs.scipy.org/doc/scipy/reference/generated/scipy.stats.ttest_rel.html) from `scipy.stats`. "
   ]
  },
  {
   "cell_type": "code",
   "execution_count": 16,
   "metadata": {
    "colab": {
     "base_uri": "https://localhost:8080/",
     "height": 34
    },
    "colab_type": "code",
    "id": "mEww1-J6Zmvf",
    "outputId": "2fe0c040-9b4e-43d2-aacf-91fca315b1c5"
   },
   "outputs": [
    {
     "data": {
      "text/plain": [
       "Ttest_relResult(statistic=3.3371870510833657, pvalue=0.0011297914644840823)"
      ]
     },
     "execution_count": 16,
     "metadata": {},
     "output_type": "execute_result"
    }
   ],
   "source": [
    "stats.ttest_rel(bp['bp_before'], bp['bp_after'])"
   ]
  },
  {
   "cell_type": "markdown",
   "metadata": {
    "colab_type": "text",
    "id": "uyc87ASGbEiT"
   },
   "source": [
    "Going by the p-value, the findings are significant. The difference in means is significantly different than zero."
   ]
  },
  {
   "cell_type": "markdown",
   "metadata": {
    "colab_type": "text",
    "id": "wbOs93a3c6Qr"
   },
   "source": [
    "# Nonparametric tests\n",
    "\n",
    "If a visual inspection of the data (potentially in combination with the Shapiro-Wilk test) show that the data is meaningfully non-normal, then any statistics that assume normality will give results that are biased or just straight-up wrong.  \n",
    "\n",
    "Fortunately, there are nonparametric versions of all common statistical methods.  Nonparametric methods are less powerful (given the same sample size, a parametric test will be able to detect smaller trends in the data), which is why they are not used all the time.  \n",
    "\n",
    "Generally speaking, a nonparametric test works by first converting variable values into rankings, from the lowest value (1st place) to the highest value (last place).  Here is an example of a “height in inches” variable in its original scale, and when converted into ranks:\n",
    "\n",
    "|Height|Height|\n",
    "|---|---|\n",
    "|Inches\t\t|Ranks|\n",
    "|\t60\t|\t4|\n",
    "|\t57\t|\t3|\n",
    "|\t72\t|\t7|\n",
    "|\t55\t|\t2|\n",
    "|\t51\t|\t1|\n",
    "|\t66\t|\t5|\n",
    "|\t69\t|\t6|\n",
    "\n",
    "Once the variable values are converted into ranks, statistical tests are performed on the ranks. \n"
   ]
  },
  {
   "cell_type": "markdown",
   "metadata": {
    "colab_type": "text",
    "id": "TM8zSeopdX67"
   },
   "source": [
    "For an example, let's compare the distributions by species for the `petal_width` variable."
   ]
  },
  {
   "cell_type": "code",
   "execution_count": 17,
   "metadata": {
    "colab": {
     "base_uri": "https://localhost:8080/",
     "height": 376
    },
    "colab_type": "code",
    "id": "xev9JfcAdwlh",
    "outputId": "15363a49-8fb7-4290-eac3-021aea60de48"
   },
   "outputs": [
    {
     "data": {
      "text/plain": [
       "array([[<matplotlib.axes._subplots.AxesSubplot object at 0x00000198C2B4DE48>,\n",
       "        <matplotlib.axes._subplots.AxesSubplot object at 0x00000198C2B8CD88>],\n",
       "       [<matplotlib.axes._subplots.AxesSubplot object at 0x00000198C2BC8548>,\n",
       "        <matplotlib.axes._subplots.AxesSubplot object at 0x00000198C2BFBF48>]],\n",
       "      dtype=object)"
      ]
     },
     "execution_count": 17,
     "metadata": {},
     "output_type": "execute_result"
    },
    {
     "data": {
      "image/png": "[encoded data removed]",
      "text/plain": [
       "<Figure size 432x288 with 4 Axes>"
      ]
     },
     "metadata": {
      "needs_background": "light"
     },
     "output_type": "display_data"
    }
   ],
   "source": [
    "iris['petal_width'].hist(by = iris['species'])"
   ]
  },
  {
   "cell_type": "markdown",
   "metadata": {
    "colab_type": "text",
    "id": "Xq5RO_XXd9vB"
   },
   "source": [
    "Simply by looking at the visualizations, this variable does not appear normally distributed. We will need to conduct a non-parametric test. "
   ]
  },
  {
   "cell_type": "markdown",
   "metadata": {
    "colab_type": "text",
    "id": "PzfKrdULeCAF"
   },
   "source": [
    "### Kruskal-Wallis Test\n",
    "\n",
    "The Kruskal-Wallis test is used for two or more groups.  While this test is a bit complicated, the underlying logic is the same as the one-way ANOVA we covered earlier.  First, we compute an estimate of the size of the differences between the groups, then we put that difference into context by dividing it by the amount of variance in the groups.\n",
    "\n",
    "\\begin{equation}\n",
    "H=(N-1)\\frac{\\sum_{i=1}^gn_i(\\bar{r}_i-\\bar{r})^2}{\\sum_{i=1}^g\\sum_{j=1}^{n_i}(r_{ij}-\\bar{r})^2}\n",
    "\\end{equation}\n",
    "\n",
    "*H* is the test statistic.  \n",
    "$n_i$ is the number of datapoints in group *i*.   \n",
    "$r_{ij}$ is the rank of datapoint *j* in group *i* when ranked among all datapoints in all groups.  \n",
    "*N* is the total number of datapoints.  \n",
    "$\\bar{r}_i$ is the average rank of all datapoints in group *i*.  \n",
    "$\\bar{r}$ is the average of all the ranks, and can be calculated as $\\frac12(N+1)$.  \n",
    "\n",
    "\n",
    "This test works by first converting all the data into ranks from 1 (highest value) to N (lowest).  Then the overall average rank $\\bar{r}$ is subtracted from the average rank for each group $\\bar{r}_i$.  For each group, the difference is squared, then multiplied by the size of the group $n_i$ .  Finally, the scaled squared differences are summed to create the numerator.  This provides information on how different the mean ranks for each group are from one another.\n",
    "\n",
    "Then, for each observation within a group, the average overall rank $\\bar{r}$ is subtracted from the rank of each observation $r_{ij}$ .  This difference is squared and summed.  Finally, the group-level sums are added together to create the denominator.  This tells us how much variability there is within each group, which is then pooled to create an estimate of the variance of the sample.\n",
    "\n",
    "The test statistic *H* represents the ratio of the divergence of each group mean rank from the overall mean rank relative to the variance in ranks within each group, multiplied by the size of the sample *N*-1.  The larger the value of H, the more likely it is that one of the groups differs meaningfully from the others in the population. The test does not indicate which samples are larger or by how much.\n",
    "\n",
    "We will conduct this test using [`kruskal()`](https://docs.scipy.org/doc/scipy/reference/generated/scipy.stats.kruskal.html) from `scipy.stats`.\n"
   ]
  },
  {
   "cell_type": "code",
   "execution_count": 18,
   "metadata": {
    "colab": {
     "base_uri": "https://localhost:8080/",
     "height": 34
    },
    "colab_type": "code",
    "id": "aTriQyhyeIt4",
    "outputId": "11731603-eb26-4f98-961c-9c78d88150a2"
   },
   "outputs": [
    {
     "data": {
      "text/plain": [
       "KruskalResult(statistic=131.09335318823713, pvalue=3.415387999117524e-29)"
      ]
     },
     "execution_count": 18,
     "metadata": {},
     "output_type": "execute_result"
    }
   ],
   "source": [
    "stats.kruskal(setosa['petal_width'], virginica['petal_width'],versicolor['petal_width'])"
   ]
  },
  {
   "cell_type": "markdown",
   "metadata": {
    "colab_type": "text",
    "id": "qkuUwy8YGkAr"
   },
   "source": [
    "Based on the p-value, we can reject the null that all variables have the same distribution."
   ]
  },
  {
   "cell_type": "markdown",
   "metadata": {
    "colab_type": "text",
    "id": "UN2UUDp-bSgP"
   },
   "source": [
    "### Wilcoxon signed-rank test\n",
    "\n",
    "This is a dependent or paired test for samples that are not normally distributed.\n",
    "\n",
    "As the name implies, the Wilcoxon uses ranked values to test whether the difference in pairs follows a symmetric distribution around zero. More succintly, our null is that the median difference between pairs of observations is zero.\n",
    "\n",
    "Let's try on a sample of cortisol readings in the morning and the evening. Source:[ StatsGuru](https://statsguru.bham.ac.uk/downloads). "
   ]
  },
  {
   "cell_type": "code",
   "execution_count": 19,
   "metadata": {
    "colab": {
     "base_uri": "https://localhost:8080/",
     "height": 195
    },
    "colab_type": "code",
    "id": "WjifJbMgcf9D",
    "outputId": "16c755a4-90c3-41c4-bc13-97a53202e174"
   },
   "outputs": [
    {
     "data": {
      "text/html": [
       "<div>\n",
       "<style scoped>\n",
       "    .dataframe tbody tr th:only-of-type {\n",
       "        vertical-align: middle;\n",
       "    }\n",
       "\n",
       "    .dataframe tbody tr th {\n",
       "        vertical-align: top;\n",
       "    }\n",
       "\n",
       "    .dataframe thead th {\n",
       "        text-align: right;\n",
       "    }\n",
       "</style>\n",
       "<table border=\"1\" class=\"dataframe\">\n",
       "  <thead>\n",
       "    <tr style=\"text-align: right;\">\n",
       "      <th></th>\n",
       "      <th>cortisol_morning</th>\n",
       "      <th>cortisol_evening</th>\n",
       "    </tr>\n",
       "  </thead>\n",
       "  <tbody>\n",
       "    <tr>\n",
       "      <th>0</th>\n",
       "      <td>33.26</td>\n",
       "      <td>12.44</td>\n",
       "    </tr>\n",
       "    <tr>\n",
       "      <th>1</th>\n",
       "      <td>7.37</td>\n",
       "      <td>2.55</td>\n",
       "    </tr>\n",
       "    <tr>\n",
       "      <th>2</th>\n",
       "      <td>18.83</td>\n",
       "      <td>6.34</td>\n",
       "    </tr>\n",
       "    <tr>\n",
       "      <th>3</th>\n",
       "      <td>62.70</td>\n",
       "      <td>34.89</td>\n",
       "    </tr>\n",
       "    <tr>\n",
       "      <th>4</th>\n",
       "      <td>7.10</td>\n",
       "      <td>3.55</td>\n",
       "    </tr>\n",
       "  </tbody>\n",
       "</table>\n",
       "</div>"
      ],
      "text/plain": [
       "   cortisol_morning  cortisol_evening\n",
       "0             33.26             12.44\n",
       "1              7.37              2.55\n",
       "2             18.83              6.34\n",
       "3             62.70             34.89\n",
       "4              7.10              3.55"
      ]
     },
     "execution_count": 19,
     "metadata": {},
     "output_type": "execute_result"
    }
   ],
   "source": [
    "cortisol = pd.read_csv(\"https://tf-assets-prod.s3.amazonaws.com/tf-curric/data-science/wilcoxon-matched-pairs-data.csv\")\n",
    "cortisol.head()\n"
   ]
  },
  {
   "cell_type": "markdown",
   "metadata": {
    "colab_type": "text",
    "id": "9LjrGD0hh-FP"
   },
   "source": [
    "We can confirm visually these are not normally distributed: "
   ]
  },
  {
   "cell_type": "code",
   "execution_count": 20,
   "metadata": {
    "colab": {
     "base_uri": "https://localhost:8080/",
     "height": 336
    },
    "colab_type": "code",
    "id": "Bwu7KG9SiBz2",
    "outputId": "728e4c3a-e941-4837-eaa0-c92e7b6a79f9"
   },
   "outputs": [
    {
     "data": {
      "text/plain": [
       "(array([9., 2., 4., 1., 0., 2., 0., 0., 0., 2.]),\n",
       " array([ 1.21 ,  4.578,  7.946, 11.314, 14.682, 18.05 , 21.418, 24.786,\n",
       "        28.154, 31.522, 34.89 ]),\n",
       " <a list of 10 Patch objects>)"
      ]
     },
     "execution_count": 20,
     "metadata": {},
     "output_type": "execute_result"
    },
    {
     "data": {
      "image/png": "[encoded data removed]",
      "text/plain": [
       "<Figure size 432x288 with 1 Axes>"
      ]
     },
     "metadata": {
      "needs_background": "light"
     },
     "output_type": "display_data"
    }
   ],
   "source": [
    "plt.hist(cortisol['cortisol_morning'], alpha = .5)\n",
    "plt.hist(cortisol['cortisol_evening'], alpha = .5)\n"
   ]
  },
  {
   "cell_type": "markdown",
   "metadata": {
    "colab_type": "text",
    "id": "_hanEOIYiB95"
   },
   "source": [
    "Let's run the rest with [`wilcoxon()`](https://docs.scipy.org/doc/scipy/reference/generated/scipy.stats.wilcoxon.html) from `scipy.stats`."
   ]
  },
  {
   "cell_type": "code",
   "execution_count": 21,
   "metadata": {
    "colab": {
     "base_uri": "https://localhost:8080/",
     "height": 34
    },
    "colab_type": "code",
    "id": "RGv7PCM3hyaX",
    "outputId": "0b9769a2-1cc0-4d55-9be3-035f77ec323a"
   },
   "outputs": [
    {
     "data": {
      "text/plain": [
       "WilcoxonResult(statistic=13.0, pvalue=0.0005934167947217433)"
      ]
     },
     "execution_count": 21,
     "metadata": {},
     "output_type": "execute_result"
    }
   ],
   "source": [
    "stats.wilcoxon((cortisol['cortisol_morning']-cortisol['cortisol_evening']))"
   ]
  },
  {
   "cell_type": "markdown",
   "metadata": {
    "colab_type": "text",
    "id": "A_zbYvJ7i6ik"
   },
   "source": [
    "The median difference between pairs of observations is significantly different from zero."
   ]
  },
  {
   "cell_type": "markdown",
   "metadata": {
    "colab_type": "text",
    "id": "o0l6USSUYkN7"
   },
   "source": [
    "## Overview\n",
    "\n",
    "This checkpoint served as an introduction to comparing groups when the assumptions of a t-test are not met. \n",
    "\n",
    "Here is a recap of when to use what test:\n",
    "\n",
    "<table border=\"1\">\n",
    "<tr>\n",
    "<th>Experiment Type</th>\n",
    "<th colspan=\"2\">Normally Distributed</th>\n",
    "<th colspan=\"2\">Non-Normally Distributed</th>\n",
    "</tr>\n",
    "<tr>\n",
    "<th></th>\n",
    "<th>Test</th>\n",
    "<th>Function</th>\n",
    "<th>Test</th>\n",
    "<th>Function</th>\n",
    "</tr>\n",
    "<tr>\n",
    "<td>A/B test, two independent groups</td>\n",
    "<td>t-test for independent samples</td>\n",
    "<td><a href=\"https://docs.scipy.org/doc/scipy/reference/generated/scipy.stats.ttest_ind.html#scipy.stats.ttest_ind\"><code>scipy.stats.ttest_ind()</code></a></td>\n",
    "<td>Mann-Whitney U test<br>\n",
    "Moon's Median Test<br>\n",
    "Kruskal-Wallis Test</td>\n",
    "\n",
    " <td><a href=\"https://docs.scipy.org/doc/scipy/reference/generated/scipy.stats.mannwhitneyu.html#scipy.stats.mannwhitneyu\"><code>scipy.stats.mannwhitneyu()</code></a><br><a href=\"https://docs.scipy.org/doc/scipy/reference/generated/scipy.stats.median_test.html#scipy.stats.median_test\"><code>scipy.stats.median_test()</code></a>\n",
    "<br><a href=\"https://docs.scipy.org/doc/scipy/reference/generated/scipy.stats.kruskal.html#scipy.stats.kruskal\"><code>scipy.stats.kruskal()</code></a>\n",
    "</td>\n",
    "</tr>\n",
    "  \n",
    "<tr>\n",
    "<td>A/B/C/… test, three or more independent groups</td>\n",
    "<td>One-way ANOVA</td>\n",
    "  \n",
    "<td><a href=\"https://docs.scipy.org/doc/scipy/reference/generated/scipy.stats.f_oneway.html#scipy.stats.f_oneway\"><code>scipy.stats.f_oneway()</code></a></td>\n",
    "<td>Mood’s median test<br>\n",
    "Kruskal-Wallis test<td><a href=\"https://docs.scipy.org/doc/scipy/reference/generated/scipy.stats.median_test.html#scipy.stats.median_test\"><code>scipy.stats.median_test()</code></a>\n",
    "<br><a href=\"https://docs.scipy.org/doc/scipy/reference/generated/scipy.stats.kruskal.html#scipy.stats.kruskal\"><code>scipy.stats.kruskal()</code></a>\n",
    "</td>\n",
    "\n",
    "\n",
    "</tr>\n",
    "<tr>\n",
    "<td>A/B test where all participants experience both versions</td>\n",
    "<td>t-test for paired samples</td>\n",
    "<td><a href=\"https://docs.scipy.org/doc/scipy/reference/generated/scipy.stats.ttest_rel.html#scipy.stats.ttest_rel\"><code>scipy.stats.ttest_rel()</code></a></td>\n",
    "<td>Wilcoxon signed-rank test</td>\n",
    "<td><a href=\"https://docs.scipy.org/doc/scipy/reference/generated/scipy.stats.wilcoxon.html#scipy.stats.wilcoxon\"><code>scipy.stats.wilcoxon()</code></a></td>\n",
    "</tr>\n",
    "</table>\n",
    "\n"
   ]
  }
 ],
 "metadata": {
  "colab": {
   "collapsed_sections": [],
   "name": "checkpoint_4_beyond_a_b_testing.ipynb",
   "provenance": []
  },
  "kernelspec": {
   "display_name": "Python 3",
   "language": "python",
   "name": "python3"
  },
  "language_info": {
   "codemirror_mode": {
    "name": "ipython",
    "version": 3
   },
   "file_extension": ".py",
   "mimetype": "text/x-python",
   "name": "python",
   "nbconvert_exporter": "python",
   "pygments_lexer": "ipython3",
   "version": "3.7.7"
  }
 },
 "nbformat": 4,
 "nbformat_minor": 1
}
