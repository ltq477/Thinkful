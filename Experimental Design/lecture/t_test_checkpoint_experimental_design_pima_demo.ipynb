{
 "cells": [
  {
   "cell_type": "markdown",
   "metadata": {
    "colab_type": "text",
    "id": "AcQMPf1oBJbM"
   },
   "source": [
    "## Introducing the Pima dataset\n",
    "\n",
    "This data contains health statistics of female members of the Pima tribe. To learn more about the dataset see [here](https://www.andreagrandi.it/2018/04/14/machine-learning-pima-indians-diabetes/). \n",
    "\n",
    "For this analysis, we will explore whether patients with diabetes have higher insulin and glucose levels than those without diabetes. \n",
    "\n",
    "Let's initialize the data and get started."
   ]
  },
  {
   "cell_type": "code",
   "execution_count": 0,
   "metadata": {
    "colab": {
     "base_uri": "https://localhost:8080/",
     "height": 430
    },
    "colab_type": "code",
    "id": "B-eRSQ5jBir1",
    "outputId": "80a1ba8a-fe47-4c7f-8ef2-1b0282a8e6a9"
   },
   "outputs": [
    {
     "name": "stdout",
     "output_type": "stream",
     "text": [
      "<class 'pandas.core.frame.DataFrame'>\n",
      "RangeIndex: 768 entries, 0 to 767\n",
      "Data columns (total 9 columns):\n",
      "pregnancies          768 non-null int64\n",
      "glucose              768 non-null int64\n",
      "blood_pressure       768 non-null int64\n",
      "skin_thickness       768 non-null int64\n",
      "insulin              768 non-null int64\n",
      "bmi                  768 non-null float64\n",
      "diabetes_pedigree    768 non-null float64\n",
      "age                  768 non-null int64\n",
      "outcome              768 non-null int64\n",
      "dtypes: float64(2), int64(7)\n",
      "memory usage: 54.1 KB\n"
     ]
    },
    {
     "data": {
      "text/html": [
       "<div>\n",
       "<style scoped>\n",
       "    .dataframe tbody tr th:only-of-type {\n",
       "        vertical-align: middle;\n",
       "    }\n",
       "\n",
       "    .dataframe tbody tr th {\n",
       "        vertical-align: top;\n",
       "    }\n",
       "\n",
       "    .dataframe thead th {\n",
       "        text-align: right;\n",
       "    }\n",
       "</style>\n",
       "<table border=\"1\" class=\"dataframe\">\n",
       "  <thead>\n",
       "    <tr style=\"text-align: right;\">\n",
       "      <th></th>\n",
       "      <th>pregnancies</th>\n",
       "      <th>glucose</th>\n",
       "      <th>blood_pressure</th>\n",
       "      <th>skin_thickness</th>\n",
       "      <th>insulin</th>\n",
       "      <th>bmi</th>\n",
       "      <th>diabetes_pedigree</th>\n",
       "      <th>age</th>\n",
       "      <th>outcome</th>\n",
       "    </tr>\n",
       "  </thead>\n",
       "  <tbody>\n",
       "    <tr>\n",
       "      <th>0</th>\n",
       "      <td>6</td>\n",
       "      <td>148</td>\n",
       "      <td>72</td>\n",
       "      <td>35</td>\n",
       "      <td>0</td>\n",
       "      <td>33.6</td>\n",
       "      <td>0.627</td>\n",
       "      <td>50</td>\n",
       "      <td>1</td>\n",
       "    </tr>\n",
       "    <tr>\n",
       "      <th>1</th>\n",
       "      <td>1</td>\n",
       "      <td>85</td>\n",
       "      <td>66</td>\n",
       "      <td>29</td>\n",
       "      <td>0</td>\n",
       "      <td>26.6</td>\n",
       "      <td>0.351</td>\n",
       "      <td>31</td>\n",
       "      <td>0</td>\n",
       "    </tr>\n",
       "    <tr>\n",
       "      <th>2</th>\n",
       "      <td>8</td>\n",
       "      <td>183</td>\n",
       "      <td>64</td>\n",
       "      <td>0</td>\n",
       "      <td>0</td>\n",
       "      <td>23.3</td>\n",
       "      <td>0.672</td>\n",
       "      <td>32</td>\n",
       "      <td>1</td>\n",
       "    </tr>\n",
       "    <tr>\n",
       "      <th>3</th>\n",
       "      <td>1</td>\n",
       "      <td>89</td>\n",
       "      <td>66</td>\n",
       "      <td>23</td>\n",
       "      <td>94</td>\n",
       "      <td>28.1</td>\n",
       "      <td>0.167</td>\n",
       "      <td>21</td>\n",
       "      <td>0</td>\n",
       "    </tr>\n",
       "    <tr>\n",
       "      <th>4</th>\n",
       "      <td>0</td>\n",
       "      <td>137</td>\n",
       "      <td>40</td>\n",
       "      <td>35</td>\n",
       "      <td>168</td>\n",
       "      <td>43.1</td>\n",
       "      <td>2.288</td>\n",
       "      <td>33</td>\n",
       "      <td>1</td>\n",
       "    </tr>\n",
       "  </tbody>\n",
       "</table>\n",
       "</div>"
      ],
      "text/plain": [
       "   pregnancies  glucose  blood_pressure  ...  diabetes_pedigree  age  outcome\n",
       "0            6      148              72  ...              0.627   50        1\n",
       "1            1       85              66  ...              0.351   31        0\n",
       "2            8      183              64  ...              0.672   32        1\n",
       "3            1       89              66  ...              0.167   21        0\n",
       "4            0      137              40  ...              2.288   33        1\n",
       "\n",
       "[5 rows x 9 columns]"
      ]
     },
     "execution_count": 11,
     "metadata": {
      "tags": []
     },
     "output_type": "execute_result"
    }
   ],
   "source": [
    "# Set up environment\n",
    "\n",
    "import math\n",
    "import pandas as pd\n",
    "import numpy as np\n",
    "from scipy import stats\n",
    "import matplotlib.pyplot as plt\n",
    "\n",
    "# Read in our data\n",
    "\n",
    "diabetes = pd.read_csv(\"https://tf-assets-prod.s3.amazonaws.com/tf-curric/data-science/pima_indians_diabetes.csv\")\n",
    "\n",
    "# Get to know the data a bit\n",
    "\n",
    "diabetes.info()\n",
    "\n",
    "diabetes.head()"
   ]
  },
  {
   "cell_type": "markdown",
   "metadata": {
    "colab_type": "text",
    "id": "WScPP5TPNDHF"
   },
   "source": [
    "The final variable, `outcome`, indicates whether a patient has diabetes. A `1` is a yes and a `0` is a no. Let's split the data based on this variable for ease of analysis. "
   ]
  },
  {
   "cell_type": "code",
   "execution_count": 0,
   "metadata": {
    "colab": {
     "base_uri": "https://localhost:8080/",
     "height": 485
    },
    "colab_type": "code",
    "id": "t1d8i3JoApdh",
    "outputId": "aa65d94d-d968-448a-e85a-1e8bfb1e63fa"
   },
   "outputs": [
    {
     "name": "stdout",
     "output_type": "stream",
     "text": [
      "<class 'pandas.core.frame.DataFrame'>\n",
      "Int64Index: 268 entries, 0 to 766\n",
      "Data columns (total 9 columns):\n",
      "pregnancies          268 non-null int64\n",
      "glucose              268 non-null int64\n",
      "blood_pressure       268 non-null int64\n",
      "skin_thickness       268 non-null int64\n",
      "insulin              268 non-null int64\n",
      "bmi                  268 non-null float64\n",
      "diabetes_pedigree    268 non-null float64\n",
      "age                  268 non-null int64\n",
      "outcome              268 non-null int64\n",
      "dtypes: float64(2), int64(7)\n",
      "memory usage: 20.9 KB\n",
      "<class 'pandas.core.frame.DataFrame'>\n",
      "Int64Index: 500 entries, 1 to 767\n",
      "Data columns (total 9 columns):\n",
      "pregnancies          500 non-null int64\n",
      "glucose              500 non-null int64\n",
      "blood_pressure       500 non-null int64\n",
      "skin_thickness       500 non-null int64\n",
      "insulin              500 non-null int64\n",
      "bmi                  500 non-null float64\n",
      "diabetes_pedigree    500 non-null float64\n",
      "age                  500 non-null int64\n",
      "outcome              500 non-null int64\n",
      "dtypes: float64(2), int64(7)\n",
      "memory usage: 39.1 KB\n"
     ]
    }
   ],
   "source": [
    "# Split up our dataset\n",
    "diabetes_yes = diabetes[(diabetes['outcome'] == 1)]\n",
    "diabetes_yes.info()\n",
    "\n",
    "diabetes_no = diabetes[(diabetes['outcome'] == 0)]\n",
    "diabetes_no.info()"
   ]
  },
  {
   "cell_type": "markdown",
   "metadata": {
    "colab_type": "text",
    "id": "YqPHRc81NaWB"
   },
   "source": [
    "We have nearly twice the number of patients without diabetes as with diabetes. A difference in sample size is *not* an issue for an independent samples t-test. Each sample is large enough and should give reliable estimates, given the data meets the rest of our assumptions.\n",
    "\n",
    "Let's continue with the analysis."
   ]
  },
  {
   "cell_type": "markdown",
   "metadata": {
    "colab_type": "text",
    "id": "x4Kekhu_NprR"
   },
   "source": [
    "## 1. Do patients with diabetes have higher insulin levels on average than patients without diabetes?\n",
    "\n",
    "Before running the t-test, let's check whether the samples are normally distributed. We'll do that both visually and through descriptive statistics.\n",
    "\n",
    "Using `matplotlib.pyplot` we can plot histograms of each sample. By setting `alpha = .5`, the transparency of each histogram is reduced so we can more easily make out overlapping areas. "
   ]
  },
  {
   "cell_type": "code",
   "execution_count": 0,
   "metadata": {
    "colab": {
     "base_uri": "https://localhost:8080/",
     "height": 269
    },
    "colab_type": "code",
    "id": "yc1_lc4QGzAQ",
    "outputId": "81cd16cb-26f6-43bd-d8bd-d18765655dac"
   },
   "outputs": [
    {
     "data": {
      "image/png": "[encoded data removed]",
      "text/plain": [
       "<Figure size 432x288 with 1 Axes>"
      ]
     },
     "metadata": {
      "tags": []
     },
     "output_type": "display_data"
    }
   ],
   "source": [
    "plt.hist(diabetes_yes['insulin'], alpha = .5)\n",
    "plt.hist(diabetes_no['insulin'], alpha = .5)\n",
    "plt.show()"
   ]
  },
  {
   "cell_type": "markdown",
   "metadata": {
    "colab_type": "text",
    "id": "RrGxvoZQI-sx"
   },
   "source": [
    "It appears from the histograms that this data does not fit a bell curve. \n",
    "\n",
    "To confirm, let's also retrieve the  exact measures of skewness and kurtosis. We will do that with `describe()` from [`scipy.stats`](https://docs.scipy.org/doc/scipy/reference/generated/scipy.stats.describe.html)."
   ]
  },
  {
   "cell_type": "code",
   "execution_count": 0,
   "metadata": {
    "colab": {
     "base_uri": "https://localhost:8080/",
     "height": 70
    },
    "colab_type": "code",
    "id": "lpQRSi5dIBFI",
    "outputId": "63c7ae1d-05dd-496b-ab18-e62c7d30b51d"
   },
   "outputs": [
    {
     "name": "stdout",
     "output_type": "stream",
     "text": [
      "DescribeResult(nobs=268, minmax=(0, 846), mean=100.33582089552239, variance=19234.673318799265, skewness=1.8334954476833978, kurtosis=4.257259307676043)\n",
      "DescribeResult(nobs=500, minmax=(0, 744), mean=68.792, variance=9774.345426853706, skewness=2.4912385539481763, kurtosis=9.35149885142989)\n"
     ]
    }
   ],
   "source": [
    "print(stats.describe(diabetes_yes['insulin']))\n",
    "print(stats.describe(diabetes_no['insulin']))"
   ]
  },
  {
   "cell_type": "markdown",
   "metadata": {
    "colab_type": "text",
    "id": "2raKRzc1LC-8"
   },
   "source": [
    "From both the histograms and the statistics, it appears that the samples of this variable are not normally distributed. We will stop our analysis.\n",
    "\n",
    "We will provide options later in the course for how to proceed with the analysis. For now, let's try another variable: glucose. "
   ]
  },
  {
   "cell_type": "markdown",
   "metadata": {
    "colab_type": "text",
    "id": "mYcFjW1WLKD5"
   },
   "source": [
    "## 2. Do patients with diabetes have higher glucose levels on average than patients without diabetes?"
   ]
  },
  {
   "cell_type": "markdown",
   "metadata": {
    "colab_type": "text",
    "id": "di38CkNZQKnF"
   },
   "source": [
    "We begin our analysis with the same procedures in checking the sample distributions for normality."
   ]
  },
  {
   "cell_type": "code",
   "execution_count": 0,
   "metadata": {
    "colab": {
     "base_uri": "https://localhost:8080/",
     "height": 269
    },
    "colab_type": "code",
    "id": "AMLvfPnNLSaR",
    "outputId": "0a4761ed-bf83-44ae-9d59-faa100ee6ae6"
   },
   "outputs": [
    {
     "data": {
      "image/png": "[encoded data removed]",
      "text/plain": [
       "<Figure size 432x288 with 1 Axes>"
      ]
     },
     "metadata": {
      "tags": []
     },
     "output_type": "display_data"
    }
   ],
   "source": [
    "plt.hist(diabetes_yes['glucose'], alpha = .5)\n",
    "plt.hist(diabetes_no['glucose'], alpha = .5)\n",
    "plt.show()"
   ]
  },
  {
   "cell_type": "markdown",
   "metadata": {
    "colab_type": "text",
    "id": "l7fPZUppRGUi"
   },
   "source": [
    "These samples look at least *somewhat* more normally distributed than the previous variable.\n",
    "\n",
    "Plotting the histogram also led us to another benefit: spotting misleading values. The histogram has plotted some values of 0 glucose. This is a small selection of the data, so we are safe simply dropping it and proceeding with the analysis."
   ]
  },
  {
   "cell_type": "code",
   "execution_count": 0,
   "metadata": {
    "colab": {
     "base_uri": "https://localhost:8080/",
     "height": 269
    },
    "colab_type": "code",
    "id": "CI5spVIiLrtZ",
    "outputId": "a5a3f13b-63f1-49e1-e53f-f4fb6cd7dedf"
   },
   "outputs": [
    {
     "data": {
      "image/png": "[encoded data removed]",
      "text/plain": [
       "<Figure size 432x288 with 1 Axes>"
      ]
     },
     "metadata": {
      "tags": []
     },
     "output_type": "display_data"
    }
   ],
   "source": [
    "diabetes_yes_filtered_glucose = diabetes_yes[diabetes_yes['glucose']!= 0]\n",
    "diabetes_no_filtered_glucose = diabetes_no[diabetes_no['glucose']!= 0]\n",
    "\n",
    "plt.hist(diabetes_yes_filtered_glucose['glucose'], alpha = .5)\n",
    "plt.hist(diabetes_no_filtered_glucose['glucose'], alpha = .5)\n",
    "plt.show()"
   ]
  },
  {
   "cell_type": "markdown",
   "metadata": {
    "colab_type": "text",
    "id": "w4n71w_vRdBM"
   },
   "source": [
    "Our histogram looks cleaner now! But the distributions are still questionably normal. Let's get the skewness and kurtosis as well:"
   ]
  },
  {
   "cell_type": "code",
   "execution_count": 0,
   "metadata": {
    "colab": {
     "base_uri": "https://localhost:8080/",
     "height": 70
    },
    "colab_type": "code",
    "id": "9ZiYoYBBLyVq",
    "outputId": "a4031cd8-b197-4213-df1c-bcd72129d9d2"
   },
   "outputs": [
    {
     "name": "stdout",
     "output_type": "stream",
     "text": [
      "DescribeResult(nobs=266, minmax=(78, 199), mean=142.31954887218046, variance=876.1125975315648, skewness=0.09012092392161705, kurtosis=-0.9626447554252175)\n",
      "DescribeResult(nobs=497, minmax=(44, 197), mean=110.64386317907444, variance=613.8950882715649, skewness=0.6529596223112593, kurtosis=0.6434398312102663)\n"
     ]
    }
   ],
   "source": [
    "print(stats.describe(diabetes_yes_filtered_glucose['glucose']))\n",
    "print(stats.describe(diabetes_no_filtered_glucose['glucose']))"
   ]
  },
  {
   "cell_type": "markdown",
   "metadata": {
    "colab_type": "text",
    "id": "mvsi0uPuRmes"
   },
   "source": [
    "We can live with these results! \n",
    "\n",
    "Since the data meets our assumptions, let's proceed this time to the t-test. \n",
    "\n",
    "In Python we will use [`ttest_ind()`](https://docs.scipy.org/doc/scipy/reference/generated/scipy.stats.ttest_ind.html) from `scipy.stats`.\n",
    "\n",
    "Our two arguments will be the two arrays representing the glucose levels of patients with and without diabetes."
   ]
  },
  {
   "cell_type": "code",
   "execution_count": 0,
   "metadata": {
    "colab": {
     "base_uri": "https://localhost:8080/",
     "height": 33
    },
    "colab_type": "code",
    "id": "O-ik_QEUNHBj",
    "outputId": "32b31a6a-c6ad-4b5a-aba2-44230bc6e926"
   },
   "outputs": [
    {
     "data": {
      "text/plain": [
       "Ttest_indResult(statistic=15.700907488875874, pvalue=2.4782891993106313e-48)"
      ]
     },
     "execution_count": 18,
     "metadata": {
      "tags": []
     },
     "output_type": "execute_result"
    }
   ],
   "source": [
    "stats.ttest_ind(diabetes_yes_filtered_glucose['glucose'], diabetes_no_filtered_glucose['glucose'])"
   ]
  },
  {
   "cell_type": "markdown",
   "metadata": {
    "colab_type": "text",
    "id": "Iu977g8-NUx7"
   },
   "source": [
    "We know we can reject the null from either of these results:\n",
    "\n",
    "1. The test statistic is greater than 1.96.\n",
    "2. The p-value is less than < .05. \n",
    "\n",
    "In fact, the p-value is *way* less than .05. Rather than reporting this tiny-yet-clunky number, it's common to \"round up\" the reports to a more readable < .01 or even < .001.\n",
    "\n",
    "Remember, the way to interpret this p-value is like this:\n",
    "\n",
    "\"*There is a .001% chance of observing a difference as large as what is observed even if the two population means are identical (the null hypothesis is true).*\"\n",
    "\n",
    "It is *not*:\n",
    "\n",
    "\"*There is a 99.99% chance that the difference observed reflects a real difference between populations and a .001% chance that the difference is due to chance.*\"\n",
    "\n"
   ]
  },
  {
   "cell_type": "markdown",
   "metadata": {
    "colab_type": "text",
    "id": "xFWaavVqUPIM"
   },
   "source": [
    "Next, let's compute the confidence interval using the formula:\n",
    "\n",
    "$$(\\overline{X}_{1}-\\overline{X}_{2}) \\pm 1.96 * {\\sqrt{\\frac{s_{1}^{2}}{n_{1}}+\\frac{s_{2}^{2}}{n_{2}}}}$$\n",
    "\n",
    "\n",
    "\n",
    "Unfortunately, `scipy.stats` does not include the confidence interval for us. However, we can write our own function to compute it:\n"
   ]
  },
  {
   "cell_type": "code",
   "execution_count": 0,
   "metadata": {
    "colab": {
     "base_uri": "https://localhost:8080/",
     "height": 33
    },
    "colab_type": "code",
    "id": "KpX8xiTCNT-Z",
    "outputId": "e7a37ed1-d681-4a15-ba47-431e24742353"
   },
   "outputs": [
    {
     "data": {
      "text/plain": [
       "'The difference in means at the 95% confidence interval (two-tail) is between -35.846783869363435 and -27.504587516848602.'"
      ]
     },
     "execution_count": 19,
     "metadata": {
      "tags": []
     },
     "output_type": "execute_result"
    }
   ],
   "source": [
    "def get_95_ci(array_1, array_2):\n",
    "    sample_1_n = array_1.shape[0]\n",
    "    sample_2_n = array_2.shape[0]\n",
    "    sample_1_mean = array_1.mean()\n",
    "    sample_2_mean = array_2.mean()\n",
    "    sample_1_var = array_1.var()\n",
    "    sample_2_var = array_2.var()\n",
    "    mean_difference = sample_2_mean - sample_1_mean\n",
    "    std_err_difference = math.sqrt((sample_1_var/sample_1_n)+(sample_2_var/sample_2_n))\n",
    "    margin_of_error = 1.96 * std_err_difference\n",
    "    ci_lower = mean_difference - margin_of_error\n",
    "    ci_upper = mean_difference + margin_of_error\n",
    "    return(\"The difference in means at the 95% confidence interval (two-tail) is between \"+str(ci_lower)+\" and \"+str(ci_upper)+\".\")\n",
    "\n",
    "get_95_ci(diabetes_yes_filtered_glucose['glucose'], diabetes_no_filtered_glucose['glucose'])"
   ]
  },
  {
   "cell_type": "markdown",
   "metadata": {
    "colab_type": "text",
    "id": "9s_SYfy7K8Ls"
   },
   "source": [
    "We can interpret this result as saying that with 95% confidence, patients without diabetes have glucose levels on average between 35.84 and 27.50 mg/dL lower than patients with diabetes."
   ]
  },
  {
   "cell_type": "markdown",
   "metadata": {
    "colab_type": "text",
    "id": "KiJeWHtraDAN"
   },
   "source": [
    "## Visualizing the difference in means with a pointplot\n",
    "\n",
    "A pointplot graphs the \"point\" estimate of a series of numbers along with their respective *error bars* to evalute visually for significant differences in means. \n",
    "\n",
    "This can be useful for presenting visual results to a general audience, a topic which we'll return to later in the course.\n",
    "\n",
    "For this we will use [`pointplot()`](https://seaborn.pydata.org/generated/seaborn.pointplot.html) from `seaborn`. By default, `seaborn` will plot the mean of each datapoint in the array, using the 95% confidence interval as the error bar. Setting `join` to `False` eliminates the connecting line between the two points.\n",
    "\n",
    "Here we can see visually that the average glucose level is significantly higher for diabetics than non-diabetics.\n",
    "\n",
    "Note that in cases with a smaller difference in means, it may appear visually that there is no significant difference in means, when there is one statistically. \n",
    "\n",
    "That's because in a t-test, we are estimating the confidence interval of the difference in means itself, rather than comparing the confidence inteval of each mean. It's a subtle difference, and one that makes communicating the real-world \"effects\" of any differences that much harder. The below visual helps explain, but is not entirely accurate of the test. "
   ]
  },
  {
   "cell_type": "code",
   "execution_count": 0,
   "metadata": {
    "colab": {
     "base_uri": "https://localhost:8080/",
     "height": 286
    },
    "colab_type": "code",
    "id": "3wOpMZIKZbVD",
    "outputId": "b176cf8f-4ce1-41c0-e4c2-69f3271bac51"
   },
   "outputs": [
    {
     "data": {
      "text/plain": [
       "[[Text(0, 0, 'diabetes_yes'), Text(0, 0, 'diabetes_no')]]"
      ]
     },
     "execution_count": 24,
     "metadata": {
      "tags": []
     },
     "output_type": "execute_result"
    },
    {
     "data": {
      "image/png": "[encoded data removed]",
      "text/plain": [
       "<Figure size 432x288 with 1 Axes>"
      ]
     },
     "metadata": {
      "tags": []
     },
     "output_type": "display_data"
    }
   ],
   "source": [
    "import seaborn as sns\n",
    "\n",
    "g = sns.pointplot(data=[diabetes_yes_filtered_glucose['glucose'],\n",
    "                        diabetes_no_filtered_glucose['glucose']], join=False)\n",
    "                        \n",
    "g.set(xticklabels = ['diabetes_yes', 'diabetes_no'])"
   ]
  }
 ],
 "metadata": {
  "colab": {
   "collapsed_sections": [],
   "name": "t_test_checkpoint_experimental_design_pima_demo.ipynb",
   "provenance": []
  },
  "kernelspec": {
   "display_name": "Python 3",
   "language": "python",
   "name": "python3"
  },
  "language_info": {
   "codemirror_mode": {
    "name": "ipython",
    "version": 3
   },
   "file_extension": ".py",
   "mimetype": "text/x-python",
   "name": "python",
   "nbconvert_exporter": "python",
   "pygments_lexer": "ipython3",
   "version": "3.7.7"
  }
 },
 "nbformat": 4,
 "nbformat_minor": 1
}
