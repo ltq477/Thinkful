{
 "cells": [
  {
   "cell_type": "code",
   "execution_count": 1,
   "metadata": {},
   "outputs": [],
   "source": [
    "import requests\n",
    "from bs4 import BeautifulSoup\n",
    "\n",
    "url = 'https://www.space.com/news'\n",
    "r = requests.get(url)\n",
    "soup = BeautifulSoup(r.content)"
   ]
  },
  {
   "cell_type": "code",
   "execution_count": 6,
   "metadata": {},
   "outputs": [
    {
     "data": {
      "text/plain": [
       "[<h3 class=\"article-name\">Space photos: The most amazing images this week!</h3>,\n",
       " <h3 class=\"article-name\">The top space stories of the week!</h3>,\n",
       " <h3 class=\"article-name\">China launches 2 rockets in 2 days, lofting 4 satellites to orbit</h3>,\n",
       " <h3 class=\"article-name\">On This Day in Space! June 6, 1995: Astronaut Norm Thagard breaks space endurance record</h3>,\n",
       " <h3 class=\"article-name\">Northrop Grumman snags $187 million to design NASA's lunar Gateway habitat for astronauts</h3>,\n",
       " <h3 class=\"article-name\">Explore awesome space and physics courses from MasterClass and The Great Courses</h3>,\n",
       " <h3 class=\"article-name\">Record breaker! Briefcase-size satellite spots alien planet</h3>,\n",
       " <h3 class=\"article-name\">Stadium-size asteroid will safely fly by Earth tonight</h3>,\n",
       " <h3 class=\"article-name\">Satellites spot major oil spill in the Arctic Circle (photos)</h3>,\n",
       " <h3 class=\"article-name\">Eclipse season 2020 has arrived! Catch 2 lunar eclipses and a 'ring of fire' this summer</h3>,\n",
       " <h3 class=\"article-name\">Biggest space movies to watch in 2020</h3>,\n",
       " <h3 class=\"article-name\">Here's what scientists heard when Mercury-bound BepiColombo flew past Earth</h3>,\n",
       " <h3 class=\"article-name\">Trump's 'Make Space Great Again' ad was like nothing we've ever seen</h3>,\n",
       " <h3 class=\"article-name\">SpaceX Crew Dragon docking depicted on new Houston postmark</h3>,\n",
       " <h3 class=\"article-name\">Pictures from space! Our image of the day</h3>,\n",
       " <h3 class=\"article-name\">Watch live @ 3 pm ET: Lunar eclipse webcast from the Virtual Telescope Project</h3>,\n",
       " <h3 class=\"article-name\">Strawberry Moon lunar eclipse of 2020 occurs today. Here's what to expect.</h3>,\n",
       " <h3 class=\"article-name\">The rings of Saturn are 'ringing' like a bell</h3>,\n",
       " <h3 class=\"article-name\">The 'mole' on Mars is finally underground after a push from NASA's InSight lander</h3>,\n",
       " <h3 class=\"article-name\">Trump campaign pulls 'Make Space Great Again' video that may have violated NASA regulations</h3>]"
      ]
     },
     "execution_count": 6,
     "metadata": {},
     "output_type": "execute_result"
    }
   ],
   "source": [
    "soup.find_all('h3')"
   ]
  },
  {
   "cell_type": "code",
   "execution_count": null,
   "metadata": {},
   "outputs": [],
   "source": []
  }
 ],
 "metadata": {
  "kernelspec": {
   "display_name": "Python 3",
   "language": "python",
   "name": "python3"
  },
  "language_info": {
   "codemirror_mode": {
    "name": "ipython",
    "version": 3
   },
   "file_extension": ".py",
   "mimetype": "text/x-python",
   "name": "python",
   "nbconvert_exporter": "python",
   "pygments_lexer": "ipython3",
   "version": "3.7.7"
  }
 },
 "nbformat": 4,
 "nbformat_minor": 4
}
