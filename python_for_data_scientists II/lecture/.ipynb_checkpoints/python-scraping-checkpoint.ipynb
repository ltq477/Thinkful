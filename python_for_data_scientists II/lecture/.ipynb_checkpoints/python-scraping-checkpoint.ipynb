{
 "cells": [
  {
   "cell_type": "markdown",
   "metadata": {
    "colab_type": "text",
    "id": "VpzggwZ4Za8h"
   },
   "source": [
    "## The Scraping Process\n",
    "In order to properly parse web sites for data we will need to perform a few steps:\n",
    "\n",
    "1.  Identify the website where the data is located\n",
    "2. Verify that scraping the data does not violate the site's policies\n",
    "3. Manually examine the web site with Chrome Developer Tools\n",
    "  - learn the HTML structure of the site\n",
    "  - learn how the data is requested by the site - that is, how is the URL of the website structured to get the data\n",
    "4. Use the `requests` library to fetch the HTML code of the  website\n",
    "5. Use `BeautifulSoup` to parse the HTML and extract the content\n",
    "6. Follow links to get more data\n",
    "7. Store the data in a file for future analysis\n",
    "\n",
    "In this lesson we will look at two examples. First, we will scrape a list of jokes from this page: http://pun.me/pages/funny-jokes.php. Then we will scrape a list of questions from [StackOverflow](https://stackoverflow.com/questions).\n",
    "\n",
    "## Jokes\n",
    "\n",
    "For the first example, let us fetch the HTML code for the web page found at http://pun.me/pages/funny-jokes.php. There is a list of 50 jokes on this page. Open the URL in your Chrome web browser then open the Chrome Developer Tools. To open the developer tools, click on the more options icon in the top right hand corner of your Chrome window, then click More Tools then Developer Tools.\n",
    "\n",
    "![Open Dev Tools](https://farm8.staticflickr.com/7874/32380905107_f0c79fa663_z.jpg)\n",
    "\n",
    "In the developer tools window, select the Elements tab. In this tab the HTML code for the web page is displayed. As you move your mouse pointer over the code, the relevant parts of the webpage are highlighted. See if you can find the HTML code associated with the jokes themselves.\n",
    "\n",
    "![HTML Code](https://farm8.staticflickr.com/7881/32380910067_f7eb8b9927_o.png)\n",
    "\n",
    "\n",
    "There is a lot going on in the HTML code, but as you drill down into the code you will find the section of code that starts like this:\n",
    "\n",
    "```\n",
    "    <div style=\"float:left;width:100%;\">\n",
    "        <div class=\"content\">\n",
    "            <p>\n",
    "                Our most-liked jokes which are genuinely funny - this list of jokes has been hand selected and contain a variety of clever, clean and silly jokes so be prepared to laugh.\n",
    "            </p>\n",
    "            <ol>\n",
    "             <li>Today at the bank, an old lady asked me to help check her balance. So I pushed her over.</li>\n",
    "            <li>I bought some shoes from a drug dealer. I don't know what he laced them with, but I've been tripping all day.</li>\n",
    "    ...\n",
    "```\n",
    "\n",
    "\n",
    "As you move your mouse pointer over that section of code, the list of jokes itself is highlighted. In order to be able to parse the HTML code to extract the data, you will need to understand a little about the structure of HTML. If you are already familiar with HTML then you are all set, but if you are new to the language then there are a few things to be aware of.\n",
    "\n",
    "HTML is made up of elements. An element is constructed from tags. A tag looks like this: `<tagname>`. In the code above, you can see that there are `<div>` tags, `<p>` tags, an `<ol>` tag and some `<li>` tags. Each tag has a corresponding close tag, which looks just like the tag but with a slash. So the `<li>` tag has a corresponding close `</li>` tag.\n",
    "\n",
    "An `li` element is made up of the open and close `li` tags with some content between them like this:\n",
    "\n",
    "```\n",
    "    <li>Today at the bank, an old lady asked me to help check her balance. So I pushed her over.</li>\n",
    "```\n",
    "\n",
    "The element simply tells the browser what to display and maybe some information about the content. For instance, `<p>` is for a paragraph of text, `<ol>` is for ordered lists, that is numbered lists, and `<li>` is a list item. Notice how the `<ol>` element contains a number of `<li>` elements. Notice also that each `<li>` element corresponds to a single numbered item in the list.\n",
    "\n",
    "There are a great many other elements on the page but they are for the headings and menus and navigations that we are not interested in right now. You can typically use the Chrome Developer tools to drill down to the most relevant elements on the page.\n",
    "\n",
    "This example is simple enough that the URL does not need any special attention.\n",
    "\n",
    "### Fetch the Code\n",
    "The next step is to fetch the HTML code from the website using the Python `requests` library. This is the same library that you used to request data from an API earlier, except in this case we are not fetching JSON data. Instead we can use the `text` property to get the HTML code."
   ]
  },
  {
   "cell_type": "code",
   "execution_count": 0,
   "metadata": {
    "colab": {},
    "colab_type": "code",
    "id": "awst91JVHz0j"
   },
   "outputs": [],
   "source": [
    "import requests\n",
    "url = ' http://pun.me/pages/funny-jokes.php'\n",
    "response = requests.get(url)\n",
    "\n",
    "# make sure we got a valid response\n",
    "if(response.ok):\n",
    "  # get the full data from the response\n",
    "  data = response.text\n",
    "  print(data)"
   ]
  },
  {
   "cell_type": "markdown",
   "metadata": {
    "colab_type": "text",
    "id": "GMk_PgxhH11U"
   },
   "source": [
    "## Beautiful Soup\n",
    "Parsing the HTML code that makes up a web page can be quite difficult, especially as there is no guarantee that the code is formatted correctly or consistently with any standard. Web pages are notoriously broken. Your web browser does a heroic job of rendering web pages even when they are broken, so even if you visit a website and it looks fine, that does not mean that the code is actually fine. In addition, to build a polite scraper as defined above requires even more complexity in your code. There are several good libraries that can help you navigate through the HTML code. We will use [BeatifulSoup](https://www.crummy.com/software/BeautifulSoup/) to simplify the parsing.\n",
    "\n",
    "\n",
    "To use BeautifulSoup we will:\n",
    "  - import the library\n",
    "  - create an object with the response text \n",
    " \n",
    " \n",
    "BeautifulSoup supports several different HTML parsers. That is, there are different ways that a program may read and understand an HTML page. When creating the object out of the HTML, we need to tell BeautifulSoup which parser to use. We will use the default parser to avoid having to install additional dependencies."
   ]
  },
  {
   "cell_type": "code",
   "execution_count": 0,
   "metadata": {
    "colab": {},
    "colab_type": "code",
    "id": "cohx0BeLYxWl"
   },
   "outputs": [],
   "source": [
    "from bs4 import BeautifulSoup\n",
    "\n",
    "soup = BeautifulSoup(data, 'html.parser')"
   ]
  },
  {
   "cell_type": "markdown",
   "metadata": {
    "colab_type": "text",
    "id": "LFbPXDmetfUf"
   },
   "source": [
    "The variable `soup` in this code now contain an object of type *BeautifulSoup*. This object represents the entire HTML  document. We can see what it contains with the `prettify()` method."
   ]
  },
  {
   "cell_type": "code",
   "execution_count": 0,
   "metadata": {
    "colab": {},
    "colab_type": "code",
    "id": "ZkmmMuaUufed"
   },
   "outputs": [],
   "source": [
    "print(soup.prettify())"
   ]
  },
  {
   "cell_type": "markdown",
   "metadata": {
    "colab_type": "text",
    "id": "PMazkB1guuAI"
   },
   "source": [
    "## Navigating the Document\n",
    "Now that we have the document parsed, we need to be able to target just the elements of the document that we need. The page contains many different elements, most of which we can ignore.  Let us try to find the ones we want. Go back to Chrome Dev tools and find the list of jokes in the HTML. You would notice that each joke is in an `<li>` and together all the `<li>`'s  are in an `<ol>` element. Let's try to access that element.\n",
    "\n",
    "To get a list of a certain type of element we can use the `find_all()` method. This is probably the most common method for navigating through the document looking for specific tags."
   ]
  },
  {
   "cell_type": "code",
   "execution_count": 0,
   "metadata": {
    "colab": {},
    "colab_type": "code",
    "id": "pM3fXoa5wpgk"
   },
   "outputs": [],
   "source": [
    "soup.find_all('ol') # make a list of all ol elements"
   ]
  },
  {
   "cell_type": "markdown",
   "metadata": {
    "colab_type": "text",
    "id": "lnnyEnhUNebO"
   },
   "source": [
    "That did the trick. When we are only expecting a single element, we can use the `find()` method instead. Now that we have the list, let's try to get only the `<li>` elements from the list."
   ]
  },
  {
   "cell_type": "code",
   "execution_count": 0,
   "metadata": {
    "colab": {
     "base_uri": "https://localhost:8080/",
     "height": 54
    },
    "colab_type": "code",
    "id": "tnERQOGtTgvG",
    "outputId": "df891780-0cb2-4fce-a6ce-10f5b7c79a03"
   },
   "outputs": [
    {
     "name": "stdout",
     "output_type": "stream",
     "text": [
      "[<li>Today at the bank, an old lady asked me to help check her balance. So I pushed her over.</li>, <li>I bought some shoes from a drug dealer. I don't know what he laced them with, but I've been tripping all day.</li>, <li>I told my girlfriend she drew her eyebrows too high. She seemed surprised.</li>, <li>My dog used to chase people on a bike a lot. It got so bad, finally I had to take his bike away.</li>, <li>I'm so good at sleeping. I can do it with my eyes closed.</li>, <li>My boss told me to have a good day.. so I went home.</li>, <li>Why is Peter Pan always flying? He neverlands.</li>, <li>A woman walks into a library and asked if they had any books about paranoia. The librarian says \"They're right behind you!\"</li>, <li>The other day, my wife asked me to pass her lipstick but I accidentally passed her a glue stick. She still isn't talking to me.</li>, <li>Why do blind people hate skydiving? It scares the hell out of their dogs.</li>, <li>When you look really closely, all mirrors look like eyeballs.</li>, <li>My friend says to me: \"What rhymes with orange\" I said: \"No it doesn't\"</li>, <li>What do you call a guy with a rubber toe? Roberto.</li>, <li>What did the pirate say when he turned 80 years old? Aye matey.</li>, <li>My wife told me I had to stop acting like a flamingo. So I had to put my foot down.</li>, <li>I couldn't figure out why the baseball kept getting larger. Then it hit me.</li>, <li>Why did the old man fall in the well? Because he couldn't see that well.</li>, <li>I ate a clock yesterday, it was very time consuming.</li>, <li>Whatdya call a frenchman wearing sandals? Phillipe Phillope.</li>, <li>A blind man walks into a bar. And a table. And a chair.</li>, <li>I know a lot of jokes about unemployed people but none of them work.</li>, <li>What's orange and sounds like a parrot? A carrot.</li>, <li>Did you hear about the italian chef that died? He pasta way.</li>, <li>Why couldn't the bicycle stand up? Because it was two tired!</li>, <li>Parallel lines have so much in common. It’s a shame they’ll never meet.</li>, <li>My wife accused me of being immature. I told her to get out of my fort.</li>, <li>Where do you find a cow with no legs? Right where you left it.</li>, <li>When a deaf person sees someone yawn do they think it’s a scream?</li>, <li>As I suspected, someone has been adding soil to my garden. The plot thickens.</li>, <li>How do crazy people go through the forest? They take the physco path.</li>, <li>And the lord said unto John, \"Come forth and you will receive eternal life\". John came fifth and won a toaster.</li>, <li>What did the traffic light say to the car? Don’t look! I’m about to change.</li>, <li>I just wrote a book on reverse psychology. Do *not* read it!</li>, <li>What did one hat say to the other? You stay here. I’ll go on ahead.</li>, <li>Why wouldn’t the shrimp share his treasure? Because he was a little shellfish.</li>]\n"
     ]
    }
   ],
   "source": [
    "# get the list\n",
    "list = soup.find('ol')\n",
    "items = list.find_all('li')\n",
    "print(items)"
   ]
  },
  {
   "cell_type": "markdown",
   "metadata": {
    "colab_type": "text",
    "id": "TLQKgeIiUD88"
   },
   "source": [
    "That produces a list of the `<li>` tags. Finally, we want to extract just the text from within those tags."
   ]
  },
  {
   "cell_type": "code",
   "execution_count": 0,
   "metadata": {
    "colab": {
     "base_uri": "https://localhost:8080/",
     "height": 54
    },
    "colab_type": "code",
    "id": "ga57EE15URuD",
    "outputId": "64be4f64-cf3a-4e81-efe1-05d4f540a846"
   },
   "outputs": [
    {
     "name": "stdout",
     "output_type": "stream",
     "text": [
      "['Today at the bank, an old lady asked me to help check her balance. So I pushed her over.', \"I bought some shoes from a drug dealer. I don't know what he laced them with, but I've been tripping all day.\", 'I told my girlfriend she drew her eyebrows too high. She seemed surprised.', 'My dog used to chase people on a bike a lot. It got so bad, finally I had to take his bike away.', \"I'm so good at sleeping. I can do it with my eyes closed.\", 'My boss told me to have a good day.. so I went home.', 'Why is Peter Pan always flying? He neverlands.', 'A woman walks into a library and asked if they had any books about paranoia. The librarian says \"They\\'re right behind you!\"', \"The other day, my wife asked me to pass her lipstick but I accidentally passed her a glue stick. She still isn't talking to me.\", 'Why do blind people hate skydiving? It scares the hell out of their dogs.', 'When you look really closely, all mirrors look like eyeballs.', 'My friend says to me: \"What rhymes with orange\" I said: \"No it doesn\\'t\"', 'What do you call a guy with a rubber toe? Roberto.', 'What did the pirate say when he turned 80 years old? Aye matey.', 'My wife told me I had to stop acting like a flamingo. So I had to put my foot down.', \"I couldn't figure out why the baseball kept getting larger. Then it hit me.\", \"Why did the old man fall in the well? Because he couldn't see that well.\", 'I ate a clock yesterday, it was very time consuming.', 'Whatdya call a frenchman wearing sandals? Phillipe Phillope.', 'A blind man walks into a bar. And a table. And a chair.', 'I know a lot of jokes about unemployed people but none of them work.', \"What's orange and sounds like a parrot? A carrot.\", 'Did you hear about the italian chef that died? He pasta way.', \"Why couldn't the bicycle stand up? Because it was two tired!\", 'Parallel lines have so much in common. It’s a shame they’ll never meet.', 'My wife accused me of being immature. I told her to get out of my fort.', 'Where do you find a cow with no legs? Right where you left it.', 'When a deaf person sees someone yawn do they think it’s a scream?', 'As I suspected, someone has been adding soil to my garden. The plot thickens.', 'How do crazy people go through the forest? They take the physco path.', 'And the lord said unto John, \"Come forth and you will receive eternal life\". John came fifth and won a toaster.', 'What did the traffic light say to the car? Don’t look! I’m about to change.', 'I just wrote a book on reverse psychology. Do *not* read it!', 'What did one hat say to the other? You stay here. I’ll go on ahead.', 'Why wouldn’t the shrimp share his treasure? Because he was a little shellfish.']\n"
     ]
    }
   ],
   "source": [
    "jokes = [joke.get_text() for joke in items]\n",
    "print(jokes)"
   ]
  },
  {
   "cell_type": "markdown",
   "metadata": {
    "colab_type": "text",
    "id": "-hS42l6OLDHq"
   },
   "source": [
    "That did the trick. One problem that we may face is if there were multuple `<ol>` elements on the page. In that case, we would want to be as specific as possible. In HTML, each element can be given a *class* attribute and an *id* attribute. More than one element may have the same class, but ids are supposed to be unique.\n",
    "\n",
    "A quick examination of the HTML shows that the `<ol>` element  has neither a class nor an id. However, the `<div>` element that encloses it has the class *content*. We could select the `<div>` with class *content* then select the `<ol>` from within. Remember that even though this step isn't really necessary for this particular page, we want to make a robust scraper that will work even if the web site owner adds more lists to the same page.\n",
    "\n",
    "As a quick illustration of this, let's do exactly what was done above but with a different route to find the jokes."
   ]
  },
  {
   "cell_type": "code",
   "execution_count": 0,
   "metadata": {
    "colab": {
     "base_uri": "https://localhost:8080/",
     "height": 54
    },
    "colab_type": "code",
    "id": "udfz9H50MWs1",
    "outputId": "1e978082-5f84-4055-855d-16893b09a51e"
   },
   "outputs": [
    {
     "name": "stdout",
     "output_type": "stream",
     "text": [
      "['Today at the bank, an old lady asked me to help check her balance. So I pushed her over.', \"I bought some shoes from a drug dealer. I don't know what he laced them with, but I've been tripping all day.\", 'I told my girlfriend she drew her eyebrows too high. She seemed surprised.', 'My dog used to chase people on a bike a lot. It got so bad, finally I had to take his bike away.', \"I'm so good at sleeping. I can do it with my eyes closed.\", 'My boss told me to have a good day.. so I went home.', 'Why is Peter Pan always flying? He neverlands.', 'A woman walks into a library and asked if they had any books about paranoia. The librarian says \"They\\'re right behind you!\"', \"The other day, my wife asked me to pass her lipstick but I accidentally passed her a glue stick. She still isn't talking to me.\", 'Why do blind people hate skydiving? It scares the hell out of their dogs.', 'When you look really closely, all mirrors look like eyeballs.', 'My friend says to me: \"What rhymes with orange\" I said: \"No it doesn\\'t\"', 'What do you call a guy with a rubber toe? Roberto.', 'What did the pirate say when he turned 80 years old? Aye matey.', 'My wife told me I had to stop acting like a flamingo. So I had to put my foot down.', \"I couldn't figure out why the baseball kept getting larger. Then it hit me.\", \"Why did the old man fall in the well? Because he couldn't see that well.\", 'I ate a clock yesterday, it was very time consuming.', 'Whatdya call a frenchman wearing sandals? Phillipe Phillope.', 'A blind man walks into a bar. And a table. And a chair.', 'I know a lot of jokes about unemployed people but none of them work.', \"What's orange and sounds like a parrot? A carrot.\", 'Did you hear about the italian chef that died? He pasta way.', \"Why couldn't the bicycle stand up? Because it was two tired!\", 'Parallel lines have so much in common. It’s a shame they’ll never meet.', 'My wife accused me of being immature. I told her to get out of my fort.', 'Where do you find a cow with no legs? Right where you left it.', 'When a deaf person sees someone yawn do they think it’s a scream?', 'As I suspected, someone has been adding soil to my garden. The plot thickens.', 'How do crazy people go through the forest? They take the physco path.', 'And the lord said unto John, \"Come forth and you will receive eternal life\". John came fifth and won a toaster.', 'What did the traffic light say to the car? Don’t look! I’m about to change.', 'I just wrote a book on reverse psychology. Do *not* read it!', 'What did one hat say to the other? You stay here. I’ll go on ahead.', 'Why wouldn’t the shrimp share his treasure? Because he was a little shellfish.']\n"
     ]
    }
   ],
   "source": [
    "# this gets a list of all divs on the page\n",
    "# soup.find_all('div')\n",
    "\n",
    "# get just the divs with class *content*\n",
    "div = soup.find('div', class_='content')\n",
    "list = div.find('ol')\n",
    "items = list.find_all('li')\n",
    "jokes = [joke.get_text() for joke in items]\n",
    "print(jokes)"
   ]
  },
  {
   "cell_type": "markdown",
   "metadata": {
    "colab_type": "text",
    "id": "c5Ej0sgaatND"
   },
   "source": [
    "## Programming Questions\n",
    "\n",
    "Suppose that you were tasked with creating a presentation of current trends in programming questions being asked on Stack Overflow. What technologies are developers asking the most questions about, which technologies get the most attention, and so on. You can get some of that information from the StackOverflow website.\n",
    "\n",
    "This website consists of questions and answers by software developers and people in the software development community. On the page there are a number of questions listed, along with the ads and other information. But this site uses pagination to display a long list of questions one page at a time. To see the second page you can click the Next button at the bottom of the list. To scrape useful information from this website we will need to follow that link.\n",
    "\n",
    "Let’s use the Chrome Developer Tools to examine the page a bit.\n",
    "\n",
    "![Questions](https://live.staticflickr.com/65535/49505599618_2c40361f2f_c_d.jpg)\n",
    "\n",
    "Drilling into the page structure, you will find that there is a `<div>` element with id `questions` that contains all the questions displayed on the page. Each question listing has an HTML structure similar to:\n",
    "\n",
    "```html\n",
    "\n",
    "<div class=\"question-summary\" id=\"question-summary-60128236\">\n",
    "    <div class=\"statscontainer\">\n",
    "        <div class=\"stats\">\n",
    "            <div class=\"vote\">\n",
    "                <div class=\"votes\">\n",
    "                    <span class=\"vote-count-post \"><strong>0</strong></span>\n",
    "                    <div class=\"viewcount\">votes</div>\n",
    "                </div>\n",
    "            </div>\n",
    "            <div class=\"status unanswered\">\n",
    "                <strong>0</strong>answers\n",
    "            </div>\n",
    "        </div>\n",
    "        <div class=\"views \" title=\"2 views\">\n",
    "    2 views\n",
    "</div>\n",
    "    </div>\n",
    "    <div class=\"summary\">\n",
    "        <h3><a href=\"/questions/60128236/semantic-segmentation-accuracy-starting-close-to-zero\" class=\"question-hyperlink\">Semantic Segmentation accuracy starting close to zero</a></h3>\n",
    "        <div class=\"excerpt\">\n",
    "            I'm trying to build a machine learning semantic classification algorithm for the CamVID dataset using a U-net approach in Keras. \n",
    "\n",
    "I've used the following tutorial and tried to apply it to the ...\n",
    "        </div>\n",
    "        <div class=\"tags t-machine-learning t-keras\">\n",
    "            <a href=\"/questions/tagged/machine-learning\" class=\"post-tag\" title=\"show questions tagged 'machine-learning'\" rel=\"tag\">machine-learning</a> <a href=\"/questions/tagged/keras\" class=\"post-tag\" title=\"show questions tagged 'keras'\" rel=\"tag\">keras</a> \n",
    "        </div>\n",
    "        <div class=\"started fr\">\n",
    "            <div class=\"user-info \">\n",
    "    <div class=\"user-action-time\">\n",
    "        asked <span title=\"2020-02-08 15:27:35Z\" class=\"relativetime\">13 mins ago</span>\n",
    "    </div>\n",
    "    <div class=\"user-gravatar32\">\n",
    "        <a href=\"/users/3429605/rutger-hofste\"><div class=\"gravatar-wrapper-32\"><img src=\"https://www.gravatar.com/avatar/4cab1e2f110ecff055651ca7a94940c1?s=32&amp;d=identicon&amp;r=PG&amp;f=1\" alt=\"\" width=\"32\" height=\"32\" class=\"bar-sm\"></div></a>\n",
    "    </div>\n",
    "    <div class=\"user-details\">\n",
    "        <a href=\"/users/3429605/rutger-hofste\">Rutger Hofste</a>\n",
    "        <div class=\"-flair\">\n",
    "            <span class=\"reputation-score\" title=\"reputation score \" dir=\"ltr\">2,071</span><span title=\"1 gold badge\" aria-hidden=\"true\"><span class=\"badge1\"></span><span class=\"badgecount\">1</span></span><span class=\"v-visible-sr\">1 gold badge</span><span title=\"15 silver badges\" aria-hidden=\"true\"><span class=\"badge2\"></span><span class=\"badgecount\">15</span></span><span class=\"v-visible-sr\">15 silver badges</span><span title=\"22 bronze badges\" aria-hidden=\"true\"><span class=\"badge3\"></span><span class=\"badgecount\">22</span></span><span class=\"v-visible-sr\">22 bronze badges</span>\n",
    "        </div>\n",
    "    </div>\n",
    "</div>\n",
    "        </div>\n",
    "    </div>\n",
    "</div>\n",
    "```\n",
    "\n",
    "So there is still a lot of extraneous information in there. We may be interested in the question title, the excerpt, and the list of tags. Let's use BeautifulSoup to try to select the parts that we need."
   ]
  },
  {
   "cell_type": "code",
   "execution_count": 0,
   "metadata": {
    "colab": {},
    "colab_type": "code",
    "id": "5gWgN0v4oaH6"
   },
   "outputs": [],
   "source": [
    "url = 'https://stackoverflow.com/questions'\n",
    "response = requests.get(url)\n",
    "\n",
    "# make sure we got a valid response\n",
    "if(response.ok):\n",
    "  # get the full data from the response\n",
    "  data = response.text\n",
    "  soup = BeautifulSoup(data, 'html.parser')\n",
    "  \n",
    "  # find all elements with class *question-summary*\n",
    "  summary =soup.find_all(class_='question-summary')\n",
    "  # print(summary)"
   ]
  },
  {
   "cell_type": "markdown",
   "metadata": {
    "colab_type": "text",
    "id": "SRbvScK8psdD"
   },
   "source": [
    "Not bad. That did give us a list of the div's that contain the question information. However, there is still a lot of extraneous HTML. We may not be interested in the number of votes for instance. We could narrow it down further by just getting the summaries. Notice that within each `question-summary` there is another div with the class `summary`. That inner div contains all the information that we are interested in collecting."
   ]
  },
  {
   "cell_type": "code",
   "execution_count": 0,
   "metadata": {
    "colab": {},
    "colab_type": "code",
    "id": "tlMKK2vop6vc"
   },
   "outputs": [],
   "source": [
    "summaries = soup.find_all(class_='summary')\n",
    "print(summaries)"
   ]
  },
  {
   "cell_type": "markdown",
   "metadata": {
    "colab_type": "text",
    "id": "mIRBqf6py776"
   },
   "source": [
    "Much better, but the actual title text that we want is in an `<a>` tag inside an `<h3>` tag. We can continue navigating down the document or we can use another technique: [**CSS Selectors**](https://developer.mozilla.org/en-US/docs/Web/CSS/CSS_Selectors). CSS is the language used to apply styles to web pages. CSS selectors are used to select specific elements on the page so that styles may be applied to just those elements. But the syntax is so powerful that we can use the same selector syntax in BeautifulSoup. \n",
    "\n",
    "To select all elements with a particular class, use the `.classname` selector."
   ]
  },
  {
   "cell_type": "code",
   "execution_count": 0,
   "metadata": {
    "colab": {},
    "colab_type": "code",
    "id": "dgCHCBtFz4Nz"
   },
   "outputs": [],
   "source": [
    "summaries = soup.select('.summary')\n",
    "print(summaries)"
   ]
  },
  {
   "cell_type": "markdown",
   "metadata": {
    "colab_type": "text",
    "id": "SUu0O4620BXC"
   },
   "source": [
    "This gives the same output from above. So let's extend this a bit. To select only the `<h3>` elements in the div's with class *summary*, we can use the **child** selector. The `>` symbol is used to specify a child element. A child element is an element contained within another element."
   ]
  },
  {
   "cell_type": "code",
   "execution_count": 0,
   "metadata": {
    "colab": {
     "base_uri": "https://localhost:8080/",
     "height": 54
    },
    "colab_type": "code",
    "id": "aa0BAJEk0rUQ",
    "outputId": "11a0fb2b-4795-43e5-8fe9-63cfc997f4e7"
   },
   "outputs": [
    {
     "name": "stdout",
     "output_type": "stream",
     "text": [
      "[<h3><a class=\"question-hyperlink\" href=\"/questions/60129328/why-does-file-delete-or-file-deleteonexit-not-delete-my-file\">Why does file.delete() or file.deleteOnExit() not delete my file</a></h3>, <h3><a class=\"question-hyperlink\" href=\"/questions/60129327/how-to-overwrite-data-in-the-database-asp-net\">How to overwrite data in the database? asp.net</a></h3>, <h3><a class=\"question-hyperlink\" href=\"/questions/60129326/django-unittest-how-to-disable-console-logging-only\">Django unittest - How to disable console logging only</a></h3>, <h3><a class=\"question-hyperlink\" href=\"/questions/60129324/colorpicker-does-not-respond\">ColorPicker does not respond</a></h3>, <h3><a class=\"question-hyperlink\" href=\"/questions/60129321/opencv-in-javascript-image-processing\">OpenCV in JavaScript, Image Processing</a></h3>, <h3><a class=\"question-hyperlink\" href=\"/questions/60129319/should-i-use-a-mathematical-equation-or-an-algorithm\">Should I use a mathematical equation or an algorithm</a></h3>, <h3><a class=\"question-hyperlink\" href=\"/questions/60129318/function-return-pointers\">Function return pointers</a></h3>, <h3><a class=\"question-hyperlink\" href=\"/questions/60129315/testing-xml-data-for-being-midweek-or-weekend-with-xslt-1\">Testing XML data for being midweek or weekend with XSLT-1?</a></h3>, <h3><a class=\"question-hyperlink\" href=\"/questions/60129312/how-can-i-rearrange-mips-code-to-minimise-the-number-of-nops-needed-by-hand\">How can I rearrange MIPS code to minimise the number of NOPs needed, by hand?</a></h3>, <h3><a class=\"question-hyperlink\" href=\"/questions/60129309/puppeteer-on-raspberry-pi-zero-w\">Puppeteer on Raspberry pi zero w</a></h3>, <h3><a class=\"question-hyperlink\" href=\"/questions/60129308/initialize-and-declare-multiple-objects-of-the-same-type-with-the-same-value-by\">Initialize and declare multiple objects of the same type with the same value by just one expression?</a></h3>, <h3><a class=\"question-hyperlink\" href=\"/questions/60129307/how-to-divide-a-large-buffer-into-chunks-with-a-determined-length\">How to divide a large buffer into chunks with a determined length?</a></h3>, <h3><a class=\"question-hyperlink\" href=\"/questions/60129306/populate-div-based-on-the-textcontent-of-another-div-tag\">Populate div based on the textContent of another div tag</a></h3>, <h3><a class=\"question-hyperlink\" href=\"/questions/60129305/not-able-to-understand-sum-of-primes-number-program-any-one-tell-me-hoe-we-take\">not able to understand Sum of Primes number program any one tell me hoe we take square root (in Python) [closed]</a></h3>, <h3><a class=\"question-hyperlink\" href=\"/questions/60129303/using-dotnet-ef-with-docker-and-asp-net-core-3-1\">Using dotnet-ef with docker and asp.net core 3.1</a></h3>, <h3><a class=\"question-hyperlink\" href=\"/questions/60129300/python-quad-integrating-over-one-variable-while-treating-other-variable-as-cons\">python quad: integrating over one variable while treating other variable as constant?</a></h3>, <h3><a class=\"question-hyperlink\" href=\"/questions/60129299/difference-in-image-size-using-file-stream\">Difference in image size using File.stream</a></h3>, <h3><a class=\"question-hyperlink\" href=\"/questions/60129296/regex-for-quotation-marks-in-python\">Regex for quotation marks in Python [duplicate]</a></h3>, <h3><a class=\"question-hyperlink\" href=\"/questions/60129295/matching-time-types-for-ts-java-and-html\">Matching time types for ts, java and html</a></h3>, <h3><a class=\"question-hyperlink\" href=\"/questions/60129294/how-to-remove-a-class-after-1-second-in-javascript-or-jquery\">how to remove a class after 1 second in JavaScript or jQuery?</a></h3>, <h3><a class=\"question-hyperlink\" href=\"/questions/60129288/i-am-having-an-error-with-flutter-saying-controllers-length-property-does-not\">I am having an error with Flutter saying: Controller's length property does not match</a></h3>, <h3><a class=\"question-hyperlink\" href=\"/questions/60129287/i-want-to-grab-the-uid-of-clicked-row-using-ajax-from-foreach-loop-php-but-getti\">I want to grab the UID of clicked row using ajax from foreach loop php but getting all UID</a></h3>, <h3><a class=\"question-hyperlink\" href=\"/questions/60129286/how-to-change-the-polynomial-order-in-a-for-loop-using-the-poly-r-function\">How to change the polynomial order in a for-loop using the poly R function?</a></h3>, <h3><a class=\"question-hyperlink\" href=\"/questions/60129285/react-route-gives-unauthorized-on-heroku-while-working-in-development\">React route gives unauthorized on heroku while working in development</a></h3>, <h3><a class=\"question-hyperlink\" href=\"/questions/60129283/rs232-from-linux-sbc-to-windows-pc\">RS232 from Linux SBC to Windows PC</a></h3>, <h3><a class=\"question-hyperlink\" href=\"/questions/60129279/pass-parameter-like-filtercolor-2filterid-2-with-select-dropdown-option-la\">pass parameter like ?filter[color]=2&amp;filter[id]=2 with select dropdown option Laravel</a></h3>, <h3><a class=\"question-hyperlink\" href=\"/questions/60129278/programmatically-find-eureka-server-host-and-port\">Programmatically find Eureka server host and port</a></h3>, <h3><a class=\"question-hyperlink\" href=\"/questions/60129277/indexing-a-2d-numpy-array-with-an-array-of-column-indices\">Indexing a 2D numpy array with an array of column indices</a></h3>, <h3><a class=\"question-hyperlink\" href=\"/questions/60129275/java-printing-out-dividing-no-exceptions-thrown-and-exceptions-throw-in-differen\">Java Printing out/Dividing no exceptions thrown and exceptions throw in different places</a></h3>, <h3><a class=\"question-hyperlink\" href=\"/questions/60129270/vba-update-column-in-sql-server-table-with-data-from-excel\">VBA Update column in SQL Server table with data from excel</a></h3>, <h3><a class=\"question-hyperlink\" href=\"/questions/60129269/billing-plan-is-always-null\">Billing Plan is always null</a></h3>, <h3><a class=\"question-hyperlink\" href=\"/questions/60129268/dynamically-set-param-in-sql-statement-via-expression\">Dynamically set param in SQL statement via Expression</a></h3>, <h3><a class=\"question-hyperlink\" href=\"/questions/60129267/validate-post-data-when-not-using-serializer\">Validate Post data when not using serializer?</a></h3>, <h3><a class=\"question-hyperlink\" href=\"/questions/60129266/make-multiple-asynchronous-requests-but-wait-for-only-one\">Make multiple asynchronous requests but wait for only one</a></h3>, <h3><a class=\"question-hyperlink\" href=\"/questions/60129265/oauth-problem-with-vba-doesnt-post-grant-type\">OAUTH problem with VBA doesn't post grant_type</a></h3>, <h3><a class=\"question-hyperlink\" href=\"/questions/60129263/how-to-add-headers-to-and-reply-to-to-an-already-generated-draft-with-the-gmai\">How to add headers “To and Reply-To” to an already generated Draft with the GMAIL API</a></h3>, <h3><a class=\"question-hyperlink\" href=\"/questions/60129262/call-external-javascript-function-from-thymeleaf\">Call external javascript function from thymeleaf</a></h3>, <h3><a class=\"question-hyperlink\" href=\"/questions/60129261/java-filter-returns-empty\">Java filter returns empty</a></h3>, <h3><a class=\"question-hyperlink\" href=\"/questions/60129259/ionic-can-not-add-android\">Ionic can not add android</a></h3>, <h3><a class=\"question-hyperlink\" href=\"/questions/60129258/ios-simulator-failed-to-launch-could-not-find-file-visual-studio-2019\">Ios simulator failed to launch could not find file visual studio 2019</a></h3>, <h3><a class=\"question-hyperlink\" href=\"/questions/60129257/error-using-using-tsbootstrap-function-from-resamplr-package\">Error using using tsbootstrap function from resamplr package</a></h3>, <h3><a class=\"question-hyperlink\" href=\"/questions/60129255/will-this-prevent-image-caching-on-external-pages-looking-for-a-solution\">Will this prevent image caching on external pages? looking for a solution</a></h3>, <h3><a class=\"question-hyperlink\" href=\"/questions/60129254/android-canvas-scale-with-pivot-mouse-coordinates\">android: canvas.scale with pivot, mouse coordinates</a></h3>, <h3><a class=\"question-hyperlink\" href=\"/questions/60129253/how-to-combine-several-input-data-from-items-to-one-string-variable-in-ztree\">How to combine several input data from items to one (string) variable in ztree?</a></h3>, <h3><a class=\"question-hyperlink\" href=\"/questions/60129251/check-if-a-type-directly-derives-from-is-a-child-of-a-another-type-in-an-enab\">Check if a type DIRECTLY derives from (is a child of) a another type in an “enable if” context</a></h3>, <h3><a class=\"question-hyperlink\" href=\"/questions/60129250/how-to-number-files-on-github-so-that-they-occur-in-sequence\">How to number files on github so that they occur in sequence?</a></h3>, <h3><a class=\"question-hyperlink\" href=\"/questions/60129247/docker-file-permissions-with-volume-bind-mount\">Docker: file permissions with --volume bind mount</a></h3>, <h3><a class=\"question-hyperlink\" href=\"/questions/60129244/while-in-not-working-in-nested-list-python\">while in not working in nested list PYTHON</a></h3>, <h3><a class=\"question-hyperlink\" href=\"/questions/60129241/why-is-my-stringvar-variable-not-defined-in-tkinter\">Why is my StringVar() variable not defined in tkinter?</a></h3>, <h3><a class=\"question-hyperlink\" href=\"/questions/60129239/why-does-newly-created-class-have-public-access-modifier-in-visual-studio-for\">Why does newly created class have 'public' access modifier in VIsual Studio for Mac</a></h3>]\n"
     ]
    }
   ],
   "source": [
    "title_headings = soup.select('.summary > h3')\n",
    "print(title_headings)"
   ]
  },
  {
   "cell_type": "markdown",
   "metadata": {
    "colab_type": "text",
    "id": "clDWlNML07me"
   },
   "source": [
    "Some progress. How about selecting only the `<a>` tags found inside the `<h3>` tags?"
   ]
  },
  {
   "cell_type": "code",
   "execution_count": 0,
   "metadata": {
    "colab": {
     "base_uri": "https://localhost:8080/",
     "height": 54
    },
    "colab_type": "code",
    "id": "G245tlUc1Gp-",
    "outputId": "98edbe34-0e25-4e2b-9da6-1bc1ecb7a1fc"
   },
   "outputs": [
    {
     "name": "stdout",
     "output_type": "stream",
     "text": [
      "[<a class=\"question-hyperlink\" href=\"/questions/60129328/why-does-file-delete-or-file-deleteonexit-not-delete-my-file\">Why does file.delete() or file.deleteOnExit() not delete my file</a>, <a class=\"question-hyperlink\" href=\"/questions/60129327/how-to-overwrite-data-in-the-database-asp-net\">How to overwrite data in the database? asp.net</a>, <a class=\"question-hyperlink\" href=\"/questions/60129326/django-unittest-how-to-disable-console-logging-only\">Django unittest - How to disable console logging only</a>, <a class=\"question-hyperlink\" href=\"/questions/60129324/colorpicker-does-not-respond\">ColorPicker does not respond</a>, <a class=\"question-hyperlink\" href=\"/questions/60129321/opencv-in-javascript-image-processing\">OpenCV in JavaScript, Image Processing</a>, <a class=\"question-hyperlink\" href=\"/questions/60129319/should-i-use-a-mathematical-equation-or-an-algorithm\">Should I use a mathematical equation or an algorithm</a>, <a class=\"question-hyperlink\" href=\"/questions/60129318/function-return-pointers\">Function return pointers</a>, <a class=\"question-hyperlink\" href=\"/questions/60129315/testing-xml-data-for-being-midweek-or-weekend-with-xslt-1\">Testing XML data for being midweek or weekend with XSLT-1?</a>, <a class=\"question-hyperlink\" href=\"/questions/60129312/how-can-i-rearrange-mips-code-to-minimise-the-number-of-nops-needed-by-hand\">How can I rearrange MIPS code to minimise the number of NOPs needed, by hand?</a>, <a class=\"question-hyperlink\" href=\"/questions/60129309/puppeteer-on-raspberry-pi-zero-w\">Puppeteer on Raspberry pi zero w</a>, <a class=\"question-hyperlink\" href=\"/questions/60129308/initialize-and-declare-multiple-objects-of-the-same-type-with-the-same-value-by\">Initialize and declare multiple objects of the same type with the same value by just one expression?</a>, <a class=\"question-hyperlink\" href=\"/questions/60129307/how-to-divide-a-large-buffer-into-chunks-with-a-determined-length\">How to divide a large buffer into chunks with a determined length?</a>, <a class=\"question-hyperlink\" href=\"/questions/60129306/populate-div-based-on-the-textcontent-of-another-div-tag\">Populate div based on the textContent of another div tag</a>, <a class=\"question-hyperlink\" href=\"/questions/60129305/not-able-to-understand-sum-of-primes-number-program-any-one-tell-me-hoe-we-take\">not able to understand Sum of Primes number program any one tell me hoe we take square root (in Python) [closed]</a>, <a class=\"question-hyperlink\" href=\"/questions/60129303/using-dotnet-ef-with-docker-and-asp-net-core-3-1\">Using dotnet-ef with docker and asp.net core 3.1</a>, <a class=\"question-hyperlink\" href=\"/questions/60129300/python-quad-integrating-over-one-variable-while-treating-other-variable-as-cons\">python quad: integrating over one variable while treating other variable as constant?</a>, <a class=\"question-hyperlink\" href=\"/questions/60129299/difference-in-image-size-using-file-stream\">Difference in image size using File.stream</a>, <a class=\"question-hyperlink\" href=\"/questions/60129296/regex-for-quotation-marks-in-python\">Regex for quotation marks in Python [duplicate]</a>, <a class=\"question-hyperlink\" href=\"/questions/60129295/matching-time-types-for-ts-java-and-html\">Matching time types for ts, java and html</a>, <a class=\"question-hyperlink\" href=\"/questions/60129294/how-to-remove-a-class-after-1-second-in-javascript-or-jquery\">how to remove a class after 1 second in JavaScript or jQuery?</a>, <a class=\"question-hyperlink\" href=\"/questions/60129288/i-am-having-an-error-with-flutter-saying-controllers-length-property-does-not\">I am having an error with Flutter saying: Controller's length property does not match</a>, <a class=\"question-hyperlink\" href=\"/questions/60129287/i-want-to-grab-the-uid-of-clicked-row-using-ajax-from-foreach-loop-php-but-getti\">I want to grab the UID of clicked row using ajax from foreach loop php but getting all UID</a>, <a class=\"question-hyperlink\" href=\"/questions/60129286/how-to-change-the-polynomial-order-in-a-for-loop-using-the-poly-r-function\">How to change the polynomial order in a for-loop using the poly R function?</a>, <a class=\"question-hyperlink\" href=\"/questions/60129285/react-route-gives-unauthorized-on-heroku-while-working-in-development\">React route gives unauthorized on heroku while working in development</a>, <a class=\"question-hyperlink\" href=\"/questions/60129283/rs232-from-linux-sbc-to-windows-pc\">RS232 from Linux SBC to Windows PC</a>, <a class=\"question-hyperlink\" href=\"/questions/60129279/pass-parameter-like-filtercolor-2filterid-2-with-select-dropdown-option-la\">pass parameter like ?filter[color]=2&amp;filter[id]=2 with select dropdown option Laravel</a>, <a class=\"question-hyperlink\" href=\"/questions/60129278/programmatically-find-eureka-server-host-and-port\">Programmatically find Eureka server host and port</a>, <a class=\"question-hyperlink\" href=\"/questions/60129277/indexing-a-2d-numpy-array-with-an-array-of-column-indices\">Indexing a 2D numpy array with an array of column indices</a>, <a class=\"question-hyperlink\" href=\"/questions/60129275/java-printing-out-dividing-no-exceptions-thrown-and-exceptions-throw-in-differen\">Java Printing out/Dividing no exceptions thrown and exceptions throw in different places</a>, <a class=\"question-hyperlink\" href=\"/questions/60129270/vba-update-column-in-sql-server-table-with-data-from-excel\">VBA Update column in SQL Server table with data from excel</a>, <a class=\"question-hyperlink\" href=\"/questions/60129269/billing-plan-is-always-null\">Billing Plan is always null</a>, <a class=\"question-hyperlink\" href=\"/questions/60129268/dynamically-set-param-in-sql-statement-via-expression\">Dynamically set param in SQL statement via Expression</a>, <a class=\"question-hyperlink\" href=\"/questions/60129267/validate-post-data-when-not-using-serializer\">Validate Post data when not using serializer?</a>, <a class=\"question-hyperlink\" href=\"/questions/60129266/make-multiple-asynchronous-requests-but-wait-for-only-one\">Make multiple asynchronous requests but wait for only one</a>, <a class=\"question-hyperlink\" href=\"/questions/60129265/oauth-problem-with-vba-doesnt-post-grant-type\">OAUTH problem with VBA doesn't post grant_type</a>, <a class=\"question-hyperlink\" href=\"/questions/60129263/how-to-add-headers-to-and-reply-to-to-an-already-generated-draft-with-the-gmai\">How to add headers “To and Reply-To” to an already generated Draft with the GMAIL API</a>, <a class=\"question-hyperlink\" href=\"/questions/60129262/call-external-javascript-function-from-thymeleaf\">Call external javascript function from thymeleaf</a>, <a class=\"question-hyperlink\" href=\"/questions/60129261/java-filter-returns-empty\">Java filter returns empty</a>, <a class=\"question-hyperlink\" href=\"/questions/60129259/ionic-can-not-add-android\">Ionic can not add android</a>, <a class=\"question-hyperlink\" href=\"/questions/60129258/ios-simulator-failed-to-launch-could-not-find-file-visual-studio-2019\">Ios simulator failed to launch could not find file visual studio 2019</a>, <a class=\"question-hyperlink\" href=\"/questions/60129257/error-using-using-tsbootstrap-function-from-resamplr-package\">Error using using tsbootstrap function from resamplr package</a>, <a class=\"question-hyperlink\" href=\"/questions/60129255/will-this-prevent-image-caching-on-external-pages-looking-for-a-solution\">Will this prevent image caching on external pages? looking for a solution</a>, <a class=\"question-hyperlink\" href=\"/questions/60129254/android-canvas-scale-with-pivot-mouse-coordinates\">android: canvas.scale with pivot, mouse coordinates</a>, <a class=\"question-hyperlink\" href=\"/questions/60129253/how-to-combine-several-input-data-from-items-to-one-string-variable-in-ztree\">How to combine several input data from items to one (string) variable in ztree?</a>, <a class=\"question-hyperlink\" href=\"/questions/60129251/check-if-a-type-directly-derives-from-is-a-child-of-a-another-type-in-an-enab\">Check if a type DIRECTLY derives from (is a child of) a another type in an “enable if” context</a>, <a class=\"question-hyperlink\" href=\"/questions/60129250/how-to-number-files-on-github-so-that-they-occur-in-sequence\">How to number files on github so that they occur in sequence?</a>, <a class=\"question-hyperlink\" href=\"/questions/60129247/docker-file-permissions-with-volume-bind-mount\">Docker: file permissions with --volume bind mount</a>, <a class=\"question-hyperlink\" href=\"/questions/60129244/while-in-not-working-in-nested-list-python\">while in not working in nested list PYTHON</a>, <a class=\"question-hyperlink\" href=\"/questions/60129241/why-is-my-stringvar-variable-not-defined-in-tkinter\">Why is my StringVar() variable not defined in tkinter?</a>, <a class=\"question-hyperlink\" href=\"/questions/60129239/why-does-newly-created-class-have-public-access-modifier-in-visual-studio-for\">Why does newly created class have 'public' access modifier in VIsual Studio for Mac</a>]\n"
     ]
    }
   ],
   "source": [
    "title_links = soup.select('.summary > h3 > a')\n",
    "print(title_links)"
   ]
  },
  {
   "cell_type": "markdown",
   "metadata": {
    "colab_type": "text",
    "id": "R4XvZfYw1bS0"
   },
   "source": [
    "We can use `get_text()` as we did above to extract the text content of the links."
   ]
  },
  {
   "cell_type": "code",
   "execution_count": 0,
   "metadata": {
    "colab": {
     "base_uri": "https://localhost:8080/",
     "height": 54
    },
    "colab_type": "code",
    "id": "eIWVImrs1jaL",
    "outputId": "863553d6-df25-4518-ddcf-d738bca32ef0"
   },
   "outputs": [
    {
     "name": "stdout",
     "output_type": "stream",
     "text": [
      "['Why does file.delete() or file.deleteOnExit() not delete my file', 'How to overwrite data in the database? asp.net', 'Django unittest - How to disable console logging only', 'ColorPicker does not respond', 'OpenCV in JavaScript, Image Processing', 'Should I use a mathematical equation or an algorithm', 'Function return pointers', 'Testing XML data for being midweek or weekend with XSLT-1?', 'How can I rearrange MIPS code to minimise the number of NOPs needed, by hand?', 'Puppeteer on Raspberry pi zero w', 'Initialize and declare multiple objects of the same type with the same value by just one expression?', 'How to divide a large buffer into chunks with a determined length?', 'Populate div based on the textContent of another div tag', 'not able to understand Sum of Primes number program any one tell me hoe we take square root (in Python) [closed]', 'Using dotnet-ef with docker and asp.net core 3.1', 'python quad: integrating over one variable while treating other variable as constant?', 'Difference in image size using File.stream', 'Regex for quotation marks in Python [duplicate]', 'Matching time types for ts, java and html', 'how to remove a class after 1 second in JavaScript or jQuery?', \"I am having an error with Flutter saying: Controller's length property does not match\", 'I want to grab the UID of clicked row using ajax from foreach loop php but getting all UID', 'How to change the polynomial order in a for-loop using the poly R function?', 'React route gives unauthorized on heroku while working in development', 'RS232 from Linux SBC to Windows PC', 'pass parameter like ?filter[color]=2&filter[id]=2 with select dropdown option Laravel', 'Programmatically find Eureka server host and port', 'Indexing a 2D numpy array with an array of column indices', 'Java Printing out/Dividing no exceptions thrown and exceptions throw in different places', 'VBA Update column in SQL Server table with data from excel', 'Billing Plan is always null', 'Dynamically set param in SQL statement via Expression', 'Validate Post data when not using serializer?', 'Make multiple asynchronous requests but wait for only one', \"OAUTH problem with VBA doesn't post grant_type\", 'How to add headers “To and Reply-To” to an already generated Draft with the GMAIL API', 'Call external javascript function from thymeleaf', 'Java filter returns empty', 'Ionic can not add android', 'Ios simulator failed to launch could not find file visual studio 2019', 'Error using using tsbootstrap function from resamplr package', 'Will this prevent image caching on external pages? looking for a solution', 'android: canvas.scale with pivot, mouse coordinates', 'How to combine several input data from items to one (string) variable in ztree?', 'Check if a type DIRECTLY derives from (is a child of) a another type in an “enable if” context', 'How to number files on github so that they occur in sequence?', 'Docker: file permissions with --volume bind mount', 'while in not working in nested list PYTHON', 'Why is my StringVar() variable not defined in tkinter?', \"Why does newly created class have 'public' access modifier in VIsual Studio for Mac\"]\n"
     ]
    }
   ],
   "source": [
    "questions = [question.get_text() for question in title_links]\n",
    "print(questions)"
   ]
  },
  {
   "cell_type": "markdown",
   "metadata": {
    "colab_type": "text",
    "id": "-GZyCPIZ8t_Z"
   },
   "source": [
    "Now, we have a list of the question titles found on the page.\n",
    "\n",
    "How would we get a list of the excerpts for each question on this page? Take a few minutes and try to construct the CSS selector expression that will return this information.\n",
    "\n",
    "It may be obvious from the HTML that the excerpt is inside the summary in a `<div>` with class `excerpt`. If you select the `<div>`'s content you will get the excerpt."
   ]
  },
  {
   "cell_type": "code",
   "execution_count": 0,
   "metadata": {
    "colab": {
     "base_uri": "https://localhost:8080/",
     "height": 54
    },
    "colab_type": "code",
    "id": "xSm1IiKy88lU",
    "outputId": "c55718a0-8d3e-405f-f54e-1cc6837f0e54"
   },
   "outputs": [
    {
     "name": "stdout",
     "output_type": "stream",
     "text": [
      "['\\r\\n            I have defined a MenuBar, a Menu and an Item and a Scanner for the file. I assigned (to the item) this actionlistener:\\n\\nitem4.addActionListener(ActionListener -> {\\n            this.dispose();\\n      ...\\r\\n        ', '\\r\\n            This code saves my data to the database\\nThis app records the time spent on each day of the month\\nThey write to the database in sql server, using EF\\nThe problem is just that I would like them to ...\\r\\n        ', '\\r\\n            I have a test in django (v2.2) that generates an error on purpose to check that errors are logged in the proper log files.\\n\\nBut I get also a print in the console which is kind of annoying, I was ...\\r\\n        ', '\\r\\n            Goal:\\nI would like to select a color through color picker HTML element and immediately after this change I would like to see canvas element in the same color. \\n\\nThe issue: I can select color through ...\\r\\n        ', '\\r\\n            I want to extract only the signature part from the image and save it.\\nI have successfully implemented it in Python using the OpenCv library.\\nBut I dont have experience in JavaScript OpenCv.\\nPython ...\\r\\n        ', '\\r\\n            Computers are very good at doing mathematical operations, and I would like to calculate the sum of this kind of sequence: [1, 2, 3, 4, 5, 6, 7, 8, 9, 10] (arithmetical sequence). Which one is faster? ...\\r\\n        ', \"\\r\\n            Suppose our code is:\\n\\nint main(int argc, char *argv[]) {\\n\\n    foo();\\n\\n    return 0;\\n}\\r\\nThe compiler needs to allocate memmory for foo()'s return adress on the stack.\\nHow much memory does it allocate?...\\r\\n        \", '\\r\\n            Take the following XML sample:\\n\\n<Meeting BookmarkId=\"0\" PageBreak=\"0\" NumberClasses=\"1\" SpecialEvent=\"1\">\\n    <Date ThisWeek=\"W20200406\" NextWeek=\"W20200413\">April 6-12</Date>\\n    &...\\r\\n        ', '\\r\\n            I came across the following MIPS code which has data and load use hazards.\\n\\n0 addi $t0,$a0,4\\n1 addi $t1,$a1,4\\n2 sub  $t2,$t0,$t1                #data hazard $t0, data hazard $t1\\n3 sll  $t3,$a2,2  \\n4 ...\\r\\n        ', \"\\r\\n            I want to run a node js script with puppeteer on Raspberry pi zero w,\\nbut I'm getting this error:\\n\\n(node:5699) UnhandledPromiseRejectionWarning: Error: Failed to launch the browser process!\\n/...\\r\\n        \", '\\r\\n            I want to declare and initialize multiple objects of the same type with the same value just by one expression; without the need to declare and initialize them by separate statements.\\n\\nWhat I want is ...\\r\\n        ', '\\r\\n            Basically, I have a buffer \\n\\nchar buffer[16] =\"1111222233334444\";\\nchar out_buffer[16] = {0};\\r\\nHow can i divide this buffer into chunks of 1111, 2222, 3333, 4444 in such way that it will appear in ...\\r\\n        ', '\\r\\n            I am having trouble copying the textContent from a div to another div. \\n\\nUsing Swiper.js, I need to find the content within a div slide and display this same content in another div completely outside ...\\r\\n        ', \"\\r\\n            The code does what is supposed to do for all values of n, but I would like to calculate the sum for all primes that are below two million, and that's where the code seems to take an endless amount of ...\\r\\n        \", \"\\r\\n            I'm trying to run my application written in asp.net core 3.1 on docker. I need to create database using migrations. While executing dotnet ef database update; command I get:\\n\\nCould not execute because ...\\r\\n        \", \"\\r\\n            I am doing simple integration, only thing is that I want to keep 'n' as a variable. How can I do this while still integrating over t?\\n\\nimport numpy as np\\nimport matplotlib as mpl\\nfrom matplotlib ...\\r\\n        \", '\\r\\n            I am sending image file in response using send_resp(200,content)\\n\\nI have used Stream for lazy loading the file\\n\\nFile.stream!(fullpath)\\n|> Stream.map(fn e -> e end) \\n|> Enum.reduce(<<>...\\r\\n        ', '\\r\\n            I would like to search for a quotation mark in a string in Python using REGEX.\\nI have tried many options:\\r\\nNormal: r\\' \" \\'\\nwith backslash: r\\' \\\\\" \\'\\nwith unicode: r\\'\\\\u0022\\'\\r\\nIn each case Run gives me ...\\r\\n        ', '\\r\\n            In my full stack application (Angular+Spring) I\\'m providing the user a time input type (here\\'s the html).\\n\\n<div class=\"form-group\">\\n      <label for=\"automaticTime\">Time of search: </...\\r\\n        ', '\\r\\n            how to remove a class after 1 second in JavaScript or jQuery?\\n\\nI\\'m trying to make this like this. You can try \\n\\n1. HTML Mark up\\n\\n<div class=\"chatBox\">\\n    <ul>\\n        <li>\\n          ...\\r\\n        ', '\\r\\n            I have been having this issue in Flutter when I am trying to use the DefaultTabController() widget but it seems it does not work the way I have specified the layout. Can anyone help me with it.\\n\\nThis ...\\r\\n        ', \"\\r\\n            I'm trying to get the UID from an anchor tag which is the value of ID attribute of the anchor tag from a foreach loop PHP in ajax. But it only work once a time, when I click the anchor tag again then ...\\r\\n        \", '\\r\\n            I would like to fit a regression by trying different polynomials, and I tried running this loop:\\n\\nfor (p_order  in 1:9) {\\n  assign(paste(\"RD0\", p_order, sep = \"\"),  electricity_price ~ d1 + gas_price +...\\r\\n        ', '\\r\\n            I am working on React app using express in backend, and I deployed it on Heroku.\\nNow its working well except 1 route which gives me unauthorized message\\n\\nMy Heroku logs\\n\\nAnd this route is working on ...\\r\\n        ', '\\r\\n            I have a RS232 device that is connected to a Linux SBC. I have Windows only software that is designed to communicate directly to that RS232 device.\\n\\nIs there any software that exists to that I an ...\\r\\n        ', '\\r\\n            Hi In my Project I want to filter product by select option I have some drop-down select option\\nfirst is colors second is brands and etc.I use a method that use elequentbuilder. in my scenario\\n...\\r\\n        ', '\\r\\n            I want to setup Eureka server for service registry and erueka clients that will get access rest api using the service registry from Eureka server. But we use mesos as our container management system ...\\r\\n        ', '\\r\\n            Say I have a 2D numpy array, A, of shape (N, D) and a 1D array, b, of shape (N,). I want to index the first array using the second to produce the following array:\\n\\narr[0] = A[0][b[0]]\\narr[1] = A[1][b[...\\r\\n        ', \"\\r\\n            I was not sure how to formulate the title however I have the following problem. I'm making a program which reads out things out of a CSV file and types it out. In a file where there are no problem I ...\\r\\n        \", '\\r\\n            I have a excel workbook that pulls data into a table users can then fill in the missing dates in column 11. Column 1 is the unique identifier that matches the ID column in the SQL table. I want to ...\\r\\n        ', \"\\r\\n            I'm trying to create a billing subscription plan with PayPal sdk, but for some reason I get null from this call:\\n\\n_createPlan(billingPlanAttributes, cb) {\\n    paypal.billingPlan.create(...\\r\\n        \", '\\r\\n            I am currently using the Yii2 framework (specifically https://www.yiiframework.com/doc/api/2.0/yii-db-expression)\\n\\nI am running into an issue where I can not dynamically set a param while creating ...\\r\\n        ', \"\\r\\n            I want to access post data directly in DRF (APIView example):\\n\\ndef post(self, request, post_uuid, format=None):\\n    used_images = request.data['usedImages']\\n    for image in used_images:\\n        print(...\\r\\n        \", '\\r\\n            I have a question concerning asynchronous requests. I want to request data from different sources on the web. Each source might have the data I want but I do not know that beforehand. Because I only ...\\r\\n        ', '\\r\\n            that\\'s my code snippet\\n\\nPublic Sub authjson()\\n Dim http As Object, JSON As Object, i As Integer\\r\\nSet http = CreateObject(\"MSXML2.XMLHTTP\")\\r\\nhttp.Open \"POST\", \"https://foo.bar.com/oauth/login\", False\\n...\\r\\n        ', '\\r\\n            I created a draft message and attached it correctly to a gmail thread with the Gmail Api.\\nBut I have no clue how to add the \"To, and Reply-To\" to that draft. At this point, the draft appears without ...\\r\\n        ', '\\r\\n            I\\'m trying to call an external javascript function from thymeleaf.\\n\\nHTML\\n\\n<!DOCTYPE html>\\n<html lang=\"en\" xmlns:th=\"http://www.w3.org/1999/xhtml\">\\n<head>\\n    <meta charset=\"UTF-8\"&...\\r\\n        ', '\\r\\n            public static void main(String[] args) {\\n    List<String> dict = new ArrayList<>();\\n    dict.add(\"home\");\\n    dict.add(\"house\");\\n    dict.add(\"dormitory\");\\n    System.out.println(rep(dict, ...\\r\\n        ', '\\r\\n            I try to uninstal cordova then instal again but still not working\\n\\n[ERROR] An error occurred while running subprocess cordova.\\n\\n    cordova.cmd platform add android exited with exit code 1.\\n\\n    Re-...\\r\\n        ', '\\r\\n            whenever I try to debug my visual studio project I get this error message:\\r\\nI have tried resetting my mac and pc and xcode and visual studio are up to date. I dont know what else to try some please ...\\r\\n        ', '\\r\\n            I am trying to run the following code to obtain bootstrapped time series by using tsbootstrap function  from resamplr package\\n\\nlibrary(quantmod)\\nlibrary(resamplr)\\n# get prices\\nsymbols <- c(\"SPY\",\"...\\r\\n        ', '\\r\\n            i store images on my server.\\nOther websites/ pages can display these images.\\nI want to prevent old images showing on other pages after i changed these on my server.\\n\\nOther websites can use this code:\\n\\n...\\r\\n        ', \"\\r\\n            I've been trying to get the mouse coordinates from scaled canvas. The canvas.scale(scale, scale) gives me the correct coordinates but if i use canvas.scale(scale, scale, pivotX, pivotY) the ...\\r\\n        \", \"\\r\\n            in my experiment, users have the choice between 10 items per round they can select or leave the checkbox emtpy. In the next step, I'd like to create a new variable, e.g. MyInputR1, which holds the ...\\r\\n        \", '\\r\\n            C++ has is_base_of<Base,Derived>. However, this also includes “grandparent” types.\\n\\nIs there a way to get have is_child_of<Parent,Child> functionality? The purpose is to use types a ...\\r\\n        ', '\\r\\n            When I try to upload my folder to github the numbering goes like :\\n10 comes straight after 1 but I want normal numbering like 1 , 2, 3 and so on ... Can you tell me how to number the files so that it ...\\r\\n        ', \"\\r\\n            I'm following the guidelines from: https://denibertovic.com/posts/handling-permissions-with-docker-volumes/ to setup a --volume bind mount in my container and creating a user in the guest container ...\\r\\n        \", \"\\r\\n            The first section of code prints 1 but the second doesn't, why and how to produce the above effect?\\n\\nwhile [1] in k:\\n    print(1)\\n\\nk=[[0],[1,1,1],[0]]\\nwhile [1] in k:\\n    print(1)\\r\\n        \", '\\r\\n            I am making a quiz in python using tkinter, and I have a variable that holds StringVar(). I then have a button that sets it to \"button pressed\". It says that the variable is undefined.\\n\\nfor i in range(...\\r\\n        ', \"\\r\\n            Newly added class in Visual Studio Windows omits the access modifier so giving class default of 'internal'.\\n\\nHowever, when I add a class (Add > New File > Empty Class) in Visual Studio Mac, it is ...\\r\\n        \"]\n"
     ]
    }
   ],
   "source": [
    "excerpt_divs = soup.select('.summary > .excerpt')\n",
    "excerpts = [excerpt.get_text() for excerpt in excerpt_divs]\n",
    "print(excerpts)"
   ]
  },
  {
   "cell_type": "markdown",
   "metadata": {
    "colab_type": "text",
    "id": "14z8vYZx-s4u"
   },
   "source": [
    "Getting the tags of each question is similar. The tags are in a `div` with class `tags`. Each tag is in an `a` tag.\n"
   ]
  },
  {
   "cell_type": "markdown",
   "metadata": {
    "colab_type": "text",
    "id": "GadvrXoZ6IWV"
   },
   "source": [
    "Let's try to put together some code that will get all the information about the question that we need and put it into a dictionary object."
   ]
  },
  {
   "cell_type": "code",
   "execution_count": 0,
   "metadata": {
    "colab": {
     "base_uri": "https://localhost:8080/",
     "height": 54
    },
    "colab_type": "code",
    "id": "aKgCipzk_TLx",
    "outputId": "58994b06-0138-4d5c-b863-52d289b0c146"
   },
   "outputs": [
    {
     "name": "stdout",
     "output_type": "stream",
     "text": [
      "[{'title': 'Why does file.delete() or file.deleteOnExit() not delete my file', 'excerpt': 'I have defined a MenuBar, a Menu and an Item and a Scanner for the file. I assigned (to the item) this actionlistener:\\n\\nitem4.addActionListener(ActionListener -> {\\n            this.dispose();\\n      ...', 'tags': ['java', 'user-interface', 'menu', 'menuitem', 'menubar']}, {'title': 'How to overwrite data in the database? asp.net', 'excerpt': 'This code saves my data to the database\\nThis app records the time spent on each day of the month\\nThey write to the database in sql server, using EF\\nThe problem is just that I would like them to ...', 'tags': ['c#', 'asp.net', 'asp.net-mvc', 'asp.net-core']}, {'title': 'Django unittest - How to disable console logging only', 'excerpt': 'I have a test in django (v2.2) that generates an error on purpose to check that errors are logged in the proper log files.\\n\\nBut I get also a print in the console which is kind of annoying, I was ...', 'tags': ['django', 'python-unittest']}, {'title': 'ColorPicker does not respond', 'excerpt': 'Goal:\\nI would like to select a color through color picker HTML element and immediately after this change I would like to see canvas element in the same color. \\n\\nThe issue: I can select color through ...', 'tags': ['javascript', 'html', 'background-color']}, {'title': 'OpenCV in JavaScript, Image Processing', 'excerpt': 'I want to extract only the signature part from the image and save it.\\nI have successfully implemented it in Python using the OpenCv library.\\nBut I dont have experience in JavaScript OpenCv.\\nPython ...', 'tags': ['javascript', 'python', 'opencv', 'image-processing']}, {'title': 'Should I use a mathematical equation or an algorithm', 'excerpt': 'Computers are very good at doing mathematical operations, and I would like to calculate the sum of this kind of sequence: [1, 2, 3, 4, 5, 6, 7, 8, 9, 10] (arithmetical sequence). Which one is faster? ...', 'tags': ['python', 'algorithm', 'math']}, {'title': 'Function return pointers', 'excerpt': \"Suppose our code is:\\n\\nint main(int argc, char *argv[]) {\\n\\n    foo();\\n\\n    return 0;\\n}\\r\\nThe compiler needs to allocate memmory for foo()'s return adress on the stack.\\nHow much memory does it allocate?...\", 'tags': ['c++']}, {'title': 'Testing XML data for being midweek or weekend with XSLT-1?', 'excerpt': 'Take the following XML sample:\\n\\n<Meeting BookmarkId=\"0\" PageBreak=\"0\" NumberClasses=\"1\" SpecialEvent=\"1\">\\n    <Date ThisWeek=\"W20200406\" NextWeek=\"W20200413\">April 6-12</Date>\\n    &...', 'tags': ['xml', 'xslt-1.0']}, {'title': 'How can I rearrange MIPS code to minimise the number of NOPs needed, by hand?', 'excerpt': 'I came across the following MIPS code which has data and load use hazards.\\n\\n0 addi $t0,$a0,4\\n1 addi $t1,$a1,4\\n2 sub  $t2,$t0,$t1                #data hazard $t0, data hazard $t1\\n3 sll  $t3,$a2,2  \\n4 ...', 'tags': ['c', 'assembly', 'process', 'mips', 'pipeline']}, {'title': 'Puppeteer on Raspberry pi zero w', 'excerpt': \"I want to run a node js script with puppeteer on Raspberry pi zero w,\\nbut I'm getting this error:\\n\\n(node:5699) UnhandledPromiseRejectionWarning: Error: Failed to launch the browser process!\\n/...\", 'tags': ['javascript', 'node.js', 'linux', 'npm', 'raspberry-pi']}, {'title': 'Initialize and declare multiple objects of the same type with the same value by just one expression?', 'excerpt': 'I want to declare and initialize multiple objects of the same type with the same value just by one expression; without the need to declare and initialize them by separate statements.\\n\\nWhat I want is ...', 'tags': ['c++', 'c', 'initialization', 'declaration', 'definition']}, {'title': 'How to divide a large buffer into chunks with a determined length?', 'excerpt': 'Basically, I have a buffer \\n\\nchar buffer[16] =\"1111222233334444\";\\nchar out_buffer[16] = {0};\\r\\nHow can i divide this buffer into chunks of 1111, 2222, 3333, 4444 in such way that it will appear in ...', 'tags': ['c']}, {'title': 'Populate div based on the textContent of another div tag', 'excerpt': 'I am having trouble copying the textContent from a div to another div. \\n\\nUsing Swiper.js, I need to find the content within a div slide and display this same content in another div completely outside ...', 'tags': ['javascript']}, {'title': 'not able to understand Sum of Primes number program any one tell me hoe we take square root (in Python) [closed]', 'excerpt': \"The code does what is supposed to do for all values of n, but I would like to calculate the sum for all primes that are below two million, and that's where the code seems to take an endless amount of ...\", 'tags': ['python']}, {'title': 'Using dotnet-ef with docker and asp.net core 3.1', 'excerpt': \"I'm trying to run my application written in asp.net core 3.1 on docker. I need to create database using migrations. While executing dotnet ef database update; command I get:\\n\\nCould not execute because ...\", 'tags': ['entity-framework', 'docker', 'ef-migrations', 'asp.net-core-3.1']}, {'title': 'python quad: integrating over one variable while treating other variable as constant?', 'excerpt': \"I am doing simple integration, only thing is that I want to keep 'n' as a variable. How can I do this while still integrating over t?\\n\\nimport numpy as np\\nimport matplotlib as mpl\\nfrom matplotlib ...\", 'tags': ['python', 'scipy', 'integrate']}, {'title': 'Difference in image size using File.stream', 'excerpt': 'I am sending image file in response using send_resp(200,content)\\n\\nI have used Stream for lazy loading the file\\n\\nFile.stream!(fullpath)\\n|> Stream.map(fn e -> e end) \\n|> Enum.reduce(<<>...', 'tags': ['elixir', 'phoenix-framework']}, {'title': 'Regex for quotation marks in Python [duplicate]', 'excerpt': 'I would like to search for a quotation mark in a string in Python using REGEX.\\nI have tried many options:\\r\\nNormal: r\\' \" \\'\\nwith backslash: r\\' \\\\\" \\'\\nwith unicode: r\\'\\\\u0022\\'\\r\\nIn each case Run gives me ...', 'tags': ['python', 'regex', 'string', 'quotation-marks']}, {'title': 'Matching time types for ts, java and html', 'excerpt': 'In my full stack application (Angular+Spring) I\\'m providing the user a time input type (here\\'s the html).\\n\\n<div class=\"form-group\">\\n      <label for=\"automaticTime\">Time of search: </...', 'tags': ['java', 'angular', 'spring', 'typescript', 'types']}, {'title': 'how to remove a class after 1 second in JavaScript or jQuery?', 'excerpt': 'how to remove a class after 1 second in JavaScript or jQuery?\\n\\nI\\'m trying to make this like this. You can try \\n\\n1. HTML Mark up\\n\\n<div class=\"chatBox\">\\n    <ul>\\n        <li>\\n          ...', 'tags': ['javascript', 'jquery', 'html', 'css']}, {'title': \"I am having an error with Flutter saying: Controller's length property does not match\", 'excerpt': 'I have been having this issue in Flutter when I am trying to use the DefaultTabController() widget but it seems it does not work the way I have specified the layout. Can anyone help me with it.\\n\\nThis ...', 'tags': ['flutter', 'flutter-layout']}, {'title': 'I want to grab the UID of clicked row using ajax from foreach loop php but getting all UID', 'excerpt': \"I'm trying to get the UID from an anchor tag which is the value of ID attribute of the anchor tag from a foreach loop PHP in ajax. But it only work once a time, when I click the anchor tag again then ...\", 'tags': ['php', 'jquery', 'ajax']}, {'title': 'How to change the polynomial order in a for-loop using the poly R function?', 'excerpt': 'I would like to fit a regression by trying different polynomials, and I tried running this loop:\\n\\nfor (p_order  in 1:9) {\\n  assign(paste(\"RD0\", p_order, sep = \"\"),  electricity_price ~ d1 + gas_price +...', 'tags': ['r', 'loops', 'for-loop', 'polynomials']}, {'title': 'React route gives unauthorized on heroku while working in development', 'excerpt': 'I am working on React app using express in backend, and I deployed it on Heroku.\\nNow its working well except 1 route which gives me unauthorized message\\n\\nMy Heroku logs\\n\\nAnd this route is working on ...', 'tags': ['reactjs', 'heroku', 'deployment', 'react-router']}, {'title': 'RS232 from Linux SBC to Windows PC', 'excerpt': 'I have a RS232 device that is connected to a Linux SBC. I have Windows only software that is designed to communicate directly to that RS232 device.\\n\\nIs there any software that exists to that I an ...', 'tags': ['qt', 'serial-port', 'ubuntu-18.04']}, {'title': 'pass parameter like ?filter[color]=2&filter[id]=2 with select dropdown option Laravel', 'excerpt': 'Hi In my Project I want to filter product by select option I have some drop-down select option\\nfirst is colors second is brands and etc.I use a method that use elequentbuilder. in my scenario\\n...', 'tags': ['php', 'laravel']}, {'title': 'Programmatically find Eureka server host and port', 'excerpt': 'I want to setup Eureka server for service registry and erueka clients that will get access rest api using the service registry from Eureka server. But we use mesos as our container management system ...', 'tags': ['spring-boot', 'netflix-eureka']}, {'title': 'Indexing a 2D numpy array with an array of column indices', 'excerpt': 'Say I have a 2D numpy array, A, of shape (N, D) and a 1D array, b, of shape (N,). I want to index the first array using the second to produce the following array:\\n\\narr[0] = A[0][b[0]]\\narr[1] = A[1][b[...', 'tags': ['python', 'numpy']}, {'title': 'Java Printing out/Dividing no exceptions thrown and exceptions throw in different places', 'excerpt': \"I was not sure how to formulate the title however I have the following problem. I'm making a program which reads out things out of a CSV file and types it out. In a file where there are no problem I ...\", 'tags': ['java']}, {'title': 'VBA Update column in SQL Server table with data from excel', 'excerpt': 'I have a excel workbook that pulls data into a table users can then fill in the missing dates in column 11. Column 1 is the unique identifier that matches the ID column in the SQL table. I want to ...', 'tags': ['sql-server', 'excel']}, {'title': 'Billing Plan is always null', 'excerpt': \"I'm trying to create a billing subscription plan with PayPal sdk, but for some reason I get null from this call:\\n\\n_createPlan(billingPlanAttributes, cb) {\\n    paypal.billingPlan.create(...\", 'tags': ['node.js', 'paypal', 'paypal-sandbox', 'paypal-rest-sdk', 'paypal-subscriptions']}, {'title': 'Dynamically set param in SQL statement via Expression', 'excerpt': 'I am currently using the Yii2 framework (specifically https://www.yiiframework.com/doc/api/2.0/yii-db-expression)\\n\\nI am running into an issue where I can not dynamically set a param while creating ...', 'tags': ['php', 'mysql', 'yii2']}, {'title': 'Validate Post data when not using serializer?', 'excerpt': \"I want to access post data directly in DRF (APIView example):\\n\\ndef post(self, request, post_uuid, format=None):\\n    used_images = request.data['usedImages']\\n    for image in used_images:\\n        print(...\", 'tags': ['django', 'django-rest-framework']}, {'title': 'Make multiple asynchronous requests but wait for only one', 'excerpt': 'I have a question concerning asynchronous requests. I want to request data from different sources on the web. Each source might have the data I want but I do not know that beforehand. Because I only ...', 'tags': ['ios', 'swift', 'asynchronous']}, {'title': \"OAUTH problem with VBA doesn't post grant_type\", 'excerpt': 'that\\'s my code snippet\\n\\nPublic Sub authjson()\\n Dim http As Object, JSON As Object, i As Integer\\r\\nSet http = CreateObject(\"MSXML2.XMLHTTP\")\\r\\nhttp.Open \"POST\", \"https://foo.bar.com/oauth/login\", False\\n...', 'tags': ['excel', 'vba']}, {'title': 'How to add headers “To and Reply-To” to an already generated Draft with the GMAIL API', 'excerpt': 'I created a draft message and attached it correctly to a gmail thread with the Gmail Api.\\nBut I have no clue how to add the \"To, and Reply-To\" to that draft. At this point, the draft appears without ...', 'tags': ['email', 'nuget', 'gmail', 'gmail-api', 'mimekit']}, {'title': 'Call external javascript function from thymeleaf', 'excerpt': 'I\\'m trying to call an external javascript function from thymeleaf.\\n\\nHTML\\n\\n<!DOCTYPE html>\\n<html lang=\"en\" xmlns:th=\"http://www.w3.org/1999/xhtml\">\\n<head>\\n    <meta charset=\"UTF-8\"&...', 'tags': ['javascript', 'html', 'thymeleaf']}, {'title': 'Java filter returns empty', 'excerpt': 'public static void main(String[] args) {\\n    List<String> dict = new ArrayList<>();\\n    dict.add(\"home\");\\n    dict.add(\"house\");\\n    dict.add(\"dormitory\");\\n    System.out.println(rep(dict, ...', 'tags': ['java', 'list', 'filter']}, {'title': 'Ionic can not add android', 'excerpt': 'I try to uninstal cordova then instal again but still not working\\n\\n[ERROR] An error occurred while running subprocess cordova.\\n\\n    cordova.cmd platform add android exited with exit code 1.\\n\\n    Re-...', 'tags': ['android', 'cordova', 'ionic-framework']}, {'title': 'Ios simulator failed to launch could not find file visual studio 2019', 'excerpt': 'whenever I try to debug my visual studio project I get this error message:\\r\\nI have tried resetting my mac and pc and xcode and visual studio are up to date. I dont know what else to try some please ...', 'tags': ['visual-studio', 'xamarin', 'xamarin.ios', 'ios-simulator', 'visual-studio-2019']}, {'title': 'Error using using tsbootstrap function from resamplr package', 'excerpt': 'I am trying to run the following code to obtain bootstrapped time series by using tsbootstrap function  from resamplr package\\n\\nlibrary(quantmod)\\nlibrary(resamplr)\\n# get prices\\nsymbols <- c(\"SPY\",\"...', 'tags': ['r', 'time-series', 'xts', 'zoo', 'quantmod']}, {'title': 'Will this prevent image caching on external pages? looking for a solution', 'excerpt': 'i store images on my server.\\nOther websites/ pages can display these images.\\nI want to prevent old images showing on other pages after i changed these on my server.\\n\\nOther websites can use this code:\\n\\n...', 'tags': ['caching']}, {'title': 'android: canvas.scale with pivot, mouse coordinates', 'excerpt': \"I've been trying to get the mouse coordinates from scaled canvas. The canvas.scale(scale, scale) gives me the correct coordinates but if i use canvas.scale(scale, scale, pivotX, pivotY) the ...\", 'tags': ['android', 'canvas', 'mouse', 'scale']}, {'title': 'How to combine several input data from items to one (string) variable in ztree?', 'excerpt': \"in my experiment, users have the choice between 10 items per round they can select or leave the checkbox emtpy. In the next step, I'd like to create a new variable, e.g. MyInputR1, which holds the ...\", 'tags': ['ztree']}, {'title': 'Check if a type DIRECTLY derives from (is a child of) a another type in an “enable if” context', 'excerpt': 'C++ has is_base_of<Base,Derived>. However, this also includes “grandparent” types.\\n\\nIs there a way to get have is_child_of<Parent,Child> functionality? The purpose is to use types a ...', 'tags': ['c++', 'inheritance', 'sfinae', 'enable-if', 'subtype']}, {'title': 'How to number files on github so that they occur in sequence?', 'excerpt': 'When I try to upload my folder to github the numbering goes like :\\n10 comes straight after 1 but I want normal numbering like 1 , 2, 3 and so on ... Can you tell me how to number the files so that it ...', 'tags': ['github', 'numbers']}, {'title': 'Docker: file permissions with --volume bind mount', 'excerpt': \"I'm following the guidelines from: https://denibertovic.com/posts/handling-permissions-with-docker-volumes/ to setup a --volume bind mount in my container and creating a user in the guest container ...\", 'tags': ['docker', 'alpine']}, {'title': 'while in not working in nested list PYTHON', 'excerpt': \"The first section of code prints 1 but the second doesn't, why and how to produce the above effect?\\n\\nwhile [1] in k:\\n    print(1)\\n\\nk=[[0],[1,1,1],[0]]\\nwhile [1] in k:\\n    print(1)\", 'tags': ['python']}, {'title': 'Why is my StringVar() variable not defined in tkinter?', 'excerpt': 'I am making a quiz in python using tkinter, and I have a variable that holds StringVar(). I then have a button that sets it to \"button pressed\". It says that the variable is undefined.\\n\\nfor i in range(...', 'tags': ['python', 'tkinter']}, {'title': \"Why does newly created class have 'public' access modifier in VIsual Studio for Mac\", 'excerpt': \"Newly added class in Visual Studio Windows omits the access modifier so giving class default of 'internal'.\\n\\nHowever, when I add a class (Add > New File > Empty Class) in Visual Studio Mac, it is ...\", 'tags': ['c#', 'macos', 'visual-studio']}]\n"
     ]
    }
   ],
   "source": [
    "# iterate over all questions\n",
    "raw_questions = soup.select('.summary')\n",
    "questions = []\n",
    "for question in raw_questions:\n",
    "  title = question.select_one('h3 > a').get_text() # extract the title\n",
    "  excerpt = question.select_one('.excerpt').get_text().strip() # extract the excerpt\n",
    "  tags = [tag.get_text() for tag in question.select('.tags a')] # extract a list of tags\n",
    "  new_question = {'title': title, 'excerpt': excerpt, 'tags': tags} # construct a dictionary\n",
    "  questions.append(new_question) # add dictionary to list\n",
    "print(questions)  "
   ]
  },
  {
   "cell_type": "markdown",
   "metadata": {
    "colab_type": "text",
    "id": "8NVuOQQnB6nd"
   },
   "source": [
    "## Following a link\n",
    "Now that we can scrape the list of questions from the first page, what about the other pages? Let's look at the HTML code for the next button.\n",
    "\n",
    "```html\n",
    "    <a \n",
    "       href=\"/questions?tab=newest&amp;page=2\" \n",
    "       rel=\"next\" \n",
    "       title=\"go to page 2\">\n",
    "          <span class=\"page-numbers next\"> next</span> \n",
    "    </a>\n",
    "```\n",
    "\n",
    "\n",
    "The next button is made up of a clickable link styled to look like a button. The `href` attribute of the link contains the URL of the next page. The URL of this button is `/questions?tab=newest&amp;page=2`. First, that is only part of a URL. A URL is made up of the domain name and path and optional query string. Since we are on the `https://stackoverflow.com/questions` website the browser knows that if we click this link we want to remain on the same website and just visit a different path. So the actual request will be sent to `https://stackoverflow.com/questions?tab=newest&amp;page=2`. The bit after the `?` is called the query string and it is one way to send data to the server describing what you are requesting. It appears that this link will accept a parameter named `page` representing the page number. If you click on the next button several times you will notice that the bit at the end of the URL that says `page=2` changes to `page=3` then `page=4` and so on. \n",
    "\n",
    "That means that we can modify the URL by incrementing the page number and request more questions. We can continue to do so until there are no more pages. \n",
    "\n",
    "To set the query string on the request URL we can use the `params` parameter on the get method. For example,\n",
    "\n",
    "```python\n",
    "page_number = 1\n",
    "query = {'tab':'newest', 'page': page_number}\n",
    "url = 'https://stackoverflow.com/questions'\n",
    "response = requests.get(url, params=query)\n",
    "\n",
    "```\n",
    "\n",
    "We can then update the `page_number` variable and repeat this call.\n",
    "\n",
    "This raises a few questions:\n",
    "\n",
    " - how do we know when there are no more pages?\n",
    " - if we rapidly sent many requests for many pages to the server would we overwhelm the server and possibly get ourselves blocked?\n",
    " \n",
    "There may be several answers to the first question. If you go to the website and visit the last page of results you will see that the next button is not displayed on that page. So the absence of the next button  could be the condition on which we stop the processing. There may be others that you can readily spot but we will go with that option for now. The next button does not contain a class or id that we can easily select it by. However, it does have an attribute `rel` with value `next`. It is possible to select an element by the value of an attribute like this:\n",
    "\n",
    "```python\n",
    "print(soup.select('a[rel=\"next\"]'))\n",
    "```\n",
    "\n",
    "The second one does not rely on the HTML structure of the page, but rather on the way we code up the solution. The above code would process a  page of questions and create a list of dictionaries from that page. To repeat that we need some sort of loop that will iterate over all pages and for each page perform something similar to the code that we already wrote. When we get to the last page, we stop the loop, and at that point we will have a list of all questions on the website. The problem is, the computer would process the page rapidly enough that the request for the next page would happen faster than if a human were browsing the website. This of course would act like a denial of service attack against the website and since most web servers can identify such attacks and take steps to protect themselves, we want to avoid such behaviour. \n",
    "\n",
    "One solution is to deliberately slow down the rate of requests that we make. We can, for instance, wait for a few seconds before making another request. How long, exactly, will depend. If we wait 1 second between requests, and we need to request 500 pages, then that is at least 500 seconds for our program to run. That is not so bad since hopefully scraping the data is a one time affair. There are some libraries that help to moderate your request rate if you are buiding a more sophisticated scraper. For our simple scraper we can use Python's `sleep()` method to pause execution for a short time.\n",
    "\n",
    "But let's add one more artificial restriction. There are over 1.2 million pages of questions on the website (at the time of writing, so there will be many more by the time you read this). To avoid making over a million requests and having our program take days to run, we can deliberately only request the first ten pages. Once we have a working program we can always modify the number of pages that we request.\n",
    "\n",
    "### Some other considerations\n",
    "Before we jump into the code there are a few other considerations that we should make since we are requesting multiple pages. We should clearly identify ourselves to the web server. That is, when your browser makes a request to a web server, it sends along a header named **User-Agent** with a value that identifies the browser itself. For instance, in Chrome the value looks like this:\n",
    "\n",
    "```\n",
    "Mozilla/5.0 (Macintosh; Intel Mac OS X 10_14_3) AppleWebKit/537.36 (KHTML, like Gecko) Chrome/72.0.3626.121 Safari/537.36\n",
    "```\n",
    "\n",
    "And in Firefox the value looks like this:\n",
    "\n",
    "```\n",
    "Mozilla/5.0 (Macintosh; Intel Mac OS X 10.14; rv:63.0) Gecko/20100101 Firefox/63.0\n",
    "```\n",
    "\n",
    "This way, the web server can track how many visitors use a particular browser. We can set a value that identifies us and at least provide a contact. If the website owners wish, they may contact us to get some clarity on why we are scraping data from their website and maybe negotiate a better experience for themselves as well as us. We could provide a value like:\n",
    "\n",
    "```\n",
    "'questionscraper - school project (yourname@gmail.com)'\n",
    "```\n",
    "\n",
    "For example, when making the request, we could set the header like this:\n",
    "\n",
    "```\n",
    "url = '...'\n",
    "headers = {'user-agent': 'questionscraper - school project (yourname@gmail.com)'}\n",
    "response = requests.get(url, headers=headers)\n",
    "```\n",
    "\n",
    "Another consideration is monitoring the program as it runs. We are potentially creating a program that may take 10, 15 or 20 minutes or even more to run. It would be important to \"see\" what is happening as the program runs. This helps us to follow the progress, ensure the  program isn't hung up, and to detect problems early. We could simply print the number of requests that have been made so far, the frequency of the requests, the number of items found so far, and any errors encountered.\n",
    "\n",
    "Putting all of this together can be a bit daunting, but careful step by step thought will make it possible. A complete working program is given below. Before you run it, ensure you set your email address in the header. Also, a variable named `MAX_REQUESTS` was created to set an upper limit on the number of requests made. You may adjust this value as you wish."
   ]
  },
  {
   "cell_type": "code",
   "execution_count": 0,
   "metadata": {
    "colab": {
     "base_uri": "https://localhost:8080/",
     "height": 68
    },
    "colab_type": "code",
    "id": "q2P1WzaCtM0o",
    "outputId": "d0cbc1ac-9834-4565-be6b-f81b931c9373"
   },
   "outputs": [
    {
     "name": "stdout",
     "output_type": "stream",
     "text": [
      "Requests: 11, Frequency: 0.5421090145287822 requests/s, 165 questions processed.\n",
      "Sraping complete\n",
      "Requests: 11, Frequency: 0.5421090145287822 requests/s, 165 questions processed.\n"
     ]
    }
   ],
   "source": [
    "# import all depenencies at the top\n",
    "from time import time\n",
    "from time import sleep\n",
    "from random import randint\n",
    "from IPython.core.display import clear_output\n",
    "from warnings import warn\n",
    "from bs4 import BeautifulSoup\n",
    "import requests\n",
    "\n",
    "\n",
    "# define a function to process the page\n",
    "def process_page(soup, questions):  \n",
    "  \n",
    "  # find all elements with class *summary*\n",
    "  raw_questions = soup.select('.summary')\n",
    "\n",
    "  # same as above, extract the info we need\n",
    "  for question in raw_questions:\n",
    "    title = question.select_one('h3 > a').get_text() # extract the title\n",
    "    excerpt = question.select_one('.excerpt').get_text().strip() # extract the excerpt\n",
    "    tags = [tag.get_text() for tag in question.select('.tags a')] # extract a list of tags\n",
    "    new_question = {'title': title, 'excerpt': excerpt, 'tags': tags} # construct a dictionary\n",
    "    questions.append(new_question) # add dictionary to list\n",
    "\n",
    "    \n",
    "# prepare for the monitoring logic\n",
    "start_time = time() # note the system time when the program starts\n",
    "request_count = 0 # track the number of requests made\n",
    "\n",
    "# create variables to store the data\n",
    "questions = []\n",
    "\n",
    "# variables to handle the request loop\n",
    "has_next_page = True\n",
    "MAX_REQUESTS = 10 # do not request more than 10 pages\n",
    "page_number = 1\n",
    "query = {'tab':'newest', 'page': page_number}\n",
    "url = 'https://stackoverflow.com/questions'\n",
    "headers = {'user-agent': 'questionscraper - school project (myeamail@gmail.com)'}\n",
    "\n",
    "while has_next_page and request_count < MAX_REQUESTS:\n",
    "  # keep the output clear\n",
    "  clear_output(wait = True)\n",
    "  \n",
    "  # make an initial request\n",
    "  response = requests.get(url, params=query, headers=headers)\n",
    "\n",
    "  # make sure we got a valid response\n",
    "  if(response.ok):\n",
    "    # get the full data from the response\n",
    "    data = response.text\n",
    "    soup = BeautifulSoup(data, 'html.parser')\n",
    "    process_page(soup, questions)\n",
    "\n",
    "    # check for the next page\n",
    "    # look for the presence of element with class *test-pagination-next*\n",
    "    next_button = soup.select('a[rel=\"next\"]')\n",
    "    has_next_page = len(next_button) > 0\n",
    "    \n",
    "  else:\n",
    "    # display a warning if there are any problems\n",
    "    warn('Request #: {}, Failed with status code: {}'.format(request_count, response.status_code))\n",
    "  \n",
    "  request_count += 1\n",
    "  \n",
    "  # go to sleep for a bit\n",
    "  # we use a random number between 1 and 5 so\n",
    "  # We can wait as long as 5 seconds to make a second request\n",
    "  \n",
    "  sleep(randint(1,3))\n",
    "  \n",
    "  # output some logs for monitoring\n",
    "  elapsed_time = time() - start_time\n",
    "  print('Requests: {}, Frequency: {} requests/s, {} questions processed.'.format(request_count, request_count/elapsed_time, len(questions)))\n",
    "  \n",
    "  # prepare for next iteration\n",
    "  page_number += 1\n",
    "      \n",
    "print('Sraping complete')\n",
    "print('Requests: {}, Frequency: {} requests/s, {} questions processed.'.format(request_count, request_count/elapsed_time, len(questions)))"
   ]
  },
  {
   "cell_type": "code",
   "execution_count": 0,
   "metadata": {
    "colab": {
     "base_uri": "https://localhost:8080/",
     "height": 428
    },
    "colab_type": "code",
    "id": "x9HKAANNO6Sq",
    "outputId": "517d61c1-34ba-4eb0-dcf1-2f03ff799242"
   },
   "outputs": [
    {
     "data": {
      "text/plain": [
       "[{'excerpt': \"I'm using SpringXD where I have a Rabbit Source with outputType application/json. Next module receive it and convert it to Java Object. RabbitMq is my transport bus.\\n\\nMy configuration is pretty ...\",\n",
       "  'tags': ['java',\n",
       "   'spring',\n",
       "   'spring-integration',\n",
       "   'spring-cloud-dataflow',\n",
       "   'spring-xd'],\n",
       "  'title': 'Not able to convert Message from Json String to Object. Cast exception'},\n",
       " {'excerpt': \"I'm trying to create a program where I insert a value at a requested node in a doubly linked list. My code works, but it inserts the value one position after the requested node. How do I change my ...\",\n",
       "  'tags': ['c++', 'doubly-linked-list'],\n",
       "  'title': 'Inserting before a specified position in doubly linked list'},\n",
       " {'excerpt': 'I am trying to learn about Firebase, so \"I made\" a small app where I save data from a form and then retrieve them. But I am getting an object when retrieving the snapshot value:\\n\\nThis is what my code ...',\n",
       "  'tags': ['node.js',\n",
       "   'firebase',\n",
       "   'express',\n",
       "   'firebase-realtime-database',\n",
       "   'handlebars.js'],\n",
       "  'title': 'Express + Firebase online database snapshot returns object'},\n",
       " {'excerpt': 'Telegram Bot API 4.5 comes with new parse mode, MarkdownV2. At the same time these _ * [ ] ( ) ~ > # + - = | { } . ! characters must be escaped with the preceding character \\\\. \\n\\n.replace(/[-.+?^$[\\\\]...',\n",
       "  'tags': ['regex', 'replace', 'escaping', 'telegram', 'telegram-bot'],\n",
       "  'title': 'Escaped character on Telegram Bot API 4.5 MarkdownV2 gives trouble for hyper link'},\n",
       " {'excerpt': 'I have implemented firebase authentification system in my android application . \\n\\nI am working with google login only, everything is working ok \\n\\nBut, in order to login to my wordpress blog with the ...',\n",
       "  'tags': ['android', 'firebase-authentication'],\n",
       "  'title': 'Android : Get id token and token string from google login'}]"
      ]
     },
     "execution_count": 21,
     "metadata": {
      "tags": []
     },
     "output_type": "execute_result"
    }
   ],
   "source": [
    "# print the first five questions\n",
    "questions[0:5]"
   ]
  },
  {
   "cell_type": "markdown",
   "metadata": {
    "colab_type": "text",
    "id": "WIqwqsFMUKLO"
   },
   "source": [
    "## Save to a file\n",
    "Getting the data from the server is only the first part of the problem. The next step is to persist the data in some format that makes it available for analysis later. A CSV file is a fairly common format and well-supported in many environments. The `csv` Python library provides the tools to read and write csv files in Python. \n",
    "\n",
    "### Note about Colab\n",
    "Since this is a hosted service writing a file to the filesystem is not quite as straightforward as if this code was running on your local machine. We can get around this by writing to your Google Drive. The file will then be accessible from your Google Drive. In order to use Google Drive, you will need to be authenticated. Luckily, Google provides a library named *PyDrive* that makes all this simple. We do not have to go into the details of what this does. First ensure that PyDrive is installed in the environment. This command only needs to be executed once in a notebook.\n"
   ]
  },
  {
   "cell_type": "code",
   "execution_count": 0,
   "metadata": {
    "colab": {
     "base_uri": "https://localhost:8080/",
     "height": 51
    },
    "colab_type": "code",
    "id": "fU5Y5i8ncQh1",
    "outputId": "24e6f33f-9bfc-4321-c053-b0a529b263d4"
   },
   "outputs": [
    {
     "name": "stdout",
     "output_type": "stream",
     "text": [
      "\u001b[K    100% |████████████████████████████████| 993kB 19.7MB/s \n",
      "\u001b[?25h  Building wheel for PyDrive (setup.py) ... \u001b[?25ldone\n",
      "\u001b[?25h"
     ]
    }
   ],
   "source": [
    "# install this library\n",
    "!pip install -U -q PyDrive"
   ]
  },
  {
   "cell_type": "markdown",
   "metadata": {
    "colab_type": "text",
    "id": "zJGcIGYevvE8"
   },
   "source": [
    "Then, to authenticate with Google, do the following. Note that you will be prompted to login with your Google credentials and then you will be given a code to enter. When you enter that code, this notebook will have permission to write files to your Google Drive."
   ]
  },
  {
   "cell_type": "code",
   "execution_count": 0,
   "metadata": {
    "colab": {},
    "colab_type": "code",
    "id": "hDNREOAgwJzx"
   },
   "outputs": [],
   "source": [
    "from pydrive.auth import GoogleAuth\n",
    "from pydrive.drive import GoogleDrive\n",
    "from google.colab import auth\n",
    "from oauth2client.client import GoogleCredentials\n",
    "\n",
    "# Authenticate and create the PyDrive client.\n",
    "# This only needs to be done once in a notebook.\n",
    "auth.authenticate_user()\n",
    "gauth = GoogleAuth()\n",
    "gauth.credentials = GoogleCredentials.get_application_default()\n",
    "drive = GoogleDrive(gauth)"
   ]
  },
  {
   "cell_type": "markdown",
   "metadata": {
    "colab_type": "text",
    "id": "Fgr6nQ0QwP3g"
   },
   "source": [
    "Next, we can create a csv string of our questions and write it to Google Drive with a file  name of \"questions.csv\""
   ]
  },
  {
   "cell_type": "code",
   "execution_count": 0,
   "metadata": {
    "colab": {
     "base_uri": "https://localhost:8080/",
     "height": 34
    },
    "colab_type": "code",
    "id": "tGQPgHvaWnMR",
    "outputId": "2f14769a-4252-415e-d856-22335755a716"
   },
   "outputs": [
    {
     "name": "stdout",
     "output_type": "stream",
     "text": [
      "Uploaded file with ID 1WZ5DRTIPEHhp3ZVvPa5b8oDHlyOiJ6CA\n"
     ]
    }
   ],
   "source": [
    "import csv\n",
    "import io\n",
    "\n",
    "# Create an output stream\n",
    "output = io.StringIO()\n",
    "\n",
    "# these are the names of the properties in the dictionary\n",
    "fieldnames = ['title', 'excerpt', 'tags']\n",
    "\n",
    "# create a writer object, it can write dictionaries to the output stream\n",
    "writer = csv.DictWriter(output, fieldnames=fieldnames)\n",
    "\n",
    "# write all the headings \n",
    "writer.writeheader()\n",
    "\n",
    "# iterate the questions and write each one\n",
    "for question in questions:\n",
    "  writer.writerow(question)\n",
    "\n",
    "\n",
    "# Create & upload a text file.\n",
    "uploaded = drive.CreateFile({'title': 'questions.csv'})\n",
    "uploaded.SetContentString(output.getvalue())\n",
    "uploaded.Upload()\n",
    "print('Uploaded file with ID {}'.format(uploaded.get('id')))  \n",
    "      "
   ]
  },
  {
   "cell_type": "markdown",
   "metadata": {
    "colab_type": "text",
    "id": "QbIZbsOewy73"
   },
   "source": [
    "Visit your Google Drive and find the file named \"questions.csv\" and verify that it contains a list of questions that was scraped from the StackOverflow questions site."
   ]
  },
  {
   "cell_type": "code",
   "execution_count": null,
   "metadata": {},
   "outputs": [],
   "source": []
  }
 ],
 "metadata": {
  "colab": {
   "collapsed_sections": [],
   "name": "python_web_scraping.ipynb",
   "provenance": []
  },
  "kernelspec": {
   "display_name": "Python 3",
   "language": "python",
   "name": "python3"
  },
  "language_info": {
   "codemirror_mode": {
    "name": "ipython",
    "version": 3
   },
   "file_extension": ".py",
   "mimetype": "text/x-python",
   "name": "python",
   "nbconvert_exporter": "python",
   "pygments_lexer": "ipython3",
   "version": "3.7.7"
  }
 },
 "nbformat": 4,
 "nbformat_minor": 1
}
