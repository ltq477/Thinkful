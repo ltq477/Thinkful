{
 "cells": [
  {
   "cell_type": "code",
   "execution_count": 65,
   "metadata": {},
   "outputs": [],
   "source": [
    "import requests"
   ]
  },
  {
   "cell_type": "code",
   "execution_count": 94,
   "metadata": {},
   "outputs": [],
   "source": [
    "url = 'https://api.harvardartmuseums.org/person'\n",
    "parameter = {\n",
    "    'q': 'culture:British',\n",
    "    'apikey':'974fdfa0-a6bf-11ea-825b-875cde66b0b5',\n",
    "    'size':'100'\n",
    "    }"
   ]
  },
  {
   "cell_type": "code",
   "execution_count": 95,
   "metadata": {},
   "outputs": [],
   "source": [
    "query = requests.get(url, parameter)"
   ]
  },
  {
   "cell_type": "code",
   "execution_count": 96,
   "metadata": {},
   "outputs": [],
   "source": [
    "data = query.json()"
   ]
  },
  {
   "cell_type": "code",
   "execution_count": 97,
   "metadata": {},
   "outputs": [
    {
     "data": {
      "text/plain": [
       "dict_keys(['info', 'records'])"
      ]
     },
     "execution_count": 97,
     "metadata": {},
     "output_type": "execute_result"
    }
   ],
   "source": [
    "data.keys()"
   ]
  },
  {
   "cell_type": "code",
   "execution_count": 98,
   "metadata": {},
   "outputs": [
    {
     "data": {
      "text/plain": [
       "{'totalrecordsperquery': 100,\n",
       " 'totalrecords': 1868,\n",
       " 'pages': 19,\n",
       " 'page': 1,\n",
       " 'next': 'https://api.harvardartmuseums.org/person?q=culture%3ABritish&apikey=974fdfa0-a6bf-11ea-825b-875cde66b0b5&size=100&page=2'}"
      ]
     },
     "execution_count": 98,
     "metadata": {},
     "output_type": "execute_result"
    }
   ],
   "source": [
    "data['info']"
   ]
  },
  {
   "cell_type": "code",
   "execution_count": 99,
   "metadata": {},
   "outputs": [
    {
     "name": "stdout",
     "output_type": "stream",
     "text": [
      "William Hodges , None\n",
      "William Edward Kilburn , None\n",
      "Barnes and Son , None\n",
      "Anne Susan Zileri , None\n",
      "Adolphe Beau , None\n",
      "Samuel Drummond , None\n",
      "Beattle & Bark , None\n",
      "S. Ayling , None\n",
      "Michael Craig-Martin , Dublin, Ireland\n",
      "Jeremy Gilbert-Rolfe , Tunbridge Wells, Kent, England\n",
      "Anish Kapoor , Bombay, India\n",
      "John Gregory Hancock , None\n",
      "Robert Bright Marston , None\n",
      "J. Cordwell , None\n",
      "G. Ramsden , None\n",
      "Lucia Moholy , Prague, Czech Republic\n",
      "George Garthorne , None\n",
      "Wedgwood , None\n",
      "Frank Samuel Eastman , Anerley, London\n",
      "A & E Seeley , None\n",
      "Window & Bridge , None\n",
      "William Wyon , Birmingham\n",
      "Patrick Caulfield , None\n",
      "H. Mills , None\n",
      "John Duck , None\n",
      "Cornelis Jonson van Ceulen , London\n",
      "Christopher Le Brun , Portsmouth, England\n",
      "Brown, Barnes & Bell , None\n",
      "J. F. Daniel & Co. , None\n",
      "William Luks , None\n",
      "William Howitt , None\n",
      "Walter Dendy Sadler , Dorking, England\n",
      "John Copley , None\n",
      "Frederic Leighton , Scarborough England\n",
      "William Beechey , Buford, England\n",
      "Jacob Epstein , New York, NY\n",
      "John Kirk , London, England\n",
      "Sir Godfrey Kneller , Lubeck, Germany\n",
      "Maker's mark DG and fleur-de-lis in lozenge , None\n",
      "Willoughby Wallace Hooper , London, England\n",
      "Albert Joseph Moore , York, England\n",
      "William Walker & Sons , None\n",
      "William Payne , Plymouth, England\n",
      "D. Phillips , None\n",
      "J. Paton , None\n",
      "Fradelle & Marshall , None\n",
      "Chapman & Co. , None\n",
      "W. & D. Downey , None\n",
      "W. F. Donkin , None\n",
      "Mason & Co. , None\n",
      "Lucas & Box , None\n",
      "Arthur Dawe , None\n",
      "Jules Guggenheim , None\n",
      "James G. Holland , Burslem, England\n",
      "William Etty , York, England\n",
      "James Lafayette , None\n",
      "Dring & Fage , None\n",
      "Thomas Hudson , Devon, England\n",
      "Samuel Godbehere , None\n",
      "F. Sydney Muschamp , Kingston-upon-Hull, England\n",
      "Matthew Lofthouse , None\n",
      "Cornelius Bland , None\n",
      "Nesbitt & Co. , None\n",
      "Window & Grove , None\n",
      "William Crookes , London\n",
      "Henry Moore , Castleford, W. Yorks, U.K.\n",
      "George Morland , London, England\n",
      "L. Caldesi , None\n",
      "Inskip , None\n",
      "Chiselhurst , None\n",
      "Samuel Welder , None\n",
      "Frederick William Lock , London, England\n",
      "Thomas Phillips , Dudley, England\n",
      "W. Woodward & Co. , None\n",
      "Vandyke & Brown , None\n",
      "Charles Haslewood Shannon , Quarrington, England\n",
      "Thomas Webster , London\n",
      "Norman Ackroyd , None\n",
      "Francis Hayman , None\n",
      "Dame Laura Knight , None\n",
      "Jonathan Alleine , None\n",
      "Edward Julius Detmold , None\n",
      "W. P. Barrett , None\n",
      "J. R. Sawyer , Sheffield, England\n",
      "Aubrey Vincent Beardsley , Brighton, England\n",
      "Wedgwood & Bentley , None\n",
      "T. Bolton , None\n",
      "Tim Mapston , None\n",
      "Paul Sandby Munn , Greenwich, England\n",
      "Jan Faber the Younger , None\n",
      "Edward Radclyffe , None\n",
      "Richard Dalton , None\n",
      "William Fairland , None\n",
      "G. H. Every , None\n",
      "Hughes & Mullins , None\n",
      "Benjamin Watts , None\n",
      "Butterworth and Heath , None\n",
      "Edward Francis Finden , None\n",
      "Joseph Webb , None\n",
      "Charles Picart , None\n"
     ]
    }
   ],
   "source": [
    "for x in data['records']:\n",
    "    name = x['displayname']\n",
    "    birthplace = x['birthplace']\n",
    "   \n",
    "    print(name,  \",\"  ,birthplace)"
   ]
  },
  {
   "cell_type": "code",
   "execution_count": null,
   "metadata": {},
   "outputs": [],
   "source": []
  }
 ],
 "metadata": {
  "kernelspec": {
   "display_name": "Python 3",
   "language": "python",
   "name": "python3"
  },
  "language_info": {
   "codemirror_mode": {
    "name": "ipython",
    "version": 3
   },
   "file_extension": ".py",
   "mimetype": "text/x-python",
   "name": "python",
   "nbconvert_exporter": "python",
   "pygments_lexer": "ipython3",
   "version": "3.7.7"
  }
 },
 "nbformat": 4,
 "nbformat_minor": 4
}
