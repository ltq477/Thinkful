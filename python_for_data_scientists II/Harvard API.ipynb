{
 "cells": [
  {
   "cell_type": "code",
   "execution_count": 4,
   "metadata": {
    "colab": {},
    "colab_type": "code",
    "id": "65FWxjR5fTd2"
   },
   "outputs": [],
   "source": [
    "import requests"
   ]
  },
  {
   "cell_type": "code",
   "execution_count": 16,
   "metadata": {
    "colab": {},
    "colab_type": "code",
    "id": "QCYcE2-ifTd7"
   },
   "outputs": [],
   "source": [
    "url = 'https://api.harvardartmuseums.org/person'\n",
    "parameter = {\n",
    "    'q': 'culture:British',\n",
    "    'size':'100',\n",
    "    'apikey':'974fdfa0-a6bf-11ea-825b-875cde66b0b5'\n",
    "    }"
   ]
  },
  {
   "cell_type": "code",
   "execution_count": 17,
   "metadata": {
    "colab": {},
    "colab_type": "code",
    "id": "YflK0pN-fTeD"
   },
   "outputs": [],
   "source": [
    "query = requests.get(url, parameter)"
   ]
  },
  {
   "cell_type": "code",
   "execution_count": 18,
   "metadata": {
    "colab": {},
    "colab_type": "code",
    "id": "CH_SbrD1fTeL",
    "outputId": "c7782fe7-7737-4b14-c9d3-18359b244c6e"
   },
   "outputs": [
    {
     "name": "stdout",
     "output_type": "stream",
     "text": [
      "Smithson , None\n",
      "Nicola Tyson , London, England\n",
      "J. Hinton , None\n",
      "Thomas Frye , None\n",
      "Francis Garthorne , None\n",
      "Joseph Stannard , None\n",
      "Josh Clements , None\n",
      "Joseph Davis , None\n",
      "Stereoscopic Company Limited , None\n",
      "T. Coleman , None\n",
      "Frank Briggs , None\n",
      "Henry Burch, Jr. , None\n",
      "Maull & Fox , None\n",
      "Thomas Mann Baynes , None\n",
      "Hills & Saunders , None\n",
      "Richard Selesnick , London, England\n",
      "Thomas Charles Farrer , London, England\n",
      "John Downman , Ruabon, Wrexham, Wales\n",
      "J. M. D. Worsnop , None\n",
      "Joseph Swain , Oxford, England\n",
      "Moira & Haigh , None\n",
      "Thomas Ogle , None\n",
      "Marcus C. Stone , London, England\n",
      "Lacy Theatrical Bookseller , None\n",
      "William Hamilton , None\n",
      "John Ellicott , None\n",
      "John Shaw , None\n",
      "William Hackwood , None\n",
      "Henry Wallis , London\n",
      "John F. Herring Sr. , Surrey England\n",
      "Alfred Sachs , None\n",
      "Sir George Hayter , None\n",
      "Maclure, Macdonald & Co. , None\n",
      "James Drumgole Linton , London\n",
      "Waller Barry , None\n",
      "Robert Laurie , None\n",
      "Graham Sutherland , London, England\n",
      "Malcolm Milne , Cheadle, England\n",
      "John Ruskin , London, England\n",
      "Thomas Northcote , None\n",
      "Hugh Lofting , None\n",
      "Maker's mark IS with cinquefoil below , None\n",
      "Gordon Onslow-Ford , Wendover, Buckinghamshire, England\n",
      "Samuel Gillespie Prout , None\n",
      "Frank Short , None\n",
      "Philip Wilson Steer , Birkenhead, England\n",
      "Mr. Nelson , None\n",
      "Evelyn De Morgan , None\n",
      "Charles John Holmes , Preston, England\n",
      "Thomas Brydon , None\n",
      "Thomas Humphrey Paget , None\n",
      "Anthony Nelme , None\n",
      "Dante Gabriel Rossetti , London, England\n",
      "John Ruslen , None\n",
      "Ford Madox Brown , Calais, France\n",
      "John Hall , None\n",
      "John Saddler , None\n",
      "Jonathan Richardson Sr. , None\n",
      "William Faithorne the Elder , None\n",
      "Thomas Girtin , London, England\n",
      "Ernest Edwards , None\n",
      "Harvey, Reynolds & Co. , None\n",
      "Henry William Taunt , Oxford, England\n",
      "Dalton & Lucy , None\n",
      "John Dixon , None\n",
      "William Greatbach , None\n",
      "John Seymour , None\n",
      "Gerard Laing , Newcastle upon Tyne, England\n",
      "Maw & Company , None\n",
      "Cundall, Downes & Co. , None\n",
      "F. Pickering , None\n",
      "Boydell & Co. Publishers , None\n",
      "Claude Dubosc , None\n",
      "William Ellis , None\n",
      "Eric Fitch Daglish , None\n",
      "Mabel Royds , None\n",
      "William Orpen , Dublin, Ireland\n",
      "George Pyne , None\n",
      "Theodore Matthias von Holst , None\n",
      "John Hardman & Co. , None\n",
      "Lambert Weston & Son , None\n",
      "D. Lama , None\n",
      "W. H. Midwinter , None\n",
      "Orrin Smith , None\n",
      "? Smyth , None\n",
      "William Morris , None\n",
      "Gabriel Smith , None\n",
      "William Keeling , None\n",
      "Edward Wigan , None\n",
      "Francis Singleton , None\n",
      "Francis Cotes , London, England\n",
      "Lock & Whitfield , None\n",
      "William Clarkson Stanfield , Sunderland, England\n",
      "Henry Hering , None\n",
      "Turner & Drinkwater , None\n",
      "Walter Greaves , London, England\n",
      "Douglas , None\n",
      "Byrne & Co. , None\n",
      "Edward Dayes , London, England\n",
      "James Henry Lynch , None\n"
     ]
    }
   ],
   "source": [
    "if (query.ok):\n",
    "    data = query.json()\n",
    "    data.keys()\n",
    "    data['info']\n",
    "    \n",
    "    for x in data['records']:\n",
    "        name = x['displayname']\n",
    "        birthplace = x['birthplace']\n",
    "   \n",
    "        print(name,  \",\"  ,birthplace)"
   ]
  },
  {
   "cell_type": "code",
   "execution_count": null,
   "metadata": {},
   "outputs": [],
   "source": []
  }
 ],
 "metadata": {
  "colab": {
   "name": "Harvard API.ipynb",
   "provenance": []
  },
  "kernelspec": {
   "display_name": "Python 3",
   "language": "python",
   "name": "python3"
  },
  "language_info": {
   "codemirror_mode": {
    "name": "ipython",
    "version": 3
   },
   "file_extension": ".py",
   "mimetype": "text/x-python",
   "name": "python",
   "nbconvert_exporter": "python",
   "pygments_lexer": "ipython3",
   "version": "3.7.7"
  }
 },
 "nbformat": 4,
 "nbformat_minor": 1
}
