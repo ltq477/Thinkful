{
 "cells": [
  {
   "cell_type": "markdown",
   "metadata": {
    "colab_type": "text",
    "id": "cgVQ3eVz-3FT"
   },
   "source": [
    "## Installing the libraries\n",
    "\n",
    "\n",
    "The notebook you're currently viewing in the Thinkful curriculum app has our two required libraries already installed. But if you need to create a notebook on Colab that requires these libraries, you'll need to manually install them. To do that, create and run a cell with the following commands:\n",
    "\n",
    "```\n",
    "!pip install sqlalchemy\n",
    "!pip install psycopg2\n",
    "!pip install psycopg2-binary\n",
    "```\n",
    "\n",
    "After these install, we'll be able to import them and use them in our Python code."
   ]
  },
  {
   "cell_type": "code",
   "execution_count": 1,
   "metadata": {
    "colab": {},
    "colab_type": "code",
    "id": "zv1W2lh7-jCq"
   },
   "outputs": [],
   "source": [
    "# Import the SQL ALchemy engine\n",
    "from sqlalchemy import create_engine"
   ]
  },
  {
   "cell_type": "markdown",
   "metadata": {
    "colab_type": "text",
    "id": "WVVz3xZgELo7"
   },
   "source": [
    "This import statement makes the `create_engine` function available in our program. We can use that function to create a connection to the database. The database would reside on a database server and have specific authentication and permissions set. Recall what you learned earlier in this course about connecting to PostgreSQL servers with a username. Similarly, our Python code would need some information in order to connect. Specifically, we need:\n",
    "\n",
    "* the username\n",
    "* a password\n",
    "* the hostname - that is the domain name of a server or an IP address\n",
    "* a port number - by default, the port number of PostgreSQL database servers is 5432, but in some cases, the server administrator may decide to use a different port. In such cases, you need to specify the port number. \n",
    "* a database name - each server may host multiple databases, and when you connect you must state which database you wish to connect to.\n",
    "\n",
    "We can declare some variables to store these values. Then use the `create_engine` function to connect to the database."
   ]
  },
  {
   "cell_type": "code",
   "execution_count": 2,
   "metadata": {
    "colab": {},
    "colab_type": "code",
    "id": "KsLP0UbOFooC"
   },
   "outputs": [
    {
     "name": "stderr",
     "output_type": "stream",
     "text": [
      "/opt/conda/lib/python3.7/site-packages/psycopg2/__init__.py:144: UserWarning: The psycopg2 wheel package will be renamed from release 2.8; in order to keep installing from binary please use \"pip install psycopg2-binary\" instead. For details see: <http://initd.org/psycopg/docs/install.html#binary-install-from-pypi>.\n",
      "  \"\"\")\n"
     ]
    }
   ],
   "source": [
    "# Database credentials\n",
    "postgres_user = 'dsbc_student'\n",
    "postgres_pw = '7*.8G9QH21'\n",
    "postgres_host = '142.93.121.174'\n",
    "postgres_port = '5432'\n",
    "postgres_db = 'medicalcosts'\n",
    "\n",
    "# use the credentials to start a connection\n",
    "engine = create_engine('postgresql://{}:{}@{}:{}/{}'.format(\n",
    "    postgres_user, postgres_pw, postgres_host, postgres_port, postgres_db))"
   ]
  },
  {
   "cell_type": "markdown",
   "metadata": {
    "colab_type": "text",
    "id": "4_-k_LsGF6Es"
   },
   "source": [
    "## Insurance charges dataset\n",
    "\n",
    "We will demonstrate database connections and simple queries on a medical cost dataset originally from Kaggle. We'll be working with a SQL-based version of this dataset hosted on a Postgres server accessible via the credentials given above.\n",
    "\n",
    "The data is about the costs charged by insurance companies to individuals. These are costs that the insured individuals were required to pay after the insurance company made payments to medical providers. The dataset includes six variables as described below:\n",
    "\n",
    "* age: The age of the individual. It's a numeric.\n",
    "* sex: The biological sex of the insured. It is categorical (male or female).\n",
    "* bmi: Body mass index. This index indicates whether an individual's weight is relatively high or low, based on height. This index defines an ideal range between 18.5 and 24.9. The variable is continuous.\n",
    "* children: How many dependent children the insured person has. Dependents are covered by the insurance plan. This is a numeric variable.\n",
    "* smoker: This categorical variable (yes | no) indicates whether or not the person smokes.\n",
    "* region: The person's residential area in the US. It's a categorical variable (northeast, southeast, southwest, northwest).\n",
    "* charges: The medical costs (in US dollars) billed by the insurance company. It's a continuous variable.\n",
    "\n",
    "In this database, there is a single table named *medicalcosts* with these 7 columns. As a quick check, let's see if we can query the table and get the data from the table."
   ]
  },
  {
   "cell_type": "code",
   "execution_count": 3,
   "metadata": {
    "colab": {},
    "colab_type": "code",
    "id": "LDFCBB72_3rX"
   },
   "outputs": [
    {
     "name": "stdout",
     "output_type": "stream",
     "text": [
      "(19, 'female', 27.9, 0, 'yes', 'southwest', 16884.9)\n",
      "(18, 'male', 33.77, 1, 'no', 'southeast', 1725.55)\n",
      "(28, 'male', 33.0, 3, 'no', 'southeast', 4449.46)\n",
      "(33, 'male', 22.705, 0, 'no', 'northwest', 21984.5)\n",
      "(32, 'male', 28.88, 0, 'no', 'northwest', 3866.86)\n",
      "(31, 'female', 25.74, 0, 'no', 'southeast', 3756.62)\n",
      "(46, 'female', 33.44, 1, 'no', 'southeast', 8240.59)\n",
      "(37, 'female', 27.74, 3, 'no', 'northwest', 7281.51)\n",
      "(37, 'male', 29.83, 2, 'no', 'northeast', 6406.41)\n",
      "(60, 'female', 25.84, 0, 'no', 'northwest', 28923.1)\n"
     ]
    }
   ],
   "source": [
    "# Use the connection to execute some SQL\n",
    "insurance = engine.execute('SELECT * FROM medicalcosts LIMIT 10')\n",
    "\n",
    "# no need for an open connection, as we're only doing a single query\n",
    "engine.dispose()\n",
    "\n",
    "# Process the results\n",
    "for row in insurance:\n",
    "  print(row)\n"
   ]
  },
  {
   "cell_type": "markdown",
   "metadata": {
    "colab_type": "text",
    "id": "jPC7D41xJV_F"
   },
   "source": [
    "## ResultProxy\n",
    "\n",
    "In the above code the `execute()` method of the connection was used to execute some raw SQL on the database. As mentioned above, SQLAlchemy has many features beyond this, but executing these SQL statements is all we need for now. The result of executing a query with the `execute()` method is a **ResultProxy** object. The ResultProxy provides several methods and properties that we can use to process the data returned from the query.\n",
    "\n",
    "In the example above, we simply iterate over all the rows of data returned. Let us examine some of the features available."
   ]
  },
  {
   "cell_type": "code",
   "execution_count": 4,
   "metadata": {
    "colab": {
     "base_uri": "https://localhost:8080/",
     "height": 34
    },
    "colab_type": "code",
    "id": "1HdIVjtjLYc0",
    "outputId": "23b33d5e-9023-4c18-c1ff-a30ebd898a31"
   },
   "outputs": [
    {
     "data": {
      "text/plain": [
       "['age', 'sex', 'bmi', 'children', 'smoker', 'region', 'charges']"
      ]
     },
     "execution_count": 4,
     "metadata": {},
     "output_type": "execute_result"
    }
   ],
   "source": [
    "# get a list of the keys (column names) \n",
    "insurance.keys()"
   ]
  },
  {
   "cell_type": "markdown",
   "metadata": {
    "colab_type": "text",
    "id": "6smvCWdNM0BH"
   },
   "source": [
    "The ResultProxy exposes the rows as an *iterator*. That means that you have a single pass at the rows but accessing them again is not possible. If you try running the for loop again you will notice that you get no output."
   ]
  },
  {
   "cell_type": "code",
   "execution_count": 5,
   "metadata": {
    "colab": {},
    "colab_type": "code",
    "id": "yF5HZrFoLou6"
   },
   "outputs": [],
   "source": [
    "for row in insurance:\n",
    "  print(row)"
   ]
  },
  {
   "cell_type": "markdown",
   "metadata": {
    "colab_type": "text",
    "id": "zAtPgvRfkZWi"
   },
   "source": [
    "In many instances, this is not a problem as you only need to iterate the rows once to process them. However, if you need to perform several iterations of the results, then it would be better to take the rows from the ResultProxy and construct a *list* of rows. "
   ]
  },
  {
   "cell_type": "code",
   "execution_count": 6,
   "metadata": {
    "colab": {},
    "colab_type": "code",
    "id": "qAWF6jcok2YY"
   },
   "outputs": [
    {
     "name": "stdout",
     "output_type": "stream",
     "text": [
      "(19, 'female', 27.9, 0, 'yes', 'southwest', 16884.9)\n",
      "(18, 'male', 33.77, 1, 'no', 'southeast', 1725.55)\n",
      "(28, 'male', 33.0, 3, 'no', 'southeast', 4449.46)\n",
      "(33, 'male', 22.705, 0, 'no', 'northwest', 21984.5)\n",
      "(32, 'male', 28.88, 0, 'no', 'northwest', 3866.86)\n",
      "(31, 'female', 25.74, 0, 'no', 'southeast', 3756.62)\n",
      "(46, 'female', 33.44, 1, 'no', 'southeast', 8240.59)\n",
      "(37, 'female', 27.74, 3, 'no', 'northwest', 7281.51)\n",
      "(37, 'male', 29.83, 2, 'no', 'northeast', 6406.41)\n",
      "(60, 'female', 25.84, 0, 'no', 'northwest', 28923.1)\n"
     ]
    }
   ],
   "source": [
    "# Execute the SQL statement again\n",
    "insurance = engine.execute('SELECT * FROM medicalcosts LIMIT 10')\n",
    "\n",
    "# dispose the connection\n",
    "engine.dispose()\n",
    "\n",
    "# use fetchall() to get a list of rows from the results.\n",
    "rows = insurance.fetchall()\n",
    "\n",
    "# now process the list of rows\n",
    "for row in rows:\n",
    "  print(row)\n",
    "\n",
    "  "
   ]
  },
  {
   "cell_type": "markdown",
   "metadata": {
    "colab_type": "text",
    "id": "kKdel_osl9Zt"
   },
   "source": [
    "Now, if you repeat the for loop or try to access the rows in the list again they will still be available. Additionally, you can use the features of the Python list data structure to access individual rows or groups of rows. For instance, to just iterate the first five rows you can slice the list:"
   ]
  },
  {
   "cell_type": "code",
   "execution_count": 7,
   "metadata": {
    "colab": {
     "base_uri": "https://localhost:8080/",
     "height": 102
    },
    "colab_type": "code",
    "id": "FIDW36vKlK_a",
    "outputId": "d94c84d9-282a-4d3d-a115-951a5d40440f"
   },
   "outputs": [
    {
     "name": "stdout",
     "output_type": "stream",
     "text": [
      "(19, 'female', 27.9, 0, 'yes', 'southwest', 16884.9)\n",
      "(18, 'male', 33.77, 1, 'no', 'southeast', 1725.55)\n",
      "(28, 'male', 33.0, 3, 'no', 'southeast', 4449.46)\n",
      "(33, 'male', 22.705, 0, 'no', 'northwest', 21984.5)\n",
      "(32, 'male', 28.88, 0, 'no', 'northwest', 3866.86)\n"
     ]
    }
   ],
   "source": [
    "for row in rows[:5]:\n",
    "  print(row)"
   ]
  },
  {
   "cell_type": "markdown",
   "metadata": {
    "colab_type": "text",
    "id": "YZ4tAMF4nUgp"
   },
   "source": [
    "or to get the last 5 rows:"
   ]
  },
  {
   "cell_type": "code",
   "execution_count": 8,
   "metadata": {
    "colab": {
     "base_uri": "https://localhost:8080/",
     "height": 102
    },
    "colab_type": "code",
    "id": "q3wf4hyFnYam",
    "outputId": "709103b3-e175-4145-f4ff-5c65790ba93e"
   },
   "outputs": [
    {
     "name": "stdout",
     "output_type": "stream",
     "text": [
      "(31, 'female', 25.74, 0, 'no', 'southeast', 3756.62)\n",
      "(46, 'female', 33.44, 1, 'no', 'southeast', 8240.59)\n",
      "(37, 'female', 27.74, 3, 'no', 'northwest', 7281.51)\n",
      "(37, 'male', 29.83, 2, 'no', 'northeast', 6406.41)\n",
      "(60, 'female', 25.84, 0, 'no', 'northwest', 28923.1)\n"
     ]
    }
   ],
   "source": [
    "for row in rows[-5:]:\n",
    "  print(row)"
   ]
  },
  {
   "cell_type": "markdown",
   "metadata": {
    "colab_type": "text",
    "id": "sVerJhJrnphH"
   },
   "source": [
    "### RowProxy\n",
    "\n",
    "We will look at a few more examples of manipulating the list shortly. First, let's take a closer look at the row itself. When we print the row we get a tuple of values like this:\n",
    "\n",
    "```\n",
    "(18, 'female', 31.92, 0, 'no', 'northeast', 2205.98)\n",
    "```\n",
    "\n",
    "But what exactly is that? SQLAlchemy constructs the ResultProxy out of a set of **RowProxy** objects. The RowProxy object provides several methods for using the data in a row. You can always check the type of an object with the *type()* function."
   ]
  },
  {
   "cell_type": "code",
   "execution_count": 9,
   "metadata": {
    "colab": {
     "base_uri": "https://localhost:8080/",
     "height": 34
    },
    "colab_type": "code",
    "id": "y98nDu2GoZrz",
    "outputId": "57277dc9-5b1e-4e03-ce44-9860a1db13d1"
   },
   "outputs": [
    {
     "data": {
      "text/plain": [
       "sqlalchemy.engine.result.RowProxy"
      ]
     },
     "execution_count": 9,
     "metadata": {},
     "output_type": "execute_result"
    }
   ],
   "source": [
    "# get the first row from the list\n",
    "first_row = rows[0]\n",
    "\n",
    "# get the data type of this row\n",
    "type(first_row)"
   ]
  },
  {
   "cell_type": "markdown",
   "metadata": {
    "colab_type": "text",
    "id": "Zh1A7nU8opoV"
   },
   "source": [
    "#### has_key()\n",
    "The `has_key()` method returns `True` if a given key exists in the row, `False` otherwise. This can be used to verify that a particular data value exists before processing the row."
   ]
  },
  {
   "cell_type": "code",
   "execution_count": 1,
   "metadata": {
    "colab": {
     "base_uri": "https://localhost:8080/",
     "height": 51
    },
    "colab_type": "code",
    "id": "VUNIyB9apCdb",
    "outputId": "2f90c177-50ad-4bd2-dbb7-4549d6a4d823"
   },
   "outputs": [
    {
     "ename": "NameError",
     "evalue": "name 'first_row' is not defined",
     "output_type": "error",
     "traceback": [
      "\u001b[1;31m---------------------------------------------------------------------------\u001b[0m",
      "\u001b[1;31mNameError\u001b[0m                                 Traceback (most recent call last)",
      "\u001b[1;32m<ipython-input-1-018354924ba3>\u001b[0m in \u001b[0;36m<module>\u001b[1;34m\u001b[0m\n\u001b[1;32m----> 1\u001b[1;33m \u001b[0mprint\u001b[0m\u001b[1;33m(\u001b[0m\u001b[1;34m'The first row has a key named `age`: {}'\u001b[0m\u001b[1;33m.\u001b[0m\u001b[0mformat\u001b[0m\u001b[1;33m(\u001b[0m\u001b[0mfirst_row\u001b[0m\u001b[1;33m.\u001b[0m\u001b[0mhas_key\u001b[0m\u001b[1;33m(\u001b[0m\u001b[1;34m'age'\u001b[0m\u001b[1;33m)\u001b[0m\u001b[1;33m)\u001b[0m\u001b[1;33m)\u001b[0m\u001b[1;33m\u001b[0m\u001b[1;33m\u001b[0m\u001b[0m\n\u001b[0m\u001b[0;32m      2\u001b[0m \u001b[0mprint\u001b[0m\u001b[1;33m(\u001b[0m\u001b[1;34m'The first row has a key named `height`: {}'\u001b[0m\u001b[1;33m.\u001b[0m\u001b[0mformat\u001b[0m\u001b[1;33m(\u001b[0m\u001b[0mfirst_row\u001b[0m\u001b[1;33m.\u001b[0m\u001b[0mhas_key\u001b[0m\u001b[1;33m(\u001b[0m\u001b[1;34m'height'\u001b[0m\u001b[1;33m)\u001b[0m\u001b[1;33m)\u001b[0m\u001b[1;33m)\u001b[0m\u001b[1;33m\u001b[0m\u001b[1;33m\u001b[0m\u001b[0m\n",
      "\u001b[1;31mNameError\u001b[0m: name 'first_row' is not defined"
     ]
    }
   ],
   "source": [
    "print('The first row has a key named `age`: {}'.format(first_row.has_key('age')))\n",
    "print('The first row has a key named `height`: {}'.format(first_row.has_key('height')))"
   ]
  },
  {
   "cell_type": "markdown",
   "metadata": {
    "colab_type": "text",
    "id": "J_5Q_A_XqGLP"
   },
   "source": [
    "#### keys()\n",
    "The `keys()` method lists all the keys in the row similar to the `keys()` method of the ResultProxy itself."
   ]
  },
  {
   "cell_type": "code",
   "execution_count": 11,
   "metadata": {
    "colab": {
     "base_uri": "https://localhost:8080/",
     "height": 34
    },
    "colab_type": "code",
    "id": "uGsPG2TMqTCS",
    "outputId": "080f717a-7098-49ad-bbe5-f1466981651b"
   },
   "outputs": [
    {
     "data": {
      "text/plain": [
       "['age', 'sex', 'bmi', 'children', 'smoker', 'region', 'charges']"
      ]
     },
     "execution_count": 11,
     "metadata": {},
     "output_type": "execute_result"
    }
   ],
   "source": [
    "first_row.keys()"
   ]
  },
  {
   "cell_type": "markdown",
   "metadata": {
    "colab_type": "text",
    "id": "ejfOILh2qXZv"
   },
   "source": [
    "#### items()\n",
    "\n",
    "The `items()` method returns a list of tuples containing the key/value pairs from the row."
   ]
  },
  {
   "cell_type": "code",
   "execution_count": 12,
   "metadata": {
    "colab": {
     "base_uri": "https://localhost:8080/",
     "height": 136
    },
    "colab_type": "code",
    "id": "RnAdb0R9qjfa",
    "outputId": "605bb027-0bab-4787-deef-4933b91804f9"
   },
   "outputs": [
    {
     "data": {
      "text/plain": [
       "[('age', 19),\n",
       " ('sex', 'female'),\n",
       " ('bmi', 27.9),\n",
       " ('children', 0),\n",
       " ('smoker', 'yes'),\n",
       " ('region', 'southwest'),\n",
       " ('charges', 16884.9)]"
      ]
     },
     "execution_count": 12,
     "metadata": {},
     "output_type": "execute_result"
    }
   ],
   "source": [
    "first_row.items()"
   ]
  },
  {
   "cell_type": "markdown",
   "metadata": {
    "colab_type": "text",
    "id": "bLM3RSfMqomL"
   },
   "source": [
    "This has implications for how the data is accessed as you process a row. You can get the value of a specific column in a row in one of two ways. You can use the numeric position of the column in the result. The first column is at position 0, the second is at position 1 and so on. However, depending on the position can be unstable as a database table does not guarantee the order of columns and if the SQL statement changes a little then all positions could be wrong. The second way, using the actual column name is safer.\n",
    "\n"
   ]
  },
  {
   "cell_type": "code",
   "execution_count": 13,
   "metadata": {
    "colab": {
     "base_uri": "https://localhost:8080/",
     "height": 34
    },
    "colab_type": "code",
    "id": "IRXtM6plVuZH",
    "outputId": "61c9deca-e51a-4558-ba48-00c9189bdf7d"
   },
   "outputs": [
    {
     "name": "stdout",
     "output_type": "stream",
     "text": [
      "The first row has a bmi of 27.9 and charges of 16884.9\n"
     ]
    }
   ],
   "source": [
    "# Access it by position\n",
    "bmi = first_row[2]\n",
    "\n",
    "# Access if by column name\n",
    "charges = first_row['charges']\n",
    "\n",
    "print('The first row has a bmi of {} and charges of {}'.format(bmi, charges))"
   ]
  },
  {
   "cell_type": "markdown",
   "metadata": {
    "colab_type": "text",
    "id": "lkbbSqNsXC9O"
   },
   "source": [
    "### Processing the Data\n",
    "\n",
    "At this point, we know how to execute a query against a database and access the returned data. Let's walk through a quick example of processing the data using the same medical cost database as above. We can calculate basic statistics like mean, median, range, and variance in Python. *Note that there are many libraries available that can perform these calculations for us. But it is instructive to see how we can do it ourselves first then look at the external libraries later.*\n",
    "\n",
    "Suppose your manager wanted a report giving the mean, median, and standard deviation of charges for all females between the ages of 18 and 30. Let's first work out the SQL statement.\n",
    "\n",
    "#### WHERE clause\n",
    "\n",
    "We need to restrict the rows that we process to only those where the `sex` field contains the value `female` and the `age` field contains a values between 18 and 30. That means we have 3 conditions to add to the SQL statement. Also, we do not actually need all 7 fields in the results, just the charges. A SQL statement might look like this:\n",
    "\n",
    "```sql\n",
    "SELECT\n",
    "  charges\n",
    "FROM\n",
    "  medicalcosts\n",
    "WHERE\n",
    "  sex = 'female'\n",
    "  AND age BETWEEN 18 and 30;\n",
    "```\n",
    "\n",
    "Before we actually perform the calculations let's see the effect of this where clause.\n"
   ]
  },
  {
   "cell_type": "code",
   "execution_count": 14,
   "metadata": {
    "colab": {
     "base_uri": "https://localhost:8080/",
     "height": 34
    },
    "colab_type": "code",
    "id": "W8-RWGKj93mr",
    "outputId": "650a7985-ce55-4596-ed68-3ef0c588993a"
   },
   "outputs": [
    {
     "name": "stdout",
     "output_type": "stream",
     "text": [
      "There are 1338 rows in the table\n"
     ]
    }
   ],
   "source": [
    "# Find the total number of rows in the table\n",
    "row_count = engine.execute('SELECT COUNT(*) FROM medicalcosts')\n",
    "\n",
    "# dispose the connection\n",
    "engine.dispose()\n",
    "\n",
    "# fetch the first row from the Results\n",
    "ans = row_count.first()\n",
    "\n",
    "# print the count\n",
    "print('There are {} rows in the table'.format(ans['count']))"
   ]
  },
  {
   "cell_type": "markdown",
   "metadata": {
    "colab_type": "text",
    "id": "yGJMJxVu_EO5"
   },
   "source": [
    "There are 1338 rows in total. That would include females and males as well as females that are not between the ages of 18 and 30. Let's now try adding our filter conditions. Since the SQL statement is getting longer we can use multiline strings in Python to write a formatted SQL statement for better readability."
   ]
  },
  {
   "cell_type": "code",
   "execution_count": 15,
   "metadata": {
    "colab": {
     "base_uri": "https://localhost:8080/",
     "height": 34
    },
    "colab_type": "code",
    "id": "T4i9Iysc_tQd",
    "outputId": "4d6eaf5a-b51c-404a-b309-6eb752b5f7ba"
   },
   "outputs": [
    {
     "name": "stdout",
     "output_type": "stream",
     "text": [
      "There are 662 females in the table\n"
     ]
    }
   ],
   "source": [
    "sql = '''\n",
    "SELECT \n",
    "  COUNT(*) \n",
    "FROM \n",
    "  medicalcosts\n",
    "WHERE \n",
    "  sex = 'female' '''\n",
    "\n",
    "row_count = engine.execute(sql)\n",
    "engine.dispose()\n",
    "ans = row_count.first()\n",
    "print('There are {} females in the table'.format(ans['count']))"
   ]
  },
  {
   "cell_type": "markdown",
   "metadata": {
    "colab_type": "text",
    "id": "1_es1OB7Ar2K"
   },
   "source": [
    "That seems reasonable, approximately half of the data refer to females. Lets add the next condition."
   ]
  },
  {
   "cell_type": "code",
   "execution_count": 16,
   "metadata": {
    "colab": {
     "base_uri": "https://localhost:8080/",
     "height": 34
    },
    "colab_type": "code",
    "id": "NbXCr0rvA3Tj",
    "outputId": "1d71d9d2-ff01-4a5e-8ddb-22f742a76ee0"
   },
   "outputs": [
    {
     "name": "stdout",
     "output_type": "stream",
     "text": [
      "There are 214 females between 18 and 30 in the table\n"
     ]
    }
   ],
   "source": [
    "sql = '''\n",
    "SELECT \n",
    "  COUNT(*) \n",
    "FROM \n",
    "  medicalcosts\n",
    "WHERE \n",
    "  sex = 'female'\n",
    "  AND age BETWEEN 18 AND 30'''\n",
    "\n",
    "row_count = engine.execute(sql)\n",
    "engine.dispose()\n",
    "ans = row_count.first()\n",
    "print('There are {} females between 18 and 30 in the table'.format(ans['count']))"
   ]
  },
  {
   "cell_type": "markdown",
   "metadata": {
    "colab_type": "text",
    "id": "KD8o3ss5FE2D"
   },
   "source": [
    "Checking like this is not always necessary, but it helps us to confirm that the SQL statement is correct. You can also use your favorite SQL client to work out the correct SQL before using it in the Python code. Let's get the 214 values into a list and perform the calculations."
   ]
  },
  {
   "cell_type": "code",
   "execution_count": 17,
   "metadata": {
    "colab": {
     "base_uri": "https://localhost:8080/",
     "height": 54
    },
    "colab_type": "code",
    "id": "KGFlj6wjKa36",
    "outputId": "df38d95a-184c-4c4e-aac4-ff850eec56e5"
   },
   "outputs": [
    {
     "name": "stdout",
     "output_type": "stream",
     "text": [
      "[16884.9, 4149.74, 2198.19, 4687.8, 3046.06, 3393.36, 3556.92, 2211.13, 3579.83, 4133.64, 14711.7, 1743.21, 16577.8, 3947.41, 2755.02, 2026.97, 3766.88, 21344.8, 2331.52, 2404.73, 19107.8, 2257.48, 3385.4, 17081.1, 2457.21, 2155.68, 2166.73, 5138.26, 36149.5, 4830.63, 2719.28, 2855.44, 1631.82, 3981.98, 5325.65, 4922.92, 2130.68, 37133.9, 4337.74, 3392.98, 25081.8, 1727.79, 1615.77, 38511.6, 17085.3, 2150.47, 3172.02, 2156.75, 4349.46, 20177.7, 4151.03, 1737.38, 34838.9, 24671.7, 3561.89, 18955.2, 3554.2, 14133.0, 1607.51, 13844.5, 2597.78, 3180.51, 18034.0, 15006.6, 3176.82, 4618.08, 2138.07, 1631.67, 14455.6, 2134.9, 7323.73, 3167.46, 18804.8, 4906.41, 19522.0, 23288.9, 2201.1, 2203.47, 1744.46, 1622.19, 1748.77, 2196.47, 3044.21, 11482.6, 24059.7, 3056.39, 3213.62, 17878.9, 2801.26, 2128.43, 2219.45, 4753.64, 3206.49, 15359.1, 1633.04, 17469.0, 3558.62, 2207.7, 1880.07, 34439.9, 3736.46, 3366.67, 2709.11, 4466.62, 3410.32, 3943.6, 2585.27, 3578.0, 3201.25, 3500.61, 2020.55, 2457.5, 40932.4, 16657.7, 2217.6, 4234.93, 3925.76, 17748.5, 2731.91, 4719.52, 38792.7, 2136.88, 1877.93, 2842.76, 1621.88, 4719.74, 36021.0, 2974.13, 1875.34, 18218.2, 4391.65, 3392.37, 2690.11, 2585.85, 1634.57, 2117.34, 4564.19, 2473.33, 2913.57, 2217.47, 4527.18, 2730.11, 3353.28, 2527.82, 1759.34, 16796.4, 14571.9, 3378.91, 16420.5, 2709.24, 3987.93, 26019.0, 35595.6, 2020.18, 4137.52, 3161.45, 3594.17, 3353.47, 2480.98, 5708.87, 33907.5, 4561.19, 3227.12, 5312.17, 5693.43, 34166.3, 18903.5, 40904.2, 1728.9, 3176.29, 36898.7, 2261.57, 2203.74, 14426.1, 2459.72, 2200.83, 4529.48, 2154.36, 2899.49, 2850.68, 2632.99, 18328.2, 13126.7, 18838.7, 33307.6, 18223.5, 3956.07, 4718.2, 26125.7, 20167.3, 3238.44, 4296.27, 3171.61, 1633.96, 1880.49, 3021.81, 2741.95, 4189.11, 14283.5, 3732.62, 4340.44, 2710.83, 3208.79, 2464.62, 16115.3, 33900.7, 36397.6, 18765.9, 1731.68, 22395.7, 10795.9, 2205.98, 1629.83, 2007.94]\n"
     ]
    }
   ],
   "source": [
    "sql = '''\n",
    "SELECT \n",
    "  charges \n",
    "FROM \n",
    "  medicalcosts\n",
    "WHERE \n",
    "  sex = 'female'\n",
    "  AND age BETWEEN 18 AND 30'''\n",
    "\n",
    "charges = engine.execute(sql)\n",
    "engine.dispose()\n",
    "\n",
    "rows = charges.fetchall()\n",
    "\n",
    "# At this point the rows list contain RowProxy objects,\n",
    "# but we really only need the numeric value so lets extract\n",
    "# the numeric value into a list of raw numbers\n",
    "\n",
    "charges = [x['charges'] for x in rows]\n",
    "print(charges)"
   ]
  },
  {
   "cell_type": "markdown",
   "metadata": {
    "colab_type": "text",
    "id": "bv2vq4-XL6Us"
   },
   "source": [
    "#### Mean\n",
    "\n",
    "Calculating the mean is fairly straightforward. First, we sum the values in the array, then we divide the sum by the number of items in the array. Since finding the mean of an array of numbers is something that we may do many times for many different arrays we could write a function that performs that task for us, then invoke the function whenever we need to find the mean of an array. \n",
    "\n",
    "*There are many ways that this code could be written. If you do a search online you will probably find many different answers including the use of more complex tools like lambda functions and functools. Those are all perfectly valid and may even perform better than this example. But here we are aiming for simple and readable.* "
   ]
  },
  {
   "cell_type": "code",
   "execution_count": 18,
   "metadata": {
    "colab": {
     "base_uri": "https://localhost:8080/",
     "height": 34
    },
    "colab_type": "code",
    "id": "MwDGa-gPM218",
    "outputId": "25efc801-6806-49dd-b489-6b952823caee"
   },
   "outputs": [
    {
     "name": "stdout",
     "output_type": "stream",
     "text": [
      "The mean of the charges is 8624.224345794393\n"
     ]
    }
   ],
   "source": [
    "# A simple implementation simply iterating the array\n",
    "def mean(numbers):\n",
    "  total_sum = 0;  # initialize the sum to zero\n",
    "  for n in numbers:\n",
    "    total_sum += n # add up the numbers in the array\n",
    "  count = len(numbers)   # find the length of the array\n",
    "  avg = total_sum / count  # calculate the mean\n",
    "  return avg  # return the result\n",
    "\n",
    "print('The mean of the charges is {}'.format(mean(charges)))"
   ]
  },
  {
   "cell_type": "markdown",
   "metadata": {},
   "source": [
    "Here is how we can leverage SQL queries to do the calculation for us.  We do this by using the AVG() function for charges."
   ]
  },
  {
   "cell_type": "code",
   "execution_count": 19,
   "metadata": {},
   "outputs": [
    {
     "name": "stdout",
     "output_type": "stream",
     "text": [
      "The mean of the charges is 8624.2230966158\n"
     ]
    }
   ],
   "source": [
    "sql = '''\n",
    "SELECT \n",
    "  AVG(charges)\n",
    "FROM \n",
    "  medicalcosts\n",
    "WHERE \n",
    "  sex = 'female'\n",
    "  AND age BETWEEN 18 AND 30'''\n",
    "\n",
    "\n",
    "charges_avg = engine.execute(sql)\n",
    "engine.dispose()\n",
    "\n",
    "rows_avg = charges_avg.fetchall()[0][0] \n",
    "\n",
    "print('The mean of the charges is {}'.format(rows_avg))\n"
   ]
  },
  {
   "cell_type": "markdown",
   "metadata": {
    "colab_type": "text",
    "id": "KynHnBRGQDoF"
   },
   "source": [
    "#### Median\n",
    "\n",
    "The median is the number occurring in the middle of the array when the array is sorted. So we can find the median by first sorting the array, then finding the number in the exact middle. If there is an odd number of values in the array then the middle number is easy. But if there is an even number there is no obvious middle. In that case, we find the two numbers closest to the middle and find their average.\n",
    "\n",
    "Python has built in the ability to sort a list. The simplest approach is to use the `sort()` method of the list itself. It sorts the list in place, which means, the list itself is changed.\n",
    "\n",
    "**Note:** Unfortunately, doing a median in SQL is very challenging, so we are going to stick with Python code."
   ]
  },
  {
   "cell_type": "code",
   "execution_count": 20,
   "metadata": {
    "colab": {
     "base_uri": "https://localhost:8080/",
     "height": 34
    },
    "colab_type": "code",
    "id": "MGUFZ0D8VZUL",
    "outputId": "a3e1db0d-3b0b-4e84-e0c9-b9ca3dd40b23"
   },
   "outputs": [
    {
     "name": "stdout",
     "output_type": "stream",
     "text": [
      "[1, 2, 3, 4, 5]\n"
     ]
    }
   ],
   "source": [
    "alist = [5, 2, 4, 1, 3]\n",
    "alist.sort()\n",
    "print(alist)"
   ]
  },
  {
   "cell_type": "markdown",
   "metadata": {
    "colab_type": "text",
    "id": "guvQw8uJVpWG"
   },
   "source": [
    "If making changes to the list itself is not desirable then using the `sorted()` function that creates a new sorted list. This second approach has the advantage of working on other data structures than lists as well. "
   ]
  },
  {
   "cell_type": "code",
   "execution_count": 21,
   "metadata": {
    "colab": {
     "base_uri": "https://localhost:8080/",
     "height": 51
    },
    "colab_type": "code",
    "id": "bLXyS21vWAX0",
    "outputId": "6cf52c8a-4e49-4db1-c190-df649fea410c"
   },
   "outputs": [
    {
     "name": "stdout",
     "output_type": "stream",
     "text": [
      "[1, 2, 3, 4, 5]\n",
      "[5, 2, 4, 1, 3]\n"
     ]
    }
   ],
   "source": [
    "alist = [5, 2, 4, 1, 3]\n",
    "sorted_list = sorted(alist)\n",
    "print(sorted_list)\n",
    "print(alist)"
   ]
  },
  {
   "cell_type": "markdown",
   "metadata": {
    "colab_type": "text",
    "id": "0NP9S0FyWLqt"
   },
   "source": [
    "Notice how even though you end up with a sorted list named `sorted_list`, you still have the original list untouched. For the problem at hand, it really does not matter which one of these approaches we take."
   ]
  },
  {
   "cell_type": "code",
   "execution_count": 22,
   "metadata": {
    "colab": {
     "base_uri": "https://localhost:8080/",
     "height": 34
    },
    "colab_type": "code",
    "id": "_a7cqAs-RASv",
    "outputId": "d66b2acd-e8d1-49b5-c64a-705628f0ba2a"
   },
   "outputs": [
    {
     "name": "stdout",
     "output_type": "stream",
     "text": [
      "The median of the charges is 3527.4049999999997\n"
     ]
    }
   ],
   "source": [
    "import math\n",
    "\n",
    "def median(numbers):\n",
    "  numbers.sort()  # sort the list of numbers\n",
    "  count = len(numbers) # get the length of the array\n",
    "  isEven = count % 2 == 0 # check if this list is of even length\n",
    "  \n",
    "  if (isEven):\n",
    "    # find the two numbers in the middle of the array\n",
    "    mid = math.floor( count / 2 )\n",
    "    a = numbers[mid - 1]\n",
    "    b = numbers[mid]\n",
    "    # find the average of these two numbers\n",
    "    ans = (a + b) / 2\n",
    "  else:\n",
    "    ans = numbers[math.floor( count / 2 )]\n",
    " \n",
    "  return ans\n",
    "\n",
    "print('The median of the charges is {}'.format(median(charges)))"
   ]
  },
  {
   "cell_type": "markdown",
   "metadata": {
    "colab_type": "text",
    "id": "LgO3ve7GcP0E"
   },
   "source": [
    "#### Standard Deviation\n",
    "\n",
    "Recall that the standard deviation is calculated with the formula\n",
    "\n",
    "$$ \\sigma  = \\sqrt\\frac{\\sum(X - \\bar X)^2}{N - 1} $$\n",
    "\n",
    "Where \n",
    " * $X$ - Each individual value\n",
    " * $\\bar X$ - The mean of all values\n",
    " * $ \\sum$ - The sum of whatever comes next\n",
    " * $ N $ - The total number of values\n",
    " \n",
    "We already have a function to calculate the mean. "
   ]
  },
  {
   "cell_type": "code",
   "execution_count": 23,
   "metadata": {
    "colab": {
     "base_uri": "https://localhost:8080/",
     "height": 34
    },
    "colab_type": "code",
    "id": "J-CzayqtefWB",
    "outputId": "b575b773-728f-4156-eac9-fb3ffd50fb70"
   },
   "outputs": [
    {
     "name": "stdout",
     "output_type": "stream",
     "text": [
      "The standard deviation of the charges is 10114.063803685161\n"
     ]
    }
   ],
   "source": [
    "def standard_deviation(numbers):\n",
    "  X_bar = mean(numbers)\n",
    "  N = len(numbers)\n",
    "  total_sum = 0\n",
    "  for X in numbers:\n",
    "    diff = X - X_bar\n",
    "    squared = math.pow(diff, 2)\n",
    "    total_sum += squared\n",
    "  sigma = math.sqrt(total_sum / (N - 1))  \n",
    "  return sigma\n",
    "\n",
    "print('The standard deviation of the charges is {}'.format(standard_deviation(charges)))"
   ]
  },
  {
   "cell_type": "markdown",
   "metadata": {},
   "source": [
    "Here is how we can leverage SQL queries to do the calculation for us.  We do this by using the STDDEV() function around charges."
   ]
  },
  {
   "cell_type": "code",
   "execution_count": 24,
   "metadata": {},
   "outputs": [
    {
     "name": "stdout",
     "output_type": "stream",
     "text": [
      "The standard deviation of the charges is 10114.0612425204\n"
     ]
    }
   ],
   "source": [
    "sql = '''\n",
    "SELECT \n",
    "  STDDEV(charges)\n",
    "FROM \n",
    "  medicalcosts\n",
    "WHERE \n",
    "  sex = 'female'\n",
    "  AND age BETWEEN 18 AND 30'''\n",
    "\n",
    "\n",
    "charges = engine.execute(sql)\n",
    "engine.dispose()\n",
    "\n",
    "rows = charges.fetchall()[0][0] \n",
    "\n",
    "print('The standard deviation of the charges is {}'.format(rows))\n"
   ]
  },
  {
   "cell_type": "markdown",
   "metadata": {
    "colab_type": "text",
    "id": "W9-P4OSuhwI3"
   },
   "source": [
    "## Another Example\n",
    "\n",
    "Your company would like to honor the hardest working actor in comedy show business. They got access to a film database listing most of the popular movies released along with some information about the actors involved. This database contain quite a lot of information but we are mainly interested in the number of movies that each actor appeared in. \n",
    "\n",
    "The objective is to query this database for the list of actors and the number of comedy movies in which they appear. Then look for the actor with the highest number of appearances. We can also use the functions written above to get mean, median, and standard deviation of these counts.\n",
    "\n",
    "First, connect to the database."
   ]
  },
  {
   "cell_type": "code",
   "execution_count": 25,
   "metadata": {
    "colab": {},
    "colab_type": "code",
    "id": "dDUA5aIwd0Qp"
   },
   "outputs": [],
   "source": [
    "# Database credentials\n",
    "postgres_user = 'dsbc_student'\n",
    "postgres_pw = '7*.8G9QH21'\n",
    "postgres_host = '142.93.121.174'\n",
    "postgres_port = '5432'\n",
    "postgres_db = 'dvdrentals'\n",
    "\n",
    "# use the credentials to start a connection\n",
    "engine = create_engine('postgresql://{}:{}@{}:{}/{}'.format(\n",
    "    postgres_user, postgres_pw, postgres_host, postgres_port, postgres_db))\n"
   ]
  },
  {
   "cell_type": "markdown",
   "metadata": {
    "colab_type": "text",
    "id": "XHFM-dsijuff"
   },
   "source": [
    "Then construct the SQL statement. We need the actor's name from the actor table, the category \"Comedy\" from the category table, and the film data in the film table. We need to join the film and actor using the film_actor table because there is a many-to-many relationship between films and actors, and similarly we need to join the film to category using the film_category table.\n",
    "\n",
    "Additionally, we do not need the list of movies and actors, but rather the count. SQL has the built-in COUNT() function. First, we group the results by actor, then perform a count within each group.\n",
    "\n",
    "Finally, we could order the results by count in descending order so that we get the actor with most appearances first."
   ]
  },
  {
   "cell_type": "code",
   "execution_count": 26,
   "metadata": {
    "colab": {},
    "colab_type": "code",
    "id": "2Ht4JKA6eDKu"
   },
   "outputs": [
    {
     "name": "stdout",
     "output_type": "stream",
     "text": [
      "(6, 196, 'BELA', 'WALKEN')\n",
      "(5, 143, 'RIVER', 'DEAN')\n",
      "(5, 149, 'RUSSELL', 'TEMPLE')\n",
      "(4, 129, 'DARYL', 'CRAWFORD')\n",
      "(4, 76, 'ANGELINA', 'ASTAIRE')\n",
      "(4, 58, 'CHRISTIAN', 'AKROYD')\n",
      "(4, 24, 'CAMERON', 'STREEP')\n",
      "(4, 83, 'BEN', 'WILLIS')\n",
      "(4, 37, 'VAL', 'BOLGER')\n",
      "(4, 198, 'MARY', 'KEITEL')\n",
      "(4, 101, 'SUSAN', 'DAVIS')\n",
      "(4, 82, 'WOODY', 'JOLIE')\n",
      "(4, 127, 'KEVIN', 'GARLAND')\n",
      "(3, 159, 'LAURA', 'BRODY')\n",
      "(3, 71, 'ADAM', 'GRANT')\n",
      "(3, 162, 'OPRAH', 'KILMER')\n",
      "(3, 84, 'JAMES', 'PITT')\n",
      "(3, 173, 'ALAN', 'DREYFUSS')\n",
      "(3, 42, 'TOM', 'MIRANDA')\n",
      "(3, 125, 'ALBERT', 'NOLTE')\n",
      "(3, 153, 'MINNIE', 'KILMER')\n",
      "(3, 147, 'FAY', 'WINSLET')\n",
      "(3, 19, 'BOB', 'FAWCETT')\n",
      "(3, 81, 'SCARLETT', 'DAMON')\n",
      "(3, 17, 'HELEN', 'VOIGHT')\n",
      "(3, 54, 'PENELOPE', 'PINKETT')\n",
      "(3, 34, 'AUDREY', 'OLIVIER')\n",
      "(3, 90, 'SEAN', 'GUINESS')\n",
      "(3, 45, 'REESE', 'KILMER')\n",
      "(3, 107, 'GINA', 'DEGENERES')\n",
      "(3, 89, 'CHARLIZE', 'DENCH')\n",
      "(3, 31, 'SISSY', 'SOBIESKI')\n",
      "(3, 158, 'VIVIEN', 'BASINGER')\n",
      "(3, 13, 'UMA', 'WOOD')\n",
      "(3, 133, 'RICHARD', 'PENN')\n",
      "(3, 128, 'CATE', 'MCQUEEN')\n",
      "(3, 99, 'JIM', 'MOSTEL')\n",
      "(3, 191, 'GREGORY', 'GOODING')\n",
      "(2, 119, 'WARREN', 'JACKMAN')\n",
      "(2, 25, 'KEVIN', 'BLOOM')\n",
      "(2, 43, 'KIRK', 'JOVOVICH')\n",
      "(2, 69, 'KENNETH', 'PALTROW')\n",
      "(2, 26, 'RIP', 'CRAWFORD')\n",
      "(2, 85, 'MINNIE', 'ZELLWEGER')\n",
      "(2, 187, 'RENEE', 'BALL')\n",
      "(2, 57, 'JUDE', 'CRUISE')\n",
      "(2, 154, 'MERYL', 'GIBSON')\n",
      "(2, 160, 'CHRIS', 'DEPP')\n",
      "(2, 172, 'GROUCHO', 'WILLIAMS')\n",
      "(2, 21, 'KIRSTEN', 'PALTROW')\n",
      "(2, 92, 'KIRSTEN', 'AKROYD')\n",
      "(2, 74, 'MILLA', 'KEITEL')\n",
      "(2, 177, 'GENE', 'MCKELLEN')\n",
      "(2, 29, 'ALEC', 'WAYNE')\n",
      "(2, 182, 'DEBBIE', 'AKROYD')\n",
      "(2, 181, 'MATTHEW', 'CARREY')\n",
      "(2, 105, 'SIDNEY', 'CROWE')\n",
      "(2, 86, 'GREG', 'CHAPLIN')\n",
      "(2, 144, 'ANGELA', 'WITHERSPOON')\n",
      "(2, 163, 'CHRISTOPHER', 'WEST')\n",
      "(2, 106, 'GROUCHO', 'DUNST')\n",
      "(2, 50, 'NATALIE', 'HOPKINS')\n",
      "(2, 102, 'WALTER', 'TORN')\n",
      "(2, 185, 'MICHAEL', 'BOLGER')\n",
      "(2, 111, 'CAMERON', 'ZELLWEGER')\n",
      "(2, 2, 'NICK', 'WAHLBERG')\n",
      "(2, 62, 'JAYNE', 'NEESON')\n",
      "(2, 199, 'JULIA', 'FAWCETT')\n",
      "(2, 146, 'ALBERT', 'JOHANSSON')\n",
      "(2, 152, 'BEN', 'HARRIS')\n",
      "(2, 41, 'JODIE', 'DEGENERES')\n",
      "(2, 157, 'GRETA', 'MALDEN')\n",
      "(2, 12, 'KARL', 'BERRY')\n",
      "(2, 164, 'HUMPHREY', 'WILLIS')\n",
      "(2, 112, 'RUSSELL', 'BACALL')\n",
      "(2, 135, 'RITA', 'REYNOLDS')\n",
      "(2, 65, 'ANGELA', 'HUDSON')\n",
      "(2, 124, 'SCARLETT', 'BENING')\n",
      "(2, 132, 'ADAM', 'HOPPER')\n",
      "(2, 44, 'NICK', 'STALLONE')\n",
      "(2, 80, 'RALPH', 'CRUZ')\n",
      "(2, 161, 'HARVEY', 'HOPE')\n",
      "(2, 188, 'ROCK', 'DUKAKIS')\n",
      "(2, 40, 'JOHNNY', 'CAGE')\n",
      "(1, 193, 'BURT', 'TEMPLE')\n",
      "(1, 180, 'JEFF', 'SILVERSTONE')\n",
      "(1, 168, 'WILL', 'WILSON')\n",
      "(1, 93, 'ELLEN', 'PRESLEY')\n",
      "(1, 98, 'CHRIS', 'BRIDGES')\n",
      "(1, 175, 'WILLIAM', 'HACKMAN')\n",
      "(1, 36, 'BURT', 'DUKAKIS')\n",
      "(1, 64, 'RAY', 'JOHANSSON')\n",
      "(1, 137, 'MORGAN', 'WILLIAMS')\n",
      "(1, 78, 'GROUCHO', 'SINATRA')\n",
      "(1, 167, 'LAURENCE', 'BULLOCK')\n",
      "(1, 66, 'MARY', 'TANDY')\n",
      "(1, 109, 'SYLVESTER', 'DERN')\n",
      "(1, 60, 'HENRY', 'BERRY')\n",
      "(1, 155, 'IAN', 'TANDY')\n",
      "(1, 178, 'LISA', 'MONROE')\n",
      "(1, 118, 'CUBA', 'ALLEN')\n",
      "(1, 130, 'GRETA', 'KEITEL')\n",
      "(1, 113, 'MORGAN', 'HOPKINS')\n",
      "(1, 116, 'DAN', 'STREEP')\n",
      "(1, 97, 'MEG', 'HAWKE')\n",
      "(1, 108, 'WARREN', 'NOLTE')\n",
      "(1, 141, 'CATE', 'HARRIS')\n",
      "(1, 117, 'RENEE', 'TRACY')\n",
      "(1, 15, 'CUBA', 'OLIVIER')\n",
      "(1, 79, 'MAE', 'HOFFMAN')\n",
      "(1, 156, 'FAY', 'WOOD')\n",
      "(1, 48, 'FRANCES', 'DAY-LEWIS')\n",
      "(1, 52, 'CARMEN', 'HUNT')\n",
      "(1, 126, 'FRANCES', 'TOMEI')\n",
      "(1, 72, 'SEAN', 'WILLIAMS')\n",
      "(1, 95, 'DARYL', 'WAHLBERG')\n",
      "(1, 194, 'MERYL', 'ALLEN')\n",
      "(1, 166, 'NICK', 'DEGENERES')\n",
      "(1, 47, 'JULIA', 'BARRYMORE')\n",
      "(1, 197, 'REESE', 'WEST')\n",
      "(1, 77, 'CARY', 'MCCONAUGHEY')\n",
      "(1, 142, 'JADA', 'RYDER')\n",
      "(1, 115, 'HARRISON', 'BALE')\n",
      "(1, 11, 'ZERO', 'CAGE')\n",
      "(1, 20, 'LUCILLE', 'TRACY')\n",
      "(1, 28, 'WOODY', 'HOFFMAN')\n",
      "(1, 192, 'JOHN', 'SUVARI')\n",
      "(1, 104, 'PENELOPE', 'CRONYN')\n",
      "(1, 5, 'JOHNNY', 'LOLLOBRIGIDA')\n",
      "(1, 91, 'CHRISTOPHER', 'BERRY')\n",
      "(1, 46, 'PARKER', 'GOLDBERG')\n",
      "(1, 114, 'MORGAN', 'MCDORMAND')\n",
      "(1, 183, 'RUSSELL', 'CLOSE')\n",
      "(1, 179, 'ED', 'GUINESS')\n",
      "(1, 4, 'JENNIFER', 'DAVIS')\n",
      "(1, 38, 'TOM', 'MCKELLEN')\n",
      "(1, 150, 'JAYNE', 'NOLTE')\n",
      "(1, 170, 'MENA', 'HOPPER')\n",
      "(1, 67, 'JESSICA', 'BAILEY')\n",
      "(1, 63, 'CAMERON', 'WRAY')\n",
      "(1, 10, 'CHRISTIAN', 'GABLE')\n",
      "(1, 33, 'MILLA', 'PECK')\n",
      "(1, 140, 'WHOOPI', 'HURT')\n",
      "(1, 1, 'PENELOPE', 'GUINESS')\n",
      "(1, 70, 'MICHELLE', 'MCCONAUGHEY')\n",
      "(1, 134, 'GENE', 'HOPKINS')\n",
      "(1, 139, 'EWAN', 'GOODING')\n"
     ]
    }
   ],
   "source": [
    "sql = '''\n",
    "  SELECT COUNT(*) AS count, a.actor_id, a.first_name, a.last_name \n",
    "  FROM film f \n",
    "  JOIN film_actor fa \n",
    "  ON f.film_id = fa.film_id \n",
    "  JOIN actor a \n",
    "  ON a.actor_id = fa.actor_id \n",
    "  JOIN film_category fc \n",
    "  ON fc.film_id = f.film_id\n",
    "  JOIN category c\n",
    "  ON c.category_id = fc.category_id\n",
    "  WHERE c.name = 'Comedy'\n",
    "  GROUP BY a.actor_id\n",
    "  ORDER BY count DESC\n",
    "'''\n",
    "\n",
    "results = engine.execute(sql)\n",
    "engine.dispose()\n",
    "rows = results.fetchall()\n",
    "\n",
    "# print some results just to see what we got\n",
    "for row in rows:\n",
    "  print(row)"
   ]
  },
  {
   "cell_type": "markdown",
   "metadata": {
    "colab_type": "text",
    "id": "fSk2HB17oCv3"
   },
   "source": [
    "We can see from this result that the actor \"Bela Walken\" appeared in 6 Comedy movies. But, how much more than the other actors is that? Is it close to the average? We could extract the counts and get the mean and median."
   ]
  },
  {
   "cell_type": "code",
   "execution_count": 27,
   "metadata": {
    "colab": {
     "base_uri": "https://localhost:8080/",
     "height": 68
    },
    "colab_type": "code",
    "id": "q2Btk9Evn7f6",
    "outputId": "26bb4f6b-eb5d-49cd-ae5a-6b07563fed03"
   },
   "outputs": [
    {
     "name": "stdout",
     "output_type": "stream",
     "text": [
      "The mean number of comedy movies by actor is 1.945578231292517\n",
      "The median number of comedy movies by actor is 2\n",
      "The standard deviation of appearances in comedy movies is 1.051953908863022\n"
     ]
    }
   ],
   "source": [
    "counts = [row['count'] for row in rows]\n",
    "\n",
    "print('The mean number of comedy movies by actor is {}'.format(mean(counts)))\n",
    "print('The median number of comedy movies by actor is {}'.format(median(counts)))\n",
    "print('The standard deviation of appearances in comedy movies is {}'.format(standard_deviation(counts)))"
   ]
  },
  {
   "cell_type": "markdown",
   "metadata": {
    "colab_type": "text",
    "id": "4Jz6IKXTqoJC"
   },
   "source": [
    "We can draw a few quick conclusions from this result. First, a low standard deviation implies that the data points are close to the mean, that is most actors appear in 2 comedy movies. Also, Bela Walken's 6 appearances is more than 2 standard deviations away from the mean making it a statistically significant value. This actor is definitely working harder than the rest and deserving of our honor.\n",
    "\n",
    "Of course, there is much more that can be done with this investigation before we make a conclusion like that."
   ]
  },
  {
   "cell_type": "code",
   "execution_count": null,
   "metadata": {},
   "outputs": [],
   "source": []
  }
 ],
 "metadata": {
  "colab": {
   "collapsed_sections": [],
   "name": "sql_python.ipynb",
   "provenance": [],
   "version": "0.3.2"
  },
  "kernelspec": {
   "display_name": "Python 3",
   "language": "python",
   "name": "python3"
  },
  "language_info": {
   "codemirror_mode": {
    "name": "ipython",
    "version": 3
   },
   "file_extension": ".py",
   "mimetype": "text/x-python",
   "name": "python",
   "nbconvert_exporter": "python",
   "pygments_lexer": "ipython3",
   "version": "3.7.7"
  }
 },
 "nbformat": 4,
 "nbformat_minor": 1
}
