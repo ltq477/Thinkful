{
 "cells": [
  {
   "cell_type": "markdown",
   "metadata": {},
   "source": [
    "# String Function\n",
    "\n",
    "Create a function that reverses a string. For example, given the string \"forward\", your function should return \"drawrof\". Assume all inputs are string"
   ]
  },
  {
   "cell_type": "code",
   "execution_count": 1,
   "metadata": {},
   "outputs": [
    {
     "data": {
      "text/plain": [
       "'drawrof'"
      ]
     },
     "execution_count": 1,
     "metadata": {},
     "output_type": "execute_result"
    }
   ],
   "source": [
    "#define function\n",
    "def rev_str(string):\n",
    "    return string[::-1] #command to reverse string\n",
    "        \n",
    "#try function\n",
    "rev_str('forward')"
   ]
  },
  {
   "cell_type": "markdown",
   "metadata": {},
   "source": [
    "# Bayes Function\n",
    "\n",
    "Complete the function below that can be used to calculate and return the posterior probability of an event A, given the known outcome of Event B using Bayes Theorem:"
   ]
  },
  {
   "cell_type": "code",
   "execution_count": 2,
   "metadata": {},
   "outputs": [
    {
     "data": {
      "text/plain": [
       "0.004454545454545454"
      ]
     },
     "execution_count": 2,
     "metadata": {},
     "output_type": "execute_result"
    }
   ],
   "source": [
    "def bayes(a, b_given_a, b_given_not_a):\n",
    "\n",
    "    \"\"\"\n",
    "    Calculates P(A | B) using bayes theorem.\n",
    "\n",
    "    Args:\n",
    "        a: P(A)\n",
    "        b_given_a: P(B | A)\n",
    "        b_given_not_a: P(B | ~A)\n",
    "\n",
    "    Returns:\n",
    "        P(A | B)\n",
    "    \"\"\"\n",
    "    a_given_b = (b_given_a * a) /  b_given_not_a\n",
    "    return a_given_b\n",
    "  \n",
    "bayes(.98, .005, 1.1)"
   ]
  },
  {
   "cell_type": "markdown",
   "metadata": {},
   "source": [
    "# Lahman Baseball Records\n",
    "\n",
    "Analyze the teams dataset from the Lahman baseball records. This dataset contains season statistics for each Major League Baseball team."
   ]
  },
  {
   "cell_type": "code",
   "execution_count": 3,
   "metadata": {},
   "outputs": [],
   "source": [
    "import numpy as np\n",
    "import pandas as pd\n",
    "import matplotlib.pyplot as plt\n",
    "from numpy.random import randint\n",
    "from numpy import mean\n",
    "from scipy import stats\n",
    "\n",
    "data = pd.read_csv('https://tf-assets-prod.s3.amazonaws.com/tf-curric/data-science/lahman-teams.csv')"
   ]
  },
  {
   "cell_type": "markdown",
   "metadata": {},
   "source": [
    "Retreiving Information on columns, datatypes and any null entries"
   ]
  },
  {
   "cell_type": "code",
   "execution_count": 4,
   "metadata": {
    "collapsed": true
   },
   "outputs": [
    {
     "name": "stdout",
     "output_type": "stream",
     "text": [
      "<class 'pandas.core.frame.DataFrame'>\n",
      "RangeIndex: 2805 entries, 0 to 2804\n",
      "Data columns (total 48 columns):\n",
      " #   Column          Non-Null Count  Dtype  \n",
      "---  ------          --------------  -----  \n",
      " 0   yearID          2805 non-null   int64  \n",
      " 1   lgID            2755 non-null   object \n",
      " 2   teamID          2805 non-null   object \n",
      " 3   franchID        2805 non-null   object \n",
      " 4   divID           1288 non-null   object \n",
      " 5   Rank            2805 non-null   int64  \n",
      " 6   G               2805 non-null   int64  \n",
      " 7   Ghome           2406 non-null   float64\n",
      " 8   W               2805 non-null   int64  \n",
      " 9   L               2805 non-null   int64  \n",
      " 10  DivWin          1260 non-null   object \n",
      " 11  WCWin           624 non-null    object \n",
      " 12  LgWin           2777 non-null   object \n",
      " 13  WSWin           2448 non-null   object \n",
      " 14  R               2805 non-null   int64  \n",
      " 15  AB              2805 non-null   int64  \n",
      " 16  H               2805 non-null   int64  \n",
      " 17  2B              2805 non-null   int64  \n",
      " 18  3B              2805 non-null   int64  \n",
      " 19  HR              2805 non-null   int64  \n",
      " 20  BB              2805 non-null   int64  \n",
      " 21  SO              2685 non-null   float64\n",
      " 22  SB              2661 non-null   float64\n",
      " 23  CS              1946 non-null   float64\n",
      " 24  HBP             480 non-null    float64\n",
      " 25  SF              480 non-null    float64\n",
      " 26  RA              2805 non-null   int64  \n",
      " 27  ER              2805 non-null   int64  \n",
      " 28  ERA             2805 non-null   float64\n",
      " 29  CG              2805 non-null   int64  \n",
      " 30  SHO             2805 non-null   int64  \n",
      " 31  SV              2805 non-null   int64  \n",
      " 32  IPouts          2805 non-null   int64  \n",
      " 33  HA              2805 non-null   int64  \n",
      " 34  HRA             2805 non-null   int64  \n",
      " 35  BBA             2805 non-null   int64  \n",
      " 36  SOA             2805 non-null   int64  \n",
      " 37  E               2805 non-null   int64  \n",
      " 38  DP              2488 non-null   float64\n",
      " 39  FP              2805 non-null   float64\n",
      " 40  name            2805 non-null   object \n",
      " 41  park            2771 non-null   object \n",
      " 42  attendance      2526 non-null   float64\n",
      " 43  BPF             2805 non-null   int64  \n",
      " 44  PPF             2805 non-null   int64  \n",
      " 45  teamIDBR        2805 non-null   object \n",
      " 46  teamIDlahman45  2805 non-null   object \n",
      " 47  teamIDretro     2805 non-null   object \n",
      "dtypes: float64(10), int64(25), object(13)\n",
      "memory usage: 1.0+ MB\n"
     ]
    }
   ],
   "source": [
    "data.info()"
   ]
  },
  {
   "cell_type": "markdown",
   "metadata": {},
   "source": [
    "Decribing the Dataset by retreving in Descriptive statistics information"
   ]
  },
  {
   "cell_type": "code",
   "execution_count": 5,
   "metadata": {
    "collapsed": true
   },
   "outputs": [
    {
     "data": {
      "text/html": [
       "<div>\n",
       "<style scoped>\n",
       "    .dataframe tbody tr th:only-of-type {\n",
       "        vertical-align: middle;\n",
       "    }\n",
       "\n",
       "    .dataframe tbody tr th {\n",
       "        vertical-align: top;\n",
       "    }\n",
       "\n",
       "    .dataframe thead th {\n",
       "        text-align: right;\n",
       "    }\n",
       "</style>\n",
       "<table border=\"1\" class=\"dataframe\">\n",
       "  <thead>\n",
       "    <tr style=\"text-align: right;\">\n",
       "      <th></th>\n",
       "      <th>yearID</th>\n",
       "      <th>Rank</th>\n",
       "      <th>G</th>\n",
       "      <th>Ghome</th>\n",
       "      <th>W</th>\n",
       "      <th>L</th>\n",
       "      <th>R</th>\n",
       "      <th>AB</th>\n",
       "      <th>H</th>\n",
       "      <th>2B</th>\n",
       "      <th>...</th>\n",
       "      <th>HA</th>\n",
       "      <th>HRA</th>\n",
       "      <th>BBA</th>\n",
       "      <th>SOA</th>\n",
       "      <th>E</th>\n",
       "      <th>DP</th>\n",
       "      <th>FP</th>\n",
       "      <th>attendance</th>\n",
       "      <th>BPF</th>\n",
       "      <th>PPF</th>\n",
       "    </tr>\n",
       "  </thead>\n",
       "  <tbody>\n",
       "    <tr>\n",
       "      <th>count</th>\n",
       "      <td>2805.000000</td>\n",
       "      <td>2805.000000</td>\n",
       "      <td>2805.00000</td>\n",
       "      <td>2406.000000</td>\n",
       "      <td>2805.000000</td>\n",
       "      <td>2805.000000</td>\n",
       "      <td>2805.000000</td>\n",
       "      <td>2805.000000</td>\n",
       "      <td>2805.000000</td>\n",
       "      <td>2805.000000</td>\n",
       "      <td>...</td>\n",
       "      <td>2805.000000</td>\n",
       "      <td>2805.000000</td>\n",
       "      <td>2805.000000</td>\n",
       "      <td>2805.000000</td>\n",
       "      <td>2805.000000</td>\n",
       "      <td>2488.000000</td>\n",
       "      <td>2805.000000</td>\n",
       "      <td>2.526000e+03</td>\n",
       "      <td>2805.000000</td>\n",
       "      <td>2805.000000</td>\n",
       "    </tr>\n",
       "    <tr>\n",
       "      <th>mean</th>\n",
       "      <td>1955.036720</td>\n",
       "      <td>4.107308</td>\n",
       "      <td>150.34795</td>\n",
       "      <td>78.465919</td>\n",
       "      <td>74.749020</td>\n",
       "      <td>74.749020</td>\n",
       "      <td>681.945811</td>\n",
       "      <td>5142.492335</td>\n",
       "      <td>1346.273440</td>\n",
       "      <td>227.624955</td>\n",
       "      <td>...</td>\n",
       "      <td>1346.083779</td>\n",
       "      <td>101.136542</td>\n",
       "      <td>474.010695</td>\n",
       "      <td>731.229234</td>\n",
       "      <td>186.337255</td>\n",
       "      <td>140.186495</td>\n",
       "      <td>0.961519</td>\n",
       "      <td>1.344346e+06</td>\n",
       "      <td>100.199643</td>\n",
       "      <td>100.225668</td>\n",
       "    </tr>\n",
       "    <tr>\n",
       "      <th>std</th>\n",
       "      <td>41.519083</td>\n",
       "      <td>2.323414</td>\n",
       "      <td>23.22725</td>\n",
       "      <td>4.698684</td>\n",
       "      <td>17.640402</td>\n",
       "      <td>17.378079</td>\n",
       "      <td>135.738244</td>\n",
       "      <td>750.551691</td>\n",
       "      <td>219.891603</td>\n",
       "      <td>58.692602</td>\n",
       "      <td>...</td>\n",
       "      <td>219.521064</td>\n",
       "      <td>58.245002</td>\n",
       "      <td>131.890032</td>\n",
       "      <td>296.409881</td>\n",
       "      <td>107.657444</td>\n",
       "      <td>29.322764</td>\n",
       "      <td>0.030224</td>\n",
       "      <td>9.469316e+05</td>\n",
       "      <td>4.882215</td>\n",
       "      <td>4.814985</td>\n",
       "    </tr>\n",
       "    <tr>\n",
       "      <th>min</th>\n",
       "      <td>1871.000000</td>\n",
       "      <td>1.000000</td>\n",
       "      <td>6.00000</td>\n",
       "      <td>44.000000</td>\n",
       "      <td>0.000000</td>\n",
       "      <td>4.000000</td>\n",
       "      <td>24.000000</td>\n",
       "      <td>211.000000</td>\n",
       "      <td>33.000000</td>\n",
       "      <td>3.000000</td>\n",
       "      <td>...</td>\n",
       "      <td>49.000000</td>\n",
       "      <td>0.000000</td>\n",
       "      <td>0.000000</td>\n",
       "      <td>0.000000</td>\n",
       "      <td>47.000000</td>\n",
       "      <td>18.000000</td>\n",
       "      <td>0.760000</td>\n",
       "      <td>6.088000e+03</td>\n",
       "      <td>60.000000</td>\n",
       "      <td>60.000000</td>\n",
       "    </tr>\n",
       "    <tr>\n",
       "      <th>25%</th>\n",
       "      <td>1919.000000</td>\n",
       "      <td>2.000000</td>\n",
       "      <td>153.00000</td>\n",
       "      <td>77.000000</td>\n",
       "      <td>66.000000</td>\n",
       "      <td>65.000000</td>\n",
       "      <td>613.000000</td>\n",
       "      <td>5127.000000</td>\n",
       "      <td>1299.000000</td>\n",
       "      <td>193.000000</td>\n",
       "      <td>...</td>\n",
       "      <td>1288.000000</td>\n",
       "      <td>46.000000</td>\n",
       "      <td>427.000000</td>\n",
       "      <td>501.000000</td>\n",
       "      <td>116.000000</td>\n",
       "      <td>126.000000</td>\n",
       "      <td>0.960000</td>\n",
       "      <td>5.287162e+05</td>\n",
       "      <td>97.000000</td>\n",
       "      <td>97.000000</td>\n",
       "    </tr>\n",
       "    <tr>\n",
       "      <th>50%</th>\n",
       "      <td>1963.000000</td>\n",
       "      <td>4.000000</td>\n",
       "      <td>157.00000</td>\n",
       "      <td>81.000000</td>\n",
       "      <td>77.000000</td>\n",
       "      <td>76.000000</td>\n",
       "      <td>690.000000</td>\n",
       "      <td>5389.000000</td>\n",
       "      <td>1393.000000</td>\n",
       "      <td>231.000000</td>\n",
       "      <td>...</td>\n",
       "      <td>1392.000000</td>\n",
       "      <td>109.000000</td>\n",
       "      <td>494.000000</td>\n",
       "      <td>735.000000</td>\n",
       "      <td>145.000000</td>\n",
       "      <td>145.000000</td>\n",
       "      <td>0.970000</td>\n",
       "      <td>1.140348e+06</td>\n",
       "      <td>100.000000</td>\n",
       "      <td>100.000000</td>\n",
       "    </tr>\n",
       "    <tr>\n",
       "      <th>75%</th>\n",
       "      <td>1992.000000</td>\n",
       "      <td>6.000000</td>\n",
       "      <td>162.00000</td>\n",
       "      <td>81.000000</td>\n",
       "      <td>87.000000</td>\n",
       "      <td>87.000000</td>\n",
       "      <td>763.000000</td>\n",
       "      <td>5517.000000</td>\n",
       "      <td>1467.000000</td>\n",
       "      <td>270.000000</td>\n",
       "      <td>...</td>\n",
       "      <td>1470.000000</td>\n",
       "      <td>148.000000</td>\n",
       "      <td>555.000000</td>\n",
       "      <td>965.000000</td>\n",
       "      <td>217.000000</td>\n",
       "      <td>159.250000</td>\n",
       "      <td>0.980000</td>\n",
       "      <td>2.014687e+06</td>\n",
       "      <td>103.000000</td>\n",
       "      <td>103.000000</td>\n",
       "    </tr>\n",
       "    <tr>\n",
       "      <th>max</th>\n",
       "      <td>2015.000000</td>\n",
       "      <td>13.000000</td>\n",
       "      <td>165.00000</td>\n",
       "      <td>84.000000</td>\n",
       "      <td>116.000000</td>\n",
       "      <td>134.000000</td>\n",
       "      <td>1220.000000</td>\n",
       "      <td>5781.000000</td>\n",
       "      <td>1783.000000</td>\n",
       "      <td>376.000000</td>\n",
       "      <td>...</td>\n",
       "      <td>1993.000000</td>\n",
       "      <td>241.000000</td>\n",
       "      <td>827.000000</td>\n",
       "      <td>1450.000000</td>\n",
       "      <td>639.000000</td>\n",
       "      <td>217.000000</td>\n",
       "      <td>0.991000</td>\n",
       "      <td>4.483350e+06</td>\n",
       "      <td>129.000000</td>\n",
       "      <td>141.000000</td>\n",
       "    </tr>\n",
       "  </tbody>\n",
       "</table>\n",
       "<p>8 rows × 35 columns</p>\n",
       "</div>"
      ],
      "text/plain": [
       "            yearID         Rank           G        Ghome            W  \\\n",
       "count  2805.000000  2805.000000  2805.00000  2406.000000  2805.000000   \n",
       "mean   1955.036720     4.107308   150.34795    78.465919    74.749020   \n",
       "std      41.519083     2.323414    23.22725     4.698684    17.640402   \n",
       "min    1871.000000     1.000000     6.00000    44.000000     0.000000   \n",
       "25%    1919.000000     2.000000   153.00000    77.000000    66.000000   \n",
       "50%    1963.000000     4.000000   157.00000    81.000000    77.000000   \n",
       "75%    1992.000000     6.000000   162.00000    81.000000    87.000000   \n",
       "max    2015.000000    13.000000   165.00000    84.000000   116.000000   \n",
       "\n",
       "                 L            R           AB            H           2B  ...  \\\n",
       "count  2805.000000  2805.000000  2805.000000  2805.000000  2805.000000  ...   \n",
       "mean     74.749020   681.945811  5142.492335  1346.273440   227.624955  ...   \n",
       "std      17.378079   135.738244   750.551691   219.891603    58.692602  ...   \n",
       "min       4.000000    24.000000   211.000000    33.000000     3.000000  ...   \n",
       "25%      65.000000   613.000000  5127.000000  1299.000000   193.000000  ...   \n",
       "50%      76.000000   690.000000  5389.000000  1393.000000   231.000000  ...   \n",
       "75%      87.000000   763.000000  5517.000000  1467.000000   270.000000  ...   \n",
       "max     134.000000  1220.000000  5781.000000  1783.000000   376.000000  ...   \n",
       "\n",
       "                HA          HRA          BBA          SOA            E  \\\n",
       "count  2805.000000  2805.000000  2805.000000  2805.000000  2805.000000   \n",
       "mean   1346.083779   101.136542   474.010695   731.229234   186.337255   \n",
       "std     219.521064    58.245002   131.890032   296.409881   107.657444   \n",
       "min      49.000000     0.000000     0.000000     0.000000    47.000000   \n",
       "25%    1288.000000    46.000000   427.000000   501.000000   116.000000   \n",
       "50%    1392.000000   109.000000   494.000000   735.000000   145.000000   \n",
       "75%    1470.000000   148.000000   555.000000   965.000000   217.000000   \n",
       "max    1993.000000   241.000000   827.000000  1450.000000   639.000000   \n",
       "\n",
       "                DP           FP    attendance          BPF          PPF  \n",
       "count  2488.000000  2805.000000  2.526000e+03  2805.000000  2805.000000  \n",
       "mean    140.186495     0.961519  1.344346e+06   100.199643   100.225668  \n",
       "std      29.322764     0.030224  9.469316e+05     4.882215     4.814985  \n",
       "min      18.000000     0.760000  6.088000e+03    60.000000    60.000000  \n",
       "25%     126.000000     0.960000  5.287162e+05    97.000000    97.000000  \n",
       "50%     145.000000     0.970000  1.140348e+06   100.000000   100.000000  \n",
       "75%     159.250000     0.980000  2.014687e+06   103.000000   103.000000  \n",
       "max     217.000000     0.991000  4.483350e+06   129.000000   141.000000  \n",
       "\n",
       "[8 rows x 35 columns]"
      ]
     },
     "execution_count": 5,
     "metadata": {},
     "output_type": "execute_result"
    }
   ],
   "source": [
    "data.describe()"
   ]
  },
  {
   "cell_type": "markdown",
   "metadata": {},
   "source": [
    "a. For all records since 1995, plot histograms for the following variables. Which distribution do they appear to follow? Consider what each variable is measuring along with the histogram's shape."
   ]
  },
  {
   "cell_type": "markdown",
   "metadata": {},
   "source": [
    "Selecting observsations with records after 1995"
   ]
  },
  {
   "cell_type": "code",
   "execution_count": 6,
   "metadata": {},
   "outputs": [],
   "source": [
    "data_1995 = data[data.yearID >= 1995]"
   ]
  },
  {
   "cell_type": "markdown",
   "metadata": {},
   "source": [
    " - Wins"
   ]
  },
  {
   "cell_type": "code",
   "execution_count": 7,
   "metadata": {
    "collapsed": true
   },
   "outputs": [
    {
     "data": {
      "image/png": "[encoded data removed]",
      "text/plain": [
       "<Figure size 432x288 with 1 Axes>"
      ]
     },
     "metadata": {
      "needs_background": "light"
     },
     "output_type": "display_data"
    }
   ],
   "source": [
    "plt.hist(data_1995['W'])\n",
    "plt.title('Wins')\n",
    "plt.show()"
   ]
  },
  {
   "cell_type": "markdown",
   "metadata": {},
   "source": [
    "The histogram seems to follow the Binomial Distribution"
   ]
  },
  {
   "cell_type": "markdown",
   "metadata": {},
   "source": [
    "- Stolen bases per game is equal to 'Stolen Bases' divided by 'Games'"
   ]
  },
  {
   "cell_type": "code",
   "execution_count": 66,
   "metadata": {
    "collapsed": true
   },
   "outputs": [
    {
     "name": "stderr",
     "output_type": "stream",
     "text": [
      "C:\\ProgramData\\Anaconda3\\lib\\site-packages\\ipykernel_launcher.py:3: SettingWithCopyWarning: \n",
      "A value is trying to be set on a copy of a slice from a DataFrame.\n",
      "Try using .loc[row_indexer,col_indexer] = value instead\n",
      "\n",
      "See the caveats in the documentation: https://pandas.pydata.org/pandas-docs/stable/user_guide/indexing.html#returning-a-view-versus-a-copy\n",
      "  This is separate from the ipykernel package so we can avoid doing imports until\n"
     ]
    }
   ],
   "source": [
    "#adding a new column with Stolen Bases per game\n",
    "                    #formula for getting SBG\n",
    "data_1995['SBG'] = data_1995['SB'] / data_1995['G'] "
   ]
  },
  {
   "cell_type": "markdown",
   "metadata": {},
   "source": [
    "Verifying the SBG is added as a new column"
   ]
  },
  {
   "cell_type": "code",
   "execution_count": 67,
   "metadata": {
    "collapsed": true
   },
   "outputs": [
    {
     "name": "stdout",
     "output_type": "stream",
     "text": [
      "<class 'pandas.core.frame.DataFrame'>\n",
      "Int64Index: 624 entries, 2181 to 2804\n",
      "Data columns (total 49 columns):\n",
      " #   Column          Non-Null Count  Dtype  \n",
      "---  ------          --------------  -----  \n",
      " 0   yearID          624 non-null    int64  \n",
      " 1   lgID            624 non-null    object \n",
      " 2   teamID          624 non-null    object \n",
      " 3   franchID        624 non-null    object \n",
      " 4   divID           624 non-null    object \n",
      " 5   Rank            624 non-null    int64  \n",
      " 6   G               624 non-null    int64  \n",
      " 7   Ghome           624 non-null    float64\n",
      " 8   W               624 non-null    int64  \n",
      " 9   L               624 non-null    int64  \n",
      " 10  DivWin          624 non-null    object \n",
      " 11  WCWin           624 non-null    object \n",
      " 12  LgWin           624 non-null    object \n",
      " 13  WSWin           624 non-null    object \n",
      " 14  R               624 non-null    int64  \n",
      " 15  AB              624 non-null    int64  \n",
      " 16  H               624 non-null    int64  \n",
      " 17  2B              624 non-null    int64  \n",
      " 18  3B              624 non-null    int64  \n",
      " 19  HR              624 non-null    int64  \n",
      " 20  BB              624 non-null    int64  \n",
      " 21  SO              624 non-null    float64\n",
      " 22  SB              624 non-null    float64\n",
      " 23  CS              624 non-null    float64\n",
      " 24  HBP             480 non-null    float64\n",
      " 25  SF              480 non-null    float64\n",
      " 26  RA              624 non-null    int64  \n",
      " 27  ER              624 non-null    int64  \n",
      " 28  ERA             624 non-null    float64\n",
      " 29  CG              624 non-null    int64  \n",
      " 30  SHO             624 non-null    int64  \n",
      " 31  SV              624 non-null    int64  \n",
      " 32  IPouts          624 non-null    int64  \n",
      " 33  HA              624 non-null    int64  \n",
      " 34  HRA             624 non-null    int64  \n",
      " 35  BBA             624 non-null    int64  \n",
      " 36  SOA             624 non-null    int64  \n",
      " 37  E               624 non-null    int64  \n",
      " 38  DP              624 non-null    float64\n",
      " 39  FP              624 non-null    float64\n",
      " 40  name            624 non-null    object \n",
      " 41  park            624 non-null    object \n",
      " 42  attendance      624 non-null    float64\n",
      " 43  BPF             624 non-null    int64  \n",
      " 44  PPF             624 non-null    int64  \n",
      " 45  teamIDBR        624 non-null    object \n",
      " 46  teamIDlahman45  624 non-null    object \n",
      " 47  teamIDretro     624 non-null    object \n",
      " 48  SBG             624 non-null    float64\n",
      "dtypes: float64(11), int64(25), object(13)\n",
      "memory usage: 263.8+ KB\n"
     ]
    }
   ],
   "source": [
    "data_1995.info()"
   ]
  },
  {
   "cell_type": "code",
   "execution_count": 68,
   "metadata": {},
   "outputs": [
    {
     "data": {
      "image/png": "[encoded data removed]",
      "text/plain": [
       "<Figure size 432x288 with 1 Axes>"
      ]
     },
     "metadata": {
      "needs_background": "light"
     },
     "output_type": "display_data"
    }
   ],
   "source": [
    "plt.hist(data_1995['SBG'])\n",
    "plt.title('Stolen bases per game')\n",
    "plt.show()"
   ]
  },
  {
   "cell_type": "markdown",
   "metadata": {},
   "source": [
    "The histogram seems to follow the Gamma Distribution as it is skewed slightly left"
   ]
  },
  {
   "cell_type": "markdown",
   "metadata": {},
   "source": [
    "- Earned run average"
   ]
  },
  {
   "cell_type": "code",
   "execution_count": 9,
   "metadata": {},
   "outputs": [
    {
     "data": {
      "image/png": "[encoded data removed]",
      "text/plain": [
       "<Figure size 432x288 with 1 Axes>"
      ]
     },
     "metadata": {
      "needs_background": "light"
     },
     "output_type": "display_data"
    }
   ],
   "source": [
    "plt.hist(data_1995['ERA'])\n",
    "plt.title('Earned Average Runs')\n",
    "plt.show()"
   ]
  },
  {
   "cell_type": "markdown",
   "metadata": {},
   "source": [
    "The histogram seems to follow the gamma distribution"
   ]
  },
  {
   "cell_type": "markdown",
   "metadata": {},
   "source": [
    "# Correlation \n",
    "\n",
    "correlations between wins, stolen bases per game and earned after 1995 "
   ]
  },
  {
   "cell_type": "code",
   "execution_count": 42,
   "metadata": {},
   "outputs": [
    {
     "data": {
      "text/html": [
       "<div>\n",
       "<style scoped>\n",
       "    .dataframe tbody tr th:only-of-type {\n",
       "        vertical-align: middle;\n",
       "    }\n",
       "\n",
       "    .dataframe tbody tr th {\n",
       "        vertical-align: top;\n",
       "    }\n",
       "\n",
       "    .dataframe thead th {\n",
       "        text-align: right;\n",
       "    }\n",
       "</style>\n",
       "<table border=\"1\" class=\"dataframe\">\n",
       "  <thead>\n",
       "    <tr style=\"text-align: right;\">\n",
       "      <th></th>\n",
       "      <th>W</th>\n",
       "      <th>SBG</th>\n",
       "      <th>ERA</th>\n",
       "    </tr>\n",
       "  </thead>\n",
       "  <tbody>\n",
       "    <tr>\n",
       "      <th>W</th>\n",
       "      <td>1.000000</td>\n",
       "      <td>0.044884</td>\n",
       "      <td>-0.598455</td>\n",
       "    </tr>\n",
       "    <tr>\n",
       "      <th>SBG</th>\n",
       "      <td>0.044884</td>\n",
       "      <td>1.000000</td>\n",
       "      <td>-0.015473</td>\n",
       "    </tr>\n",
       "    <tr>\n",
       "      <th>ERA</th>\n",
       "      <td>-0.598455</td>\n",
       "      <td>-0.015473</td>\n",
       "      <td>1.000000</td>\n",
       "    </tr>\n",
       "  </tbody>\n",
       "</table>\n",
       "</div>"
      ],
      "text/plain": [
       "            W       SBG       ERA\n",
       "W    1.000000  0.044884 -0.598455\n",
       "SBG  0.044884  1.000000 -0.015473\n",
       "ERA -0.598455 -0.015473  1.000000"
      ]
     },
     "execution_count": 42,
     "metadata": {},
     "output_type": "execute_result"
    }
   ],
   "source": [
    "#after 1995\n",
    "data_1995[['W','SBG','ERA']].corr()"
   ]
  },
  {
   "cell_type": "code",
   "execution_count": 11,
   "metadata": {},
   "outputs": [],
   "source": [
    "import seaborn as sns"
   ]
  },
  {
   "cell_type": "code",
   "execution_count": 43,
   "metadata": {
    "scrolled": true
   },
   "outputs": [
    {
     "data": {
      "text/plain": [
       "<matplotlib.axes._subplots.AxesSubplot at 0x27ffb98bd08>"
      ]
     },
     "execution_count": 43,
     "metadata": {},
     "output_type": "execute_result"
    },
    {
     "data": {
      "image/png": "[encoded data removed]",
      "text/plain": [
       "<Figure size 432x288 with 1 Axes>"
      ]
     },
     "metadata": {
      "needs_background": "light"
     },
     "output_type": "display_data"
    }
   ],
   "source": [
    "sns.scatterplot(x='SBG', y='ERA', hue='W', data=data_1995)"
   ]
  },
  {
   "cell_type": "markdown",
   "metadata": {},
   "source": [
    "Looking at the correlation, we see that the ability to win iw greater if the player can reduce their ERA or 'earned run average'"
   ]
  },
  {
   "cell_type": "code",
   "execution_count": 69,
   "metadata": {},
   "outputs": [
    {
     "data": {
      "image/png": "[encoded data removed]",
      "text/plain": [
       "<Figure size 432x432 with 3 Axes>"
      ]
     },
     "metadata": {
      "needs_background": "light"
     },
     "output_type": "display_data"
    }
   ],
   "source": [
    "sns.jointplot(x=\"W\", y=\"ERA\", data=data_1995);"
   ]
  },
  {
   "cell_type": "markdown",
   "metadata": {},
   "source": [
    "The joint plot valitates the first assumption of a negtive line by decreasing the era also increase chances of winning"
   ]
  },
  {
   "cell_type": "code",
   "execution_count": 70,
   "metadata": {
    "scrolled": true
   },
   "outputs": [
    {
     "data": {
      "text/plain": [
       "<seaborn.axisgrid.PairGrid at 0x27ffd840508>"
      ]
     },
     "execution_count": 70,
     "metadata": {},
     "output_type": "execute_result"
    },
    {
     "data": {
      "image/png": "[encoded data removed]",
      "text/plain": [
       "<Figure size 540x540 with 12 Axes>"
      ]
     },
     "metadata": {
      "needs_background": "light"
     },
     "output_type": "display_data"
    }
   ],
   "source": [
    "combined_data = data_1995[['W','ERA','SBG']]\n",
    "sns.pairplot(combined_data)"
   ]
  },
  {
   "cell_type": "markdown",
   "metadata": {},
   "source": [
    "# Choose any 2 variables"
   ]
  },
  {
   "cell_type": "markdown",
   "metadata": {},
   "source": [
    "choose any two of the variables from 3. Draw 1,000 samples, taking the mean of 100 observations each time. Plot the frequencies of the sample means. What distribution does this appear to follow?\n",
    "Hint: df['col'].sample(n=50) will draw 50 random observations from df['col']."
   ]
  },
  {
   "cell_type": "code",
   "execution_count": 15,
   "metadata": {
    "scrolled": true
   },
   "outputs": [
    {
     "name": "stdout",
     "output_type": "stream",
     "text": [
      "<class 'pandas.core.frame.DataFrame'>\n",
      "RangeIndex: 2805 entries, 0 to 2804\n",
      "Data columns (total 48 columns):\n",
      " #   Column          Non-Null Count  Dtype  \n",
      "---  ------          --------------  -----  \n",
      " 0   yearID          2805 non-null   int64  \n",
      " 1   lgID            2755 non-null   object \n",
      " 2   teamID          2805 non-null   object \n",
      " 3   franchID        2805 non-null   object \n",
      " 4   divID           1288 non-null   object \n",
      " 5   Rank            2805 non-null   int64  \n",
      " 6   G               2805 non-null   int64  \n",
      " 7   Ghome           2406 non-null   float64\n",
      " 8   W               2805 non-null   int64  \n",
      " 9   L               2805 non-null   int64  \n",
      " 10  DivWin          1260 non-null   object \n",
      " 11  WCWin           624 non-null    object \n",
      " 12  LgWin           2777 non-null   object \n",
      " 13  WSWin           2448 non-null   object \n",
      " 14  R               2805 non-null   int64  \n",
      " 15  AB              2805 non-null   int64  \n",
      " 16  H               2805 non-null   int64  \n",
      " 17  2B              2805 non-null   int64  \n",
      " 18  3B              2805 non-null   int64  \n",
      " 19  HR              2805 non-null   int64  \n",
      " 20  BB              2805 non-null   int64  \n",
      " 21  SO              2685 non-null   float64\n",
      " 22  SB              2661 non-null   float64\n",
      " 23  CS              1946 non-null   float64\n",
      " 24  HBP             480 non-null    float64\n",
      " 25  SF              480 non-null    float64\n",
      " 26  RA              2805 non-null   int64  \n",
      " 27  ER              2805 non-null   int64  \n",
      " 28  ERA             2805 non-null   float64\n",
      " 29  CG              2805 non-null   int64  \n",
      " 30  SHO             2805 non-null   int64  \n",
      " 31  SV              2805 non-null   int64  \n",
      " 32  IPouts          2805 non-null   int64  \n",
      " 33  HA              2805 non-null   int64  \n",
      " 34  HRA             2805 non-null   int64  \n",
      " 35  BBA             2805 non-null   int64  \n",
      " 36  SOA             2805 non-null   int64  \n",
      " 37  E               2805 non-null   int64  \n",
      " 38  DP              2488 non-null   float64\n",
      " 39  FP              2805 non-null   float64\n",
      " 40  name            2805 non-null   object \n",
      " 41  park            2771 non-null   object \n",
      " 42  attendance      2526 non-null   float64\n",
      " 43  BPF             2805 non-null   int64  \n",
      " 44  PPF             2805 non-null   int64  \n",
      " 45  teamIDBR        2805 non-null   object \n",
      " 46  teamIDlahman45  2805 non-null   object \n",
      " 47  teamIDretro     2805 non-null   object \n",
      "dtypes: float64(10), int64(25), object(13)\n",
      "memory usage: 1.0+ MB\n"
     ]
    }
   ],
   "source": [
    "data.info()"
   ]
  },
  {
   "cell_type": "markdown",
   "metadata": {},
   "source": [
    "# Selecting Earned Run Average or 'ERA' \n",
    "\n",
    "Drawing 1000 samples from the ERA column and identifying if any null values are present"
   ]
  },
  {
   "cell_type": "code",
   "execution_count": 71,
   "metadata": {},
   "outputs": [
    {
     "data": {
      "text/plain": [
       "0"
      ]
     },
     "execution_count": 71,
     "metadata": {},
     "output_type": "execute_result"
    }
   ],
   "source": [
    "#Drawing 1000 sample\n",
    "sample_ERA = data['ERA'].sample(n=1000)\n",
    "\n",
    "#Identifying Null values\n",
    "sample_ERA.isnull().sum()"
   ]
  },
  {
   "cell_type": "markdown",
   "metadata": {},
   "source": [
    "Viewing what the data looks like"
   ]
  },
  {
   "cell_type": "code",
   "execution_count": 17,
   "metadata": {},
   "outputs": [
    {
     "name": "stdout",
     "output_type": "stream",
     "text": [
      "2522    4.41\n",
      "1456    3.93\n",
      "2663    4.43\n",
      "2774    3.03\n",
      "963     3.54\n",
      "        ... \n",
      "752     3.74\n",
      "1603    3.59\n",
      "758     4.09\n",
      "2666    4.51\n",
      "448     3.76\n",
      "Name: ERA, Length: 1000, dtype: float64\n"
     ]
    }
   ],
   "source": [
    "print(sample_ERA)"
   ]
  },
  {
   "cell_type": "markdown",
   "metadata": {},
   "source": [
    "Creating a new list consisting of the means of 100 samples coming from the dataset sample_ERA"
   ]
  },
  {
   "cell_type": "code",
   "execution_count": 18,
   "metadata": {},
   "outputs": [],
   "source": [
    "df_ERA = []\n",
    "\n",
    "for x in sample_ERA:\n",
    "    era_ = sample_ERA.sample(n=100).mean()\n",
    "    #era_ = np.random.randint(x, size=100).mean()\n",
    "    df_ERA.append(era_)"
   ]
  },
  {
   "cell_type": "markdown",
   "metadata": {},
   "source": [
    "Plotting the histgram of the means collected randomly and added to df_ERA"
   ]
  },
  {
   "cell_type": "code",
   "execution_count": 77,
   "metadata": {
    "scrolled": true
   },
   "outputs": [
    {
     "data": {
      "image/png": "[encoded data removed]",
      "text/plain": [
       "<Figure size 432x288 with 1 Axes>"
      ]
     },
     "metadata": {
      "needs_background": "light"
     },
     "output_type": "display_data"
    }
   ],
   "source": [
    "plt.hist(df_ERA)\n",
    "plt.title('Earned Run Average')\n",
    "plt.show()"
   ]
  },
  {
   "cell_type": "markdown",
   "metadata": {},
   "source": [
    "# Selecting stolen bases or 'SBG' \n",
    "\n",
    "Identifying any null values present in the dataset"
   ]
  },
  {
   "cell_type": "code",
   "execution_count": 72,
   "metadata": {},
   "outputs": [
    {
     "data": {
      "text/plain": [
       "0"
      ]
     },
     "execution_count": 72,
     "metadata": {},
     "output_type": "execute_result"
    }
   ],
   "source": [
    "data_1995['SBG'].isnull().sum()"
   ]
  },
  {
   "cell_type": "markdown",
   "metadata": {},
   "source": [
    "Reassigning the SBG column to a different 1D list"
   ]
  },
  {
   "cell_type": "code",
   "execution_count": 73,
   "metadata": {},
   "outputs": [],
   "source": [
    "sample_SBG = data_1995['SBG']"
   ]
  },
  {
   "cell_type": "markdown",
   "metadata": {},
   "source": [
    "Viewing what the data looks like"
   ]
  },
  {
   "cell_type": "code",
   "execution_count": 58,
   "metadata": {
    "scrolled": false
   },
   "outputs": [
    {
     "name": "stdout",
     "output_type": "stream",
     "text": [
      "2181    0.506944\n",
      "2182    0.638889\n",
      "2183    0.687500\n",
      "2184    0.400000\n",
      "2185    0.758621\n",
      "          ...   \n",
      "2800    0.364198\n",
      "2801    0.574074\n",
      "2802    0.814815\n",
      "2803    0.506173\n",
      "2804    0.598765\n",
      "Name: SBG, Length: 624, dtype: float64\n"
     ]
    }
   ],
   "source": [
    "print(sample_SBG)"
   ]
  },
  {
   "cell_type": "markdown",
   "metadata": {},
   "source": [
    "Creating a new list consisting of the means of 100 samples coming from the dataset sample_SB"
   ]
  },
  {
   "cell_type": "code",
   "execution_count": 74,
   "metadata": {},
   "outputs": [
    {
     "data": {
      "text/plain": [
       "[0.6054203472483902,\n",
       " 0.5969917889332511,\n",
       " 0.605379656503345,\n",
       " 0.6164363401483682,\n",
       " 0.6141623371758632,\n",
       " 0.6383503793251392,\n",
       " 0.5798817074932202,\n",
       " 0.6351948427022889,\n",
       " 0.5873898703969503,\n",
       " 0.6444203230796878,\n",
       " 0.63034149640582,\n",
       " 0.6460705154292716,\n",
       " 0.6344994808521752,\n",
       " 0.6100521372381378,\n",
       " 0.5834584063686824,\n",
       " 0.6204903310229839,\n",
       " 0.6324016681085233,\n",
       " 0.6178373908689503,\n",
       " 0.620006283286936,\n",
       " 0.6581042884216508,\n",
       " 0.6312003480175548,\n",
       " 0.5942024580026669,\n",
       " 0.617137235420333,\n",
       " 0.578746046270775,\n",
       " 0.6035027991994123,\n",
       " 0.5957552487247628,\n",
       " 0.5924955664858357,\n",
       " 0.6148192548583211,\n",
       " 0.6292068230702706,\n",
       " 0.6074042736196822,\n",
       " 0.6310087364087706,\n",
       " 0.5997453039799445,\n",
       " 0.5884821946660486,\n",
       " 0.6288325672854322,\n",
       " 0.5978875536304298,\n",
       " 0.5790780585743418,\n",
       " 0.5972320543561763,\n",
       " 0.59589336586373,\n",
       " 0.5959150103754889,\n",
       " 0.6065729134633352,\n",
       " 0.6160029868067397,\n",
       " 0.6299019117194252,\n",
       " 0.6094064102573148,\n",
       " 0.6128220999821203,\n",
       " 0.615344529558264,\n",
       " 0.5757770210372304,\n",
       " 0.6284059558739473,\n",
       " 0.6106208143194118,\n",
       " 0.5940649184873756,\n",
       " 0.6413578865613124,\n",
       " 0.6153349957358537,\n",
       " 0.6215717617541169,\n",
       " 0.6458849808302998,\n",
       " 0.6117001383017149,\n",
       " 0.595528377526188,\n",
       " 0.6070394821717509,\n",
       " 0.6086289639024259,\n",
       " 0.6380106855373153,\n",
       " 0.6103473198173451,\n",
       " 0.5832749931596021,\n",
       " 0.5949973293877782,\n",
       " 0.6039712156816386,\n",
       " 0.5891344161500092,\n",
       " 0.6043941377332885,\n",
       " 0.6307307424631491,\n",
       " 0.5905269472962258,\n",
       " 0.6301384280532342,\n",
       " 0.6128934438366399,\n",
       " 0.611600548272866,\n",
       " 0.6291752121147853,\n",
       " 0.578443901091701,\n",
       " 0.6191081193992544,\n",
       " 0.616384591740631,\n",
       " 0.6373023717347759,\n",
       " 0.623535170813334,\n",
       " 0.5936140963869024,\n",
       " 0.6076863198205001,\n",
       " 0.6389107161106856,\n",
       " 0.6274996412917636,\n",
       " 0.6177562608700359,\n",
       " 0.6506474133637487,\n",
       " 0.6523664520338748,\n",
       " 0.5909082968862243,\n",
       " 0.6315482728537051,\n",
       " 0.5938736734425984,\n",
       " 0.6208633901433093,\n",
       " 0.5849305111580607,\n",
       " 0.6243780846297073,\n",
       " 0.5829038171658157,\n",
       " 0.6238433638153009,\n",
       " 0.6646432811242319,\n",
       " 0.6286857235113169,\n",
       " 0.6183444059509342,\n",
       " 0.6289042074262308,\n",
       " 0.6037732784004011,\n",
       " 0.5604430549498681,\n",
       " 0.6044454881252201,\n",
       " 0.6344723962207801,\n",
       " 0.5768428934107134,\n",
       " 0.5725858213004059,\n",
       " 0.591507644542954,\n",
       " 0.6029800958965688,\n",
       " 0.6056799935009125,\n",
       " 0.6054573791694245,\n",
       " 0.608434410509226,\n",
       " 0.5994735029444574,\n",
       " 0.6431686876215703,\n",
       " 0.6464628178351665,\n",
       " 0.6353513615129489,\n",
       " 0.6192245371840486,\n",
       " 0.6107729565626672,\n",
       " 0.6025550670655031,\n",
       " 0.6068803812298413,\n",
       " 0.646218700333631,\n",
       " 0.6319408097303313,\n",
       " 0.5958289297410397,\n",
       " 0.5857613341217859,\n",
       " 0.6264742088798331,\n",
       " 0.582958396783528,\n",
       " 0.6373639640176828,\n",
       " 0.6187277470303788,\n",
       " 0.57319327455925,\n",
       " 0.6134058813847046,\n",
       " 0.5840288172083986,\n",
       " 0.5939857786479888,\n",
       " 0.613518083129046,\n",
       " 0.6533825828893421,\n",
       " 0.5986993197172311,\n",
       " 0.6204894880257311,\n",
       " 0.6204081364671968,\n",
       " 0.601576156640007,\n",
       " 0.5956727224806222,\n",
       " 0.6175775206904288,\n",
       " 0.6259636798993138,\n",
       " 0.6195463286550641,\n",
       " 0.6298802861574045,\n",
       " 0.6285954002784048,\n",
       " 0.604911108570751,\n",
       " 0.6244623195130284,\n",
       " 0.6246144662680182,\n",
       " 0.6206823131103322,\n",
       " 0.6376383020186921,\n",
       " 0.6236553779985479,\n",
       " 0.6222325055803158,\n",
       " 0.6122579869158402,\n",
       " 0.606425618908986,\n",
       " 0.6167808511003208,\n",
       " 0.6324302582981565,\n",
       " 0.6383602188479157,\n",
       " 0.6073647819695098,\n",
       " 0.6171617640453886,\n",
       " 0.629386052035981,\n",
       " 0.599611892977457,\n",
       " 0.6033160115272568,\n",
       " 0.5942403370631854,\n",
       " 0.6212211613887444,\n",
       " 0.5854884900318131,\n",
       " 0.608937561571488,\n",
       " 0.620101267157427,\n",
       " 0.6356090920498382,\n",
       " 0.6214004404701925,\n",
       " 0.5956896204675438,\n",
       " 0.640364359949249,\n",
       " 0.6286180738731977,\n",
       " 0.6355987399108897,\n",
       " 0.6001011092464369,\n",
       " 0.6333940926281104,\n",
       " 0.5860410503941557,\n",
       " 0.6072753118218863,\n",
       " 0.6196800487184592,\n",
       " 0.6109899655355399,\n",
       " 0.617106694546874,\n",
       " 0.6110888982505859,\n",
       " 0.5843403370234411,\n",
       " 0.6300611690616534,\n",
       " 0.6099811304766516,\n",
       " 0.6043059998368637,\n",
       " 0.5952353828745867,\n",
       " 0.6090976909539192,\n",
       " 0.6083220328477953,\n",
       " 0.6200029493584998,\n",
       " 0.5923313136089878,\n",
       " 0.5954721288587214,\n",
       " 0.622656639372486,\n",
       " 0.6159986143277243,\n",
       " 0.6202448535650453,\n",
       " 0.611725933205939,\n",
       " 0.6068119914869715,\n",
       " 0.5864672710488817,\n",
       " 0.5970389684750738,\n",
       " 0.5961864060280861,\n",
       " 0.6206998051073137,\n",
       " 0.6373599605985464,\n",
       " 0.6302024116646193,\n",
       " 0.6107263228597747,\n",
       " 0.6285940089608847,\n",
       " 0.6178125463415428,\n",
       " 0.6109556907709193,\n",
       " 0.6372410869398132,\n",
       " 0.5889718092755569,\n",
       " 0.6129390201290598,\n",
       " 0.5978808314198308,\n",
       " 0.6101788516934604,\n",
       " 0.6398082584515189,\n",
       " 0.6087504781424655,\n",
       " 0.6204924172181286,\n",
       " 0.6254600802915641,\n",
       " 0.6106456359459115,\n",
       " 0.6317637231515375,\n",
       " 0.6005961857926656,\n",
       " 0.5867513877324654,\n",
       " 0.6066226258219124,\n",
       " 0.6256834559782953,\n",
       " 0.6103379343251087,\n",
       " 0.6264169536920603,\n",
       " 0.6012103730915243,\n",
       " 0.6015974135887067,\n",
       " 0.6486246088904131,\n",
       " 0.6112665847023898,\n",
       " 0.6259445474133775,\n",
       " 0.6257346800416618,\n",
       " 0.6024048470867625,\n",
       " 0.5735440553106931,\n",
       " 0.6090610970480044,\n",
       " 0.6484276815969268,\n",
       " 0.6233558914358351,\n",
       " 0.6118968900560101,\n",
       " 0.5914981422015808,\n",
       " 0.6063527292331371,\n",
       " 0.6349598287938512,\n",
       " 0.5944258601235463,\n",
       " 0.6365483933826338,\n",
       " 0.609484930447994,\n",
       " 0.627237819067679,\n",
       " 0.6402077968607316,\n",
       " 0.6279157980538079,\n",
       " 0.6331577519981938,\n",
       " 0.6268257394540625,\n",
       " 0.609198258470093,\n",
       " 0.6609070875005412,\n",
       " 0.5780572664762338,\n",
       " 0.6059931030565153,\n",
       " 0.611669539171402,\n",
       " 0.6015945757198983,\n",
       " 0.6190763174706672,\n",
       " 0.6385086372730145,\n",
       " 0.6240346467464812,\n",
       " 0.6559351723986735,\n",
       " 0.6285728610116342,\n",
       " 0.6165016864579526,\n",
       " 0.5997432113913174,\n",
       " 0.5673644004676666,\n",
       " 0.6207861287995435,\n",
       " 0.5884708781410413,\n",
       " 0.5942277640598418,\n",
       " 0.598940320786064,\n",
       " 0.6075993013186819,\n",
       " 0.6099103862475872,\n",
       " 0.6123067461890993,\n",
       " 0.6653360987715148,\n",
       " 0.6156536620250107,\n",
       " 0.5999306790452763,\n",
       " 0.6142049961241747,\n",
       " 0.5903652164386693,\n",
       " 0.6171735060728637,\n",
       " 0.6027780385557461,\n",
       " 0.6028761102217088,\n",
       " 0.6225129573182945,\n",
       " 0.6383215633516379,\n",
       " 0.634848009158103,\n",
       " 0.617349318308881,\n",
       " 0.5996382600909916,\n",
       " 0.6146099940016031,\n",
       " 0.6207694354327361,\n",
       " 0.6177861507665675,\n",
       " 0.6430966839996757,\n",
       " 0.6350856609969598,\n",
       " 0.6168731214861295,\n",
       " 0.6091740254168126,\n",
       " 0.6386428174517603,\n",
       " 0.5920161328735282,\n",
       " 0.6131907100564855,\n",
       " 0.605798425435495,\n",
       " 0.5808181929663596,\n",
       " 0.5852113297231997,\n",
       " 0.646691397520841,\n",
       " 0.6130692182230372,\n",
       " 0.6146114659139091,\n",
       " 0.65106954182491,\n",
       " 0.6107376331087386,\n",
       " 0.6388083884847753,\n",
       " 0.5994840420114379,\n",
       " 0.6310959377650495,\n",
       " 0.6008766802834665,\n",
       " 0.5978071676418742,\n",
       " 0.6248759377148346,\n",
       " 0.6230551647987962,\n",
       " 0.6159772002061343,\n",
       " 0.5814950292771619,\n",
       " 0.6300958432110916,\n",
       " 0.6175644151579954,\n",
       " 0.6157740673821074,\n",
       " 0.5976989503653569,\n",
       " 0.602562970701652,\n",
       " 0.6152087749155413,\n",
       " 0.6244942122720086,\n",
       " 0.5915560048391423,\n",
       " 0.5952081127145877,\n",
       " 0.6022615577132069,\n",
       " 0.6151373884887822,\n",
       " 0.5923233072779351,\n",
       " 0.6294393752522413,\n",
       " 0.6036717821783839,\n",
       " 0.6141267506726074,\n",
       " 0.6074546326165475,\n",
       " 0.5687857371421817,\n",
       " 0.6310538954161697,\n",
       " 0.6240218067557585,\n",
       " 0.6244669026115208,\n",
       " 0.6187342548274181,\n",
       " 0.6264131379205224,\n",
       " 0.6095148480861164,\n",
       " 0.6234618886774195,\n",
       " 0.6095990926701736,\n",
       " 0.6025789525648932,\n",
       " 0.5977441961498556,\n",
       " 0.6170236307577376,\n",
       " 0.5845918473997741,\n",
       " 0.5849296314408121,\n",
       " 0.6175606913754309,\n",
       " 0.6431683887622519,\n",
       " 0.5921572721470757,\n",
       " 0.6332358023280045,\n",
       " 0.6145605443800806,\n",
       " 0.6381325204226044,\n",
       " 0.6077110251740264,\n",
       " 0.6355591488453028,\n",
       " 0.5987000016582905,\n",
       " 0.6097618987594935,\n",
       " 0.6338915215721255,\n",
       " 0.6398463317437265,\n",
       " 0.5974414452907607,\n",
       " 0.6035133757191421,\n",
       " 0.5893480238631454,\n",
       " 0.6213451719562525,\n",
       " 0.6260185738865722,\n",
       " 0.6130727075883294,\n",
       " 0.613145770689338,\n",
       " 0.6231731883146707,\n",
       " 0.6284998482209138,\n",
       " 0.6335221194199699,\n",
       " 0.6333818116082831,\n",
       " 0.6254534081536666,\n",
       " 0.5867934744385687,\n",
       " 0.60386558160573,\n",
       " 0.6114149311656536,\n",
       " 0.6026669350060988,\n",
       " 0.6335285524131821,\n",
       " 0.573314509282185,\n",
       " 0.6168273163805593,\n",
       " 0.6156865367910475,\n",
       " 0.6098819999854165,\n",
       " 0.6128513949986901,\n",
       " 0.6026166659301894,\n",
       " 0.6052405727683595,\n",
       " 0.5902732396501784,\n",
       " 0.6024659706227568,\n",
       " 0.6250083296756853,\n",
       " 0.6177870364652128,\n",
       " 0.5960025650961566,\n",
       " 0.6243052124893503,\n",
       " 0.6159162851604837,\n",
       " 0.5835807173506118,\n",
       " 0.6078252025143418,\n",
       " 0.6009596983063797,\n",
       " 0.6202452617582207,\n",
       " 0.6154384602830855,\n",
       " 0.6465260462754795,\n",
       " 0.6038147812961765,\n",
       " 0.6377156740064088,\n",
       " 0.6102573702193602,\n",
       " 0.6173264822412372,\n",
       " 0.596138806388022,\n",
       " 0.622148212539217,\n",
       " 0.6103933112322015,\n",
       " 0.6041321077743014,\n",
       " 0.6050143692639024,\n",
       " 0.6268438424590734,\n",
       " 0.6178775442410745,\n",
       " 0.6004968637301437,\n",
       " 0.6320758909989371,\n",
       " 0.61892777933022,\n",
       " 0.6226360901413807,\n",
       " 0.5814737110378169,\n",
       " 0.5970118810656669,\n",
       " 0.608684527605464,\n",
       " 0.624774075849974,\n",
       " 0.6433294545594492,\n",
       " 0.6104759292092518,\n",
       " 0.6034718237597453,\n",
       " 0.5973953166464613,\n",
       " 0.5996786254461464,\n",
       " 0.5830189567306134,\n",
       " 0.5759746410492452,\n",
       " 0.5988211747300956,\n",
       " 0.6278625584694423,\n",
       " 0.6190862221269509,\n",
       " 0.5991199597396742,\n",
       " 0.6154348994065716,\n",
       " 0.6171955182169685,\n",
       " 0.6013526867194183,\n",
       " 0.6298060989853532,\n",
       " 0.640942110034508,\n",
       " 0.6081394665267585,\n",
       " 0.6088145412939246,\n",
       " 0.6382476761381137,\n",
       " 0.578879513565514,\n",
       " 0.6075935733524157,\n",
       " 0.6101102333932202,\n",
       " 0.6056274042272528,\n",
       " 0.6523165327920482,\n",
       " 0.6198609665105288,\n",
       " 0.6161094304342619,\n",
       " 0.6207415020579107,\n",
       " 0.5952731092782884,\n",
       " 0.5863192623756285,\n",
       " 0.6066702704398597,\n",
       " 0.6167271917167,\n",
       " 0.5998158965054027,\n",
       " 0.6215173561274188,\n",
       " 0.6136313933730864,\n",
       " 0.5972943750050996,\n",
       " 0.6376315817625564,\n",
       " 0.6219036004727858,\n",
       " 0.5769278156714805,\n",
       " 0.6215529687581793,\n",
       " 0.6137001583726264,\n",
       " 0.6036980040650463,\n",
       " 0.5846274466068573,\n",
       " 0.5914559246957329,\n",
       " 0.613800692824377,\n",
       " 0.6022346262703521,\n",
       " 0.6291172010948949,\n",
       " 0.6302148359491985,\n",
       " 0.6222156958513148,\n",
       " 0.6153491409967023,\n",
       " 0.6266441014444658,\n",
       " 0.6084233123541941,\n",
       " 0.6251114918122788,\n",
       " 0.5727486154450123,\n",
       " 0.5915631940416329,\n",
       " 0.5946741099375977,\n",
       " 0.6093371136477075,\n",
       " 0.6216030162423091,\n",
       " 0.6139971428169123,\n",
       " 0.6095907858953958,\n",
       " 0.5832569070555695,\n",
       " 0.6238098003839155,\n",
       " 0.6328129044288353,\n",
       " 0.5982553771923158,\n",
       " 0.6086527321453855,\n",
       " 0.6183551254261777,\n",
       " 0.6314407918111418,\n",
       " 0.6404870454152775,\n",
       " 0.5905903049749185,\n",
       " 0.5796838716661888,\n",
       " 0.6259377945229838,\n",
       " 0.622920832680602,\n",
       " 0.5975385496685066,\n",
       " 0.6188533065019572,\n",
       " 0.6395289716881586,\n",
       " 0.5820546494086678,\n",
       " 0.6170927105120955,\n",
       " 0.6288862261139043,\n",
       " 0.6348661451142668,\n",
       " 0.6172206420404561,\n",
       " 0.5775722887817625,\n",
       " 0.6039369440924683,\n",
       " 0.6014393003919212,\n",
       " 0.6117305334920586,\n",
       " 0.6294632063553218,\n",
       " 0.6187952207778834,\n",
       " 0.5999462322815774,\n",
       " 0.6006818925964033,\n",
       " 0.645327281471171,\n",
       " 0.6539960370972531,\n",
       " 0.6281622785050653,\n",
       " 0.608636417934604,\n",
       " 0.5803415796569528,\n",
       " 0.6095736092985092,\n",
       " 0.6464942435155162,\n",
       " 0.5905662000678009,\n",
       " 0.5997636195657162,\n",
       " 0.6127184212856728,\n",
       " 0.6117879300441317,\n",
       " 0.5984082156952816,\n",
       " 0.5826604907693197,\n",
       " 0.6707744036431975,\n",
       " 0.6334192204949235,\n",
       " 0.5983821793777782,\n",
       " 0.6165054022210663,\n",
       " 0.6249608237255898,\n",
       " 0.6045286885438703,\n",
       " 0.6149626642516702,\n",
       " 0.6335605618896658,\n",
       " 0.6149037643921567,\n",
       " 0.6097461795220642,\n",
       " 0.5972351201355045,\n",
       " 0.588774580983764,\n",
       " 0.5922697187209945,\n",
       " 0.6330998696674481,\n",
       " 0.5839829588846392,\n",
       " 0.6019316805043287,\n",
       " 0.6157586492950655,\n",
       " 0.5897142852724074,\n",
       " 0.618161165312879,\n",
       " 0.6436610888712007,\n",
       " 0.5898374762861692,\n",
       " 0.6157258217526339,\n",
       " 0.6440213663273373,\n",
       " 0.6206608997291528,\n",
       " 0.6225265859584568,\n",
       " 0.5677760403950167,\n",
       " 0.6243484855382869,\n",
       " 0.6080079884301124,\n",
       " 0.5914972596454879,\n",
       " 0.620014590503138,\n",
       " 0.5935685036620842,\n",
       " 0.5835756257518172,\n",
       " 0.6065783400558782,\n",
       " 0.64149615088421,\n",
       " 0.5886893004527534,\n",
       " 0.5840823655267505,\n",
       " 0.6032085963664389,\n",
       " 0.6197956245122156,\n",
       " 0.5803784959939933,\n",
       " 0.6404390469176096,\n",
       " 0.6157016577142498,\n",
       " 0.5905370893634718,\n",
       " 0.6030878715379872,\n",
       " 0.6114444623960782,\n",
       " 0.6013665922317671,\n",
       " 0.6141139432758708,\n",
       " 0.6058548434785432,\n",
       " 0.5992153412530352,\n",
       " 0.6608157387272374,\n",
       " 0.6233183002827798,\n",
       " 0.6224074515437767,\n",
       " 0.6174524444025754,\n",
       " 0.6291888865837475,\n",
       " 0.5955631210445275,\n",
       " 0.6174594303924905,\n",
       " 0.6054303331138663,\n",
       " 0.6153658643642927,\n",
       " 0.5728405126140632,\n",
       " 0.5954859811528812,\n",
       " 0.623654522576459,\n",
       " 0.623508409414762,\n",
       " 0.608026363761671,\n",
       " 0.6039760188863111,\n",
       " 0.6030505745094638,\n",
       " 0.5810523679918406,\n",
       " 0.6343779878631952,\n",
       " 0.589756410736674,\n",
       " 0.6033953151337631,\n",
       " 0.5985704544727506,\n",
       " 0.6064064994051325,\n",
       " 0.6229175446197761,\n",
       " 0.6428070810064341,\n",
       " 0.6013939549664742,\n",
       " 0.6243110006030675,\n",
       " 0.6345267026909912,\n",
       " 0.6133940829253468,\n",
       " 0.6228861091352756,\n",
       " 0.634677941160559,\n",
       " 0.6442369567216751,\n",
       " 0.6182386352410026,\n",
       " 0.6039283029854406,\n",
       " 0.6060921531456009,\n",
       " 0.6370812539590721,\n",
       " 0.6331295494201157,\n",
       " 0.6093665444824089,\n",
       " 0.6214681378291117,\n",
       " 0.6147388733738427,\n",
       " 0.6112961851349865,\n",
       " 0.5753552275903793,\n",
       " 0.5906455907348368,\n",
       " 0.5861900244063952,\n",
       " 0.580087315422611,\n",
       " 0.6077982217545107,\n",
       " 0.6332177425443962,\n",
       " 0.65870528819443,\n",
       " 0.6266789593059315,\n",
       " 0.6300109335369962,\n",
       " 0.6036062364608424,\n",
       " 0.6195709502545769,\n",
       " 0.6235520180249331,\n",
       " 0.6284930770486475,\n",
       " 0.5960031343455255,\n",
       " 0.6034392572293237,\n",
       " 0.5848142776345298,\n",
       " 0.6137324374703615,\n",
       " 0.616020823365949,\n",
       " 0.6250161729357024,\n",
       " 0.6096851509020864,\n",
       " 0.6107159791862109,\n",
       " 0.637156207537198,\n",
       " 0.6394270708703008,\n",
       " 0.6110018139278546,\n",
       " 0.6597188408546727,\n",
       " 0.5955101569119197,\n",
       " 0.6063033143347336,\n",
       " 0.5967656404435655,\n",
       " 0.6036443518977193,\n",
       " 0.6012655435335372,\n",
       " 0.6199965257211364,\n",
       " 0.5909938969190057,\n",
       " 0.6255573973494307,\n",
       " 0.6001486026227643,\n",
       " 0.6127013605538991,\n",
       " 0.6477318129392954,\n",
       " 0.6048489759526702,\n",
       " 0.6119457804430308,\n",
       " 0.6525572494999458]"
      ]
     },
     "execution_count": 74,
     "metadata": {},
     "output_type": "execute_result"
    }
   ],
   "source": [
    "df_SBG = []\n",
    "\n",
    "for x in sample_SBG:\n",
    "    sbg_ = sample_SBG.sample(n=100).mean()\n",
    "    df_SBG.append(sbg_)\n",
    "\n",
    "df_SBG"
   ]
  },
  {
   "cell_type": "markdown",
   "metadata": {},
   "source": [
    "Plotting the histgram of the means collected randomly and added to df_SB"
   ]
  },
  {
   "cell_type": "code",
   "execution_count": 76,
   "metadata": {
    "scrolled": false
   },
   "outputs": [
    {
     "data": {
      "image/png": "[encoded data removed]",
      "text/plain": [
       "<Figure size 432x288 with 1 Axes>"
      ]
     },
     "metadata": {
      "needs_background": "light"
     },
     "output_type": "display_data"
    }
   ],
   "source": [
    "plt.hist(df_SBG)\n",
    "plt.title('Stolen Bases per Game')\n",
    "plt.show()"
   ]
  },
  {
   "cell_type": "markdown",
   "metadata": {},
   "source": [
    "Both 'Stolen Bases' and 'Earned Run Average' seems to follow the Normal Distribution."
   ]
  },
  {
   "cell_type": "code",
   "execution_count": null,
   "metadata": {},
   "outputs": [],
   "source": []
  }
 ],
 "metadata": {
  "kernelspec": {
   "display_name": "Python 3",
   "language": "python",
   "name": "python3"
  },
  "language_info": {
   "codemirror_mode": {
    "name": "ipython",
    "version": 3
   },
   "file_extension": ".py",
   "mimetype": "text/x-python",
   "name": "python",
   "nbconvert_exporter": "python",
   "pygments_lexer": "ipython3",
   "version": "3.7.7"
  }
 },
 "nbformat": 4,
 "nbformat_minor": 4
}
