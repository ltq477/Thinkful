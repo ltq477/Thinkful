{
 "cells": [
  {
   "cell_type": "markdown",
   "metadata": {},
   "source": [
    "# What is Dask?\n",
    "\n",
    "[Dask](https://dask.org/) is a **graph execution engine** that can parallelize computational tasks across the cores of a CPU or across the computers in a cluster in an efficient manner. Moreover, it enables working with data that doesn't fit into the memory. Dask is an open-source project and it already has a proven track record in running on several hundred machine clusters.\n",
    "\n",
    "![dask logo](dask_logo.svg)\n",
    "\n",
    "That being said, we don't need to run Dask on a cluster of many computers. As we'll be doing in this module, we can also install Dask into our personal computers and still make use of its capabilities. Our focus in this module will be on using Dask on our computers. Yet, transforming the Dask codes written for a single computer to something that can run on multiple computers requires only a few modifications. Hence, the concepts and techniques we'll learn throughout this module are perfectly applicable to real-world scenarios where task parallelization on a cluster of several machines is needed."
   ]
  },
  {
   "cell_type": "markdown",
   "metadata": {},
   "source": [
    "## Why is Dask useful?\n",
    "\n",
    "So far in this course, you've written code using Pandas, NumPy, and Scikit-learn. With Dask, we'll address three problems that you've most likely come across before:\n",
    "\n",
    "* You attempted to load a very large dataset into a Pandas dataframe, but you couldn't! This is because, both Pandas and NumPy work on the data that lives in the memory (RAM) of your computer. If the data you want to analyze is larger than the capacity of your RAM, you simply can't load that data into a Pandas dataframe or NumPy array.\n",
    "\n",
    "* Even though you were able to load a large dataset into a dataframe, some operations took a lot of time.\n",
    "\n",
    "* You tried to train a machine learning model on a large dataset, but you were disappointed by the never-ending training. One solution to this problem is to run your code across several cores in parallel and Scikit-learn offers single machine parallelization. However, Scikit-learn alone can't scale this parallelization to more than one computer.\n",
    "\n",
    "Using Dask:\n",
    "\n",
    "* We can work on datasets that don't fit into our computer's memory.\n",
    "* We can parallelize Pandas and NumPy functions and methods.\n",
    "* We can speed up machine learning processes.\n",
    "\n",
    "In the rest of this module, we'll talk about how we achieve these using Dask one by one. Before that, we want to talk about the basics of Dask."
   ]
  },
  {
   "cell_type": "markdown",
   "metadata": {},
   "source": [
    "## Basic properties of Dask\n",
    "\n",
    "Throughout this module, we'll be using Dask with its high-level abstractions. The main abstractions of Dask work almost the same with the high-level abstractions we get used to:\n",
    "\n",
    "* Dask dataframes offer us many of the Pandas dataframe operations with a similar set of functions and methods.\n",
    "* Dask arrays also offer us many of the NumPy array functionalities using a similar set of functions and methods.\n",
    "* Dask bags mimics the functionalities of plain old Python lists.\n",
    "\n",
    "All these structures that are offered by Dask enable us to run our code in parallel. Therefore, their familiar apis give us a jump start in using them. Behind the curtain, all these abstractions use low level features that are optimized to be run on multiple cores or even multiple machines. As an example, the image below shows us how Dask dataframe compares to Pandas dataframe:\n",
    "\n",
    "<img src=\"dask_dataframe.svg\" width=\"30%\" alt=\"Dask dataframes are blocked Pandas dataframes\">\n",
    "     \n",
    "\n",
    "As we see, the Dask dataframe actually consists of several Pandas dataframes. So, when we create a Dask dataframe and load some data to it, Dask actually creates a bunch of Pandas dataframes on the background. Each of these dataframes operate in the memory as usual. However, the Dask dataframe coordinates these inner Pandas dataframes so that Dask dataframes can handle very large data even though the data doesn't fit into the memory. We'll talk more about Dask dataframes in the following checkpoint.\n",
    "\n",
    "A similar thing is also the case for the Dask arrays:\n",
    "\n",
    "![](dask_array.svg)\n",
    "\n",
    "Dask is a Python library and prioritizes supporting the existing popular packages like NumPy, Pandas, and Scikit-learn. In doing so, it designs its own apis to mimic the apis of these packages. That's why adopting Dask is easier than adopting other big data tools in the market.\n",
    "\n",
    "Next, let's see how we can install Dask and then how Dask parallelize tasks."
   ]
  },
  {
   "cell_type": "markdown",
   "metadata": {},
   "source": [
    "# Installation\n",
    "\n",
    "As usual, we'll use `pip` package to install Dask. Dask is comprised of several sub-packages and we can choose to install only some of them. However, the easiest is to install Dask and all of its subpackages altogether. The following command would install Dask when you run it in your terminal (or command prompt):\n",
    "\n",
    "```bash\n",
    "pip install --upgrade \"dask[complete]\"\n",
    "```\n",
    "\n",
    "You can also do the same thing using jupyter notebook. In this case, you need to run the following code in a jupyter notebook cell:\n",
    "\n",
    "```bash\n",
    "!pip install --upgrade \"dask[complete]\"\n",
    "```\n",
    "\n",
    "And that's all. You can check your installation by opening a new notebook and running the following code by yourself:\n",
    "\n",
    "```python\n",
    "\n",
    "from dask import delayed\n",
    "\n",
    "@delayed\n",
    "def sum(x, y):\n",
    "    return x + y\n",
    "\n",
    "@delayed\n",
    "def sum_and_squared(x, y):\n",
    "    return (x+y)**2\n",
    "\n",
    "result1 = sum(3,5)\n",
    "result2 = sum(2,4)\n",
    "result = sum_and_squared(result1,result2\n",
    "                        )\n",
    "result.compute()\n",
    "```"
   ]
  },
  {
   "cell_type": "markdown",
   "metadata": {},
   "source": [
    "# How to use Dask\n",
    "\n",
    "After installing Dask, it suffices to import the Dask library and its modules. For example, if we want to use Dask dataframes, then we can import it as follows:\n",
    "\n",
    "```python\n",
    "# Dataframes implement the Pandas API\n",
    "import dask.dataframe as dd\n",
    "\n",
    "# This loads the data into Dask dataframe\n",
    "df = dd.read_csv('path to a csv file here')\n",
    "```\n",
    "\n",
    "Dask also offers a dashboard to monitor the execution of its workers and tasks. To be able to use that, we'll be using the following code in our examples:\n",
    "\n",
    "```python\n",
    "from dask.distributed import Client, progress\n",
    "\n",
    "client = Client(n_workers=4, threads_per_worker=2, memory_limit='2GB')\n",
    "client\n",
    "```\n",
    "\n",
    "This code creates a `Client` object by setting a configuration: For example, in the example above, we opened a client to Dask engine with four workers and two threads for each worker. Moreover, we set the memory limit to 2GB for each worker. Now, let's run the code above and see what happens:"
   ]
  },
  {
   "cell_type": "code",
   "execution_count": 1,
   "metadata": {
    "scrolled": true
   },
   "outputs": [
    {
     "data": {
      "text/html": [
       "<table style=\"border: 2px solid white;\">\n",
       "<tr>\n",
       "<td style=\"vertical-align: top; border: 0px solid white\">\n",
       "<h3 style=\"text-align: left;\">Client</h3>\n",
       "<ul style=\"text-align: left; list-style: none; margin: 0; padding: 0;\">\n",
       "  <li><b>Scheduler: </b>tcp://127.0.0.1:49621</li>\n",
       "  <li><b>Dashboard: </b><a href='http://127.0.0.1:8787/status' target='_blank'>http://127.0.0.1:8787/status</a>\n",
       "</ul>\n",
       "</td>\n",
       "<td style=\"vertical-align: top; border: 0px solid white\">\n",
       "<h3 style=\"text-align: left;\">Cluster</h3>\n",
       "<ul style=\"text-align: left; list-style:none; margin: 0; padding: 0;\">\n",
       "  <li><b>Workers: </b>4</li>\n",
       "  <li><b>Cores: </b>8</li>\n",
       "  <li><b>Memory: </b>8.00 GB</li>\n",
       "</ul>\n",
       "</td>\n",
       "</tr>\n",
       "</table>"
      ],
      "text/plain": [
       "<Client: 'tcp://127.0.0.1:49621' processes=4 threads=8, memory=8.00 GB>"
      ]
     },
     "execution_count": 1,
     "metadata": {},
     "output_type": "execute_result"
    }
   ],
   "source": [
    "import warnings\n",
    "warnings.filterwarnings(\"ignore\")\n",
    "\n",
    "from dask.distributed import Client, progress\n",
    "\n",
    "client = Client(n_workers=4, threads_per_worker=2, memory_limit='2GB')\n",
    "client"
   ]
  },
  {
   "cell_type": "markdown",
   "metadata": {},
   "source": [
    "As we see, a Dask client is created and a URL is provided. That URL points us to the Dask dashboard where we can monitor our codes executing. If we click on that, we'll see something like the following in the browser:\n",
    "\n",
    "![dask dashboard](dask_dashboard_initial.png)\n",
    "\n",
    "The dashboard includes many tabs where we can monitor the execution of the workers and threads as well as the status of the tasks. Now, we can talk about how Dask achieves parallelization."
   ]
  },
  {
   "cell_type": "markdown",
   "metadata": {},
   "source": [
    "# How does Dask parallelize tasks?\n",
    "\n",
    "The trick that happens under the hood when running a Dask code is that all the code we write with Dask structures are transformed into an **acyclic directed graph of tasks**. If you're familiar with TensorFlow, you may realize that this is also what TensorFlow does. Yet, we don't need to know the details of this inner working mechanism that runs your code in parallel. All we need to do is to write our code using Dask's data structures instead of Pandas and NumPy.\n",
    "\n",
    "That being said, we provide a high-level explanation of how Dask achieves parallelization below."
   ]
  },
  {
   "cell_type": "markdown",
   "metadata": {},
   "source": [
    "## What is lazy evaluation?\n",
    "\n",
    "An important behavior that we need to understand when using Dask is that it uses **lazy evaluation** in its execution strategy. Lazy evaluation means that our codes will not produce the results immediately after we write and run them. Instead, the real execution occurs when we need the value to be evaluated. Wikipedia defines lazy evaluation as follows:\n",
    "\n",
    "> \"...lazy evaluation, or call-by-need is an evaluation strategy which delays the evaluation of an expression until its value is needed (non-strict evaluation) and which also avoids repeated evaluations (sharing). The sharing can reduce the running time of certain functions by an exponential factor over other non-strict evaluation strategies, such as call-by-name.\" - [Wikipedia](https://en.wikipedia.org/wiki/Lazy_evaluation)\n",
    "\n",
    "As we'll see shortly when starting to write Dask code, we need to call `.compute()` method to evaluate the resulting values of Dask objects and operations. This is something different than we used to do when using Pandas dataframes or NumPy arrays. \n",
    "\n",
    "As an example, consider the following code:"
   ]
  },
  {
   "cell_type": "code",
   "execution_count": 39,
   "metadata": {},
   "outputs": [],
   "source": [
    "from dask import delayed\n",
    "\n",
    "@delayed\n",
    "def sum(x, y):\n",
    "    return x + y\n",
    "\n",
    "@delayed\n",
    "def sum_and_squared(x, y):\n",
    "    return (x+y)**2"
   ]
  },
  {
   "cell_type": "markdown",
   "metadata": {},
   "source": [
    "In the code above, we defined two functions: `sum` and `sum_and_squared`. The first function takes two numbers and returns their sum and the second function sums up two numbers and returns their squares. Notice that we decorated the two functions with `@delayed` decorator. It tells Dask to parallelize the computation if those two functions are called somewhere in the code. It's also the way to tell Dask that it should lazily evaluate the results of these functions.\n",
    "\n",
    "Next, let's use these two functions:"
   ]
  },
  {
   "cell_type": "code",
   "execution_count": 43,
   "metadata": {},
   "outputs": [
    {
     "data": {
      "text/plain": [
       "Delayed('sum_and_squared-51aefe8e-fa29-4642-ba7f-364cbab3993f')"
      ]
     },
     "execution_count": 43,
     "metadata": {},
     "output_type": "execute_result"
    }
   ],
   "source": [
    "result1 = sum(3,5)\n",
    "result2 = sum(2,4)\n",
    "result = sum_and_squared(result1,result2\n",
    "                        )\n",
    "result"
   ]
  },
  {
   "cell_type": "markdown",
   "metadata": {},
   "source": [
    "As we see, the result isn't 196 but an object of type `Delayed`. What happened is that Dask has just built up a task execution graph to infer how it can parallelize the operations. But, the evaluation of the `result` variable hasn't happened yet. **This is what we mean by lazy evaluation**. Let's have a look at the task graph Dask derived:"
   ]
  },
  {
   "cell_type": "code",
   "execution_count": 45,
   "metadata": {
    "scrolled": true
   },
   "outputs": [
    {
     "data": {
      "image/png": "[encoded data removed]",
      "text/plain": [
       "<IPython.core.display.Image object>"
      ]
     },
     "execution_count": 45,
     "metadata": {},
     "output_type": "execute_result"
    }
   ],
   "source": [
    "result.visualize()"
   ]
  },
  {
   "cell_type": "markdown",
   "metadata": {},
   "source": [
    "As we see, Dask first calls two `sum` functions separately and then combine their results to feed into `sum_and_squared` function. This means that the calls to the two `sum` functions can be parallelized.\n",
    "\n",
    "Now, let's evaluate the result. To this purpose, we just call the `.compute()` function as follows:"
   ]
  },
  {
   "cell_type": "code",
   "execution_count": 44,
   "metadata": {},
   "outputs": [
    {
     "data": {
      "text/plain": [
       "196"
      ]
     },
     "execution_count": 44,
     "metadata": {},
     "output_type": "execute_result"
    }
   ],
   "source": [
    "result.compute()"
   ]
  },
  {
   "cell_type": "markdown",
   "metadata": {},
   "source": [
    "And we got the result as expected. \n",
    "\n",
    "In the next checkpoint, we'll talk about how to use Dask dataframes instead of Pandas dataframes."
   ]
  }
 ],
 "metadata": {
  "kernelspec": {
   "display_name": "Python 3",
   "language": "python",
   "name": "python3"
  },
  "language_info": {
   "codemirror_mode": {
    "name": "ipython",
    "version": 3
   },
   "file_extension": ".py",
   "mimetype": "text/x-python",
   "name": "python",
   "nbconvert_exporter": "python",
   "pygments_lexer": "ipython3",
   "version": "3.7.7"
  },
  "latex_envs": {
   "LaTeX_envs_menu_present": true,
   "autoclose": false,
   "autocomplete": true,
   "bibliofile": "biblio.bib",
   "cite_by": "apalike",
   "current_citInitial": 1,
   "eqLabelWithNumbers": true,
   "eqNumInitial": 1,
   "hotkeys": {
    "equation": "Ctrl-E",
    "itemize": "Ctrl-I"
   },
   "labels_anchors": false,
   "latex_user_defs": false,
   "report_style_numbering": false,
   "user_envs_cfg": false
  },
  "varInspector": {
   "cols": {
    "lenName": 16,
    "lenType": 16,
    "lenVar": 40
   },
   "kernels_config": {
    "python": {
     "delete_cmd_postfix": "",
     "delete_cmd_prefix": "del ",
     "library": "var_list.py",
     "varRefreshCmd": "print(var_dic_list())"
    },
    "r": {
     "delete_cmd_postfix": ") ",
     "delete_cmd_prefix": "rm(",
     "library": "var_list.r",
     "varRefreshCmd": "cat(var_dic_list()) "
    }
   },
   "types_to_exclude": [
    "module",
    "function",
    "builtin_function_or_method",
    "instance",
    "_Feature"
   ],
   "window_display": false
  }
 },
 "nbformat": 4,
 "nbformat_minor": 2
}
